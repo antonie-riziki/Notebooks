{
 "cells": [
  {
   "cell_type": "markdown",
   "metadata": {},
   "source": [
    "Retail Stores Sales"
   ]
  },
  {
   "cell_type": "code",
   "execution_count": 185,
   "metadata": {},
   "outputs": [],
   "source": [
    "import pandas as pd\n",
    "import numpy as np\n",
    "import seaborn as sb\n",
    "import matplotlib.pyplot as plt\n",
    "import missingno as msno\n",
    "import autoreload\n",
    "import csv\n",
    "import sys\n",
    "import os\n",
    "\n",
    "from sklearn.tree import DecisionTreeRegressor, DecisionTreeClassifier\n",
    "from sklearn.model_selection import train_test_split\n",
    "from sklearn.preprocessing import LabelEncoder\n",
    "\n",
    "sb.set_style(\"darkgrid\")\n",
    "sb.set(font_scale = 1.2)\n",
    "\n",
    "pd.set_option(\"display.max_rows\", 10000)\n",
    "pd.set_option(\"display.max_columns\", 100)\n",
    "\n",
    "%matplotlib inline\n",
    "%reload_ext autoreload\n",
    "%autoreload 2"
   ]
  },
  {
   "cell_type": "code",
   "execution_count": 186,
   "metadata": {},
   "outputs": [
    {
     "data": {
      "text/html": [
       "<div>\n",
       "<style scoped>\n",
       "    .dataframe tbody tr th:only-of-type {\n",
       "        vertical-align: middle;\n",
       "    }\n",
       "\n",
       "    .dataframe tbody tr th {\n",
       "        vertical-align: top;\n",
       "    }\n",
       "\n",
       "    .dataframe thead th {\n",
       "        text-align: right;\n",
       "    }\n",
       "</style>\n",
       "<table border=\"1\" class=\"dataframe\">\n",
       "  <thead>\n",
       "    <tr style=\"text-align: right;\">\n",
       "      <th></th>\n",
       "      <th>Unnamed: 0</th>\n",
       "      <th>Date</th>\n",
       "      <th>Customer_ID</th>\n",
       "      <th>Transaction_ID</th>\n",
       "      <th>SKU_Category</th>\n",
       "      <th>SKU</th>\n",
       "      <th>Quantity</th>\n",
       "      <th>Sales_Amount</th>\n",
       "    </tr>\n",
       "  </thead>\n",
       "  <tbody>\n",
       "    <tr>\n",
       "      <th>0</th>\n",
       "      <td>1</td>\n",
       "      <td>2017-01-02</td>\n",
       "      <td>2547</td>\n",
       "      <td>1</td>\n",
       "      <td>X52</td>\n",
       "      <td>0EM7L</td>\n",
       "      <td>1.0</td>\n",
       "      <td>3.13</td>\n",
       "    </tr>\n",
       "    <tr>\n",
       "      <th>1</th>\n",
       "      <td>2</td>\n",
       "      <td>2017-01-02</td>\n",
       "      <td>822</td>\n",
       "      <td>2</td>\n",
       "      <td>2ML</td>\n",
       "      <td>68BRQ</td>\n",
       "      <td>1.0</td>\n",
       "      <td>5.46</td>\n",
       "    </tr>\n",
       "    <tr>\n",
       "      <th>2</th>\n",
       "      <td>3</td>\n",
       "      <td>2017-01-02</td>\n",
       "      <td>3686</td>\n",
       "      <td>3</td>\n",
       "      <td>0H2</td>\n",
       "      <td>CZUZX</td>\n",
       "      <td>1.0</td>\n",
       "      <td>6.35</td>\n",
       "    </tr>\n",
       "    <tr>\n",
       "      <th>3</th>\n",
       "      <td>4</td>\n",
       "      <td>2017-01-02</td>\n",
       "      <td>3719</td>\n",
       "      <td>4</td>\n",
       "      <td>0H2</td>\n",
       "      <td>549KK</td>\n",
       "      <td>1.0</td>\n",
       "      <td>5.59</td>\n",
       "    </tr>\n",
       "    <tr>\n",
       "      <th>4</th>\n",
       "      <td>5</td>\n",
       "      <td>2017-01-02</td>\n",
       "      <td>9200</td>\n",
       "      <td>5</td>\n",
       "      <td>0H2</td>\n",
       "      <td>K8EHH</td>\n",
       "      <td>1.0</td>\n",
       "      <td>6.88</td>\n",
       "    </tr>\n",
       "  </tbody>\n",
       "</table>\n",
       "</div>"
      ],
      "text/plain": [
       "   Unnamed: 0        Date  Customer_ID  Transaction_ID SKU_Category    SKU  \\\n",
       "0           1  2017-01-02         2547               1          X52  0EM7L   \n",
       "1           2  2017-01-02          822               2          2ML  68BRQ   \n",
       "2           3  2017-01-02         3686               3          0H2  CZUZX   \n",
       "3           4  2017-01-02         3719               4          0H2  549KK   \n",
       "4           5  2017-01-02         9200               5          0H2  K8EHH   \n",
       "\n",
       "   Quantity  Sales_Amount  \n",
       "0       1.0          3.13  \n",
       "1       1.0          5.46  \n",
       "2       1.0          6.35  \n",
       "3       1.0          5.59  \n",
       "4       1.0          6.88  "
      ]
     },
     "execution_count": 186,
     "metadata": {},
     "output_type": "execute_result"
    }
   ],
   "source": [
    "#dParser = lambda x: pd.datetime.strptime(x, format = \"%Y-%m-%d %I-%p\")\n",
    "df = pd.read_csv(r\"D:\\Open Classroom\\Datasets\\Retail Store Sales\\scanner_data.csv\")#, parse_dates = [\"Date\"], date_parser = dParser)\n",
    "df.head()"
   ]
  },
  {
   "cell_type": "code",
   "execution_count": 187,
   "metadata": {},
   "outputs": [],
   "source": [
    "df.drop(columns = [\"Unnamed: 0\"], inplace = True)"
   ]
  },
  {
   "cell_type": "code",
   "execution_count": 188,
   "metadata": {},
   "outputs": [
    {
     "data": {
      "text/html": [
       "<div>\n",
       "<style scoped>\n",
       "    .dataframe tbody tr th:only-of-type {\n",
       "        vertical-align: middle;\n",
       "    }\n",
       "\n",
       "    .dataframe tbody tr th {\n",
       "        vertical-align: top;\n",
       "    }\n",
       "\n",
       "    .dataframe thead th {\n",
       "        text-align: right;\n",
       "    }\n",
       "</style>\n",
       "<table border=\"1\" class=\"dataframe\">\n",
       "  <thead>\n",
       "    <tr style=\"text-align: right;\">\n",
       "      <th></th>\n",
       "      <th>Date</th>\n",
       "      <th>Customer_ID</th>\n",
       "      <th>Transaction_ID</th>\n",
       "      <th>SKU_Category</th>\n",
       "      <th>SKU</th>\n",
       "      <th>Quantity</th>\n",
       "      <th>Sales_Amount</th>\n",
       "    </tr>\n",
       "  </thead>\n",
       "  <tbody>\n",
       "    <tr>\n",
       "      <th>0</th>\n",
       "      <td>2017-01-02</td>\n",
       "      <td>2547</td>\n",
       "      <td>1</td>\n",
       "      <td>X52</td>\n",
       "      <td>0EM7L</td>\n",
       "      <td>1.0</td>\n",
       "      <td>3.13</td>\n",
       "    </tr>\n",
       "    <tr>\n",
       "      <th>1</th>\n",
       "      <td>2017-01-02</td>\n",
       "      <td>822</td>\n",
       "      <td>2</td>\n",
       "      <td>2ML</td>\n",
       "      <td>68BRQ</td>\n",
       "      <td>1.0</td>\n",
       "      <td>5.46</td>\n",
       "    </tr>\n",
       "    <tr>\n",
       "      <th>2</th>\n",
       "      <td>2017-01-02</td>\n",
       "      <td>3686</td>\n",
       "      <td>3</td>\n",
       "      <td>0H2</td>\n",
       "      <td>CZUZX</td>\n",
       "      <td>1.0</td>\n",
       "      <td>6.35</td>\n",
       "    </tr>\n",
       "    <tr>\n",
       "      <th>3</th>\n",
       "      <td>2017-01-02</td>\n",
       "      <td>3719</td>\n",
       "      <td>4</td>\n",
       "      <td>0H2</td>\n",
       "      <td>549KK</td>\n",
       "      <td>1.0</td>\n",
       "      <td>5.59</td>\n",
       "    </tr>\n",
       "    <tr>\n",
       "      <th>4</th>\n",
       "      <td>2017-01-02</td>\n",
       "      <td>9200</td>\n",
       "      <td>5</td>\n",
       "      <td>0H2</td>\n",
       "      <td>K8EHH</td>\n",
       "      <td>1.0</td>\n",
       "      <td>6.88</td>\n",
       "    </tr>\n",
       "  </tbody>\n",
       "</table>\n",
       "</div>"
      ],
      "text/plain": [
       "         Date  Customer_ID  Transaction_ID SKU_Category    SKU  Quantity  \\\n",
       "0  2017-01-02         2547               1          X52  0EM7L       1.0   \n",
       "1  2017-01-02          822               2          2ML  68BRQ       1.0   \n",
       "2  2017-01-02         3686               3          0H2  CZUZX       1.0   \n",
       "3  2017-01-02         3719               4          0H2  549KK       1.0   \n",
       "4  2017-01-02         9200               5          0H2  K8EHH       1.0   \n",
       "\n",
       "   Sales_Amount  \n",
       "0          3.13  \n",
       "1          5.46  \n",
       "2          6.35  \n",
       "3          5.59  \n",
       "4          6.88  "
      ]
     },
     "execution_count": 188,
     "metadata": {},
     "output_type": "execute_result"
    }
   ],
   "source": [
    "df.head()"
   ]
  },
  {
   "cell_type": "code",
   "execution_count": 189,
   "metadata": {},
   "outputs": [
    {
     "name": "stdout",
     "output_type": "stream",
     "text": [
      "<class 'pandas.core.frame.DataFrame'>\n",
      "RangeIndex: 131706 entries, 0 to 131705\n",
      "Data columns (total 7 columns):\n",
      " #   Column          Non-Null Count   Dtype  \n",
      "---  ------          --------------   -----  \n",
      " 0   Date            131706 non-null  object \n",
      " 1   Customer_ID     131706 non-null  int64  \n",
      " 2   Transaction_ID  131706 non-null  int64  \n",
      " 3   SKU_Category    131706 non-null  object \n",
      " 4   SKU             131706 non-null  object \n",
      " 5   Quantity        131706 non-null  float64\n",
      " 6   Sales_Amount    131706 non-null  float64\n",
      "dtypes: float64(2), int64(2), object(3)\n",
      "memory usage: 7.0+ MB\n"
     ]
    }
   ],
   "source": [
    "df.info()"
   ]
  },
  {
   "cell_type": "code",
   "execution_count": 190,
   "metadata": {},
   "outputs": [
    {
     "data": {
      "text/plain": [
       "(131706, 7)"
      ]
     },
     "execution_count": 190,
     "metadata": {},
     "output_type": "execute_result"
    }
   ],
   "source": [
    "df.shape"
   ]
  },
  {
   "cell_type": "code",
   "execution_count": 191,
   "metadata": {},
   "outputs": [
    {
     "data": {
      "text/html": [
       "<div>\n",
       "<style scoped>\n",
       "    .dataframe tbody tr th:only-of-type {\n",
       "        vertical-align: middle;\n",
       "    }\n",
       "\n",
       "    .dataframe tbody tr th {\n",
       "        vertical-align: top;\n",
       "    }\n",
       "\n",
       "    .dataframe thead th {\n",
       "        text-align: right;\n",
       "    }\n",
       "</style>\n",
       "<table border=\"1\" class=\"dataframe\">\n",
       "  <thead>\n",
       "    <tr style=\"text-align: right;\">\n",
       "      <th></th>\n",
       "      <th>Customer_ID</th>\n",
       "      <th>Transaction_ID</th>\n",
       "      <th>Quantity</th>\n",
       "      <th>Sales_Amount</th>\n",
       "    </tr>\n",
       "  </thead>\n",
       "  <tbody>\n",
       "    <tr>\n",
       "      <th>count</th>\n",
       "      <td>131706.0</td>\n",
       "      <td>131706.0</td>\n",
       "      <td>131706.0</td>\n",
       "      <td>131706.0</td>\n",
       "    </tr>\n",
       "    <tr>\n",
       "      <th>mean</th>\n",
       "      <td>12386.0</td>\n",
       "      <td>32390.0</td>\n",
       "      <td>1.0</td>\n",
       "      <td>12.0</td>\n",
       "    </tr>\n",
       "    <tr>\n",
       "      <th>std</th>\n",
       "      <td>6086.0</td>\n",
       "      <td>18710.0</td>\n",
       "      <td>4.0</td>\n",
       "      <td>19.0</td>\n",
       "    </tr>\n",
       "    <tr>\n",
       "      <th>min</th>\n",
       "      <td>1.0</td>\n",
       "      <td>1.0</td>\n",
       "      <td>0.0</td>\n",
       "      <td>0.0</td>\n",
       "    </tr>\n",
       "    <tr>\n",
       "      <th>25%</th>\n",
       "      <td>7349.0</td>\n",
       "      <td>16134.0</td>\n",
       "      <td>1.0</td>\n",
       "      <td>4.0</td>\n",
       "    </tr>\n",
       "    <tr>\n",
       "      <th>50%</th>\n",
       "      <td>13496.0</td>\n",
       "      <td>32620.0</td>\n",
       "      <td>1.0</td>\n",
       "      <td>7.0</td>\n",
       "    </tr>\n",
       "    <tr>\n",
       "      <th>75%</th>\n",
       "      <td>17306.0</td>\n",
       "      <td>48548.0</td>\n",
       "      <td>1.0</td>\n",
       "      <td>12.0</td>\n",
       "    </tr>\n",
       "    <tr>\n",
       "      <th>max</th>\n",
       "      <td>22625.0</td>\n",
       "      <td>64682.0</td>\n",
       "      <td>400.0</td>\n",
       "      <td>708.0</td>\n",
       "    </tr>\n",
       "  </tbody>\n",
       "</table>\n",
       "</div>"
      ],
      "text/plain": [
       "       Customer_ID  Transaction_ID  Quantity  Sales_Amount\n",
       "count     131706.0        131706.0  131706.0      131706.0\n",
       "mean       12386.0         32390.0       1.0          12.0\n",
       "std         6086.0         18710.0       4.0          19.0\n",
       "min            1.0             1.0       0.0           0.0\n",
       "25%         7349.0         16134.0       1.0           4.0\n",
       "50%        13496.0         32620.0       1.0           7.0\n",
       "75%        17306.0         48548.0       1.0          12.0\n",
       "max        22625.0         64682.0     400.0         708.0"
      ]
     },
     "execution_count": 191,
     "metadata": {},
     "output_type": "execute_result"
    }
   ],
   "source": [
    "round(df.describe())"
   ]
  },
  {
   "cell_type": "code",
   "execution_count": 192,
   "metadata": {},
   "outputs": [
    {
     "data": {
      "text/plain": [
       "Date              0\n",
       "Customer_ID       0\n",
       "Transaction_ID    0\n",
       "SKU_Category      0\n",
       "SKU               0\n",
       "Quantity          0\n",
       "Sales_Amount      0\n",
       "dtype: int64"
      ]
     },
     "execution_count": 192,
     "metadata": {},
     "output_type": "execute_result"
    }
   ],
   "source": [
    "df.isnull().sum()"
   ]
  },
  {
   "cell_type": "code",
   "execution_count": 193,
   "metadata": {},
   "outputs": [
    {
     "data": {
      "text/html": [
       "<div>\n",
       "<style scoped>\n",
       "    .dataframe tbody tr th:only-of-type {\n",
       "        vertical-align: middle;\n",
       "    }\n",
       "\n",
       "    .dataframe tbody tr th {\n",
       "        vertical-align: top;\n",
       "    }\n",
       "\n",
       "    .dataframe thead th {\n",
       "        text-align: right;\n",
       "    }\n",
       "</style>\n",
       "<table border=\"1\" class=\"dataframe\">\n",
       "  <thead>\n",
       "    <tr style=\"text-align: right;\">\n",
       "      <th></th>\n",
       "      <th>Date</th>\n",
       "      <th>Customer_ID</th>\n",
       "      <th>Transaction_ID</th>\n",
       "      <th>SKU_Category</th>\n",
       "      <th>SKU</th>\n",
       "      <th>Quantity</th>\n",
       "      <th>Sales_Amount</th>\n",
       "    </tr>\n",
       "  </thead>\n",
       "  <tbody>\n",
       "    <tr>\n",
       "      <th>0</th>\n",
       "      <td>2017-01-02</td>\n",
       "      <td>2547</td>\n",
       "      <td>1</td>\n",
       "      <td>X52</td>\n",
       "      <td>0EM7L</td>\n",
       "      <td>1.0</td>\n",
       "      <td>3.13</td>\n",
       "    </tr>\n",
       "    <tr>\n",
       "      <th>1</th>\n",
       "      <td>2017-01-02</td>\n",
       "      <td>822</td>\n",
       "      <td>2</td>\n",
       "      <td>2ML</td>\n",
       "      <td>68BRQ</td>\n",
       "      <td>1.0</td>\n",
       "      <td>5.46</td>\n",
       "    </tr>\n",
       "    <tr>\n",
       "      <th>2</th>\n",
       "      <td>2017-01-02</td>\n",
       "      <td>3686</td>\n",
       "      <td>3</td>\n",
       "      <td>0H2</td>\n",
       "      <td>CZUZX</td>\n",
       "      <td>1.0</td>\n",
       "      <td>6.35</td>\n",
       "    </tr>\n",
       "    <tr>\n",
       "      <th>3</th>\n",
       "      <td>2017-01-02</td>\n",
       "      <td>3719</td>\n",
       "      <td>4</td>\n",
       "      <td>0H2</td>\n",
       "      <td>549KK</td>\n",
       "      <td>1.0</td>\n",
       "      <td>5.59</td>\n",
       "    </tr>\n",
       "    <tr>\n",
       "      <th>4</th>\n",
       "      <td>2017-01-02</td>\n",
       "      <td>9200</td>\n",
       "      <td>5</td>\n",
       "      <td>0H2</td>\n",
       "      <td>K8EHH</td>\n",
       "      <td>1.0</td>\n",
       "      <td>6.88</td>\n",
       "    </tr>\n",
       "  </tbody>\n",
       "</table>\n",
       "</div>"
      ],
      "text/plain": [
       "        Date  Customer_ID  Transaction_ID SKU_Category    SKU  Quantity  \\\n",
       "0 2017-01-02         2547               1          X52  0EM7L       1.0   \n",
       "1 2017-01-02          822               2          2ML  68BRQ       1.0   \n",
       "2 2017-01-02         3686               3          0H2  CZUZX       1.0   \n",
       "3 2017-01-02         3719               4          0H2  549KK       1.0   \n",
       "4 2017-01-02         9200               5          0H2  K8EHH       1.0   \n",
       "\n",
       "   Sales_Amount  \n",
       "0          3.13  \n",
       "1          5.46  \n",
       "2          6.35  \n",
       "3          5.59  \n",
       "4          6.88  "
      ]
     },
     "execution_count": 193,
     "metadata": {},
     "output_type": "execute_result"
    }
   ],
   "source": [
    "df[\"Date\"] = pd.to_datetime(df[\"Date\"])\n",
    "df.head()"
   ]
  },
  {
   "cell_type": "code",
   "execution_count": 194,
   "metadata": {},
   "outputs": [
    {
     "name": "stdout",
     "output_type": "stream",
     "text": [
      "<class 'pandas.core.frame.DataFrame'>\n",
      "RangeIndex: 131706 entries, 0 to 131705\n",
      "Data columns (total 7 columns):\n",
      " #   Column          Non-Null Count   Dtype         \n",
      "---  ------          --------------   -----         \n",
      " 0   Date            131706 non-null  datetime64[ns]\n",
      " 1   Customer_ID     131706 non-null  int64         \n",
      " 2   Transaction_ID  131706 non-null  int64         \n",
      " 3   SKU_Category    131706 non-null  object        \n",
      " 4   SKU             131706 non-null  object        \n",
      " 5   Quantity        131706 non-null  float64       \n",
      " 6   Sales_Amount    131706 non-null  float64       \n",
      "dtypes: datetime64[ns](1), float64(2), int64(2), object(2)\n",
      "memory usage: 7.0+ MB\n"
     ]
    }
   ],
   "source": [
    "df.info()"
   ]
  },
  {
   "cell_type": "code",
   "execution_count": 195,
   "metadata": {},
   "outputs": [
    {
     "data": {
      "text/html": [
       "<div>\n",
       "<style scoped>\n",
       "    .dataframe tbody tr th:only-of-type {\n",
       "        vertical-align: middle;\n",
       "    }\n",
       "\n",
       "    .dataframe tbody tr th {\n",
       "        vertical-align: top;\n",
       "    }\n",
       "\n",
       "    .dataframe thead th {\n",
       "        text-align: right;\n",
       "    }\n",
       "</style>\n",
       "<table border=\"1\" class=\"dataframe\">\n",
       "  <thead>\n",
       "    <tr style=\"text-align: right;\">\n",
       "      <th></th>\n",
       "      <th>Date</th>\n",
       "      <th>Customer_ID</th>\n",
       "      <th>Transaction_ID</th>\n",
       "      <th>SKU_Category</th>\n",
       "      <th>SKU</th>\n",
       "      <th>Quantity</th>\n",
       "      <th>Sales_Amount</th>\n",
       "      <th>Year</th>\n",
       "      <th>Month</th>\n",
       "      <th>Day</th>\n",
       "    </tr>\n",
       "  </thead>\n",
       "  <tbody>\n",
       "    <tr>\n",
       "      <th>0</th>\n",
       "      <td>2017-01-02</td>\n",
       "      <td>2547</td>\n",
       "      <td>1</td>\n",
       "      <td>X52</td>\n",
       "      <td>0EM7L</td>\n",
       "      <td>1.0</td>\n",
       "      <td>3.13</td>\n",
       "      <td>2017</td>\n",
       "      <td>01</td>\n",
       "      <td>02</td>\n",
       "    </tr>\n",
       "    <tr>\n",
       "      <th>1</th>\n",
       "      <td>2017-01-02</td>\n",
       "      <td>822</td>\n",
       "      <td>2</td>\n",
       "      <td>2ML</td>\n",
       "      <td>68BRQ</td>\n",
       "      <td>1.0</td>\n",
       "      <td>5.46</td>\n",
       "      <td>2017</td>\n",
       "      <td>01</td>\n",
       "      <td>02</td>\n",
       "    </tr>\n",
       "    <tr>\n",
       "      <th>2</th>\n",
       "      <td>2017-01-02</td>\n",
       "      <td>3686</td>\n",
       "      <td>3</td>\n",
       "      <td>0H2</td>\n",
       "      <td>CZUZX</td>\n",
       "      <td>1.0</td>\n",
       "      <td>6.35</td>\n",
       "      <td>2017</td>\n",
       "      <td>01</td>\n",
       "      <td>02</td>\n",
       "    </tr>\n",
       "    <tr>\n",
       "      <th>3</th>\n",
       "      <td>2017-01-02</td>\n",
       "      <td>3719</td>\n",
       "      <td>4</td>\n",
       "      <td>0H2</td>\n",
       "      <td>549KK</td>\n",
       "      <td>1.0</td>\n",
       "      <td>5.59</td>\n",
       "      <td>2017</td>\n",
       "      <td>01</td>\n",
       "      <td>02</td>\n",
       "    </tr>\n",
       "    <tr>\n",
       "      <th>4</th>\n",
       "      <td>2017-01-02</td>\n",
       "      <td>9200</td>\n",
       "      <td>5</td>\n",
       "      <td>0H2</td>\n",
       "      <td>K8EHH</td>\n",
       "      <td>1.0</td>\n",
       "      <td>6.88</td>\n",
       "      <td>2017</td>\n",
       "      <td>01</td>\n",
       "      <td>02</td>\n",
       "    </tr>\n",
       "  </tbody>\n",
       "</table>\n",
       "</div>"
      ],
      "text/plain": [
       "        Date  Customer_ID  Transaction_ID SKU_Category    SKU  Quantity  \\\n",
       "0 2017-01-02         2547               1          X52  0EM7L       1.0   \n",
       "1 2017-01-02          822               2          2ML  68BRQ       1.0   \n",
       "2 2017-01-02         3686               3          0H2  CZUZX       1.0   \n",
       "3 2017-01-02         3719               4          0H2  549KK       1.0   \n",
       "4 2017-01-02         9200               5          0H2  K8EHH       1.0   \n",
       "\n",
       "   Sales_Amount  Year Month Day  \n",
       "0          3.13  2017    01  02  \n",
       "1          5.46  2017    01  02  \n",
       "2          6.35  2017    01  02  \n",
       "3          5.59  2017    01  02  \n",
       "4          6.88  2017    01  02  "
      ]
     },
     "execution_count": 195,
     "metadata": {},
     "output_type": "execute_result"
    }
   ],
   "source": [
    "df[[\"Year\", \"Month\", \"Day\"]] = df[\"Date\"].astype(str).str.split(\"-\", expand = True)\n",
    "df.head()"
   ]
  },
  {
   "cell_type": "code",
   "execution_count": 196,
   "metadata": {},
   "outputs": [
    {
     "name": "stdout",
     "output_type": "stream",
     "text": [
      "<class 'pandas.core.frame.DataFrame'>\n",
      "RangeIndex: 131706 entries, 0 to 131705\n",
      "Data columns (total 10 columns):\n",
      " #   Column          Non-Null Count   Dtype         \n",
      "---  ------          --------------   -----         \n",
      " 0   Date            131706 non-null  datetime64[ns]\n",
      " 1   Customer_ID     131706 non-null  int64         \n",
      " 2   Transaction_ID  131706 non-null  int64         \n",
      " 3   SKU_Category    131706 non-null  object        \n",
      " 4   SKU             131706 non-null  object        \n",
      " 5   Quantity        131706 non-null  int32         \n",
      " 6   Sales_Amount    131706 non-null  float64       \n",
      " 7   Year            131706 non-null  int32         \n",
      " 8   Month           131706 non-null  int32         \n",
      " 9   Day             131706 non-null  int32         \n",
      "dtypes: datetime64[ns](1), float64(1), int32(4), int64(2), object(2)\n",
      "memory usage: 8.0+ MB\n"
     ]
    }
   ],
   "source": [
    "df[[\"Year\", \"Month\", \"Day\", \"Quantity\"]] = df[[\"Year\", \"Month\", \"Day\", \"Quantity\"]].astype(int)\n",
    "df.info()"
   ]
  },
  {
   "cell_type": "code",
   "execution_count": 197,
   "metadata": {},
   "outputs": [
    {
     "data": {
      "text/html": [
       "<div>\n",
       "<style scoped>\n",
       "    .dataframe tbody tr th:only-of-type {\n",
       "        vertical-align: middle;\n",
       "    }\n",
       "\n",
       "    .dataframe tbody tr th {\n",
       "        vertical-align: top;\n",
       "    }\n",
       "\n",
       "    .dataframe thead th {\n",
       "        text-align: right;\n",
       "    }\n",
       "</style>\n",
       "<table border=\"1\" class=\"dataframe\">\n",
       "  <thead>\n",
       "    <tr style=\"text-align: right;\">\n",
       "      <th></th>\n",
       "      <th>Date</th>\n",
       "      <th>Customer_ID</th>\n",
       "      <th>Transaction_ID</th>\n",
       "      <th>SKU_Category</th>\n",
       "      <th>SKU</th>\n",
       "      <th>Quantity</th>\n",
       "      <th>Sales_Amount</th>\n",
       "      <th>Year</th>\n",
       "      <th>Month</th>\n",
       "      <th>Day</th>\n",
       "    </tr>\n",
       "  </thead>\n",
       "  <tbody>\n",
       "    <tr>\n",
       "      <th>0</th>\n",
       "      <td>2017-01-02</td>\n",
       "      <td>2547</td>\n",
       "      <td>1</td>\n",
       "      <td>X52</td>\n",
       "      <td>0EM7L</td>\n",
       "      <td>1</td>\n",
       "      <td>3.13</td>\n",
       "      <td>2017</td>\n",
       "      <td>1</td>\n",
       "      <td>2</td>\n",
       "    </tr>\n",
       "    <tr>\n",
       "      <th>1</th>\n",
       "      <td>2017-01-02</td>\n",
       "      <td>822</td>\n",
       "      <td>2</td>\n",
       "      <td>2ML</td>\n",
       "      <td>68BRQ</td>\n",
       "      <td>1</td>\n",
       "      <td>5.46</td>\n",
       "      <td>2017</td>\n",
       "      <td>1</td>\n",
       "      <td>2</td>\n",
       "    </tr>\n",
       "    <tr>\n",
       "      <th>2</th>\n",
       "      <td>2017-01-02</td>\n",
       "      <td>3686</td>\n",
       "      <td>3</td>\n",
       "      <td>0H2</td>\n",
       "      <td>CZUZX</td>\n",
       "      <td>1</td>\n",
       "      <td>6.35</td>\n",
       "      <td>2017</td>\n",
       "      <td>1</td>\n",
       "      <td>2</td>\n",
       "    </tr>\n",
       "    <tr>\n",
       "      <th>3</th>\n",
       "      <td>2017-01-02</td>\n",
       "      <td>3719</td>\n",
       "      <td>4</td>\n",
       "      <td>0H2</td>\n",
       "      <td>549KK</td>\n",
       "      <td>1</td>\n",
       "      <td>5.59</td>\n",
       "      <td>2017</td>\n",
       "      <td>1</td>\n",
       "      <td>2</td>\n",
       "    </tr>\n",
       "    <tr>\n",
       "      <th>4</th>\n",
       "      <td>2017-01-02</td>\n",
       "      <td>9200</td>\n",
       "      <td>5</td>\n",
       "      <td>0H2</td>\n",
       "      <td>K8EHH</td>\n",
       "      <td>1</td>\n",
       "      <td>6.88</td>\n",
       "      <td>2017</td>\n",
       "      <td>1</td>\n",
       "      <td>2</td>\n",
       "    </tr>\n",
       "  </tbody>\n",
       "</table>\n",
       "</div>"
      ],
      "text/plain": [
       "        Date  Customer_ID  Transaction_ID SKU_Category    SKU  Quantity  \\\n",
       "0 2017-01-02         2547               1          X52  0EM7L         1   \n",
       "1 2017-01-02          822               2          2ML  68BRQ         1   \n",
       "2 2017-01-02         3686               3          0H2  CZUZX         1   \n",
       "3 2017-01-02         3719               4          0H2  549KK         1   \n",
       "4 2017-01-02         9200               5          0H2  K8EHH         1   \n",
       "\n",
       "   Sales_Amount  Year  Month  Day  \n",
       "0          3.13  2017      1    2  \n",
       "1          5.46  2017      1    2  \n",
       "2          6.35  2017      1    2  \n",
       "3          5.59  2017      1    2  \n",
       "4          6.88  2017      1    2  "
      ]
     },
     "execution_count": 197,
     "metadata": {},
     "output_type": "execute_result"
    }
   ],
   "source": [
    "df.head()"
   ]
  },
  {
   "cell_type": "code",
   "execution_count": 198,
   "metadata": {},
   "outputs": [
    {
     "data": {
      "text/html": [
       "<div>\n",
       "<style scoped>\n",
       "    .dataframe tbody tr th:only-of-type {\n",
       "        vertical-align: middle;\n",
       "    }\n",
       "\n",
       "    .dataframe tbody tr th {\n",
       "        vertical-align: top;\n",
       "    }\n",
       "\n",
       "    .dataframe thead th {\n",
       "        text-align: right;\n",
       "    }\n",
       "</style>\n",
       "<table border=\"1\" class=\"dataframe\">\n",
       "  <thead>\n",
       "    <tr style=\"text-align: right;\">\n",
       "      <th></th>\n",
       "      <th>Date</th>\n",
       "      <th>Customer_ID</th>\n",
       "      <th>Transaction_ID</th>\n",
       "      <th>SKU_Category</th>\n",
       "      <th>SKU</th>\n",
       "      <th>Quantity</th>\n",
       "      <th>Sales_Amount</th>\n",
       "      <th>Year</th>\n",
       "      <th>Month</th>\n",
       "      <th>Day</th>\n",
       "      <th>Month_abb</th>\n",
       "    </tr>\n",
       "  </thead>\n",
       "  <tbody>\n",
       "    <tr>\n",
       "      <th>0</th>\n",
       "      <td>2017-01-02</td>\n",
       "      <td>2547</td>\n",
       "      <td>1</td>\n",
       "      <td>X52</td>\n",
       "      <td>0EM7L</td>\n",
       "      <td>1</td>\n",
       "      <td>3.13</td>\n",
       "      <td>2017</td>\n",
       "      <td>1</td>\n",
       "      <td>2</td>\n",
       "      <td>January</td>\n",
       "    </tr>\n",
       "    <tr>\n",
       "      <th>1</th>\n",
       "      <td>2017-01-02</td>\n",
       "      <td>822</td>\n",
       "      <td>2</td>\n",
       "      <td>2ML</td>\n",
       "      <td>68BRQ</td>\n",
       "      <td>1</td>\n",
       "      <td>5.46</td>\n",
       "      <td>2017</td>\n",
       "      <td>1</td>\n",
       "      <td>2</td>\n",
       "      <td>January</td>\n",
       "    </tr>\n",
       "    <tr>\n",
       "      <th>2</th>\n",
       "      <td>2017-01-02</td>\n",
       "      <td>3686</td>\n",
       "      <td>3</td>\n",
       "      <td>0H2</td>\n",
       "      <td>CZUZX</td>\n",
       "      <td>1</td>\n",
       "      <td>6.35</td>\n",
       "      <td>2017</td>\n",
       "      <td>1</td>\n",
       "      <td>2</td>\n",
       "      <td>January</td>\n",
       "    </tr>\n",
       "    <tr>\n",
       "      <th>3</th>\n",
       "      <td>2017-01-02</td>\n",
       "      <td>3719</td>\n",
       "      <td>4</td>\n",
       "      <td>0H2</td>\n",
       "      <td>549KK</td>\n",
       "      <td>1</td>\n",
       "      <td>5.59</td>\n",
       "      <td>2017</td>\n",
       "      <td>1</td>\n",
       "      <td>2</td>\n",
       "      <td>January</td>\n",
       "    </tr>\n",
       "    <tr>\n",
       "      <th>4</th>\n",
       "      <td>2017-01-02</td>\n",
       "      <td>9200</td>\n",
       "      <td>5</td>\n",
       "      <td>0H2</td>\n",
       "      <td>K8EHH</td>\n",
       "      <td>1</td>\n",
       "      <td>6.88</td>\n",
       "      <td>2017</td>\n",
       "      <td>1</td>\n",
       "      <td>2</td>\n",
       "      <td>January</td>\n",
       "    </tr>\n",
       "  </tbody>\n",
       "</table>\n",
       "</div>"
      ],
      "text/plain": [
       "        Date  Customer_ID  Transaction_ID SKU_Category    SKU  Quantity  \\\n",
       "0 2017-01-02         2547               1          X52  0EM7L         1   \n",
       "1 2017-01-02          822               2          2ML  68BRQ         1   \n",
       "2 2017-01-02         3686               3          0H2  CZUZX         1   \n",
       "3 2017-01-02         3719               4          0H2  549KK         1   \n",
       "4 2017-01-02         9200               5          0H2  K8EHH         1   \n",
       "\n",
       "   Sales_Amount  Year  Month  Day Month_abb  \n",
       "0          3.13  2017      1    2   January  \n",
       "1          5.46  2017      1    2   January  \n",
       "2          6.35  2017      1    2   January  \n",
       "3          5.59  2017      1    2   January  \n",
       "4          6.88  2017      1    2   January  "
      ]
     },
     "execution_count": 198,
     "metadata": {},
     "output_type": "execute_result"
    }
   ],
   "source": [
    "df[\"Month_abb\"] = df[\"Date\"].dt.month_name()\n",
    "df.head()"
   ]
  },
  {
   "cell_type": "code",
   "execution_count": 199,
   "metadata": {},
   "outputs": [
    {
     "data": {
      "text/plain": [
       "Text(0.5, 1.0, 'Monthly Sales for the Year 2017/2018')"
      ]
     },
     "execution_count": 199,
     "metadata": {},
     "output_type": "execute_result"
    },
    {
     "data": {
      "image/png": "[encoded data removed]",
      "text/plain": [
       "<Figure size 576x360 with 1 Axes>"
      ]
     },
     "metadata": {
      "needs_background": "light"
     },
     "output_type": "display_data"
    }
   ],
   "source": [
    "monthly_sales = df.groupby(\"Month_abb\").agg({\"Sales_Amount\": \"sum\"}).sort_values(by = \"Sales_Amount\", ascending = False)\n",
    "monthly_sales.head()\n",
    "plt.figure(figsize = (8, 5))\n",
    "ms_bar = sb.barplot(y = monthly_sales.index, x = monthly_sales[\"Sales_Amount\"], data = monthly_sales)\n",
    "for i in ms_bar.patches:\n",
    "    if i.get_width() > 140000:\n",
    "        i.set_color(\"#307D7E\")\n",
    "    elif i.get_width() > 120000:\n",
    "        i.set_color(\"#3EA99F\")\n",
    "    else:\n",
    "        i.set_color(\"#6698FF\")\n",
    "plt.xlabel(\"Sales\")\n",
    "plt.yticks(rotation = 35)\n",
    "plt.ylabel(None)\n",
    "plt.title(\"Monthly Sales for the Year 2017/2018\")"
   ]
  },
  {
   "cell_type": "code",
   "execution_count": 200,
   "metadata": {},
   "outputs": [
    {
     "data": {
      "text/plain": [
       "Text(0.5, 1.0, 'Sales Per Day Projections')"
      ]
     },
     "execution_count": 200,
     "metadata": {},
     "output_type": "execute_result"
    },
    {
     "data": {
      "image/png": "[encoded data removed]",
      "text/plain": [
       "<Figure size 432x288 with 1 Axes>"
      ]
     },
     "metadata": {
      "needs_background": "light"
     },
     "output_type": "display_data"
    }
   ],
   "source": [
    "daily_sales = df.groupby(\"Day\").agg({\"Sales_Amount\": \"sum\"}).sort_values(by = \"Sales_Amount\", ascending = False)\n",
    "sb.lineplot(x = daily_sales.index, y = daily_sales[\"Sales_Amount\"], data = daily_sales, label = \"Sales\")\n",
    "plt.yticks(rotation = 35)\n",
    "plt.ylabel(None)\n",
    "plt.legend(loc = \"best\")\n",
    "plt.title(\"Sales Per Day Projections\")"
   ]
  },
  {
   "cell_type": "markdown",
   "metadata": {},
   "source": [
    "Its evident that from the 23rd day of the month sales depreciate in amount accounting for low profitability\n",
    "However on 15th, retail stores record the highest sales per day"
   ]
  },
  {
   "cell_type": "markdown",
   "metadata": {},
   "source": [
    "Performing One-Hot Encoding"
   ]
  },
  {
   "cell_type": "markdown",
   "metadata": {},
   "source": [
    "Using the DecisionTreeClassifier() for classification"
   ]
  },
  {
   "cell_type": "code",
   "execution_count": 218,
   "metadata": {},
   "outputs": [
    {
     "data": {
      "text/plain": [
       "array(['May'], dtype=object)"
      ]
     },
     "execution_count": 218,
     "metadata": {},
     "output_type": "execute_result"
    }
   ],
   "source": [
    "le = LabelEncoder()\n",
    "\n",
    "X = df[[\"Quantity\", \"Sales_Amount\"]]\n",
    "y = df[[\"Month_abb\"]]\n",
    "#y = y.apply(le.fit_transform)\n",
    "\n",
    "DTR = DecisionTreeClassifier()\n",
    "DTR.fit(X, y)\n",
    "\n",
    "x_train, x_test, y_train, y_test = train_test_split(X, y, test_size = 0.2)\n",
    "\n",
    "DTR.predict([[3, 200]])"
   ]
  },
  {
   "cell_type": "code",
   "execution_count": 220,
   "metadata": {},
   "outputs": [
    {
     "data": {
      "text/plain": [
       "array(['April'], dtype=object)"
      ]
     },
     "execution_count": 220,
     "metadata": {},
     "output_type": "execute_result"
    }
   ],
   "source": [
    "#le = LabelEncoder()\n",
    "\n",
    "X = df[[\"Quantity\", \"Sales_Amount\"]]\n",
    "y = df[\"Month_abb\"]\n",
    "#y = y.apply(le.fit_transform)\n",
    "\n",
    "DTR = DecisionTreeClassifier()\n",
    "DTR.fit(X, y)\n",
    "\n",
    "x_train, x_test, y_train, y_test = train_test_split(X, y, test_size = 0.2)\n",
    "\n",
    "DTR.predict([[3, 160]])"
   ]
  },
  {
   "cell_type": "code",
   "execution_count": null,
   "metadata": {},
   "outputs": [],
   "source": []
  },
  {
   "cell_type": "code",
   "execution_count": null,
   "metadata": {},
   "outputs": [],
   "source": []
  },
  {
   "cell_type": "code",
   "execution_count": null,
   "metadata": {},
   "outputs": [],
   "source": []
  }
 ],
 "metadata": {
  "kernelspec": {
   "display_name": "Python 3",
   "language": "python",
   "name": "python3"
  },
  "language_info": {
   "codemirror_mode": {
    "name": "ipython",
    "version": 3
   },
   "file_extension": ".py",
   "mimetype": "text/x-python",
   "name": "python",
   "nbconvert_exporter": "python",
   "pygments_lexer": "ipython3",
   "version": "3.7.4"
  }
 },
 "nbformat": 4,
 "nbformat_minor": 4
}
