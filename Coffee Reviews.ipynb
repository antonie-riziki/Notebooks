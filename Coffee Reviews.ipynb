{
 "cells": [
  {
   "cell_type": "markdown",
   "metadata": {},
   "source": [
    "# Coffee Reviews and Recommendations Exploratory Data Analysis"
   ]
  },
  {
   "cell_type": "code",
   "execution_count": 1,
   "metadata": {},
   "outputs": [],
   "source": [
    "import pandas as pd\n",
    "import numpy as np\n",
    "import seaborn as sb\n",
    "import matplotlib.pyplot as plt\n",
    "import missingno as msno\n",
    "import autoreload\n",
    "import csv\n",
    "import warnings\n",
    "import os\n",
    "import sys\n",
    "\n",
    "from collections import defaultdict, Counter\n",
    "\n",
    "from sklearn.impute import SimpleImputer\n",
    "from sklearn.feature_extraction.text import TfidfVectorizer\n",
    "from sklearn.metrics.pairwise import sigmoid_kernel\n",
    "\n",
    "pd.set_option('display.max_columns', 100)\n",
    "pd.set_option('display.max_rows', 1000)\n",
    "\n",
    "sb.set()\n",
    "sb.set_style('darkgrid')\n",
    "\n",
    "plt.style.use('seaborn')\n",
    "plt.tight_layout()\n",
    "\n",
    "%matplotlib inline\n",
    "%reload_ext autoreload\n",
    "%autoreload 2\n",
    "\n",
    "warnings.filterwarnings('ignore')"
   ]
  },
  {
   "cell_type": "code",
   "execution_count": 2,
   "metadata": {},
   "outputs": [
    {
     "data": {
      "text/html": [
       "<div>\n",
       "<style scoped>\n",
       "    .dataframe tbody tr th:only-of-type {\n",
       "        vertical-align: middle;\n",
       "    }\n",
       "\n",
       "    .dataframe tbody tr th {\n",
       "        vertical-align: top;\n",
       "    }\n",
       "\n",
       "    .dataframe thead th {\n",
       "        text-align: right;\n",
       "    }\n",
       "</style>\n",
       "<table border=\"1\" class=\"dataframe\">\n",
       "  <thead>\n",
       "    <tr style=\"text-align: right;\">\n",
       "      <th></th>\n",
       "      <th>slug</th>\n",
       "      <th>all_text</th>\n",
       "      <th>rating</th>\n",
       "      <th>roaster</th>\n",
       "      <th>name</th>\n",
       "      <th>location</th>\n",
       "      <th>origin</th>\n",
       "      <th>roast</th>\n",
       "      <th>est_price</th>\n",
       "      <th>review_date</th>\n",
       "      <th>agtron</th>\n",
       "      <th>aroma</th>\n",
       "      <th>acid</th>\n",
       "      <th>body</th>\n",
       "      <th>flavor</th>\n",
       "      <th>aftertaste</th>\n",
       "      <th>with_milk</th>\n",
       "      <th>desc_1</th>\n",
       "      <th>desc_2</th>\n",
       "      <th>desc_3</th>\n",
       "    </tr>\n",
       "  </thead>\n",
       "  <tbody>\n",
       "    <tr>\n",
       "      <td>0</td>\n",
       "      <td>https://www.coffeereview.com/review/sweety-esp...</td>\n",
       "      <td>\\n\\n\\n95\\n\\n\\nA.R.C.\\n“Sweety” Espresso Blend...</td>\n",
       "      <td>95</td>\n",
       "      <td>A.R.C.</td>\n",
       "      <td>“Sweety” Espresso Blend</td>\n",
       "      <td>Hong Kong, China</td>\n",
       "      <td>Panama; Ethiopia</td>\n",
       "      <td>Medium-Light</td>\n",
       "      <td>HKD $250/227 grams</td>\n",
       "      <td>November 2017</td>\n",
       "      <td>50/73</td>\n",
       "      <td>9.0</td>\n",
       "      <td>NaN</td>\n",
       "      <td>9.0</td>\n",
       "      <td>9.0</td>\n",
       "      <td>9.0</td>\n",
       "      <td>9.0</td>\n",
       "      <td>Evaluated as espresso. Sweet-toned, deeply ric...</td>\n",
       "      <td>An espresso blend comprised of coffees from Pa...</td>\n",
       "      <td>A radiant espresso blend that shines equally i...</td>\n",
       "    </tr>\n",
       "    <tr>\n",
       "      <td>1</td>\n",
       "      <td>https://www.coffeereview.com/review/flora-blen...</td>\n",
       "      <td>\\n\\n\\n94\\n\\n\\nA.R.C.\\nFlora Blend Espresso\\n\\...</td>\n",
       "      <td>94</td>\n",
       "      <td>A.R.C.</td>\n",
       "      <td>Flora Blend Espresso</td>\n",
       "      <td>Hong Kong, China</td>\n",
       "      <td>Africa; Asia Pacific</td>\n",
       "      <td>Medium-Light</td>\n",
       "      <td>HKD $158/227 grams</td>\n",
       "      <td>November 2017</td>\n",
       "      <td>54/77</td>\n",
       "      <td>9.0</td>\n",
       "      <td>NaN</td>\n",
       "      <td>9.0</td>\n",
       "      <td>9.0</td>\n",
       "      <td>8.0</td>\n",
       "      <td>9.0</td>\n",
       "      <td>Evaluated as espresso. Sweetly tart, floral-to...</td>\n",
       "      <td>An espresso blend comprised of coffees from Af...</td>\n",
       "      <td>A floral-driven straight shot, amplified with ...</td>\n",
       "    </tr>\n",
       "    <tr>\n",
       "      <td>2</td>\n",
       "      <td>https://www.coffeereview.com/review/ethiopia-s...</td>\n",
       "      <td>\\n\\n\\n92\\n\\n\\nRevel Coffee\\nEthiopia Shakiso ...</td>\n",
       "      <td>92</td>\n",
       "      <td>Revel Coffee</td>\n",
       "      <td>Ethiopia Shakiso Mormora</td>\n",
       "      <td>Billings, Montana</td>\n",
       "      <td>Guji Zone, southern Ethiopia</td>\n",
       "      <td>Medium-Light</td>\n",
       "      <td>$16.00/12 ounces</td>\n",
       "      <td>November 2017</td>\n",
       "      <td>54/70</td>\n",
       "      <td>9.0</td>\n",
       "      <td>8.0</td>\n",
       "      <td>8.0</td>\n",
       "      <td>9.0</td>\n",
       "      <td>8.0</td>\n",
       "      <td>NaN</td>\n",
       "      <td>Crisply sweet, cocoa-toned. Lemon blossom, roa...</td>\n",
       "      <td>This coffee tied for the third-highest rating ...</td>\n",
       "      <td>A gently spice-toned, floral- driven wet-proce...</td>\n",
       "    </tr>\n",
       "  </tbody>\n",
       "</table>\n",
       "</div>"
      ],
      "text/plain": [
       "                                                slug  \\\n",
       "0  https://www.coffeereview.com/review/sweety-esp...   \n",
       "1  https://www.coffeereview.com/review/flora-blen...   \n",
       "2  https://www.coffeereview.com/review/ethiopia-s...   \n",
       "\n",
       "                                            all_text  rating       roaster  \\\n",
       "0   \\n\\n\\n95\\n\\n\\nA.R.C.\\n“Sweety” Espresso Blend...      95        A.R.C.   \n",
       "1   \\n\\n\\n94\\n\\n\\nA.R.C.\\nFlora Blend Espresso\\n\\...      94        A.R.C.   \n",
       "2   \\n\\n\\n92\\n\\n\\nRevel Coffee\\nEthiopia Shakiso ...      92  Revel Coffee   \n",
       "\n",
       "                       name           location                        origin  \\\n",
       "0   “Sweety” Espresso Blend   Hong Kong, China              Panama; Ethiopia   \n",
       "1      Flora Blend Espresso   Hong Kong, China          Africa; Asia Pacific   \n",
       "2  Ethiopia Shakiso Mormora  Billings, Montana  Guji Zone, southern Ethiopia   \n",
       "\n",
       "          roast           est_price    review_date agtron  aroma  acid  body  \\\n",
       "0  Medium-Light  HKD $250/227 grams  November 2017  50/73    9.0   NaN   9.0   \n",
       "1  Medium-Light  HKD $158/227 grams  November 2017  54/77    9.0   NaN   9.0   \n",
       "2  Medium-Light    $16.00/12 ounces  November 2017  54/70    9.0   8.0   8.0   \n",
       "\n",
       "   flavor  aftertaste  with_milk  \\\n",
       "0     9.0         9.0        9.0   \n",
       "1     9.0         8.0        9.0   \n",
       "2     9.0         8.0        NaN   \n",
       "\n",
       "                                              desc_1  \\\n",
       "0  Evaluated as espresso. Sweet-toned, deeply ric...   \n",
       "1  Evaluated as espresso. Sweetly tart, floral-to...   \n",
       "2  Crisply sweet, cocoa-toned. Lemon blossom, roa...   \n",
       "\n",
       "                                              desc_2  \\\n",
       "0  An espresso blend comprised of coffees from Pa...   \n",
       "1  An espresso blend comprised of coffees from Af...   \n",
       "2  This coffee tied for the third-highest rating ...   \n",
       "\n",
       "                                              desc_3  \n",
       "0  A radiant espresso blend that shines equally i...  \n",
       "1  A floral-driven straight shot, amplified with ...  \n",
       "2  A gently spice-toned, floral- driven wet-proce...  "
      ]
     },
     "execution_count": 2,
     "metadata": {},
     "output_type": "execute_result"
    }
   ],
   "source": [
    "df = pd.read_csv(\"D:\\Open Classroom\\Datasets\\Coffee_Data_CoffeeReview\\coffee_fix.csv\")\n",
    "df.head(3)"
   ]
  },
  {
   "cell_type": "markdown",
   "metadata": {},
   "source": [
    "### Statistical representation of Data"
   ]
  },
  {
   "cell_type": "code",
   "execution_count": 3,
   "metadata": {},
   "outputs": [
    {
     "data": {
      "text/plain": [
       "(2282, 20)"
      ]
     },
     "execution_count": 3,
     "metadata": {},
     "output_type": "execute_result"
    }
   ],
   "source": [
    "df.shape"
   ]
  },
  {
   "cell_type": "code",
   "execution_count": 4,
   "metadata": {},
   "outputs": [
    {
     "name": "stdout",
     "output_type": "stream",
     "text": [
      "<class 'pandas.core.frame.DataFrame'>\n",
      "RangeIndex: 2282 entries, 0 to 2281\n",
      "Data columns (total 20 columns):\n",
      "slug           2282 non-null object\n",
      "all_text       2282 non-null object\n",
      "rating         2282 non-null int64\n",
      "roaster        2282 non-null object\n",
      "name           2282 non-null object\n",
      "location       2281 non-null object\n",
      "origin         2282 non-null object\n",
      "roast          2229 non-null object\n",
      "est_price      2277 non-null object\n",
      "review_date    2282 non-null object\n",
      "agtron         2282 non-null object\n",
      "aroma          2255 non-null float64\n",
      "acid           1947 non-null float64\n",
      "body           2279 non-null float64\n",
      "flavor         2279 non-null float64\n",
      "aftertaste     2279 non-null float64\n",
      "with_milk      356 non-null float64\n",
      "desc_1         2282 non-null object\n",
      "desc_2         2282 non-null object\n",
      "desc_3         2280 non-null object\n",
      "dtypes: float64(6), int64(1), object(13)\n",
      "memory usage: 356.7+ KB\n"
     ]
    }
   ],
   "source": [
    "df.info()"
   ]
  },
  {
   "cell_type": "code",
   "execution_count": 5,
   "metadata": {},
   "outputs": [
    {
     "data": {
      "text/html": [
       "<div>\n",
       "<style scoped>\n",
       "    .dataframe tbody tr th:only-of-type {\n",
       "        vertical-align: middle;\n",
       "    }\n",
       "\n",
       "    .dataframe tbody tr th {\n",
       "        vertical-align: top;\n",
       "    }\n",
       "\n",
       "    .dataframe thead th {\n",
       "        text-align: right;\n",
       "    }\n",
       "</style>\n",
       "<table border=\"1\" class=\"dataframe\">\n",
       "  <thead>\n",
       "    <tr style=\"text-align: right;\">\n",
       "      <th></th>\n",
       "      <th>rating</th>\n",
       "      <th>aroma</th>\n",
       "      <th>acid</th>\n",
       "      <th>body</th>\n",
       "      <th>flavor</th>\n",
       "      <th>aftertaste</th>\n",
       "      <th>with_milk</th>\n",
       "    </tr>\n",
       "  </thead>\n",
       "  <tbody>\n",
       "    <tr>\n",
       "      <td>count</td>\n",
       "      <td>2282.00</td>\n",
       "      <td>2255.00</td>\n",
       "      <td>1947.00</td>\n",
       "      <td>2279.00</td>\n",
       "      <td>2279.00</td>\n",
       "      <td>2279.00</td>\n",
       "      <td>356.00</td>\n",
       "    </tr>\n",
       "    <tr>\n",
       "      <td>mean</td>\n",
       "      <td>92.97</td>\n",
       "      <td>8.81</td>\n",
       "      <td>8.48</td>\n",
       "      <td>8.59</td>\n",
       "      <td>8.94</td>\n",
       "      <td>8.09</td>\n",
       "      <td>8.83</td>\n",
       "    </tr>\n",
       "    <tr>\n",
       "      <td>std</td>\n",
       "      <td>2.04</td>\n",
       "      <td>0.49</td>\n",
       "      <td>0.64</td>\n",
       "      <td>0.53</td>\n",
       "      <td>0.45</td>\n",
       "      <td>0.56</td>\n",
       "      <td>0.52</td>\n",
       "    </tr>\n",
       "    <tr>\n",
       "      <td>min</td>\n",
       "      <td>63.00</td>\n",
       "      <td>2.00</td>\n",
       "      <td>1.00</td>\n",
       "      <td>5.00</td>\n",
       "      <td>2.00</td>\n",
       "      <td>2.00</td>\n",
       "      <td>5.00</td>\n",
       "    </tr>\n",
       "    <tr>\n",
       "      <td>25%</td>\n",
       "      <td>92.00</td>\n",
       "      <td>9.00</td>\n",
       "      <td>8.00</td>\n",
       "      <td>8.00</td>\n",
       "      <td>9.00</td>\n",
       "      <td>8.00</td>\n",
       "      <td>9.00</td>\n",
       "    </tr>\n",
       "    <tr>\n",
       "      <td>50%</td>\n",
       "      <td>93.00</td>\n",
       "      <td>9.00</td>\n",
       "      <td>9.00</td>\n",
       "      <td>9.00</td>\n",
       "      <td>9.00</td>\n",
       "      <td>8.00</td>\n",
       "      <td>9.00</td>\n",
       "    </tr>\n",
       "    <tr>\n",
       "      <td>75%</td>\n",
       "      <td>94.00</td>\n",
       "      <td>9.00</td>\n",
       "      <td>9.00</td>\n",
       "      <td>9.00</td>\n",
       "      <td>9.00</td>\n",
       "      <td>8.00</td>\n",
       "      <td>9.00</td>\n",
       "    </tr>\n",
       "    <tr>\n",
       "      <td>max</td>\n",
       "      <td>98.00</td>\n",
       "      <td>10.00</td>\n",
       "      <td>10.00</td>\n",
       "      <td>10.00</td>\n",
       "      <td>10.00</td>\n",
       "      <td>10.00</td>\n",
       "      <td>10.00</td>\n",
       "    </tr>\n",
       "  </tbody>\n",
       "</table>\n",
       "</div>"
      ],
      "text/plain": [
       "        rating    aroma     acid     body   flavor  aftertaste  with_milk\n",
       "count  2282.00  2255.00  1947.00  2279.00  2279.00     2279.00     356.00\n",
       "mean     92.97     8.81     8.48     8.59     8.94        8.09       8.83\n",
       "std       2.04     0.49     0.64     0.53     0.45        0.56       0.52\n",
       "min      63.00     2.00     1.00     5.00     2.00        2.00       5.00\n",
       "25%      92.00     9.00     8.00     8.00     9.00        8.00       9.00\n",
       "50%      93.00     9.00     9.00     9.00     9.00        8.00       9.00\n",
       "75%      94.00     9.00     9.00     9.00     9.00        8.00       9.00\n",
       "max      98.00    10.00    10.00    10.00    10.00       10.00      10.00"
      ]
     },
     "execution_count": 5,
     "metadata": {},
     "output_type": "execute_result"
    }
   ],
   "source": [
    "round(df.describe(), 2)"
   ]
  },
  {
   "cell_type": "code",
   "execution_count": 6,
   "metadata": {},
   "outputs": [
    {
     "data": {
      "text/plain": [
       "slug              0\n",
       "all_text          0\n",
       "rating            0\n",
       "roaster           0\n",
       "name              0\n",
       "location          1\n",
       "origin            0\n",
       "roast            53\n",
       "est_price         5\n",
       "review_date       0\n",
       "agtron            0\n",
       "aroma            27\n",
       "acid            335\n",
       "body              3\n",
       "flavor            3\n",
       "aftertaste        3\n",
       "with_milk      1926\n",
       "desc_1            0\n",
       "desc_2            0\n",
       "desc_3            2\n",
       "dtype: int64"
      ]
     },
     "execution_count": 6,
     "metadata": {},
     "output_type": "execute_result"
    }
   ],
   "source": [
    "df.isnull().sum()"
   ]
  },
  {
   "cell_type": "code",
   "execution_count": 7,
   "metadata": {},
   "outputs": [
    {
     "data": {
      "text/plain": [
       "Text(0.5, 1.0, 'Missing Values in the Dataset (Nan Vals)\\n')"
      ]
     },
     "execution_count": 7,
     "metadata": {},
     "output_type": "execute_result"
    },
    {
     "data": {
      "image/png": "[encoded data removed]",
      "text/plain": [
       "<Figure size 1800x720 with 3 Axes>"
      ]
     },
     "metadata": {
      "needs_background": "light"
     },
     "output_type": "display_data"
    }
   ],
   "source": [
    "msno.bar(df)\n",
    "plt.title('Missing Values in the Dataset (Nan Vals)\\n', fontdict = {'size':24})"
   ]
  },
  {
   "cell_type": "code",
   "execution_count": 8,
   "metadata": {},
   "outputs": [
    {
     "data": {
      "image/png": "[encoded data removed]",
      "text/plain": [
       "<Figure size 864x576 with 2 Axes>"
      ]
     },
     "metadata": {
      "needs_background": "light"
     },
     "output_type": "display_data"
    }
   ],
   "source": [
    "plt.figure(figsize = (12,8))\n",
    "sb.heatmap(df.corr(), annot = True, linewidths=0.5)\n",
    "plt.xticks(rotation = 45)\n",
    "plt.yticks(rotation = 5)\n",
    "plt.title('Persons Correlation of Variable', fontdict={'size':18})\n",
    "plt.rcParams.update()"
   ]
  },
  {
   "cell_type": "code",
   "execution_count": 9,
   "metadata": {},
   "outputs": [
    {
     "data": {
      "text/html": [
       "<style  type=\"text/css\" >\n",
       "    #T_e5572d76_718f_11ed_a0ea_d89d6798956drow0_col0 {\n",
       "            background-color:  #00441b;\n",
       "            color:  #f1f1f1;\n",
       "        }    #T_e5572d76_718f_11ed_a0ea_d89d6798956drow0_col1 {\n",
       "            background-color:  #2a924a;\n",
       "            color:  #000000;\n",
       "        }    #T_e5572d76_718f_11ed_a0ea_d89d6798956drow0_col2 {\n",
       "            background-color:  #026f2e;\n",
       "            color:  #f1f1f1;\n",
       "        }    #T_e5572d76_718f_11ed_a0ea_d89d6798956drow0_col3 {\n",
       "            background-color:  #56b567;\n",
       "            color:  #000000;\n",
       "        }    #T_e5572d76_718f_11ed_a0ea_d89d6798956drow0_col4 {\n",
       "            background-color:  #2e964d;\n",
       "            color:  #000000;\n",
       "        }    #T_e5572d76_718f_11ed_a0ea_d89d6798956drow0_col5 {\n",
       "            background-color:  #258d47;\n",
       "            color:  #000000;\n",
       "        }    #T_e5572d76_718f_11ed_a0ea_d89d6798956drow0_col6 {\n",
       "            background-color:  #3ea75a;\n",
       "            color:  #000000;\n",
       "        }    #T_e5572d76_718f_11ed_a0ea_d89d6798956drow1_col0 {\n",
       "            background-color:  #62bb6d;\n",
       "            color:  #000000;\n",
       "        }    #T_e5572d76_718f_11ed_a0ea_d89d6798956drow1_col1 {\n",
       "            background-color:  #00441b;\n",
       "            color:  #f1f1f1;\n",
       "        }    #T_e5572d76_718f_11ed_a0ea_d89d6798956drow1_col2 {\n",
       "            background-color:  #349d53;\n",
       "            color:  #000000;\n",
       "        }    #T_e5572d76_718f_11ed_a0ea_d89d6798956drow1_col3 {\n",
       "            background-color:  #cbebc5;\n",
       "            color:  #000000;\n",
       "        }    #T_e5572d76_718f_11ed_a0ea_d89d6798956drow1_col4 {\n",
       "            background-color:  #72c375;\n",
       "            color:  #000000;\n",
       "        }    #T_e5572d76_718f_11ed_a0ea_d89d6798956drow1_col5 {\n",
       "            background-color:  #95d391;\n",
       "            color:  #000000;\n",
       "        }    #T_e5572d76_718f_11ed_a0ea_d89d6798956drow1_col6 {\n",
       "            background-color:  #94d390;\n",
       "            color:  #000000;\n",
       "        }    #T_e5572d76_718f_11ed_a0ea_d89d6798956drow2_col0 {\n",
       "            background-color:  #3fa95c;\n",
       "            color:  #000000;\n",
       "        }    #T_e5572d76_718f_11ed_a0ea_d89d6798956drow2_col1 {\n",
       "            background-color:  #86cc85;\n",
       "            color:  #000000;\n",
       "        }    #T_e5572d76_718f_11ed_a0ea_d89d6798956drow2_col2 {\n",
       "            background-color:  #00441b;\n",
       "            color:  #f1f1f1;\n",
       "        }    #T_e5572d76_718f_11ed_a0ea_d89d6798956drow2_col3 {\n",
       "            background-color:  #cbebc5;\n",
       "            color:  #000000;\n",
       "        }    #T_e5572d76_718f_11ed_a0ea_d89d6798956drow2_col4 {\n",
       "            background-color:  #98d594;\n",
       "            color:  #000000;\n",
       "        }    #T_e5572d76_718f_11ed_a0ea_d89d6798956drow2_col5 {\n",
       "            background-color:  #70c274;\n",
       "            color:  #000000;\n",
       "        }    #T_e5572d76_718f_11ed_a0ea_d89d6798956drow2_col6 {\n",
       "            background-color:  #f7fcf5;\n",
       "            color:  #000000;\n",
       "        }    #T_e5572d76_718f_11ed_a0ea_d89d6798956drow3_col0 {\n",
       "            background-color:  #bae3b3;\n",
       "            color:  #000000;\n",
       "        }    #T_e5572d76_718f_11ed_a0ea_d89d6798956drow3_col1 {\n",
       "            background-color:  #ceecc8;\n",
       "            color:  #000000;\n",
       "        }    #T_e5572d76_718f_11ed_a0ea_d89d6798956drow3_col2 {\n",
       "            background-color:  #63bc6e;\n",
       "            color:  #000000;\n",
       "        }    #T_e5572d76_718f_11ed_a0ea_d89d6798956drow3_col3 {\n",
       "            background-color:  #00441b;\n",
       "            color:  #f1f1f1;\n",
       "        }    #T_e5572d76_718f_11ed_a0ea_d89d6798956drow3_col4 {\n",
       "            background-color:  #d8f0d2;\n",
       "            color:  #000000;\n",
       "        }    #T_e5572d76_718f_11ed_a0ea_d89d6798956drow3_col5 {\n",
       "            background-color:  #bde5b6;\n",
       "            color:  #000000;\n",
       "        }    #T_e5572d76_718f_11ed_a0ea_d89d6798956drow3_col6 {\n",
       "            background-color:  #97d492;\n",
       "            color:  #000000;\n",
       "        }    #T_e5572d76_718f_11ed_a0ea_d89d6798956drow4_col0 {\n",
       "            background-color:  #5bb86a;\n",
       "            color:  #000000;\n",
       "        }    #T_e5572d76_718f_11ed_a0ea_d89d6798956drow4_col1 {\n",
       "            background-color:  #62bb6d;\n",
       "            color:  #000000;\n",
       "        }    #T_e5572d76_718f_11ed_a0ea_d89d6798956drow4_col2 {\n",
       "            background-color:  #349d53;\n",
       "            color:  #000000;\n",
       "        }    #T_e5572d76_718f_11ed_a0ea_d89d6798956drow4_col3 {\n",
       "            background-color:  #c7e9c0;\n",
       "            color:  #000000;\n",
       "        }    #T_e5572d76_718f_11ed_a0ea_d89d6798956drow4_col4 {\n",
       "            background-color:  #00441b;\n",
       "            color:  #f1f1f1;\n",
       "        }    #T_e5572d76_718f_11ed_a0ea_d89d6798956drow4_col5 {\n",
       "            background-color:  #86cc85;\n",
       "            color:  #000000;\n",
       "        }    #T_e5572d76_718f_11ed_a0ea_d89d6798956drow4_col6 {\n",
       "            background-color:  #83cb82;\n",
       "            color:  #000000;\n",
       "        }    #T_e5572d76_718f_11ed_a0ea_d89d6798956drow5_col0 {\n",
       "            background-color:  #68be70;\n",
       "            color:  #000000;\n",
       "        }    #T_e5572d76_718f_11ed_a0ea_d89d6798956drow5_col1 {\n",
       "            background-color:  #aadda4;\n",
       "            color:  #000000;\n",
       "        }    #T_e5572d76_718f_11ed_a0ea_d89d6798956drow5_col2 {\n",
       "            background-color:  #339c52;\n",
       "            color:  #000000;\n",
       "        }    #T_e5572d76_718f_11ed_a0ea_d89d6798956drow5_col3 {\n",
       "            background-color:  #ceecc8;\n",
       "            color:  #000000;\n",
       "        }    #T_e5572d76_718f_11ed_a0ea_d89d6798956drow5_col4 {\n",
       "            background-color:  #aadda4;\n",
       "            color:  #000000;\n",
       "        }    #T_e5572d76_718f_11ed_a0ea_d89d6798956drow5_col5 {\n",
       "            background-color:  #00441b;\n",
       "            color:  #f1f1f1;\n",
       "        }    #T_e5572d76_718f_11ed_a0ea_d89d6798956drow5_col6 {\n",
       "            background-color:  #a8dca2;\n",
       "            color:  #000000;\n",
       "        }    #T_e5572d76_718f_11ed_a0ea_d89d6798956drow6_col0 {\n",
       "            background-color:  #f7fcf5;\n",
       "            color:  #000000;\n",
       "        }    #T_e5572d76_718f_11ed_a0ea_d89d6798956drow6_col1 {\n",
       "            background-color:  #f7fcf5;\n",
       "            color:  #000000;\n",
       "        }    #T_e5572d76_718f_11ed_a0ea_d89d6798956drow6_col2 {\n",
       "            background-color:  #f7fcf5;\n",
       "            color:  #000000;\n",
       "        }    #T_e5572d76_718f_11ed_a0ea_d89d6798956drow6_col3 {\n",
       "            background-color:  #f7fcf5;\n",
       "            color:  #000000;\n",
       "        }    #T_e5572d76_718f_11ed_a0ea_d89d6798956drow6_col4 {\n",
       "            background-color:  #f7fcf5;\n",
       "            color:  #000000;\n",
       "        }    #T_e5572d76_718f_11ed_a0ea_d89d6798956drow6_col5 {\n",
       "            background-color:  #f7fcf5;\n",
       "            color:  #000000;\n",
       "        }    #T_e5572d76_718f_11ed_a0ea_d89d6798956drow6_col6 {\n",
       "            background-color:  #00441b;\n",
       "            color:  #f1f1f1;\n",
       "        }</style><table id=\"T_e5572d76_718f_11ed_a0ea_d89d6798956d\" ><thead>    <tr>        <th class=\"blank level0\" ></th>        <th class=\"col_heading level0 col0\" >rating</th>        <th class=\"col_heading level0 col1\" >aroma</th>        <th class=\"col_heading level0 col2\" >acid</th>        <th class=\"col_heading level0 col3\" >body</th>        <th class=\"col_heading level0 col4\" >flavor</th>        <th class=\"col_heading level0 col5\" >aftertaste</th>        <th class=\"col_heading level0 col6\" >with_milk</th>    </tr></thead><tbody>\n",
       "                <tr>\n",
       "                        <th id=\"T_e5572d76_718f_11ed_a0ea_d89d6798956dlevel0_row0\" class=\"row_heading level0 row0\" >rating</th>\n",
       "                        <td id=\"T_e5572d76_718f_11ed_a0ea_d89d6798956drow0_col0\" class=\"data row0 col0\" >1</td>\n",
       "                        <td id=\"T_e5572d76_718f_11ed_a0ea_d89d6798956drow0_col1\" class=\"data row0 col1\" >0.785475</td>\n",
       "                        <td id=\"T_e5572d76_718f_11ed_a0ea_d89d6798956drow0_col2\" class=\"data row0 col2\" >0.825465</td>\n",
       "                        <td id=\"T_e5572d76_718f_11ed_a0ea_d89d6798956drow0_col3\" class=\"data row0 col3\" >0.667216</td>\n",
       "                        <td id=\"T_e5572d76_718f_11ed_a0ea_d89d6798956drow0_col4\" class=\"data row0 col4\" >0.792177</td>\n",
       "                        <td id=\"T_e5572d76_718f_11ed_a0ea_d89d6798956drow0_col5\" class=\"data row0 col5\" >0.778599</td>\n",
       "                        <td id=\"T_e5572d76_718f_11ed_a0ea_d89d6798956drow0_col6\" class=\"data row0 col6\" >0.52821</td>\n",
       "            </tr>\n",
       "            <tr>\n",
       "                        <th id=\"T_e5572d76_718f_11ed_a0ea_d89d6798956dlevel0_row1\" class=\"row_heading level0 row1\" >aroma</th>\n",
       "                        <td id=\"T_e5572d76_718f_11ed_a0ea_d89d6798956drow1_col0\" class=\"data row1 col0\" >0.785475</td>\n",
       "                        <td id=\"T_e5572d76_718f_11ed_a0ea_d89d6798956drow1_col1\" class=\"data row1 col1\" >1</td>\n",
       "                        <td id=\"T_e5572d76_718f_11ed_a0ea_d89d6798956drow1_col2\" class=\"data row1 col2\" >0.579804</td>\n",
       "                        <td id=\"T_e5572d76_718f_11ed_a0ea_d89d6798956drow1_col3\" class=\"data row1 col3\" >0.403751</td>\n",
       "                        <td id=\"T_e5572d76_718f_11ed_a0ea_d89d6798956drow1_col4\" class=\"data row1 col4\" >0.650578</td>\n",
       "                        <td id=\"T_e5572d76_718f_11ed_a0ea_d89d6798956drow1_col5\" class=\"data row1 col5\" >0.499831</td>\n",
       "                        <td id=\"T_e5572d76_718f_11ed_a0ea_d89d6798956drow1_col6\" class=\"data row1 col6\" >0.23354</td>\n",
       "            </tr>\n",
       "            <tr>\n",
       "                        <th id=\"T_e5572d76_718f_11ed_a0ea_d89d6798956dlevel0_row2\" class=\"row_heading level0 row2\" >acid</th>\n",
       "                        <td id=\"T_e5572d76_718f_11ed_a0ea_d89d6798956drow2_col0\" class=\"data row2 col0\" >0.825465</td>\n",
       "                        <td id=\"T_e5572d76_718f_11ed_a0ea_d89d6798956drow2_col1\" class=\"data row2 col1\" >0.579804</td>\n",
       "                        <td id=\"T_e5572d76_718f_11ed_a0ea_d89d6798956drow2_col2\" class=\"data row2 col2\" >1</td>\n",
       "                        <td id=\"T_e5572d76_718f_11ed_a0ea_d89d6798956drow2_col3\" class=\"data row2 col3\" >0.402615</td>\n",
       "                        <td id=\"T_e5572d76_718f_11ed_a0ea_d89d6798956drow2_col4\" class=\"data row2 col4\" >0.57662</td>\n",
       "                        <td id=\"T_e5572d76_718f_11ed_a0ea_d89d6798956drow2_col5\" class=\"data row2 col5\" >0.585379</td>\n",
       "                        <td id=\"T_e5572d76_718f_11ed_a0ea_d89d6798956drow2_col6\" class=\"data row2 col6\" >-0.305888</td>\n",
       "            </tr>\n",
       "            <tr>\n",
       "                        <th id=\"T_e5572d76_718f_11ed_a0ea_d89d6798956dlevel0_row3\" class=\"row_heading level0 row3\" >body</th>\n",
       "                        <td id=\"T_e5572d76_718f_11ed_a0ea_d89d6798956drow3_col0\" class=\"data row3 col0\" >0.667216</td>\n",
       "                        <td id=\"T_e5572d76_718f_11ed_a0ea_d89d6798956drow3_col1\" class=\"data row3 col1\" >0.403751</td>\n",
       "                        <td id=\"T_e5572d76_718f_11ed_a0ea_d89d6798956drow3_col2\" class=\"data row3 col2\" >0.402615</td>\n",
       "                        <td id=\"T_e5572d76_718f_11ed_a0ea_d89d6798956drow3_col3\" class=\"data row3 col3\" >1</td>\n",
       "                        <td id=\"T_e5572d76_718f_11ed_a0ea_d89d6798956drow3_col4\" class=\"data row3 col4\" >0.420409</td>\n",
       "                        <td id=\"T_e5572d76_718f_11ed_a0ea_d89d6798956drow3_col5\" class=\"data row3 col5\" >0.393995</td>\n",
       "                        <td id=\"T_e5572d76_718f_11ed_a0ea_d89d6798956drow3_col6\" class=\"data row3 col6\" >0.223331</td>\n",
       "            </tr>\n",
       "            <tr>\n",
       "                        <th id=\"T_e5572d76_718f_11ed_a0ea_d89d6798956dlevel0_row4\" class=\"row_heading level0 row4\" >flavor</th>\n",
       "                        <td id=\"T_e5572d76_718f_11ed_a0ea_d89d6798956drow4_col0\" class=\"data row4 col0\" >0.792177</td>\n",
       "                        <td id=\"T_e5572d76_718f_11ed_a0ea_d89d6798956drow4_col1\" class=\"data row4 col1\" >0.650578</td>\n",
       "                        <td id=\"T_e5572d76_718f_11ed_a0ea_d89d6798956drow4_col2\" class=\"data row4 col2\" >0.57662</td>\n",
       "                        <td id=\"T_e5572d76_718f_11ed_a0ea_d89d6798956drow4_col3\" class=\"data row4 col3\" >0.420409</td>\n",
       "                        <td id=\"T_e5572d76_718f_11ed_a0ea_d89d6798956drow4_col4\" class=\"data row4 col4\" >1</td>\n",
       "                        <td id=\"T_e5572d76_718f_11ed_a0ea_d89d6798956drow4_col5\" class=\"data row4 col5\" >0.536501</td>\n",
       "                        <td id=\"T_e5572d76_718f_11ed_a0ea_d89d6798956drow4_col6\" class=\"data row4 col6\" >0.293096</td>\n",
       "            </tr>\n",
       "            <tr>\n",
       "                        <th id=\"T_e5572d76_718f_11ed_a0ea_d89d6798956dlevel0_row5\" class=\"row_heading level0 row5\" >aftertaste</th>\n",
       "                        <td id=\"T_e5572d76_718f_11ed_a0ea_d89d6798956drow5_col0\" class=\"data row5 col0\" >0.778599</td>\n",
       "                        <td id=\"T_e5572d76_718f_11ed_a0ea_d89d6798956drow5_col1\" class=\"data row5 col1\" >0.499831</td>\n",
       "                        <td id=\"T_e5572d76_718f_11ed_a0ea_d89d6798956drow5_col2\" class=\"data row5 col2\" >0.585379</td>\n",
       "                        <td id=\"T_e5572d76_718f_11ed_a0ea_d89d6798956drow5_col3\" class=\"data row5 col3\" >0.393995</td>\n",
       "                        <td id=\"T_e5572d76_718f_11ed_a0ea_d89d6798956drow5_col4\" class=\"data row5 col4\" >0.536501</td>\n",
       "                        <td id=\"T_e5572d76_718f_11ed_a0ea_d89d6798956drow5_col5\" class=\"data row5 col5\" >1</td>\n",
       "                        <td id=\"T_e5572d76_718f_11ed_a0ea_d89d6798956drow5_col6\" class=\"data row5 col6\" >0.15364</td>\n",
       "            </tr>\n",
       "            <tr>\n",
       "                        <th id=\"T_e5572d76_718f_11ed_a0ea_d89d6798956dlevel0_row6\" class=\"row_heading level0 row6\" >with_milk</th>\n",
       "                        <td id=\"T_e5572d76_718f_11ed_a0ea_d89d6798956drow6_col0\" class=\"data row6 col0\" >0.52821</td>\n",
       "                        <td id=\"T_e5572d76_718f_11ed_a0ea_d89d6798956drow6_col1\" class=\"data row6 col1\" >0.23354</td>\n",
       "                        <td id=\"T_e5572d76_718f_11ed_a0ea_d89d6798956drow6_col2\" class=\"data row6 col2\" >-0.305888</td>\n",
       "                        <td id=\"T_e5572d76_718f_11ed_a0ea_d89d6798956drow6_col3\" class=\"data row6 col3\" >0.223331</td>\n",
       "                        <td id=\"T_e5572d76_718f_11ed_a0ea_d89d6798956drow6_col4\" class=\"data row6 col4\" >0.293096</td>\n",
       "                        <td id=\"T_e5572d76_718f_11ed_a0ea_d89d6798956drow6_col5\" class=\"data row6 col5\" >0.15364</td>\n",
       "                        <td id=\"T_e5572d76_718f_11ed_a0ea_d89d6798956drow6_col6\" class=\"data row6 col6\" >1</td>\n",
       "            </tr>\n",
       "    </tbody></table>"
      ],
      "text/plain": [
       "<pandas.io.formats.style.Styler at 0x1d38784c908>"
      ]
     },
     "execution_count": 9,
     "metadata": {},
     "output_type": "execute_result"
    }
   ],
   "source": [
    "df.corr().style.background_gradient('Greens')"
   ]
  },
  {
   "cell_type": "code",
   "execution_count": 10,
   "metadata": {},
   "outputs": [
    {
     "data": {
      "text/html": [
       "<div>\n",
       "<style scoped>\n",
       "    .dataframe tbody tr th:only-of-type {\n",
       "        vertical-align: middle;\n",
       "    }\n",
       "\n",
       "    .dataframe tbody tr th {\n",
       "        vertical-align: top;\n",
       "    }\n",
       "\n",
       "    .dataframe thead th {\n",
       "        text-align: right;\n",
       "    }\n",
       "</style>\n",
       "<table border=\"1\" class=\"dataframe\">\n",
       "  <thead>\n",
       "    <tr style=\"text-align: right;\">\n",
       "      <th></th>\n",
       "      <th>slug</th>\n",
       "      <th>all_text</th>\n",
       "      <th>rating</th>\n",
       "      <th>roaster</th>\n",
       "      <th>name</th>\n",
       "      <th>location</th>\n",
       "      <th>origin</th>\n",
       "      <th>roast</th>\n",
       "      <th>est_price</th>\n",
       "      <th>review_date</th>\n",
       "      <th>agtron</th>\n",
       "      <th>aroma</th>\n",
       "      <th>acid</th>\n",
       "      <th>body</th>\n",
       "      <th>flavor</th>\n",
       "      <th>aftertaste</th>\n",
       "      <th>with_milk</th>\n",
       "      <th>desc_1</th>\n",
       "      <th>desc_2</th>\n",
       "      <th>desc_3</th>\n",
       "    </tr>\n",
       "  </thead>\n",
       "  <tbody>\n",
       "    <tr>\n",
       "      <td>0</td>\n",
       "      <td>https://www.coffeereview.com/review/sweety-esp...</td>\n",
       "      <td>\\n\\n\\n95\\n\\n\\nA.R.C.\\n“Sweety” Espresso Blend...</td>\n",
       "      <td>95</td>\n",
       "      <td>A.R.C.</td>\n",
       "      <td>“Sweety” Espresso Blend</td>\n",
       "      <td>Hong Kong, China</td>\n",
       "      <td>Panama; Ethiopia</td>\n",
       "      <td>Medium-Light</td>\n",
       "      <td>HKD $250/227 grams</td>\n",
       "      <td>November 2017</td>\n",
       "      <td>50/73</td>\n",
       "      <td>9.0</td>\n",
       "      <td>NaN</td>\n",
       "      <td>9.0</td>\n",
       "      <td>9.0</td>\n",
       "      <td>9.0</td>\n",
       "      <td>9.0</td>\n",
       "      <td>Evaluated as espresso. Sweet-toned, deeply ric...</td>\n",
       "      <td>An espresso blend comprised of coffees from Pa...</td>\n",
       "      <td>A radiant espresso blend that shines equally i...</td>\n",
       "    </tr>\n",
       "    <tr>\n",
       "      <td>1</td>\n",
       "      <td>https://www.coffeereview.com/review/flora-blen...</td>\n",
       "      <td>\\n\\n\\n94\\n\\n\\nA.R.C.\\nFlora Blend Espresso\\n\\...</td>\n",
       "      <td>94</td>\n",
       "      <td>A.R.C.</td>\n",
       "      <td>Flora Blend Espresso</td>\n",
       "      <td>Hong Kong, China</td>\n",
       "      <td>Africa; Asia Pacific</td>\n",
       "      <td>Medium-Light</td>\n",
       "      <td>HKD $158/227 grams</td>\n",
       "      <td>November 2017</td>\n",
       "      <td>54/77</td>\n",
       "      <td>9.0</td>\n",
       "      <td>NaN</td>\n",
       "      <td>9.0</td>\n",
       "      <td>9.0</td>\n",
       "      <td>8.0</td>\n",
       "      <td>9.0</td>\n",
       "      <td>Evaluated as espresso. Sweetly tart, floral-to...</td>\n",
       "      <td>An espresso blend comprised of coffees from Af...</td>\n",
       "      <td>A floral-driven straight shot, amplified with ...</td>\n",
       "    </tr>\n",
       "  </tbody>\n",
       "</table>\n",
       "</div>"
      ],
      "text/plain": [
       "                                                slug  \\\n",
       "0  https://www.coffeereview.com/review/sweety-esp...   \n",
       "1  https://www.coffeereview.com/review/flora-blen...   \n",
       "\n",
       "                                            all_text  rating roaster  \\\n",
       "0   \\n\\n\\n95\\n\\n\\nA.R.C.\\n“Sweety” Espresso Blend...      95  A.R.C.   \n",
       "1   \\n\\n\\n94\\n\\n\\nA.R.C.\\nFlora Blend Espresso\\n\\...      94  A.R.C.   \n",
       "\n",
       "                      name          location                origin  \\\n",
       "0  “Sweety” Espresso Blend  Hong Kong, China      Panama; Ethiopia   \n",
       "1     Flora Blend Espresso  Hong Kong, China  Africa; Asia Pacific   \n",
       "\n",
       "          roast           est_price    review_date agtron  aroma  acid  body  \\\n",
       "0  Medium-Light  HKD $250/227 grams  November 2017  50/73    9.0   NaN   9.0   \n",
       "1  Medium-Light  HKD $158/227 grams  November 2017  54/77    9.0   NaN   9.0   \n",
       "\n",
       "   flavor  aftertaste  with_milk  \\\n",
       "0     9.0         9.0        9.0   \n",
       "1     9.0         8.0        9.0   \n",
       "\n",
       "                                              desc_1  \\\n",
       "0  Evaluated as espresso. Sweet-toned, deeply ric...   \n",
       "1  Evaluated as espresso. Sweetly tart, floral-to...   \n",
       "\n",
       "                                              desc_2  \\\n",
       "0  An espresso blend comprised of coffees from Pa...   \n",
       "1  An espresso blend comprised of coffees from Af...   \n",
       "\n",
       "                                              desc_3  \n",
       "0  A radiant espresso blend that shines equally i...  \n",
       "1  A floral-driven straight shot, amplified with ...  "
      ]
     },
     "execution_count": 10,
     "metadata": {},
     "output_type": "execute_result"
    }
   ],
   "source": [
    "df.head(2)"
   ]
  },
  {
   "cell_type": "code",
   "execution_count": 11,
   "metadata": {},
   "outputs": [
    {
     "data": {
      "text/plain": [
       "Text(0.5, 1.0, 'Distirbution plot for the Ratings variable')"
      ]
     },
     "execution_count": 11,
     "metadata": {},
     "output_type": "execute_result"
    },
    {
     "data": {
      "image/png": "[encoded data removed]",
      "text/plain": [
       "<Figure size 432x288 with 1 Axes>"
      ]
     },
     "metadata": {
      "needs_background": "light"
     },
     "output_type": "display_data"
    }
   ],
   "source": [
    "sb.distplot(df['rating'])\n",
    "plt.title('Distirbution plot for the Ratings variable', fontdict = {'size': 14})"
   ]
  },
  {
   "cell_type": "code",
   "execution_count": 12,
   "metadata": {},
   "outputs": [
    {
     "data": {
      "text/plain": [
       "Text(0.5, 1.0, 'Distirbution plot for the Aroma variable')"
      ]
     },
     "execution_count": 12,
     "metadata": {},
     "output_type": "execute_result"
    },
    {
     "data": {
      "image/png": "[encoded data removed]",
      "text/plain": [
       "<Figure size 432x288 with 1 Axes>"
      ]
     },
     "metadata": {
      "needs_background": "light"
     },
     "output_type": "display_data"
    }
   ],
   "source": [
    "sb.distplot(df['aroma'])\n",
    "plt.title('Distirbution plot for the Aroma variable', fontdict = {'size': 14})"
   ]
  },
  {
   "cell_type": "code",
   "execution_count": 13,
   "metadata": {},
   "outputs": [
    {
     "data": {
      "text/plain": [
       "Text(0.5, 1.0, 'Distirbution plot for the Flavor variable')"
      ]
     },
     "execution_count": 13,
     "metadata": {},
     "output_type": "execute_result"
    },
    {
     "data": {
      "image/png": "[encoded data removed]",
      "text/plain": [
       "<Figure size 432x288 with 1 Axes>"
      ]
     },
     "metadata": {
      "needs_background": "light"
     },
     "output_type": "display_data"
    }
   ],
   "source": [
    "sb.distplot(df['flavor'])\n",
    "plt.title('Distirbution plot for the Flavor variable', fontdict = {'size': 14})"
   ]
  },
  {
   "cell_type": "code",
   "execution_count": 14,
   "metadata": {},
   "outputs": [
    {
     "data": {
      "text/plain": [
       "Text(0.5, 1.0, 'Distirbution plot for the After Taste variable')"
      ]
     },
     "execution_count": 14,
     "metadata": {},
     "output_type": "execute_result"
    },
    {
     "data": {
      "image/png": "[encoded data removed]",
      "text/plain": [
       "<Figure size 432x288 with 1 Axes>"
      ]
     },
     "metadata": {
      "needs_background": "light"
     },
     "output_type": "display_data"
    }
   ],
   "source": [
    "sb.distplot(df['aftertaste'])\n",
    "plt.title('Distirbution plot for the After Taste variable', fontdict = {'size': 14})"
   ]
  },
  {
   "cell_type": "code",
   "execution_count": 15,
   "metadata": {},
   "outputs": [
    {
     "data": {
      "text/html": [
       "<div>\n",
       "<style scoped>\n",
       "    .dataframe tbody tr th:only-of-type {\n",
       "        vertical-align: middle;\n",
       "    }\n",
       "\n",
       "    .dataframe tbody tr th {\n",
       "        vertical-align: top;\n",
       "    }\n",
       "\n",
       "    .dataframe thead th {\n",
       "        text-align: right;\n",
       "    }\n",
       "</style>\n",
       "<table border=\"1\" class=\"dataframe\">\n",
       "  <thead>\n",
       "    <tr style=\"text-align: right;\">\n",
       "      <th></th>\n",
       "      <th>slug</th>\n",
       "      <th>all_text</th>\n",
       "      <th>rating</th>\n",
       "      <th>roaster</th>\n",
       "      <th>name</th>\n",
       "      <th>location</th>\n",
       "      <th>origin</th>\n",
       "      <th>roast</th>\n",
       "      <th>est_price</th>\n",
       "      <th>review_date</th>\n",
       "      <th>agtron</th>\n",
       "      <th>aroma</th>\n",
       "      <th>acid</th>\n",
       "      <th>body</th>\n",
       "      <th>flavor</th>\n",
       "      <th>aftertaste</th>\n",
       "      <th>with_milk</th>\n",
       "      <th>desc_1</th>\n",
       "      <th>desc_2</th>\n",
       "      <th>desc_3</th>\n",
       "    </tr>\n",
       "  </thead>\n",
       "  <tbody>\n",
       "    <tr>\n",
       "      <td>0</td>\n",
       "      <td>https://www.coffeereview.com/review/sweety-esp...</td>\n",
       "      <td>\\n\\n\\n95\\n\\n\\nA.R.C.\\n“Sweety” Espresso Blend...</td>\n",
       "      <td>95</td>\n",
       "      <td>A.R.C.</td>\n",
       "      <td>“Sweety” Espresso Blend</td>\n",
       "      <td>Hong Kong, China</td>\n",
       "      <td>Panama; Ethiopia</td>\n",
       "      <td>Medium-Light</td>\n",
       "      <td>HKD $250/227 grams</td>\n",
       "      <td>November 2017</td>\n",
       "      <td>50/73</td>\n",
       "      <td>9.0</td>\n",
       "      <td>NaN</td>\n",
       "      <td>9.0</td>\n",
       "      <td>9.0</td>\n",
       "      <td>9.0</td>\n",
       "      <td>9.0</td>\n",
       "      <td>Evaluated as espresso. Sweet-toned, deeply ric...</td>\n",
       "      <td>An espresso blend comprised of coffees from Pa...</td>\n",
       "      <td>A radiant espresso blend that shines equally i...</td>\n",
       "    </tr>\n",
       "    <tr>\n",
       "      <td>1</td>\n",
       "      <td>https://www.coffeereview.com/review/flora-blen...</td>\n",
       "      <td>\\n\\n\\n94\\n\\n\\nA.R.C.\\nFlora Blend Espresso\\n\\...</td>\n",
       "      <td>94</td>\n",
       "      <td>A.R.C.</td>\n",
       "      <td>Flora Blend Espresso</td>\n",
       "      <td>Hong Kong, China</td>\n",
       "      <td>Africa; Asia Pacific</td>\n",
       "      <td>Medium-Light</td>\n",
       "      <td>HKD $158/227 grams</td>\n",
       "      <td>November 2017</td>\n",
       "      <td>54/77</td>\n",
       "      <td>9.0</td>\n",
       "      <td>NaN</td>\n",
       "      <td>9.0</td>\n",
       "      <td>9.0</td>\n",
       "      <td>8.0</td>\n",
       "      <td>9.0</td>\n",
       "      <td>Evaluated as espresso. Sweetly tart, floral-to...</td>\n",
       "      <td>An espresso blend comprised of coffees from Af...</td>\n",
       "      <td>A floral-driven straight shot, amplified with ...</td>\n",
       "    </tr>\n",
       "  </tbody>\n",
       "</table>\n",
       "</div>"
      ],
      "text/plain": [
       "                                                slug  \\\n",
       "0  https://www.coffeereview.com/review/sweety-esp...   \n",
       "1  https://www.coffeereview.com/review/flora-blen...   \n",
       "\n",
       "                                            all_text  rating roaster  \\\n",
       "0   \\n\\n\\n95\\n\\n\\nA.R.C.\\n“Sweety” Espresso Blend...      95  A.R.C.   \n",
       "1   \\n\\n\\n94\\n\\n\\nA.R.C.\\nFlora Blend Espresso\\n\\...      94  A.R.C.   \n",
       "\n",
       "                      name          location                origin  \\\n",
       "0  “Sweety” Espresso Blend  Hong Kong, China      Panama; Ethiopia   \n",
       "1     Flora Blend Espresso  Hong Kong, China  Africa; Asia Pacific   \n",
       "\n",
       "          roast           est_price    review_date agtron  aroma  acid  body  \\\n",
       "0  Medium-Light  HKD $250/227 grams  November 2017  50/73    9.0   NaN   9.0   \n",
       "1  Medium-Light  HKD $158/227 grams  November 2017  54/77    9.0   NaN   9.0   \n",
       "\n",
       "   flavor  aftertaste  with_milk  \\\n",
       "0     9.0         9.0        9.0   \n",
       "1     9.0         8.0        9.0   \n",
       "\n",
       "                                              desc_1  \\\n",
       "0  Evaluated as espresso. Sweet-toned, deeply ric...   \n",
       "1  Evaluated as espresso. Sweetly tart, floral-to...   \n",
       "\n",
       "                                              desc_2  \\\n",
       "0  An espresso blend comprised of coffees from Pa...   \n",
       "1  An espresso blend comprised of coffees from Af...   \n",
       "\n",
       "                                              desc_3  \n",
       "0  A radiant espresso blend that shines equally i...  \n",
       "1  A floral-driven straight shot, amplified with ...  "
      ]
     },
     "execution_count": 15,
     "metadata": {},
     "output_type": "execute_result"
    }
   ],
   "source": [
    "df.head(2)"
   ]
  },
  {
   "cell_type": "code",
   "execution_count": 16,
   "metadata": {},
   "outputs": [
    {
     "data": {
      "text/plain": [
       "Text(0.5, 1.0, 'Top 10 Roaster in the coffee Industry')"
      ]
     },
     "execution_count": 16,
     "metadata": {},
     "output_type": "execute_result"
    },
    {
     "data": {
      "image/png": "[encoded data removed]",
      "text/plain": [
       "<Figure size 432x288 with 1 Axes>"
      ]
     },
     "metadata": {
      "needs_background": "light"
     },
     "output_type": "display_data"
    }
   ],
   "source": [
    "df['roaster'].value_counts().head(10).plot(kind = 'barh', color = '#FFA500')\n",
    "plt.title('Top 10 Roaster in the coffee Industry', fontdict = {'size':14})"
   ]
  },
  {
   "cell_type": "code",
   "execution_count": 17,
   "metadata": {},
   "outputs": [
    {
     "data": {
      "text/plain": [
       "Text(0.5, 1.0, '20 most common coffee ')"
      ]
     },
     "execution_count": 17,
     "metadata": {},
     "output_type": "execute_result"
    },
    {
     "data": {
      "image/png": "[encoded data removed]",
      "text/plain": [
       "<Figure size 432x288 with 1 Axes>"
      ]
     },
     "metadata": {
      "needs_background": "light"
     },
     "output_type": "display_data"
    }
   ],
   "source": [
    "df['name'].value_counts().head(20).plot(kind = 'barh')\n",
    "plt.title('20 most common coffee ', fontdict = {'size':14})"
   ]
  },
  {
   "cell_type": "code",
   "execution_count": 18,
   "metadata": {},
   "outputs": [
    {
     "data": {
      "text/plain": [
       "Text(0.5, 1.0, 'Coffee markets across cities ranked')"
      ]
     },
     "execution_count": 18,
     "metadata": {},
     "output_type": "execute_result"
    },
    {
     "data": {
      "image/png": "[encoded data removed]",
      "text/plain": [
       "<Figure size 864x576 with 1 Axes>"
      ]
     },
     "metadata": {
      "needs_background": "light"
     },
     "output_type": "display_data"
    }
   ],
   "source": [
    "plt.figure(figsize = (12, 8))\n",
    "df['location'].value_counts().head(20).plot(kind = 'barh', color = '#B93B8F')\n",
    "plt.title('Coffee markets across cities ranked', fontdict = {'size':20})"
   ]
  },
  {
   "cell_type": "code",
   "execution_count": 19,
   "metadata": {},
   "outputs": [
    {
     "data": {
      "text/plain": [
       "Text(0.5, 1.0, 'Coffee Origin around the Globe')"
      ]
     },
     "execution_count": 19,
     "metadata": {},
     "output_type": "execute_result"
    },
    {
     "data": {
      "image/png": "[encoded data removed]",
      "text/plain": [
       "<Figure size 432x288 with 1 Axes>"
      ]
     },
     "metadata": {
      "needs_background": "light"
     },
     "output_type": "display_data"
    }
   ],
   "source": [
    "df['origin'].value_counts().head(10).plot(kind = 'barh', color = '#46C7C7')\n",
    "plt.title('Coffee Origin around the Globe', fontdict = {'size':14})"
   ]
  },
  {
   "cell_type": "code",
   "execution_count": 20,
   "metadata": {},
   "outputs": [
    {
     "data": {
      "text/plain": [
       "Text(0.5, 1.0, 'Coffee Roast Popularity')"
      ]
     },
     "execution_count": 20,
     "metadata": {},
     "output_type": "execute_result"
    },
    {
     "data": {
      "image/png": "[encoded data removed]",
      "text/plain": [
       "<Figure size 432x288 with 1 Axes>"
      ]
     },
     "metadata": {
      "needs_background": "light"
     },
     "output_type": "display_data"
    }
   ],
   "source": [
    "df['roast'].value_counts().plot(kind = 'barh')\n",
    "plt.title('Coffee Roast Popularity', fontdict = {'size':14})"
   ]
  },
  {
   "cell_type": "code",
   "execution_count": 21,
   "metadata": {},
   "outputs": [
    {
     "data": {
      "text/plain": [
       "Text(0.5, 1.0, 'Est Price of Coffee in the immediate market')"
      ]
     },
     "execution_count": 21,
     "metadata": {},
     "output_type": "execute_result"
    },
    {
     "data": {
      "image/png": "[encoded data removed]",
      "text/plain": [
       "<Figure size 432x288 with 1 Axes>"
      ]
     },
     "metadata": {
      "needs_background": "light"
     },
     "output_type": "display_data"
    }
   ],
   "source": [
    "df['est_price'].value_counts().head(10).plot(kind = 'barh', color = '#4E9258')\n",
    "plt.title('Est Price of Coffee in the immediate market', fontdict = {'size':14})"
   ]
  },
  {
   "cell_type": "code",
   "execution_count": 22,
   "metadata": {},
   "outputs": [
    {
     "data": {
      "text/html": [
       "<div>\n",
       "<style scoped>\n",
       "    .dataframe tbody tr th:only-of-type {\n",
       "        vertical-align: middle;\n",
       "    }\n",
       "\n",
       "    .dataframe tbody tr th {\n",
       "        vertical-align: top;\n",
       "    }\n",
       "\n",
       "    .dataframe thead th {\n",
       "        text-align: right;\n",
       "    }\n",
       "</style>\n",
       "<table border=\"1\" class=\"dataframe\">\n",
       "  <thead>\n",
       "    <tr style=\"text-align: right;\">\n",
       "      <th></th>\n",
       "      <th>slug</th>\n",
       "      <th>all_text</th>\n",
       "      <th>rating</th>\n",
       "      <th>roaster</th>\n",
       "      <th>name</th>\n",
       "      <th>location</th>\n",
       "      <th>origin</th>\n",
       "      <th>roast</th>\n",
       "      <th>est_price</th>\n",
       "      <th>review_date</th>\n",
       "      <th>agtron</th>\n",
       "      <th>aroma</th>\n",
       "      <th>acid</th>\n",
       "      <th>body</th>\n",
       "      <th>flavor</th>\n",
       "      <th>aftertaste</th>\n",
       "      <th>with_milk</th>\n",
       "      <th>desc_1</th>\n",
       "      <th>desc_2</th>\n",
       "      <th>desc_3</th>\n",
       "    </tr>\n",
       "  </thead>\n",
       "  <tbody>\n",
       "    <tr>\n",
       "      <td>0</td>\n",
       "      <td>https://www.coffeereview.com/review/sweety-esp...</td>\n",
       "      <td>\\n\\n\\n95\\n\\n\\nA.R.C.\\n“Sweety” Espresso Blend...</td>\n",
       "      <td>95</td>\n",
       "      <td>A.R.C.</td>\n",
       "      <td>“Sweety” Espresso Blend</td>\n",
       "      <td>Hong Kong, China</td>\n",
       "      <td>Panama; Ethiopia</td>\n",
       "      <td>Medium-Light</td>\n",
       "      <td>HKD $250/227 grams</td>\n",
       "      <td>November 2017</td>\n",
       "      <td>50/73</td>\n",
       "      <td>9.0</td>\n",
       "      <td>NaN</td>\n",
       "      <td>9.0</td>\n",
       "      <td>9.0</td>\n",
       "      <td>9.0</td>\n",
       "      <td>9.0</td>\n",
       "      <td>Evaluated as espresso. Sweet-toned, deeply ric...</td>\n",
       "      <td>An espresso blend comprised of coffees from Pa...</td>\n",
       "      <td>A radiant espresso blend that shines equally i...</td>\n",
       "    </tr>\n",
       "    <tr>\n",
       "      <td>1</td>\n",
       "      <td>https://www.coffeereview.com/review/flora-blen...</td>\n",
       "      <td>\\n\\n\\n94\\n\\n\\nA.R.C.\\nFlora Blend Espresso\\n\\...</td>\n",
       "      <td>94</td>\n",
       "      <td>A.R.C.</td>\n",
       "      <td>Flora Blend Espresso</td>\n",
       "      <td>Hong Kong, China</td>\n",
       "      <td>Africa; Asia Pacific</td>\n",
       "      <td>Medium-Light</td>\n",
       "      <td>HKD $158/227 grams</td>\n",
       "      <td>November 2017</td>\n",
       "      <td>54/77</td>\n",
       "      <td>9.0</td>\n",
       "      <td>NaN</td>\n",
       "      <td>9.0</td>\n",
       "      <td>9.0</td>\n",
       "      <td>8.0</td>\n",
       "      <td>9.0</td>\n",
       "      <td>Evaluated as espresso. Sweetly tart, floral-to...</td>\n",
       "      <td>An espresso blend comprised of coffees from Af...</td>\n",
       "      <td>A floral-driven straight shot, amplified with ...</td>\n",
       "    </tr>\n",
       "  </tbody>\n",
       "</table>\n",
       "</div>"
      ],
      "text/plain": [
       "                                                slug  \\\n",
       "0  https://www.coffeereview.com/review/sweety-esp...   \n",
       "1  https://www.coffeereview.com/review/flora-blen...   \n",
       "\n",
       "                                            all_text  rating roaster  \\\n",
       "0   \\n\\n\\n95\\n\\n\\nA.R.C.\\n“Sweety” Espresso Blend...      95  A.R.C.   \n",
       "1   \\n\\n\\n94\\n\\n\\nA.R.C.\\nFlora Blend Espresso\\n\\...      94  A.R.C.   \n",
       "\n",
       "                      name          location                origin  \\\n",
       "0  “Sweety” Espresso Blend  Hong Kong, China      Panama; Ethiopia   \n",
       "1     Flora Blend Espresso  Hong Kong, China  Africa; Asia Pacific   \n",
       "\n",
       "          roast           est_price    review_date agtron  aroma  acid  body  \\\n",
       "0  Medium-Light  HKD $250/227 grams  November 2017  50/73    9.0   NaN   9.0   \n",
       "1  Medium-Light  HKD $158/227 grams  November 2017  54/77    9.0   NaN   9.0   \n",
       "\n",
       "   flavor  aftertaste  with_milk  \\\n",
       "0     9.0         9.0        9.0   \n",
       "1     9.0         8.0        9.0   \n",
       "\n",
       "                                              desc_1  \\\n",
       "0  Evaluated as espresso. Sweet-toned, deeply ric...   \n",
       "1  Evaluated as espresso. Sweetly tart, floral-to...   \n",
       "\n",
       "                                              desc_2  \\\n",
       "0  An espresso blend comprised of coffees from Pa...   \n",
       "1  An espresso blend comprised of coffees from Af...   \n",
       "\n",
       "                                              desc_3  \n",
       "0  A radiant espresso blend that shines equally i...  \n",
       "1  A floral-driven straight shot, amplified with ...  "
      ]
     },
     "execution_count": 22,
     "metadata": {},
     "output_type": "execute_result"
    }
   ],
   "source": [
    "df.head(2)"
   ]
  },
  {
   "cell_type": "markdown",
   "metadata": {},
   "source": [
    "### Data Cleaning and Manipulation"
   ]
  },
  {
   "cell_type": "code",
   "execution_count": 23,
   "metadata": {},
   "outputs": [
    {
     "data": {
      "text/plain": [
       "slug              0\n",
       "all_text          0\n",
       "rating            0\n",
       "roaster           0\n",
       "name              0\n",
       "location          1\n",
       "origin            0\n",
       "roast            53\n",
       "est_price         5\n",
       "review_date       0\n",
       "agtron            0\n",
       "aroma            27\n",
       "acid            335\n",
       "body              3\n",
       "flavor            3\n",
       "aftertaste        3\n",
       "with_milk      1926\n",
       "desc_1            0\n",
       "desc_2            0\n",
       "desc_3            2\n",
       "dtype: int64"
      ]
     },
     "execution_count": 23,
     "metadata": {},
     "output_type": "execute_result"
    }
   ],
   "source": [
    "df.isnull().sum()"
   ]
  },
  {
   "cell_type": "code",
   "execution_count": 24,
   "metadata": {},
   "outputs": [
    {
     "data": {
      "text/html": [
       "<div>\n",
       "<style scoped>\n",
       "    .dataframe tbody tr th:only-of-type {\n",
       "        vertical-align: middle;\n",
       "    }\n",
       "\n",
       "    .dataframe tbody tr th {\n",
       "        vertical-align: top;\n",
       "    }\n",
       "\n",
       "    .dataframe thead th {\n",
       "        text-align: right;\n",
       "    }\n",
       "</style>\n",
       "<table border=\"1\" class=\"dataframe\">\n",
       "  <thead>\n",
       "    <tr style=\"text-align: right;\">\n",
       "      <th></th>\n",
       "      <th>rating</th>\n",
       "      <th>roaster</th>\n",
       "      <th>name</th>\n",
       "      <th>location</th>\n",
       "      <th>origin</th>\n",
       "      <th>roast</th>\n",
       "      <th>est_price</th>\n",
       "      <th>review_date</th>\n",
       "      <th>agtron</th>\n",
       "      <th>aroma</th>\n",
       "      <th>acid</th>\n",
       "      <th>body</th>\n",
       "      <th>flavor</th>\n",
       "      <th>aftertaste</th>\n",
       "      <th>with_milk</th>\n",
       "      <th>desc_1</th>\n",
       "      <th>desc_2</th>\n",
       "      <th>desc_3</th>\n",
       "    </tr>\n",
       "  </thead>\n",
       "  <tbody>\n",
       "    <tr>\n",
       "      <td>0</td>\n",
       "      <td>95</td>\n",
       "      <td>A.R.C.</td>\n",
       "      <td>“Sweety” Espresso Blend</td>\n",
       "      <td>Hong Kong, China</td>\n",
       "      <td>Panama; Ethiopia</td>\n",
       "      <td>Medium-Light</td>\n",
       "      <td>HKD $250/227 grams</td>\n",
       "      <td>November 2017</td>\n",
       "      <td>50/73</td>\n",
       "      <td>9.0</td>\n",
       "      <td>NaN</td>\n",
       "      <td>9.0</td>\n",
       "      <td>9.0</td>\n",
       "      <td>9.0</td>\n",
       "      <td>9.0</td>\n",
       "      <td>Evaluated as espresso. Sweet-toned, deeply ric...</td>\n",
       "      <td>An espresso blend comprised of coffees from Pa...</td>\n",
       "      <td>A radiant espresso blend that shines equally i...</td>\n",
       "    </tr>\n",
       "    <tr>\n",
       "      <td>1</td>\n",
       "      <td>94</td>\n",
       "      <td>A.R.C.</td>\n",
       "      <td>Flora Blend Espresso</td>\n",
       "      <td>Hong Kong, China</td>\n",
       "      <td>Africa; Asia Pacific</td>\n",
       "      <td>Medium-Light</td>\n",
       "      <td>HKD $158/227 grams</td>\n",
       "      <td>November 2017</td>\n",
       "      <td>54/77</td>\n",
       "      <td>9.0</td>\n",
       "      <td>NaN</td>\n",
       "      <td>9.0</td>\n",
       "      <td>9.0</td>\n",
       "      <td>8.0</td>\n",
       "      <td>9.0</td>\n",
       "      <td>Evaluated as espresso. Sweetly tart, floral-to...</td>\n",
       "      <td>An espresso blend comprised of coffees from Af...</td>\n",
       "      <td>A floral-driven straight shot, amplified with ...</td>\n",
       "    </tr>\n",
       "  </tbody>\n",
       "</table>\n",
       "</div>"
      ],
      "text/plain": [
       "   rating roaster                     name          location  \\\n",
       "0      95  A.R.C.  “Sweety” Espresso Blend  Hong Kong, China   \n",
       "1      94  A.R.C.     Flora Blend Espresso  Hong Kong, China   \n",
       "\n",
       "                 origin         roast           est_price    review_date  \\\n",
       "0      Panama; Ethiopia  Medium-Light  HKD $250/227 grams  November 2017   \n",
       "1  Africa; Asia Pacific  Medium-Light  HKD $158/227 grams  November 2017   \n",
       "\n",
       "  agtron  aroma  acid  body  flavor  aftertaste  with_milk  \\\n",
       "0  50/73    9.0   NaN   9.0     9.0         9.0        9.0   \n",
       "1  54/77    9.0   NaN   9.0     9.0         8.0        9.0   \n",
       "\n",
       "                                              desc_1  \\\n",
       "0  Evaluated as espresso. Sweet-toned, deeply ric...   \n",
       "1  Evaluated as espresso. Sweetly tart, floral-to...   \n",
       "\n",
       "                                              desc_2  \\\n",
       "0  An espresso blend comprised of coffees from Pa...   \n",
       "1  An espresso blend comprised of coffees from Af...   \n",
       "\n",
       "                                              desc_3  \n",
       "0  A radiant espresso blend that shines equally i...  \n",
       "1  A floral-driven straight shot, amplified with ...  "
      ]
     },
     "execution_count": 24,
     "metadata": {},
     "output_type": "execute_result"
    }
   ],
   "source": [
    "# Drop unnecessary columns\n",
    "df.drop(columns = ['slug', 'all_text'], inplace = True)\n",
    "df.head(2)"
   ]
  },
  {
   "cell_type": "code",
   "execution_count": 25,
   "metadata": {},
   "outputs": [],
   "source": [
    "# Fill, Drop and Replace Nan vals\n",
    "df['with_milk'].fillna(np.mean(df['with_milk']), inplace = True)\n",
    "df['acid'].fillna(np.mean(df['acid']), inplace = True)\n",
    "df['aroma'].fillna(np.mean(df['aroma']), inplace = True)\n"
   ]
  },
  {
   "cell_type": "code",
   "execution_count": 26,
   "metadata": {},
   "outputs": [],
   "source": [
    "si = SimpleImputer(strategy='most_frequent')\n",
    "\n",
    "df['roast'] = si.fit_transform(df[['roast']])"
   ]
  },
  {
   "cell_type": "code",
   "execution_count": 27,
   "metadata": {},
   "outputs": [
    {
     "data": {
      "text/plain": [
       "rating         0\n",
       "roaster        0\n",
       "name           0\n",
       "location       1\n",
       "origin         0\n",
       "roast          0\n",
       "est_price      5\n",
       "review_date    0\n",
       "agtron         0\n",
       "aroma          0\n",
       "acid           0\n",
       "body           3\n",
       "flavor         3\n",
       "aftertaste     3\n",
       "with_milk      0\n",
       "desc_1         0\n",
       "desc_2         0\n",
       "desc_3         2\n",
       "dtype: int64"
      ]
     },
     "execution_count": 27,
     "metadata": {},
     "output_type": "execute_result"
    }
   ],
   "source": [
    "df.isnull().sum()"
   ]
  },
  {
   "cell_type": "code",
   "execution_count": 28,
   "metadata": {},
   "outputs": [
    {
     "data": {
      "text/plain": [
       "(2271, 18)"
      ]
     },
     "execution_count": 28,
     "metadata": {},
     "output_type": "execute_result"
    }
   ],
   "source": [
    "df.dropna(axis = 'index', how = 'any', inplace = True)\n",
    "df.shape"
   ]
  },
  {
   "cell_type": "markdown",
   "metadata": {},
   "source": [
    "## Content Based Recommendation"
   ]
  },
  {
   "cell_type": "code",
   "execution_count": 29,
   "metadata": {},
   "outputs": [
    {
     "data": {
      "text/html": [
       "<div>\n",
       "<style scoped>\n",
       "    .dataframe tbody tr th:only-of-type {\n",
       "        vertical-align: middle;\n",
       "    }\n",
       "\n",
       "    .dataframe tbody tr th {\n",
       "        vertical-align: top;\n",
       "    }\n",
       "\n",
       "    .dataframe thead th {\n",
       "        text-align: right;\n",
       "    }\n",
       "</style>\n",
       "<table border=\"1\" class=\"dataframe\">\n",
       "  <thead>\n",
       "    <tr style=\"text-align: right;\">\n",
       "      <th></th>\n",
       "      <th>rating</th>\n",
       "      <th>roaster</th>\n",
       "      <th>name</th>\n",
       "      <th>location</th>\n",
       "      <th>origin</th>\n",
       "      <th>roast</th>\n",
       "      <th>est_price</th>\n",
       "      <th>review_date</th>\n",
       "      <th>agtron</th>\n",
       "      <th>aroma</th>\n",
       "      <th>acid</th>\n",
       "      <th>body</th>\n",
       "      <th>flavor</th>\n",
       "      <th>aftertaste</th>\n",
       "      <th>with_milk</th>\n",
       "      <th>desc_1</th>\n",
       "      <th>desc_2</th>\n",
       "      <th>desc_3</th>\n",
       "    </tr>\n",
       "  </thead>\n",
       "  <tbody>\n",
       "    <tr>\n",
       "      <td>0</td>\n",
       "      <td>95</td>\n",
       "      <td>A.R.C.</td>\n",
       "      <td>“Sweety” Espresso Blend</td>\n",
       "      <td>Hong Kong, China</td>\n",
       "      <td>Panama; Ethiopia</td>\n",
       "      <td>Medium-Light</td>\n",
       "      <td>HKD $250/227 grams</td>\n",
       "      <td>November 2017</td>\n",
       "      <td>50/73</td>\n",
       "      <td>9.0</td>\n",
       "      <td>8.484848</td>\n",
       "      <td>9.0</td>\n",
       "      <td>9.0</td>\n",
       "      <td>9.0</td>\n",
       "      <td>9.00000</td>\n",
       "      <td>Evaluated as espresso. Sweet-toned, deeply ric...</td>\n",
       "      <td>An espresso blend comprised of coffees from Pa...</td>\n",
       "      <td>A radiant espresso blend that shines equally i...</td>\n",
       "    </tr>\n",
       "    <tr>\n",
       "      <td>1</td>\n",
       "      <td>94</td>\n",
       "      <td>A.R.C.</td>\n",
       "      <td>Flora Blend Espresso</td>\n",
       "      <td>Hong Kong, China</td>\n",
       "      <td>Africa; Asia Pacific</td>\n",
       "      <td>Medium-Light</td>\n",
       "      <td>HKD $158/227 grams</td>\n",
       "      <td>November 2017</td>\n",
       "      <td>54/77</td>\n",
       "      <td>9.0</td>\n",
       "      <td>8.484848</td>\n",
       "      <td>9.0</td>\n",
       "      <td>9.0</td>\n",
       "      <td>8.0</td>\n",
       "      <td>9.00000</td>\n",
       "      <td>Evaluated as espresso. Sweetly tart, floral-to...</td>\n",
       "      <td>An espresso blend comprised of coffees from Af...</td>\n",
       "      <td>A floral-driven straight shot, amplified with ...</td>\n",
       "    </tr>\n",
       "    <tr>\n",
       "      <td>2</td>\n",
       "      <td>92</td>\n",
       "      <td>Revel Coffee</td>\n",
       "      <td>Ethiopia Shakiso Mormora</td>\n",
       "      <td>Billings, Montana</td>\n",
       "      <td>Guji Zone, southern Ethiopia</td>\n",
       "      <td>Medium-Light</td>\n",
       "      <td>$16.00/12 ounces</td>\n",
       "      <td>November 2017</td>\n",
       "      <td>54/70</td>\n",
       "      <td>9.0</td>\n",
       "      <td>8.000000</td>\n",
       "      <td>8.0</td>\n",
       "      <td>9.0</td>\n",
       "      <td>8.0</td>\n",
       "      <td>8.83427</td>\n",
       "      <td>Crisply sweet, cocoa-toned. Lemon blossom, roa...</td>\n",
       "      <td>This coffee tied for the third-highest rating ...</td>\n",
       "      <td>A gently spice-toned, floral- driven wet-proce...</td>\n",
       "    </tr>\n",
       "  </tbody>\n",
       "</table>\n",
       "</div>"
      ],
      "text/plain": [
       "   rating       roaster                      name           location  \\\n",
       "0      95        A.R.C.   “Sweety” Espresso Blend   Hong Kong, China   \n",
       "1      94        A.R.C.      Flora Blend Espresso   Hong Kong, China   \n",
       "2      92  Revel Coffee  Ethiopia Shakiso Mormora  Billings, Montana   \n",
       "\n",
       "                         origin         roast           est_price  \\\n",
       "0              Panama; Ethiopia  Medium-Light  HKD $250/227 grams   \n",
       "1          Africa; Asia Pacific  Medium-Light  HKD $158/227 grams   \n",
       "2  Guji Zone, southern Ethiopia  Medium-Light    $16.00/12 ounces   \n",
       "\n",
       "     review_date agtron  aroma      acid  body  flavor  aftertaste  with_milk  \\\n",
       "0  November 2017  50/73    9.0  8.484848   9.0     9.0         9.0    9.00000   \n",
       "1  November 2017  54/77    9.0  8.484848   9.0     9.0         8.0    9.00000   \n",
       "2  November 2017  54/70    9.0  8.000000   8.0     9.0         8.0    8.83427   \n",
       "\n",
       "                                              desc_1  \\\n",
       "0  Evaluated as espresso. Sweet-toned, deeply ric...   \n",
       "1  Evaluated as espresso. Sweetly tart, floral-to...   \n",
       "2  Crisply sweet, cocoa-toned. Lemon blossom, roa...   \n",
       "\n",
       "                                              desc_2  \\\n",
       "0  An espresso blend comprised of coffees from Pa...   \n",
       "1  An espresso blend comprised of coffees from Af...   \n",
       "2  This coffee tied for the third-highest rating ...   \n",
       "\n",
       "                                              desc_3  \n",
       "0  A radiant espresso blend that shines equally i...  \n",
       "1  A floral-driven straight shot, amplified with ...  \n",
       "2  A gently spice-toned, floral- driven wet-proce...  "
      ]
     },
     "execution_count": 29,
     "metadata": {},
     "output_type": "execute_result"
    }
   ],
   "source": [
    "df.head(3)"
   ]
  },
  {
   "cell_type": "code",
   "execution_count": 30,
   "metadata": {},
   "outputs": [],
   "source": [
    "tf_vect = TfidfVectorizer(min_df=3, max_features=None, ngram_range=(1,3), \n",
    "                          stop_words='english', strip_accents='unicode')\n",
    "\n",
    "df['desc_1'] = df['desc_1'].fillna('')\n",
    "\n",
    "desc_matrix = tf_vect.fit_transform(df['desc_1'])"
   ]
  },
  {
   "cell_type": "code",
   "execution_count": 31,
   "metadata": {},
   "outputs": [
    {
     "data": {
      "text/plain": [
       "<2271x7599 sparse matrix of type '<class 'numpy.float64'>'\n",
       "\twith 154362 stored elements in Compressed Sparse Row format>"
      ]
     },
     "execution_count": 31,
     "metadata": {},
     "output_type": "execute_result"
    }
   ],
   "source": [
    "desc_matrix"
   ]
  },
  {
   "cell_type": "code",
   "execution_count": 32,
   "metadata": {},
   "outputs": [
    {
     "data": {
      "text/plain": [
       "array([[0.76164942, 0.76159769, 0.7615951 , ..., 0.76159934, 0.76159562,\n",
       "        0.76159774],\n",
       "       [0.76159769, 0.76164942, 0.76159565, ..., 0.76159474, 0.76159942,\n",
       "        0.76160138],\n",
       "       [0.7615951 , 0.76159565, 0.76164942, ..., 0.7615963 , 0.76159492,\n",
       "        0.76159479],\n",
       "       ...,\n",
       "       [0.76159934, 0.76159474, 0.7615963 , ..., 0.76164942, 0.76159536,\n",
       "        0.76159476],\n",
       "       [0.76159562, 0.76159942, 0.76159492, ..., 0.76159536, 0.76164942,\n",
       "        0.76159841],\n",
       "       [0.76159774, 0.76160138, 0.76159479, ..., 0.76159476, 0.76159841,\n",
       "        0.76164942]])"
      ]
     },
     "execution_count": 32,
     "metadata": {},
     "output_type": "execute_result"
    }
   ],
   "source": [
    "sig = sigmoid_kernel(desc_matrix, desc_matrix)\n",
    "sig"
   ]
  },
  {
   "cell_type": "code",
   "execution_count": 33,
   "metadata": {},
   "outputs": [
    {
     "data": {
      "text/plain": [
       "name\n",
       "“Sweety” Espresso Blend          0\n",
       "Flora Blend Espresso             1\n",
       "Ethiopia Shakiso Mormora         2\n",
       "Ethiopia Suke Quto               3\n",
       "Ethiopia Gedeb Halo Beriti       4\n",
       "                              ... \n",
       "Finca Patzibir                2266\n",
       "Proyecto Aurora               2267\n",
       "Finca El Potrero              2268\n",
       "Chacayá Santiago Atitlán      2269\n",
       "Espresso No. 3                2270\n",
       "Length: 2271, dtype: int64"
      ]
     },
     "execution_count": 33,
     "metadata": {},
     "output_type": "execute_result"
    }
   ],
   "source": [
    "new_index = range(0, df.shape[0])\n",
    "indices = pd.Series(new_index, df['name']).drop_duplicates()\n",
    "indices"
   ]
  },
  {
   "cell_type": "code",
   "execution_count": 34,
   "metadata": {},
   "outputs": [
    {
     "data": {
      "text/plain": [
       "2265"
      ]
     },
     "execution_count": 34,
     "metadata": {},
     "output_type": "execute_result"
    }
   ],
   "source": [
    "indices['Tinamit Tolimán']"
   ]
  },
  {
   "cell_type": "code",
   "execution_count": 35,
   "metadata": {},
   "outputs": [
    {
     "data": {
      "text/plain": [
       "[(0, 0.761596421163522),\n",
       " (1, 0.7615962188417629),\n",
       " (2, 0.7615954152007243),\n",
       " (3, 0.7615947584765955),\n",
       " (4, 0.7615968624645911),\n",
       " (5, 0.7615964898749706),\n",
       " (6, 0.761597021237659),\n",
       " (7, 0.7615952746726528),\n",
       " (8, 0.761594936805618),\n",
       " (9, 0.7615957887514399)]"
      ]
     },
     "execution_count": 35,
     "metadata": {},
     "output_type": "execute_result"
    }
   ],
   "source": [
    "sorted(list(enumerate(sig[indices['Tinamit Tolimán']])))[:10]"
   ]
  },
  {
   "cell_type": "markdown",
   "metadata": {},
   "source": [
    "### Manual Testing"
   ]
  },
  {
   "cell_type": "code",
   "execution_count": 36,
   "metadata": {},
   "outputs": [],
   "source": [
    "def run_experiment(title, sig=sig):\n",
    "    idx = indices[title]\n",
    "    \n",
    "    coffee_list = list(enumerate(sig[idx]))\n",
    "    \n",
    "    coffee_sort = sorted(coffee_list, key = lambda x: x[1], reverse = True)\n",
    "    \n",
    "    top_ten_recmm = coffee_sort[0:10]\n",
    "    \n",
    "    coffee_recommender = [x[0] for x in top_ten_recmm]\n",
    "    \n",
    "    return df[['name', 'rating', 'location', 'est_price']].iloc[coffee_recommender].sort_values(by = [\"rating\"], ascending = False)"
   ]
  },
  {
   "cell_type": "code",
   "execution_count": 37,
   "metadata": {},
   "outputs": [
    {
     "name": "stdin",
     "output_type": "stream",
     "text": [
      "Enter Coffee name:  SOB Espresso\n"
     ]
    },
    {
     "data": {
      "text/html": [
       "<div>\n",
       "<style scoped>\n",
       "    .dataframe tbody tr th:only-of-type {\n",
       "        vertical-align: middle;\n",
       "    }\n",
       "\n",
       "    .dataframe tbody tr th {\n",
       "        vertical-align: top;\n",
       "    }\n",
       "\n",
       "    .dataframe thead th {\n",
       "        text-align: right;\n",
       "    }\n",
       "</style>\n",
       "<table border=\"1\" class=\"dataframe\">\n",
       "  <thead>\n",
       "    <tr style=\"text-align: right;\">\n",
       "      <th></th>\n",
       "      <th>name</th>\n",
       "      <th>rating</th>\n",
       "      <th>location</th>\n",
       "      <th>est_price</th>\n",
       "    </tr>\n",
       "  </thead>\n",
       "  <tbody>\n",
       "    <tr>\n",
       "      <td>251</td>\n",
       "      <td>Costa Rica Perla Negra</td>\n",
       "      <td>95</td>\n",
       "      <td>Durango, Colorado</td>\n",
       "      <td>$16.95/12 ounces</td>\n",
       "    </tr>\n",
       "    <tr>\n",
       "      <td>581</td>\n",
       "      <td>SOB Espresso</td>\n",
       "      <td>94</td>\n",
       "      <td>Silver Lake, Minnesota</td>\n",
       "      <td>$18.95/12 ounces</td>\n",
       "    </tr>\n",
       "    <tr>\n",
       "      <td>1813</td>\n",
       "      <td>Rainy Day Espresso Blend</td>\n",
       "      <td>94</td>\n",
       "      <td>Taoyuan City, Taiwan</td>\n",
       "      <td>NT $350/230 grams</td>\n",
       "    </tr>\n",
       "    <tr>\n",
       "      <td>2281</td>\n",
       "      <td>Espresso No. 3</td>\n",
       "      <td>94</td>\n",
       "      <td>Antigua, Guatemala</td>\n",
       "      <td>$20.00/12 ounces</td>\n",
       "    </tr>\n",
       "    <tr>\n",
       "      <td>2162</td>\n",
       "      <td>Espresso Nuevo</td>\n",
       "      <td>93</td>\n",
       "      <td>Minneapolis, Minnesota</td>\n",
       "      <td>$19.00/12 ounces</td>\n",
       "    </tr>\n",
       "    <tr>\n",
       "      <td>1885</td>\n",
       "      <td>Twisted V.7 Espresso</td>\n",
       "      <td>93</td>\n",
       "      <td>Madison, Wisconsin</td>\n",
       "      <td>$17.00/12 ounces</td>\n",
       "    </tr>\n",
       "    <tr>\n",
       "      <td>670</td>\n",
       "      <td>Estate Grade House Blend Espresso</td>\n",
       "      <td>93</td>\n",
       "      <td>Taoyuan, Taiwan</td>\n",
       "      <td>NT $300/8 ounces</td>\n",
       "    </tr>\n",
       "    <tr>\n",
       "      <td>1696</td>\n",
       "      <td>Nutty Espresso Blend</td>\n",
       "      <td>92</td>\n",
       "      <td>Shanghai, China</td>\n",
       "      <td>¥78/16 ounces</td>\n",
       "    </tr>\n",
       "    <tr>\n",
       "      <td>909</td>\n",
       "      <td>Peru Elvis Rafael Single-Origin Espresso</td>\n",
       "      <td>92</td>\n",
       "      <td>Sacramento, California</td>\n",
       "      <td>$19.00/12 ounces</td>\n",
       "    </tr>\n",
       "    <tr>\n",
       "      <td>945</td>\n",
       "      <td>Sweet Diary Espresso</td>\n",
       "      <td>91</td>\n",
       "      <td>Kaohsiung, Taiwan</td>\n",
       "      <td>NT $350/227 grams</td>\n",
       "    </tr>\n",
       "  </tbody>\n",
       "</table>\n",
       "</div>"
      ],
      "text/plain": [
       "                                          name  rating  \\\n",
       "251                     Costa Rica Perla Negra      95   \n",
       "581                               SOB Espresso      94   \n",
       "1813                  Rainy Day Espresso Blend      94   \n",
       "2281                            Espresso No. 3      94   \n",
       "2162                            Espresso Nuevo      93   \n",
       "1885                      Twisted V.7 Espresso      93   \n",
       "670          Estate Grade House Blend Espresso      93   \n",
       "1696                      Nutty Espresso Blend      92   \n",
       "909   Peru Elvis Rafael Single-Origin Espresso      92   \n",
       "945                       Sweet Diary Espresso      91   \n",
       "\n",
       "                    location          est_price  \n",
       "251        Durango, Colorado   $16.95/12 ounces  \n",
       "581   Silver Lake, Minnesota   $18.95/12 ounces  \n",
       "1813    Taoyuan City, Taiwan  NT $350/230 grams  \n",
       "2281      Antigua, Guatemala   $20.00/12 ounces  \n",
       "2162  Minneapolis, Minnesota   $19.00/12 ounces  \n",
       "1885      Madison, Wisconsin   $17.00/12 ounces  \n",
       "670          Taoyuan, Taiwan   NT $300/8 ounces  \n",
       "1696         Shanghai, China      ¥78/16 ounces  \n",
       "909   Sacramento, California   $19.00/12 ounces  \n",
       "945        Kaohsiung, Taiwan  NT $350/227 grams  "
      ]
     },
     "execution_count": 37,
     "metadata": {},
     "output_type": "execute_result"
    }
   ],
   "source": [
    "run_experiment(input('Enter Coffee name: '))"
   ]
  },
  {
   "cell_type": "code",
   "execution_count": null,
   "metadata": {},
   "outputs": [],
   "source": []
  }
 ],
 "metadata": {
  "kernelspec": {
   "display_name": "Python 3 (ipykernel)",
   "language": "python",
   "name": "python3"
  },
  "language_info": {
   "codemirror_mode": {
    "name": "ipython",
    "version": 3
   },
   "file_extension": ".py",
   "mimetype": "text/x-python",
   "name": "python",
   "nbconvert_exporter": "python",
   "pygments_lexer": "ipython3",
   "version": "3.11.3"
  }
 },
 "nbformat": 4,
 "nbformat_minor": 4
}
