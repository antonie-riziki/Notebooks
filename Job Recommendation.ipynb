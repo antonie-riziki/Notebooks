{
 "cells": [
  {
   "cell_type": "markdown",
   "id": "39aa7646-7c19-46c4-b1fa-90e0b31f1a72",
   "metadata": {},
   "source": [
    "# Job Recommendation System"
   ]
  },
  {
   "cell_type": "code",
   "execution_count": 294,
   "id": "979cd877-9c5b-4c53-8d10-9d46b69cde6c",
   "metadata": {},
   "outputs": [],
   "source": [
    "import pandas as pd\n",
    "import numpy as np\n",
    "import seaborn as sb\n",
    "import matplotlib.pyplot as plt\n",
    "import os\n",
    "import csv\n",
    "import sys\n",
    "\n",
    "from sklearn.feature_extraction.text import CountVectorizer\n",
    "from sklearn.metrics.pairwise import cosine_similarity\n",
    "\n",
    "pd.set_option('display.max_columns', 100)\n",
    "pd.set_option('display.max_rows', 1000)\n",
    "\n",
    "sb.set_style('darkgrid')"
   ]
  },
  {
   "cell_type": "code",
   "execution_count": 295,
   "id": "eb6bbe33-840e-4f28-ac6f-be2a689fc56a",
   "metadata": {},
   "outputs": [
    {
     "name": "stdout",
     "output_type": "stream",
     "text": [
      "Defaulting to user installation because normal site-packages is not writeable"
     ]
    },
    {
     "name": "stderr",
     "output_type": "stream",
     "text": [
      "WARNING: Retrying (Retry(total=4, connect=None, read=None, redirect=None, status=None)) after connection broken by 'NewConnectionError('<pip._vendor.urllib3.connection.HTTPSConnection object at 0x000001C4266AB7A0>: Failed to establish a new connection: [Errno 11001] getaddrinfo failed')': /simple/openpyxl/\n",
      "WARNING: Retrying (Retry(total=3, connect=None, read=None, redirect=None, status=None)) after connection broken by 'NewConnectionError('<pip._vendor.urllib3.connection.HTTPSConnection object at 0x000001C42671E9C0>: Failed to establish a new connection: [Errno 11001] getaddrinfo failed')': /simple/openpyxl/\n",
      "WARNING: Retrying (Retry(total=2, connect=None, read=None, redirect=None, status=None)) after connection broken by 'NewConnectionError('<pip._vendor.urllib3.connection.HTTPSConnection object at 0x000001C42671DE20>: Failed to establish a new connection: [Errno 11001] getaddrinfo failed')': /simple/openpyxl/\n",
      "WARNING: Retrying (Retry(total=1, connect=None, read=None, redirect=None, status=None)) after connection broken by 'NewConnectionError('<pip._vendor.urllib3.connection.HTTPSConnection object at 0x000001C426740770>: Failed to establish a new connection: [Errno 11001] getaddrinfo failed')': /simple/openpyxl/\n",
      "WARNING: Retrying (Retry(total=0, connect=None, read=None, redirect=None, status=None)) after connection broken by 'NewConnectionError('<pip._vendor.urllib3.connection.HTTPSConnection object at 0x000001C4267409E0>: Failed to establish a new connection: [Errno 11001] getaddrinfo failed')': /simple/openpyxl/\n"
     ]
    },
    {
     "name": "stdout",
     "output_type": "stream",
     "text": [
      "\n",
      "Requirement already satisfied: openpyxl in c:\\users\\anton\\appdata\\roaming\\python\\python312\\site-packages (3.1.5)\n",
      "Requirement already satisfied: et-xmlfile in c:\\users\\anton\\appdata\\roaming\\python\\python312\\site-packages (from openpyxl) (2.0.0)\n"
     ]
    }
   ],
   "source": [
    "!pip install --upgrade openpyxl"
   ]
  },
  {
   "cell_type": "code",
   "execution_count": 296,
   "id": "08572b65-d541-4403-9412-4cbf5ab89878",
   "metadata": {},
   "outputs": [
    {
     "data": {
      "text/html": [
       "<div>\n",
       "<style scoped>\n",
       "    .dataframe tbody tr th:only-of-type {\n",
       "        vertical-align: middle;\n",
       "    }\n",
       "\n",
       "    .dataframe tbody tr th {\n",
       "        vertical-align: top;\n",
       "    }\n",
       "\n",
       "    .dataframe thead th {\n",
       "        text-align: right;\n",
       "    }\n",
       "</style>\n",
       "<table border=\"1\" class=\"dataframe\">\n",
       "  <thead>\n",
       "    <tr style=\"text-align: right;\">\n",
       "      <th></th>\n",
       "      <th>date_posted</th>\n",
       "      <th>company</th>\n",
       "      <th>linkedln_profile</th>\n",
       "      <th>location</th>\n",
       "      <th>country_code</th>\n",
       "      <th>industry</th>\n",
       "      <th>position</th>\n",
       "      <th>job_description</th>\n",
       "      <th>link</th>\n",
       "      <th>salary</th>\n",
       "    </tr>\n",
       "  </thead>\n",
       "  <tbody>\n",
       "    <tr>\n",
       "      <th>0</th>\n",
       "      <td>May 13, 2015 at 11:20AM</td>\n",
       "      <td>TalentOne.in (Formerly HireAtEase)</td>\n",
       "      <td>http://www.linkedin.com/company/201192</td>\n",
       "      <td>Bengaluru Area, India</td>\n",
       "      <td>IN</td>\n",
       "      <td>Computer Software</td>\n",
       "      <td>Java + UI Developer/Lead/Architect</td>\n",
       "      <td>Summary The candidate will be involved in requ...</td>\n",
       "      <td>https://www.linkedin.com/jobs?viewJob=&amp;jobId=4...</td>\n",
       "      <td>No salary provided</td>\n",
       "    </tr>\n",
       "    <tr>\n",
       "      <th>1</th>\n",
       "      <td>May 12, 2015 at 02:15PM</td>\n",
       "      <td>Crossover.</td>\n",
       "      <td>http://www.linkedin.com/company/9308035</td>\n",
       "      <td>Bengaluru Area, India</td>\n",
       "      <td>IN</td>\n",
       "      <td>Human Resources</td>\n",
       "      <td>Global IT Sourcer - $30k</td>\n",
       "      <td>If you are an energetic and dynamic individual...</td>\n",
       "      <td>https://www.linkedin.com/jobs?viewJob=&amp;jobId=4...</td>\n",
       "      <td>No salary provided</td>\n",
       "    </tr>\n",
       "    <tr>\n",
       "      <th>2</th>\n",
       "      <td>May 06, 2015 at 11:50AM</td>\n",
       "      <td>7C Studio</td>\n",
       "      <td>http://www.linkedin.com/company/3765462</td>\n",
       "      <td>Bengaluru Area, India</td>\n",
       "      <td>IN</td>\n",
       "      <td>Computer Software</td>\n",
       "      <td>Mobile Application Developer</td>\n",
       "      <td>7C Studio is looking for a Senior Android/iOS ...</td>\n",
       "      <td>https://www.linkedin.com/jobs?viewJob=&amp;jobId=6...</td>\n",
       "      <td>No salary provided</td>\n",
       "    </tr>\n",
       "    <tr>\n",
       "      <th>3</th>\n",
       "      <td>May 15, 2015 at 11:00PM</td>\n",
       "      <td>Planetsurf Creations</td>\n",
       "      <td>http://www.linkedin.com/company/2532948</td>\n",
       "      <td>Bengaluru Area, India</td>\n",
       "      <td>IN</td>\n",
       "      <td>Internet, Marketing and Advertising</td>\n",
       "      <td>Junior Web Developer</td>\n",
       "      <td>Candidate be involved in development, testing,...</td>\n",
       "      <td>https://www.linkedin.com/jobs?viewJob=&amp;jobId=4...</td>\n",
       "      <td>No salary provided</td>\n",
       "    </tr>\n",
       "    <tr>\n",
       "      <th>4</th>\n",
       "      <td>May 06, 2015 at 11:50AM</td>\n",
       "      <td>7C Studio</td>\n",
       "      <td>http://www.linkedin.com/company/3765462</td>\n",
       "      <td>Bengaluru Area, India</td>\n",
       "      <td>IN</td>\n",
       "      <td>Computer Software</td>\n",
       "      <td>Mobile Application Developer</td>\n",
       "      <td>7C Studio is looking for a Senior Android/iOS ...</td>\n",
       "      <td>https://www.linkedin.com/jobs?viewJob=&amp;jobId=6...</td>\n",
       "      <td>No salary provided</td>\n",
       "    </tr>\n",
       "  </tbody>\n",
       "</table>\n",
       "</div>"
      ],
      "text/plain": [
       "               date_posted                             company  \\\n",
       "0  May 13, 2015 at 11:20AM  TalentOne.in (Formerly HireAtEase)   \n",
       "1  May 12, 2015 at 02:15PM                          Crossover.   \n",
       "2  May 06, 2015 at 11:50AM                           7C Studio   \n",
       "3  May 15, 2015 at 11:00PM                Planetsurf Creations   \n",
       "4  May 06, 2015 at 11:50AM                           7C Studio   \n",
       "\n",
       "                          linkedln_profile               location  \\\n",
       "0   http://www.linkedin.com/company/201192  Bengaluru Area, India   \n",
       "1  http://www.linkedin.com/company/9308035  Bengaluru Area, India   \n",
       "2  http://www.linkedin.com/company/3765462  Bengaluru Area, India   \n",
       "3  http://www.linkedin.com/company/2532948  Bengaluru Area, India   \n",
       "4  http://www.linkedin.com/company/3765462  Bengaluru Area, India   \n",
       "\n",
       "  country_code                             industry  \\\n",
       "0           IN                    Computer Software   \n",
       "1           IN                      Human Resources   \n",
       "2           IN                    Computer Software   \n",
       "3           IN  Internet, Marketing and Advertising   \n",
       "4           IN                    Computer Software   \n",
       "\n",
       "                             position  \\\n",
       "0  Java + UI Developer/Lead/Architect   \n",
       "1            Global IT Sourcer - $30k   \n",
       "2        Mobile Application Developer   \n",
       "3                Junior Web Developer   \n",
       "4        Mobile Application Developer   \n",
       "\n",
       "                                     job_description  \\\n",
       "0  Summary The candidate will be involved in requ...   \n",
       "1  If you are an energetic and dynamic individual...   \n",
       "2  7C Studio is looking for a Senior Android/iOS ...   \n",
       "3  Candidate be involved in development, testing,...   \n",
       "4  7C Studio is looking for a Senior Android/iOS ...   \n",
       "\n",
       "                                                link              salary  \n",
       "0  https://www.linkedin.com/jobs?viewJob=&jobId=4...  No salary provided  \n",
       "1  https://www.linkedin.com/jobs?viewJob=&jobId=4...  No salary provided  \n",
       "2  https://www.linkedin.com/jobs?viewJob=&jobId=6...  No salary provided  \n",
       "3  https://www.linkedin.com/jobs?viewJob=&jobId=4...  No salary provided  \n",
       "4  https://www.linkedin.com/jobs?viewJob=&jobId=6...  No salary provided  "
      ]
     },
     "execution_count": 296,
     "metadata": {},
     "output_type": "execute_result"
    }
   ],
   "source": [
    "cols = ['date_posted', 'company', 'linkedln_profile', 'location', 'country_code', 'industry', 'position', 'job_description', 'link', 'salary']\n",
    "df = pd.read_csv(r\"D:\\Open Classroom\\Datasets\\Job Recommendation\\Job Suggestions.csv\", names=cols, encoding=\"latin1\")\n",
    "df.head()\n"
   ]
  },
  {
   "cell_type": "code",
   "execution_count": 297,
   "id": "0d0c4947-d456-45db-8c54-1c7697b64b13",
   "metadata": {},
   "outputs": [
    {
     "name": "stdout",
     "output_type": "stream",
     "text": [
      "Files found: ['all_jobs_listings.csv', 'Job Suggestions(1).csv', 'Job Suggestions(2).csv', 'Job Suggestions(3).csv', 'Job Suggestions.csv']\n",
      "Combined DataFrame saved to D:/Open Classroom/Datasets/Job Recommendation/all_jobs_listings.csv\n"
     ]
    },
    {
     "data": {
      "text/html": [
       "<div>\n",
       "<style scoped>\n",
       "    .dataframe tbody tr th:only-of-type {\n",
       "        vertical-align: middle;\n",
       "    }\n",
       "\n",
       "    .dataframe tbody tr th {\n",
       "        vertical-align: top;\n",
       "    }\n",
       "\n",
       "    .dataframe thead th {\n",
       "        text-align: right;\n",
       "    }\n",
       "</style>\n",
       "<table border=\"1\" class=\"dataframe\">\n",
       "  <thead>\n",
       "    <tr style=\"text-align: right;\">\n",
       "      <th></th>\n",
       "      <th>date_posted</th>\n",
       "      <th>company</th>\n",
       "      <th>linkedln_profile</th>\n",
       "      <th>location</th>\n",
       "      <th>country_code</th>\n",
       "      <th>industry</th>\n",
       "      <th>position</th>\n",
       "      <th>job_description</th>\n",
       "      <th>link</th>\n",
       "      <th>salary</th>\n",
       "    </tr>\n",
       "  </thead>\n",
       "  <tbody>\n",
       "    <tr>\n",
       "      <th>0</th>\n",
       "      <td>date_posted</td>\n",
       "      <td>company</td>\n",
       "      <td>linkedln_profile</td>\n",
       "      <td>location</td>\n",
       "      <td>country_code</td>\n",
       "      <td>industry</td>\n",
       "      <td>position</td>\n",
       "      <td>job_description</td>\n",
       "      <td>link</td>\n",
       "      <td>salary</td>\n",
       "    </tr>\n",
       "    <tr>\n",
       "      <th>1</th>\n",
       "      <td>April 03, 2015 at 02:11PM</td>\n",
       "      <td>The Better India</td>\n",
       "      <td>http://www.linkedin.com/company/702633</td>\n",
       "      <td>Bengaluru Area, India</td>\n",
       "      <td>IN</td>\n",
       "      <td>Internet</td>\n",
       "      <td>Associate Editor</td>\n",
       "      <td>Responsibilities: Work with our staff writers ...</td>\n",
       "      <td>https://www.linkedin.com/jobs?viewJob=&amp;jobId=4...</td>\n",
       "      <td>No salary provided</td>\n",
       "    </tr>\n",
       "    <tr>\n",
       "      <th>2</th>\n",
       "      <td>April 11, 2015 at 05:20PM</td>\n",
       "      <td>Teritree Technologies</td>\n",
       "      <td>http://www.linkedin.com/company/2518710</td>\n",
       "      <td>Bengaluru Area, India</td>\n",
       "      <td>IN</td>\n",
       "      <td>Computer Software</td>\n",
       "      <td>Sales and Marketing Superstar</td>\n",
       "      <td>- Formulation and execution of sales strategyÂ...</td>\n",
       "      <td>https://www.linkedin.com/jobs?viewJob=&amp;jobId=4...</td>\n",
       "      <td>No salary provided</td>\n",
       "    </tr>\n",
       "    <tr>\n",
       "      <th>3</th>\n",
       "      <td>April 28, 2015 at 03:00PM</td>\n",
       "      <td>Zoomo India</td>\n",
       "      <td>http://www.linkedin.com/company/9195690</td>\n",
       "      <td>Bengaluru Area, India</td>\n",
       "      <td>IN</td>\n",
       "      <td>Internet</td>\n",
       "      <td>Visual Designer</td>\n",
       "      <td>Work with design and product management to cre...</td>\n",
       "      <td>https://www.linkedin.com/jobs?viewJob=&amp;jobId=4...</td>\n",
       "      <td>No salary provided</td>\n",
       "    </tr>\n",
       "    <tr>\n",
       "      <th>4</th>\n",
       "      <td>April 28, 2015 at 12:52PM</td>\n",
       "      <td>Symmetrical Global Search Pvt Ltd</td>\n",
       "      <td>http://www.linkedin.com/company/233698</td>\n",
       "      <td>Bengaluru Area, India</td>\n",
       "      <td>IN</td>\n",
       "      <td>Telecommunications, Information Technology and...</td>\n",
       "      <td>Senior Solution Architect - Voice SME</td>\n",
       "      <td>Senior Solution Architect - Voice SME Â will b...</td>\n",
       "      <td>https://www.linkedin.com/jobs?viewJob=&amp;jobId=4...</td>\n",
       "      <td>No salary provided</td>\n",
       "    </tr>\n",
       "  </tbody>\n",
       "</table>\n",
       "</div>"
      ],
      "text/plain": [
       "                 date_posted                            company  \\\n",
       "0                date_posted                            company   \n",
       "1  April 03, 2015 at 02:11PM                   The Better India   \n",
       "2  April 11, 2015 at 05:20PM              Teritree Technologies   \n",
       "3  April 28, 2015 at 03:00PM                        Zoomo India   \n",
       "4  April 28, 2015 at 12:52PM  Symmetrical Global Search Pvt Ltd   \n",
       "\n",
       "                          linkedln_profile               location  \\\n",
       "0                         linkedln_profile               location   \n",
       "1   http://www.linkedin.com/company/702633  Bengaluru Area, India   \n",
       "2  http://www.linkedin.com/company/2518710  Bengaluru Area, India   \n",
       "3  http://www.linkedin.com/company/9195690  Bengaluru Area, India   \n",
       "4   http://www.linkedin.com/company/233698  Bengaluru Area, India   \n",
       "\n",
       "   country_code                                           industry  \\\n",
       "0  country_code                                           industry   \n",
       "1            IN                                           Internet   \n",
       "2            IN                                  Computer Software   \n",
       "3            IN                                           Internet   \n",
       "4            IN  Telecommunications, Information Technology and...   \n",
       "\n",
       "                                position  \\\n",
       "0                               position   \n",
       "1                       Associate Editor   \n",
       "2          Sales and Marketing Superstar   \n",
       "3                        Visual Designer   \n",
       "4  Senior Solution Architect - Voice SME   \n",
       "\n",
       "                                     job_description  \\\n",
       "0                                    job_description   \n",
       "1  Responsibilities: Work with our staff writers ...   \n",
       "2  - Formulation and execution of sales strategyÂ...   \n",
       "3  Work with design and product management to cre...   \n",
       "4  Senior Solution Architect - Voice SME Â will b...   \n",
       "\n",
       "                                                link              salary  \n",
       "0                                               link              salary  \n",
       "1  https://www.linkedin.com/jobs?viewJob=&jobId=4...  No salary provided  \n",
       "2  https://www.linkedin.com/jobs?viewJob=&jobId=4...  No salary provided  \n",
       "3  https://www.linkedin.com/jobs?viewJob=&jobId=4...  No salary provided  \n",
       "4  https://www.linkedin.com/jobs?viewJob=&jobId=4...  No salary provided  "
      ]
     },
     "execution_count": 297,
     "metadata": {},
     "output_type": "execute_result"
    }
   ],
   "source": [
    "\n",
    "# Path to your folder containing the files\n",
    "folder_path = r\"D:/Open Classroom/Datasets/Job Recommendation/\"\n",
    "\n",
    "# List all CSV files in the directory\n",
    "files = [file for file in os.listdir(folder_path) if file.endswith('.csv')]\n",
    "print(\"Files found:\", files)\n",
    "\n",
    "# Initialize an empty DataFrame for concatenation\n",
    "all_job_files = pd.DataFrame()\n",
    "\n",
    "# Iterate through each file and append to the DataFrame\n",
    "for file in files:\n",
    "    file_path = os.path.join(folder_path, file)  # Construct full file path\n",
    "    df = pd.read_csv(file_path, names=cols, encoding='latin1')  # Read CSV\n",
    "    all_job_files = pd.concat([all_job_files, df], ignore_index=True)  # Concatenate with existing data\n",
    "\n",
    "# Save the combined DataFrame to a new CSV file\n",
    "output_path = r\"D:/Open Classroom/Datasets/Job Recommendation/all_jobs_listings.csv\"\n",
    "all_job_files.to_csv(output_path, index=False)\n",
    "print(f\"Combined DataFrame saved to {output_path}\")\n",
    "\n",
    "# Display the first few rows of the combined DataFrame\n",
    "all_job_files.head()\n"
   ]
  },
  {
   "cell_type": "code",
   "execution_count": 298,
   "id": "3b26a3f6-a8d3-477e-b87f-2a3bf1240cbd",
   "metadata": {},
   "outputs": [
    {
     "data": {
      "text/plain": [
       "(8477, 10)"
      ]
     },
     "execution_count": 298,
     "metadata": {},
     "output_type": "execute_result"
    }
   ],
   "source": [
    "all_job_files.shape"
   ]
  },
  {
   "cell_type": "code",
   "execution_count": 299,
   "id": "854a5ae7-8c2d-45dc-acbe-7a6cb81c236b",
   "metadata": {
    "scrolled": true
   },
   "outputs": [
    {
     "data": {
      "text/plain": [
       "date_posted         0\n",
       "company             0\n",
       "linkedln_profile    0\n",
       "location            0\n",
       "country_code        0\n",
       "industry            0\n",
       "position            0\n",
       "job_description     0\n",
       "link                0\n",
       "salary              0\n",
       "dtype: int64"
      ]
     },
     "execution_count": 299,
     "metadata": {},
     "output_type": "execute_result"
    }
   ],
   "source": [
    "df.isnull().sum()"
   ]
  },
  {
   "cell_type": "raw",
   "id": "fc12e663-2631-4bd5-ada3-e1336293c612",
   "metadata": {},
   "source": [
    "def get_numbers(df):\n",
    "    cols = []\n",
    "    for i in df.select_dtypes(include=['int64', 'float64']):\n",
    "        cols.append(i)\n",
    "    sb.heatmap(df[cols].corr())\n",
    "    plt.title('Pearsons Correlation of columns')"
   ]
  },
  {
   "cell_type": "code",
   "execution_count": 300,
   "id": "a6769db5-c80c-458c-8975-fcb79be8e119",
   "metadata": {},
   "outputs": [],
   "source": [
    "\n",
    "def clean_data(x):\n",
    "    return str.lower(x.replace(\" \", \"\"))\n",
    "\n",
    "def create_soup(x):\n",
    "    return x['company'] + ' ' + x['location'] + ' ' + x['industry'] + ' ' + x['position'] + ' ' + x['salary']"
   ]
  },
  {
   "cell_type": "code",
   "execution_count": 301,
   "id": "de3bab21-ffda-47a1-805b-786f9d2c3c8c",
   "metadata": {},
   "outputs": [],
   "source": [
    "def recommend_job_general(job_post, cosine_sim):\n",
    "    if job_post not in indices:\n",
    "        raise ValueError(f'the job post {job_post} is not in the list')\n",
    "    \n",
    "    global result\n",
    "    job_post=job_post.replace(' ','').lower()\n",
    "    idx = indices[job_post]\n",
    "    sim_scores = list(enumerate(cosine_sim[idx]))\n",
    "    sim_scores = sorted(sim_scores, key=lambda x: x[1], reverse=True)\n",
    "    sim_scores = sim_scores[:10]\n",
    "    job_indices = [i[0] for i in sim_scores]\n",
    "    result =  all_job_files[['date_posted','company', 'linkedln_profile', 'location', 'country_code', 'industry', 'position', 'job_desc', 'link', 'salary']].iloc[job_indices]\n",
    "    result.reset_index(drop=True, inplace=True)\n",
    "    \n",
    "    print(f\"Shape of cosine_sim: {cosine_sim.shape}\")\n",
    "    print(f\"Index obtained: {idx}\")\n",
    "    print(f\"Row of cosine_sim[idx]: {cosine_sim[idx]}\")\n",
    "\n",
    "    return result\n"
   ]
  },
  {
   "cell_type": "code",
   "execution_count": 302,
   "id": "d715ee37-9085-492b-9bd3-5a6d8615a4d3",
   "metadata": {},
   "outputs": [
    {
     "name": "stderr",
     "output_type": "stream",
     "text": [
      "C:\\Users\\anton\\AppData\\Local\\Temp\\ipykernel_13412\\1052595562.py:7: SettingWithCopyWarning: \n",
      "A value is trying to be set on a copy of a slice from a DataFrame.\n",
      "Try using .loc[row_indexer,col_indexer] = value instead\n",
      "\n",
      "See the caveats in the documentation: https://pandas.pydata.org/pandas-docs/stable/user_guide/indexing.html#returning-a-view-versus-a-copy\n",
      "  new_data[i] = all_job_files[i].apply(clean_data)\n"
     ]
    }
   ],
   "source": [
    "all_job_files = all_job_files.fillna('')\n",
    "\n",
    "new_features = ['company', 'location', 'industry', 'position', 'salary']\n",
    "new_data = all_job_files[new_features]\n",
    "\n",
    "for i in new_data:\n",
    "    new_data[i] = all_job_files[i].apply(clean_data)"
   ]
  },
  {
   "cell_type": "code",
   "execution_count": 303,
   "id": "74f00bd1-e842-4daa-8633-f39d3c20ed37",
   "metadata": {},
   "outputs": [
    {
     "name": "stderr",
     "output_type": "stream",
     "text": [
      "C:\\Users\\anton\\AppData\\Local\\Temp\\ipykernel_13412\\3846865515.py:1: SettingWithCopyWarning: \n",
      "A value is trying to be set on a copy of a slice from a DataFrame.\n",
      "Try using .loc[row_indexer,col_indexer] = value instead\n",
      "\n",
      "See the caveats in the documentation: https://pandas.pydata.org/pandas-docs/stable/user_guide/indexing.html#returning-a-view-versus-a-copy\n",
      "  new_data['soup'] = new_data.apply(create_soup, axis=1)\n"
     ]
    }
   ],
   "source": [
    "new_data['soup'] = new_data.apply(create_soup, axis=1)"
   ]
  },
  {
   "cell_type": "code",
   "execution_count": 304,
   "id": "09c0b270-dc1f-4b63-9d06-9ce41e78c0e6",
   "metadata": {},
   "outputs": [
    {
     "data": {
      "text/html": [
       "<div>\n",
       "<style scoped>\n",
       "    .dataframe tbody tr th:only-of-type {\n",
       "        vertical-align: middle;\n",
       "    }\n",
       "\n",
       "    .dataframe tbody tr th {\n",
       "        vertical-align: top;\n",
       "    }\n",
       "\n",
       "    .dataframe thead th {\n",
       "        text-align: right;\n",
       "    }\n",
       "</style>\n",
       "<table border=\"1\" class=\"dataframe\">\n",
       "  <thead>\n",
       "    <tr style=\"text-align: right;\">\n",
       "      <th></th>\n",
       "      <th>company</th>\n",
       "      <th>location</th>\n",
       "      <th>industry</th>\n",
       "      <th>position</th>\n",
       "      <th>salary</th>\n",
       "      <th>soup</th>\n",
       "    </tr>\n",
       "  </thead>\n",
       "  <tbody>\n",
       "    <tr>\n",
       "      <th>0</th>\n",
       "      <td>company</td>\n",
       "      <td>location</td>\n",
       "      <td>industry</td>\n",
       "      <td>position</td>\n",
       "      <td>salary</td>\n",
       "      <td>company location industry position salary</td>\n",
       "    </tr>\n",
       "    <tr>\n",
       "      <th>1</th>\n",
       "      <td>thebetterindia</td>\n",
       "      <td>bengaluruarea,india</td>\n",
       "      <td>internet</td>\n",
       "      <td>associateeditor</td>\n",
       "      <td>nosalaryprovided</td>\n",
       "      <td>thebetterindia bengaluruarea,india internet as...</td>\n",
       "    </tr>\n",
       "    <tr>\n",
       "      <th>2</th>\n",
       "      <td>teritreetechnologies</td>\n",
       "      <td>bengaluruarea,india</td>\n",
       "      <td>computersoftware</td>\n",
       "      <td>salesandmarketingsuperstar</td>\n",
       "      <td>nosalaryprovided</td>\n",
       "      <td>teritreetechnologies bengaluruarea,india compu...</td>\n",
       "    </tr>\n",
       "    <tr>\n",
       "      <th>3</th>\n",
       "      <td>zoomoindia</td>\n",
       "      <td>bengaluruarea,india</td>\n",
       "      <td>internet</td>\n",
       "      <td>visualdesigner</td>\n",
       "      <td>nosalaryprovided</td>\n",
       "      <td>zoomoindia bengaluruarea,india internet visual...</td>\n",
       "    </tr>\n",
       "    <tr>\n",
       "      <th>4</th>\n",
       "      <td>symmetricalglobalsearchpvtltd</td>\n",
       "      <td>bengaluruarea,india</td>\n",
       "      <td>telecommunications,informationtechnologyandser...</td>\n",
       "      <td>seniorsolutionarchitect-voicesme</td>\n",
       "      <td>nosalaryprovided</td>\n",
       "      <td>symmetricalglobalsearchpvtltd bengaluruarea,in...</td>\n",
       "    </tr>\n",
       "  </tbody>\n",
       "</table>\n",
       "</div>"
      ],
      "text/plain": [
       "                         company             location  \\\n",
       "0                        company             location   \n",
       "1                 thebetterindia  bengaluruarea,india   \n",
       "2           teritreetechnologies  bengaluruarea,india   \n",
       "3                     zoomoindia  bengaluruarea,india   \n",
       "4  symmetricalglobalsearchpvtltd  bengaluruarea,india   \n",
       "\n",
       "                                            industry  \\\n",
       "0                                           industry   \n",
       "1                                           internet   \n",
       "2                                   computersoftware   \n",
       "3                                           internet   \n",
       "4  telecommunications,informationtechnologyandser...   \n",
       "\n",
       "                           position            salary  \\\n",
       "0                          position            salary   \n",
       "1                   associateeditor  nosalaryprovided   \n",
       "2        salesandmarketingsuperstar  nosalaryprovided   \n",
       "3                    visualdesigner  nosalaryprovided   \n",
       "4  seniorsolutionarchitect-voicesme  nosalaryprovided   \n",
       "\n",
       "                                                soup  \n",
       "0          company location industry position salary  \n",
       "1  thebetterindia bengaluruarea,india internet as...  \n",
       "2  teritreetechnologies bengaluruarea,india compu...  \n",
       "3  zoomoindia bengaluruarea,india internet visual...  \n",
       "4  symmetricalglobalsearchpvtltd bengaluruarea,in...  "
      ]
     },
     "execution_count": 304,
     "metadata": {},
     "output_type": "execute_result"
    }
   ],
   "source": [
    "new_data.head()"
   ]
  },
  {
   "cell_type": "code",
   "execution_count": 305,
   "id": "d5449639-f6d7-4c29-a2d8-1970efb86968",
   "metadata": {},
   "outputs": [
    {
     "data": {
      "text/plain": [
       "'company location industry position salary'"
      ]
     },
     "execution_count": 305,
     "metadata": {},
     "output_type": "execute_result"
    }
   ],
   "source": [
    "new_data['soup'].iloc()[0]"
   ]
  },
  {
   "cell_type": "code",
   "execution_count": 306,
   "id": "d6bddca0-998c-4656-811b-1bc1ae6e6c1f",
   "metadata": {},
   "outputs": [
    {
     "data": {
      "text/plain": [
       "salary\n",
       "No salary provided      619\n",
       "50-60 Lacs                6\n",
       "Best In Industry          6\n",
       "INR Rs 1.5 Lakh / Yr      5\n",
       "Name: count, dtype: int64"
      ]
     },
     "execution_count": 306,
     "metadata": {},
     "output_type": "execute_result"
    }
   ],
   "source": [
    "df['salary'].value_counts()"
   ]
  },
  {
   "cell_type": "code",
   "execution_count": 307,
   "id": "220e308c-2c4d-4137-bcab-ef6cd2257342",
   "metadata": {},
   "outputs": [
    {
     "data": {
      "text/plain": [
       "(8477, 6)"
      ]
     },
     "execution_count": 307,
     "metadata": {},
     "output_type": "execute_result"
    }
   ],
   "source": [
    "new_data.shape"
   ]
  },
  {
   "cell_type": "code",
   "execution_count": 308,
   "id": "d935613d-cf3b-4d1b-8b25-b2bb2fb259e6",
   "metadata": {},
   "outputs": [],
   "source": [
    "count_vect = CountVectorizer(stop_words='english')\n",
    "\n",
    "count_soup_matrix = count_vect.fit_transform(new_data['soup'])"
   ]
  },
  {
   "cell_type": "code",
   "execution_count": 309,
   "id": "d6c146ff-c11e-41ab-ba7f-44f48dc2765b",
   "metadata": {},
   "outputs": [
    {
     "data": {
      "text/plain": [
       "<Compressed Sparse Row sparse matrix of dtype 'int64'\n",
       "\twith 62017 stored elements and shape (8477, 715)>"
      ]
     },
     "execution_count": 309,
     "metadata": {},
     "output_type": "execute_result"
    }
   ],
   "source": [
    "count_soup_matrix"
   ]
  },
  {
   "cell_type": "code",
   "execution_count": 310,
   "id": "cdb373bb-f39f-48ff-b4d8-668c7bc10da1",
   "metadata": {},
   "outputs": [],
   "source": [
    "cos_sim = cosine_similarity(count_soup_matrix, count_soup_matrix)"
   ]
  },
  {
   "cell_type": "code",
   "execution_count": 311,
   "id": "3284b4fa-2530-445a-ae19-57ef99ac5424",
   "metadata": {},
   "outputs": [
    {
     "data": {
      "text/plain": [
       "array([1., 0., 0., ..., 0., 0., 0.])"
      ]
     },
     "execution_count": 311,
     "metadata": {},
     "output_type": "execute_result"
    }
   ],
   "source": [
    "cos_sim[0]"
   ]
  },
  {
   "cell_type": "code",
   "execution_count": 312,
   "id": "9d3cc364-06d4-43e2-8ccf-43fa6014e328",
   "metadata": {},
   "outputs": [],
   "source": [
    "# new_data = new_data.reset_index()"
   ]
  },
  {
   "cell_type": "code",
   "execution_count": 313,
   "id": "79d6a3b9-1d15-4a1e-88ad-7cb35f610673",
   "metadata": {},
   "outputs": [],
   "source": [
    "# new_data.head()"
   ]
  },
  {
   "cell_type": "code",
   "execution_count": 314,
   "id": "218c047c-5a29-46ed-b623-19fd718d1ad9",
   "metadata": {},
   "outputs": [],
   "source": [
    "indices = pd.Series(new_data.index, index=new_data['position'])"
   ]
  },
  {
   "cell_type": "code",
   "execution_count": 315,
   "id": "f98f2227-12bf-41f4-a7e4-acedb59bf639",
   "metadata": {},
   "outputs": [
    {
     "data": {
      "text/plain": [
       "position\n",
       "salesandmarketingsuperstar       2\n",
       "salesandmarketingsuperstar     127\n",
       "salesandmarketingsuperstar     179\n",
       "salesandmarketingsuperstar     183\n",
       "salesandmarketingsuperstar     433\n",
       "salesandmarketingsuperstar     698\n",
       "salesandmarketingsuperstar     700\n",
       "salesandmarketingsuperstar    1708\n",
       "salesandmarketingsuperstar    2469\n",
       "salesandmarketingsuperstar    2470\n",
       "salesandmarketingsuperstar    2560\n",
       "salesandmarketingsuperstar    2562\n",
       "salesandmarketingsuperstar    2693\n",
       "salesandmarketingsuperstar    2696\n",
       "salesandmarketingsuperstar    2794\n",
       "salesandmarketingsuperstar    2798\n",
       "salesandmarketingsuperstar    2961\n",
       "salesandmarketingsuperstar    2963\n",
       "salesandmarketingsuperstar    3077\n",
       "salesandmarketingsuperstar    3079\n",
       "salesandmarketingsuperstar    3193\n",
       "salesandmarketingsuperstar    3348\n",
       "salesandmarketingsuperstar    3432\n",
       "salesandmarketingsuperstar    3435\n",
       "salesandmarketingsuperstar    3539\n",
       "salesandmarketingsuperstar    3993\n",
       "salesandmarketingsuperstar    3997\n",
       "salesandmarketingsuperstar    4090\n",
       "salesandmarketingsuperstar    4094\n",
       "salesandmarketingsuperstar    4240\n",
       "salesandmarketingsuperstar    4365\n",
       "salesandmarketingsuperstar    4417\n",
       "salesandmarketingsuperstar    4421\n",
       "salesandmarketingsuperstar    4671\n",
       "salesandmarketingsuperstar    4936\n",
       "salesandmarketingsuperstar    4938\n",
       "salesandmarketingsuperstar    5946\n",
       "salesandmarketingsuperstar    6707\n",
       "salesandmarketingsuperstar    6708\n",
       "salesandmarketingsuperstar    6798\n",
       "salesandmarketingsuperstar    6800\n",
       "salesandmarketingsuperstar    6931\n",
       "salesandmarketingsuperstar    6934\n",
       "salesandmarketingsuperstar    7032\n",
       "salesandmarketingsuperstar    7036\n",
       "salesandmarketingsuperstar    7199\n",
       "salesandmarketingsuperstar    7201\n",
       "salesandmarketingsuperstar    7315\n",
       "salesandmarketingsuperstar    7317\n",
       "salesandmarketingsuperstar    7431\n",
       "salesandmarketingsuperstar    7586\n",
       "salesandmarketingsuperstar    7670\n",
       "salesandmarketingsuperstar    7673\n",
       "salesandmarketingsuperstar    7777\n",
       "salesandmarketingsuperstar    8231\n",
       "salesandmarketingsuperstar    8235\n",
       "salesandmarketingsuperstar    8328\n",
       "salesandmarketingsuperstar    8332\n",
       "dtype: int64"
      ]
     },
     "execution_count": 315,
     "metadata": {},
     "output_type": "execute_result"
    }
   ],
   "source": [
    "indices['salesandmarketingsuperstar']"
   ]
  },
  {
   "cell_type": "code",
   "execution_count": 316,
   "id": "3ac684b0-6b0f-47ff-8402-34f0f0bbe6bc",
   "metadata": {},
   "outputs": [
    {
     "data": {
      "text/plain": [
       "array([0.        , 0.46291005, 0.46291005, ..., 0.29277002, 0.28347335,\n",
       "       0.46291005])"
      ]
     },
     "execution_count": 316,
     "metadata": {},
     "output_type": "execute_result"
    }
   ],
   "source": [
    "cos_sim[4093]"
   ]
  },
  {
   "cell_type": "code",
   "execution_count": 317,
   "id": "aba41f8e-6d3f-45e5-a667-5afa04c2fef7",
   "metadata": {},
   "outputs": [
    {
     "data": {
      "text/plain": [
       "[(0,\n",
       "  array([0.        , 1.        , 0.5       , ..., 0.31622777, 0.30618622,\n",
       "         0.5       ])),\n",
       " (1,\n",
       "  array([0.        , 1.        , 0.5       , ..., 0.31622777, 0.30618622,\n",
       "         0.5       ])),\n",
       " (2,\n",
       "  array([0.        , 1.        , 0.5       , ..., 0.31622777, 0.30618622,\n",
       "         0.5       ])),\n",
       " (3,\n",
       "  array([0.        , 1.        , 0.5       , ..., 0.31622777, 0.30618622,\n",
       "         0.5       ])),\n",
       " (4,\n",
       "  array([0.        , 1.        , 0.5       , ..., 0.31622777, 0.30618622,\n",
       "         0.5       ])),\n",
       " (5,\n",
       "  array([0.        , 1.        , 0.5       , ..., 0.31622777, 0.30618622,\n",
       "         0.5       ])),\n",
       " (6,\n",
       "  array([0.        , 1.        , 0.5       , ..., 0.31622777, 0.30618622,\n",
       "         0.5       ])),\n",
       " (7,\n",
       "  array([0.        , 1.        , 0.5       , ..., 0.31622777, 0.30618622,\n",
       "         0.5       ])),\n",
       " (8,\n",
       "  array([0.        , 1.        , 0.5       , ..., 0.31622777, 0.30618622,\n",
       "         0.5       ])),\n",
       " (9,\n",
       "  array([0.        , 1.        , 0.5       , ..., 0.31622777, 0.30618622,\n",
       "         0.5       ]))]"
      ]
     },
     "execution_count": 317,
     "metadata": {},
     "output_type": "execute_result"
    }
   ],
   "source": [
    "sorted(list(enumerate(cos_sim[indices['associateeditor']])))[:10]"
   ]
  },
  {
   "cell_type": "code",
   "execution_count": null,
   "id": "d7b94ddf-1cb9-4177-ad87-10f9c1f00520",
   "metadata": {},
   "outputs": [],
   "source": []
  },
  {
   "cell_type": "code",
   "execution_count": null,
   "id": "ac8b38db-1915-4a30-8693-207bc19e790d",
   "metadata": {},
   "outputs": [],
   "source": []
  },
  {
   "cell_type": "code",
   "execution_count": 320,
   "id": "c4024742-c649-4412-b911-ca63f73a63c4",
   "metadata": {},
   "outputs": [
    {
     "ename": "ValueError",
     "evalue": "The truth value of an array with more than one element is ambiguous. Use a.any() or a.all()",
     "output_type": "error",
     "traceback": [
      "\u001b[1;31m---------------------------------------------------------------------------\u001b[0m",
      "\u001b[1;31mValueError\u001b[0m                                Traceback (most recent call last)",
      "Cell \u001b[1;32mIn[320], line 1\u001b[0m\n\u001b[1;32m----> 1\u001b[0m \u001b[43mrecommend_job_general\u001b[49m\u001b[43m(\u001b[49m\u001b[38;5;124;43m'\u001b[39;49m\u001b[38;5;124;43massociateeditor\u001b[39;49m\u001b[38;5;124;43m'\u001b[39;49m\u001b[43m,\u001b[49m\u001b[43m \u001b[49m\u001b[43mcos_sim\u001b[49m\u001b[43m)\u001b[49m\n",
      "Cell \u001b[1;32mIn[301], line 9\u001b[0m, in \u001b[0;36mrecommend_job_general\u001b[1;34m(job_post, cosine_sim)\u001b[0m\n\u001b[0;32m      7\u001b[0m idx \u001b[38;5;241m=\u001b[39m indices[job_post]\n\u001b[0;32m      8\u001b[0m sim_scores \u001b[38;5;241m=\u001b[39m \u001b[38;5;28mlist\u001b[39m(\u001b[38;5;28menumerate\u001b[39m(cosine_sim[idx]))\n\u001b[1;32m----> 9\u001b[0m sim_scores \u001b[38;5;241m=\u001b[39m \u001b[38;5;28;43msorted\u001b[39;49m\u001b[43m(\u001b[49m\u001b[43msim_scores\u001b[49m\u001b[43m,\u001b[49m\u001b[43m \u001b[49m\u001b[43mkey\u001b[49m\u001b[38;5;241;43m=\u001b[39;49m\u001b[38;5;28;43;01mlambda\u001b[39;49;00m\u001b[43m \u001b[49m\u001b[43mx\u001b[49m\u001b[43m:\u001b[49m\u001b[43m \u001b[49m\u001b[43mx\u001b[49m\u001b[43m[\u001b[49m\u001b[38;5;241;43m1\u001b[39;49m\u001b[43m]\u001b[49m\u001b[43m,\u001b[49m\u001b[43m \u001b[49m\u001b[43mreverse\u001b[49m\u001b[38;5;241;43m=\u001b[39;49m\u001b[38;5;28;43;01mTrue\u001b[39;49;00m\u001b[43m)\u001b[49m\n\u001b[0;32m     10\u001b[0m sim_scores \u001b[38;5;241m=\u001b[39m sim_scores[:\u001b[38;5;241m10\u001b[39m]\n\u001b[0;32m     11\u001b[0m job_indices \u001b[38;5;241m=\u001b[39m [i[\u001b[38;5;241m0\u001b[39m] \u001b[38;5;28;01mfor\u001b[39;00m i \u001b[38;5;129;01min\u001b[39;00m sim_scores]\n",
      "\u001b[1;31mValueError\u001b[0m: The truth value of an array with more than one element is ambiguous. Use a.any() or a.all()"
     ]
    }
   ],
   "source": [
    "recommend_job_general('associateeditor', cos_sim)"
   ]
  },
  {
   "cell_type": "code",
   "execution_count": null,
   "id": "2bfdc48a-678c-4d54-bc90-81517c0343b9",
   "metadata": {},
   "outputs": [],
   "source": []
  }
 ],
 "metadata": {
  "kernelspec": {
   "display_name": "Python 3 (ipykernel)",
   "language": "python",
   "name": "python3"
  },
  "language_info": {
   "codemirror_mode": {
    "name": "ipython",
    "version": 3
   },
   "file_extension": ".py",
   "mimetype": "text/x-python",
   "name": "python",
   "nbconvert_exporter": "python",
   "pygments_lexer": "ipython3",
   "version": "3.11.3"
  }
 },
 "nbformat": 4,
 "nbformat_minor": 5
}
