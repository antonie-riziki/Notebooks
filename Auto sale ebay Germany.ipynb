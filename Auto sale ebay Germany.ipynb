{
 "cells": [
  {
   "cell_type": "markdown",
   "metadata": {},
   "source": [
    "# Auto Sale eBay Germany"
   ]
  },
  {
   "cell_type": "code",
   "execution_count": 10,
   "metadata": {},
   "outputs": [],
   "source": [
    "import pandas as pd\n",
    "import numpy as np\n",
    "import seaborn as sb\n",
    "import matplotlib.pyplot as plt\n",
    "import missingno as msno\n",
    "import autoreload\n",
    "import csv\n",
    "import warnings\n",
    "import os\n",
    "import sys\n",
    "\n",
    "from collections import defaultdict, Counter\n",
    "\n",
    "pd.set_option('display.max_columns', 100)\n",
    "pd.set_option('display.max_rows', 1000)\n",
    "\n",
    "sb.set()\n",
    "sb.set_style('darkgrid')\n",
    "\n",
    "plt.style.use('seaborn')\n",
    "plt.tight_layout()\n",
    "\n",
    "%matplotlib inline\n",
    "%reload_ext autoreload\n",
    "%autoreload 2\n",
    "\n",
    "warnings.filterwarnings('ignore')"
   ]
  },
  {
   "cell_type": "code",
   "execution_count": 11,
   "metadata": {},
   "outputs": [
    {
     "data": {
      "text/html": [
       "<div>\n",
       "<style scoped>\n",
       "    .dataframe tbody tr th:only-of-type {\n",
       "        vertical-align: middle;\n",
       "    }\n",
       "\n",
       "    .dataframe tbody tr th {\n",
       "        vertical-align: top;\n",
       "    }\n",
       "\n",
       "    .dataframe thead th {\n",
       "        text-align: right;\n",
       "    }\n",
       "</style>\n",
       "<table border=\"1\" class=\"dataframe\">\n",
       "  <thead>\n",
       "    <tr style=\"text-align: right;\">\n",
       "      <th></th>\n",
       "      <th>Unnamed: 0</th>\n",
       "      <th>date_crawled</th>\n",
       "      <th>car_name</th>\n",
       "      <th>price_EUR</th>\n",
       "      <th>ab_test</th>\n",
       "      <th>vehicle_type</th>\n",
       "      <th>registration_year</th>\n",
       "      <th>transmission</th>\n",
       "      <th>power_ps</th>\n",
       "      <th>model</th>\n",
       "      <th>odometer_km</th>\n",
       "      <th>registration_month</th>\n",
       "      <th>fuel_type</th>\n",
       "      <th>brand</th>\n",
       "      <th>unrepaired_damage</th>\n",
       "      <th>ad_created</th>\n",
       "      <th>postal_code</th>\n",
       "      <th>last_seen</th>\n",
       "    </tr>\n",
       "  </thead>\n",
       "  <tbody>\n",
       "    <tr>\n",
       "      <td>0</td>\n",
       "      <td>1</td>\n",
       "      <td>2016-04-02 14:51</td>\n",
       "      <td>Astra_G_Cabrio_Turbo_235_PS</td>\n",
       "      <td>5200</td>\n",
       "      <td>test</td>\n",
       "      <td>cabrio</td>\n",
       "      <td>2002</td>\n",
       "      <td>manuell</td>\n",
       "      <td>235</td>\n",
       "      <td>astra</td>\n",
       "      <td>125000</td>\n",
       "      <td>5</td>\n",
       "      <td>Unknown</td>\n",
       "      <td>opel</td>\n",
       "      <td>nein</td>\n",
       "      <td>2016-04-02 0:00</td>\n",
       "      <td>47652</td>\n",
       "      <td>2016-04-06 13:17</td>\n",
       "    </tr>\n",
       "    <tr>\n",
       "      <td>1</td>\n",
       "      <td>2</td>\n",
       "      <td>2016-03-19 18:36</td>\n",
       "      <td>Fiat_Grande_Punto_1.2_8V__MIT_2_JAHREN_GARANTIE</td>\n",
       "      <td>3400</td>\n",
       "      <td>test</td>\n",
       "      <td>kleinwagen</td>\n",
       "      <td>2006</td>\n",
       "      <td>manuell</td>\n",
       "      <td>65</td>\n",
       "      <td>andere</td>\n",
       "      <td>125000</td>\n",
       "      <td>5</td>\n",
       "      <td>benzin</td>\n",
       "      <td>fiat</td>\n",
       "      <td>nein</td>\n",
       "      <td>2016-03-19 0:00</td>\n",
       "      <td>66538</td>\n",
       "      <td>2016-04-07 7:15</td>\n",
       "    </tr>\n",
       "    <tr>\n",
       "      <td>2</td>\n",
       "      <td>3</td>\n",
       "      <td>2016-03-09 20:59</td>\n",
       "      <td>Volvo_XC60_D5_AWD_Aut.</td>\n",
       "      <td>5200</td>\n",
       "      <td>test</td>\n",
       "      <td>suv</td>\n",
       "      <td>2009</td>\n",
       "      <td>automatik</td>\n",
       "      <td>220</td>\n",
       "      <td>xc_reihe</td>\n",
       "      <td>150000</td>\n",
       "      <td>3</td>\n",
       "      <td>diesel</td>\n",
       "      <td>volvo</td>\n",
       "      <td>ja</td>\n",
       "      <td>2016-03-09 0:00</td>\n",
       "      <td>72762</td>\n",
       "      <td>2016-03-16 5:46</td>\n",
       "    </tr>\n",
       "    <tr>\n",
       "      <td>3</td>\n",
       "      <td>4</td>\n",
       "      <td>2016-03-26 15:55</td>\n",
       "      <td>Kombi_Technisch_super_in_Schuss</td>\n",
       "      <td>750</td>\n",
       "      <td>test</td>\n",
       "      <td>kombi</td>\n",
       "      <td>2000</td>\n",
       "      <td>manuell</td>\n",
       "      <td>112</td>\n",
       "      <td>mondeo</td>\n",
       "      <td>150000</td>\n",
       "      <td>12</td>\n",
       "      <td>benzin</td>\n",
       "      <td>ford</td>\n",
       "      <td>Unknown</td>\n",
       "      <td>2016-03-26 0:00</td>\n",
       "      <td>39446</td>\n",
       "      <td>2016-03-26 15:55</td>\n",
       "    </tr>\n",
       "    <tr>\n",
       "      <td>4</td>\n",
       "      <td>5</td>\n",
       "      <td>2016-03-29 14:47</td>\n",
       "      <td>Audi_A4_1.9_TDI_quattro_Delphingrau</td>\n",
       "      <td>3522</td>\n",
       "      <td>test</td>\n",
       "      <td>limousine</td>\n",
       "      <td>2004</td>\n",
       "      <td>manuell</td>\n",
       "      <td>131</td>\n",
       "      <td>a4</td>\n",
       "      <td>150000</td>\n",
       "      <td>7</td>\n",
       "      <td>diesel</td>\n",
       "      <td>audi</td>\n",
       "      <td>nein</td>\n",
       "      <td>2016-03-29 0:00</td>\n",
       "      <td>51373</td>\n",
       "      <td>2016-03-29 14:47</td>\n",
       "    </tr>\n",
       "  </tbody>\n",
       "</table>\n",
       "</div>"
      ],
      "text/plain": [
       "   Unnamed: 0      date_crawled  \\\n",
       "0           1  2016-04-02 14:51   \n",
       "1           2  2016-03-19 18:36   \n",
       "2           3  2016-03-09 20:59   \n",
       "3           4  2016-03-26 15:55   \n",
       "4           5  2016-03-29 14:47   \n",
       "\n",
       "                                          car_name  price_EUR ab_test  \\\n",
       "0                      Astra_G_Cabrio_Turbo_235_PS       5200    test   \n",
       "1  Fiat_Grande_Punto_1.2_8V__MIT_2_JAHREN_GARANTIE       3400    test   \n",
       "2                           Volvo_XC60_D5_AWD_Aut.       5200    test   \n",
       "3                  Kombi_Technisch_super_in_Schuss        750    test   \n",
       "4              Audi_A4_1.9_TDI_quattro_Delphingrau       3522    test   \n",
       "\n",
       "  vehicle_type  registration_year transmission  power_ps     model  \\\n",
       "0       cabrio               2002      manuell       235     astra   \n",
       "1   kleinwagen               2006      manuell        65    andere   \n",
       "2          suv               2009    automatik       220  xc_reihe   \n",
       "3        kombi               2000      manuell       112    mondeo   \n",
       "4    limousine               2004      manuell       131        a4   \n",
       "\n",
       "   odometer_km  registration_month fuel_type  brand unrepaired_damage  \\\n",
       "0       125000                   5   Unknown   opel              nein   \n",
       "1       125000                   5    benzin   fiat              nein   \n",
       "2       150000                   3    diesel  volvo                ja   \n",
       "3       150000                  12    benzin   ford           Unknown   \n",
       "4       150000                   7    diesel   audi              nein   \n",
       "\n",
       "        ad_created  postal_code         last_seen  \n",
       "0  2016-04-02 0:00        47652  2016-04-06 13:17  \n",
       "1  2016-03-19 0:00        66538   2016-04-07 7:15  \n",
       "2  2016-03-09 0:00        72762   2016-03-16 5:46  \n",
       "3  2016-03-26 0:00        39446  2016-03-26 15:55  \n",
       "4  2016-03-29 0:00        51373  2016-03-29 14:47  "
      ]
     },
     "execution_count": 11,
     "metadata": {},
     "output_type": "execute_result"
    }
   ],
   "source": [
    "df = pd.read_csv(r\"D:\\Open Classroom\\Datasets\\Auto Sales ebay Germany Random 50k Cleaned\\autos_random_50k_cleaned.csv\")\n",
    "df.head()"
   ]
  },
  {
   "cell_type": "code",
   "execution_count": 12,
   "metadata": {},
   "outputs": [
    {
     "data": {
      "text/plain": [
       "(37866, 18)"
      ]
     },
     "execution_count": 12,
     "metadata": {},
     "output_type": "execute_result"
    }
   ],
   "source": [
    "df.shape"
   ]
  },
  {
   "cell_type": "code",
   "execution_count": 13,
   "metadata": {},
   "outputs": [
    {
     "name": "stdout",
     "output_type": "stream",
     "text": [
      "<class 'pandas.core.frame.DataFrame'>\n",
      "RangeIndex: 37866 entries, 0 to 37865\n",
      "Data columns (total 18 columns):\n",
      "Unnamed: 0            37866 non-null int64\n",
      "date_crawled          37866 non-null object\n",
      "car_name              37866 non-null object\n",
      "price_EUR             37866 non-null int64\n",
      "ab_test               37866 non-null object\n",
      "vehicle_type          37866 non-null object\n",
      "registration_year     37866 non-null int64\n",
      "transmission          37866 non-null object\n",
      "power_ps              37866 non-null int64\n",
      "model                 37866 non-null object\n",
      "odometer_km           37866 non-null int64\n",
      "registration_month    37866 non-null int64\n",
      "fuel_type             37866 non-null object\n",
      "brand                 37866 non-null object\n",
      "unrepaired_damage     37866 non-null object\n",
      "ad_created            37866 non-null object\n",
      "postal_code           37866 non-null int64\n",
      "last_seen             37866 non-null object\n",
      "dtypes: int64(7), object(11)\n",
      "memory usage: 5.2+ MB\n"
     ]
    }
   ],
   "source": [
    "df.info()"
   ]
  },
  {
   "cell_type": "code",
   "execution_count": 14,
   "metadata": {},
   "outputs": [
    {
     "data": {
      "text/html": [
       "<div>\n",
       "<style scoped>\n",
       "    .dataframe tbody tr th:only-of-type {\n",
       "        vertical-align: middle;\n",
       "    }\n",
       "\n",
       "    .dataframe tbody tr th {\n",
       "        vertical-align: top;\n",
       "    }\n",
       "\n",
       "    .dataframe thead th {\n",
       "        text-align: right;\n",
       "    }\n",
       "</style>\n",
       "<table border=\"1\" class=\"dataframe\">\n",
       "  <thead>\n",
       "    <tr style=\"text-align: right;\">\n",
       "      <th></th>\n",
       "      <th>Unnamed: 0</th>\n",
       "      <th>price_EUR</th>\n",
       "      <th>registration_year</th>\n",
       "      <th>power_ps</th>\n",
       "      <th>odometer_km</th>\n",
       "      <th>registration_month</th>\n",
       "      <th>postal_code</th>\n",
       "    </tr>\n",
       "  </thead>\n",
       "  <tbody>\n",
       "    <tr>\n",
       "      <td>count</td>\n",
       "      <td>37866.0</td>\n",
       "      <td>37866.0</td>\n",
       "      <td>37866.0</td>\n",
       "      <td>37866.0</td>\n",
       "      <td>37866.0</td>\n",
       "      <td>37866.0</td>\n",
       "      <td>37866.0</td>\n",
       "    </tr>\n",
       "    <tr>\n",
       "      <td>mean</td>\n",
       "      <td>25021.0</td>\n",
       "      <td>6838.0</td>\n",
       "      <td>2004.0</td>\n",
       "      <td>130.0</td>\n",
       "      <td>124271.0</td>\n",
       "      <td>6.0</td>\n",
       "      <td>51744.0</td>\n",
       "    </tr>\n",
       "    <tr>\n",
       "      <td>std</td>\n",
       "      <td>14458.0</td>\n",
       "      <td>11616.0</td>\n",
       "      <td>7.0</td>\n",
       "      <td>65.0</td>\n",
       "      <td>39765.0</td>\n",
       "      <td>3.0</td>\n",
       "      <td>25656.0</td>\n",
       "    </tr>\n",
       "    <tr>\n",
       "      <td>min</td>\n",
       "      <td>1.0</td>\n",
       "      <td>500.0</td>\n",
       "      <td>1929.0</td>\n",
       "      <td>1.0</td>\n",
       "      <td>5000.0</td>\n",
       "      <td>1.0</td>\n",
       "      <td>1067.0</td>\n",
       "    </tr>\n",
       "    <tr>\n",
       "      <td>25%</td>\n",
       "      <td>12500.0</td>\n",
       "      <td>1700.0</td>\n",
       "      <td>2000.0</td>\n",
       "      <td>86.0</td>\n",
       "      <td>100000.0</td>\n",
       "      <td>4.0</td>\n",
       "      <td>31368.0</td>\n",
       "    </tr>\n",
       "    <tr>\n",
       "      <td>50%</td>\n",
       "      <td>25026.0</td>\n",
       "      <td>3950.0</td>\n",
       "      <td>2004.0</td>\n",
       "      <td>116.0</td>\n",
       "      <td>150000.0</td>\n",
       "      <td>6.0</td>\n",
       "      <td>50998.0</td>\n",
       "    </tr>\n",
       "    <tr>\n",
       "      <td>75%</td>\n",
       "      <td>37601.0</td>\n",
       "      <td>8500.0</td>\n",
       "      <td>2008.0</td>\n",
       "      <td>156.0</td>\n",
       "      <td>150000.0</td>\n",
       "      <td>9.0</td>\n",
       "      <td>72469.0</td>\n",
       "    </tr>\n",
       "    <tr>\n",
       "      <td>max</td>\n",
       "      <td>49998.0</td>\n",
       "      <td>820000.0</td>\n",
       "      <td>2016.0</td>\n",
       "      <td>1403.0</td>\n",
       "      <td>150000.0</td>\n",
       "      <td>12.0</td>\n",
       "      <td>99998.0</td>\n",
       "    </tr>\n",
       "  </tbody>\n",
       "</table>\n",
       "</div>"
      ],
      "text/plain": [
       "       Unnamed: 0  price_EUR  registration_year  power_ps  odometer_km  \\\n",
       "count     37866.0    37866.0            37866.0   37866.0      37866.0   \n",
       "mean      25021.0     6838.0             2004.0     130.0     124271.0   \n",
       "std       14458.0    11616.0                7.0      65.0      39765.0   \n",
       "min           1.0      500.0             1929.0       1.0       5000.0   \n",
       "25%       12500.0     1700.0             2000.0      86.0     100000.0   \n",
       "50%       25026.0     3950.0             2004.0     116.0     150000.0   \n",
       "75%       37601.0     8500.0             2008.0     156.0     150000.0   \n",
       "max       49998.0   820000.0             2016.0    1403.0     150000.0   \n",
       "\n",
       "       registration_month  postal_code  \n",
       "count             37866.0      37866.0  \n",
       "mean                  6.0      51744.0  \n",
       "std                   3.0      25656.0  \n",
       "min                   1.0       1067.0  \n",
       "25%                   4.0      31368.0  \n",
       "50%                   6.0      50998.0  \n",
       "75%                   9.0      72469.0  \n",
       "max                  12.0      99998.0  "
      ]
     },
     "execution_count": 14,
     "metadata": {},
     "output_type": "execute_result"
    }
   ],
   "source": [
    "df.describe().round()"
   ]
  },
  {
   "cell_type": "code",
   "execution_count": 15,
   "metadata": {},
   "outputs": [
    {
     "data": {
      "text/plain": [
       "Unnamed: 0            0\n",
       "date_crawled          0\n",
       "car_name              0\n",
       "price_EUR             0\n",
       "ab_test               0\n",
       "vehicle_type          0\n",
       "registration_year     0\n",
       "transmission          0\n",
       "power_ps              0\n",
       "model                 0\n",
       "odometer_km           0\n",
       "registration_month    0\n",
       "fuel_type             0\n",
       "brand                 0\n",
       "unrepaired_damage     0\n",
       "ad_created            0\n",
       "postal_code           0\n",
       "last_seen             0\n",
       "dtype: int64"
      ]
     },
     "execution_count": 15,
     "metadata": {},
     "output_type": "execute_result"
    }
   ],
   "source": [
    "df.isnull().sum()"
   ]
  },
  {
   "cell_type": "code",
   "execution_count": 16,
   "metadata": {},
   "outputs": [
    {
     "data": {
      "text/plain": [
       "<matplotlib.axes._subplots.AxesSubplot at 0x18e4a037088>"
      ]
     },
     "execution_count": 16,
     "metadata": {},
     "output_type": "execute_result"
    },
    {
     "data": {
      "image/png": "[encoded data removed]",
      "text/plain": [
       "<Figure size 432x288 with 2 Axes>"
      ]
     },
     "metadata": {
      "needs_background": "light"
     },
     "output_type": "display_data"
    }
   ],
   "source": [
    "sb.heatmap(df.corr(), annot = True, linewidths = 0.5)"
   ]
  },
  {
   "cell_type": "code",
   "execution_count": 17,
   "metadata": {},
   "outputs": [
    {
     "data": {
      "text/html": [
       "<div>\n",
       "<style scoped>\n",
       "    .dataframe tbody tr th:only-of-type {\n",
       "        vertical-align: middle;\n",
       "    }\n",
       "\n",
       "    .dataframe tbody tr th {\n",
       "        vertical-align: top;\n",
       "    }\n",
       "\n",
       "    .dataframe thead th {\n",
       "        text-align: right;\n",
       "    }\n",
       "</style>\n",
       "<table border=\"1\" class=\"dataframe\">\n",
       "  <thead>\n",
       "    <tr style=\"text-align: right;\">\n",
       "      <th></th>\n",
       "      <th>date_crawled</th>\n",
       "      <th>car_name</th>\n",
       "      <th>price_EUR</th>\n",
       "      <th>ab_test</th>\n",
       "      <th>vehicle_type</th>\n",
       "      <th>registration_year</th>\n",
       "      <th>transmission</th>\n",
       "      <th>power_ps</th>\n",
       "      <th>model</th>\n",
       "      <th>odometer_km</th>\n",
       "      <th>registration_month</th>\n",
       "      <th>fuel_type</th>\n",
       "      <th>brand</th>\n",
       "      <th>unrepaired_damage</th>\n",
       "      <th>ad_created</th>\n",
       "      <th>postal_code</th>\n",
       "      <th>last_seen</th>\n",
       "    </tr>\n",
       "  </thead>\n",
       "  <tbody>\n",
       "    <tr>\n",
       "      <td>0</td>\n",
       "      <td>2016-04-02 14:51</td>\n",
       "      <td>Astra_G_Cabrio_Turbo_235_PS</td>\n",
       "      <td>5200</td>\n",
       "      <td>test</td>\n",
       "      <td>cabrio</td>\n",
       "      <td>2002</td>\n",
       "      <td>manuell</td>\n",
       "      <td>235</td>\n",
       "      <td>astra</td>\n",
       "      <td>125000</td>\n",
       "      <td>5</td>\n",
       "      <td>Unknown</td>\n",
       "      <td>opel</td>\n",
       "      <td>nein</td>\n",
       "      <td>2016-04-02 0:00</td>\n",
       "      <td>47652</td>\n",
       "      <td>2016-04-06 13:17</td>\n",
       "    </tr>\n",
       "    <tr>\n",
       "      <td>1</td>\n",
       "      <td>2016-03-19 18:36</td>\n",
       "      <td>Fiat_Grande_Punto_1.2_8V__MIT_2_JAHREN_GARANTIE</td>\n",
       "      <td>3400</td>\n",
       "      <td>test</td>\n",
       "      <td>kleinwagen</td>\n",
       "      <td>2006</td>\n",
       "      <td>manuell</td>\n",
       "      <td>65</td>\n",
       "      <td>andere</td>\n",
       "      <td>125000</td>\n",
       "      <td>5</td>\n",
       "      <td>benzin</td>\n",
       "      <td>fiat</td>\n",
       "      <td>nein</td>\n",
       "      <td>2016-03-19 0:00</td>\n",
       "      <td>66538</td>\n",
       "      <td>2016-04-07 7:15</td>\n",
       "    </tr>\n",
       "    <tr>\n",
       "      <td>2</td>\n",
       "      <td>2016-03-09 20:59</td>\n",
       "      <td>Volvo_XC60_D5_AWD_Aut.</td>\n",
       "      <td>5200</td>\n",
       "      <td>test</td>\n",
       "      <td>suv</td>\n",
       "      <td>2009</td>\n",
       "      <td>automatik</td>\n",
       "      <td>220</td>\n",
       "      <td>xc_reihe</td>\n",
       "      <td>150000</td>\n",
       "      <td>3</td>\n",
       "      <td>diesel</td>\n",
       "      <td>volvo</td>\n",
       "      <td>ja</td>\n",
       "      <td>2016-03-09 0:00</td>\n",
       "      <td>72762</td>\n",
       "      <td>2016-03-16 5:46</td>\n",
       "    </tr>\n",
       "    <tr>\n",
       "      <td>3</td>\n",
       "      <td>2016-03-26 15:55</td>\n",
       "      <td>Kombi_Technisch_super_in_Schuss</td>\n",
       "      <td>750</td>\n",
       "      <td>test</td>\n",
       "      <td>kombi</td>\n",
       "      <td>2000</td>\n",
       "      <td>manuell</td>\n",
       "      <td>112</td>\n",
       "      <td>mondeo</td>\n",
       "      <td>150000</td>\n",
       "      <td>12</td>\n",
       "      <td>benzin</td>\n",
       "      <td>ford</td>\n",
       "      <td>Unknown</td>\n",
       "      <td>2016-03-26 0:00</td>\n",
       "      <td>39446</td>\n",
       "      <td>2016-03-26 15:55</td>\n",
       "    </tr>\n",
       "    <tr>\n",
       "      <td>4</td>\n",
       "      <td>2016-03-29 14:47</td>\n",
       "      <td>Audi_A4_1.9_TDI_quattro_Delphingrau</td>\n",
       "      <td>3522</td>\n",
       "      <td>test</td>\n",
       "      <td>limousine</td>\n",
       "      <td>2004</td>\n",
       "      <td>manuell</td>\n",
       "      <td>131</td>\n",
       "      <td>a4</td>\n",
       "      <td>150000</td>\n",
       "      <td>7</td>\n",
       "      <td>diesel</td>\n",
       "      <td>audi</td>\n",
       "      <td>nein</td>\n",
       "      <td>2016-03-29 0:00</td>\n",
       "      <td>51373</td>\n",
       "      <td>2016-03-29 14:47</td>\n",
       "    </tr>\n",
       "  </tbody>\n",
       "</table>\n",
       "</div>"
      ],
      "text/plain": [
       "       date_crawled                                         car_name  \\\n",
       "0  2016-04-02 14:51                      Astra_G_Cabrio_Turbo_235_PS   \n",
       "1  2016-03-19 18:36  Fiat_Grande_Punto_1.2_8V__MIT_2_JAHREN_GARANTIE   \n",
       "2  2016-03-09 20:59                           Volvo_XC60_D5_AWD_Aut.   \n",
       "3  2016-03-26 15:55                  Kombi_Technisch_super_in_Schuss   \n",
       "4  2016-03-29 14:47              Audi_A4_1.9_TDI_quattro_Delphingrau   \n",
       "\n",
       "   price_EUR ab_test vehicle_type  registration_year transmission  power_ps  \\\n",
       "0       5200    test       cabrio               2002      manuell       235   \n",
       "1       3400    test   kleinwagen               2006      manuell        65   \n",
       "2       5200    test          suv               2009    automatik       220   \n",
       "3        750    test        kombi               2000      manuell       112   \n",
       "4       3522    test    limousine               2004      manuell       131   \n",
       "\n",
       "      model  odometer_km  registration_month fuel_type  brand  \\\n",
       "0     astra       125000                   5   Unknown   opel   \n",
       "1    andere       125000                   5    benzin   fiat   \n",
       "2  xc_reihe       150000                   3    diesel  volvo   \n",
       "3    mondeo       150000                  12    benzin   ford   \n",
       "4        a4       150000                   7    diesel   audi   \n",
       "\n",
       "  unrepaired_damage       ad_created  postal_code         last_seen  \n",
       "0              nein  2016-04-02 0:00        47652  2016-04-06 13:17  \n",
       "1              nein  2016-03-19 0:00        66538   2016-04-07 7:15  \n",
       "2                ja  2016-03-09 0:00        72762   2016-03-16 5:46  \n",
       "3           Unknown  2016-03-26 0:00        39446  2016-03-26 15:55  \n",
       "4              nein  2016-03-29 0:00        51373  2016-03-29 14:47  "
      ]
     },
     "execution_count": 17,
     "metadata": {},
     "output_type": "execute_result"
    }
   ],
   "source": [
    "df.drop(columns = ['Unnamed: 0'], inplace = True)\n",
    "df.head()"
   ]
  },
  {
   "cell_type": "code",
   "execution_count": 21,
   "metadata": {},
   "outputs": [
    {
     "data": {
      "text/plain": [
       "Text(0.5, 1.0, 'Top 10 most sold cars')"
      ]
     },
     "execution_count": 21,
     "metadata": {},
     "output_type": "execute_result"
    },
    {
     "data": {
      "image/png": "[encoded data removed]",
      "text/plain": [
       "<Figure size 432x288 with 1 Axes>"
      ]
     },
     "metadata": {
      "needs_background": "light"
     },
     "output_type": "display_data"
    }
   ],
   "source": [
    "df['car_name'].value_counts().head(10).plot(kind = 'bar')\n",
    "plt.title('Top 10 most sold cars', fontdict = {'size':14})"
   ]
  },
  {
   "cell_type": "code",
   "execution_count": 22,
   "metadata": {},
   "outputs": [
    {
     "data": {
      "text/plain": [
       "<matplotlib.axes._subplots.AxesSubplot at 0x18e4bd79648>"
      ]
     },
     "execution_count": 22,
     "metadata": {},
     "output_type": "execute_result"
    },
    {
     "data": {
      "image/png": "[encoded data removed]",
      "text/plain": [
       "<Figure size 432x288 with 1 Axes>"
      ]
     },
     "metadata": {
      "needs_background": "light"
     },
     "output_type": "display_data"
    }
   ],
   "source": [
    "sb.distplot(df['price_EUR'])"
   ]
  },
  {
   "cell_type": "code",
   "execution_count": 35,
   "metadata": {},
   "outputs": [],
   "source": [
    "df = df[df['price_EUR']>=100000]"
   ]
  },
  {
   "cell_type": "code",
   "execution_count": 36,
   "metadata": {},
   "outputs": [
    {
     "data": {
      "text/plain": [
       "619000"
      ]
     },
     "execution_count": 36,
     "metadata": {},
     "output_type": "execute_result"
    }
   ],
   "source": [
    "df['price_EUR'].max()"
   ]
  },
  {
   "cell_type": "code",
   "execution_count": 37,
   "metadata": {},
   "outputs": [
    {
     "data": {
      "text/plain": [
       "<matplotlib.axes._subplots.AxesSubplot at 0x18e4c3aaa48>"
      ]
     },
     "execution_count": 37,
     "metadata": {},
     "output_type": "execute_result"
    },
    {
     "data": {
      "image/png": "[encoded data removed]",
      "text/plain": [
       "<Figure size 432x288 with 1 Axes>"
      ]
     },
     "metadata": {
      "needs_background": "light"
     },
     "output_type": "display_data"
    }
   ],
   "source": [
    "sb.distplot(df['price_EUR'])"
   ]
  },
  {
   "cell_type": "code",
   "execution_count": 34,
   "metadata": {},
   "outputs": [
    {
     "data": {
      "text/plain": [
       "619000"
      ]
     },
     "execution_count": 34,
     "metadata": {},
     "output_type": "execute_result"
    }
   ],
   "source": [
    "df['price_EUR'].max()"
   ]
  },
  {
   "cell_type": "code",
   "execution_count": null,
   "metadata": {},
   "outputs": [],
   "source": []
  }
 ],
 "metadata": {
  "kernelspec": {
   "display_name": "Python 3",
   "language": "python",
   "name": "python3"
  },
  "language_info": {
   "codemirror_mode": {
    "name": "ipython",
    "version": 3
   },
   "file_extension": ".py",
   "mimetype": "text/x-python",
   "name": "python",
   "nbconvert_exporter": "python",
   "pygments_lexer": "ipython3",
   "version": "3.7.4"
  }
 },
 "nbformat": 4,
 "nbformat_minor": 4
}
