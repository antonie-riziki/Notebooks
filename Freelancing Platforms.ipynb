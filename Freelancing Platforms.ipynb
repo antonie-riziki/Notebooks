{
 "cells": [
  {
   "cell_type": "markdown",
   "metadata": {},
   "source": [
    "# Freelancing Platforms"
   ]
  },
  {
   "cell_type": "code",
   "execution_count": 1,
   "metadata": {},
   "outputs": [],
   "source": [
    "import pandas as pd\n",
    "import numpy as np\n",
    "import seaborn as sb\n",
    "import matplotlib.pyplot as plt\n",
    "import missingno as msno\n",
    "import autoreload\n",
    "import os\n",
    "import csv\n",
    "import sys\n",
    "\n",
    "from collections import defaultdict, Counter\n",
    "\n",
    "%matplotlib inline\n",
    "\n",
    "pd.set_option('display.max_columns', 100)\n",
    "pd.set_option('display.max_rows', 1000)\n",
    "\n",
    "sb.set_style('whitegrid')"
   ]
  },
  {
   "cell_type": "code",
   "execution_count": 2,
   "metadata": {},
   "outputs": [
    {
     "data": {
      "text/html": [
       "<div>\n",
       "<style scoped>\n",
       "    .dataframe tbody tr th:only-of-type {\n",
       "        vertical-align: middle;\n",
       "    }\n",
       "\n",
       "    .dataframe tbody tr th {\n",
       "        vertical-align: top;\n",
       "    }\n",
       "\n",
       "    .dataframe thead th {\n",
       "        text-align: right;\n",
       "    }\n",
       "</style>\n",
       "<table border=\"1\" class=\"dataframe\">\n",
       "  <thead>\n",
       "    <tr style=\"text-align: right;\">\n",
       "      <th></th>\n",
       "      <th>Title</th>\n",
       "      <th>Category Name</th>\n",
       "      <th>Experience</th>\n",
       "      <th>Sub Category Name</th>\n",
       "      <th>Currency</th>\n",
       "      <th>Budget</th>\n",
       "      <th>Location</th>\n",
       "      <th>Freelancer Preferred From</th>\n",
       "      <th>Type</th>\n",
       "      <th>Date Posted</th>\n",
       "      <th>Description</th>\n",
       "      <th>Duration</th>\n",
       "      <th>Client Registration Date</th>\n",
       "      <th>Client City</th>\n",
       "      <th>Client Country</th>\n",
       "      <th>Client Currency</th>\n",
       "      <th>Client Job Title</th>\n",
       "    </tr>\n",
       "  </thead>\n",
       "  <tbody>\n",
       "    <tr>\n",
       "      <td>0</td>\n",
       "      <td>Create Educational Course Website Wordpress Wo...</td>\n",
       "      <td>Technology &amp; Programming</td>\n",
       "      <td>Intermediate ($$)</td>\n",
       "      <td>Website Development</td>\n",
       "      <td>GBP</td>\n",
       "      <td>200.0</td>\n",
       "      <td>remote</td>\n",
       "      <td>ALL</td>\n",
       "      <td>fixed_price</td>\n",
       "      <td>2023-01-26 21:00:45</td>\n",
       "      <td>Hello,\\n\\nI already have the Domain for the we...</td>\n",
       "      <td>NaN</td>\n",
       "      <td>2023-01-19</td>\n",
       "      <td>Sale</td>\n",
       "      <td>United Kingdom</td>\n",
       "      <td>GBP</td>\n",
       "      <td>NaN</td>\n",
       "    </tr>\n",
       "    <tr>\n",
       "      <td>1</td>\n",
       "      <td>Virtual Assistant</td>\n",
       "      <td>Business</td>\n",
       "      <td>Expert ($$$)</td>\n",
       "      <td>Administration Assistance</td>\n",
       "      <td>GBP</td>\n",
       "      <td>1000.0</td>\n",
       "      <td>remote</td>\n",
       "      <td>ALL</td>\n",
       "      <td>fixed_price</td>\n",
       "      <td>2023-01-26 20:17:49</td>\n",
       "      <td>We are looking for a talented Virtual Assistan...</td>\n",
       "      <td>NaN</td>\n",
       "      <td>2023-01-26</td>\n",
       "      <td>London</td>\n",
       "      <td>United Kingdom</td>\n",
       "      <td>GBP</td>\n",
       "      <td>NaN</td>\n",
       "    </tr>\n",
       "    <tr>\n",
       "      <td>2</td>\n",
       "      <td>Welcome Online coaching fitness pack</td>\n",
       "      <td>Design</td>\n",
       "      <td>Entry ($)</td>\n",
       "      <td>Illustration &amp; Drawing</td>\n",
       "      <td>GBP</td>\n",
       "      <td>60.0</td>\n",
       "      <td>remote</td>\n",
       "      <td>ALL</td>\n",
       "      <td>fixed_price</td>\n",
       "      <td>2023-01-26 20:06:34</td>\n",
       "      <td>Hi i need a online coaching welcome pack made\\...</td>\n",
       "      <td>NaN</td>\n",
       "      <td>2022-09-28</td>\n",
       "      <td>Sheffield</td>\n",
       "      <td>United Kingdom</td>\n",
       "      <td>GBP</td>\n",
       "      <td>NaN</td>\n",
       "    </tr>\n",
       "    <tr>\n",
       "      <td>3</td>\n",
       "      <td>SEO Optomised Content Required For An Accounta...</td>\n",
       "      <td>Writing &amp; Translation</td>\n",
       "      <td>Expert ($$$)</td>\n",
       "      <td>Content Writing</td>\n",
       "      <td>GBP</td>\n",
       "      <td>80.0</td>\n",
       "      <td>remote_country</td>\n",
       "      <td>GB</td>\n",
       "      <td>fixed_price</td>\n",
       "      <td>2023-01-26 19:45:03</td>\n",
       "      <td>We have a word-press site being designed and b...</td>\n",
       "      <td>1 - 2 weeks</td>\n",
       "      <td>2020-09-02</td>\n",
       "      <td>London</td>\n",
       "      <td>United Kingdom</td>\n",
       "      <td>GBP</td>\n",
       "      <td>Creative Designer</td>\n",
       "    </tr>\n",
       "    <tr>\n",
       "      <td>4</td>\n",
       "      <td>YOUTUBE CHANNEL</td>\n",
       "      <td>Social Media</td>\n",
       "      <td>Intermediate ($$)</td>\n",
       "      <td>YouTube Marketing</td>\n",
       "      <td>USD</td>\n",
       "      <td>100.0</td>\n",
       "      <td>remote</td>\n",
       "      <td>ALL</td>\n",
       "      <td>fixed_price</td>\n",
       "      <td>2023-01-26 19:34:45</td>\n",
       "      <td>Hi James based on your message following is th...</td>\n",
       "      <td>NaN</td>\n",
       "      <td>2010-09-19</td>\n",
       "      <td>Purfleet</td>\n",
       "      <td>United Kingdom</td>\n",
       "      <td>USD</td>\n",
       "      <td>Diector</td>\n",
       "    </tr>\n",
       "  </tbody>\n",
       "</table>\n",
       "</div>"
      ],
      "text/plain": [
       "                                               Title  \\\n",
       "0  Create Educational Course Website Wordpress Wo...   \n",
       "1                                 Virtual Assistant    \n",
       "2               Welcome Online coaching fitness pack   \n",
       "3  SEO Optomised Content Required For An Accounta...   \n",
       "4                                   YOUTUBE CHANNEL    \n",
       "\n",
       "              Category Name         Experience          Sub Category Name  \\\n",
       "0  Technology & Programming  Intermediate ($$)        Website Development   \n",
       "1                  Business       Expert ($$$)  Administration Assistance   \n",
       "2                    Design          Entry ($)     Illustration & Drawing   \n",
       "3     Writing & Translation       Expert ($$$)            Content Writing   \n",
       "4              Social Media  Intermediate ($$)          YouTube Marketing   \n",
       "\n",
       "  Currency  Budget        Location Freelancer Preferred From         Type  \\\n",
       "0      GBP   200.0          remote                       ALL  fixed_price   \n",
       "1      GBP  1000.0          remote                       ALL  fixed_price   \n",
       "2      GBP    60.0          remote                       ALL  fixed_price   \n",
       "3      GBP    80.0  remote_country                        GB  fixed_price   \n",
       "4      USD   100.0          remote                       ALL  fixed_price   \n",
       "\n",
       "           Date Posted                                        Description  \\\n",
       "0  2023-01-26 21:00:45  Hello,\\n\\nI already have the Domain for the we...   \n",
       "1  2023-01-26 20:17:49  We are looking for a talented Virtual Assistan...   \n",
       "2  2023-01-26 20:06:34  Hi i need a online coaching welcome pack made\\...   \n",
       "3  2023-01-26 19:45:03  We have a word-press site being designed and b...   \n",
       "4  2023-01-26 19:34:45  Hi James based on your message following is th...   \n",
       "\n",
       "      Duration Client Registration Date Client City  Client Country  \\\n",
       "0          NaN               2023-01-19        Sale  United Kingdom   \n",
       "1          NaN               2023-01-26      London  United Kingdom   \n",
       "2          NaN               2022-09-28   Sheffield  United Kingdom   \n",
       "3  1 - 2 weeks               2020-09-02      London  United Kingdom   \n",
       "4          NaN               2010-09-19    Purfleet  United Kingdom   \n",
       "\n",
       "  Client Currency   Client Job Title  \n",
       "0             GBP                NaN  \n",
       "1             GBP                NaN  \n",
       "2             GBP                NaN  \n",
       "3             GBP  Creative Designer  \n",
       "4             USD            Diector  "
      ]
     },
     "execution_count": 2,
     "metadata": {},
     "output_type": "execute_result"
    }
   ],
   "source": [
    "df = pd.read_csv(\"D:\\Open Classroom\\Datasets\\Freelance Platform Projects\\Freelance Platform Projects.csv\")\n",
    "df.head()"
   ]
  },
  {
   "cell_type": "markdown",
   "metadata": {},
   "source": [
    "### Statistical Data Representation"
   ]
  },
  {
   "cell_type": "code",
   "execution_count": 3,
   "metadata": {},
   "outputs": [
    {
     "data": {
      "text/plain": [
       "(934, 17)"
      ]
     },
     "execution_count": 3,
     "metadata": {},
     "output_type": "execute_result"
    }
   ],
   "source": [
    "df.shape"
   ]
  },
  {
   "cell_type": "code",
   "execution_count": 4,
   "metadata": {},
   "outputs": [
    {
     "name": "stdout",
     "output_type": "stream",
     "text": [
      "<class 'pandas.core.frame.DataFrame'>\n",
      "RangeIndex: 934 entries, 0 to 933\n",
      "Data columns (total 17 columns):\n",
      "Title                        934 non-null object\n",
      "Category Name                934 non-null object\n",
      "Experience                   934 non-null object\n",
      "Sub Category Name            934 non-null object\n",
      "Currency                     934 non-null object\n",
      "Budget                       934 non-null float64\n",
      "Location                     934 non-null object\n",
      "Freelancer Preferred From    934 non-null object\n",
      "Type                         934 non-null object\n",
      "Date Posted                  934 non-null object\n",
      "Description                  934 non-null object\n",
      "Duration                     138 non-null object\n",
      "Client Registration Date     934 non-null object\n",
      "Client City                  934 non-null object\n",
      "Client Country               934 non-null object\n",
      "Client Currency              934 non-null object\n",
      "Client Job Title             376 non-null object\n",
      "dtypes: float64(1), object(16)\n",
      "memory usage: 124.2+ KB\n"
     ]
    }
   ],
   "source": [
    "df.info()"
   ]
  },
  {
   "cell_type": "code",
   "execution_count": 5,
   "metadata": {},
   "outputs": [
    {
     "data": {
      "text/plain": [
       "Title                          0\n",
       "Category Name                  0\n",
       "Experience                     0\n",
       "Sub Category Name              0\n",
       "Currency                       0\n",
       "Budget                         0\n",
       "Location                       0\n",
       "Freelancer Preferred From      0\n",
       "Type                           0\n",
       "Date Posted                    0\n",
       "Description                    0\n",
       "Duration                     796\n",
       "Client Registration Date       0\n",
       "Client City                    0\n",
       "Client Country                 0\n",
       "Client Currency                0\n",
       "Client Job Title             558\n",
       "dtype: int64"
      ]
     },
     "execution_count": 5,
     "metadata": {},
     "output_type": "execute_result"
    }
   ],
   "source": [
    "df.isnull().sum()"
   ]
  },
  {
   "cell_type": "markdown",
   "metadata": {},
   "source": [
    "### Graphical Presentation"
   ]
  },
  {
   "cell_type": "code",
   "execution_count": 6,
   "metadata": {},
   "outputs": [
    {
     "data": {
      "text/plain": [
       "Text(0.5, 1, 'Pearsons Correlation of Column variables')"
      ]
     },
     "execution_count": 6,
     "metadata": {},
     "output_type": "execute_result"
    },
    {
     "data": {
      "image/png": "[encoded data removed]",
      "text/plain": [
       "<Figure size 432x288 with 2 Axes>"
      ]
     },
     "metadata": {
      "needs_background": "light"
     },
     "output_type": "display_data"
    }
   ],
   "source": [
    "sb.heatmap(df.corr())\n",
    "plt.title('Pearsons Correlation of Column variables', fontsize=(14))"
   ]
  },
  {
   "cell_type": "code",
   "execution_count": 7,
   "metadata": {},
   "outputs": [
    {
     "data": {
      "text/plain": [
       "<matplotlib.axes._subplots.AxesSubplot at 0x20ef3240988>"
      ]
     },
     "execution_count": 7,
     "metadata": {},
     "output_type": "execute_result"
    },
    {
     "data": {
      "image/png": "[encoded data removed]",
      "text/plain": [
       "<Figure size 1800x720 with 3 Axes>"
      ]
     },
     "metadata": {
      "needs_background": "light"
     },
     "output_type": "display_data"
    }
   ],
   "source": [
    "msno.bar(df)"
   ]
  },
  {
   "cell_type": "markdown",
   "metadata": {},
   "source": [
    "### Data Cleaning and Manipulation\n",
    "- Drop unnecessary columns"
   ]
  },
  {
   "cell_type": "code",
   "execution_count": 8,
   "metadata": {},
   "outputs": [
    {
     "data": {
      "text/html": [
       "<div>\n",
       "<style scoped>\n",
       "    .dataframe tbody tr th:only-of-type {\n",
       "        vertical-align: middle;\n",
       "    }\n",
       "\n",
       "    .dataframe tbody tr th {\n",
       "        vertical-align: top;\n",
       "    }\n",
       "\n",
       "    .dataframe thead th {\n",
       "        text-align: right;\n",
       "    }\n",
       "</style>\n",
       "<table border=\"1\" class=\"dataframe\">\n",
       "  <thead>\n",
       "    <tr style=\"text-align: right;\">\n",
       "      <th></th>\n",
       "      <th>Title</th>\n",
       "      <th>Category Name</th>\n",
       "      <th>Experience</th>\n",
       "      <th>Sub Category Name</th>\n",
       "      <th>Currency</th>\n",
       "      <th>Budget</th>\n",
       "      <th>Location</th>\n",
       "      <th>Freelancer Preferred From</th>\n",
       "      <th>Type</th>\n",
       "      <th>Date Posted</th>\n",
       "      <th>Description</th>\n",
       "      <th>Duration</th>\n",
       "      <th>Client Registration Date</th>\n",
       "      <th>Client City</th>\n",
       "      <th>Client Country</th>\n",
       "      <th>Client Currency</th>\n",
       "      <th>Client Job Title</th>\n",
       "    </tr>\n",
       "  </thead>\n",
       "  <tbody>\n",
       "    <tr>\n",
       "      <td>0</td>\n",
       "      <td>Create Educational Course Website Wordpress Wo...</td>\n",
       "      <td>Technology &amp; Programming</td>\n",
       "      <td>Intermediate ($$)</td>\n",
       "      <td>Website Development</td>\n",
       "      <td>GBP</td>\n",
       "      <td>200.0</td>\n",
       "      <td>remote</td>\n",
       "      <td>ALL</td>\n",
       "      <td>fixed_price</td>\n",
       "      <td>2023-01-26 21:00:45</td>\n",
       "      <td>Hello,\\n\\nI already have the Domain for the we...</td>\n",
       "      <td>NaN</td>\n",
       "      <td>2023-01-19</td>\n",
       "      <td>Sale</td>\n",
       "      <td>United Kingdom</td>\n",
       "      <td>GBP</td>\n",
       "      <td>NaN</td>\n",
       "    </tr>\n",
       "    <tr>\n",
       "      <td>1</td>\n",
       "      <td>Virtual Assistant</td>\n",
       "      <td>Business</td>\n",
       "      <td>Expert ($$$)</td>\n",
       "      <td>Administration Assistance</td>\n",
       "      <td>GBP</td>\n",
       "      <td>1000.0</td>\n",
       "      <td>remote</td>\n",
       "      <td>ALL</td>\n",
       "      <td>fixed_price</td>\n",
       "      <td>2023-01-26 20:17:49</td>\n",
       "      <td>We are looking for a talented Virtual Assistan...</td>\n",
       "      <td>NaN</td>\n",
       "      <td>2023-01-26</td>\n",
       "      <td>London</td>\n",
       "      <td>United Kingdom</td>\n",
       "      <td>GBP</td>\n",
       "      <td>NaN</td>\n",
       "    </tr>\n",
       "  </tbody>\n",
       "</table>\n",
       "</div>"
      ],
      "text/plain": [
       "                                               Title  \\\n",
       "0  Create Educational Course Website Wordpress Wo...   \n",
       "1                                 Virtual Assistant    \n",
       "\n",
       "              Category Name         Experience          Sub Category Name  \\\n",
       "0  Technology & Programming  Intermediate ($$)        Website Development   \n",
       "1                  Business       Expert ($$$)  Administration Assistance   \n",
       "\n",
       "  Currency  Budget Location Freelancer Preferred From         Type  \\\n",
       "0      GBP   200.0   remote                       ALL  fixed_price   \n",
       "1      GBP  1000.0   remote                       ALL  fixed_price   \n",
       "\n",
       "           Date Posted                                        Description  \\\n",
       "0  2023-01-26 21:00:45  Hello,\\n\\nI already have the Domain for the we...   \n",
       "1  2023-01-26 20:17:49  We are looking for a talented Virtual Assistan...   \n",
       "\n",
       "  Duration Client Registration Date Client City  Client Country  \\\n",
       "0      NaN               2023-01-19        Sale  United Kingdom   \n",
       "1      NaN               2023-01-26      London  United Kingdom   \n",
       "\n",
       "  Client Currency Client Job Title  \n",
       "0             GBP              NaN  \n",
       "1             GBP              NaN  "
      ]
     },
     "execution_count": 8,
     "metadata": {},
     "output_type": "execute_result"
    }
   ],
   "source": [
    "df.head(2)"
   ]
  },
  {
   "cell_type": "code",
   "execution_count": 9,
   "metadata": {},
   "outputs": [
    {
     "data": {
      "text/html": [
       "<div>\n",
       "<style scoped>\n",
       "    .dataframe tbody tr th:only-of-type {\n",
       "        vertical-align: middle;\n",
       "    }\n",
       "\n",
       "    .dataframe tbody tr th {\n",
       "        vertical-align: top;\n",
       "    }\n",
       "\n",
       "    .dataframe thead th {\n",
       "        text-align: right;\n",
       "    }\n",
       "</style>\n",
       "<table border=\"1\" class=\"dataframe\">\n",
       "  <thead>\n",
       "    <tr style=\"text-align: right;\">\n",
       "      <th></th>\n",
       "      <th>Title</th>\n",
       "      <th>Category Name</th>\n",
       "      <th>Experience</th>\n",
       "      <th>Sub Category Name</th>\n",
       "      <th>Currency</th>\n",
       "      <th>Budget</th>\n",
       "      <th>Location</th>\n",
       "      <th>Freelancer Preferred From</th>\n",
       "      <th>Type</th>\n",
       "      <th>Date Posted</th>\n",
       "      <th>Description</th>\n",
       "      <th>Client Registration Date</th>\n",
       "      <th>Client City</th>\n",
       "      <th>Client Country</th>\n",
       "      <th>Client Currency</th>\n",
       "    </tr>\n",
       "  </thead>\n",
       "  <tbody>\n",
       "    <tr>\n",
       "      <td>0</td>\n",
       "      <td>Create Educational Course Website Wordpress Wo...</td>\n",
       "      <td>Technology &amp; Programming</td>\n",
       "      <td>Intermediate ($$)</td>\n",
       "      <td>Website Development</td>\n",
       "      <td>GBP</td>\n",
       "      <td>200.0</td>\n",
       "      <td>remote</td>\n",
       "      <td>ALL</td>\n",
       "      <td>fixed_price</td>\n",
       "      <td>2023-01-26 21:00:45</td>\n",
       "      <td>Hello,\\n\\nI already have the Domain for the we...</td>\n",
       "      <td>2023-01-19</td>\n",
       "      <td>Sale</td>\n",
       "      <td>United Kingdom</td>\n",
       "      <td>GBP</td>\n",
       "    </tr>\n",
       "    <tr>\n",
       "      <td>1</td>\n",
       "      <td>Virtual Assistant</td>\n",
       "      <td>Business</td>\n",
       "      <td>Expert ($$$)</td>\n",
       "      <td>Administration Assistance</td>\n",
       "      <td>GBP</td>\n",
       "      <td>1000.0</td>\n",
       "      <td>remote</td>\n",
       "      <td>ALL</td>\n",
       "      <td>fixed_price</td>\n",
       "      <td>2023-01-26 20:17:49</td>\n",
       "      <td>We are looking for a talented Virtual Assistan...</td>\n",
       "      <td>2023-01-26</td>\n",
       "      <td>London</td>\n",
       "      <td>United Kingdom</td>\n",
       "      <td>GBP</td>\n",
       "    </tr>\n",
       "  </tbody>\n",
       "</table>\n",
       "</div>"
      ],
      "text/plain": [
       "                                               Title  \\\n",
       "0  Create Educational Course Website Wordpress Wo...   \n",
       "1                                 Virtual Assistant    \n",
       "\n",
       "              Category Name         Experience          Sub Category Name  \\\n",
       "0  Technology & Programming  Intermediate ($$)        Website Development   \n",
       "1                  Business       Expert ($$$)  Administration Assistance   \n",
       "\n",
       "  Currency  Budget Location Freelancer Preferred From         Type  \\\n",
       "0      GBP   200.0   remote                       ALL  fixed_price   \n",
       "1      GBP  1000.0   remote                       ALL  fixed_price   \n",
       "\n",
       "           Date Posted                                        Description  \\\n",
       "0  2023-01-26 21:00:45  Hello,\\n\\nI already have the Domain for the we...   \n",
       "1  2023-01-26 20:17:49  We are looking for a talented Virtual Assistan...   \n",
       "\n",
       "  Client Registration Date Client City  Client Country Client Currency  \n",
       "0               2023-01-19        Sale  United Kingdom             GBP  \n",
       "1               2023-01-26      London  United Kingdom             GBP  "
      ]
     },
     "execution_count": 9,
     "metadata": {},
     "output_type": "execute_result"
    }
   ],
   "source": [
    "df.drop(columns = ['Duration', 'Client Job Title'], inplace = True)\n",
    "df.head(2)"
   ]
  },
  {
   "cell_type": "markdown",
   "metadata": {},
   "source": [
    "## Exploratory Data Analysis"
   ]
  },
  {
   "cell_type": "code",
   "execution_count": 10,
   "metadata": {},
   "outputs": [
    {
     "data": {
      "text/plain": [
       "Text(0, 0.5, '')"
      ]
     },
     "execution_count": 10,
     "metadata": {},
     "output_type": "execute_result"
    },
    {
     "data": {
      "image/png": "[encoded data removed]",
      "text/plain": [
       "<Figure size 576x432 with 1 Axes>"
      ]
     },
     "metadata": {},
     "output_type": "display_data"
    }
   ],
   "source": [
    "plt.figure(figsize=(8, 6))\n",
    "plt.title('Top Freelancing Jobs', fontsize=(15))\n",
    "df['Category Name'].value_counts().plot(kind='pie', autopct='%1.1f%%')\n",
    "plt.ylabel(None)"
   ]
  },
  {
   "cell_type": "markdown",
   "metadata": {},
   "source": [
    "- Conclusion, we note that Designing top the chart with whooping 31.7%, Technology & Programming comes in 2nd with 24.2% and on the 3rd position is Writing & Translation freelancing jobs with 11.5% surpassing Business and Video, Photo & Image jobs as we close the Top 5 most demanding Freelacing jobs"
   ]
  },
  {
   "cell_type": "code",
   "execution_count": 11,
   "metadata": {},
   "outputs": [
    {
     "data": {
      "text/plain": [
       "Expert           424\n",
       "Entry            412\n",
       "Intermediate      98\n",
       "Name: Experience, dtype: int64"
      ]
     },
     "execution_count": 11,
     "metadata": {},
     "output_type": "execute_result"
    }
   ],
   "source": [
    "df['Experience'] = df['Experience'].str.replace('$', '')\n",
    "df['Experience'] = df['Experience'].str.replace('(', '')\n",
    "df['Experience'] = df['Experience'].str.replace(')', '')\n",
    "df['Experience'].value_counts()#.head()"
   ]
  },
  {
   "cell_type": "code",
   "execution_count": 12,
   "metadata": {},
   "outputs": [
    {
     "data": {
      "text/plain": [
       "Text(0.5, 1.0, 'Level of Experience for job Expectancy')"
      ]
     },
     "execution_count": 12,
     "metadata": {},
     "output_type": "execute_result"
    },
    {
     "data": {
      "image/png": "[encoded data removed]",
      "text/plain": [
       "<Figure size 432x288 with 1 Axes>"
      ]
     },
     "metadata": {
      "needs_background": "light"
     },
     "output_type": "display_data"
    }
   ],
   "source": [
    "df['Experience'].value_counts().plot(kind = 'bar')\n",
    "plt.title('Level of Experience for job Expectancy', fontsize = (15))"
   ]
  },
  {
   "cell_type": "code",
   "execution_count": 13,
   "metadata": {},
   "outputs": [
    {
     "data": {
      "image/png": "[encoded data removed]",
      "text/plain": [
       "<Figure size 1008x576 with 1 Axes>"
      ]
     },
     "metadata": {
      "needs_background": "light"
     },
     "output_type": "display_data"
    }
   ],
   "source": [
    "plt.figure(figsize = (14, 8))\n",
    "bar = df['Sub Category Name'].value_counts().head(20).sort_values(ascending = True).plot(kind='barh')\n",
    "plt.title('Most Demanding Sub category Jobs in Freelancing', fontsize = (16))\n",
    "for i in bar.patches:\n",
    "    if i.get_width() > 400:\n",
    "        i.set_color(\"#f85e5e\")\n",
    "    elif i.get_width() > 200:\n",
    "        i.set_color(\"#42b7bd\")\n",
    "    else:\n",
    "        i.set_color(\"#348781\")"
   ]
  },
  {
   "cell_type": "code",
   "execution_count": 14,
   "metadata": {},
   "outputs": [
    {
     "data": {
      "text/html": [
       "<div>\n",
       "<style scoped>\n",
       "    .dataframe tbody tr th:only-of-type {\n",
       "        vertical-align: middle;\n",
       "    }\n",
       "\n",
       "    .dataframe tbody tr th {\n",
       "        vertical-align: top;\n",
       "    }\n",
       "\n",
       "    .dataframe thead th {\n",
       "        text-align: right;\n",
       "    }\n",
       "</style>\n",
       "<table border=\"1\" class=\"dataframe\">\n",
       "  <thead>\n",
       "    <tr style=\"text-align: right;\">\n",
       "      <th></th>\n",
       "      <th>Title</th>\n",
       "      <th>Category Name</th>\n",
       "      <th>Experience</th>\n",
       "      <th>Sub Category Name</th>\n",
       "      <th>Currency</th>\n",
       "      <th>Budget</th>\n",
       "      <th>Location</th>\n",
       "      <th>Freelancer Preferred From</th>\n",
       "      <th>Type</th>\n",
       "      <th>Date Posted</th>\n",
       "      <th>Description</th>\n",
       "      <th>Client Registration Date</th>\n",
       "      <th>Client City</th>\n",
       "      <th>Client Country</th>\n",
       "      <th>Client Currency</th>\n",
       "    </tr>\n",
       "  </thead>\n",
       "  <tbody>\n",
       "    <tr>\n",
       "      <td>0</td>\n",
       "      <td>Create Educational Course Website Wordpress Wo...</td>\n",
       "      <td>Technology &amp; Programming</td>\n",
       "      <td>Intermediate</td>\n",
       "      <td>Website Development</td>\n",
       "      <td>GBP</td>\n",
       "      <td>200.0</td>\n",
       "      <td>remote</td>\n",
       "      <td>ALL</td>\n",
       "      <td>fixed_price</td>\n",
       "      <td>2023-01-26 21:00:45</td>\n",
       "      <td>Hello,\\n\\nI already have the Domain for the we...</td>\n",
       "      <td>2023-01-19</td>\n",
       "      <td>Sale</td>\n",
       "      <td>United Kingdom</td>\n",
       "      <td>GBP</td>\n",
       "    </tr>\n",
       "    <tr>\n",
       "      <td>1</td>\n",
       "      <td>Virtual Assistant</td>\n",
       "      <td>Business</td>\n",
       "      <td>Expert</td>\n",
       "      <td>Administration Assistance</td>\n",
       "      <td>GBP</td>\n",
       "      <td>1000.0</td>\n",
       "      <td>remote</td>\n",
       "      <td>ALL</td>\n",
       "      <td>fixed_price</td>\n",
       "      <td>2023-01-26 20:17:49</td>\n",
       "      <td>We are looking for a talented Virtual Assistan...</td>\n",
       "      <td>2023-01-26</td>\n",
       "      <td>London</td>\n",
       "      <td>United Kingdom</td>\n",
       "      <td>GBP</td>\n",
       "    </tr>\n",
       "  </tbody>\n",
       "</table>\n",
       "</div>"
      ],
      "text/plain": [
       "                                               Title  \\\n",
       "0  Create Educational Course Website Wordpress Wo...   \n",
       "1                                 Virtual Assistant    \n",
       "\n",
       "              Category Name     Experience          Sub Category Name  \\\n",
       "0  Technology & Programming  Intermediate         Website Development   \n",
       "1                  Business        Expert   Administration Assistance   \n",
       "\n",
       "  Currency  Budget Location Freelancer Preferred From         Type  \\\n",
       "0      GBP   200.0   remote                       ALL  fixed_price   \n",
       "1      GBP  1000.0   remote                       ALL  fixed_price   \n",
       "\n",
       "           Date Posted                                        Description  \\\n",
       "0  2023-01-26 21:00:45  Hello,\\n\\nI already have the Domain for the we...   \n",
       "1  2023-01-26 20:17:49  We are looking for a talented Virtual Assistan...   \n",
       "\n",
       "  Client Registration Date Client City  Client Country Client Currency  \n",
       "0               2023-01-19        Sale  United Kingdom             GBP  \n",
       "1               2023-01-26      London  United Kingdom             GBP  "
      ]
     },
     "execution_count": 14,
     "metadata": {},
     "output_type": "execute_result"
    }
   ],
   "source": [
    "df.head(2)"
   ]
  },
  {
   "cell_type": "code",
   "execution_count": 15,
   "metadata": {},
   "outputs": [
    {
     "data": {
      "text/html": [
       "<div>\n",
       "<style scoped>\n",
       "    .dataframe tbody tr th:only-of-type {\n",
       "        vertical-align: middle;\n",
       "    }\n",
       "\n",
       "    .dataframe tbody tr th {\n",
       "        vertical-align: top;\n",
       "    }\n",
       "\n",
       "    .dataframe thead th {\n",
       "        text-align: right;\n",
       "    }\n",
       "</style>\n",
       "<table border=\"1\" class=\"dataframe\">\n",
       "  <thead>\n",
       "    <tr style=\"text-align: right;\">\n",
       "      <th></th>\n",
       "      <th>Budget</th>\n",
       "    </tr>\n",
       "    <tr>\n",
       "      <th>Category Name</th>\n",
       "      <th></th>\n",
       "    </tr>\n",
       "  </thead>\n",
       "  <tbody>\n",
       "    <tr>\n",
       "      <td>Technology &amp; Programming</td>\n",
       "      <td>74550.0</td>\n",
       "    </tr>\n",
       "    <tr>\n",
       "      <td>Design</td>\n",
       "      <td>32639.0</td>\n",
       "    </tr>\n",
       "    <tr>\n",
       "      <td>Writing &amp; Translation</td>\n",
       "      <td>13557.0</td>\n",
       "    </tr>\n",
       "    <tr>\n",
       "      <td>Business</td>\n",
       "      <td>11353.0</td>\n",
       "    </tr>\n",
       "    <tr>\n",
       "      <td>Video, Photo &amp; Image</td>\n",
       "      <td>8339.0</td>\n",
       "    </tr>\n",
       "    <tr>\n",
       "      <td>Marketing, Branding &amp; Sales</td>\n",
       "      <td>7276.0</td>\n",
       "    </tr>\n",
       "    <tr>\n",
       "      <td>Digital Marketing</td>\n",
       "      <td>5141.0</td>\n",
       "    </tr>\n",
       "    <tr>\n",
       "      <td>Social Media</td>\n",
       "      <td>4610.0</td>\n",
       "    </tr>\n",
       "    <tr>\n",
       "      <td>Music &amp; Audio</td>\n",
       "      <td>1553.0</td>\n",
       "    </tr>\n",
       "  </tbody>\n",
       "</table>\n",
       "</div>"
      ],
      "text/plain": [
       "                              Budget\n",
       "Category Name                       \n",
       "Technology & Programming     74550.0\n",
       "Design                       32639.0\n",
       "Writing & Translation        13557.0\n",
       "Business                     11353.0\n",
       "Video, Photo & Image          8339.0\n",
       "Marketing, Branding & Sales   7276.0\n",
       "Digital Marketing             5141.0\n",
       "Social Media                  4610.0\n",
       "Music & Audio                 1553.0"
      ]
     },
     "execution_count": 15,
     "metadata": {},
     "output_type": "execute_result"
    }
   ],
   "source": [
    "budget = df.groupby('Category Name')\n",
    "budget = budget['Budget'].sum().sort_values(ascending = False).to_frame()\n",
    "budget"
   ]
  },
  {
   "cell_type": "code",
   "execution_count": 16,
   "metadata": {},
   "outputs": [
    {
     "data": {
      "text/plain": [
       "Text(0.5, 1.0, 'Budget Score based on Job Category')"
      ]
     },
     "execution_count": 16,
     "metadata": {},
     "output_type": "execute_result"
    },
    {
     "data": {
      "image/png": "[encoded data removed]",
      "text/plain": [
       "<Figure size 432x288 with 1 Axes>"
      ]
     },
     "metadata": {
      "needs_background": "light"
     },
     "output_type": "display_data"
    }
   ],
   "source": [
    "budget.plot(kind = 'barh')\n",
    "plt.ylabel(None)\n",
    "plt.title('Budget Score based on Job Category', fontsize = (15))"
   ]
  },
  {
   "cell_type": "markdown",
   "metadata": {},
   "source": [
    "Its now factual that Technology & Programming jobs are the sexiest jobs in the market top our score sheet with highest paid jobs. "
   ]
  },
  {
   "cell_type": "markdown",
   "metadata": {},
   "source": [
    "- **We dive deep into Technology & Programming to determine which sub group has the most paid job, and hottest in the market.**"
   ]
  },
  {
   "cell_type": "code",
   "execution_count": 17,
   "metadata": {},
   "outputs": [
    {
     "data": {
      "text/plain": [
       "Technology & Programming    226\n",
       "Name: Category Name, dtype: int64"
      ]
     },
     "execution_count": 17,
     "metadata": {},
     "output_type": "execute_result"
    }
   ],
   "source": [
    "tech_prog = df[df['Category Name'] == 'Technology & Programming']\n",
    "tech_prog['Category Name'].value_counts()"
   ]
  },
  {
   "cell_type": "code",
   "execution_count": 18,
   "metadata": {},
   "outputs": [
    {
     "data": {
      "text/html": [
       "<div>\n",
       "<style scoped>\n",
       "    .dataframe tbody tr th:only-of-type {\n",
       "        vertical-align: middle;\n",
       "    }\n",
       "\n",
       "    .dataframe tbody tr th {\n",
       "        vertical-align: top;\n",
       "    }\n",
       "\n",
       "    .dataframe thead th {\n",
       "        text-align: right;\n",
       "    }\n",
       "</style>\n",
       "<table border=\"1\" class=\"dataframe\">\n",
       "  <thead>\n",
       "    <tr style=\"text-align: right;\">\n",
       "      <th></th>\n",
       "      <th>Budget</th>\n",
       "    </tr>\n",
       "    <tr>\n",
       "      <th>Sub Category Name</th>\n",
       "      <th></th>\n",
       "    </tr>\n",
       "  </thead>\n",
       "  <tbody>\n",
       "    <tr>\n",
       "      <td>Website Development</td>\n",
       "      <td>30726.0</td>\n",
       "    </tr>\n",
       "    <tr>\n",
       "      <td>Mobile App Development</td>\n",
       "      <td>14016.0</td>\n",
       "    </tr>\n",
       "    <tr>\n",
       "      <td>ERP/CRM Development</td>\n",
       "      <td>9985.0</td>\n",
       "    </tr>\n",
       "    <tr>\n",
       "      <td>Programming &amp; Coding</td>\n",
       "      <td>8482.0</td>\n",
       "    </tr>\n",
       "    <tr>\n",
       "      <td>Data Science &amp; Analysis</td>\n",
       "      <td>2989.0</td>\n",
       "    </tr>\n",
       "    <tr>\n",
       "      <td>CMS Development</td>\n",
       "      <td>2705.0</td>\n",
       "    </tr>\n",
       "    <tr>\n",
       "      <td>Databases</td>\n",
       "      <td>2466.0</td>\n",
       "    </tr>\n",
       "    <tr>\n",
       "      <td>eCommerce CMS Development</td>\n",
       "      <td>1286.0</td>\n",
       "    </tr>\n",
       "    <tr>\n",
       "      <td>Game Development</td>\n",
       "      <td>1182.0</td>\n",
       "    </tr>\n",
       "    <tr>\n",
       "      <td>Software Testing</td>\n",
       "      <td>288.0</td>\n",
       "    </tr>\n",
       "    <tr>\n",
       "      <td>Social Media App</td>\n",
       "      <td>255.0</td>\n",
       "    </tr>\n",
       "    <tr>\n",
       "      <td>Email Template Development</td>\n",
       "      <td>170.0</td>\n",
       "    </tr>\n",
       "  </tbody>\n",
       "</table>\n",
       "</div>"
      ],
      "text/plain": [
       "                             Budget\n",
       "Sub Category Name                  \n",
       "Website Development         30726.0\n",
       "Mobile App Development      14016.0\n",
       "ERP/CRM Development          9985.0\n",
       "Programming & Coding         8482.0\n",
       "Data Science & Analysis      2989.0\n",
       "CMS Development              2705.0\n",
       "Databases                    2466.0\n",
       "eCommerce CMS Development    1286.0\n",
       "Game Development             1182.0\n",
       "Software Testing              288.0\n",
       "Social Media App              255.0\n",
       "Email Template Development    170.0"
      ]
     },
     "execution_count": 18,
     "metadata": {},
     "output_type": "execute_result"
    }
   ],
   "source": [
    "sub_cat_tech_prog = tech_prog.groupby('Sub Category Name')\n",
    "sub_plot = sub_cat_tech_prog['Budget'].sum().sort_values(ascending = False).to_frame()\n",
    "sub_plot"
   ]
  },
  {
   "cell_type": "code",
   "execution_count": 19,
   "metadata": {},
   "outputs": [
    {
     "data": {
      "text/plain": [
       "Text(0.5, 1.0, 'Technology & Programming Sub Groups')"
      ]
     },
     "execution_count": 19,
     "metadata": {},
     "output_type": "execute_result"
    },
    {
     "data": {
      "image/png": "[encoded data removed]",
      "text/plain": [
       "<Figure size 432x288 with 1 Axes>"
      ]
     },
     "metadata": {
      "needs_background": "light"
     },
     "output_type": "display_data"
    }
   ],
   "source": [
    "sub_plot.plot(kind = 'barh')\n",
    "plt.ylabel(None)\n",
    "plt.title('Technology & Programming Sub Groups', fontsize=(15))"
   ]
  },
  {
   "cell_type": "code",
   "execution_count": 20,
   "metadata": {},
   "outputs": [
    {
     "data": {
      "text/html": [
       "<div>\n",
       "<style scoped>\n",
       "    .dataframe tbody tr th:only-of-type {\n",
       "        vertical-align: middle;\n",
       "    }\n",
       "\n",
       "    .dataframe tbody tr th {\n",
       "        vertical-align: top;\n",
       "    }\n",
       "\n",
       "    .dataframe thead th {\n",
       "        text-align: right;\n",
       "    }\n",
       "</style>\n",
       "<table border=\"1\" class=\"dataframe\">\n",
       "  <thead>\n",
       "    <tr style=\"text-align: right;\">\n",
       "      <th></th>\n",
       "      <th>Budget</th>\n",
       "    </tr>\n",
       "    <tr>\n",
       "      <th>Sub Category Name</th>\n",
       "      <th></th>\n",
       "    </tr>\n",
       "  </thead>\n",
       "  <tbody>\n",
       "    <tr>\n",
       "      <td>Email Template Development</td>\n",
       "      <td>56.67</td>\n",
       "    </tr>\n",
       "    <tr>\n",
       "      <td>Social Media App</td>\n",
       "      <td>85.00</td>\n",
       "    </tr>\n",
       "    <tr>\n",
       "      <td>Databases</td>\n",
       "      <td>137.00</td>\n",
       "    </tr>\n",
       "    <tr>\n",
       "      <td>Software Testing</td>\n",
       "      <td>144.00</td>\n",
       "    </tr>\n",
       "    <tr>\n",
       "      <td>eCommerce CMS Development</td>\n",
       "      <td>160.75</td>\n",
       "    </tr>\n",
       "    <tr>\n",
       "      <td>Programming &amp; Coding</td>\n",
       "      <td>173.10</td>\n",
       "    </tr>\n",
       "    <tr>\n",
       "      <td>Data Science &amp; Analysis</td>\n",
       "      <td>186.81</td>\n",
       "    </tr>\n",
       "    <tr>\n",
       "      <td>Website Development</td>\n",
       "      <td>323.43</td>\n",
       "    </tr>\n",
       "    <tr>\n",
       "      <td>CMS Development</td>\n",
       "      <td>386.43</td>\n",
       "    </tr>\n",
       "    <tr>\n",
       "      <td>Game Development</td>\n",
       "      <td>394.00</td>\n",
       "    </tr>\n",
       "    <tr>\n",
       "      <td>Mobile App Development</td>\n",
       "      <td>934.40</td>\n",
       "    </tr>\n",
       "    <tr>\n",
       "      <td>ERP/CRM Development</td>\n",
       "      <td>1426.43</td>\n",
       "    </tr>\n",
       "  </tbody>\n",
       "</table>\n",
       "</div>"
      ],
      "text/plain": [
       "                             Budget\n",
       "Sub Category Name                  \n",
       "Email Template Development    56.67\n",
       "Social Media App              85.00\n",
       "Databases                    137.00\n",
       "Software Testing             144.00\n",
       "eCommerce CMS Development    160.75\n",
       "Programming & Coding         173.10\n",
       "Data Science & Analysis      186.81\n",
       "Website Development          323.43\n",
       "CMS Development              386.43\n",
       "Game Development             394.00\n",
       "Mobile App Development       934.40\n",
       "ERP/CRM Development         1426.43"
      ]
     },
     "execution_count": 20,
     "metadata": {},
     "output_type": "execute_result"
    }
   ],
   "source": [
    "sub_cat_tech_prog['Budget'].mean().round(2).sort_values().to_frame()"
   ]
  },
  {
   "cell_type": "code",
   "execution_count": 21,
   "metadata": {},
   "outputs": [
    {
     "data": {
      "text/plain": [
       "329.86725663716817"
      ]
     },
     "execution_count": 21,
     "metadata": {},
     "output_type": "execute_result"
    }
   ],
   "source": [
    "tech_prog['Budget'].mean()"
   ]
  },
  {
   "cell_type": "markdown",
   "metadata": {},
   "source": [
    "### **Technology & Programming**"
   ]
  },
  {
   "cell_type": "markdown",
   "metadata": {},
   "source": [
    "Being the leading jobs in the freelance workspace, we dive deep to our research and realize that Website Development is leading with a whooping 30726 GBP.\n",
    "Here's a list ranked from highest value field downwards\n",
    "- Website Development\t    30726.0\n",
    "- Mobile App Development\t14016.0\n",
    "- ERP/CRM Development\t    9985.0\n",
    "- Programming & Coding\t    8482.0\n",
    "- Data Science & Analysis\t2989.0\n",
    "- CMS Development\t        2705.0\n",
    "- Databases\t                2466.0\n",
    "- eCommerce CMS Development\t1286.0\n",
    "- Game Development\t        1182.0\n",
    "- Software Testing\t        288.0\n",
    "- Social Media App\t        255.0\n",
    "- Email Template Development\t170.0\n",
    "\n",
    "However, in as much as Website Development is leading in the market, on average you can make alot in \n",
    "- ERP/CRM Development\t1426.43 \n",
    "- Mobile App Development 934.40\n",
    "\n",
    "Anyway you're probably to make over 330 GBP in tech in an Entry level job"
   ]
  },
  {
   "cell_type": "code",
   "execution_count": 22,
   "metadata": {},
   "outputs": [
    {
     "data": {
      "text/html": [
       "<div>\n",
       "<style scoped>\n",
       "    .dataframe tbody tr th:only-of-type {\n",
       "        vertical-align: middle;\n",
       "    }\n",
       "\n",
       "    .dataframe tbody tr th {\n",
       "        vertical-align: top;\n",
       "    }\n",
       "\n",
       "    .dataframe thead th {\n",
       "        text-align: right;\n",
       "    }\n",
       "</style>\n",
       "<table border=\"1\" class=\"dataframe\">\n",
       "  <thead>\n",
       "    <tr style=\"text-align: right;\">\n",
       "      <th></th>\n",
       "      <th>Title</th>\n",
       "      <th>Category Name</th>\n",
       "      <th>Experience</th>\n",
       "      <th>Sub Category Name</th>\n",
       "      <th>Currency</th>\n",
       "      <th>Budget</th>\n",
       "      <th>Location</th>\n",
       "      <th>Freelancer Preferred From</th>\n",
       "      <th>Type</th>\n",
       "      <th>Date Posted</th>\n",
       "      <th>Description</th>\n",
       "      <th>Client Registration Date</th>\n",
       "      <th>Client City</th>\n",
       "      <th>Client Country</th>\n",
       "      <th>Client Currency</th>\n",
       "    </tr>\n",
       "  </thead>\n",
       "  <tbody>\n",
       "    <tr>\n",
       "      <td>0</td>\n",
       "      <td>Create Educational Course Website Wordpress Wo...</td>\n",
       "      <td>Technology &amp; Programming</td>\n",
       "      <td>Intermediate</td>\n",
       "      <td>Website Development</td>\n",
       "      <td>GBP</td>\n",
       "      <td>200.0</td>\n",
       "      <td>remote</td>\n",
       "      <td>ALL</td>\n",
       "      <td>fixed_price</td>\n",
       "      <td>2023-01-26 21:00:45</td>\n",
       "      <td>Hello,\\n\\nI already have the Domain for the we...</td>\n",
       "      <td>2023-01-19</td>\n",
       "      <td>Sale</td>\n",
       "      <td>United Kingdom</td>\n",
       "      <td>GBP</td>\n",
       "    </tr>\n",
       "    <tr>\n",
       "      <td>1</td>\n",
       "      <td>Virtual Assistant</td>\n",
       "      <td>Business</td>\n",
       "      <td>Expert</td>\n",
       "      <td>Administration Assistance</td>\n",
       "      <td>GBP</td>\n",
       "      <td>1000.0</td>\n",
       "      <td>remote</td>\n",
       "      <td>ALL</td>\n",
       "      <td>fixed_price</td>\n",
       "      <td>2023-01-26 20:17:49</td>\n",
       "      <td>We are looking for a talented Virtual Assistan...</td>\n",
       "      <td>2023-01-26</td>\n",
       "      <td>London</td>\n",
       "      <td>United Kingdom</td>\n",
       "      <td>GBP</td>\n",
       "    </tr>\n",
       "  </tbody>\n",
       "</table>\n",
       "</div>"
      ],
      "text/plain": [
       "                                               Title  \\\n",
       "0  Create Educational Course Website Wordpress Wo...   \n",
       "1                                 Virtual Assistant    \n",
       "\n",
       "              Category Name     Experience          Sub Category Name  \\\n",
       "0  Technology & Programming  Intermediate         Website Development   \n",
       "1                  Business        Expert   Administration Assistance   \n",
       "\n",
       "  Currency  Budget Location Freelancer Preferred From         Type  \\\n",
       "0      GBP   200.0   remote                       ALL  fixed_price   \n",
       "1      GBP  1000.0   remote                       ALL  fixed_price   \n",
       "\n",
       "           Date Posted                                        Description  \\\n",
       "0  2023-01-26 21:00:45  Hello,\\n\\nI already have the Domain for the we...   \n",
       "1  2023-01-26 20:17:49  We are looking for a talented Virtual Assistan...   \n",
       "\n",
       "  Client Registration Date Client City  Client Country Client Currency  \n",
       "0               2023-01-19        Sale  United Kingdom             GBP  \n",
       "1               2023-01-26      London  United Kingdom             GBP  "
      ]
     },
     "execution_count": 22,
     "metadata": {},
     "output_type": "execute_result"
    }
   ],
   "source": [
    "df.head(2)"
   ]
  },
  {
   "cell_type": "code",
   "execution_count": 23,
   "metadata": {},
   "outputs": [
    {
     "data": {
      "text/html": [
       "<div>\n",
       "<style scoped>\n",
       "    .dataframe tbody tr th:only-of-type {\n",
       "        vertical-align: middle;\n",
       "    }\n",
       "\n",
       "    .dataframe tbody tr th {\n",
       "        vertical-align: top;\n",
       "    }\n",
       "\n",
       "    .dataframe thead th {\n",
       "        text-align: right;\n",
       "    }\n",
       "</style>\n",
       "<table border=\"1\" class=\"dataframe\">\n",
       "  <thead>\n",
       "    <tr style=\"text-align: right;\">\n",
       "      <th></th>\n",
       "      <th>Location</th>\n",
       "    </tr>\n",
       "  </thead>\n",
       "  <tbody>\n",
       "    <tr>\n",
       "      <td>remote</td>\n",
       "      <td>860</td>\n",
       "    </tr>\n",
       "    <tr>\n",
       "      <td>remote_country</td>\n",
       "      <td>65</td>\n",
       "    </tr>\n",
       "    <tr>\n",
       "      <td>onsite</td>\n",
       "      <td>9</td>\n",
       "    </tr>\n",
       "  </tbody>\n",
       "</table>\n",
       "</div>"
      ],
      "text/plain": [
       "                Location\n",
       "remote               860\n",
       "remote_country        65\n",
       "onsite                 9"
      ]
     },
     "execution_count": 23,
     "metadata": {},
     "output_type": "execute_result"
    }
   ],
   "source": [
    "df['Location'].value_counts().to_frame()"
   ]
  },
  {
   "cell_type": "code",
   "execution_count": 24,
   "metadata": {},
   "outputs": [
    {
     "data": {
      "text/html": [
       "<div>\n",
       "<style scoped>\n",
       "    .dataframe tbody tr th:only-of-type {\n",
       "        vertical-align: middle;\n",
       "    }\n",
       "\n",
       "    .dataframe tbody tr th {\n",
       "        vertical-align: top;\n",
       "    }\n",
       "\n",
       "    .dataframe thead th {\n",
       "        text-align: right;\n",
       "    }\n",
       "</style>\n",
       "<table border=\"1\" class=\"dataframe\">\n",
       "  <thead>\n",
       "    <tr style=\"text-align: right;\">\n",
       "      <th></th>\n",
       "      <th>Type</th>\n",
       "    </tr>\n",
       "  </thead>\n",
       "  <tbody>\n",
       "    <tr>\n",
       "      <td>fixed_price</td>\n",
       "      <td>788</td>\n",
       "    </tr>\n",
       "    <tr>\n",
       "      <td>hourly</td>\n",
       "      <td>146</td>\n",
       "    </tr>\n",
       "  </tbody>\n",
       "</table>\n",
       "</div>"
      ],
      "text/plain": [
       "             Type\n",
       "fixed_price   788\n",
       "hourly        146"
      ]
     },
     "execution_count": 24,
     "metadata": {},
     "output_type": "execute_result"
    }
   ],
   "source": [
    "df['Type'].value_counts().to_frame()"
   ]
  },
  {
   "cell_type": "code",
   "execution_count": 25,
   "metadata": {},
   "outputs": [
    {
     "data": {
      "text/html": [
       "<div>\n",
       "<style scoped>\n",
       "    .dataframe tbody tr th:only-of-type {\n",
       "        vertical-align: middle;\n",
       "    }\n",
       "\n",
       "    .dataframe tbody tr th {\n",
       "        vertical-align: top;\n",
       "    }\n",
       "\n",
       "    .dataframe thead th {\n",
       "        text-align: right;\n",
       "    }\n",
       "</style>\n",
       "<table border=\"1\" class=\"dataframe\">\n",
       "  <thead>\n",
       "    <tr style=\"text-align: right;\">\n",
       "      <th></th>\n",
       "      <th>Client City</th>\n",
       "    </tr>\n",
       "  </thead>\n",
       "  <tbody>\n",
       "    <tr>\n",
       "      <td>London</td>\n",
       "      <td>167</td>\n",
       "    </tr>\n",
       "    <tr>\n",
       "      <td>City of London</td>\n",
       "      <td>31</td>\n",
       "    </tr>\n",
       "    <tr>\n",
       "      <td>Manchester</td>\n",
       "      <td>24</td>\n",
       "    </tr>\n",
       "    <tr>\n",
       "      <td>Birmingham</td>\n",
       "      <td>19</td>\n",
       "    </tr>\n",
       "    <tr>\n",
       "      <td>Leeds</td>\n",
       "      <td>12</td>\n",
       "    </tr>\n",
       "    <tr>\n",
       "      <td>Milton Keynes</td>\n",
       "      <td>8</td>\n",
       "    </tr>\n",
       "    <tr>\n",
       "      <td>Reading</td>\n",
       "      <td>8</td>\n",
       "    </tr>\n",
       "    <tr>\n",
       "      <td>Dublin</td>\n",
       "      <td>8</td>\n",
       "    </tr>\n",
       "    <tr>\n",
       "      <td>Nottingham</td>\n",
       "      <td>8</td>\n",
       "    </tr>\n",
       "    <tr>\n",
       "      <td>Tallinn</td>\n",
       "      <td>8</td>\n",
       "    </tr>\n",
       "  </tbody>\n",
       "</table>\n",
       "</div>"
      ],
      "text/plain": [
       "                Client City\n",
       "London                  167\n",
       "City of London           31\n",
       "Manchester               24\n",
       "Birmingham               19\n",
       "Leeds                    12\n",
       "Milton Keynes             8\n",
       "Reading                   8\n",
       "Dublin                    8\n",
       "Nottingham                8\n",
       "Tallinn                   8"
      ]
     },
     "execution_count": 25,
     "metadata": {},
     "output_type": "execute_result"
    }
   ],
   "source": [
    "df['Client City'].value_counts().head(10).to_frame()"
   ]
  },
  {
   "cell_type": "code",
   "execution_count": 26,
   "metadata": {},
   "outputs": [
    {
     "data": {
      "text/html": [
       "<div>\n",
       "<style scoped>\n",
       "    .dataframe tbody tr th:only-of-type {\n",
       "        vertical-align: middle;\n",
       "    }\n",
       "\n",
       "    .dataframe tbody tr th {\n",
       "        vertical-align: top;\n",
       "    }\n",
       "\n",
       "    .dataframe thead th {\n",
       "        text-align: right;\n",
       "    }\n",
       "</style>\n",
       "<table border=\"1\" class=\"dataframe\">\n",
       "  <thead>\n",
       "    <tr style=\"text-align: right;\">\n",
       "      <th></th>\n",
       "      <th>Client Country</th>\n",
       "    </tr>\n",
       "  </thead>\n",
       "  <tbody>\n",
       "    <tr>\n",
       "      <td>United Kingdom</td>\n",
       "      <td>641</td>\n",
       "    </tr>\n",
       "    <tr>\n",
       "      <td>United States</td>\n",
       "      <td>53</td>\n",
       "    </tr>\n",
       "    <tr>\n",
       "      <td>India</td>\n",
       "      <td>26</td>\n",
       "    </tr>\n",
       "    <tr>\n",
       "      <td>Italy</td>\n",
       "      <td>16</td>\n",
       "    </tr>\n",
       "    <tr>\n",
       "      <td>Spain</td>\n",
       "      <td>14</td>\n",
       "    </tr>\n",
       "    <tr>\n",
       "      <td>France</td>\n",
       "      <td>12</td>\n",
       "    </tr>\n",
       "    <tr>\n",
       "      <td>Australia</td>\n",
       "      <td>12</td>\n",
       "    </tr>\n",
       "    <tr>\n",
       "      <td>Ireland</td>\n",
       "      <td>10</td>\n",
       "    </tr>\n",
       "    <tr>\n",
       "      <td>Canada</td>\n",
       "      <td>10</td>\n",
       "    </tr>\n",
       "    <tr>\n",
       "      <td>Netherlands</td>\n",
       "      <td>10</td>\n",
       "    </tr>\n",
       "  </tbody>\n",
       "</table>\n",
       "</div>"
      ],
      "text/plain": [
       "                Client Country\n",
       "United Kingdom             641\n",
       "United States               53\n",
       "India                       26\n",
       "Italy                       16\n",
       "Spain                       14\n",
       "France                      12\n",
       "Australia                   12\n",
       "Ireland                     10\n",
       "Canada                      10\n",
       "Netherlands                 10"
      ]
     },
     "execution_count": 26,
     "metadata": {},
     "output_type": "execute_result"
    }
   ],
   "source": [
    "df['Client Country'].value_counts().head(10).to_frame()"
   ]
  },
  {
   "cell_type": "code",
   "execution_count": 27,
   "metadata": {},
   "outputs": [
    {
     "data": {
      "text/html": [
       "<div>\n",
       "<style scoped>\n",
       "    .dataframe tbody tr th:only-of-type {\n",
       "        vertical-align: middle;\n",
       "    }\n",
       "\n",
       "    .dataframe tbody tr th {\n",
       "        vertical-align: top;\n",
       "    }\n",
       "\n",
       "    .dataframe thead th {\n",
       "        text-align: right;\n",
       "    }\n",
       "</style>\n",
       "<table border=\"1\" class=\"dataframe\">\n",
       "  <thead>\n",
       "    <tr style=\"text-align: right;\">\n",
       "      <th></th>\n",
       "      <th>Title</th>\n",
       "      <th>Category Name</th>\n",
       "      <th>Experience</th>\n",
       "      <th>Sub Category Name</th>\n",
       "      <th>Currency</th>\n",
       "      <th>Budget</th>\n",
       "      <th>Location</th>\n",
       "      <th>Freelancer Preferred From</th>\n",
       "      <th>Type</th>\n",
       "      <th>Date Posted</th>\n",
       "      <th>Description</th>\n",
       "      <th>Client Registration Date</th>\n",
       "      <th>Client City</th>\n",
       "      <th>Client Country</th>\n",
       "      <th>Client Currency</th>\n",
       "    </tr>\n",
       "  </thead>\n",
       "  <tbody>\n",
       "    <tr>\n",
       "      <td>0</td>\n",
       "      <td>Create Educational Course Website Wordpress Wo...</td>\n",
       "      <td>Technology &amp; Programming</td>\n",
       "      <td>Intermediate</td>\n",
       "      <td>Website Development</td>\n",
       "      <td>GBP</td>\n",
       "      <td>200.0</td>\n",
       "      <td>remote</td>\n",
       "      <td>ALL</td>\n",
       "      <td>fixed_price</td>\n",
       "      <td>2023-01-26 21:00:45</td>\n",
       "      <td>Hello,\\n\\nI already have the Domain for the we...</td>\n",
       "      <td>2023-01-19</td>\n",
       "      <td>Sale</td>\n",
       "      <td>United Kingdom</td>\n",
       "      <td>GBP</td>\n",
       "    </tr>\n",
       "    <tr>\n",
       "      <td>1</td>\n",
       "      <td>Virtual Assistant</td>\n",
       "      <td>Business</td>\n",
       "      <td>Expert</td>\n",
       "      <td>Administration Assistance</td>\n",
       "      <td>GBP</td>\n",
       "      <td>1000.0</td>\n",
       "      <td>remote</td>\n",
       "      <td>ALL</td>\n",
       "      <td>fixed_price</td>\n",
       "      <td>2023-01-26 20:17:49</td>\n",
       "      <td>We are looking for a talented Virtual Assistan...</td>\n",
       "      <td>2023-01-26</td>\n",
       "      <td>London</td>\n",
       "      <td>United Kingdom</td>\n",
       "      <td>GBP</td>\n",
       "    </tr>\n",
       "  </tbody>\n",
       "</table>\n",
       "</div>"
      ],
      "text/plain": [
       "                                               Title  \\\n",
       "0  Create Educational Course Website Wordpress Wo...   \n",
       "1                                 Virtual Assistant    \n",
       "\n",
       "              Category Name     Experience          Sub Category Name  \\\n",
       "0  Technology & Programming  Intermediate         Website Development   \n",
       "1                  Business        Expert   Administration Assistance   \n",
       "\n",
       "  Currency  Budget Location Freelancer Preferred From         Type  \\\n",
       "0      GBP   200.0   remote                       ALL  fixed_price   \n",
       "1      GBP  1000.0   remote                       ALL  fixed_price   \n",
       "\n",
       "           Date Posted                                        Description  \\\n",
       "0  2023-01-26 21:00:45  Hello,\\n\\nI already have the Domain for the we...   \n",
       "1  2023-01-26 20:17:49  We are looking for a talented Virtual Assistan...   \n",
       "\n",
       "  Client Registration Date Client City  Client Country Client Currency  \n",
       "0               2023-01-19        Sale  United Kingdom             GBP  \n",
       "1               2023-01-26      London  United Kingdom             GBP  "
      ]
     },
     "execution_count": 27,
     "metadata": {},
     "output_type": "execute_result"
    }
   ],
   "source": [
    "df.head(2)"
   ]
  },
  {
   "cell_type": "markdown",
   "metadata": {},
   "source": [
    "### **Feature Engineering**\n",
    "Build a Recommendation system that prompts user for the type of job they looking for and return all potential related fields suited for the same field."
   ]
  },
  {
   "cell_type": "code",
   "execution_count": 28,
   "metadata": {},
   "outputs": [],
   "source": [
    "from sklearn.feature_extraction.text import TfidfVectorizer\n",
    "from sklearn.metrics.pairwise import sigmoid_kernel"
   ]
  },
  {
   "cell_type": "code",
   "execution_count": 29,
   "metadata": {},
   "outputs": [],
   "source": [
    "tf_vect = TfidfVectorizer(min_df=3, max_features=None, ngram_range=(1,3), \n",
    "                          stop_words='english', strip_accents='unicode')\n",
    "\n",
    "df['Description'] = df['Description'].fillna('')\n",
    "\n",
    "desc_matrix = tf_vect.fit_transform(df['Description'])"
   ]
  },
  {
   "cell_type": "code",
   "execution_count": 30,
   "metadata": {},
   "outputs": [],
   "source": [
    "sig = sigmoid_kernel(desc_matrix, desc_matrix)"
   ]
  },
  {
   "cell_type": "code",
   "execution_count": 31,
   "metadata": {},
   "outputs": [],
   "source": [
    "indices = pd.Series(df.index, df['Category Name']).drop_duplicates()"
   ]
  },
  {
   "cell_type": "code",
   "execution_count": 32,
   "metadata": {},
   "outputs": [
    {
     "data": {
      "text/plain": [
       "Business     1\n",
       "Business    25\n",
       "Business    30\n",
       "Business    35\n",
       "Business    43\n",
       "dtype: int64"
      ]
     },
     "execution_count": 32,
     "metadata": {},
     "output_type": "execute_result"
    }
   ],
   "source": [
    "indices['Business'].head()"
   ]
  },
  {
   "cell_type": "code",
   "execution_count": 34,
   "metadata": {},
   "outputs": [
    {
     "data": {
      "text/plain": [
       "array([[0.76159458, 0.76172025, 0.76159416, ..., 0.76159416, 0.76159416,\n",
       "        0.76159453],\n",
       "       [0.76159606, 0.76159688, 0.76159685, ..., 0.7615969 , 0.7615948 ,\n",
       "        0.76159765],\n",
       "       [0.76159516, 0.761596  , 0.76159416, ..., 0.76159416, 0.76159788,\n",
       "        0.76160075],\n",
       "       ...,\n",
       "       [0.76159465, 0.76159505, 0.76159823, ..., 0.76159514, 0.76159897,\n",
       "        0.7616003 ],\n",
       "       [0.7615944 , 0.76159416, 0.76159464, ..., 0.76159465, 0.76159427,\n",
       "        0.76159552],\n",
       "       [0.76159885, 0.76159453, 0.76159547, ..., 0.76159702, 0.76160655,\n",
       "        0.76172025]])"
      ]
     },
     "execution_count": 34,
     "metadata": {},
     "output_type": "execute_result"
    }
   ],
   "source": [
    "sig[indices['Business']]"
   ]
  },
  {
   "cell_type": "code",
   "execution_count": 53,
   "metadata": {},
   "outputs": [],
   "source": [
    "def manual_testing(cat, sig=sig):\n",
    "    category_list = [x for x in df['Category Name']]\n",
    "    if cat in category_list:\n",
    "        idx = indices[cat]\n",
    "        cat_list = list(enumerate(sig[idx]))\n",
    "        sort_cat = sorted(cat_list, key=lambda x: x[1], reverse=True)\n",
    "        top_cat = sort_cat[0:10]\n",
    "        recommended = [x[0] in top_cat]\n",
    "        return df[['Category Name', 'Sub Category Name', 'Experience', 'Title', 'Description']].iloc[recommended].sort_values(by = [\"Experience\", \"Title\"], ascending = False)\n"
   ]
  },
  {
   "cell_type": "code",
   "execution_count": 52,
   "metadata": {},
   "outputs": [
    {
     "ename": "ValueError",
     "evalue": "The truth value of an array with more than one element is ambiguous. Use a.any() or a.all()",
     "output_type": "error",
     "traceback": [
      "\u001b[1;31m---------------------------------------------------------------------------\u001b[0m",
      "\u001b[1;31mValueError\u001b[0m                                Traceback (most recent call last)",
      "\u001b[1;32m<ipython-input-52-3792f525a649>\u001b[0m in \u001b[0;36m<module>\u001b[1;34m\u001b[0m\n\u001b[1;32m----> 1\u001b[1;33m \u001b[0mmanual_testing\u001b[0m\u001b[1;33m(\u001b[0m\u001b[1;34m'Business'\u001b[0m\u001b[1;33m)\u001b[0m\u001b[1;33m\u001b[0m\u001b[1;33m\u001b[0m\u001b[0m\n\u001b[0m",
      "\u001b[1;32m<ipython-input-51-c2ff61e81d80>\u001b[0m in \u001b[0;36mmanual_testing\u001b[1;34m(cat, sig)\u001b[0m\n\u001b[0;32m      4\u001b[0m         \u001b[0midx\u001b[0m \u001b[1;33m=\u001b[0m \u001b[0mindices\u001b[0m\u001b[1;33m[\u001b[0m\u001b[0mcat\u001b[0m\u001b[1;33m]\u001b[0m\u001b[1;33m\u001b[0m\u001b[1;33m\u001b[0m\u001b[0m\n\u001b[0;32m      5\u001b[0m         \u001b[0mcat_list\u001b[0m \u001b[1;33m=\u001b[0m \u001b[0mlist\u001b[0m\u001b[1;33m(\u001b[0m\u001b[0menumerate\u001b[0m\u001b[1;33m(\u001b[0m\u001b[0msig\u001b[0m\u001b[1;33m[\u001b[0m\u001b[0midx\u001b[0m\u001b[1;33m]\u001b[0m\u001b[1;33m)\u001b[0m\u001b[1;33m)\u001b[0m\u001b[1;33m\u001b[0m\u001b[1;33m\u001b[0m\u001b[0m\n\u001b[1;32m----> 6\u001b[1;33m         \u001b[0msort_cat\u001b[0m \u001b[1;33m=\u001b[0m \u001b[0msorted\u001b[0m\u001b[1;33m(\u001b[0m\u001b[0mcat_list\u001b[0m\u001b[1;33m,\u001b[0m \u001b[0mkey\u001b[0m\u001b[1;33m=\u001b[0m\u001b[1;32mlambda\u001b[0m \u001b[0mx\u001b[0m\u001b[1;33m:\u001b[0m \u001b[0mx\u001b[0m\u001b[1;33m[\u001b[0m\u001b[1;36m1\u001b[0m\u001b[1;33m]\u001b[0m\u001b[1;33m,\u001b[0m \u001b[0mreverse\u001b[0m\u001b[1;33m=\u001b[0m\u001b[1;32mTrue\u001b[0m\u001b[1;33m)\u001b[0m\u001b[1;33m.\u001b[0m\u001b[0many\u001b[0m\u001b[1;33m(\u001b[0m\u001b[1;33m)\u001b[0m\u001b[1;33m\u001b[0m\u001b[1;33m\u001b[0m\u001b[0m\n\u001b[0m\u001b[0;32m      7\u001b[0m         \u001b[0mtop_cat\u001b[0m \u001b[1;33m=\u001b[0m \u001b[0msort_cat\u001b[0m\u001b[1;33m[\u001b[0m\u001b[1;36m0\u001b[0m\u001b[1;33m:\u001b[0m\u001b[1;36m10\u001b[0m\u001b[1;33m]\u001b[0m\u001b[1;33m\u001b[0m\u001b[1;33m\u001b[0m\u001b[0m\n\u001b[0;32m      8\u001b[0m         \u001b[0mrecommended\u001b[0m \u001b[1;33m=\u001b[0m \u001b[1;33m[\u001b[0m\u001b[0mx\u001b[0m\u001b[1;33m[\u001b[0m\u001b[1;36m0\u001b[0m\u001b[1;33m]\u001b[0m \u001b[1;32min\u001b[0m \u001b[0mtop_cat\u001b[0m\u001b[1;33m]\u001b[0m\u001b[1;33m\u001b[0m\u001b[1;33m\u001b[0m\u001b[0m\n",
      "\u001b[1;31mValueError\u001b[0m: The truth value of an array with more than one element is ambiguous. Use a.any() or a.all()"
     ]
    }
   ],
   "source": [
    "manual_testing('Business')"
   ]
  },
  {
   "cell_type": "code",
   "execution_count": null,
   "metadata": {},
   "outputs": [],
   "source": []
  }
 ],
 "metadata": {
  "kernelspec": {
   "display_name": "Python 3",
   "language": "python",
   "name": "python3"
  },
  "language_info": {
   "codemirror_mode": {
    "name": "ipython",
    "version": 3
   },
   "file_extension": ".py",
   "mimetype": "text/x-python",
   "name": "python",
   "nbconvert_exporter": "python",
   "pygments_lexer": "ipython3",
   "version": "3.7.4"
  }
 },
 "nbformat": 4,
 "nbformat_minor": 4
}
