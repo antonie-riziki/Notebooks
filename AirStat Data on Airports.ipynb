{
 "cells": [
  {
   "cell_type": "markdown",
   "metadata": {},
   "source": [
    "# AirStat Data on Airports"
   ]
  },
  {
   "cell_type": "markdown",
   "metadata": {},
   "source": [
    "import relevant libraries"
   ]
  },
  {
   "cell_type": "code",
   "execution_count": 1,
   "metadata": {},
   "outputs": [],
   "source": [
    "import pandas as pd\n",
    "import numpy as np\n",
    "import matplotlib.pyplot as plt\n",
    "import seaborn as sb\n",
    "import autoreload\n",
    "import missingno as msno\n",
    "import os\n",
    "import sys\n",
    "import csv\n",
    "\n",
    "from collections import defaultdict, Counter\n",
    "\n",
    "from sklearn.impute import SimpleImputer\n",
    "\n",
    "pd.set_option(\"display.max_columns\", 100)\n",
    "pd.set_option(\"display.max_colwidth\", 1)\n",
    "pd.set_option(\"display.max_rows\", 1000)\n",
    "\n",
    "sb.set_style(\"darkgrid\")\n",
    "sb.set()\n",
    "\n",
    "%matplotlib inline\n",
    "%reload_ext autoreload\n",
    "%autoreload 2"
   ]
  },
  {
   "cell_type": "markdown",
   "metadata": {},
   "source": [
    "#### Load and Analyze Data "
   ]
  },
  {
   "cell_type": "code",
   "execution_count": 2,
   "metadata": {},
   "outputs": [],
   "source": [
    "airports = pd.read_csv(r\"D:\\Open Classroom\\Datasets\\AirStats Data on airports around the world\\airports.csv\")\n",
    "countries = pd.read_csv(r\"D:\\Open Classroom\\Datasets\\AirStats Data on airports around the world\\countries.csv\")\n",
    "regions = pd.read_csv(r\"D:\\Open Classroom\\Datasets\\AirStats Data on airports around the world\\regions.csv\")"
   ]
  },
  {
   "cell_type": "code",
   "execution_count": null,
   "metadata": {},
   "outputs": [],
   "source": []
  },
  {
   "cell_type": "code",
   "execution_count": 3,
   "metadata": {},
   "outputs": [
    {
     "data": {
      "text/html": [
       "<div>\n",
       "<style scoped>\n",
       "    .dataframe tbody tr th:only-of-type {\n",
       "        vertical-align: middle;\n",
       "    }\n",
       "\n",
       "    .dataframe tbody tr th {\n",
       "        vertical-align: top;\n",
       "    }\n",
       "\n",
       "    .dataframe thead th {\n",
       "        text-align: right;\n",
       "    }\n",
       "</style>\n",
       "<table border=\"1\" class=\"dataframe\">\n",
       "  <thead>\n",
       "    <tr style=\"text-align: right;\">\n",
       "      <th></th>\n",
       "      <th>id</th>\n",
       "      <th>ident</th>\n",
       "      <th>type</th>\n",
       "      <th>name</th>\n",
       "      <th>latitude_deg</th>\n",
       "      <th>longitude_deg</th>\n",
       "      <th>elevation_ft</th>\n",
       "      <th>continent</th>\n",
       "      <th>iso_country</th>\n",
       "      <th>iso_region</th>\n",
       "      <th>municipality</th>\n",
       "      <th>scheduled_service</th>\n",
       "      <th>gps_code</th>\n",
       "      <th>iata_code</th>\n",
       "      <th>local_code</th>\n",
       "      <th>home_link</th>\n",
       "      <th>wikipedia_link</th>\n",
       "      <th>keywords</th>\n",
       "    </tr>\n",
       "  </thead>\n",
       "  <tbody>\n",
       "    <tr>\n",
       "      <td>0</td>\n",
       "      <td>6523</td>\n",
       "      <td>00A</td>\n",
       "      <td>heliport</td>\n",
       "      <td>Total Rf Heliport</td>\n",
       "      <td>40.070801</td>\n",
       "      <td>-74.933601</td>\n",
       "      <td>11.0</td>\n",
       "      <td>NaN</td>\n",
       "      <td>US</td>\n",
       "      <td>US-PA</td>\n",
       "      <td>Bensalem</td>\n",
       "      <td>no</td>\n",
       "      <td>00A</td>\n",
       "      <td>NaN</td>\n",
       "      <td>00A</td>\n",
       "      <td>NaN</td>\n",
       "      <td>NaN</td>\n",
       "      <td>NaN</td>\n",
       "    </tr>\n",
       "    <tr>\n",
       "      <td>1</td>\n",
       "      <td>323361</td>\n",
       "      <td>00AA</td>\n",
       "      <td>small_airport</td>\n",
       "      <td>Aero B Ranch Airport</td>\n",
       "      <td>38.704022</td>\n",
       "      <td>-101.473911</td>\n",
       "      <td>3435.0</td>\n",
       "      <td>NaN</td>\n",
       "      <td>US</td>\n",
       "      <td>US-KS</td>\n",
       "      <td>Leoti</td>\n",
       "      <td>no</td>\n",
       "      <td>00AA</td>\n",
       "      <td>NaN</td>\n",
       "      <td>00AA</td>\n",
       "      <td>NaN</td>\n",
       "      <td>NaN</td>\n",
       "      <td>NaN</td>\n",
       "    </tr>\n",
       "    <tr>\n",
       "      <td>2</td>\n",
       "      <td>6524</td>\n",
       "      <td>00AK</td>\n",
       "      <td>small_airport</td>\n",
       "      <td>Lowell Field</td>\n",
       "      <td>59.947733</td>\n",
       "      <td>-151.692524</td>\n",
       "      <td>450.0</td>\n",
       "      <td>NaN</td>\n",
       "      <td>US</td>\n",
       "      <td>US-AK</td>\n",
       "      <td>Anchor Point</td>\n",
       "      <td>no</td>\n",
       "      <td>00AK</td>\n",
       "      <td>NaN</td>\n",
       "      <td>00AK</td>\n",
       "      <td>NaN</td>\n",
       "      <td>NaN</td>\n",
       "      <td>NaN</td>\n",
       "    </tr>\n",
       "    <tr>\n",
       "      <td>3</td>\n",
       "      <td>6525</td>\n",
       "      <td>00AL</td>\n",
       "      <td>small_airport</td>\n",
       "      <td>Epps Airpark</td>\n",
       "      <td>34.864799</td>\n",
       "      <td>-86.770302</td>\n",
       "      <td>820.0</td>\n",
       "      <td>NaN</td>\n",
       "      <td>US</td>\n",
       "      <td>US-AL</td>\n",
       "      <td>Harvest</td>\n",
       "      <td>no</td>\n",
       "      <td>00AL</td>\n",
       "      <td>NaN</td>\n",
       "      <td>00AL</td>\n",
       "      <td>NaN</td>\n",
       "      <td>NaN</td>\n",
       "      <td>NaN</td>\n",
       "    </tr>\n",
       "    <tr>\n",
       "      <td>4</td>\n",
       "      <td>6526</td>\n",
       "      <td>00AR</td>\n",
       "      <td>closed</td>\n",
       "      <td>Newport Hospital &amp; Clinic Heliport</td>\n",
       "      <td>35.608700</td>\n",
       "      <td>-91.254898</td>\n",
       "      <td>237.0</td>\n",
       "      <td>NaN</td>\n",
       "      <td>US</td>\n",
       "      <td>US-AR</td>\n",
       "      <td>Newport</td>\n",
       "      <td>no</td>\n",
       "      <td>NaN</td>\n",
       "      <td>NaN</td>\n",
       "      <td>NaN</td>\n",
       "      <td>NaN</td>\n",
       "      <td>NaN</td>\n",
       "      <td>00AR</td>\n",
       "    </tr>\n",
       "  </tbody>\n",
       "</table>\n",
       "</div>"
      ],
      "text/plain": [
       "       id ident           type                                name  \\\n",
       "0  6523    00A   heliport       Total Rf Heliport                    \n",
       "1  323361  00AA  small_airport  Aero B Ranch Airport                 \n",
       "2  6524    00AK  small_airport  Lowell Field                         \n",
       "3  6525    00AL  small_airport  Epps Airpark                         \n",
       "4  6526    00AR  closed         Newport Hospital & Clinic Heliport   \n",
       "\n",
       "   latitude_deg  longitude_deg  elevation_ft continent iso_country iso_region  \\\n",
       "0  40.070801    -74.933601      11.0          NaN       US          US-PA       \n",
       "1  38.704022    -101.473911     3435.0        NaN       US          US-KS       \n",
       "2  59.947733    -151.692524     450.0         NaN       US          US-AK       \n",
       "3  34.864799    -86.770302      820.0         NaN       US          US-AL       \n",
       "4  35.608700    -91.254898      237.0         NaN       US          US-AR       \n",
       "\n",
       "   municipality scheduled_service gps_code iata_code local_code home_link  \\\n",
       "0  Bensalem      no                00A      NaN       00A        NaN        \n",
       "1  Leoti         no                00AA     NaN       00AA       NaN        \n",
       "2  Anchor Point  no                00AK     NaN       00AK       NaN        \n",
       "3  Harvest       no                00AL     NaN       00AL       NaN        \n",
       "4  Newport       no                NaN      NaN       NaN        NaN        \n",
       "\n",
       "  wikipedia_link keywords  \n",
       "0  NaN            NaN      \n",
       "1  NaN            NaN      \n",
       "2  NaN            NaN      \n",
       "3  NaN            NaN      \n",
       "4  NaN            00AR     "
      ]
     },
     "execution_count": 3,
     "metadata": {},
     "output_type": "execute_result"
    }
   ],
   "source": [
    "airports.head()"
   ]
  },
  {
   "cell_type": "code",
   "execution_count": 4,
   "metadata": {},
   "outputs": [
    {
     "data": {
      "text/html": [
       "<div>\n",
       "<style scoped>\n",
       "    .dataframe tbody tr th:only-of-type {\n",
       "        vertical-align: middle;\n",
       "    }\n",
       "\n",
       "    .dataframe tbody tr th {\n",
       "        vertical-align: top;\n",
       "    }\n",
       "\n",
       "    .dataframe thead th {\n",
       "        text-align: right;\n",
       "    }\n",
       "</style>\n",
       "<table border=\"1\" class=\"dataframe\">\n",
       "  <thead>\n",
       "    <tr style=\"text-align: right;\">\n",
       "      <th></th>\n",
       "      <th>id</th>\n",
       "      <th>code</th>\n",
       "      <th>name</th>\n",
       "      <th>continent</th>\n",
       "      <th>wikipedia_link</th>\n",
       "      <th>keywords</th>\n",
       "    </tr>\n",
       "  </thead>\n",
       "  <tbody>\n",
       "    <tr>\n",
       "      <td>0</td>\n",
       "      <td>302672</td>\n",
       "      <td>AD</td>\n",
       "      <td>Andorra</td>\n",
       "      <td>EU</td>\n",
       "      <td>https://en.wikipedia.org/wiki/Andorra</td>\n",
       "      <td>NaN</td>\n",
       "    </tr>\n",
       "    <tr>\n",
       "      <td>1</td>\n",
       "      <td>302618</td>\n",
       "      <td>AE</td>\n",
       "      <td>United Arab Emirates</td>\n",
       "      <td>AS</td>\n",
       "      <td>https://en.wikipedia.org/wiki/United_Arab_Emirates</td>\n",
       "      <td>UAE,مطارات في الإمارات العربية المتحدة</td>\n",
       "    </tr>\n",
       "    <tr>\n",
       "      <td>2</td>\n",
       "      <td>302619</td>\n",
       "      <td>AF</td>\n",
       "      <td>Afghanistan</td>\n",
       "      <td>AS</td>\n",
       "      <td>https://en.wikipedia.org/wiki/Afghanistan</td>\n",
       "      <td>NaN</td>\n",
       "    </tr>\n",
       "    <tr>\n",
       "      <td>3</td>\n",
       "      <td>302722</td>\n",
       "      <td>AG</td>\n",
       "      <td>Antigua and Barbuda</td>\n",
       "      <td>NaN</td>\n",
       "      <td>https://en.wikipedia.org/wiki/Antigua_and_Barbuda</td>\n",
       "      <td>NaN</td>\n",
       "    </tr>\n",
       "    <tr>\n",
       "      <td>4</td>\n",
       "      <td>302723</td>\n",
       "      <td>AI</td>\n",
       "      <td>Anguilla</td>\n",
       "      <td>NaN</td>\n",
       "      <td>https://en.wikipedia.org/wiki/Anguilla</td>\n",
       "      <td>NaN</td>\n",
       "    </tr>\n",
       "  </tbody>\n",
       "</table>\n",
       "</div>"
      ],
      "text/plain": [
       "       id code                  name continent  \\\n",
       "0  302672  AD   Andorra               EU         \n",
       "1  302618  AE   United Arab Emirates  AS         \n",
       "2  302619  AF   Afghanistan           AS         \n",
       "3  302722  AG   Antigua and Barbuda   NaN        \n",
       "4  302723  AI   Anguilla              NaN        \n",
       "\n",
       "                                       wikipedia_link  \\\n",
       "0  https://en.wikipedia.org/wiki/Andorra                \n",
       "1  https://en.wikipedia.org/wiki/United_Arab_Emirates   \n",
       "2  https://en.wikipedia.org/wiki/Afghanistan            \n",
       "3  https://en.wikipedia.org/wiki/Antigua_and_Barbuda    \n",
       "4  https://en.wikipedia.org/wiki/Anguilla               \n",
       "\n",
       "                                 keywords  \n",
       "0  NaN                                     \n",
       "1  UAE,مطارات في الإمارات العربية المتحدة  \n",
       "2  NaN                                     \n",
       "3  NaN                                     \n",
       "4  NaN                                     "
      ]
     },
     "execution_count": 4,
     "metadata": {},
     "output_type": "execute_result"
    }
   ],
   "source": [
    "countries.head()"
   ]
  },
  {
   "cell_type": "code",
   "execution_count": 5,
   "metadata": {},
   "outputs": [
    {
     "data": {
      "text/html": [
       "<div>\n",
       "<style scoped>\n",
       "    .dataframe tbody tr th:only-of-type {\n",
       "        vertical-align: middle;\n",
       "    }\n",
       "\n",
       "    .dataframe tbody tr th {\n",
       "        vertical-align: top;\n",
       "    }\n",
       "\n",
       "    .dataframe thead th {\n",
       "        text-align: right;\n",
       "    }\n",
       "</style>\n",
       "<table border=\"1\" class=\"dataframe\">\n",
       "  <thead>\n",
       "    <tr style=\"text-align: right;\">\n",
       "      <th></th>\n",
       "      <th>id</th>\n",
       "      <th>code</th>\n",
       "      <th>local_code</th>\n",
       "      <th>name</th>\n",
       "      <th>continent</th>\n",
       "      <th>iso_country</th>\n",
       "      <th>wikipedia_link</th>\n",
       "      <th>keywords</th>\n",
       "    </tr>\n",
       "  </thead>\n",
       "  <tbody>\n",
       "    <tr>\n",
       "      <td>0</td>\n",
       "      <td>302811</td>\n",
       "      <td>AD-02</td>\n",
       "      <td>02</td>\n",
       "      <td>Canillo Parish</td>\n",
       "      <td>EU</td>\n",
       "      <td>AD</td>\n",
       "      <td>https://en.wikipedia.org/wiki/Canillo</td>\n",
       "      <td>NaN</td>\n",
       "    </tr>\n",
       "    <tr>\n",
       "      <td>1</td>\n",
       "      <td>302812</td>\n",
       "      <td>AD-03</td>\n",
       "      <td>03</td>\n",
       "      <td>Encamp Parish</td>\n",
       "      <td>EU</td>\n",
       "      <td>AD</td>\n",
       "      <td>https://en.wikipedia.org/wiki/Encamp</td>\n",
       "      <td>NaN</td>\n",
       "    </tr>\n",
       "    <tr>\n",
       "      <td>2</td>\n",
       "      <td>302813</td>\n",
       "      <td>AD-04</td>\n",
       "      <td>04</td>\n",
       "      <td>La Massana Parish</td>\n",
       "      <td>EU</td>\n",
       "      <td>AD</td>\n",
       "      <td>https://en.wikipedia.org/wiki/La_Massana</td>\n",
       "      <td>NaN</td>\n",
       "    </tr>\n",
       "    <tr>\n",
       "      <td>3</td>\n",
       "      <td>302814</td>\n",
       "      <td>AD-05</td>\n",
       "      <td>05</td>\n",
       "      <td>Ordino Parish</td>\n",
       "      <td>EU</td>\n",
       "      <td>AD</td>\n",
       "      <td>https://en.wikipedia.org/wiki/Ordino</td>\n",
       "      <td>NaN</td>\n",
       "    </tr>\n",
       "    <tr>\n",
       "      <td>4</td>\n",
       "      <td>302815</td>\n",
       "      <td>AD-06</td>\n",
       "      <td>06</td>\n",
       "      <td>Sant Julià de Lòria Parish</td>\n",
       "      <td>EU</td>\n",
       "      <td>AD</td>\n",
       "      <td>https://en.wikipedia.org/wiki/Sant_Julià_de_Lòria</td>\n",
       "      <td>NaN</td>\n",
       "    </tr>\n",
       "  </tbody>\n",
       "</table>\n",
       "</div>"
      ],
      "text/plain": [
       "       id   code local_code                        name continent iso_country  \\\n",
       "0  302811  AD-02  02         Canillo Parish              EU        AD           \n",
       "1  302812  AD-03  03         Encamp Parish               EU        AD           \n",
       "2  302813  AD-04  04         La Massana Parish           EU        AD           \n",
       "3  302814  AD-05  05         Ordino Parish               EU        AD           \n",
       "4  302815  AD-06  06         Sant Julià de Lòria Parish  EU        AD           \n",
       "\n",
       "                                      wikipedia_link keywords  \n",
       "0  https://en.wikipedia.org/wiki/Canillo              NaN      \n",
       "1  https://en.wikipedia.org/wiki/Encamp               NaN      \n",
       "2  https://en.wikipedia.org/wiki/La_Massana           NaN      \n",
       "3  https://en.wikipedia.org/wiki/Ordino               NaN      \n",
       "4  https://en.wikipedia.org/wiki/Sant_Julià_de_Lòria  NaN      "
      ]
     },
     "execution_count": 5,
     "metadata": {},
     "output_type": "execute_result"
    }
   ],
   "source": [
    "regions.head()"
   ]
  },
  {
   "cell_type": "markdown",
   "metadata": {},
   "source": [
    "#### Statistical Analysis"
   ]
  },
  {
   "cell_type": "code",
   "execution_count": 6,
   "metadata": {},
   "outputs": [
    {
     "name": "stdout",
     "output_type": "stream",
     "text": [
      "<class 'pandas.core.frame.DataFrame'>\n",
      "RangeIndex: 67312 entries, 0 to 67311\n",
      "Data columns (total 18 columns):\n",
      "id                   67312 non-null int64\n",
      "ident                67311 non-null object\n",
      "type                 67312 non-null object\n",
      "name                 67312 non-null object\n",
      "latitude_deg         67312 non-null float64\n",
      "longitude_deg        67312 non-null float64\n",
      "elevation_ft         54335 non-null float64\n",
      "continent            34320 non-null object\n",
      "iso_country          67055 non-null object\n",
      "iso_region           67312 non-null object\n",
      "municipality         61781 non-null object\n",
      "scheduled_service    67312 non-null object\n",
      "gps_code             42618 non-null object\n",
      "iata_code            9244 non-null object\n",
      "local_code           32055 non-null object\n",
      "home_link            3300 non-null object\n",
      "wikipedia_link       10370 non-null object\n",
      "keywords             12367 non-null object\n",
      "dtypes: float64(3), int64(1), object(14)\n",
      "memory usage: 9.2+ MB\n"
     ]
    }
   ],
   "source": [
    "airports.info()"
   ]
  },
  {
   "cell_type": "code",
   "execution_count": 7,
   "metadata": {},
   "outputs": [
    {
     "data": {
      "text/html": [
       "<div>\n",
       "<style scoped>\n",
       "    .dataframe tbody tr th:only-of-type {\n",
       "        vertical-align: middle;\n",
       "    }\n",
       "\n",
       "    .dataframe tbody tr th {\n",
       "        vertical-align: top;\n",
       "    }\n",
       "\n",
       "    .dataframe thead th {\n",
       "        text-align: right;\n",
       "    }\n",
       "</style>\n",
       "<table border=\"1\" class=\"dataframe\">\n",
       "  <thead>\n",
       "    <tr style=\"text-align: right;\">\n",
       "      <th></th>\n",
       "      <th>id</th>\n",
       "      <th>latitude_deg</th>\n",
       "      <th>longitude_deg</th>\n",
       "      <th>elevation_ft</th>\n",
       "    </tr>\n",
       "  </thead>\n",
       "  <tbody>\n",
       "    <tr>\n",
       "      <td>count</td>\n",
       "      <td>67312.0</td>\n",
       "      <td>67312.0</td>\n",
       "      <td>67312.0</td>\n",
       "      <td>54335.0</td>\n",
       "    </tr>\n",
       "    <tr>\n",
       "      <td>mean</td>\n",
       "      <td>130355.0</td>\n",
       "      <td>26.0</td>\n",
       "      <td>-31.0</td>\n",
       "      <td>1269.0</td>\n",
       "    </tr>\n",
       "    <tr>\n",
       "      <td>std</td>\n",
       "      <td>147217.0</td>\n",
       "      <td>26.0</td>\n",
       "      <td>84.0</td>\n",
       "      <td>1625.0</td>\n",
       "    </tr>\n",
       "    <tr>\n",
       "      <td>min</td>\n",
       "      <td>2.0</td>\n",
       "      <td>-90.0</td>\n",
       "      <td>-180.0</td>\n",
       "      <td>-1266.0</td>\n",
       "    </tr>\n",
       "    <tr>\n",
       "      <td>25%</td>\n",
       "      <td>16963.0</td>\n",
       "      <td>11.0</td>\n",
       "      <td>-94.0</td>\n",
       "      <td>208.0</td>\n",
       "    </tr>\n",
       "    <tr>\n",
       "      <td>50%</td>\n",
       "      <td>36280.0</td>\n",
       "      <td>35.0</td>\n",
       "      <td>-71.0</td>\n",
       "      <td>725.0</td>\n",
       "    </tr>\n",
       "    <tr>\n",
       "      <td>75%</td>\n",
       "      <td>322275.0</td>\n",
       "      <td>43.0</td>\n",
       "      <td>19.0</td>\n",
       "      <td>1558.0</td>\n",
       "    </tr>\n",
       "    <tr>\n",
       "      <td>max</td>\n",
       "      <td>347611.0</td>\n",
       "      <td>83.0</td>\n",
       "      <td>180.0</td>\n",
       "      <td>22000.0</td>\n",
       "    </tr>\n",
       "  </tbody>\n",
       "</table>\n",
       "</div>"
      ],
      "text/plain": [
       "             id  latitude_deg  longitude_deg  elevation_ft\n",
       "count  67312.0   67312.0       67312.0        54335.0     \n",
       "mean   130355.0  26.0         -31.0           1269.0      \n",
       "std    147217.0  26.0          84.0           1625.0      \n",
       "min    2.0      -90.0         -180.0         -1266.0      \n",
       "25%    16963.0   11.0         -94.0           208.0       \n",
       "50%    36280.0   35.0         -71.0           725.0       \n",
       "75%    322275.0  43.0          19.0           1558.0      \n",
       "max    347611.0  83.0          180.0          22000.0     "
      ]
     },
     "execution_count": 7,
     "metadata": {},
     "output_type": "execute_result"
    }
   ],
   "source": [
    "airports.describe().round()"
   ]
  },
  {
   "cell_type": "code",
   "execution_count": 8,
   "metadata": {},
   "outputs": [
    {
     "data": {
      "text/plain": [
       "(67312, 18)"
      ]
     },
     "execution_count": 8,
     "metadata": {},
     "output_type": "execute_result"
    }
   ],
   "source": [
    "airports.shape"
   ]
  },
  {
   "cell_type": "code",
   "execution_count": 9,
   "metadata": {},
   "outputs": [
    {
     "data": {
      "text/plain": [
       "<matplotlib.axes._subplots.AxesSubplot at 0x17546cc2b88>"
      ]
     },
     "execution_count": 9,
     "metadata": {},
     "output_type": "execute_result"
    },
    {
     "data": {
      "image/png": "[encoded data removed]",
      "text/plain": [
       "<Figure size 432x288 with 2 Axes>"
      ]
     },
     "metadata": {
      "needs_background": "light"
     },
     "output_type": "display_data"
    }
   ],
   "source": [
    "sb.heatmap(airports.corr(), annot = True, linewidths = 2)"
   ]
  },
  {
   "cell_type": "markdown",
   "metadata": {},
   "source": [
    "#### Data Cleaning and Manipulation"
   ]
  },
  {
   "cell_type": "code",
   "execution_count": 10,
   "metadata": {},
   "outputs": [
    {
     "data": {
      "text/html": [
       "<div>\n",
       "<style scoped>\n",
       "    .dataframe tbody tr th:only-of-type {\n",
       "        vertical-align: middle;\n",
       "    }\n",
       "\n",
       "    .dataframe tbody tr th {\n",
       "        vertical-align: top;\n",
       "    }\n",
       "\n",
       "    .dataframe thead th {\n",
       "        text-align: right;\n",
       "    }\n",
       "</style>\n",
       "<table border=\"1\" class=\"dataframe\">\n",
       "  <thead>\n",
       "    <tr style=\"text-align: right;\">\n",
       "      <th></th>\n",
       "      <th>id</th>\n",
       "      <th>type</th>\n",
       "      <th>name</th>\n",
       "      <th>elevation_ft</th>\n",
       "      <th>continent</th>\n",
       "      <th>municipality</th>\n",
       "      <th>scheduled_service</th>\n",
       "    </tr>\n",
       "  </thead>\n",
       "  <tbody>\n",
       "    <tr>\n",
       "      <td>0</td>\n",
       "      <td>6523</td>\n",
       "      <td>heliport</td>\n",
       "      <td>Total Rf Heliport</td>\n",
       "      <td>11.0</td>\n",
       "      <td>NaN</td>\n",
       "      <td>Bensalem</td>\n",
       "      <td>no</td>\n",
       "    </tr>\n",
       "    <tr>\n",
       "      <td>1</td>\n",
       "      <td>323361</td>\n",
       "      <td>small_airport</td>\n",
       "      <td>Aero B Ranch Airport</td>\n",
       "      <td>3435.0</td>\n",
       "      <td>NaN</td>\n",
       "      <td>Leoti</td>\n",
       "      <td>no</td>\n",
       "    </tr>\n",
       "    <tr>\n",
       "      <td>2</td>\n",
       "      <td>6524</td>\n",
       "      <td>small_airport</td>\n",
       "      <td>Lowell Field</td>\n",
       "      <td>450.0</td>\n",
       "      <td>NaN</td>\n",
       "      <td>Anchor Point</td>\n",
       "      <td>no</td>\n",
       "    </tr>\n",
       "    <tr>\n",
       "      <td>3</td>\n",
       "      <td>6525</td>\n",
       "      <td>small_airport</td>\n",
       "      <td>Epps Airpark</td>\n",
       "      <td>820.0</td>\n",
       "      <td>NaN</td>\n",
       "      <td>Harvest</td>\n",
       "      <td>no</td>\n",
       "    </tr>\n",
       "    <tr>\n",
       "      <td>4</td>\n",
       "      <td>6526</td>\n",
       "      <td>closed</td>\n",
       "      <td>Newport Hospital &amp; Clinic Heliport</td>\n",
       "      <td>237.0</td>\n",
       "      <td>NaN</td>\n",
       "      <td>Newport</td>\n",
       "      <td>no</td>\n",
       "    </tr>\n",
       "  </tbody>\n",
       "</table>\n",
       "</div>"
      ],
      "text/plain": [
       "       id           type                                name  elevation_ft  \\\n",
       "0  6523    heliport       Total Rf Heliport                   11.0           \n",
       "1  323361  small_airport  Aero B Ranch Airport                3435.0         \n",
       "2  6524    small_airport  Lowell Field                        450.0          \n",
       "3  6525    small_airport  Epps Airpark                        820.0          \n",
       "4  6526    closed         Newport Hospital & Clinic Heliport  237.0          \n",
       "\n",
       "  continent  municipality scheduled_service  \n",
       "0  NaN       Bensalem      no                \n",
       "1  NaN       Leoti         no                \n",
       "2  NaN       Anchor Point  no                \n",
       "3  NaN       Harvest       no                \n",
       "4  NaN       Newport       no                "
      ]
     },
     "execution_count": 10,
     "metadata": {},
     "output_type": "execute_result"
    }
   ],
   "source": [
    "airports.drop(columns = [\"ident\", \"latitude_deg\", \"longitude_deg\", \"iso_country\", \"iso_region\", \"gps_code\", \"iata_code\", \"local_code\", \"home_link\", \"wikipedia_link\", \"keywords\"], inplace = True)\n",
    "airports.head()"
   ]
  },
  {
   "cell_type": "code",
   "execution_count": 11,
   "metadata": {},
   "outputs": [
    {
     "data": {
      "text/plain": [
       "array([  6523, 323361,   6524, ..., 346788, 342102, 313629], dtype=int64)"
      ]
     },
     "execution_count": 11,
     "metadata": {},
     "output_type": "execute_result"
    }
   ],
   "source": [
    "airports.id.unique()"
   ]
  },
  {
   "cell_type": "code",
   "execution_count": 12,
   "metadata": {},
   "outputs": [
    {
     "name": "stdout",
     "output_type": "stream",
     "text": [
      "['heliport' 'small_airport' 'closed' 'seaplane_base' 'balloonport'\n",
      " 'medium_airport' 'large_airport']\n"
     ]
    },
    {
     "data": {
      "text/plain": [
       "(array([0, 1, 2, 3, 4, 5, 6]), <a list of 7 Text xticklabel objects>)"
      ]
     },
     "execution_count": 12,
     "metadata": {},
     "output_type": "execute_result"
    },
    {
     "data": {
      "image/png": "[encoded data removed]",
      "text/plain": [
       "<Figure size 432x288 with 1 Axes>"
      ]
     },
     "metadata": {
      "needs_background": "light"
     },
     "output_type": "display_data"
    }
   ],
   "source": [
    "print(airports.type.unique())\n",
    "sb.countplot(airports[\"type\"])\n",
    "plt.xticks(rotation = -85)"
   ]
  },
  {
   "cell_type": "code",
   "execution_count": 13,
   "metadata": {},
   "outputs": [
    {
     "data": {
      "text/plain": [
       "array(['Total Rf Heliport', 'Aero B Ranch Airport', 'Lowell Field', ...,\n",
       "       'Fainting Goat Airport', 'Scandium City Heliport',\n",
       "       'Satsuma Iōjima Airport'], dtype=object)"
      ]
     },
     "execution_count": 13,
     "metadata": {},
     "output_type": "execute_result"
    }
   ],
   "source": [
    "airports.name.unique()"
   ]
  },
  {
   "cell_type": "code",
   "execution_count": 14,
   "metadata": {},
   "outputs": [
    {
     "data": {
      "text/plain": [
       "array([1.1000e+01, 3.4350e+03, 4.5000e+02, ..., 9.6750e+03, 2.9160e+03,\n",
       "       1.2816e+04])"
      ]
     },
     "execution_count": 14,
     "metadata": {},
     "output_type": "execute_result"
    }
   ],
   "source": [
    "airports.elevation_ft.unique()"
   ]
  },
  {
   "cell_type": "code",
   "execution_count": 15,
   "metadata": {},
   "outputs": [
    {
     "name": "stdout",
     "output_type": "stream",
     "text": [
      "[nan 'OC' 'AF' 'AN' 'EU' 'AS' 'SA']\n",
      "SA    9415\n",
      "EU    9320\n",
      "AS    8735\n",
      "AF    3634\n",
      "OC    3172\n",
      "AN    44  \n",
      "Name: continent, dtype: int64\n",
      "Total null values in this series,  32992\n"
     ]
    },
    {
     "data": {
      "text/plain": [
       "Text(0.5, 1.0, 'Airport Population based on Continent')"
      ]
     },
     "execution_count": 15,
     "metadata": {},
     "output_type": "execute_result"
    },
    {
     "data": {
      "image/png": "[encoded data removed]",
      "text/plain": [
       "<Figure size 432x288 with 1 Axes>"
      ]
     },
     "metadata": {
      "needs_background": "light"
     },
     "output_type": "display_data"
    }
   ],
   "source": [
    "print(airports.continent.unique())\n",
    "print(airports.continent.value_counts())\n",
    "print(\"Total null values in this series, \", airports.continent.isnull().sum())\n",
    "sb.countplot(airports[\"continent\"])\n",
    "plt.ylabel(\"Airport Total Distribution\")\n",
    "plt.title(\"Airport Population based on Continent\")"
   ]
  },
  {
   "cell_type": "code",
   "execution_count": 16,
   "metadata": {},
   "outputs": [],
   "source": [
    "#simp_imputer = SimpleImputer(strategy = \"most_frequent\")\n",
    "#simp_imputer.fit_transform(airports[\"continent\"])\n",
    "#airports.head()"
   ]
  },
  {
   "cell_type": "code",
   "execution_count": 17,
   "metadata": {},
   "outputs": [
    {
     "data": {
      "text/plain": [
       "5720.0"
      ]
     },
     "execution_count": 17,
     "metadata": {},
     "output_type": "execute_result"
    }
   ],
   "source": [
    "total_count = airports.continent.count().sum()#.mean()\n",
    "total_count\n",
    "continent_count = airports.continent.value_counts().sum()\n",
    "continent_mean = continent_count / 6\n",
    "continent_mean"
   ]
  },
  {
   "cell_type": "code",
   "execution_count": 18,
   "metadata": {},
   "outputs": [
    {
     "data": {
      "text/plain": [
       "array(['no', 'yes'], dtype=object)"
      ]
     },
     "execution_count": 18,
     "metadata": {},
     "output_type": "execute_result"
    }
   ],
   "source": [
    "airports.scheduled_service.unique()"
   ]
  },
  {
   "cell_type": "code",
   "execution_count": 19,
   "metadata": {},
   "outputs": [
    {
     "data": {
      "text/html": [
       "<div>\n",
       "<style scoped>\n",
       "    .dataframe tbody tr th:only-of-type {\n",
       "        vertical-align: middle;\n",
       "    }\n",
       "\n",
       "    .dataframe tbody tr th {\n",
       "        vertical-align: top;\n",
       "    }\n",
       "\n",
       "    .dataframe thead th {\n",
       "        text-align: right;\n",
       "    }\n",
       "</style>\n",
       "<table border=\"1\" class=\"dataframe\">\n",
       "  <thead>\n",
       "    <tr style=\"text-align: right;\">\n",
       "      <th></th>\n",
       "      <th>id</th>\n",
       "      <th>code</th>\n",
       "      <th>name</th>\n",
       "      <th>continent</th>\n",
       "      <th>wikipedia_link</th>\n",
       "      <th>keywords</th>\n",
       "    </tr>\n",
       "  </thead>\n",
       "  <tbody>\n",
       "    <tr>\n",
       "      <td>0</td>\n",
       "      <td>302672</td>\n",
       "      <td>AD</td>\n",
       "      <td>Andorra</td>\n",
       "      <td>EU</td>\n",
       "      <td>https://en.wikipedia.org/wiki/Andorra</td>\n",
       "      <td>NaN</td>\n",
       "    </tr>\n",
       "    <tr>\n",
       "      <td>1</td>\n",
       "      <td>302618</td>\n",
       "      <td>AE</td>\n",
       "      <td>United Arab Emirates</td>\n",
       "      <td>AS</td>\n",
       "      <td>https://en.wikipedia.org/wiki/United_Arab_Emirates</td>\n",
       "      <td>UAE,مطارات في الإمارات العربية المتحدة</td>\n",
       "    </tr>\n",
       "    <tr>\n",
       "      <td>2</td>\n",
       "      <td>302619</td>\n",
       "      <td>AF</td>\n",
       "      <td>Afghanistan</td>\n",
       "      <td>AS</td>\n",
       "      <td>https://en.wikipedia.org/wiki/Afghanistan</td>\n",
       "      <td>NaN</td>\n",
       "    </tr>\n",
       "    <tr>\n",
       "      <td>3</td>\n",
       "      <td>302722</td>\n",
       "      <td>AG</td>\n",
       "      <td>Antigua and Barbuda</td>\n",
       "      <td>NaN</td>\n",
       "      <td>https://en.wikipedia.org/wiki/Antigua_and_Barbuda</td>\n",
       "      <td>NaN</td>\n",
       "    </tr>\n",
       "    <tr>\n",
       "      <td>4</td>\n",
       "      <td>302723</td>\n",
       "      <td>AI</td>\n",
       "      <td>Anguilla</td>\n",
       "      <td>NaN</td>\n",
       "      <td>https://en.wikipedia.org/wiki/Anguilla</td>\n",
       "      <td>NaN</td>\n",
       "    </tr>\n",
       "  </tbody>\n",
       "</table>\n",
       "</div>"
      ],
      "text/plain": [
       "       id code                  name continent  \\\n",
       "0  302672  AD   Andorra               EU         \n",
       "1  302618  AE   United Arab Emirates  AS         \n",
       "2  302619  AF   Afghanistan           AS         \n",
       "3  302722  AG   Antigua and Barbuda   NaN        \n",
       "4  302723  AI   Anguilla              NaN        \n",
       "\n",
       "                                       wikipedia_link  \\\n",
       "0  https://en.wikipedia.org/wiki/Andorra                \n",
       "1  https://en.wikipedia.org/wiki/United_Arab_Emirates   \n",
       "2  https://en.wikipedia.org/wiki/Afghanistan            \n",
       "3  https://en.wikipedia.org/wiki/Antigua_and_Barbuda    \n",
       "4  https://en.wikipedia.org/wiki/Anguilla               \n",
       "\n",
       "                                 keywords  \n",
       "0  NaN                                     \n",
       "1  UAE,مطارات في الإمارات العربية المتحدة  \n",
       "2  NaN                                     \n",
       "3  NaN                                     \n",
       "4  NaN                                     "
      ]
     },
     "execution_count": 19,
     "metadata": {},
     "output_type": "execute_result"
    }
   ],
   "source": [
    "countries.head()"
   ]
  },
  {
   "cell_type": "code",
   "execution_count": 20,
   "metadata": {},
   "outputs": [
    {
     "data": {
      "text/html": [
       "<div>\n",
       "<style scoped>\n",
       "    .dataframe tbody tr th:only-of-type {\n",
       "        vertical-align: middle;\n",
       "    }\n",
       "\n",
       "    .dataframe tbody tr th {\n",
       "        vertical-align: top;\n",
       "    }\n",
       "\n",
       "    .dataframe thead th {\n",
       "        text-align: right;\n",
       "    }\n",
       "</style>\n",
       "<table border=\"1\" class=\"dataframe\">\n",
       "  <thead>\n",
       "    <tr style=\"text-align: right;\">\n",
       "      <th></th>\n",
       "      <th>id</th>\n",
       "      <th>code</th>\n",
       "      <th>c_name</th>\n",
       "    </tr>\n",
       "  </thead>\n",
       "  <tbody>\n",
       "    <tr>\n",
       "      <td>0</td>\n",
       "      <td>302672</td>\n",
       "      <td>AD</td>\n",
       "      <td>Andorra</td>\n",
       "    </tr>\n",
       "    <tr>\n",
       "      <td>1</td>\n",
       "      <td>302618</td>\n",
       "      <td>AE</td>\n",
       "      <td>United Arab Emirates</td>\n",
       "    </tr>\n",
       "    <tr>\n",
       "      <td>2</td>\n",
       "      <td>302619</td>\n",
       "      <td>AF</td>\n",
       "      <td>Afghanistan</td>\n",
       "    </tr>\n",
       "    <tr>\n",
       "      <td>3</td>\n",
       "      <td>302722</td>\n",
       "      <td>AG</td>\n",
       "      <td>Antigua and Barbuda</td>\n",
       "    </tr>\n",
       "    <tr>\n",
       "      <td>4</td>\n",
       "      <td>302723</td>\n",
       "      <td>AI</td>\n",
       "      <td>Anguilla</td>\n",
       "    </tr>\n",
       "  </tbody>\n",
       "</table>\n",
       "</div>"
      ],
      "text/plain": [
       "       id code                c_name\n",
       "0  302672  AD   Andorra             \n",
       "1  302618  AE   United Arab Emirates\n",
       "2  302619  AF   Afghanistan         \n",
       "3  302722  AG   Antigua and Barbuda \n",
       "4  302723  AI   Anguilla            "
      ]
     },
     "execution_count": 20,
     "metadata": {},
     "output_type": "execute_result"
    }
   ],
   "source": [
    "countries.drop(columns = [\"continent\", \"wikipedia_link\", \"keywords\"], inplace = True)\n",
    "countries = countries.rename(columns={\"name\":\"c_name\"})\n",
    "countries.head()"
   ]
  },
  {
   "cell_type": "code",
   "execution_count": 21,
   "metadata": {},
   "outputs": [
    {
     "data": {
      "text/html": [
       "<div>\n",
       "<style scoped>\n",
       "    .dataframe tbody tr th:only-of-type {\n",
       "        vertical-align: middle;\n",
       "    }\n",
       "\n",
       "    .dataframe tbody tr th {\n",
       "        vertical-align: top;\n",
       "    }\n",
       "\n",
       "    .dataframe thead th {\n",
       "        text-align: right;\n",
       "    }\n",
       "</style>\n",
       "<table border=\"1\" class=\"dataframe\">\n",
       "  <thead>\n",
       "    <tr style=\"text-align: right;\">\n",
       "      <th></th>\n",
       "      <th>id</th>\n",
       "      <th>code</th>\n",
       "      <th>local_code</th>\n",
       "      <th>name</th>\n",
       "      <th>continent</th>\n",
       "      <th>iso_country</th>\n",
       "      <th>wikipedia_link</th>\n",
       "      <th>keywords</th>\n",
       "    </tr>\n",
       "  </thead>\n",
       "  <tbody>\n",
       "    <tr>\n",
       "      <td>0</td>\n",
       "      <td>302811</td>\n",
       "      <td>AD-02</td>\n",
       "      <td>02</td>\n",
       "      <td>Canillo Parish</td>\n",
       "      <td>EU</td>\n",
       "      <td>AD</td>\n",
       "      <td>https://en.wikipedia.org/wiki/Canillo</td>\n",
       "      <td>NaN</td>\n",
       "    </tr>\n",
       "    <tr>\n",
       "      <td>1</td>\n",
       "      <td>302812</td>\n",
       "      <td>AD-03</td>\n",
       "      <td>03</td>\n",
       "      <td>Encamp Parish</td>\n",
       "      <td>EU</td>\n",
       "      <td>AD</td>\n",
       "      <td>https://en.wikipedia.org/wiki/Encamp</td>\n",
       "      <td>NaN</td>\n",
       "    </tr>\n",
       "    <tr>\n",
       "      <td>2</td>\n",
       "      <td>302813</td>\n",
       "      <td>AD-04</td>\n",
       "      <td>04</td>\n",
       "      <td>La Massana Parish</td>\n",
       "      <td>EU</td>\n",
       "      <td>AD</td>\n",
       "      <td>https://en.wikipedia.org/wiki/La_Massana</td>\n",
       "      <td>NaN</td>\n",
       "    </tr>\n",
       "    <tr>\n",
       "      <td>3</td>\n",
       "      <td>302814</td>\n",
       "      <td>AD-05</td>\n",
       "      <td>05</td>\n",
       "      <td>Ordino Parish</td>\n",
       "      <td>EU</td>\n",
       "      <td>AD</td>\n",
       "      <td>https://en.wikipedia.org/wiki/Ordino</td>\n",
       "      <td>NaN</td>\n",
       "    </tr>\n",
       "    <tr>\n",
       "      <td>4</td>\n",
       "      <td>302815</td>\n",
       "      <td>AD-06</td>\n",
       "      <td>06</td>\n",
       "      <td>Sant Julià de Lòria Parish</td>\n",
       "      <td>EU</td>\n",
       "      <td>AD</td>\n",
       "      <td>https://en.wikipedia.org/wiki/Sant_Julià_de_Lòria</td>\n",
       "      <td>NaN</td>\n",
       "    </tr>\n",
       "  </tbody>\n",
       "</table>\n",
       "</div>"
      ],
      "text/plain": [
       "       id   code local_code                        name continent iso_country  \\\n",
       "0  302811  AD-02  02         Canillo Parish              EU        AD           \n",
       "1  302812  AD-03  03         Encamp Parish               EU        AD           \n",
       "2  302813  AD-04  04         La Massana Parish           EU        AD           \n",
       "3  302814  AD-05  05         Ordino Parish               EU        AD           \n",
       "4  302815  AD-06  06         Sant Julià de Lòria Parish  EU        AD           \n",
       "\n",
       "                                      wikipedia_link keywords  \n",
       "0  https://en.wikipedia.org/wiki/Canillo              NaN      \n",
       "1  https://en.wikipedia.org/wiki/Encamp               NaN      \n",
       "2  https://en.wikipedia.org/wiki/La_Massana           NaN      \n",
       "3  https://en.wikipedia.org/wiki/Ordino               NaN      \n",
       "4  https://en.wikipedia.org/wiki/Sant_Julià_de_Lòria  NaN      "
      ]
     },
     "execution_count": 21,
     "metadata": {},
     "output_type": "execute_result"
    }
   ],
   "source": [
    "regions.head()"
   ]
  },
  {
   "cell_type": "code",
   "execution_count": 22,
   "metadata": {},
   "outputs": [
    {
     "data": {
      "text/html": [
       "<div>\n",
       "<style scoped>\n",
       "    .dataframe tbody tr th:only-of-type {\n",
       "        vertical-align: middle;\n",
       "    }\n",
       "\n",
       "    .dataframe tbody tr th {\n",
       "        vertical-align: top;\n",
       "    }\n",
       "\n",
       "    .dataframe thead th {\n",
       "        text-align: right;\n",
       "    }\n",
       "</style>\n",
       "<table border=\"1\" class=\"dataframe\">\n",
       "  <thead>\n",
       "    <tr style=\"text-align: right;\">\n",
       "      <th></th>\n",
       "      <th>id</th>\n",
       "      <th>name</th>\n",
       "    </tr>\n",
       "  </thead>\n",
       "  <tbody>\n",
       "    <tr>\n",
       "      <td>0</td>\n",
       "      <td>302811</td>\n",
       "      <td>Canillo Parish</td>\n",
       "    </tr>\n",
       "    <tr>\n",
       "      <td>1</td>\n",
       "      <td>302812</td>\n",
       "      <td>Encamp Parish</td>\n",
       "    </tr>\n",
       "    <tr>\n",
       "      <td>2</td>\n",
       "      <td>302813</td>\n",
       "      <td>La Massana Parish</td>\n",
       "    </tr>\n",
       "    <tr>\n",
       "      <td>3</td>\n",
       "      <td>302814</td>\n",
       "      <td>Ordino Parish</td>\n",
       "    </tr>\n",
       "    <tr>\n",
       "      <td>4</td>\n",
       "      <td>302815</td>\n",
       "      <td>Sant Julià de Lòria Parish</td>\n",
       "    </tr>\n",
       "  </tbody>\n",
       "</table>\n",
       "</div>"
      ],
      "text/plain": [
       "       id                        name\n",
       "0  302811  Canillo Parish            \n",
       "1  302812  Encamp Parish             \n",
       "2  302813  La Massana Parish         \n",
       "3  302814  Ordino Parish             \n",
       "4  302815  Sant Julià de Lòria Parish"
      ]
     },
     "execution_count": 22,
     "metadata": {},
     "output_type": "execute_result"
    }
   ],
   "source": [
    "regions.drop(columns = [\"code\", \"local_code\", \"continent\", \"iso_country\", 'wikipedia_link', \"keywords\"], inplace = True)\n",
    "regions.head()"
   ]
  },
  {
   "cell_type": "code",
   "execution_count": 23,
   "metadata": {},
   "outputs": [
    {
     "data": {
      "text/html": [
       "<div>\n",
       "<style scoped>\n",
       "    .dataframe tbody tr th:only-of-type {\n",
       "        vertical-align: middle;\n",
       "    }\n",
       "\n",
       "    .dataframe tbody tr th {\n",
       "        vertical-align: top;\n",
       "    }\n",
       "\n",
       "    .dataframe thead th {\n",
       "        text-align: right;\n",
       "    }\n",
       "</style>\n",
       "<table border=\"1\" class=\"dataframe\">\n",
       "  <thead>\n",
       "    <tr style=\"text-align: right;\">\n",
       "      <th></th>\n",
       "      <th>id</th>\n",
       "      <th>type</th>\n",
       "      <th>name</th>\n",
       "      <th>elevation_ft</th>\n",
       "      <th>continent</th>\n",
       "      <th>municipality</th>\n",
       "      <th>scheduled_service</th>\n",
       "    </tr>\n",
       "  </thead>\n",
       "  <tbody>\n",
       "    <tr>\n",
       "      <td>0</td>\n",
       "      <td>6523</td>\n",
       "      <td>heliport</td>\n",
       "      <td>Total Rf Heliport</td>\n",
       "      <td>11.0</td>\n",
       "      <td>NaN</td>\n",
       "      <td>Bensalem</td>\n",
       "      <td>no</td>\n",
       "    </tr>\n",
       "    <tr>\n",
       "      <td>1</td>\n",
       "      <td>323361</td>\n",
       "      <td>small_airport</td>\n",
       "      <td>Aero B Ranch Airport</td>\n",
       "      <td>3435.0</td>\n",
       "      <td>NaN</td>\n",
       "      <td>Leoti</td>\n",
       "      <td>no</td>\n",
       "    </tr>\n",
       "    <tr>\n",
       "      <td>2</td>\n",
       "      <td>6524</td>\n",
       "      <td>small_airport</td>\n",
       "      <td>Lowell Field</td>\n",
       "      <td>450.0</td>\n",
       "      <td>NaN</td>\n",
       "      <td>Anchor Point</td>\n",
       "      <td>no</td>\n",
       "    </tr>\n",
       "    <tr>\n",
       "      <td>3</td>\n",
       "      <td>6525</td>\n",
       "      <td>small_airport</td>\n",
       "      <td>Epps Airpark</td>\n",
       "      <td>820.0</td>\n",
       "      <td>NaN</td>\n",
       "      <td>Harvest</td>\n",
       "      <td>no</td>\n",
       "    </tr>\n",
       "    <tr>\n",
       "      <td>4</td>\n",
       "      <td>6526</td>\n",
       "      <td>closed</td>\n",
       "      <td>Newport Hospital &amp; Clinic Heliport</td>\n",
       "      <td>237.0</td>\n",
       "      <td>NaN</td>\n",
       "      <td>Newport</td>\n",
       "      <td>no</td>\n",
       "    </tr>\n",
       "  </tbody>\n",
       "</table>\n",
       "</div>"
      ],
      "text/plain": [
       "       id           type                                name  elevation_ft  \\\n",
       "0  6523    heliport       Total Rf Heliport                   11.0           \n",
       "1  323361  small_airport  Aero B Ranch Airport                3435.0         \n",
       "2  6524    small_airport  Lowell Field                        450.0          \n",
       "3  6525    small_airport  Epps Airpark                        820.0          \n",
       "4  6526    closed         Newport Hospital & Clinic Heliport  237.0          \n",
       "\n",
       "  continent  municipality scheduled_service  \n",
       "0  NaN       Bensalem      no                \n",
       "1  NaN       Leoti         no                \n",
       "2  NaN       Anchor Point  no                \n",
       "3  NaN       Harvest       no                \n",
       "4  NaN       Newport       no                "
      ]
     },
     "execution_count": 23,
     "metadata": {},
     "output_type": "execute_result"
    }
   ],
   "source": [
    "airports.merge(countries, left_index = True, right_on = \"id\")\n",
    "airports.head()"
   ]
  },
  {
   "cell_type": "code",
   "execution_count": null,
   "metadata": {},
   "outputs": [],
   "source": []
  },
  {
   "cell_type": "code",
   "execution_count": null,
   "metadata": {},
   "outputs": [],
   "source": []
  },
  {
   "cell_type": "code",
   "execution_count": null,
   "metadata": {},
   "outputs": [],
   "source": []
  }
 ],
 "metadata": {
  "kernelspec": {
   "display_name": "Python 3",
   "language": "python",
   "name": "python3"
  },
  "language_info": {
   "codemirror_mode": {
    "name": "ipython",
    "version": 3
   },
   "file_extension": ".py",
   "mimetype": "text/x-python",
   "name": "python",
   "nbconvert_exporter": "python",
   "pygments_lexer": "ipython3",
   "version": "3.7.4"
  }
 },
 "nbformat": 4,
 "nbformat_minor": 4
}
