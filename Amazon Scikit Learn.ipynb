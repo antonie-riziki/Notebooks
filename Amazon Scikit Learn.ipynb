{
 "cells": [
  {
   "cell_type": "code",
   "execution_count": 1,
   "metadata": {},
   "outputs": [],
   "source": [
    "class Sentiment:\n",
    "    negative = \"NEGATIVE\"\n",
    "    neutral = \"NEUTRAL\"\n",
    "    positive = \"POSITIVE\"\n",
    "\n",
    "\n",
    "class Review:\n",
    "    def __init__(self, text, rate):\n",
    "        self.text = text\n",
    "        self.rate = rate\n",
    "        self.sentiment = self.get_sentiment()\n",
    "    \n",
    "    def get_sentiment(self):\n",
    "        if self.rate <= 2:\n",
    "            return Sentiment.negative\n",
    "        elif self.rate == 3:\n",
    "            return Sentiment.neutral\n",
    "        else:\n",
    "            return Sentiment.positive"
   ]
  },
  {
   "cell_type": "code",
   "execution_count": 7,
   "metadata": {},
   "outputs": [
    {
     "name": "stdout",
     "output_type": "stream",
     "text": [
      "{'reviewerID': 'A1E5ZR1Z4OQJG', 'asin': '1495329321', 'reviewerName': 'Pure Jonel \"Pure Jonel\"', 'helpful': [0, 0], 'reviewText': 'Da Silva takes the divine by storm with this unique new novel.  She develops a world unlike any others while keeping it firmly in the real world.  This is a very well written and entertaining novel.  I was quite impressed and intrigued by the way that this solid storyline was developed, bringing the readers right into the world of the story.  I was engaged throughout and definitely enjoyed my time spent reading it.I loved the character development in this novel.  Da Silva creates a cast of high school students who actually act like high school students.  I really appreciated the fact that none of them were thrown into situations far beyond their years, nor did they deal with events as if they had decades of life experience under their belts.  It was very refreshing and added to the realism and impact of the novel.  The friendships between the characters in this novel were also truly touching.Overall, this novel was fantastic.  I can&#8217;t wait to read more and to find out what happens next in the series.  I&#8217;d definitely recommend this debut novel by Da Silva to those who want a little YA fun with a completely unique & shocking storyline.Please note that I received a complimentary copy of this work in exchange for an honest review.', 'overall': 4.0, 'summary': 'An amazing first novel', 'unixReviewTime': 1396137600, 'reviewTime': '03 30, 2014'}\n"
     ]
    }
   ],
   "source": [
    "import json\n",
    "\n",
    "data_path = \"D:\\Open Classroom\\Datasets\\Amazon Book Reviews\\Books_small.json\"\n",
    "\n",
    "review = []\n",
    "\n",
    "with open (data_path) as f:\n",
    "    for line in f:\n",
    "        rev = json.loads(line)\n",
    "        print(rev)\n",
    "        break\n",
    "        #review.append(Review(rev[\"reviewText\"], rev[\"overall\"]))\n",
    "    \n",
    "#review[90].get_sentiment()"
   ]
  },
  {
   "cell_type": "code",
   "execution_count": 3,
   "metadata": {},
   "outputs": [
    {
     "data": {
      "text/plain": [
       "'POSITIVE'"
      ]
     },
     "execution_count": 3,
     "metadata": {},
     "output_type": "execute_result"
    }
   ],
   "source": [
    "from sklearn.tree import DecisionTreeClassifier # Creating an instance of a model\n",
    "from sklearn.model_selection import train_test_split # Return an array for the train and test data\n",
    "from sklearn.feature_extraction.text import CountVectorizer # Returns a matrix of the vectorized text\n",
    "from sklearn.svm import SVC # Classifier\n",
    "\n",
    "model = DecisionTreeClassifier()\n",
    "\n",
    "train, test = train_test_split(review, test_size = 0.2, random_state = 50)\n",
    "#print(train[0].sentiment)\n",
    "\n",
    "train_x = [x.text for x in train]\n",
    "train_y = [x.sentiment for x in train]\n",
    "\n",
    "train_y[1]"
   ]
  },
  {
   "cell_type": "code",
   "execution_count": 4,
   "metadata": {},
   "outputs": [
    {
     "name": "stdout",
     "output_type": "stream",
     "text": [
      "Really haven't read this yet. I gave it a random review because it looks a bit...... boring. I would definitly not laugh out loud.\n"
     ]
    },
    {
     "data": {
      "text/plain": [
       "array([[0, 0, 0, ..., 0, 0, 0]], dtype=int64)"
      ]
     },
     "execution_count": 4,
     "metadata": {},
     "output_type": "execute_result"
    }
   ],
   "source": [
    "vectorizer = CountVectorizer()\n",
    "train_x_vect = vectorizer.fit_transform(train_x)\n",
    "\n",
    "print(train_x[0])\n",
    "train_x_vect[0].toarray()"
   ]
  },
  {
   "cell_type": "code",
   "execution_count": 5,
   "metadata": {},
   "outputs": [
    {
     "data": {
      "text/plain": [
       "array(['NEGATIVE'], dtype='<U8')"
      ]
     },
     "execution_count": 5,
     "metadata": {},
     "output_type": "execute_result"
    }
   ],
   "source": [
    "train_x_clf = SVC(kernel = \"linear\")\n",
    "train_x_clf = train_x_clf.fit(train_x_vect, train_y)\n",
    "\n",
    "train_x_clf.predict(train_x_vect[0])"
   ]
  },
  {
   "cell_type": "code",
   "execution_count": 6,
   "metadata": {},
   "outputs": [
    {
     "data": {
      "text/plain": [
       "array(['NEGATIVE'], dtype='<U8')"
      ]
     },
     "execution_count": 6,
     "metadata": {},
     "output_type": "execute_result"
    }
   ],
   "source": [
    "train_x_dec = DecisionTreeClassifier()\n",
    "train_x_dec = train_x_dec.fit(train_x_vect, train_y)\n",
    "train_x_dec.predict(train_x_vect[0])"
   ]
  },
  {
   "cell_type": "code",
   "execution_count": null,
   "metadata": {},
   "outputs": [],
   "source": []
  },
  {
   "cell_type": "code",
   "execution_count": null,
   "metadata": {},
   "outputs": [],
   "source": []
  }
 ],
 "metadata": {
  "kernelspec": {
   "display_name": "Python 3",
   "language": "python",
   "name": "python3"
  },
  "language_info": {
   "codemirror_mode": {
    "name": "ipython",
    "version": 3
   },
   "file_extension": ".py",
   "mimetype": "text/x-python",
   "name": "python",
   "nbconvert_exporter": "python",
   "pygments_lexer": "ipython3",
   "version": "3.8.1"
  }
 },
 "nbformat": 4,
 "nbformat_minor": 4
}
