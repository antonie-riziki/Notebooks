{
 "cells": [
  {
   "cell_type": "markdown",
   "metadata": {},
   "source": [
    "# Auto Pedestrian Crashes"
   ]
  },
  {
   "cell_type": "code",
   "execution_count": 95,
   "metadata": {},
   "outputs": [],
   "source": [
    "import pandas as pd\n",
    "import numpy as np\n",
    "import seaborn as sb\n",
    "import matplotlib.pyplot as plt\n",
    "import missingno as msno\n",
    "import autoreload\n",
    "import csv\n",
    "import warnings\n",
    "import os\n",
    "import sys\n",
    "\n",
    "from collections import defaultdict, Counter\n",
    "\n",
    "pd.set_option('display.max_columns', 100)\n",
    "pd.set_option('display.max_rows', 1000)\n",
    "\n",
    "sb.set()\n",
    "sb.set_style('darkgrid')\n",
    "\n",
    "plt.style.use('seaborn')\n",
    "plt.tight_layout()\n",
    "\n",
    "%matplotlib inline\n",
    "%reload_ext autoreload\n",
    "%autoreload 2\n",
    "\n",
    "warnings.filterwarnings('ignore')"
   ]
  },
  {
   "cell_type": "code",
   "execution_count": 89,
   "metadata": {},
   "outputs": [
    {
     "data": {
      "text/html": [
       "<div>\n",
       "<style scoped>\n",
       "    .dataframe tbody tr th:only-of-type {\n",
       "        vertical-align: middle;\n",
       "    }\n",
       "\n",
       "    .dataframe tbody tr th {\n",
       "        vertical-align: top;\n",
       "    }\n",
       "\n",
       "    .dataframe thead th {\n",
       "        text-align: right;\n",
       "    }\n",
       "</style>\n",
       "<table border=\"1\" class=\"dataframe\">\n",
       "  <thead>\n",
       "    <tr style=\"text-align: right;\">\n",
       "      <th></th>\n",
       "      <th>Crash Year</th>\n",
       "      <th>Crash Month</th>\n",
       "      <th>Crash Day</th>\n",
       "      <th>Time of Day</th>\n",
       "      <th>Day of Week</th>\n",
       "      <th>City or Township</th>\n",
       "      <th>Crash: Intersection</th>\n",
       "      <th>Crash: Hit-and-Run</th>\n",
       "      <th>Lighting Conditions</th>\n",
       "      <th>Weather Conditions (2016+)</th>\n",
       "      <th>Speed Limit at Crash Site</th>\n",
       "      <th>Worst Injury in Crash</th>\n",
       "      <th>Party Type</th>\n",
       "      <th>Person Age</th>\n",
       "      <th>Person Gender</th>\n",
       "    </tr>\n",
       "  </thead>\n",
       "  <tbody>\n",
       "    <tr>\n",
       "      <td>0</td>\n",
       "      <td>2018</td>\n",
       "      <td>February</td>\n",
       "      <td>1</td>\n",
       "      <td>9:00 AM - 10:00 AM</td>\n",
       "      <td>Thursday</td>\n",
       "      <td>Wayne County: Detroit</td>\n",
       "      <td>Not intersection crash</td>\n",
       "      <td>Hit-and-run</td>\n",
       "      <td>Daylight</td>\n",
       "      <td>Clear</td>\n",
       "      <td>35</td>\n",
       "      <td>Suspected minor injury (B)</td>\n",
       "      <td>Motor vehicle driver</td>\n",
       "      <td>DOB invalid</td>\n",
       "      <td>Uncoded &amp; errors</td>\n",
       "    </tr>\n",
       "    <tr>\n",
       "      <td>1</td>\n",
       "      <td>2018</td>\n",
       "      <td>February</td>\n",
       "      <td>1</td>\n",
       "      <td>7:00 PM - 8:00 PM</td>\n",
       "      <td>Thursday</td>\n",
       "      <td>Wayne County: Detroit</td>\n",
       "      <td>Not intersection crash</td>\n",
       "      <td>Hit-and-run</td>\n",
       "      <td>Dark lighted</td>\n",
       "      <td>Clear</td>\n",
       "      <td>30</td>\n",
       "      <td>Suspected serious injury (A)</td>\n",
       "      <td>Motor vehicle driver</td>\n",
       "      <td>44</td>\n",
       "      <td>Female</td>\n",
       "    </tr>\n",
       "    <tr>\n",
       "      <td>2</td>\n",
       "      <td>2018</td>\n",
       "      <td>February</td>\n",
       "      <td>1</td>\n",
       "      <td>11:00 AM - 12:00 noon</td>\n",
       "      <td>Thursday</td>\n",
       "      <td>Wayne County: Detroit</td>\n",
       "      <td>Intersection crash</td>\n",
       "      <td>Hit-and-run</td>\n",
       "      <td>Daylight</td>\n",
       "      <td>Cloudy</td>\n",
       "      <td>30</td>\n",
       "      <td>Possible injury (C)</td>\n",
       "      <td>Motor vehicle driver</td>\n",
       "      <td>DOB invalid</td>\n",
       "      <td>Uncoded &amp; errors</td>\n",
       "    </tr>\n",
       "    <tr>\n",
       "      <td>3</td>\n",
       "      <td>2018</td>\n",
       "      <td>February</td>\n",
       "      <td>1</td>\n",
       "      <td>6:00 PM - 7:00 PM</td>\n",
       "      <td>Thursday</td>\n",
       "      <td>Wayne County: Detroit</td>\n",
       "      <td>Intersection crash</td>\n",
       "      <td>Hit-and-run</td>\n",
       "      <td>Dark lighted</td>\n",
       "      <td>Clear</td>\n",
       "      <td>30</td>\n",
       "      <td>Suspected minor injury (B)</td>\n",
       "      <td>Motor vehicle driver</td>\n",
       "      <td>DOB invalid</td>\n",
       "      <td>Uncoded &amp; errors</td>\n",
       "    </tr>\n",
       "    <tr>\n",
       "      <td>4</td>\n",
       "      <td>2018</td>\n",
       "      <td>March</td>\n",
       "      <td>1</td>\n",
       "      <td>2:00 PM - 3:00 PM</td>\n",
       "      <td>Thursday</td>\n",
       "      <td>Wayne County: Detroit</td>\n",
       "      <td>Not intersection crash</td>\n",
       "      <td>Hit-and-run</td>\n",
       "      <td>Daylight</td>\n",
       "      <td>Snow</td>\n",
       "      <td>25</td>\n",
       "      <td>No injury (O)</td>\n",
       "      <td>Motor vehicle driver</td>\n",
       "      <td>DOB invalid</td>\n",
       "      <td>Uncoded &amp; errors</td>\n",
       "    </tr>\n",
       "  </tbody>\n",
       "</table>\n",
       "</div>"
      ],
      "text/plain": [
       "   Crash Year Crash Month  Crash Day            Time of Day Day of Week  \\\n",
       "0        2018    February          1     9:00 AM - 10:00 AM    Thursday   \n",
       "1        2018    February          1      7:00 PM - 8:00 PM    Thursday   \n",
       "2        2018    February          1  11:00 AM - 12:00 noon    Thursday   \n",
       "3        2018    February          1      6:00 PM - 7:00 PM    Thursday   \n",
       "4        2018       March          1      2:00 PM - 3:00 PM    Thursday   \n",
       "\n",
       "        City or Township     Crash: Intersection Crash: Hit-and-Run  \\\n",
       "0  Wayne County: Detroit  Not intersection crash        Hit-and-run   \n",
       "1  Wayne County: Detroit  Not intersection crash        Hit-and-run   \n",
       "2  Wayne County: Detroit      Intersection crash        Hit-and-run   \n",
       "3  Wayne County: Detroit      Intersection crash        Hit-and-run   \n",
       "4  Wayne County: Detroit  Not intersection crash        Hit-and-run   \n",
       "\n",
       "  Lighting Conditions Weather Conditions (2016+) Speed Limit at Crash Site  \\\n",
       "0            Daylight                      Clear                        35   \n",
       "1        Dark lighted                      Clear                        30   \n",
       "2            Daylight                     Cloudy                        30   \n",
       "3        Dark lighted                      Clear                        30   \n",
       "4            Daylight                       Snow                        25   \n",
       "\n",
       "          Worst Injury in Crash            Party Type   Person Age  \\\n",
       "0    Suspected minor injury (B)  Motor vehicle driver  DOB invalid   \n",
       "1  Suspected serious injury (A)  Motor vehicle driver           44   \n",
       "2           Possible injury (C)  Motor vehicle driver  DOB invalid   \n",
       "3    Suspected minor injury (B)  Motor vehicle driver  DOB invalid   \n",
       "4                 No injury (O)  Motor vehicle driver  DOB invalid   \n",
       "\n",
       "      Person Gender  \n",
       "0  Uncoded & errors  \n",
       "1            Female  \n",
       "2  Uncoded & errors  \n",
       "3  Uncoded & errors  \n",
       "4  Uncoded & errors  "
      ]
     },
     "execution_count": 89,
     "metadata": {},
     "output_type": "execute_result"
    }
   ],
   "source": [
    "df = pd.read_csv(\"D:\\Open Classroom\\Datasets\\Auto Pedestrians Crashes\\ped_crashes.csv\")\n",
    "df.head()"
   ]
  },
  {
   "cell_type": "code",
   "execution_count": 90,
   "metadata": {},
   "outputs": [
    {
     "data": {
      "text/plain": [
       "(6809, 15)"
      ]
     },
     "execution_count": 90,
     "metadata": {},
     "output_type": "execute_result"
    }
   ],
   "source": [
    "df.shape"
   ]
  },
  {
   "cell_type": "code",
   "execution_count": 91,
   "metadata": {},
   "outputs": [
    {
     "name": "stdout",
     "output_type": "stream",
     "text": [
      "<class 'pandas.core.frame.DataFrame'>\n",
      "RangeIndex: 6809 entries, 0 to 6808\n",
      "Data columns (total 15 columns):\n",
      "Crash Year                    6809 non-null int64\n",
      "Crash Month                   6809 non-null object\n",
      "Crash Day                     6809 non-null int64\n",
      "Time of Day                   6809 non-null object\n",
      "Day of Week                   6809 non-null object\n",
      "City or Township              6809 non-null object\n",
      "Crash: Intersection           6809 non-null object\n",
      "Crash: Hit-and-Run            6809 non-null object\n",
      "Lighting Conditions           6809 non-null object\n",
      "Weather Conditions (2016+)    6809 non-null object\n",
      "Speed Limit at Crash Site     6809 non-null object\n",
      "Worst Injury in Crash         6809 non-null object\n",
      "Party Type                    6809 non-null object\n",
      "Person Age                    6809 non-null object\n",
      "Person Gender                 6809 non-null object\n",
      "dtypes: int64(2), object(13)\n",
      "memory usage: 798.1+ KB\n"
     ]
    }
   ],
   "source": [
    "df.info()"
   ]
  },
  {
   "cell_type": "code",
   "execution_count": 92,
   "metadata": {},
   "outputs": [
    {
     "data": {
      "text/html": [
       "<div>\n",
       "<style scoped>\n",
       "    .dataframe tbody tr th:only-of-type {\n",
       "        vertical-align: middle;\n",
       "    }\n",
       "\n",
       "    .dataframe tbody tr th {\n",
       "        vertical-align: top;\n",
       "    }\n",
       "\n",
       "    .dataframe thead th {\n",
       "        text-align: right;\n",
       "    }\n",
       "</style>\n",
       "<table border=\"1\" class=\"dataframe\">\n",
       "  <thead>\n",
       "    <tr style=\"text-align: right;\">\n",
       "      <th></th>\n",
       "      <th>Crash Year</th>\n",
       "      <th>Crash Day</th>\n",
       "    </tr>\n",
       "  </thead>\n",
       "  <tbody>\n",
       "    <tr>\n",
       "      <td>count</td>\n",
       "      <td>6809.0</td>\n",
       "      <td>6809.0</td>\n",
       "    </tr>\n",
       "    <tr>\n",
       "      <td>mean</td>\n",
       "      <td>2014.0</td>\n",
       "      <td>15.0</td>\n",
       "    </tr>\n",
       "    <tr>\n",
       "      <td>std</td>\n",
       "      <td>3.0</td>\n",
       "      <td>9.0</td>\n",
       "    </tr>\n",
       "    <tr>\n",
       "      <td>min</td>\n",
       "      <td>2010.0</td>\n",
       "      <td>1.0</td>\n",
       "    </tr>\n",
       "    <tr>\n",
       "      <td>25%</td>\n",
       "      <td>2012.0</td>\n",
       "      <td>8.0</td>\n",
       "    </tr>\n",
       "    <tr>\n",
       "      <td>50%</td>\n",
       "      <td>2014.0</td>\n",
       "      <td>15.0</td>\n",
       "    </tr>\n",
       "    <tr>\n",
       "      <td>75%</td>\n",
       "      <td>2016.0</td>\n",
       "      <td>23.0</td>\n",
       "    </tr>\n",
       "    <tr>\n",
       "      <td>max</td>\n",
       "      <td>2018.0</td>\n",
       "      <td>31.0</td>\n",
       "    </tr>\n",
       "  </tbody>\n",
       "</table>\n",
       "</div>"
      ],
      "text/plain": [
       "       Crash Year  Crash Day\n",
       "count      6809.0     6809.0\n",
       "mean       2014.0       15.0\n",
       "std           3.0        9.0\n",
       "min        2010.0        1.0\n",
       "25%        2012.0        8.0\n",
       "50%        2014.0       15.0\n",
       "75%        2016.0       23.0\n",
       "max        2018.0       31.0"
      ]
     },
     "execution_count": 92,
     "metadata": {},
     "output_type": "execute_result"
    }
   ],
   "source": [
    "df.describe().round()"
   ]
  },
  {
   "cell_type": "code",
   "execution_count": 93,
   "metadata": {},
   "outputs": [
    {
     "data": {
      "text/plain": [
       "Crash Year                    0\n",
       "Crash Month                   0\n",
       "Crash Day                     0\n",
       "Time of Day                   0\n",
       "Day of Week                   0\n",
       "City or Township              0\n",
       "Crash: Intersection           0\n",
       "Crash: Hit-and-Run            0\n",
       "Lighting Conditions           0\n",
       "Weather Conditions (2016+)    0\n",
       "Speed Limit at Crash Site     0\n",
       "Worst Injury in Crash         0\n",
       "Party Type                    0\n",
       "Person Age                    0\n",
       "Person Gender                 0\n",
       "dtype: int64"
      ]
     },
     "execution_count": 93,
     "metadata": {},
     "output_type": "execute_result"
    }
   ],
   "source": [
    "df.isnull().sum()"
   ]
  },
  {
   "cell_type": "code",
   "execution_count": 107,
   "metadata": {},
   "outputs": [
    {
     "ename": "ValueError",
     "evalue": "shape mismatch: objects cannot be broadcast to a single shape",
     "output_type": "error",
     "traceback": [
      "\u001b[1;31m---------------------------------------------------------------------------\u001b[0m",
      "\u001b[1;31mValueError\u001b[0m                                Traceback (most recent call last)",
      "\u001b[1;32m<ipython-input-107-7e6501e921f3>\u001b[0m in \u001b[0;36m<module>\u001b[1;34m\u001b[0m\n\u001b[0;32m     13\u001b[0m     \u001b[0mfig\u001b[0m\u001b[1;33m,\u001b[0m \u001b[0max\u001b[0m \u001b[1;33m=\u001b[0m \u001b[0mplt\u001b[0m\u001b[1;33m.\u001b[0m\u001b[0msubplots\u001b[0m\u001b[1;33m(\u001b[0m\u001b[0msharex\u001b[0m\u001b[1;33m=\u001b[0m\u001b[1;32mFalse\u001b[0m\u001b[1;33m)\u001b[0m\u001b[1;33m\u001b[0m\u001b[1;33m\u001b[0m\u001b[0m\n\u001b[0;32m     14\u001b[0m \u001b[1;33m\u001b[0m\u001b[0m\n\u001b[1;32m---> 15\u001b[1;33m     \u001b[0max\u001b[0m\u001b[1;33m.\u001b[0m\u001b[0mbar\u001b[0m\u001b[1;33m(\u001b[0m\u001b[0mdf\u001b[0m\u001b[1;33m[\u001b[0m\u001b[0mj\u001b[0m\u001b[1;33m]\u001b[0m\u001b[1;33m,\u001b[0m \u001b[0mdf\u001b[0m\u001b[1;33m[\u001b[0m\u001b[0mj\u001b[0m\u001b[1;33m]\u001b[0m\u001b[1;33m.\u001b[0m\u001b[0mvalue_counts\u001b[0m\u001b[1;33m(\u001b[0m\u001b[1;33m)\u001b[0m\u001b[1;33m)\u001b[0m\u001b[1;33m\u001b[0m\u001b[1;33m\u001b[0m\u001b[0m\n\u001b[0m\u001b[0;32m     16\u001b[0m     \u001b[0max\u001b[0m\u001b[1;33m.\u001b[0m\u001b[0mset_title\u001b[0m\u001b[1;33m(\u001b[0m\u001b[0mj\u001b[0m\u001b[1;33m)\u001b[0m\u001b[1;33m\u001b[0m\u001b[1;33m\u001b[0m\u001b[0m\n\u001b[0;32m     17\u001b[0m \u001b[1;33m\u001b[0m\u001b[0m\n",
      "\u001b[1;32mD:\\Team Software\\Anaconda3\\lib\\site-packages\\matplotlib\\__init__.py\u001b[0m in \u001b[0;36minner\u001b[1;34m(ax, data, *args, **kwargs)\u001b[0m\n\u001b[0;32m   1599\u001b[0m     \u001b[1;32mdef\u001b[0m \u001b[0minner\u001b[0m\u001b[1;33m(\u001b[0m\u001b[0max\u001b[0m\u001b[1;33m,\u001b[0m \u001b[1;33m*\u001b[0m\u001b[0margs\u001b[0m\u001b[1;33m,\u001b[0m \u001b[0mdata\u001b[0m\u001b[1;33m=\u001b[0m\u001b[1;32mNone\u001b[0m\u001b[1;33m,\u001b[0m \u001b[1;33m**\u001b[0m\u001b[0mkwargs\u001b[0m\u001b[1;33m)\u001b[0m\u001b[1;33m:\u001b[0m\u001b[1;33m\u001b[0m\u001b[1;33m\u001b[0m\u001b[0m\n\u001b[0;32m   1600\u001b[0m         \u001b[1;32mif\u001b[0m \u001b[0mdata\u001b[0m \u001b[1;32mis\u001b[0m \u001b[1;32mNone\u001b[0m\u001b[1;33m:\u001b[0m\u001b[1;33m\u001b[0m\u001b[1;33m\u001b[0m\u001b[0m\n\u001b[1;32m-> 1601\u001b[1;33m             \u001b[1;32mreturn\u001b[0m \u001b[0mfunc\u001b[0m\u001b[1;33m(\u001b[0m\u001b[0max\u001b[0m\u001b[1;33m,\u001b[0m \u001b[1;33m*\u001b[0m\u001b[0mmap\u001b[0m\u001b[1;33m(\u001b[0m\u001b[0msanitize_sequence\u001b[0m\u001b[1;33m,\u001b[0m \u001b[0margs\u001b[0m\u001b[1;33m)\u001b[0m\u001b[1;33m,\u001b[0m \u001b[1;33m**\u001b[0m\u001b[0mkwargs\u001b[0m\u001b[1;33m)\u001b[0m\u001b[1;33m\u001b[0m\u001b[1;33m\u001b[0m\u001b[0m\n\u001b[0m\u001b[0;32m   1602\u001b[0m \u001b[1;33m\u001b[0m\u001b[0m\n\u001b[0;32m   1603\u001b[0m         \u001b[0mbound\u001b[0m \u001b[1;33m=\u001b[0m \u001b[0mnew_sig\u001b[0m\u001b[1;33m.\u001b[0m\u001b[0mbind\u001b[0m\u001b[1;33m(\u001b[0m\u001b[0max\u001b[0m\u001b[1;33m,\u001b[0m \u001b[1;33m*\u001b[0m\u001b[0margs\u001b[0m\u001b[1;33m,\u001b[0m \u001b[1;33m**\u001b[0m\u001b[0mkwargs\u001b[0m\u001b[1;33m)\u001b[0m\u001b[1;33m\u001b[0m\u001b[1;33m\u001b[0m\u001b[0m\n",
      "\u001b[1;32mD:\\Team Software\\Anaconda3\\lib\\site-packages\\matplotlib\\axes\\_axes.py\u001b[0m in \u001b[0;36mbar\u001b[1;34m(self, x, height, width, bottom, align, **kwargs)\u001b[0m\n\u001b[0;32m   2373\u001b[0m         x, height, width, y, linewidth = np.broadcast_arrays(\n\u001b[0;32m   2374\u001b[0m             \u001b[1;31m# Make args iterable too.\u001b[0m\u001b[1;33m\u001b[0m\u001b[1;33m\u001b[0m\u001b[1;33m\u001b[0m\u001b[0m\n\u001b[1;32m-> 2375\u001b[1;33m             np.atleast_1d(x), height, width, y, linewidth)\n\u001b[0m\u001b[0;32m   2376\u001b[0m \u001b[1;33m\u001b[0m\u001b[0m\n\u001b[0;32m   2377\u001b[0m         \u001b[1;31m# Now that units have been converted, set the tick locations.\u001b[0m\u001b[1;33m\u001b[0m\u001b[1;33m\u001b[0m\u001b[1;33m\u001b[0m\u001b[0m\n",
      "\u001b[1;32mD:\\Team Software\\Anaconda3\\lib\\site-packages\\numpy\\lib\\stride_tricks.py\u001b[0m in \u001b[0;36mbroadcast_arrays\u001b[1;34m(*args, **kwargs)\u001b[0m\n\u001b[0;32m    257\u001b[0m     \u001b[0margs\u001b[0m \u001b[1;33m=\u001b[0m \u001b[1;33m[\u001b[0m\u001b[0mnp\u001b[0m\u001b[1;33m.\u001b[0m\u001b[0marray\u001b[0m\u001b[1;33m(\u001b[0m\u001b[0m_m\u001b[0m\u001b[1;33m,\u001b[0m \u001b[0mcopy\u001b[0m\u001b[1;33m=\u001b[0m\u001b[1;32mFalse\u001b[0m\u001b[1;33m,\u001b[0m \u001b[0msubok\u001b[0m\u001b[1;33m=\u001b[0m\u001b[0msubok\u001b[0m\u001b[1;33m)\u001b[0m \u001b[1;32mfor\u001b[0m \u001b[0m_m\u001b[0m \u001b[1;32min\u001b[0m \u001b[0margs\u001b[0m\u001b[1;33m]\u001b[0m\u001b[1;33m\u001b[0m\u001b[1;33m\u001b[0m\u001b[0m\n\u001b[0;32m    258\u001b[0m \u001b[1;33m\u001b[0m\u001b[0m\n\u001b[1;32m--> 259\u001b[1;33m     \u001b[0mshape\u001b[0m \u001b[1;33m=\u001b[0m \u001b[0m_broadcast_shape\u001b[0m\u001b[1;33m(\u001b[0m\u001b[1;33m*\u001b[0m\u001b[0margs\u001b[0m\u001b[1;33m)\u001b[0m\u001b[1;33m\u001b[0m\u001b[1;33m\u001b[0m\u001b[0m\n\u001b[0m\u001b[0;32m    260\u001b[0m \u001b[1;33m\u001b[0m\u001b[0m\n\u001b[0;32m    261\u001b[0m     \u001b[1;32mif\u001b[0m \u001b[0mall\u001b[0m\u001b[1;33m(\u001b[0m\u001b[0marray\u001b[0m\u001b[1;33m.\u001b[0m\u001b[0mshape\u001b[0m \u001b[1;33m==\u001b[0m \u001b[0mshape\u001b[0m \u001b[1;32mfor\u001b[0m \u001b[0marray\u001b[0m \u001b[1;32min\u001b[0m \u001b[0margs\u001b[0m\u001b[1;33m)\u001b[0m\u001b[1;33m:\u001b[0m\u001b[1;33m\u001b[0m\u001b[1;33m\u001b[0m\u001b[0m\n",
      "\u001b[1;32mD:\\Team Software\\Anaconda3\\lib\\site-packages\\numpy\\lib\\stride_tricks.py\u001b[0m in \u001b[0;36m_broadcast_shape\u001b[1;34m(*args)\u001b[0m\n\u001b[0;32m    191\u001b[0m     \u001b[1;31m# use the old-iterator because np.nditer does not handle size 0 arrays\u001b[0m\u001b[1;33m\u001b[0m\u001b[1;33m\u001b[0m\u001b[1;33m\u001b[0m\u001b[0m\n\u001b[0;32m    192\u001b[0m     \u001b[1;31m# consistently\u001b[0m\u001b[1;33m\u001b[0m\u001b[1;33m\u001b[0m\u001b[1;33m\u001b[0m\u001b[0m\n\u001b[1;32m--> 193\u001b[1;33m     \u001b[0mb\u001b[0m \u001b[1;33m=\u001b[0m \u001b[0mnp\u001b[0m\u001b[1;33m.\u001b[0m\u001b[0mbroadcast\u001b[0m\u001b[1;33m(\u001b[0m\u001b[1;33m*\u001b[0m\u001b[0margs\u001b[0m\u001b[1;33m[\u001b[0m\u001b[1;33m:\u001b[0m\u001b[1;36m32\u001b[0m\u001b[1;33m]\u001b[0m\u001b[1;33m)\u001b[0m\u001b[1;33m\u001b[0m\u001b[1;33m\u001b[0m\u001b[0m\n\u001b[0m\u001b[0;32m    194\u001b[0m     \u001b[1;31m# unfortunately, it cannot handle 32 or more arguments directly\u001b[0m\u001b[1;33m\u001b[0m\u001b[1;33m\u001b[0m\u001b[1;33m\u001b[0m\u001b[0m\n\u001b[0;32m    195\u001b[0m     \u001b[1;32mfor\u001b[0m \u001b[0mpos\u001b[0m \u001b[1;32min\u001b[0m \u001b[0mrange\u001b[0m\u001b[1;33m(\u001b[0m\u001b[1;36m32\u001b[0m\u001b[1;33m,\u001b[0m \u001b[0mlen\u001b[0m\u001b[1;33m(\u001b[0m\u001b[0margs\u001b[0m\u001b[1;33m)\u001b[0m\u001b[1;33m,\u001b[0m \u001b[1;36m31\u001b[0m\u001b[1;33m)\u001b[0m\u001b[1;33m:\u001b[0m\u001b[1;33m\u001b[0m\u001b[1;33m\u001b[0m\u001b[0m\n",
      "\u001b[1;31mValueError\u001b[0m: shape mismatch: objects cannot be broadcast to a single shape"
     ]
    },
    {
     "data": {
      "image/png": "[encoded data removed]",
      "text/plain": [
       "<Figure size 432x288 with 1 Axes>"
      ]
     },
     "metadata": {
      "needs_background": "light"
     },
     "output_type": "display_data"
    }
   ],
   "source": [
    "def plot_categories(data):\n",
    "    cat_cols = (data.dtypes == 'object')\n",
    "    cat_list = list(cat_cols[cat_cols].index)\n",
    "    for i in cat_list:\n",
    "        pass\n",
    "    \n",
    "cols = ['Crash Month', 'Time of Day', 'Crash: Intersection', 'Crash: Hit-and-Run', 'Lighting Conditions', 'Weather Conditions (2016+)', 'Worst Injury in Crash', 'Person Gender']    \n",
    "\n",
    "\n",
    "\n",
    "for i, j in enumerate(cols):\n",
    "    \n",
    "    fig, ax = plt.subplots(sharex=False)\n",
    "\n",
    "    ax.bar(df[j], df[j].value_counts())\n",
    "    ax.set_title(j)\n",
    "\n",
    "\n",
    "\n",
    "#     sb.countplot(ax=ax[1], y = df['Day of Week'])\n",
    "#     ax[1].set_title('Day of Week')\n",
    "\n",
    "#     sb.countplot(ax=ax[2], y = df['City or Township'])\n",
    "#     ax[2].set_title('City or Township')\n",
    "#     pass\n",
    "for i, j in enumerate(cols):\n",
    "    print(i, j)"
   ]
  },
  {
   "cell_type": "code",
   "execution_count": null,
   "metadata": {},
   "outputs": [],
   "source": [
    "df.head()"
   ]
  },
  {
   "cell_type": "code",
   "execution_count": null,
   "metadata": {},
   "outputs": [],
   "source": [
    "df['Person Gender'].value_counts()"
   ]
  },
  {
   "cell_type": "code",
   "execution_count": null,
   "metadata": {},
   "outputs": [],
   "source": []
  }
 ],
 "metadata": {
  "kernelspec": {
   "display_name": "Python 3",
   "language": "python",
   "name": "python3"
  },
  "language_info": {
   "codemirror_mode": {
    "name": "ipython",
    "version": 3
   },
   "file_extension": ".py",
   "mimetype": "text/x-python",
   "name": "python",
   "nbconvert_exporter": "python",
   "pygments_lexer": "ipython3",
   "version": "3.7.4"
  }
 },
 "nbformat": 4,
 "nbformat_minor": 4
}
