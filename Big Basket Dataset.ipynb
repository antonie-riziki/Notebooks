{
 "cells": [
  {
   "cell_type": "markdown",
   "metadata": {},
   "source": [
    "# BigBasket Products Dataset"
   ]
  },
  {
   "cell_type": "code",
   "execution_count": 1,
   "metadata": {},
   "outputs": [],
   "source": [
    "import pandas as pd\n",
    "import numpy as np\n",
    "import matplotlib.pyplot as plt\n",
    "import seaborn as sb\n",
    "import missingno as msno\n",
    "import autoreload\n",
    "import os\n",
    "import csv\n",
    "import sys\n",
    "\n",
    "from collections import defaultdict, Counter\n",
    "\n",
    "%matplotlib inline\n",
    "\n",
    "sb.set_style('darkgrid')\n",
    "sb.set()\n",
    "\n",
    "pd.set_option('display.max_columns', 100)\n",
    "pd.set_option('display.max_rows', 1000)"
   ]
  },
  {
   "cell_type": "code",
   "execution_count": 2,
   "metadata": {},
   "outputs": [
    {
     "data": {
      "text/html": [
       "<div>\n",
       "<style scoped>\n",
       "    .dataframe tbody tr th:only-of-type {\n",
       "        vertical-align: middle;\n",
       "    }\n",
       "\n",
       "    .dataframe tbody tr th {\n",
       "        vertical-align: top;\n",
       "    }\n",
       "\n",
       "    .dataframe thead th {\n",
       "        text-align: right;\n",
       "    }\n",
       "</style>\n",
       "<table border=\"1\" class=\"dataframe\">\n",
       "  <thead>\n",
       "    <tr style=\"text-align: right;\">\n",
       "      <th></th>\n",
       "      <th>ProductName</th>\n",
       "      <th>Brand</th>\n",
       "      <th>Price</th>\n",
       "      <th>DiscountPrice</th>\n",
       "      <th>Image_Url</th>\n",
       "      <th>Quantity</th>\n",
       "      <th>Category</th>\n",
       "      <th>SubCategory</th>\n",
       "      <th>Absolute_Url</th>\n",
       "    </tr>\n",
       "  </thead>\n",
       "  <tbody>\n",
       "    <tr>\n",
       "      <th>0</th>\n",
       "      <td>Onion (Loose)</td>\n",
       "      <td>Fresho</td>\n",
       "      <td>69.75</td>\n",
       "      <td>52.0</td>\n",
       "      <td>https://www.bigbasket.com/media/uploads/p/l/40...</td>\n",
       "      <td>2 kg</td>\n",
       "      <td>Fruits &amp; Vegetables</td>\n",
       "      <td>Potato, Onion &amp; Tomato</td>\n",
       "      <td>https://www.bigbasket.com/pd/40075537/fresho-o...</td>\n",
       "    </tr>\n",
       "    <tr>\n",
       "      <th>1</th>\n",
       "      <td>Onion</td>\n",
       "      <td>Fresho</td>\n",
       "      <td>174.35</td>\n",
       "      <td>130.0</td>\n",
       "      <td>https://www.bigbasket.com/media/uploads/p/l/12...</td>\n",
       "      <td>5 kg</td>\n",
       "      <td>Fruits &amp; Vegetables</td>\n",
       "      <td>Potato, Onion &amp; Tomato</td>\n",
       "      <td>https://www.bigbasket.com/pd/1201414/fresho-on...</td>\n",
       "    </tr>\n",
       "    <tr>\n",
       "      <th>2</th>\n",
       "      <td>Onion (Loose)</td>\n",
       "      <td>Fresho</td>\n",
       "      <td>34.87</td>\n",
       "      <td>26.0</td>\n",
       "      <td>https://www.bigbasket.com/media/uploads/p/l/10...</td>\n",
       "      <td>1 kg</td>\n",
       "      <td>Fruits &amp; Vegetables</td>\n",
       "      <td>Potato, Onion &amp; Tomato</td>\n",
       "      <td>https://www.bigbasket.com/pd/10000148/fresho-o...</td>\n",
       "    </tr>\n",
       "    <tr>\n",
       "      <th>3</th>\n",
       "      <td>Onion</td>\n",
       "      <td>Fresho</td>\n",
       "      <td>69.74</td>\n",
       "      <td>52.0</td>\n",
       "      <td>https://www.bigbasket.com/media/uploads/p/l/12...</td>\n",
       "      <td>2 kg</td>\n",
       "      <td>Fruits &amp; Vegetables</td>\n",
       "      <td>Potato, Onion &amp; Tomato</td>\n",
       "      <td>https://www.bigbasket.com/pd/1201413/fresho-on...</td>\n",
       "    </tr>\n",
       "    <tr>\n",
       "      <th>4</th>\n",
       "      <td>Onion (Loose)</td>\n",
       "      <td>Fresho</td>\n",
       "      <td>174.37</td>\n",
       "      <td>129.0</td>\n",
       "      <td>https://www.bigbasket.com/media/uploads/p/l/10...</td>\n",
       "      <td>5 kg</td>\n",
       "      <td>Fruits &amp; Vegetables</td>\n",
       "      <td>Potato, Onion &amp; Tomato</td>\n",
       "      <td>https://www.bigbasket.com/pd/10000150/fresho-o...</td>\n",
       "    </tr>\n",
       "  </tbody>\n",
       "</table>\n",
       "</div>"
      ],
      "text/plain": [
       "     ProductName   Brand   Price  DiscountPrice  \\\n",
       "0  Onion (Loose)  Fresho   69.75           52.0   \n",
       "1          Onion  Fresho  174.35          130.0   \n",
       "2  Onion (Loose)  Fresho   34.87           26.0   \n",
       "3          Onion  Fresho   69.74           52.0   \n",
       "4  Onion (Loose)  Fresho  174.37          129.0   \n",
       "\n",
       "                                           Image_Url Quantity  \\\n",
       "0  https://www.bigbasket.com/media/uploads/p/l/40...     2 kg   \n",
       "1  https://www.bigbasket.com/media/uploads/p/l/12...     5 kg   \n",
       "2  https://www.bigbasket.com/media/uploads/p/l/10...     1 kg   \n",
       "3  https://www.bigbasket.com/media/uploads/p/l/12...     2 kg   \n",
       "4  https://www.bigbasket.com/media/uploads/p/l/10...     5 kg   \n",
       "\n",
       "              Category             SubCategory  \\\n",
       "0  Fruits & Vegetables  Potato, Onion & Tomato   \n",
       "1  Fruits & Vegetables  Potato, Onion & Tomato   \n",
       "2  Fruits & Vegetables  Potato, Onion & Tomato   \n",
       "3  Fruits & Vegetables  Potato, Onion & Tomato   \n",
       "4  Fruits & Vegetables  Potato, Onion & Tomato   \n",
       "\n",
       "                                        Absolute_Url  \n",
       "0  https://www.bigbasket.com/pd/40075537/fresho-o...  \n",
       "1  https://www.bigbasket.com/pd/1201414/fresho-on...  \n",
       "2  https://www.bigbasket.com/pd/10000148/fresho-o...  \n",
       "3  https://www.bigbasket.com/pd/1201413/fresho-on...  \n",
       "4  https://www.bigbasket.com/pd/10000150/fresho-o...  "
      ]
     },
     "execution_count": 2,
     "metadata": {},
     "output_type": "execute_result"
    }
   ],
   "source": [
    "df = pd.read_csv(\"D:\\Open Classroom\\Datasets\\BigBasket Products\\BigBasket.csv\")\n",
    "df.head()"
   ]
  },
  {
   "cell_type": "code",
   "execution_count": 3,
   "metadata": {},
   "outputs": [
    {
     "data": {
      "text/plain": [
       "(8208, 9)"
      ]
     },
     "execution_count": 3,
     "metadata": {},
     "output_type": "execute_result"
    }
   ],
   "source": [
    "df.shape"
   ]
  },
  {
   "cell_type": "code",
   "execution_count": 4,
   "metadata": {},
   "outputs": [
    {
     "name": "stdout",
     "output_type": "stream",
     "text": [
      "<class 'pandas.core.frame.DataFrame'>\n",
      "RangeIndex: 8208 entries, 0 to 8207\n",
      "Data columns (total 9 columns):\n",
      " #   Column         Non-Null Count  Dtype  \n",
      "---  ------         --------------  -----  \n",
      " 0   ProductName    8208 non-null   object \n",
      " 1   Brand          8208 non-null   object \n",
      " 2   Price          8208 non-null   float64\n",
      " 3   DiscountPrice  8208 non-null   float64\n",
      " 4   Image_Url      8208 non-null   object \n",
      " 5   Quantity       8208 non-null   object \n",
      " 6   Category       8208 non-null   object \n",
      " 7   SubCategory    8208 non-null   object \n",
      " 8   Absolute_Url   8208 non-null   object \n",
      "dtypes: float64(2), object(7)\n",
      "memory usage: 577.2+ KB\n"
     ]
    }
   ],
   "source": [
    "df.info()"
   ]
  },
  {
   "cell_type": "code",
   "execution_count": 9,
   "metadata": {},
   "outputs": [
    {
     "data": {
      "text/html": [
       "<div>\n",
       "<style scoped>\n",
       "    .dataframe tbody tr th:only-of-type {\n",
       "        vertical-align: middle;\n",
       "    }\n",
       "\n",
       "    .dataframe tbody tr th {\n",
       "        vertical-align: top;\n",
       "    }\n",
       "\n",
       "    .dataframe thead th {\n",
       "        text-align: right;\n",
       "    }\n",
       "</style>\n",
       "<table border=\"1\" class=\"dataframe\">\n",
       "  <thead>\n",
       "    <tr style=\"text-align: right;\">\n",
       "      <th></th>\n",
       "      <th>Price</th>\n",
       "      <th>DiscountPrice</th>\n",
       "    </tr>\n",
       "  </thead>\n",
       "  <tbody>\n",
       "    <tr>\n",
       "      <th>count</th>\n",
       "      <td>8208.0</td>\n",
       "      <td>8208.0</td>\n",
       "    </tr>\n",
       "    <tr>\n",
       "      <th>mean</th>\n",
       "      <td>545.0</td>\n",
       "      <td>357.0</td>\n",
       "    </tr>\n",
       "    <tr>\n",
       "      <th>std</th>\n",
       "      <td>665.0</td>\n",
       "      <td>438.0</td>\n",
       "    </tr>\n",
       "    <tr>\n",
       "      <th>min</th>\n",
       "      <td>5.0</td>\n",
       "      <td>3.0</td>\n",
       "    </tr>\n",
       "    <tr>\n",
       "      <th>25%</th>\n",
       "      <td>190.0</td>\n",
       "      <td>129.0</td>\n",
       "    </tr>\n",
       "    <tr>\n",
       "      <th>50%</th>\n",
       "      <td>360.0</td>\n",
       "      <td>238.0</td>\n",
       "    </tr>\n",
       "    <tr>\n",
       "      <th>75%</th>\n",
       "      <td>650.0</td>\n",
       "      <td>429.0</td>\n",
       "    </tr>\n",
       "    <tr>\n",
       "      <th>max</th>\n",
       "      <td>10140.0</td>\n",
       "      <td>7605.0</td>\n",
       "    </tr>\n",
       "  </tbody>\n",
       "</table>\n",
       "</div>"
      ],
      "text/plain": [
       "         Price  DiscountPrice\n",
       "count   8208.0         8208.0\n",
       "mean     545.0          357.0\n",
       "std      665.0          438.0\n",
       "min        5.0            3.0\n",
       "25%      190.0          129.0\n",
       "50%      360.0          238.0\n",
       "75%      650.0          429.0\n",
       "max    10140.0         7605.0"
      ]
     },
     "execution_count": 9,
     "metadata": {},
     "output_type": "execute_result"
    }
   ],
   "source": [
    "df.describe().round()"
   ]
  },
  {
   "cell_type": "code",
   "execution_count": 10,
   "metadata": {},
   "outputs": [
    {
     "data": {
      "text/plain": [
       "ProductName      0\n",
       "Brand            0\n",
       "Price            0\n",
       "DiscountPrice    0\n",
       "Image_Url        0\n",
       "Quantity         0\n",
       "Category         0\n",
       "SubCategory      0\n",
       "Absolute_Url     0\n",
       "dtype: int64"
      ]
     },
     "execution_count": 10,
     "metadata": {},
     "output_type": "execute_result"
    }
   ],
   "source": [
    "df.isnull().sum()"
   ]
  },
  {
   "cell_type": "code",
   "execution_count": 14,
   "metadata": {},
   "outputs": [
    {
     "data": {
      "text/plain": [
       "<matplotlib.axes._subplots.AxesSubplot at 0x1e9c6069c40>"
      ]
     },
     "execution_count": 14,
     "metadata": {},
     "output_type": "execute_result"
    },
    {
     "data": {
      "image/png": "[encoded data removed]",
      "text/plain": [
       "<Figure size 432x288 with 2 Axes>"
      ]
     },
     "metadata": {},
     "output_type": "display_data"
    }
   ],
   "source": [
    "sb.heatmap(df.corr(), annot = True)"
   ]
  },
  {
   "cell_type": "code",
   "execution_count": 15,
   "metadata": {},
   "outputs": [
    {
     "data": {
      "text/plain": [
       "<matplotlib.axes._subplots.AxesSubplot at 0x1e9c9552940>"
      ]
     },
     "execution_count": 15,
     "metadata": {},
     "output_type": "execute_result"
    },
    {
     "data": {
      "image/png": "[encoded data removed]",
      "text/plain": [
       "<Figure size 432x288 with 1 Axes>"
      ]
     },
     "metadata": {},
     "output_type": "display_data"
    }
   ],
   "source": [
    "sb.distplot(df['Price'])"
   ]
  },
  {
   "cell_type": "code",
   "execution_count": 16,
   "metadata": {},
   "outputs": [
    {
     "data": {
      "text/plain": [
       "<matplotlib.axes._subplots.AxesSubplot at 0x1e9c956c550>"
      ]
     },
     "execution_count": 16,
     "metadata": {},
     "output_type": "execute_result"
    },
    {
     "data": {
      "image/png": "[encoded data removed]",
      "text/plain": [
       "<Figure size 432x288 with 1 Axes>"
      ]
     },
     "metadata": {},
     "output_type": "display_data"
    }
   ],
   "source": [
    "sb.distplot(df['DiscountPrice'])"
   ]
  },
  {
   "cell_type": "code",
   "execution_count": 19,
   "metadata": {},
   "outputs": [
    {
     "data": {
      "text/html": [
       "<div>\n",
       "<style scoped>\n",
       "    .dataframe tbody tr th:only-of-type {\n",
       "        vertical-align: middle;\n",
       "    }\n",
       "\n",
       "    .dataframe tbody tr th {\n",
       "        vertical-align: top;\n",
       "    }\n",
       "\n",
       "    .dataframe thead th {\n",
       "        text-align: right;\n",
       "    }\n",
       "</style>\n",
       "<table border=\"1\" class=\"dataframe\">\n",
       "  <thead>\n",
       "    <tr style=\"text-align: right;\">\n",
       "      <th></th>\n",
       "      <th>ProductName</th>\n",
       "      <th>Brand</th>\n",
       "      <th>Price</th>\n",
       "      <th>DiscountPrice</th>\n",
       "      <th>Image_Url</th>\n",
       "      <th>Quantity</th>\n",
       "      <th>Category</th>\n",
       "      <th>SubCategory</th>\n",
       "      <th>Absolute_Url</th>\n",
       "    </tr>\n",
       "  </thead>\n",
       "  <tbody>\n",
       "    <tr>\n",
       "      <th>0</th>\n",
       "      <td>Onion (Loose)</td>\n",
       "      <td>Fresho</td>\n",
       "      <td>69.75</td>\n",
       "      <td>52.0</td>\n",
       "      <td>https://www.bigbasket.com/media/uploads/p/l/40...</td>\n",
       "      <td>2 kg</td>\n",
       "      <td>Fruits &amp; Vegetables</td>\n",
       "      <td>Potato, Onion &amp; Tomato</td>\n",
       "      <td>https://www.bigbasket.com/pd/40075537/fresho-o...</td>\n",
       "    </tr>\n",
       "    <tr>\n",
       "      <th>1</th>\n",
       "      <td>Onion</td>\n",
       "      <td>Fresho</td>\n",
       "      <td>174.35</td>\n",
       "      <td>130.0</td>\n",
       "      <td>https://www.bigbasket.com/media/uploads/p/l/12...</td>\n",
       "      <td>5 kg</td>\n",
       "      <td>Fruits &amp; Vegetables</td>\n",
       "      <td>Potato, Onion &amp; Tomato</td>\n",
       "      <td>https://www.bigbasket.com/pd/1201414/fresho-on...</td>\n",
       "    </tr>\n",
       "    <tr>\n",
       "      <th>2</th>\n",
       "      <td>Onion (Loose)</td>\n",
       "      <td>Fresho</td>\n",
       "      <td>34.87</td>\n",
       "      <td>26.0</td>\n",
       "      <td>https://www.bigbasket.com/media/uploads/p/l/10...</td>\n",
       "      <td>1 kg</td>\n",
       "      <td>Fruits &amp; Vegetables</td>\n",
       "      <td>Potato, Onion &amp; Tomato</td>\n",
       "      <td>https://www.bigbasket.com/pd/10000148/fresho-o...</td>\n",
       "    </tr>\n",
       "    <tr>\n",
       "      <th>3</th>\n",
       "      <td>Onion</td>\n",
       "      <td>Fresho</td>\n",
       "      <td>69.74</td>\n",
       "      <td>52.0</td>\n",
       "      <td>https://www.bigbasket.com/media/uploads/p/l/12...</td>\n",
       "      <td>2 kg</td>\n",
       "      <td>Fruits &amp; Vegetables</td>\n",
       "      <td>Potato, Onion &amp; Tomato</td>\n",
       "      <td>https://www.bigbasket.com/pd/1201413/fresho-on...</td>\n",
       "    </tr>\n",
       "    <tr>\n",
       "      <th>4</th>\n",
       "      <td>Onion (Loose)</td>\n",
       "      <td>Fresho</td>\n",
       "      <td>174.37</td>\n",
       "      <td>129.0</td>\n",
       "      <td>https://www.bigbasket.com/media/uploads/p/l/10...</td>\n",
       "      <td>5 kg</td>\n",
       "      <td>Fruits &amp; Vegetables</td>\n",
       "      <td>Potato, Onion &amp; Tomato</td>\n",
       "      <td>https://www.bigbasket.com/pd/10000150/fresho-o...</td>\n",
       "    </tr>\n",
       "  </tbody>\n",
       "</table>\n",
       "</div>"
      ],
      "text/plain": [
       "     ProductName   Brand   Price  DiscountPrice  \\\n",
       "0  Onion (Loose)  Fresho   69.75           52.0   \n",
       "1          Onion  Fresho  174.35          130.0   \n",
       "2  Onion (Loose)  Fresho   34.87           26.0   \n",
       "3          Onion  Fresho   69.74           52.0   \n",
       "4  Onion (Loose)  Fresho  174.37          129.0   \n",
       "\n",
       "                                           Image_Url Quantity  \\\n",
       "0  https://www.bigbasket.com/media/uploads/p/l/40...     2 kg   \n",
       "1  https://www.bigbasket.com/media/uploads/p/l/12...     5 kg   \n",
       "2  https://www.bigbasket.com/media/uploads/p/l/10...     1 kg   \n",
       "3  https://www.bigbasket.com/media/uploads/p/l/12...     2 kg   \n",
       "4  https://www.bigbasket.com/media/uploads/p/l/10...     5 kg   \n",
       "\n",
       "              Category             SubCategory  \\\n",
       "0  Fruits & Vegetables  Potato, Onion & Tomato   \n",
       "1  Fruits & Vegetables  Potato, Onion & Tomato   \n",
       "2  Fruits & Vegetables  Potato, Onion & Tomato   \n",
       "3  Fruits & Vegetables  Potato, Onion & Tomato   \n",
       "4  Fruits & Vegetables  Potato, Onion & Tomato   \n",
       "\n",
       "                                        Absolute_Url  \n",
       "0  https://www.bigbasket.com/pd/40075537/fresho-o...  \n",
       "1  https://www.bigbasket.com/pd/1201414/fresho-on...  \n",
       "2  https://www.bigbasket.com/pd/10000148/fresho-o...  \n",
       "3  https://www.bigbasket.com/pd/1201413/fresho-on...  \n",
       "4  https://www.bigbasket.com/pd/10000150/fresho-o...  "
      ]
     },
     "execution_count": 19,
     "metadata": {},
     "output_type": "execute_result"
    }
   ],
   "source": [
    "df.head()"
   ]
  },
  {
   "cell_type": "code",
   "execution_count": 20,
   "metadata": {},
   "outputs": [],
   "source": [
    "df.drop(columns = ['Image_Url', 'Absolute_Url'], inplace = True)"
   ]
  },
  {
   "cell_type": "code",
   "execution_count": 27,
   "metadata": {},
   "outputs": [
    {
     "data": {
      "text/plain": [
       "Beauty & Hygiene            3789\n",
       "Kitchen, Garden & Pets      1321\n",
       "Foodgrains, Oil & Masala     718\n",
       "Cleaning & Household         562\n",
       "Gourmet & World Food         490\n",
       "Snacks & Branded Foods       408\n",
       "Eggs, Meat & Fish            360\n",
       "Bakery, Cakes & Dairy        169\n",
       "Beverages                    147\n",
       "Baby Care                    127\n",
       "Fruits & Vegetables          117\n",
       "Name: Category, dtype: int64"
      ]
     },
     "execution_count": 27,
     "metadata": {},
     "output_type": "execute_result"
    }
   ],
   "source": [
    "df['Category'].value_counts()"
   ]
  },
  {
   "cell_type": "code",
   "execution_count": 45,
   "metadata": {},
   "outputs": [
    {
     "data": {
      "text/html": [
       "<style  type=\"text/css\" >\n",
       "    #T_122ec96b_2172_11ed_a25c_d89d6798956drow0_col0 {\n",
       "            background-color:  #666666;\n",
       "            color:  #f1f1f1;\n",
       "        }    #T_122ec96b_2172_11ed_a25c_d89d6798956drow1_col0 {\n",
       "            background-color:  #ffff99;\n",
       "            color:  #000000;\n",
       "        }    #T_122ec96b_2172_11ed_a25c_d89d6798956drow2_col0 {\n",
       "            background-color:  #7fc97f;\n",
       "            color:  #000000;\n",
       "        }    #T_122ec96b_2172_11ed_a25c_d89d6798956drow3_col0 {\n",
       "            background-color:  #7fc97f;\n",
       "            color:  #000000;\n",
       "        }    #T_122ec96b_2172_11ed_a25c_d89d6798956drow4_col0 {\n",
       "            background-color:  #7fc97f;\n",
       "            color:  #000000;\n",
       "        }    #T_122ec96b_2172_11ed_a25c_d89d6798956drow5_col0 {\n",
       "            background-color:  #7fc97f;\n",
       "            color:  #000000;\n",
       "        }    #T_122ec96b_2172_11ed_a25c_d89d6798956drow6_col0 {\n",
       "            background-color:  #7fc97f;\n",
       "            color:  #000000;\n",
       "        }    #T_122ec96b_2172_11ed_a25c_d89d6798956drow7_col0 {\n",
       "            background-color:  #7fc97f;\n",
       "            color:  #000000;\n",
       "        }    #T_122ec96b_2172_11ed_a25c_d89d6798956drow8_col0 {\n",
       "            background-color:  #7fc97f;\n",
       "            color:  #000000;\n",
       "        }    #T_122ec96b_2172_11ed_a25c_d89d6798956drow9_col0 {\n",
       "            background-color:  #7fc97f;\n",
       "            color:  #000000;\n",
       "        }    #T_122ec96b_2172_11ed_a25c_d89d6798956drow10_col0 {\n",
       "            background-color:  #7fc97f;\n",
       "            color:  #000000;\n",
       "        }</style><table id=\"T_122ec96b_2172_11ed_a25c_d89d6798956d\" ><thead>    <tr>        <th class=\"blank level0\" ></th>        <th class=\"col_heading level0 col0\" >Price</th>    </tr>    <tr>        <th class=\"index_name level0\" >Category</th>        <th class=\"blank\" ></th>    </tr></thead><tbody>\n",
       "                <tr>\n",
       "                        <th id=\"T_122ec96b_2172_11ed_a25c_d89d6798956dlevel0_row0\" class=\"row_heading level0 row0\" >Beauty & Hygiene</th>\n",
       "                        <td id=\"T_122ec96b_2172_11ed_a25c_d89d6798956drow0_col0\" class=\"data row0 col0\" >2200268.850000</td>\n",
       "            </tr>\n",
       "            <tr>\n",
       "                        <th id=\"T_122ec96b_2172_11ed_a25c_d89d6798956dlevel0_row1\" class=\"row_heading level0 row1\" >Kitchen, Garden & Pets</th>\n",
       "                        <td id=\"T_122ec96b_2172_11ed_a25c_d89d6798956drow1_col0\" class=\"data row1 col0\" >977114.000000</td>\n",
       "            </tr>\n",
       "            <tr>\n",
       "                        <th id=\"T_122ec96b_2172_11ed_a25c_d89d6798956dlevel0_row2\" class=\"row_heading level0 row2\" >Cleaning & Household</th>\n",
       "                        <td id=\"T_122ec96b_2172_11ed_a25c_d89d6798956drow2_col0\" class=\"data row2 col0\" >280164.000000</td>\n",
       "            </tr>\n",
       "            <tr>\n",
       "                        <th id=\"T_122ec96b_2172_11ed_a25c_d89d6798956dlevel0_row3\" class=\"row_heading level0 row3\" >Eggs, Meat & Fish</th>\n",
       "                        <td id=\"T_122ec96b_2172_11ed_a25c_d89d6798956drow3_col0\" class=\"data row3 col0\" >250490.000000</td>\n",
       "            </tr>\n",
       "            <tr>\n",
       "                        <th id=\"T_122ec96b_2172_11ed_a25c_d89d6798956dlevel0_row4\" class=\"row_heading level0 row4\" >Foodgrains, Oil & Masala</th>\n",
       "                        <td id=\"T_122ec96b_2172_11ed_a25c_d89d6798956drow4_col0\" class=\"data row4 col0\" >239914.000000</td>\n",
       "            </tr>\n",
       "            <tr>\n",
       "                        <th id=\"T_122ec96b_2172_11ed_a25c_d89d6798956dlevel0_row5\" class=\"row_heading level0 row5\" >Gourmet & World Food</th>\n",
       "                        <td id=\"T_122ec96b_2172_11ed_a25c_d89d6798956drow5_col0\" class=\"data row5 col0\" >233804.000000</td>\n",
       "            </tr>\n",
       "            <tr>\n",
       "                        <th id=\"T_122ec96b_2172_11ed_a25c_d89d6798956dlevel0_row6\" class=\"row_heading level0 row6\" >Baby Care</th>\n",
       "                        <td id=\"T_122ec96b_2172_11ed_a25c_d89d6798956drow6_col0\" class=\"data row6 col0\" >113572.000000</td>\n",
       "            </tr>\n",
       "            <tr>\n",
       "                        <th id=\"T_122ec96b_2172_11ed_a25c_d89d6798956dlevel0_row7\" class=\"row_heading level0 row7\" >Snacks & Branded Foods</th>\n",
       "                        <td id=\"T_122ec96b_2172_11ed_a25c_d89d6798956drow7_col0\" class=\"data row7 col0\" >82652.000000</td>\n",
       "            </tr>\n",
       "            <tr>\n",
       "                        <th id=\"T_122ec96b_2172_11ed_a25c_d89d6798956dlevel0_row8\" class=\"row_heading level0 row8\" >Beverages</th>\n",
       "                        <td id=\"T_122ec96b_2172_11ed_a25c_d89d6798956drow8_col0\" class=\"data row8 col0\" >57851.000000</td>\n",
       "            </tr>\n",
       "            <tr>\n",
       "                        <th id=\"T_122ec96b_2172_11ed_a25c_d89d6798956dlevel0_row9\" class=\"row_heading level0 row9\" >Bakery, Cakes & Dairy</th>\n",
       "                        <td id=\"T_122ec96b_2172_11ed_a25c_d89d6798956drow9_col0\" class=\"data row9 col0\" >31937.000000</td>\n",
       "            </tr>\n",
       "            <tr>\n",
       "                        <th id=\"T_122ec96b_2172_11ed_a25c_d89d6798956dlevel0_row10\" class=\"row_heading level0 row10\" >Fruits & Vegetables</th>\n",
       "                        <td id=\"T_122ec96b_2172_11ed_a25c_d89d6798956drow10_col0\" class=\"data row10 col0\" >9028.930000</td>\n",
       "            </tr>\n",
       "    </tbody></table>"
      ],
      "text/plain": [
       "<pandas.io.formats.style.Styler at 0x1e9c9fa1c10>"
      ]
     },
     "execution_count": 45,
     "metadata": {},
     "output_type": "execute_result"
    }
   ],
   "source": [
    "cat_price = df.groupby('Category')\n",
    "round(cat_price['Price'].sum().sort_values(ascending = False).to_frame(), 2).style.background_gradient(cmap = 'Accent')"
   ]
  },
  {
   "cell_type": "code",
   "execution_count": null,
   "metadata": {},
   "outputs": [],
   "source": []
  }
 ],
 "metadata": {
  "kernelspec": {
   "display_name": "Python 3",
   "language": "python",
   "name": "python3"
  },
  "language_info": {
   "codemirror_mode": {
    "name": "ipython",
    "version": 3
   },
   "file_extension": ".py",
   "mimetype": "text/x-python",
   "name": "python",
   "nbconvert_exporter": "python",
   "pygments_lexer": "ipython3",
   "version": "3.8.1"
  }
 },
 "nbformat": 4,
 "nbformat_minor": 4
}
