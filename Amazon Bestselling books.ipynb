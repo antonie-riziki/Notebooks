{
 "cells": [
  {
   "cell_type": "markdown",
   "metadata": {},
   "source": [
    "# Bestselling Amazon Books"
   ]
  },
  {
   "cell_type": "code",
   "execution_count": 90,
   "metadata": {},
   "outputs": [],
   "source": [
    "import pandas as pd\n",
    "import numpy as np\n",
    "import seaborn as sb\n",
    "import matplotlib.pyplot as plt\n",
    "import missingno as msno\n",
    "import autoreload\n",
    "import csv\n",
    "import warnings\n",
    "import os\n",
    "import sys\n",
    "import re\n",
    "\n",
    "from collections import defaultdict, Counter\n",
    "\n",
    "from sklearn.feature_extraction.text import TfidfVectorizer\n",
    "from sklearn.metrics.pairwise import sigmoid_kernel\n",
    "\n",
    "pd.set_option('display.max_columns', 100)\n",
    "pd.set_option('display.max_rows', 1000)\n",
    "\n",
    "sb.set()\n",
    "sb.set_style('darkgrid')\n",
    "\n",
    "plt.style.use('seaborn')\n",
    "plt.tight_layout()\n",
    "\n",
    "%matplotlib inline\n",
    "%reload_ext autoreload\n",
    "%autoreload 2\n",
    "\n",
    "warnings.filterwarnings('ignore')"
   ]
  },
  {
   "cell_type": "code",
   "execution_count": 91,
   "metadata": {},
   "outputs": [
    {
     "data": {
      "text/html": [
       "<div>\n",
       "<style scoped>\n",
       "    .dataframe tbody tr th:only-of-type {\n",
       "        vertical-align: middle;\n",
       "    }\n",
       "\n",
       "    .dataframe tbody tr th {\n",
       "        vertical-align: top;\n",
       "    }\n",
       "\n",
       "    .dataframe thead th {\n",
       "        text-align: right;\n",
       "    }\n",
       "</style>\n",
       "<table border=\"1\" class=\"dataframe\">\n",
       "  <thead>\n",
       "    <tr style=\"text-align: right;\">\n",
       "      <th></th>\n",
       "      <th>Description</th>\n",
       "      <th>Price</th>\n",
       "      <th>Rating</th>\n",
       "      <th>ReviewCount</th>\n",
       "      <th>Url</th>\n",
       "    </tr>\n",
       "  </thead>\n",
       "  <tbody>\n",
       "    <tr>\n",
       "      <td>0</td>\n",
       "      <td>The 5 AM Club</td>\n",
       "      <td>140.0</td>\n",
       "      <td>4.5</td>\n",
       "      <td>23597</td>\n",
       "      <td>https://www.amazon.in//sspa/click?ie=UTF8&amp;spc=...</td>\n",
       "    </tr>\n",
       "    <tr>\n",
       "      <td>1</td>\n",
       "      <td>The Monk Who Sold His Ferrari</td>\n",
       "      <td>140.0</td>\n",
       "      <td>4.5</td>\n",
       "      <td>24949</td>\n",
       "      <td>https://www.amazon.in//sspa/click?ie=UTF8&amp;spc=...</td>\n",
       "    </tr>\n",
       "    <tr>\n",
       "      <td>2</td>\n",
       "      <td>The Power of Your Subconscious Mind</td>\n",
       "      <td>105.0</td>\n",
       "      <td>4.5</td>\n",
       "      <td>63010</td>\n",
       "      <td>https://www.amazon.in//Power-Your-Subconscious...</td>\n",
       "    </tr>\n",
       "    <tr>\n",
       "      <td>3</td>\n",
       "      <td>Life's Amazing Secrets: How to Find Balance an...</td>\n",
       "      <td>160.0</td>\n",
       "      <td>4.6</td>\n",
       "      <td>18379</td>\n",
       "      <td>https://www.amazon.in//Lifes-Amazing-Secrets-B...</td>\n",
       "    </tr>\n",
       "    <tr>\n",
       "      <td>4</td>\n",
       "      <td>Do It Today: Overcome Procrastination, Improve...</td>\n",
       "      <td>98.0</td>\n",
       "      <td>4.5</td>\n",
       "      <td>3206</td>\n",
       "      <td>https://www.amazon.in//Do-Today-procrastinatio...</td>\n",
       "    </tr>\n",
       "  </tbody>\n",
       "</table>\n",
       "</div>"
      ],
      "text/plain": [
       "                                         Description  Price  Rating  \\\n",
       "0                                      The 5 AM Club  140.0     4.5   \n",
       "1                      The Monk Who Sold His Ferrari  140.0     4.5   \n",
       "2                The Power of Your Subconscious Mind  105.0     4.5   \n",
       "3  Life's Amazing Secrets: How to Find Balance an...  160.0     4.6   \n",
       "4  Do It Today: Overcome Procrastination, Improve...   98.0     4.5   \n",
       "\n",
       "   ReviewCount                                                Url  \n",
       "0        23597  https://www.amazon.in//sspa/click?ie=UTF8&spc=...  \n",
       "1        24949  https://www.amazon.in//sspa/click?ie=UTF8&spc=...  \n",
       "2        63010  https://www.amazon.in//Power-Your-Subconscious...  \n",
       "3        18379  https://www.amazon.in//Lifes-Amazing-Secrets-B...  \n",
       "4         3206  https://www.amazon.in//Do-Today-procrastinatio...  "
      ]
     },
     "execution_count": 91,
     "metadata": {},
     "output_type": "execute_result"
    }
   ],
   "source": [
    "df = pd.read_csv(r\"D:\\Open Classroom\\Datasets\\Bestselling Books Amazon Dataset\\resultbook2.csv\")\n",
    "df.head()"
   ]
  },
  {
   "cell_type": "code",
   "execution_count": 92,
   "metadata": {},
   "outputs": [
    {
     "data": {
      "text/plain": [
       "(880, 5)"
      ]
     },
     "execution_count": 92,
     "metadata": {},
     "output_type": "execute_result"
    }
   ],
   "source": [
    "df.shape"
   ]
  },
  {
   "cell_type": "code",
   "execution_count": 93,
   "metadata": {},
   "outputs": [
    {
     "name": "stdout",
     "output_type": "stream",
     "text": [
      "<class 'pandas.core.frame.DataFrame'>\n",
      "RangeIndex: 880 entries, 0 to 879\n",
      "Data columns (total 5 columns):\n",
      "Description    880 non-null object\n",
      "Price          880 non-null float64\n",
      "Rating         880 non-null float64\n",
      "ReviewCount    880 non-null int64\n",
      "Url            880 non-null object\n",
      "dtypes: float64(2), int64(1), object(2)\n",
      "memory usage: 34.5+ KB\n"
     ]
    }
   ],
   "source": [
    "df.info()"
   ]
  },
  {
   "cell_type": "code",
   "execution_count": 94,
   "metadata": {},
   "outputs": [
    {
     "data": {
      "text/plain": [
       "Description    0\n",
       "Price          0\n",
       "Rating         0\n",
       "ReviewCount    0\n",
       "Url            0\n",
       "dtype: int64"
      ]
     },
     "execution_count": 94,
     "metadata": {},
     "output_type": "execute_result"
    }
   ],
   "source": [
    "df.isnull().sum()"
   ]
  },
  {
   "cell_type": "markdown",
   "metadata": {},
   "source": [
    "## Feature Engineering"
   ]
  },
  {
   "cell_type": "code",
   "execution_count": 95,
   "metadata": {},
   "outputs": [
    {
     "data": {
      "text/html": [
       "<div>\n",
       "<style scoped>\n",
       "    .dataframe tbody tr th:only-of-type {\n",
       "        vertical-align: middle;\n",
       "    }\n",
       "\n",
       "    .dataframe tbody tr th {\n",
       "        vertical-align: top;\n",
       "    }\n",
       "\n",
       "    .dataframe thead th {\n",
       "        text-align: right;\n",
       "    }\n",
       "</style>\n",
       "<table border=\"1\" class=\"dataframe\">\n",
       "  <thead>\n",
       "    <tr style=\"text-align: right;\">\n",
       "      <th></th>\n",
       "      <th>Description</th>\n",
       "      <th>Price</th>\n",
       "      <th>Rating</th>\n",
       "      <th>ReviewCount</th>\n",
       "      <th>Url</th>\n",
       "    </tr>\n",
       "  </thead>\n",
       "  <tbody>\n",
       "    <tr>\n",
       "      <td>0</td>\n",
       "      <td>The 5 AM Club</td>\n",
       "      <td>140.0</td>\n",
       "      <td>4.5</td>\n",
       "      <td>23597</td>\n",
       "      <td>https://www.amazon.in//sspa/click?ie=UTF8&amp;spc=...</td>\n",
       "    </tr>\n",
       "    <tr>\n",
       "      <td>1</td>\n",
       "      <td>The Monk Who Sold His Ferrari</td>\n",
       "      <td>140.0</td>\n",
       "      <td>4.5</td>\n",
       "      <td>24949</td>\n",
       "      <td>https://www.amazon.in//sspa/click?ie=UTF8&amp;spc=...</td>\n",
       "    </tr>\n",
       "    <tr>\n",
       "      <td>2</td>\n",
       "      <td>The Power of Your Subconscious Mind</td>\n",
       "      <td>105.0</td>\n",
       "      <td>4.5</td>\n",
       "      <td>63010</td>\n",
       "      <td>https://www.amazon.in//Power-Your-Subconscious...</td>\n",
       "    </tr>\n",
       "    <tr>\n",
       "      <td>3</td>\n",
       "      <td>Life's Amazing Secrets: How to Find Balance an...</td>\n",
       "      <td>160.0</td>\n",
       "      <td>4.6</td>\n",
       "      <td>18379</td>\n",
       "      <td>https://www.amazon.in//Lifes-Amazing-Secrets-B...</td>\n",
       "    </tr>\n",
       "    <tr>\n",
       "      <td>4</td>\n",
       "      <td>Do It Today: Overcome Procrastination, Improve...</td>\n",
       "      <td>98.0</td>\n",
       "      <td>4.5</td>\n",
       "      <td>3206</td>\n",
       "      <td>https://www.amazon.in//Do-Today-procrastinatio...</td>\n",
       "    </tr>\n",
       "  </tbody>\n",
       "</table>\n",
       "</div>"
      ],
      "text/plain": [
       "                                         Description  Price  Rating  \\\n",
       "0                                      The 5 AM Club  140.0     4.5   \n",
       "1                      The Monk Who Sold His Ferrari  140.0     4.5   \n",
       "2                The Power of Your Subconscious Mind  105.0     4.5   \n",
       "3  Life's Amazing Secrets: How to Find Balance an...  160.0     4.6   \n",
       "4  Do It Today: Overcome Procrastination, Improve...   98.0     4.5   \n",
       "\n",
       "   ReviewCount                                                Url  \n",
       "0        23597  https://www.amazon.in//sspa/click?ie=UTF8&spc=...  \n",
       "1        24949  https://www.amazon.in//sspa/click?ie=UTF8&spc=...  \n",
       "2        63010  https://www.amazon.in//Power-Your-Subconscious...  \n",
       "3        18379  https://www.amazon.in//Lifes-Amazing-Secrets-B...  \n",
       "4         3206  https://www.amazon.in//Do-Today-procrastinatio...  "
      ]
     },
     "execution_count": 95,
     "metadata": {},
     "output_type": "execute_result"
    }
   ],
   "source": [
    "df.head()"
   ]
  },
  {
   "cell_type": "code",
   "execution_count": 96,
   "metadata": {},
   "outputs": [],
   "source": [
    "def word_drop(text):\n",
    "    text = text.replace('/[^a-zA-Z0-9 ]/g', \"\")\n",
    "    return text"
   ]
  },
  {
   "cell_type": "code",
   "execution_count": 109,
   "metadata": {},
   "outputs": [],
   "source": [
    "df['Description'] = df['Description'].apply(word_drop)\n",
    "\n",
    "df['Description'] = df['Description'].apply(lambda x: x.lower())"
   ]
  },
  {
   "cell_type": "code",
   "execution_count": 110,
   "metadata": {},
   "outputs": [],
   "source": [
    "tf_vect = TfidfVectorizer(min_df=3, max_features=None, ngram_range=(1,3), \n",
    "                          stop_words='english', strip_accents='unicode')"
   ]
  },
  {
   "cell_type": "code",
   "execution_count": 111,
   "metadata": {},
   "outputs": [],
   "source": [
    "df['Description'] = df['Description'].fillna('')"
   ]
  },
  {
   "cell_type": "code",
   "execution_count": 112,
   "metadata": {},
   "outputs": [],
   "source": [
    "desc_matrix = tf_vect.fit_transform(df['Description'])"
   ]
  },
  {
   "cell_type": "code",
   "execution_count": 113,
   "metadata": {},
   "outputs": [],
   "source": [
    "sig = sigmoid_kernel(desc_matrix, desc_matrix)"
   ]
  },
  {
   "cell_type": "code",
   "execution_count": 114,
   "metadata": {},
   "outputs": [
    {
     "data": {
      "text/plain": [
       "Description\n",
       "the 5 am club                                                                                                                                     0\n",
       "the monk who sold his ferrari                                                                                                                     1\n",
       "the power of your subconscious mind                                                                                                               2\n",
       "life's amazing secrets: how to find balance and purpose in your life | inspirational zen book on motivation, self-development & healthy living    3\n",
       "do it today: overcome procrastination, improve productivity                                                                                       4\n",
       "dtype: int64"
      ]
     },
     "execution_count": 114,
     "metadata": {},
     "output_type": "execute_result"
    }
   ],
   "source": [
    "indices = pd.Series(df.index, df['Description']).drop_duplicates()\n",
    "indices.head()"
   ]
  },
  {
   "cell_type": "code",
   "execution_count": 117,
   "metadata": {},
   "outputs": [
    {
     "data": {
      "text/plain": [
       "the monk who sold his ferrari     1\n",
       "the monk who sold his ferrari    23\n",
       "the monk who sold his ferrari    45\n",
       "dtype: int64"
      ]
     },
     "execution_count": 117,
     "metadata": {},
     "output_type": "execute_result"
    }
   ],
   "source": [
    "indices['the monk who sold his ferrari'][0:3]"
   ]
  },
  {
   "cell_type": "code",
   "execution_count": 118,
   "metadata": {},
   "outputs": [
    {
     "data": {
      "text/plain": [
       "[(0, 0.7615941559557649),\n",
       " (1, 0.762639486019134),\n",
       " (2, 0.7615941559557649),\n",
       " (3, 0.7615941559557649),\n",
       " (4, 0.7615941559557649),\n",
       " (5, 0.7615941559557649),\n",
       " (6, 0.7615941559557649),\n",
       " (7, 0.7615941559557649),\n",
       " (8, 0.7615941559557649),\n",
       " (9, 0.7615941559557649)]"
      ]
     },
     "execution_count": 118,
     "metadata": {},
     "output_type": "execute_result"
    }
   ],
   "source": [
    "sorted(list(enumerate(sig[1]))[:10])"
   ]
  },
  {
   "cell_type": "code",
   "execution_count": 127,
   "metadata": {},
   "outputs": [],
   "source": [
    "def run_experiment(text, sig=sig):\n",
    "    \n",
    "    bk_list = [x for x in df['Description']]\n",
    "    \n",
    "    if text in bk_list:\n",
    "    \n",
    "        idx = indices[text]\n",
    "\n",
    "        idx_list = list(enumerate(idx))\n",
    "\n",
    "        sort_list = sorted(idx_list, key = lambda x: x[1], reverse = True)\n",
    "\n",
    "        top_ten = sort_list[0:10]\n",
    "\n",
    "        book_rec = [x[0] for x in top_ten]\n",
    "\n",
    "        return df[['Description', 'Price', 'Rating', 'ReviewCount']].iloc[book_rec].sort_values(by = ['Rating', 'ReviewCount'], ascending = False)\n",
    "    \n",
    "    else:\n",
    "        print('__DATABASE ERROR___ During handling of the above exception, another exception occurred: InvalidIndexError(key)')\n",
    "        print('BOOK DESCRIPTION NOT FOUND')"
   ]
  },
  {
   "cell_type": "code",
   "execution_count": 129,
   "metadata": {},
   "outputs": [
    {
     "data": {
      "text/html": [
       "<div>\n",
       "<style scoped>\n",
       "    .dataframe tbody tr th:only-of-type {\n",
       "        vertical-align: middle;\n",
       "    }\n",
       "\n",
       "    .dataframe tbody tr th {\n",
       "        vertical-align: top;\n",
       "    }\n",
       "\n",
       "    .dataframe thead th {\n",
       "        text-align: right;\n",
       "    }\n",
       "</style>\n",
       "<table border=\"1\" class=\"dataframe\">\n",
       "  <thead>\n",
       "    <tr style=\"text-align: right;\">\n",
       "      <th></th>\n",
       "      <th>Description</th>\n",
       "      <th>Price</th>\n",
       "      <th>Rating</th>\n",
       "      <th>ReviewCount</th>\n",
       "    </tr>\n",
       "  </thead>\n",
       "  <tbody>\n",
       "    <tr>\n",
       "      <td>33</td>\n",
       "      <td>atomic habits: the life-changing million copy ...</td>\n",
       "      <td>414.00</td>\n",
       "      <td>4.7</td>\n",
       "      <td>59382</td>\n",
       "    </tr>\n",
       "    <tr>\n",
       "      <td>35</td>\n",
       "      <td>grandparents' bag of stories</td>\n",
       "      <td>152.00</td>\n",
       "      <td>4.7</td>\n",
       "      <td>4000</td>\n",
       "    </tr>\n",
       "    <tr>\n",
       "      <td>32</td>\n",
       "      <td>ikigai: the japanese secret to a long and happ...</td>\n",
       "      <td>257.00</td>\n",
       "      <td>4.6</td>\n",
       "      <td>39026</td>\n",
       "    </tr>\n",
       "    <tr>\n",
       "      <td>38</td>\n",
       "      <td>rich dad poor dad : what the rich teach their ...</td>\n",
       "      <td>395.00</td>\n",
       "      <td>4.6</td>\n",
       "      <td>13899</td>\n",
       "    </tr>\n",
       "    <tr>\n",
       "      <td>31</td>\n",
       "      <td>wise and otherwise: a salute to life</td>\n",
       "      <td>185.00</td>\n",
       "      <td>4.6</td>\n",
       "      <td>5250</td>\n",
       "    </tr>\n",
       "    <tr>\n",
       "      <td>30</td>\n",
       "      <td>the subtle art of not giving a f*ck: a counter...</td>\n",
       "      <td>151.05</td>\n",
       "      <td>4.5</td>\n",
       "      <td>79543</td>\n",
       "    </tr>\n",
       "    <tr>\n",
       "      <td>36</td>\n",
       "      <td>the richest man in babylon</td>\n",
       "      <td>99.00</td>\n",
       "      <td>4.5</td>\n",
       "      <td>32538</td>\n",
       "    </tr>\n",
       "    <tr>\n",
       "      <td>39</td>\n",
       "      <td>brain activity book for kids - 200+ activities...</td>\n",
       "      <td>95.00</td>\n",
       "      <td>4.5</td>\n",
       "      <td>2149</td>\n",
       "    </tr>\n",
       "    <tr>\n",
       "      <td>34</td>\n",
       "      <td>the power of a positive attitude: your road to...</td>\n",
       "      <td>99.00</td>\n",
       "      <td>4.4</td>\n",
       "      <td>2739</td>\n",
       "    </tr>\n",
       "    <tr>\n",
       "      <td>37</td>\n",
       "      <td>think straight: change your thoughts, change y...</td>\n",
       "      <td>198.00</td>\n",
       "      <td>4.3</td>\n",
       "      <td>4833</td>\n",
       "    </tr>\n",
       "  </tbody>\n",
       "</table>\n",
       "</div>"
      ],
      "text/plain": [
       "                                          Description   Price  Rating  \\\n",
       "33  atomic habits: the life-changing million copy ...  414.00     4.7   \n",
       "35                       grandparents' bag of stories  152.00     4.7   \n",
       "32  ikigai: the japanese secret to a long and happ...  257.00     4.6   \n",
       "38  rich dad poor dad : what the rich teach their ...  395.00     4.6   \n",
       "31               wise and otherwise: a salute to life  185.00     4.6   \n",
       "30  the subtle art of not giving a f*ck: a counter...  151.05     4.5   \n",
       "36                         the richest man in babylon   99.00     4.5   \n",
       "39  brain activity book for kids - 200+ activities...   95.00     4.5   \n",
       "34  the power of a positive attitude: your road to...   99.00     4.4   \n",
       "37  think straight: change your thoughts, change y...  198.00     4.3   \n",
       "\n",
       "    ReviewCount  \n",
       "33        59382  \n",
       "35         4000  \n",
       "32        39026  \n",
       "38        13899  \n",
       "31         5250  \n",
       "30        79543  \n",
       "36        32538  \n",
       "39         2149  \n",
       "34         2739  \n",
       "37         4833  "
      ]
     },
     "execution_count": 129,
     "metadata": {},
     "output_type": "execute_result"
    }
   ],
   "source": [
    "run_experiment(\"grandparents' bag of stories\")"
   ]
  },
  {
   "cell_type": "code",
   "execution_count": 130,
   "metadata": {},
   "outputs": [
    {
     "data": {
      "text/html": [
       "<div>\n",
       "<style scoped>\n",
       "    .dataframe tbody tr th:only-of-type {\n",
       "        vertical-align: middle;\n",
       "    }\n",
       "\n",
       "    .dataframe tbody tr th {\n",
       "        vertical-align: top;\n",
       "    }\n",
       "\n",
       "    .dataframe thead th {\n",
       "        text-align: right;\n",
       "    }\n",
       "</style>\n",
       "<table border=\"1\" class=\"dataframe\">\n",
       "  <thead>\n",
       "    <tr style=\"text-align: right;\">\n",
       "      <th></th>\n",
       "      <th>Description</th>\n",
       "      <th>Price</th>\n",
       "      <th>Rating</th>\n",
       "      <th>ReviewCount</th>\n",
       "    </tr>\n",
       "  </thead>\n",
       "  <tbody>\n",
       "    <tr>\n",
       "      <td>33</td>\n",
       "      <td>atomic habits: the life-changing million copy ...</td>\n",
       "      <td>414.00</td>\n",
       "      <td>4.7</td>\n",
       "      <td>59382</td>\n",
       "    </tr>\n",
       "    <tr>\n",
       "      <td>35</td>\n",
       "      <td>grandparents' bag of stories</td>\n",
       "      <td>152.00</td>\n",
       "      <td>4.7</td>\n",
       "      <td>4000</td>\n",
       "    </tr>\n",
       "    <tr>\n",
       "      <td>32</td>\n",
       "      <td>ikigai: the japanese secret to a long and happ...</td>\n",
       "      <td>257.00</td>\n",
       "      <td>4.6</td>\n",
       "      <td>39026</td>\n",
       "    </tr>\n",
       "    <tr>\n",
       "      <td>38</td>\n",
       "      <td>rich dad poor dad : what the rich teach their ...</td>\n",
       "      <td>395.00</td>\n",
       "      <td>4.6</td>\n",
       "      <td>13899</td>\n",
       "    </tr>\n",
       "    <tr>\n",
       "      <td>31</td>\n",
       "      <td>wise and otherwise: a salute to life</td>\n",
       "      <td>185.00</td>\n",
       "      <td>4.6</td>\n",
       "      <td>5250</td>\n",
       "    </tr>\n",
       "    <tr>\n",
       "      <td>30</td>\n",
       "      <td>the subtle art of not giving a f*ck: a counter...</td>\n",
       "      <td>151.05</td>\n",
       "      <td>4.5</td>\n",
       "      <td>79543</td>\n",
       "    </tr>\n",
       "    <tr>\n",
       "      <td>36</td>\n",
       "      <td>the richest man in babylon</td>\n",
       "      <td>99.00</td>\n",
       "      <td>4.5</td>\n",
       "      <td>32538</td>\n",
       "    </tr>\n",
       "    <tr>\n",
       "      <td>39</td>\n",
       "      <td>brain activity book for kids - 200+ activities...</td>\n",
       "      <td>95.00</td>\n",
       "      <td>4.5</td>\n",
       "      <td>2149</td>\n",
       "    </tr>\n",
       "    <tr>\n",
       "      <td>34</td>\n",
       "      <td>the power of a positive attitude: your road to...</td>\n",
       "      <td>99.00</td>\n",
       "      <td>4.4</td>\n",
       "      <td>2739</td>\n",
       "    </tr>\n",
       "    <tr>\n",
       "      <td>37</td>\n",
       "      <td>think straight: change your thoughts, change y...</td>\n",
       "      <td>198.00</td>\n",
       "      <td>4.3</td>\n",
       "      <td>4833</td>\n",
       "    </tr>\n",
       "  </tbody>\n",
       "</table>\n",
       "</div>"
      ],
      "text/plain": [
       "                                          Description   Price  Rating  \\\n",
       "33  atomic habits: the life-changing million copy ...  414.00     4.7   \n",
       "35                       grandparents' bag of stories  152.00     4.7   \n",
       "32  ikigai: the japanese secret to a long and happ...  257.00     4.6   \n",
       "38  rich dad poor dad : what the rich teach their ...  395.00     4.6   \n",
       "31               wise and otherwise: a salute to life  185.00     4.6   \n",
       "30  the subtle art of not giving a f*ck: a counter...  151.05     4.5   \n",
       "36                         the richest man in babylon   99.00     4.5   \n",
       "39  brain activity book for kids - 200+ activities...   95.00     4.5   \n",
       "34  the power of a positive attitude: your road to...   99.00     4.4   \n",
       "37  think straight: change your thoughts, change y...  198.00     4.3   \n",
       "\n",
       "    ReviewCount  \n",
       "33        59382  \n",
       "35         4000  \n",
       "32        39026  \n",
       "38        13899  \n",
       "31         5250  \n",
       "30        79543  \n",
       "36        32538  \n",
       "39         2149  \n",
       "34         2739  \n",
       "37         4833  "
      ]
     },
     "execution_count": 130,
     "metadata": {},
     "output_type": "execute_result"
    }
   ],
   "source": [
    "run_experiment('the 5 am club')"
   ]
  },
  {
   "cell_type": "code",
   "execution_count": 131,
   "metadata": {},
   "outputs": [
    {
     "name": "stdout",
     "output_type": "stream",
     "text": [
      "__DATABASE ERROR___ During handling of the above exception, another exception occurred: InvalidIndexError(key)\n",
      "BOOK DESCRIPTION NOT FOUND\n"
     ]
    }
   ],
   "source": [
    "run_experiment('5 am club')"
   ]
  },
  {
   "cell_type": "code",
   "execution_count": null,
   "metadata": {},
   "outputs": [],
   "source": []
  }
 ],
 "metadata": {
  "kernelspec": {
   "display_name": "Python 3",
   "language": "python",
   "name": "python3"
  },
  "language_info": {
   "codemirror_mode": {
    "name": "ipython",
    "version": 3
   },
   "file_extension": ".py",
   "mimetype": "text/x-python",
   "name": "python",
   "nbconvert_exporter": "python",
   "pygments_lexer": "ipython3",
   "version": "3.7.4"
  }
 },
 "nbformat": 4,
 "nbformat_minor": 4
}
