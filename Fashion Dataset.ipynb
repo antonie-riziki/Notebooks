{
 "cells": [
  {
   "cell_type": "markdown",
   "metadata": {},
   "source": [
    "# UK & US FASHION DATASET"
   ]
  },
  {
   "cell_type": "code",
   "execution_count": 284,
   "metadata": {},
   "outputs": [],
   "source": [
    "import pandas as pd\n",
    "import numpy as np\n",
    "import seaborn as sb\n",
    "import matplotlib.pyplot as plt\n",
    "import autoreload\n",
    "import missingno as msno\n",
    "import os\n",
    "import sys\n",
    "import csv\n",
    "\n",
    "from collections import defaultdict, Counter\n",
    "from sklearn.preprocessing import LabelEncoder\n",
    "\n",
    "%matplotlib inline\n",
    "\n",
    "pd.set_option('display.max_columns', 100)\n",
    "pd.set_option('display.max_rows', 1000)\n",
    "\n",
    "sb.set()\n",
    "sb.set_style('whitegrid')"
   ]
  },
  {
   "cell_type": "code",
   "execution_count": 285,
   "metadata": {},
   "outputs": [
    {
     "data": {
      "text/html": [
       "<div>\n",
       "<style scoped>\n",
       "    .dataframe tbody tr th:only-of-type {\n",
       "        vertical-align: middle;\n",
       "    }\n",
       "\n",
       "    .dataframe tbody tr th {\n",
       "        vertical-align: top;\n",
       "    }\n",
       "\n",
       "    .dataframe thead th {\n",
       "        text-align: right;\n",
       "    }\n",
       "</style>\n",
       "<table border=\"1\" class=\"dataframe\">\n",
       "  <thead>\n",
       "    <tr style=\"text-align: right;\">\n",
       "      <th></th>\n",
       "      <th>Product Name</th>\n",
       "      <th>Price</th>\n",
       "      <th>Brand</th>\n",
       "      <th>Category</th>\n",
       "      <th>Description</th>\n",
       "      <th>Rating</th>\n",
       "      <th>Review Count</th>\n",
       "      <th>Style Attributes</th>\n",
       "      <th>Total Sizes</th>\n",
       "      <th>Available Sizes</th>\n",
       "      <th>Color</th>\n",
       "      <th>Purchase History</th>\n",
       "      <th>Age</th>\n",
       "      <th>Fashion Magazines</th>\n",
       "      <th>Fashion Influencers</th>\n",
       "      <th>Season</th>\n",
       "      <th>Time Period Highest Purchase</th>\n",
       "      <th>Customer Reviews</th>\n",
       "      <th>Social Media Comments</th>\n",
       "      <th>feedback</th>\n",
       "    </tr>\n",
       "  </thead>\n",
       "  <tbody>\n",
       "    <tr>\n",
       "      <td>0</td>\n",
       "      <td>T5D3</td>\n",
       "      <td>97.509966</td>\n",
       "      <td>Ralph Lauren</td>\n",
       "      <td>Footwear</td>\n",
       "      <td>Bad</td>\n",
       "      <td>1.421706</td>\n",
       "      <td>492</td>\n",
       "      <td>Streetwear</td>\n",
       "      <td>M, L, XL</td>\n",
       "      <td>XL</td>\n",
       "      <td>Green</td>\n",
       "      <td>Medium</td>\n",
       "      <td>24.0</td>\n",
       "      <td>Vogue</td>\n",
       "      <td>Chiara Ferragni</td>\n",
       "      <td>Fall/Winter</td>\n",
       "      <td>Daytime</td>\n",
       "      <td>Mixed</td>\n",
       "      <td>Mixed</td>\n",
       "      <td>Other</td>\n",
       "    </tr>\n",
       "    <tr>\n",
       "      <td>1</td>\n",
       "      <td>Y0V7</td>\n",
       "      <td>52.341277</td>\n",
       "      <td>Ted Baker</td>\n",
       "      <td>Tops</td>\n",
       "      <td>Not Good</td>\n",
       "      <td>1.037677</td>\n",
       "      <td>57</td>\n",
       "      <td>Vintage</td>\n",
       "      <td>M, L, XL</td>\n",
       "      <td>XL</td>\n",
       "      <td>Black</td>\n",
       "      <td>Above Average</td>\n",
       "      <td>61.0</td>\n",
       "      <td>Glamour</td>\n",
       "      <td>Leandra Medine</td>\n",
       "      <td>Winter</td>\n",
       "      <td>Weekend</td>\n",
       "      <td>Negative</td>\n",
       "      <td>Neutral</td>\n",
       "      <td>Other</td>\n",
       "    </tr>\n",
       "    <tr>\n",
       "      <td>2</td>\n",
       "      <td>N9Q4</td>\n",
       "      <td>15.430975</td>\n",
       "      <td>Jigsaw</td>\n",
       "      <td>Footwear</td>\n",
       "      <td>Very Bad</td>\n",
       "      <td>3.967106</td>\n",
       "      <td>197</td>\n",
       "      <td>Streetwear</td>\n",
       "      <td>S, M, L</td>\n",
       "      <td>M</td>\n",
       "      <td>Blue</td>\n",
       "      <td>Average</td>\n",
       "      <td>27.0</td>\n",
       "      <td>Marie Claire</td>\n",
       "      <td>Gigi Hadid</td>\n",
       "      <td>Summer</td>\n",
       "      <td>Nighttime</td>\n",
       "      <td>Unknown</td>\n",
       "      <td>Negative</td>\n",
       "      <td>Neutral</td>\n",
       "    </tr>\n",
       "    <tr>\n",
       "      <td>3</td>\n",
       "      <td>V2T6</td>\n",
       "      <td>81.116542</td>\n",
       "      <td>Alexander McQueen</td>\n",
       "      <td>Outerwear</td>\n",
       "      <td>Not Good</td>\n",
       "      <td>2.844659</td>\n",
       "      <td>473</td>\n",
       "      <td>Formal</td>\n",
       "      <td>S, M, L</td>\n",
       "      <td>L</td>\n",
       "      <td>Red</td>\n",
       "      <td>Very High</td>\n",
       "      <td>50.0</td>\n",
       "      <td>Marie Claire</td>\n",
       "      <td>Chiara Ferragni</td>\n",
       "      <td>Fall/Winter</td>\n",
       "      <td>Weekend</td>\n",
       "      <td>Neutral</td>\n",
       "      <td>Other</td>\n",
       "      <td>Other</td>\n",
       "    </tr>\n",
       "    <tr>\n",
       "      <td>4</td>\n",
       "      <td>S7Y1</td>\n",
       "      <td>31.633686</td>\n",
       "      <td>Tommy Hilfiger</td>\n",
       "      <td>Bottoms</td>\n",
       "      <td>Very Good</td>\n",
       "      <td>1.183242</td>\n",
       "      <td>55</td>\n",
       "      <td>Sporty</td>\n",
       "      <td>M, L, XL</td>\n",
       "      <td>S</td>\n",
       "      <td>Green</td>\n",
       "      <td>Above Average</td>\n",
       "      <td>23.0</td>\n",
       "      <td>Glamour</td>\n",
       "      <td>Song of Style</td>\n",
       "      <td>Spring</td>\n",
       "      <td>Daytime</td>\n",
       "      <td>Positive</td>\n",
       "      <td>Mixed</td>\n",
       "      <td>Positive</td>\n",
       "    </tr>\n",
       "  </tbody>\n",
       "</table>\n",
       "</div>"
      ],
      "text/plain": [
       "  Product Name      Price              Brand   Category Description    Rating  \\\n",
       "0         T5D3  97.509966       Ralph Lauren   Footwear         Bad  1.421706   \n",
       "1         Y0V7  52.341277          Ted Baker       Tops    Not Good  1.037677   \n",
       "2         N9Q4  15.430975             Jigsaw   Footwear    Very Bad  3.967106   \n",
       "3         V2T6  81.116542  Alexander McQueen  Outerwear    Not Good  2.844659   \n",
       "4         S7Y1  31.633686     Tommy Hilfiger    Bottoms   Very Good  1.183242   \n",
       "\n",
       "   Review Count Style Attributes Total Sizes Available Sizes  Color  \\\n",
       "0           492       Streetwear    M, L, XL              XL  Green   \n",
       "1            57          Vintage    M, L, XL              XL  Black   \n",
       "2           197       Streetwear     S, M, L               M   Blue   \n",
       "3           473           Formal     S, M, L               L    Red   \n",
       "4            55           Sporty    M, L, XL               S  Green   \n",
       "\n",
       "  Purchase History   Age Fashion Magazines Fashion Influencers       Season  \\\n",
       "0           Medium  24.0             Vogue     Chiara Ferragni  Fall/Winter   \n",
       "1    Above Average  61.0           Glamour      Leandra Medine       Winter   \n",
       "2          Average  27.0      Marie Claire          Gigi Hadid       Summer   \n",
       "3        Very High  50.0      Marie Claire     Chiara Ferragni  Fall/Winter   \n",
       "4    Above Average  23.0           Glamour       Song of Style       Spring   \n",
       "\n",
       "  Time Period Highest Purchase Customer Reviews Social Media Comments  \\\n",
       "0                      Daytime            Mixed                 Mixed   \n",
       "1                      Weekend         Negative               Neutral   \n",
       "2                    Nighttime          Unknown              Negative   \n",
       "3                      Weekend          Neutral                 Other   \n",
       "4                      Daytime         Positive                 Mixed   \n",
       "\n",
       "   feedback  \n",
       "0     Other  \n",
       "1     Other  \n",
       "2   Neutral  \n",
       "3     Other  \n",
       "4  Positive  "
      ]
     },
     "execution_count": 285,
     "metadata": {},
     "output_type": "execute_result"
    }
   ],
   "source": [
    "df = pd.read_csv(\"D:\\Open Classroom\\Datasets\\Fashion Dataset UK-US\\mock_fashion_data_uk_us.csv\")\n",
    "df.head()"
   ]
  },
  {
   "cell_type": "code",
   "execution_count": 286,
   "metadata": {},
   "outputs": [
    {
     "name": "stdout",
     "output_type": "stream",
     "text": [
      "<class 'pandas.core.frame.DataFrame'>\n",
      "RangeIndex: 261634 entries, 0 to 261633\n",
      "Data columns (total 20 columns):\n",
      "Product Name                    261634 non-null object\n",
      "Price                           261634 non-null float64\n",
      "Brand                           261634 non-null object\n",
      "Category                        261634 non-null object\n",
      "Description                     261634 non-null object\n",
      "Rating                          261634 non-null float64\n",
      "Review Count                    261634 non-null int64\n",
      "Style Attributes                261634 non-null object\n",
      "Total Sizes                     261633 non-null object\n",
      "Available Sizes                 261633 non-null object\n",
      "Color                           261633 non-null object\n",
      "Purchase History                261633 non-null object\n",
      "Age                             261633 non-null float64\n",
      "Fashion Magazines               261633 non-null object\n",
      "Fashion Influencers             261633 non-null object\n",
      "Season                          261633 non-null object\n",
      "Time Period Highest Purchase    261633 non-null object\n",
      "Customer Reviews                261633 non-null object\n",
      "Social Media Comments           261633 non-null object\n",
      "feedback                        261633 non-null object\n",
      "dtypes: float64(3), int64(1), object(16)\n",
      "memory usage: 39.9+ MB\n"
     ]
    }
   ],
   "source": [
    "df.info()"
   ]
  },
  {
   "cell_type": "code",
   "execution_count": 287,
   "metadata": {},
   "outputs": [
    {
     "data": {
      "text/plain": [
       "Product Name                    0\n",
       "Price                           0\n",
       "Brand                           0\n",
       "Category                        0\n",
       "Description                     0\n",
       "Rating                          0\n",
       "Review Count                    0\n",
       "Style Attributes                0\n",
       "Total Sizes                     1\n",
       "Available Sizes                 1\n",
       "Color                           1\n",
       "Purchase History                1\n",
       "Age                             1\n",
       "Fashion Magazines               1\n",
       "Fashion Influencers             1\n",
       "Season                          1\n",
       "Time Period Highest Purchase    1\n",
       "Customer Reviews                1\n",
       "Social Media Comments           1\n",
       "feedback                        1\n",
       "dtype: int64"
      ]
     },
     "execution_count": 287,
     "metadata": {},
     "output_type": "execute_result"
    }
   ],
   "source": [
    "df.isnull().sum()"
   ]
  },
  {
   "cell_type": "code",
   "execution_count": 288,
   "metadata": {},
   "outputs": [
    {
     "data": {
      "text/plain": [
       "<matplotlib.axes._subplots.AxesSubplot at 0x19b8154f8c8>"
      ]
     },
     "execution_count": 288,
     "metadata": {},
     "output_type": "execute_result"
    },
    {
     "data": {
      "image/png": "[encoded data removed]",
      "text/plain": [
       "<Figure size 432x288 with 2 Axes>"
      ]
     },
     "metadata": {},
     "output_type": "display_data"
    }
   ],
   "source": [
    "sb.heatmap(df.corr(), annot=True)"
   ]
  },
  {
   "cell_type": "code",
   "execution_count": 289,
   "metadata": {},
   "outputs": [
    {
     "data": {
      "text/html": [
       "<div>\n",
       "<style scoped>\n",
       "    .dataframe tbody tr th:only-of-type {\n",
       "        vertical-align: middle;\n",
       "    }\n",
       "\n",
       "    .dataframe tbody tr th {\n",
       "        vertical-align: top;\n",
       "    }\n",
       "\n",
       "    .dataframe thead th {\n",
       "        text-align: right;\n",
       "    }\n",
       "</style>\n",
       "<table border=\"1\" class=\"dataframe\">\n",
       "  <thead>\n",
       "    <tr style=\"text-align: right;\">\n",
       "      <th></th>\n",
       "      <th>Product Name</th>\n",
       "      <th>Price</th>\n",
       "      <th>Brand</th>\n",
       "      <th>Category</th>\n",
       "      <th>Description</th>\n",
       "      <th>Rating</th>\n",
       "      <th>Review Count</th>\n",
       "      <th>Style Attributes</th>\n",
       "      <th>Total Sizes</th>\n",
       "      <th>Available Sizes</th>\n",
       "      <th>Color</th>\n",
       "      <th>Purchase History</th>\n",
       "      <th>Age</th>\n",
       "      <th>Fashion Magazines</th>\n",
       "      <th>Fashion Influencers</th>\n",
       "      <th>Season</th>\n",
       "      <th>Time Period Highest Purchase</th>\n",
       "      <th>Customer Reviews</th>\n",
       "      <th>Social Media Comments</th>\n",
       "      <th>feedback</th>\n",
       "    </tr>\n",
       "  </thead>\n",
       "  <tbody>\n",
       "    <tr>\n",
       "      <td>0</td>\n",
       "      <td>T5D3</td>\n",
       "      <td>97.509966</td>\n",
       "      <td>Ralph Lauren</td>\n",
       "      <td>Footwear</td>\n",
       "      <td>Bad</td>\n",
       "      <td>1.421706</td>\n",
       "      <td>492</td>\n",
       "      <td>Streetwear</td>\n",
       "      <td>M, L, XL</td>\n",
       "      <td>XL</td>\n",
       "      <td>Green</td>\n",
       "      <td>Medium</td>\n",
       "      <td>24.0</td>\n",
       "      <td>Vogue</td>\n",
       "      <td>Chiara Ferragni</td>\n",
       "      <td>Fall/Winter</td>\n",
       "      <td>Daytime</td>\n",
       "      <td>Mixed</td>\n",
       "      <td>Mixed</td>\n",
       "      <td>Other</td>\n",
       "    </tr>\n",
       "    <tr>\n",
       "      <td>1</td>\n",
       "      <td>Y0V7</td>\n",
       "      <td>52.341277</td>\n",
       "      <td>Ted Baker</td>\n",
       "      <td>Tops</td>\n",
       "      <td>Not Good</td>\n",
       "      <td>1.037677</td>\n",
       "      <td>57</td>\n",
       "      <td>Vintage</td>\n",
       "      <td>M, L, XL</td>\n",
       "      <td>XL</td>\n",
       "      <td>Black</td>\n",
       "      <td>Above Average</td>\n",
       "      <td>61.0</td>\n",
       "      <td>Glamour</td>\n",
       "      <td>Leandra Medine</td>\n",
       "      <td>Winter</td>\n",
       "      <td>Weekend</td>\n",
       "      <td>Negative</td>\n",
       "      <td>Neutral</td>\n",
       "      <td>Other</td>\n",
       "    </tr>\n",
       "    <tr>\n",
       "      <td>2</td>\n",
       "      <td>N9Q4</td>\n",
       "      <td>15.430975</td>\n",
       "      <td>Jigsaw</td>\n",
       "      <td>Footwear</td>\n",
       "      <td>Very Bad</td>\n",
       "      <td>3.967106</td>\n",
       "      <td>197</td>\n",
       "      <td>Streetwear</td>\n",
       "      <td>S, M, L</td>\n",
       "      <td>M</td>\n",
       "      <td>Blue</td>\n",
       "      <td>Average</td>\n",
       "      <td>27.0</td>\n",
       "      <td>Marie Claire</td>\n",
       "      <td>Gigi Hadid</td>\n",
       "      <td>Summer</td>\n",
       "      <td>Nighttime</td>\n",
       "      <td>Unknown</td>\n",
       "      <td>Negative</td>\n",
       "      <td>Neutral</td>\n",
       "    </tr>\n",
       "  </tbody>\n",
       "</table>\n",
       "</div>"
      ],
      "text/plain": [
       "  Product Name      Price         Brand  Category Description    Rating  \\\n",
       "0         T5D3  97.509966  Ralph Lauren  Footwear         Bad  1.421706   \n",
       "1         Y0V7  52.341277     Ted Baker      Tops    Not Good  1.037677   \n",
       "2         N9Q4  15.430975        Jigsaw  Footwear    Very Bad  3.967106   \n",
       "\n",
       "   Review Count Style Attributes Total Sizes Available Sizes  Color  \\\n",
       "0           492       Streetwear    M, L, XL              XL  Green   \n",
       "1            57          Vintage    M, L, XL              XL  Black   \n",
       "2           197       Streetwear     S, M, L               M   Blue   \n",
       "\n",
       "  Purchase History   Age Fashion Magazines Fashion Influencers       Season  \\\n",
       "0           Medium  24.0             Vogue     Chiara Ferragni  Fall/Winter   \n",
       "1    Above Average  61.0           Glamour      Leandra Medine       Winter   \n",
       "2          Average  27.0      Marie Claire          Gigi Hadid       Summer   \n",
       "\n",
       "  Time Period Highest Purchase Customer Reviews Social Media Comments feedback  \n",
       "0                      Daytime            Mixed                 Mixed    Other  \n",
       "1                      Weekend         Negative               Neutral    Other  \n",
       "2                    Nighttime          Unknown              Negative  Neutral  "
      ]
     },
     "execution_count": 289,
     "metadata": {},
     "output_type": "execute_result"
    }
   ],
   "source": [
    "df.head(3)"
   ]
  },
  {
   "cell_type": "code",
   "execution_count": 290,
   "metadata": {},
   "outputs": [
    {
     "data": {
      "text/plain": [
       "Sporty        26378\n",
       "Edgy          26319\n",
       "Bohemian      26227\n",
       "Casual        26212\n",
       "Glamorous     26199\n",
       "Minimalist    26135\n",
       "Formal        26128\n",
       "Vintage       26112\n",
       "Streetwear    26068\n",
       "Preppy        25855\n",
       "Glamoro           1\n",
       "Name: Style Attributes, dtype: int64"
      ]
     },
     "execution_count": 290,
     "metadata": {},
     "output_type": "execute_result"
    }
   ],
   "source": [
    "df['Style Attributes'].value_counts()"
   ]
  },
  {
   "cell_type": "markdown",
   "metadata": {},
   "source": [
    "### Product Price Analysis"
   ]
  },
  {
   "cell_type": "markdown",
   "metadata": {},
   "source": [
    "- What is the average price of all products in the dataset?"
   ]
  },
  {
   "cell_type": "code",
   "execution_count": 291,
   "metadata": {},
   "outputs": [
    {
     "data": {
      "text/plain": [
       "55.03"
      ]
     },
     "execution_count": 291,
     "metadata": {},
     "output_type": "execute_result"
    }
   ],
   "source": [
    "round(df['Price'].mean(), 2)"
   ]
  },
  {
   "cell_type": "markdown",
   "metadata": {},
   "source": [
    "- What is the price range of each brand's products?"
   ]
  },
  {
   "cell_type": "code",
   "execution_count": null,
   "metadata": {},
   "outputs": [],
   "source": []
  },
  {
   "cell_type": "code",
   "execution_count": null,
   "metadata": {},
   "outputs": [],
   "source": []
  },
  {
   "cell_type": "markdown",
   "metadata": {},
   "source": [
    "- Is there a correlation between price and customer ratings or review count?"
   ]
  },
  {
   "cell_type": "code",
   "execution_count": 292,
   "metadata": {},
   "outputs": [
    {
     "data": {
      "text/html": [
       "<div>\n",
       "<style scoped>\n",
       "    .dataframe tbody tr th:only-of-type {\n",
       "        vertical-align: middle;\n",
       "    }\n",
       "\n",
       "    .dataframe tbody tr th {\n",
       "        vertical-align: top;\n",
       "    }\n",
       "\n",
       "    .dataframe thead th {\n",
       "        text-align: right;\n",
       "    }\n",
       "</style>\n",
       "<table border=\"1\" class=\"dataframe\">\n",
       "  <thead>\n",
       "    <tr style=\"text-align: right;\">\n",
       "      <th></th>\n",
       "      <th>Price</th>\n",
       "      <th>Rating</th>\n",
       "      <th>Review Count</th>\n",
       "      <th>Age</th>\n",
       "    </tr>\n",
       "  </thead>\n",
       "  <tbody>\n",
       "    <tr>\n",
       "      <td>Price</td>\n",
       "      <td>1.000000</td>\n",
       "      <td>0.000688</td>\n",
       "      <td>0.000240</td>\n",
       "      <td>-0.000659</td>\n",
       "    </tr>\n",
       "    <tr>\n",
       "      <td>Rating</td>\n",
       "      <td>0.000688</td>\n",
       "      <td>1.000000</td>\n",
       "      <td>-0.003047</td>\n",
       "      <td>0.000070</td>\n",
       "    </tr>\n",
       "    <tr>\n",
       "      <td>Review Count</td>\n",
       "      <td>0.000240</td>\n",
       "      <td>-0.003047</td>\n",
       "      <td>1.000000</td>\n",
       "      <td>0.001414</td>\n",
       "    </tr>\n",
       "    <tr>\n",
       "      <td>Age</td>\n",
       "      <td>-0.000659</td>\n",
       "      <td>0.000070</td>\n",
       "      <td>0.001414</td>\n",
       "      <td>1.000000</td>\n",
       "    </tr>\n",
       "  </tbody>\n",
       "</table>\n",
       "</div>"
      ],
      "text/plain": [
       "                 Price    Rating  Review Count       Age\n",
       "Price         1.000000  0.000688      0.000240 -0.000659\n",
       "Rating        0.000688  1.000000     -0.003047  0.000070\n",
       "Review Count  0.000240 -0.003047      1.000000  0.001414\n",
       "Age          -0.000659  0.000070      0.001414  1.000000"
      ]
     },
     "execution_count": 292,
     "metadata": {},
     "output_type": "execute_result"
    }
   ],
   "source": [
    "df.corr()"
   ]
  },
  {
   "cell_type": "markdown",
   "metadata": {},
   "source": [
    "there is literally no correlation between Price, Rating anf ReviewCount columns of the dataset"
   ]
  },
  {
   "cell_type": "markdown",
   "metadata": {},
   "source": [
    "### Brand Performance Analysis:"
   ]
  },
  {
   "cell_type": "markdown",
   "metadata": {},
   "source": [
    "- Which brand has the highest average rating?"
   ]
  },
  {
   "cell_type": "code",
   "execution_count": 293,
   "metadata": {},
   "outputs": [
    {
     "data": {
      "text/plain": [
       "Brand\n",
       "Ted Baker            3.007731\n",
       "Alexander McQueen    3.005537\n",
       "Calvin Klein         3.003943\n",
       "Ralph Lauren         3.002148\n",
       "Jigsaw               2.997376\n",
       "Mulberry             2.993532\n",
       "Burberry             2.989167\n",
       "Tommy Hilfiger       2.987220\n",
       "Name: Rating, dtype: float64"
      ]
     },
     "execution_count": 293,
     "metadata": {},
     "output_type": "execute_result"
    }
   ],
   "source": [
    "brand = df.groupby(df['Brand'])\n",
    "brand['Rating'].mean().sort_values(ascending = False)"
   ]
  },
  {
   "cell_type": "markdown",
   "metadata": {},
   "source": [
    "- Which brand has the most positive reviews?"
   ]
  },
  {
   "cell_type": "code",
   "execution_count": 294,
   "metadata": {},
   "outputs": [
    {
     "data": {
      "text/plain": [
       "Brand              feedback\n",
       "Alexander McQueen  Positive    5506\n",
       "Tommy Hilfiger     Positive    5490\n",
       "Jigsaw             Positive    5490\n",
       "Burberry           Positive    5455\n",
       "Ted Baker          Positive    5442\n",
       "Ralph Lauren       Positive    5439\n",
       "Mulberry           Positive    5418\n",
       "Calvin Klein       Positive    5399\n",
       "Name: feedback, dtype: int64"
      ]
     },
     "execution_count": 294,
     "metadata": {},
     "output_type": "execute_result"
    }
   ],
   "source": [
    "# brand = df.groupby(df['Brand'])\n",
    "brands_positive_rev = df[df['feedback'] == 'Positive']\n",
    "grp_brands_positive_rev = brands_positive_rev.groupby('Brand')\n",
    "grp_brands_positive_rev['feedback'].value_counts().sort_values(ascending = False)"
   ]
  },
  {
   "cell_type": "markdown",
   "metadata": {},
   "source": [
    "- Are there any relationships between brand popularity and fashion influencers or fashion magazines?"
   ]
  },
  {
   "cell_type": "code",
   "execution_count": 295,
   "metadata": {},
   "outputs": [],
   "source": [
    "df_copy = df.copy()"
   ]
  },
  {
   "cell_type": "code",
   "execution_count": 296,
   "metadata": {},
   "outputs": [],
   "source": [
    "\n",
    "def encode_labels(dataset):\n",
    "    le = LabelEncoder()\n",
    "    \n",
    "    # Fit and transform the label encoder for each column in the dataset\n",
    "    for column in dataset.columns:\n",
    "        if dataset[column].dtype == 'object':\n",
    "            dataset[column] = le.fit_transform(dataset[column].astype(str))\n",
    "    \n",
    "    return dataset\n"
   ]
  },
  {
   "cell_type": "code",
   "execution_count": 297,
   "metadata": {},
   "outputs": [],
   "source": [
    "df_copy = encode_labels(df_copy)"
   ]
  },
  {
   "cell_type": "code",
   "execution_count": 298,
   "metadata": {},
   "outputs": [
    {
     "data": {
      "text/html": [
       "<div>\n",
       "<style scoped>\n",
       "    .dataframe tbody tr th:only-of-type {\n",
       "        vertical-align: middle;\n",
       "    }\n",
       "\n",
       "    .dataframe tbody tr th {\n",
       "        vertical-align: top;\n",
       "    }\n",
       "\n",
       "    .dataframe thead th {\n",
       "        text-align: right;\n",
       "    }\n",
       "</style>\n",
       "<table border=\"1\" class=\"dataframe\">\n",
       "  <thead>\n",
       "    <tr style=\"text-align: right;\">\n",
       "      <th></th>\n",
       "      <th>Product Name</th>\n",
       "      <th>Price</th>\n",
       "      <th>Brand</th>\n",
       "      <th>Category</th>\n",
       "      <th>Description</th>\n",
       "      <th>Rating</th>\n",
       "      <th>Review Count</th>\n",
       "      <th>Style Attributes</th>\n",
       "      <th>Total Sizes</th>\n",
       "      <th>Available Sizes</th>\n",
       "      <th>Color</th>\n",
       "      <th>Purchase History</th>\n",
       "      <th>Age</th>\n",
       "      <th>Fashion Magazines</th>\n",
       "      <th>Fashion Influencers</th>\n",
       "      <th>Season</th>\n",
       "      <th>Time Period Highest Purchase</th>\n",
       "      <th>Customer Reviews</th>\n",
       "      <th>Social Media Comments</th>\n",
       "      <th>feedback</th>\n",
       "    </tr>\n",
       "  </thead>\n",
       "  <tbody>\n",
       "    <tr>\n",
       "      <td>0</td>\n",
       "      <td>49632</td>\n",
       "      <td>97.509966</td>\n",
       "      <td>5</td>\n",
       "      <td>4</td>\n",
       "      <td>0</td>\n",
       "      <td>1.421706</td>\n",
       "      <td>492</td>\n",
       "      <td>9</td>\n",
       "      <td>0</td>\n",
       "      <td>3</td>\n",
       "      <td>2</td>\n",
       "      <td>5</td>\n",
       "      <td>24.0</td>\n",
       "      <td>8</td>\n",
       "      <td>2</td>\n",
       "      <td>1</td>\n",
       "      <td>0</td>\n",
       "      <td>0</td>\n",
       "      <td>0</td>\n",
       "      <td>3</td>\n",
       "    </tr>\n",
       "    <tr>\n",
       "      <td>1</td>\n",
       "      <td>61267</td>\n",
       "      <td>52.341277</td>\n",
       "      <td>6</td>\n",
       "      <td>9</td>\n",
       "      <td>3</td>\n",
       "      <td>1.037677</td>\n",
       "      <td>57</td>\n",
       "      <td>10</td>\n",
       "      <td>0</td>\n",
       "      <td>3</td>\n",
       "      <td>0</td>\n",
       "      <td>0</td>\n",
       "      <td>61.0</td>\n",
       "      <td>3</td>\n",
       "      <td>6</td>\n",
       "      <td>5</td>\n",
       "      <td>4</td>\n",
       "      <td>1</td>\n",
       "      <td>2</td>\n",
       "      <td>3</td>\n",
       "    </tr>\n",
       "    <tr>\n",
       "      <td>2</td>\n",
       "      <td>35515</td>\n",
       "      <td>15.430975</td>\n",
       "      <td>3</td>\n",
       "      <td>4</td>\n",
       "      <td>4</td>\n",
       "      <td>3.967106</td>\n",
       "      <td>197</td>\n",
       "      <td>9</td>\n",
       "      <td>2</td>\n",
       "      <td>1</td>\n",
       "      <td>1</td>\n",
       "      <td>1</td>\n",
       "      <td>27.0</td>\n",
       "      <td>7</td>\n",
       "      <td>3</td>\n",
       "      <td>4</td>\n",
       "      <td>3</td>\n",
       "      <td>4</td>\n",
       "      <td>1</td>\n",
       "      <td>2</td>\n",
       "    </tr>\n",
       "    <tr>\n",
       "      <td>3</td>\n",
       "      <td>54119</td>\n",
       "      <td>81.116542</td>\n",
       "      <td>0</td>\n",
       "      <td>7</td>\n",
       "      <td>3</td>\n",
       "      <td>2.844659</td>\n",
       "      <td>473</td>\n",
       "      <td>3</td>\n",
       "      <td>2</td>\n",
       "      <td>0</td>\n",
       "      <td>3</td>\n",
       "      <td>8</td>\n",
       "      <td>50.0</td>\n",
       "      <td>7</td>\n",
       "      <td>2</td>\n",
       "      <td>1</td>\n",
       "      <td>4</td>\n",
       "      <td>2</td>\n",
       "      <td>3</td>\n",
       "      <td>3</td>\n",
       "    </tr>\n",
       "    <tr>\n",
       "      <td>4</td>\n",
       "      <td>47801</td>\n",
       "      <td>31.633686</td>\n",
       "      <td>7</td>\n",
       "      <td>2</td>\n",
       "      <td>5</td>\n",
       "      <td>1.183242</td>\n",
       "      <td>55</td>\n",
       "      <td>8</td>\n",
       "      <td>0</td>\n",
       "      <td>2</td>\n",
       "      <td>2</td>\n",
       "      <td>0</td>\n",
       "      <td>23.0</td>\n",
       "      <td>3</td>\n",
       "      <td>9</td>\n",
       "      <td>2</td>\n",
       "      <td>0</td>\n",
       "      <td>3</td>\n",
       "      <td>0</td>\n",
       "      <td>4</td>\n",
       "    </tr>\n",
       "  </tbody>\n",
       "</table>\n",
       "</div>"
      ],
      "text/plain": [
       "   Product Name      Price  Brand  Category  Description    Rating  \\\n",
       "0         49632  97.509966      5         4            0  1.421706   \n",
       "1         61267  52.341277      6         9            3  1.037677   \n",
       "2         35515  15.430975      3         4            4  3.967106   \n",
       "3         54119  81.116542      0         7            3  2.844659   \n",
       "4         47801  31.633686      7         2            5  1.183242   \n",
       "\n",
       "   Review Count  Style Attributes  Total Sizes  Available Sizes  Color  \\\n",
       "0           492                 9            0                3      2   \n",
       "1            57                10            0                3      0   \n",
       "2           197                 9            2                1      1   \n",
       "3           473                 3            2                0      3   \n",
       "4            55                 8            0                2      2   \n",
       "\n",
       "   Purchase History   Age  Fashion Magazines  Fashion Influencers  Season  \\\n",
       "0                 5  24.0                  8                    2       1   \n",
       "1                 0  61.0                  3                    6       5   \n",
       "2                 1  27.0                  7                    3       4   \n",
       "3                 8  50.0                  7                    2       1   \n",
       "4                 0  23.0                  3                    9       2   \n",
       "\n",
       "   Time Period Highest Purchase  Customer Reviews  Social Media Comments  \\\n",
       "0                             0                 0                      0   \n",
       "1                             4                 1                      2   \n",
       "2                             3                 4                      1   \n",
       "3                             4                 2                      3   \n",
       "4                             0                 3                      0   \n",
       "\n",
       "   feedback  \n",
       "0         3  \n",
       "1         3  \n",
       "2         2  \n",
       "3         3  \n",
       "4         4  "
      ]
     },
     "execution_count": 298,
     "metadata": {},
     "output_type": "execute_result"
    }
   ],
   "source": [
    "df_copy.head()"
   ]
  },
  {
   "cell_type": "code",
   "execution_count": 299,
   "metadata": {},
   "outputs": [],
   "source": [
    "corr_cols = ['Brand', 'Fashion Magazines', 'Fashion Influencers']\n",
    "\n",
    "get_corr = df_copy[corr_cols].corr()"
   ]
  },
  {
   "cell_type": "code",
   "execution_count": 300,
   "metadata": {},
   "outputs": [
    {
     "data": {
      "text/plain": [
       "<matplotlib.axes._subplots.AxesSubplot at 0x19b85ffdd88>"
      ]
     },
     "execution_count": 300,
     "metadata": {},
     "output_type": "execute_result"
    },
    {
     "data": {
      "image/png": "[encoded data removed]",
      "text/plain": [
       "<Figure size 432x288 with 2 Axes>"
      ]
     },
     "metadata": {},
     "output_type": "display_data"
    }
   ],
   "source": [
    "sb.heatmap(get_corr, annot=True)"
   ]
  },
  {
   "cell_type": "markdown",
   "metadata": {},
   "source": [
    "### Category Analysis:\n",
    "\n",
    "- Which category has the highest average rating?"
   ]
  },
  {
   "cell_type": "code",
   "execution_count": 301,
   "metadata": {},
   "outputs": [
    {
     "data": {
      "text/html": [
       "<div>\n",
       "<style scoped>\n",
       "    .dataframe tbody tr th:only-of-type {\n",
       "        vertical-align: middle;\n",
       "    }\n",
       "\n",
       "    .dataframe tbody tr th {\n",
       "        vertical-align: top;\n",
       "    }\n",
       "\n",
       "    .dataframe thead th {\n",
       "        text-align: right;\n",
       "    }\n",
       "</style>\n",
       "<table border=\"1\" class=\"dataframe\">\n",
       "  <thead>\n",
       "    <tr style=\"text-align: right;\">\n",
       "      <th></th>\n",
       "      <th>Product Name</th>\n",
       "      <th>Price</th>\n",
       "      <th>Brand</th>\n",
       "      <th>Category</th>\n",
       "      <th>Description</th>\n",
       "      <th>Rating</th>\n",
       "      <th>Review Count</th>\n",
       "      <th>Style Attributes</th>\n",
       "      <th>Total Sizes</th>\n",
       "      <th>Available Sizes</th>\n",
       "      <th>Color</th>\n",
       "      <th>Purchase History</th>\n",
       "      <th>Age</th>\n",
       "      <th>Fashion Magazines</th>\n",
       "      <th>Fashion Influencers</th>\n",
       "      <th>Season</th>\n",
       "      <th>Time Period Highest Purchase</th>\n",
       "      <th>Customer Reviews</th>\n",
       "      <th>Social Media Comments</th>\n",
       "      <th>feedback</th>\n",
       "    </tr>\n",
       "  </thead>\n",
       "  <tbody>\n",
       "    <tr>\n",
       "      <td>0</td>\n",
       "      <td>T5D3</td>\n",
       "      <td>97.509966</td>\n",
       "      <td>Ralph Lauren</td>\n",
       "      <td>Footwear</td>\n",
       "      <td>Bad</td>\n",
       "      <td>1.421706</td>\n",
       "      <td>492</td>\n",
       "      <td>Streetwear</td>\n",
       "      <td>M, L, XL</td>\n",
       "      <td>XL</td>\n",
       "      <td>Green</td>\n",
       "      <td>Medium</td>\n",
       "      <td>24.0</td>\n",
       "      <td>Vogue</td>\n",
       "      <td>Chiara Ferragni</td>\n",
       "      <td>Fall/Winter</td>\n",
       "      <td>Daytime</td>\n",
       "      <td>Mixed</td>\n",
       "      <td>Mixed</td>\n",
       "      <td>Other</td>\n",
       "    </tr>\n",
       "    <tr>\n",
       "      <td>1</td>\n",
       "      <td>Y0V7</td>\n",
       "      <td>52.341277</td>\n",
       "      <td>Ted Baker</td>\n",
       "      <td>Tops</td>\n",
       "      <td>Not Good</td>\n",
       "      <td>1.037677</td>\n",
       "      <td>57</td>\n",
       "      <td>Vintage</td>\n",
       "      <td>M, L, XL</td>\n",
       "      <td>XL</td>\n",
       "      <td>Black</td>\n",
       "      <td>Above Average</td>\n",
       "      <td>61.0</td>\n",
       "      <td>Glamour</td>\n",
       "      <td>Leandra Medine</td>\n",
       "      <td>Winter</td>\n",
       "      <td>Weekend</td>\n",
       "      <td>Negative</td>\n",
       "      <td>Neutral</td>\n",
       "      <td>Other</td>\n",
       "    </tr>\n",
       "  </tbody>\n",
       "</table>\n",
       "</div>"
      ],
      "text/plain": [
       "  Product Name      Price         Brand  Category Description    Rating  \\\n",
       "0         T5D3  97.509966  Ralph Lauren  Footwear         Bad  1.421706   \n",
       "1         Y0V7  52.341277     Ted Baker      Tops    Not Good  1.037677   \n",
       "\n",
       "   Review Count Style Attributes Total Sizes Available Sizes  Color  \\\n",
       "0           492       Streetwear    M, L, XL              XL  Green   \n",
       "1            57          Vintage    M, L, XL              XL  Black   \n",
       "\n",
       "  Purchase History   Age Fashion Magazines Fashion Influencers       Season  \\\n",
       "0           Medium  24.0             Vogue     Chiara Ferragni  Fall/Winter   \n",
       "1    Above Average  61.0           Glamour      Leandra Medine       Winter   \n",
       "\n",
       "  Time Period Highest Purchase Customer Reviews Social Media Comments feedback  \n",
       "0                      Daytime            Mixed                 Mixed    Other  \n",
       "1                      Weekend         Negative               Neutral    Other  "
      ]
     },
     "execution_count": 301,
     "metadata": {},
     "output_type": "execute_result"
    }
   ],
   "source": [
    "df.head(2)"
   ]
  },
  {
   "cell_type": "code",
   "execution_count": 302,
   "metadata": {},
   "outputs": [
    {
     "data": {
      "text/html": [
       "<div>\n",
       "<style scoped>\n",
       "    .dataframe tbody tr th:only-of-type {\n",
       "        vertical-align: middle;\n",
       "    }\n",
       "\n",
       "    .dataframe tbody tr th {\n",
       "        vertical-align: top;\n",
       "    }\n",
       "\n",
       "    .dataframe thead th {\n",
       "        text-align: right;\n",
       "    }\n",
       "</style>\n",
       "<table border=\"1\" class=\"dataframe\">\n",
       "  <thead>\n",
       "    <tr style=\"text-align: right;\">\n",
       "      <th></th>\n",
       "      <th>Rating</th>\n",
       "    </tr>\n",
       "    <tr>\n",
       "      <th>Category</th>\n",
       "      <th></th>\n",
       "    </tr>\n",
       "  </thead>\n",
       "  <tbody>\n",
       "    <tr>\n",
       "      <td>Jewelry</td>\n",
       "      <td>3.007955</td>\n",
       "    </tr>\n",
       "    <tr>\n",
       "      <td>Activewear</td>\n",
       "      <td>3.006576</td>\n",
       "    </tr>\n",
       "    <tr>\n",
       "      <td>Dresses</td>\n",
       "      <td>3.004322</td>\n",
       "    </tr>\n",
       "    <tr>\n",
       "      <td>Accessories</td>\n",
       "      <td>3.002339</td>\n",
       "    </tr>\n",
       "    <tr>\n",
       "      <td>Tops</td>\n",
       "      <td>2.998859</td>\n",
       "    </tr>\n",
       "    <tr>\n",
       "      <td>Footwear</td>\n",
       "      <td>2.998085</td>\n",
       "    </tr>\n",
       "    <tr>\n",
       "      <td>Bottoms</td>\n",
       "      <td>2.997579</td>\n",
       "    </tr>\n",
       "    <tr>\n",
       "      <td>Lingerie</td>\n",
       "      <td>2.990882</td>\n",
       "    </tr>\n",
       "    <tr>\n",
       "      <td>Outerwear</td>\n",
       "      <td>2.990839</td>\n",
       "    </tr>\n",
       "    <tr>\n",
       "      <td>Swimwear</td>\n",
       "      <td>2.985833</td>\n",
       "    </tr>\n",
       "  </tbody>\n",
       "</table>\n",
       "</div>"
      ],
      "text/plain": [
       "               Rating\n",
       "Category             \n",
       "Jewelry      3.007955\n",
       "Activewear   3.006576\n",
       "Dresses      3.004322\n",
       "Accessories  3.002339\n",
       "Tops         2.998859\n",
       "Footwear     2.998085\n",
       "Bottoms      2.997579\n",
       "Lingerie     2.990882\n",
       "Outerwear    2.990839\n",
       "Swimwear     2.985833"
      ]
     },
     "execution_count": 302,
     "metadata": {},
     "output_type": "execute_result"
    }
   ],
   "source": [
    "category = df.groupby(df['Category'])\n",
    "category['Rating'].mean().sort_values(ascending = False).to_frame()"
   ]
  },
  {
   "cell_type": "markdown",
   "metadata": {},
   "source": [
    "- Are certain categories associated with higher prices?"
   ]
  },
  {
   "cell_type": "code",
   "execution_count": 303,
   "metadata": {},
   "outputs": [
    {
     "data": {
      "text/plain": [
       "Category\n",
       "Accessories    55.054783\n",
       "Activewear     55.141348\n",
       "Bottoms        54.810910\n",
       "Dresses        55.019420\n",
       "Footwear       55.274107\n",
       "Jewelry        55.182242\n",
       "Lingerie       54.944949\n",
       "Outerwear      54.951326\n",
       "Swimwear       55.060667\n",
       "Tops           54.878892\n",
       "Name: Price, dtype: float64"
      ]
     },
     "execution_count": 303,
     "metadata": {},
     "output_type": "execute_result"
    }
   ],
   "source": [
    "category['Price'].mean()"
   ]
  },
  {
   "cell_type": "markdown",
   "metadata": {},
   "source": [
    "from the metrics of prices its noted that there are no categories associate with higher prices rather they're all at par"
   ]
  },
  {
   "cell_type": "markdown",
   "metadata": {},
   "source": [
    "- How does the distribution of style attributes vary across different categories?"
   ]
  },
  {
   "cell_type": "code",
   "execution_count": 304,
   "metadata": {},
   "outputs": [
    {
     "data": {
      "text/html": [
       "<div>\n",
       "<style scoped>\n",
       "    .dataframe tbody tr th:only-of-type {\n",
       "        vertical-align: middle;\n",
       "    }\n",
       "\n",
       "    .dataframe tbody tr th {\n",
       "        vertical-align: top;\n",
       "    }\n",
       "\n",
       "    .dataframe thead th {\n",
       "        text-align: right;\n",
       "    }\n",
       "</style>\n",
       "<table border=\"1\" class=\"dataframe\">\n",
       "  <thead>\n",
       "    <tr style=\"text-align: right;\">\n",
       "      <th></th>\n",
       "      <th>Product Name</th>\n",
       "      <th>Price</th>\n",
       "      <th>Brand</th>\n",
       "      <th>Category</th>\n",
       "      <th>Description</th>\n",
       "      <th>Rating</th>\n",
       "      <th>Review Count</th>\n",
       "      <th>Style Attributes</th>\n",
       "      <th>Total Sizes</th>\n",
       "      <th>Available Sizes</th>\n",
       "      <th>Color</th>\n",
       "      <th>Purchase History</th>\n",
       "      <th>Age</th>\n",
       "      <th>Fashion Magazines</th>\n",
       "      <th>Fashion Influencers</th>\n",
       "      <th>Season</th>\n",
       "      <th>Time Period Highest Purchase</th>\n",
       "      <th>Customer Reviews</th>\n",
       "      <th>Social Media Comments</th>\n",
       "      <th>feedback</th>\n",
       "    </tr>\n",
       "  </thead>\n",
       "  <tbody>\n",
       "    <tr>\n",
       "      <td>0</td>\n",
       "      <td>T5D3</td>\n",
       "      <td>97.509966</td>\n",
       "      <td>Ralph Lauren</td>\n",
       "      <td>Footwear</td>\n",
       "      <td>Bad</td>\n",
       "      <td>1.421706</td>\n",
       "      <td>492</td>\n",
       "      <td>Streetwear</td>\n",
       "      <td>M, L, XL</td>\n",
       "      <td>XL</td>\n",
       "      <td>Green</td>\n",
       "      <td>Medium</td>\n",
       "      <td>24.0</td>\n",
       "      <td>Vogue</td>\n",
       "      <td>Chiara Ferragni</td>\n",
       "      <td>Fall/Winter</td>\n",
       "      <td>Daytime</td>\n",
       "      <td>Mixed</td>\n",
       "      <td>Mixed</td>\n",
       "      <td>Other</td>\n",
       "    </tr>\n",
       "    <tr>\n",
       "      <td>1</td>\n",
       "      <td>Y0V7</td>\n",
       "      <td>52.341277</td>\n",
       "      <td>Ted Baker</td>\n",
       "      <td>Tops</td>\n",
       "      <td>Not Good</td>\n",
       "      <td>1.037677</td>\n",
       "      <td>57</td>\n",
       "      <td>Vintage</td>\n",
       "      <td>M, L, XL</td>\n",
       "      <td>XL</td>\n",
       "      <td>Black</td>\n",
       "      <td>Above Average</td>\n",
       "      <td>61.0</td>\n",
       "      <td>Glamour</td>\n",
       "      <td>Leandra Medine</td>\n",
       "      <td>Winter</td>\n",
       "      <td>Weekend</td>\n",
       "      <td>Negative</td>\n",
       "      <td>Neutral</td>\n",
       "      <td>Other</td>\n",
       "    </tr>\n",
       "  </tbody>\n",
       "</table>\n",
       "</div>"
      ],
      "text/plain": [
       "  Product Name      Price         Brand  Category Description    Rating  \\\n",
       "0         T5D3  97.509966  Ralph Lauren  Footwear         Bad  1.421706   \n",
       "1         Y0V7  52.341277     Ted Baker      Tops    Not Good  1.037677   \n",
       "\n",
       "   Review Count Style Attributes Total Sizes Available Sizes  Color  \\\n",
       "0           492       Streetwear    M, L, XL              XL  Green   \n",
       "1            57          Vintage    M, L, XL              XL  Black   \n",
       "\n",
       "  Purchase History   Age Fashion Magazines Fashion Influencers       Season  \\\n",
       "0           Medium  24.0             Vogue     Chiara Ferragni  Fall/Winter   \n",
       "1    Above Average  61.0           Glamour      Leandra Medine       Winter   \n",
       "\n",
       "  Time Period Highest Purchase Customer Reviews Social Media Comments feedback  \n",
       "0                      Daytime            Mixed                 Mixed    Other  \n",
       "1                      Weekend         Negative               Neutral    Other  "
      ]
     },
     "execution_count": 304,
     "metadata": {},
     "output_type": "execute_result"
    }
   ],
   "source": [
    "df.head(2)"
   ]
  },
  {
   "cell_type": "code",
   "execution_count": 305,
   "metadata": {},
   "outputs": [
    {
     "data": {
      "text/plain": [
       "Sporty        26378\n",
       "Edgy          26319\n",
       "Bohemian      26227\n",
       "Casual        26212\n",
       "Glamorous     26199\n",
       "Minimalist    26135\n",
       "Formal        26128\n",
       "Vintage       26112\n",
       "Streetwear    26068\n",
       "Preppy        25855\n",
       "Glamoro           1\n",
       "Name: Style Attributes, dtype: int64"
      ]
     },
     "execution_count": 305,
     "metadata": {},
     "output_type": "execute_result"
    }
   ],
   "source": [
    "df['Style Attributes'].value_counts()"
   ]
  },
  {
   "cell_type": "code",
   "execution_count": 306,
   "metadata": {},
   "outputs": [
    {
     "data": {
      "text/html": [
       "<div>\n",
       "<style scoped>\n",
       "    .dataframe tbody tr th:only-of-type {\n",
       "        vertical-align: middle;\n",
       "    }\n",
       "\n",
       "    .dataframe tbody tr th {\n",
       "        vertical-align: top;\n",
       "    }\n",
       "\n",
       "    .dataframe thead th {\n",
       "        text-align: right;\n",
       "    }\n",
       "</style>\n",
       "<table border=\"1\" class=\"dataframe\">\n",
       "  <thead>\n",
       "    <tr style=\"text-align: right;\">\n",
       "      <th></th>\n",
       "      <th></th>\n",
       "      <th>Style Attributes</th>\n",
       "    </tr>\n",
       "    <tr>\n",
       "      <th>Category</th>\n",
       "      <th>Style Attributes</th>\n",
       "      <th></th>\n",
       "    </tr>\n",
       "  </thead>\n",
       "  <tbody>\n",
       "    <tr>\n",
       "      <td rowspan=\"11\" valign=\"top\">Accessories</td>\n",
       "      <td>Glamorous</td>\n",
       "      <td>2655</td>\n",
       "    </tr>\n",
       "    <tr>\n",
       "      <td>Casual</td>\n",
       "      <td>2650</td>\n",
       "    </tr>\n",
       "    <tr>\n",
       "      <td>Vintage</td>\n",
       "      <td>2608</td>\n",
       "    </tr>\n",
       "    <tr>\n",
       "      <td>Sporty</td>\n",
       "      <td>2602</td>\n",
       "    </tr>\n",
       "    <tr>\n",
       "      <td>Formal</td>\n",
       "      <td>2599</td>\n",
       "    </tr>\n",
       "    <tr>\n",
       "      <td>Minimalist</td>\n",
       "      <td>2589</td>\n",
       "    </tr>\n",
       "    <tr>\n",
       "      <td>Preppy</td>\n",
       "      <td>2587</td>\n",
       "    </tr>\n",
       "    <tr>\n",
       "      <td>Streetwear</td>\n",
       "      <td>2584</td>\n",
       "    </tr>\n",
       "    <tr>\n",
       "      <td>Bohemian</td>\n",
       "      <td>2573</td>\n",
       "    </tr>\n",
       "    <tr>\n",
       "      <td>Edgy</td>\n",
       "      <td>2573</td>\n",
       "    </tr>\n",
       "    <tr>\n",
       "      <td>Glamoro</td>\n",
       "      <td>1</td>\n",
       "    </tr>\n",
       "  </tbody>\n",
       "</table>\n",
       "</div>"
      ],
      "text/plain": [
       "                              Style Attributes\n",
       "Category    Style Attributes                  \n",
       "Accessories Glamorous                     2655\n",
       "            Casual                        2650\n",
       "            Vintage                       2608\n",
       "            Sporty                        2602\n",
       "            Formal                        2599\n",
       "            Minimalist                    2589\n",
       "            Preppy                        2587\n",
       "            Streetwear                    2584\n",
       "            Bohemian                      2573\n",
       "            Edgy                          2573\n",
       "            Glamoro                          1"
      ]
     },
     "execution_count": 306,
     "metadata": {},
     "output_type": "execute_result"
    }
   ],
   "source": [
    "category_styles = df.groupby(df['Category'])\n",
    "category_styles['Style Attributes'].value_counts().to_frame().iloc[0:11]"
   ]
  },
  {
   "cell_type": "markdown",
   "metadata": {},
   "source": [
    "### Size and Color Analysis:\n",
    "\n",
    "- What are the most common sizes available for each product?"
   ]
  },
  {
   "cell_type": "code",
   "execution_count": 307,
   "metadata": {},
   "outputs": [
    {
     "data": {
      "text/html": [
       "<div>\n",
       "<style scoped>\n",
       "    .dataframe tbody tr th:only-of-type {\n",
       "        vertical-align: middle;\n",
       "    }\n",
       "\n",
       "    .dataframe tbody tr th {\n",
       "        vertical-align: top;\n",
       "    }\n",
       "\n",
       "    .dataframe thead th {\n",
       "        text-align: right;\n",
       "    }\n",
       "</style>\n",
       "<table border=\"1\" class=\"dataframe\">\n",
       "  <thead>\n",
       "    <tr style=\"text-align: right;\">\n",
       "      <th></th>\n",
       "      <th>Product Name</th>\n",
       "      <th>Price</th>\n",
       "      <th>Brand</th>\n",
       "      <th>Category</th>\n",
       "      <th>Description</th>\n",
       "      <th>Rating</th>\n",
       "      <th>Review Count</th>\n",
       "      <th>Style Attributes</th>\n",
       "      <th>Total Sizes</th>\n",
       "      <th>Available Sizes</th>\n",
       "      <th>Color</th>\n",
       "      <th>Purchase History</th>\n",
       "      <th>Age</th>\n",
       "      <th>Fashion Magazines</th>\n",
       "      <th>Fashion Influencers</th>\n",
       "      <th>Season</th>\n",
       "      <th>Time Period Highest Purchase</th>\n",
       "      <th>Customer Reviews</th>\n",
       "      <th>Social Media Comments</th>\n",
       "      <th>feedback</th>\n",
       "    </tr>\n",
       "  </thead>\n",
       "  <tbody>\n",
       "    <tr>\n",
       "      <td>0</td>\n",
       "      <td>T5D3</td>\n",
       "      <td>97.509966</td>\n",
       "      <td>Ralph Lauren</td>\n",
       "      <td>Footwear</td>\n",
       "      <td>Bad</td>\n",
       "      <td>1.421706</td>\n",
       "      <td>492</td>\n",
       "      <td>Streetwear</td>\n",
       "      <td>M, L, XL</td>\n",
       "      <td>XL</td>\n",
       "      <td>Green</td>\n",
       "      <td>Medium</td>\n",
       "      <td>24.0</td>\n",
       "      <td>Vogue</td>\n",
       "      <td>Chiara Ferragni</td>\n",
       "      <td>Fall/Winter</td>\n",
       "      <td>Daytime</td>\n",
       "      <td>Mixed</td>\n",
       "      <td>Mixed</td>\n",
       "      <td>Other</td>\n",
       "    </tr>\n",
       "    <tr>\n",
       "      <td>1</td>\n",
       "      <td>Y0V7</td>\n",
       "      <td>52.341277</td>\n",
       "      <td>Ted Baker</td>\n",
       "      <td>Tops</td>\n",
       "      <td>Not Good</td>\n",
       "      <td>1.037677</td>\n",
       "      <td>57</td>\n",
       "      <td>Vintage</td>\n",
       "      <td>M, L, XL</td>\n",
       "      <td>XL</td>\n",
       "      <td>Black</td>\n",
       "      <td>Above Average</td>\n",
       "      <td>61.0</td>\n",
       "      <td>Glamour</td>\n",
       "      <td>Leandra Medine</td>\n",
       "      <td>Winter</td>\n",
       "      <td>Weekend</td>\n",
       "      <td>Negative</td>\n",
       "      <td>Neutral</td>\n",
       "      <td>Other</td>\n",
       "    </tr>\n",
       "  </tbody>\n",
       "</table>\n",
       "</div>"
      ],
      "text/plain": [
       "  Product Name      Price         Brand  Category Description    Rating  \\\n",
       "0         T5D3  97.509966  Ralph Lauren  Footwear         Bad  1.421706   \n",
       "1         Y0V7  52.341277     Ted Baker      Tops    Not Good  1.037677   \n",
       "\n",
       "   Review Count Style Attributes Total Sizes Available Sizes  Color  \\\n",
       "0           492       Streetwear    M, L, XL              XL  Green   \n",
       "1            57          Vintage    M, L, XL              XL  Black   \n",
       "\n",
       "  Purchase History   Age Fashion Magazines Fashion Influencers       Season  \\\n",
       "0           Medium  24.0             Vogue     Chiara Ferragni  Fall/Winter   \n",
       "1    Above Average  61.0           Glamour      Leandra Medine       Winter   \n",
       "\n",
       "  Time Period Highest Purchase Customer Reviews Social Media Comments feedback  \n",
       "0                      Daytime            Mixed                 Mixed    Other  \n",
       "1                      Weekend         Negative               Neutral    Other  "
      ]
     },
     "execution_count": 307,
     "metadata": {},
     "output_type": "execute_result"
    }
   ],
   "source": [
    "df.head(2)"
   ]
  },
  {
   "cell_type": "code",
   "execution_count": 308,
   "metadata": {},
   "outputs": [
    {
     "data": {
      "text/plain": [
       "S, M, L     87424\n",
       "S, L, XL    87292\n",
       "M, L, XL    86917\n",
       "Name: Total Sizes, dtype: int64"
      ]
     },
     "execution_count": 308,
     "metadata": {},
     "output_type": "execute_result"
    }
   ],
   "source": [
    "df['Total Sizes'].value_counts()"
   ]
  },
  {
   "cell_type": "code",
   "execution_count": 309,
   "metadata": {},
   "outputs": [
    {
     "data": {
      "text/plain": [
       "S     65735\n",
       "XL    65604\n",
       "L     65251\n",
       "M     65043\n",
       "Name: Available Sizes, dtype: int64"
      ]
     },
     "execution_count": 309,
     "metadata": {},
     "output_type": "execute_result"
    }
   ],
   "source": [
    "df['Available Sizes'].value_counts()"
   ]
  },
  {
   "cell_type": "code",
   "execution_count": 310,
   "metadata": {},
   "outputs": [
    {
     "data": {
      "text/html": [
       "<div>\n",
       "<style scoped>\n",
       "    .dataframe tbody tr th:only-of-type {\n",
       "        vertical-align: middle;\n",
       "    }\n",
       "\n",
       "    .dataframe tbody tr th {\n",
       "        vertical-align: top;\n",
       "    }\n",
       "\n",
       "    .dataframe thead th {\n",
       "        text-align: right;\n",
       "    }\n",
       "</style>\n",
       "<table border=\"1\" class=\"dataframe\">\n",
       "  <thead>\n",
       "    <tr style=\"text-align: right;\">\n",
       "      <th></th>\n",
       "      <th></th>\n",
       "      <th>Total Sizes</th>\n",
       "    </tr>\n",
       "    <tr>\n",
       "      <th>Product Name</th>\n",
       "      <th>Total Sizes</th>\n",
       "      <th></th>\n",
       "    </tr>\n",
       "  </thead>\n",
       "  <tbody>\n",
       "    <tr>\n",
       "      <td rowspan=\"2\" valign=\"top\">A0A0</td>\n",
       "      <td>M, L, XL</td>\n",
       "      <td>3</td>\n",
       "    </tr>\n",
       "    <tr>\n",
       "      <td>S, M, L</td>\n",
       "      <td>2</td>\n",
       "    </tr>\n",
       "    <tr>\n",
       "      <td rowspan=\"3\" valign=\"top\">A0A1</td>\n",
       "      <td>M, L, XL</td>\n",
       "      <td>3</td>\n",
       "    </tr>\n",
       "    <tr>\n",
       "      <td>S, L, XL</td>\n",
       "      <td>1</td>\n",
       "    </tr>\n",
       "    <tr>\n",
       "      <td>S, M, L</td>\n",
       "      <td>1</td>\n",
       "    </tr>\n",
       "    <tr>\n",
       "      <td>A0A2</td>\n",
       "      <td>S, L, XL</td>\n",
       "      <td>3</td>\n",
       "    </tr>\n",
       "    <tr>\n",
       "      <td rowspan=\"3\" valign=\"top\">A0A3</td>\n",
       "      <td>M, L, XL</td>\n",
       "      <td>2</td>\n",
       "    </tr>\n",
       "    <tr>\n",
       "      <td>S, L, XL</td>\n",
       "      <td>2</td>\n",
       "    </tr>\n",
       "    <tr>\n",
       "      <td>S, M, L</td>\n",
       "      <td>1</td>\n",
       "    </tr>\n",
       "    <tr>\n",
       "      <td>A0A4</td>\n",
       "      <td>M, L, XL</td>\n",
       "      <td>2</td>\n",
       "    </tr>\n",
       "  </tbody>\n",
       "</table>\n",
       "</div>"
      ],
      "text/plain": [
       "                          Total Sizes\n",
       "Product Name Total Sizes             \n",
       "A0A0         M, L, XL               3\n",
       "             S, M, L                2\n",
       "A0A1         M, L, XL               3\n",
       "             S, L, XL               1\n",
       "             S, M, L                1\n",
       "A0A2         S, L, XL               3\n",
       "A0A3         M, L, XL               2\n",
       "             S, L, XL               2\n",
       "             S, M, L                1\n",
       "A0A4         M, L, XL               2"
      ]
     },
     "execution_count": 310,
     "metadata": {},
     "output_type": "execute_result"
    }
   ],
   "source": [
    "product_sizes = df.groupby(df['Product Name'])\n",
    "product_sizes['Total Sizes'].value_counts().to_frame().head(10)"
   ]
  },
  {
   "cell_type": "markdown",
   "metadata": {},
   "source": [
    "- Are there any size preferences among customers based on the purchase history?"
   ]
  },
  {
   "cell_type": "code",
   "execution_count": 325,
   "metadata": {},
   "outputs": [],
   "source": [
    "cols = ['Product Name', 'Available Sizes', 'Total Sizes']\n",
    "\n",
    "def encode_data(dataset):\n",
    "    le = LabelEncoder()\n",
    "    \n",
    "    for i in dataset.columns:\n",
    "        if dataset[i].dtype == 'object':\n",
    "            dataset[i].columns = le.fit_transform(dataset[i].astype(str))\n",
    "            \n",
    "    return dataset"
   ]
  },
  {
   "cell_type": "code",
   "execution_count": 326,
   "metadata": {},
   "outputs": [
    {
     "data": {
      "text/html": [
       "<div>\n",
       "<style scoped>\n",
       "    .dataframe tbody tr th:only-of-type {\n",
       "        vertical-align: middle;\n",
       "    }\n",
       "\n",
       "    .dataframe tbody tr th {\n",
       "        vertical-align: top;\n",
       "    }\n",
       "\n",
       "    .dataframe thead th {\n",
       "        text-align: right;\n",
       "    }\n",
       "</style>\n",
       "<table border=\"1\" class=\"dataframe\">\n",
       "  <thead>\n",
       "    <tr style=\"text-align: right;\">\n",
       "      <th></th>\n",
       "      <th>Product Name</th>\n",
       "      <th>Available Sizes</th>\n",
       "      <th>Total Sizes</th>\n",
       "    </tr>\n",
       "  </thead>\n",
       "  <tbody>\n",
       "    <tr>\n",
       "      <td>Product Name</td>\n",
       "      <td>1.000000</td>\n",
       "      <td>0.000218</td>\n",
       "      <td>-0.000882</td>\n",
       "    </tr>\n",
       "    <tr>\n",
       "      <td>Available Sizes</td>\n",
       "      <td>0.000218</td>\n",
       "      <td>1.000000</td>\n",
       "      <td>-0.000139</td>\n",
       "    </tr>\n",
       "    <tr>\n",
       "      <td>Total Sizes</td>\n",
       "      <td>-0.000882</td>\n",
       "      <td>-0.000139</td>\n",
       "      <td>1.000000</td>\n",
       "    </tr>\n",
       "  </tbody>\n",
       "</table>\n",
       "</div>"
      ],
      "text/plain": [
       "                 Product Name  Available Sizes  Total Sizes\n",
       "Product Name         1.000000         0.000218    -0.000882\n",
       "Available Sizes      0.000218         1.000000    -0.000139\n",
       "Total Sizes         -0.000882        -0.000139     1.000000"
      ]
     },
     "execution_count": 326,
     "metadata": {},
     "output_type": "execute_result"
    }
   ],
   "source": [
    "df_copy[cols].corr()"
   ]
  },
  {
   "cell_type": "markdown",
   "metadata": {},
   "source": [
    "- Which colors are most popular among customers?"
   ]
  },
  {
   "cell_type": "code",
   "execution_count": 327,
   "metadata": {},
   "outputs": [
    {
     "data": {
      "text/html": [
       "<div>\n",
       "<style scoped>\n",
       "    .dataframe tbody tr th:only-of-type {\n",
       "        vertical-align: middle;\n",
       "    }\n",
       "\n",
       "    .dataframe tbody tr th {\n",
       "        vertical-align: top;\n",
       "    }\n",
       "\n",
       "    .dataframe thead th {\n",
       "        text-align: right;\n",
       "    }\n",
       "</style>\n",
       "<table border=\"1\" class=\"dataframe\">\n",
       "  <thead>\n",
       "    <tr style=\"text-align: right;\">\n",
       "      <th></th>\n",
       "      <th>Product Name</th>\n",
       "      <th>Price</th>\n",
       "      <th>Brand</th>\n",
       "      <th>Category</th>\n",
       "      <th>Description</th>\n",
       "      <th>Rating</th>\n",
       "      <th>Review Count</th>\n",
       "      <th>Style Attributes</th>\n",
       "      <th>Total Sizes</th>\n",
       "      <th>Available Sizes</th>\n",
       "      <th>Color</th>\n",
       "      <th>Purchase History</th>\n",
       "      <th>Age</th>\n",
       "      <th>Fashion Magazines</th>\n",
       "      <th>Fashion Influencers</th>\n",
       "      <th>Season</th>\n",
       "      <th>Time Period Highest Purchase</th>\n",
       "      <th>Customer Reviews</th>\n",
       "      <th>Social Media Comments</th>\n",
       "      <th>feedback</th>\n",
       "    </tr>\n",
       "  </thead>\n",
       "  <tbody>\n",
       "    <tr>\n",
       "      <td>0</td>\n",
       "      <td>T5D3</td>\n",
       "      <td>97.509966</td>\n",
       "      <td>Ralph Lauren</td>\n",
       "      <td>Footwear</td>\n",
       "      <td>Bad</td>\n",
       "      <td>1.421706</td>\n",
       "      <td>492</td>\n",
       "      <td>Streetwear</td>\n",
       "      <td>M, L, XL</td>\n",
       "      <td>XL</td>\n",
       "      <td>Green</td>\n",
       "      <td>Medium</td>\n",
       "      <td>24.0</td>\n",
       "      <td>Vogue</td>\n",
       "      <td>Chiara Ferragni</td>\n",
       "      <td>Fall/Winter</td>\n",
       "      <td>Daytime</td>\n",
       "      <td>Mixed</td>\n",
       "      <td>Mixed</td>\n",
       "      <td>Other</td>\n",
       "    </tr>\n",
       "    <tr>\n",
       "      <td>1</td>\n",
       "      <td>Y0V7</td>\n",
       "      <td>52.341277</td>\n",
       "      <td>Ted Baker</td>\n",
       "      <td>Tops</td>\n",
       "      <td>Not Good</td>\n",
       "      <td>1.037677</td>\n",
       "      <td>57</td>\n",
       "      <td>Vintage</td>\n",
       "      <td>M, L, XL</td>\n",
       "      <td>XL</td>\n",
       "      <td>Black</td>\n",
       "      <td>Above Average</td>\n",
       "      <td>61.0</td>\n",
       "      <td>Glamour</td>\n",
       "      <td>Leandra Medine</td>\n",
       "      <td>Winter</td>\n",
       "      <td>Weekend</td>\n",
       "      <td>Negative</td>\n",
       "      <td>Neutral</td>\n",
       "      <td>Other</td>\n",
       "    </tr>\n",
       "  </tbody>\n",
       "</table>\n",
       "</div>"
      ],
      "text/plain": [
       "  Product Name      Price         Brand  Category Description    Rating  \\\n",
       "0         T5D3  97.509966  Ralph Lauren  Footwear         Bad  1.421706   \n",
       "1         Y0V7  52.341277     Ted Baker      Tops    Not Good  1.037677   \n",
       "\n",
       "   Review Count Style Attributes Total Sizes Available Sizes  Color  \\\n",
       "0           492       Streetwear    M, L, XL              XL  Green   \n",
       "1            57          Vintage    M, L, XL              XL  Black   \n",
       "\n",
       "  Purchase History   Age Fashion Magazines Fashion Influencers       Season  \\\n",
       "0           Medium  24.0             Vogue     Chiara Ferragni  Fall/Winter   \n",
       "1    Above Average  61.0           Glamour      Leandra Medine       Winter   \n",
       "\n",
       "  Time Period Highest Purchase Customer Reviews Social Media Comments feedback  \n",
       "0                      Daytime            Mixed                 Mixed    Other  \n",
       "1                      Weekend         Negative               Neutral    Other  "
      ]
     },
     "execution_count": 327,
     "metadata": {},
     "output_type": "execute_result"
    }
   ],
   "source": [
    "df.head(2)"
   ]
  },
  {
   "cell_type": "code",
   "execution_count": 330,
   "metadata": {},
   "outputs": [
    {
     "data": {
      "text/plain": [
       "Red      25.059912\n",
       "Green    25.012518\n",
       "Black    25.006784\n",
       "Blue     24.920786\n",
       "Name: Color, dtype: float64"
      ]
     },
     "execution_count": 330,
     "metadata": {},
     "output_type": "execute_result"
    }
   ],
   "source": [
    "df['Color'].value_counts(normalize = True)*100"
   ]
  },
  {
   "cell_type": "markdown",
   "metadata": {},
   "source": [
    "### Season and Time Period Analysis:\n",
    "\n",
    "- Which season (e.g., Fall/Winter, Spring/Summer) has the highest purchase frequency?\n",
    "- Do customers tend to make more purchases during the daytime or nighttime?\n",
    "- Are there any patterns in customer reviews or social media comments based on the time period of their highest purchase?"
   ]
  },
  {
   "cell_type": "code",
   "execution_count": 332,
   "metadata": {},
   "outputs": [
    {
     "data": {
      "text/html": [
       "<div>\n",
       "<style scoped>\n",
       "    .dataframe tbody tr th:only-of-type {\n",
       "        vertical-align: middle;\n",
       "    }\n",
       "\n",
       "    .dataframe tbody tr th {\n",
       "        vertical-align: top;\n",
       "    }\n",
       "\n",
       "    .dataframe thead th {\n",
       "        text-align: right;\n",
       "    }\n",
       "</style>\n",
       "<table border=\"1\" class=\"dataframe\">\n",
       "  <thead>\n",
       "    <tr style=\"text-align: right;\">\n",
       "      <th></th>\n",
       "      <th>Product Name</th>\n",
       "      <th>Price</th>\n",
       "      <th>Brand</th>\n",
       "      <th>Category</th>\n",
       "      <th>Description</th>\n",
       "      <th>Rating</th>\n",
       "      <th>Review Count</th>\n",
       "      <th>Style Attributes</th>\n",
       "      <th>Total Sizes</th>\n",
       "      <th>Available Sizes</th>\n",
       "      <th>Color</th>\n",
       "      <th>Purchase History</th>\n",
       "      <th>Age</th>\n",
       "      <th>Fashion Magazines</th>\n",
       "      <th>Fashion Influencers</th>\n",
       "      <th>Season</th>\n",
       "      <th>Time Period Highest Purchase</th>\n",
       "      <th>Customer Reviews</th>\n",
       "      <th>Social Media Comments</th>\n",
       "      <th>feedback</th>\n",
       "    </tr>\n",
       "  </thead>\n",
       "  <tbody>\n",
       "    <tr>\n",
       "      <td>0</td>\n",
       "      <td>T5D3</td>\n",
       "      <td>97.509966</td>\n",
       "      <td>Ralph Lauren</td>\n",
       "      <td>Footwear</td>\n",
       "      <td>Bad</td>\n",
       "      <td>1.421706</td>\n",
       "      <td>492</td>\n",
       "      <td>Streetwear</td>\n",
       "      <td>M, L, XL</td>\n",
       "      <td>XL</td>\n",
       "      <td>Green</td>\n",
       "      <td>Medium</td>\n",
       "      <td>24.0</td>\n",
       "      <td>Vogue</td>\n",
       "      <td>Chiara Ferragni</td>\n",
       "      <td>Fall/Winter</td>\n",
       "      <td>Daytime</td>\n",
       "      <td>Mixed</td>\n",
       "      <td>Mixed</td>\n",
       "      <td>Other</td>\n",
       "    </tr>\n",
       "    <tr>\n",
       "      <td>1</td>\n",
       "      <td>Y0V7</td>\n",
       "      <td>52.341277</td>\n",
       "      <td>Ted Baker</td>\n",
       "      <td>Tops</td>\n",
       "      <td>Not Good</td>\n",
       "      <td>1.037677</td>\n",
       "      <td>57</td>\n",
       "      <td>Vintage</td>\n",
       "      <td>M, L, XL</td>\n",
       "      <td>XL</td>\n",
       "      <td>Black</td>\n",
       "      <td>Above Average</td>\n",
       "      <td>61.0</td>\n",
       "      <td>Glamour</td>\n",
       "      <td>Leandra Medine</td>\n",
       "      <td>Winter</td>\n",
       "      <td>Weekend</td>\n",
       "      <td>Negative</td>\n",
       "      <td>Neutral</td>\n",
       "      <td>Other</td>\n",
       "    </tr>\n",
       "  </tbody>\n",
       "</table>\n",
       "</div>"
      ],
      "text/plain": [
       "  Product Name      Price         Brand  Category Description    Rating  \\\n",
       "0         T5D3  97.509966  Ralph Lauren  Footwear         Bad  1.421706   \n",
       "1         Y0V7  52.341277     Ted Baker      Tops    Not Good  1.037677   \n",
       "\n",
       "   Review Count Style Attributes Total Sizes Available Sizes  Color  \\\n",
       "0           492       Streetwear    M, L, XL              XL  Green   \n",
       "1            57          Vintage    M, L, XL              XL  Black   \n",
       "\n",
       "  Purchase History   Age Fashion Magazines Fashion Influencers       Season  \\\n",
       "0           Medium  24.0             Vogue     Chiara Ferragni  Fall/Winter   \n",
       "1    Above Average  61.0           Glamour      Leandra Medine       Winter   \n",
       "\n",
       "  Time Period Highest Purchase Customer Reviews Social Media Comments feedback  \n",
       "0                      Daytime            Mixed                 Mixed    Other  \n",
       "1                      Weekend         Negative               Neutral    Other  "
      ]
     },
     "execution_count": 332,
     "metadata": {},
     "output_type": "execute_result"
    }
   ],
   "source": [
    "df.head(2)"
   ]
  },
  {
   "cell_type": "code",
   "execution_count": 335,
   "metadata": {},
   "outputs": [
    {
     "data": {
      "text/html": [
       "<div>\n",
       "<style scoped>\n",
       "    .dataframe tbody tr th:only-of-type {\n",
       "        vertical-align: middle;\n",
       "    }\n",
       "\n",
       "    .dataframe tbody tr th {\n",
       "        vertical-align: top;\n",
       "    }\n",
       "\n",
       "    .dataframe thead th {\n",
       "        text-align: right;\n",
       "    }\n",
       "</style>\n",
       "<table border=\"1\" class=\"dataframe\">\n",
       "  <thead>\n",
       "    <tr style=\"text-align: right;\">\n",
       "      <th></th>\n",
       "      <th>Price</th>\n",
       "    </tr>\n",
       "    <tr>\n",
       "      <th>Season</th>\n",
       "      <th></th>\n",
       "    </tr>\n",
       "  </thead>\n",
       "  <tbody>\n",
       "    <tr>\n",
       "      <td>Fall</td>\n",
       "      <td>2.421147e+06</td>\n",
       "    </tr>\n",
       "    <tr>\n",
       "      <td>Spring</td>\n",
       "      <td>2.403714e+06</td>\n",
       "    </tr>\n",
       "    <tr>\n",
       "      <td>Summer</td>\n",
       "      <td>2.402674e+06</td>\n",
       "    </tr>\n",
       "    <tr>\n",
       "      <td>Winter</td>\n",
       "      <td>2.392132e+06</td>\n",
       "    </tr>\n",
       "    <tr>\n",
       "      <td>Spring/Summer</td>\n",
       "      <td>2.389799e+06</td>\n",
       "    </tr>\n",
       "    <tr>\n",
       "      <td>Fall/Winter</td>\n",
       "      <td>2.388733e+06</td>\n",
       "    </tr>\n",
       "  </tbody>\n",
       "</table>\n",
       "</div>"
      ],
      "text/plain": [
       "                      Price\n",
       "Season                     \n",
       "Fall           2.421147e+06\n",
       "Spring         2.403714e+06\n",
       "Summer         2.402674e+06\n",
       "Winter         2.392132e+06\n",
       "Spring/Summer  2.389799e+06\n",
       "Fall/Winter    2.388733e+06"
      ]
     },
     "execution_count": 335,
     "metadata": {},
     "output_type": "execute_result"
    }
   ],
   "source": [
    "seasons_freq = df.groupby(df['Season'])\n",
    "seasons_freq['Price'].sum().sort_values(ascending = False).to_frame()"
   ]
  },
  {
   "cell_type": "code",
   "execution_count": 339,
   "metadata": {},
   "outputs": [
    {
     "data": {
      "text/plain": [
       "Fall             43930\n",
       "Spring           43678\n",
       "Fall/Winter      43567\n",
       "Summer           43539\n",
       "Spring/Summer    43535\n",
       "Winter           43384\n",
       "Name: Season, dtype: int64"
      ]
     },
     "execution_count": 339,
     "metadata": {},
     "output_type": "execute_result"
    }
   ],
   "source": [
    "df['Season'].value_counts().sort_values(ascending=False)"
   ]
  },
  {
   "cell_type": "code",
   "execution_count": 340,
   "metadata": {},
   "outputs": [
    {
     "data": {
      "text/plain": [
       "Holiday      52551\n",
       "Daytime      52478\n",
       "Nighttime    52361\n",
       "Evening      52141\n",
       "Weekend      52102\n",
       "Name: Time Period Highest Purchase, dtype: int64"
      ]
     },
     "execution_count": 340,
     "metadata": {},
     "output_type": "execute_result"
    }
   ],
   "source": [
    "df['Time Period Highest Purchase'].value_counts()"
   ]
  },
  {
   "cell_type": "code",
   "execution_count": null,
   "metadata": {},
   "outputs": [],
   "source": []
  }
 ],
 "metadata": {
  "kernelspec": {
   "display_name": "Python 3",
   "language": "python",
   "name": "python3"
  },
  "language_info": {
   "codemirror_mode": {
    "name": "ipython",
    "version": 3
   },
   "file_extension": ".py",
   "mimetype": "text/x-python",
   "name": "python",
   "nbconvert_exporter": "python",
   "pygments_lexer": "ipython3",
   "version": "3.7.4"
  }
 },
 "nbformat": 4,
 "nbformat_minor": 4
}
