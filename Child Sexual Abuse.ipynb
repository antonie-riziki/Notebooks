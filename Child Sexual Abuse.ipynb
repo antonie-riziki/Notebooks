{
 "cells": [
  {
   "cell_type": "markdown",
   "metadata": {},
   "source": [
    "# Children Sexual Abuse Awareness"
   ]
  },
  {
   "cell_type": "code",
   "execution_count": 3,
   "metadata": {},
   "outputs": [],
   "source": [
    "import pandas as pd\n",
    "import numpy as np\n",
    "import seaborn as sb\n",
    "import matplotlib.pyplot as plt\n",
    "import missingno as msno\n",
    "import autoreload \n",
    "import warnings\n",
    "import os\n",
    "import csv\n",
    "import sys\n",
    "import re\n",
    "\n",
    "from collections import defaultdict, Counter\n",
    "\n",
    "%matplotlib inline\n",
    "\n",
    "pd.set_option('display.max_rows', 1000)\n",
    "pd.set_option('display.max_columns', 100)\n",
    "\n",
    "sb.set_style('darkgrid')\n",
    "sb.set()\n",
    "\n",
    "plt.style.use('seaborn')\n",
    "plt.tight_layout()\n",
    "\n",
    "%matplotlib inline\n",
    "%reload_ext autoreload\n",
    "%autoreload 2\n",
    "\n",
    "warnings.filterwarnings('ignore')"
   ]
  },
  {
   "cell_type": "code",
   "execution_count": 4,
   "metadata": {},
   "outputs": [
    {
     "data": {
      "text/html": [
       "<div>\n",
       "<style scoped>\n",
       "    .dataframe tbody tr th:only-of-type {\n",
       "        vertical-align: middle;\n",
       "    }\n",
       "\n",
       "    .dataframe tbody tr th {\n",
       "        vertical-align: top;\n",
       "    }\n",
       "\n",
       "    .dataframe thead th {\n",
       "        text-align: right;\n",
       "    }\n",
       "</style>\n",
       "<table border=\"1\" class=\"dataframe\">\n",
       "  <thead>\n",
       "    <tr style=\"text-align: right;\">\n",
       "      <th></th>\n",
       "      <th>\"Children are safe among family members such as grandparents, uncles, aunts, cousins\"</th>\n",
       "      <th>\"Children are mainly abused by strangers in our society\"</th>\n",
       "      <th>Male children dont need sexual abuse prevention knowledge</th>\n",
       "      <th>\"Teaching sexual abuse prevention in school is not necessary. It will make children curious about sex\"</th>\n",
       "      <th>Do you know what child grooming is?</th>\n",
       "      <th>Do you know what signs to look for to identify if your child has been abused?</th>\n",
       "      <th>Do you think children need post abuse counseling for recovering?</th>\n",
       "      <th>Do you think you should take legal action against the abuser of your child?</th>\n",
       "      <th>Knowledge Level</th>\n",
       "    </tr>\n",
       "  </thead>\n",
       "  <tbody>\n",
       "    <tr>\n",
       "      <td>0</td>\n",
       "      <td>Agree</td>\n",
       "      <td>Agree</td>\n",
       "      <td>Disagree</td>\n",
       "      <td>Agree</td>\n",
       "      <td>No</td>\n",
       "      <td>No</td>\n",
       "      <td>No</td>\n",
       "      <td>Yes</td>\n",
       "      <td>Beginner</td>\n",
       "    </tr>\n",
       "    <tr>\n",
       "      <td>1</td>\n",
       "      <td>Agree</td>\n",
       "      <td>Agree</td>\n",
       "      <td>Disagree</td>\n",
       "      <td>Disagree</td>\n",
       "      <td>No</td>\n",
       "      <td>No</td>\n",
       "      <td>Yes</td>\n",
       "      <td>Yes</td>\n",
       "      <td>Beginner</td>\n",
       "    </tr>\n",
       "    <tr>\n",
       "      <td>2</td>\n",
       "      <td>Disagree</td>\n",
       "      <td>Disagree</td>\n",
       "      <td>Disagree</td>\n",
       "      <td>Disagree</td>\n",
       "      <td>No</td>\n",
       "      <td>No</td>\n",
       "      <td>Yes</td>\n",
       "      <td>Yes</td>\n",
       "      <td>Beginner</td>\n",
       "    </tr>\n",
       "    <tr>\n",
       "      <td>3</td>\n",
       "      <td>Agree</td>\n",
       "      <td>Agree</td>\n",
       "      <td>Disagree</td>\n",
       "      <td>Disagree</td>\n",
       "      <td>No</td>\n",
       "      <td>No</td>\n",
       "      <td>Yes</td>\n",
       "      <td>Yes</td>\n",
       "      <td>Beginner</td>\n",
       "    </tr>\n",
       "    <tr>\n",
       "      <td>4</td>\n",
       "      <td>Agree</td>\n",
       "      <td>Disagree</td>\n",
       "      <td>Disagree</td>\n",
       "      <td>Disagree</td>\n",
       "      <td>Yes</td>\n",
       "      <td>Yes</td>\n",
       "      <td>Yes</td>\n",
       "      <td>Yes</td>\n",
       "      <td>Intermediate</td>\n",
       "    </tr>\n",
       "  </tbody>\n",
       "</table>\n",
       "</div>"
      ],
      "text/plain": [
       "  \"Children are safe among family members such as grandparents, uncles, aunts, cousins\"  \\\n",
       "0                                              Agree                                      \n",
       "1                                              Agree                                      \n",
       "2                                           Disagree                                      \n",
       "3                                              Agree                                      \n",
       "4                                              Agree                                      \n",
       "\n",
       "  \"Children are mainly abused by strangers in our society\"  \\\n",
       "0                                              Agree         \n",
       "1                                              Agree         \n",
       "2                                           Disagree         \n",
       "3                                              Agree         \n",
       "4                                           Disagree         \n",
       "\n",
       "  Male children dont need sexual abuse prevention knowledge  \\\n",
       "0                                           Disagree          \n",
       "1                                           Disagree          \n",
       "2                                           Disagree          \n",
       "3                                           Disagree          \n",
       "4                                           Disagree          \n",
       "\n",
       "  \"Teaching sexual abuse prevention in school is not necessary. It will make children curious about sex\"  \\\n",
       "0                                              Agree                                                       \n",
       "1                                           Disagree                                                       \n",
       "2                                           Disagree                                                       \n",
       "3                                           Disagree                                                       \n",
       "4                                           Disagree                                                       \n",
       "\n",
       "  Do you know what child grooming is?  \\\n",
       "0                                  No   \n",
       "1                                  No   \n",
       "2                                  No   \n",
       "3                                  No   \n",
       "4                                 Yes   \n",
       "\n",
       "  Do you know what signs to look for to identify if your child has been abused?  \\\n",
       "0                                                 No                              \n",
       "1                                                 No                              \n",
       "2                                                 No                              \n",
       "3                                                 No                              \n",
       "4                                                Yes                              \n",
       "\n",
       "  Do you think children need post abuse counseling for recovering?  \\\n",
       "0                                                 No                 \n",
       "1                                                Yes                 \n",
       "2                                                Yes                 \n",
       "3                                                Yes                 \n",
       "4                                                Yes                 \n",
       "\n",
       "  Do you think you should take legal action against the abuser of your child?  \\\n",
       "0                                                Yes                            \n",
       "1                                                Yes                            \n",
       "2                                                Yes                            \n",
       "3                                                Yes                            \n",
       "4                                                Yes                            \n",
       "\n",
       "  Knowledge Level  \n",
       "0        Beginner  \n",
       "1        Beginner  \n",
       "2        Beginner  \n",
       "3        Beginner  \n",
       "4    Intermediate  "
      ]
     },
     "execution_count": 4,
     "metadata": {},
     "output_type": "execute_result"
    }
   ],
   "source": [
    "df = pd.read_csv(\"D:\\Open Classroom\\Datasets\\Child Sexual Abuse Awareness Prediction\\CSA-Data.csv\")\n",
    "df.head()"
   ]
  },
  {
   "cell_type": "code",
   "execution_count": 5,
   "metadata": {},
   "outputs": [
    {
     "data": {
      "text/plain": [
       "(3002, 9)"
      ]
     },
     "execution_count": 5,
     "metadata": {},
     "output_type": "execute_result"
    }
   ],
   "source": [
    "df.shape"
   ]
  },
  {
   "cell_type": "code",
   "execution_count": 6,
   "metadata": {},
   "outputs": [
    {
     "name": "stdout",
     "output_type": "stream",
     "text": [
      "<class 'pandas.core.frame.DataFrame'>\n",
      "RangeIndex: 3002 entries, 0 to 3001\n",
      "Data columns (total 9 columns):\n",
      "\"Children are safe among family members such as grandparents, uncles, aunts, cousins\"                     3002 non-null object\n",
      "\"Children are mainly abused by strangers in our society\"                                                  3002 non-null object\n",
      "Male children dont need sexual abuse prevention knowledge                                                 3002 non-null object\n",
      "\"Teaching sexual abuse prevention in school is not necessary. It will make children curious about sex\"    3002 non-null object\n",
      "Do you know what child grooming is?                                                                       3002 non-null object\n",
      "Do you know what signs to look for to identify if your child has been abused?                             3002 non-null object\n",
      "Do you think children need post abuse counseling for recovering?                                          3002 non-null object\n",
      "Do you think you should take legal action against the abuser of your child?                               3002 non-null object\n",
      "Knowledge Level                                                                                           3002 non-null object\n",
      "dtypes: object(9)\n",
      "memory usage: 211.2+ KB\n"
     ]
    }
   ],
   "source": [
    "df.info()"
   ]
  },
  {
   "cell_type": "code",
   "execution_count": 9,
   "metadata": {},
   "outputs": [
    {
     "data": {
      "text/plain": [
       "Index(['\"Children are safe among family members such as grandparents, uncles, aunts, cousins\"',\n",
       "       '\"Children are mainly abused by strangers in our society\"',\n",
       "       'Male children dont need sexual abuse prevention knowledge',\n",
       "       '\"Teaching sexual abuse prevention in school is not necessary. It will make children curious about sex\"',\n",
       "       'Do you know what child grooming is?',\n",
       "       'Do you know what signs to look for to identify if your child has been abused?',\n",
       "       'Do you think children need post abuse counseling for recovering?',\n",
       "       'Do you think you should take legal action against the abuser of your child?',\n",
       "       'Knowledge Level'],\n",
       "      dtype='object')"
      ]
     },
     "execution_count": 9,
     "metadata": {},
     "output_type": "execute_result"
    }
   ],
   "source": [
    "df.columns"
   ]
  },
  {
   "cell_type": "code",
   "execution_count": 10,
   "metadata": {},
   "outputs": [
    {
     "data": {
      "text/html": [
       "<div>\n",
       "<style scoped>\n",
       "    .dataframe tbody tr th:only-of-type {\n",
       "        vertical-align: middle;\n",
       "    }\n",
       "\n",
       "    .dataframe tbody tr th {\n",
       "        vertical-align: top;\n",
       "    }\n",
       "\n",
       "    .dataframe thead th {\n",
       "        text-align: right;\n",
       "    }\n",
       "</style>\n",
       "<table border=\"1\" class=\"dataframe\">\n",
       "  <thead>\n",
       "    <tr style=\"text-align: right;\">\n",
       "      <th></th>\n",
       "      <th>\"Children are safe among family members such as grandparents, uncles, aunts, cousins\"</th>\n",
       "      <th>\"Children are mainly abused by strangers in our society\"</th>\n",
       "      <th>Male children dont need sexual abuse prevention knowledge</th>\n",
       "      <th>\"Teaching sexual abuse prevention in school is not necessary. It will make children curious about sex\"</th>\n",
       "      <th>Do you know what child grooming is?</th>\n",
       "      <th>Do you know what signs to look for to identify if your child has been abused?</th>\n",
       "      <th>Do you think children need post abuse counseling for recovering?</th>\n",
       "      <th>Do you think you should take legal action against the abuser of your child?</th>\n",
       "      <th>Knowledge Level</th>\n",
       "    </tr>\n",
       "  </thead>\n",
       "  <tbody>\n",
       "    <tr>\n",
       "      <td>0</td>\n",
       "      <td>Agree</td>\n",
       "      <td>Agree</td>\n",
       "      <td>Disagree</td>\n",
       "      <td>Agree</td>\n",
       "      <td>No</td>\n",
       "      <td>No</td>\n",
       "      <td>No</td>\n",
       "      <td>Yes</td>\n",
       "      <td>Beginner</td>\n",
       "    </tr>\n",
       "    <tr>\n",
       "      <td>1</td>\n",
       "      <td>Agree</td>\n",
       "      <td>Agree</td>\n",
       "      <td>Disagree</td>\n",
       "      <td>Disagree</td>\n",
       "      <td>No</td>\n",
       "      <td>No</td>\n",
       "      <td>Yes</td>\n",
       "      <td>Yes</td>\n",
       "      <td>Beginner</td>\n",
       "    </tr>\n",
       "    <tr>\n",
       "      <td>2</td>\n",
       "      <td>Disagree</td>\n",
       "      <td>Disagree</td>\n",
       "      <td>Disagree</td>\n",
       "      <td>Disagree</td>\n",
       "      <td>No</td>\n",
       "      <td>No</td>\n",
       "      <td>Yes</td>\n",
       "      <td>Yes</td>\n",
       "      <td>Beginner</td>\n",
       "    </tr>\n",
       "    <tr>\n",
       "      <td>3</td>\n",
       "      <td>Agree</td>\n",
       "      <td>Agree</td>\n",
       "      <td>Disagree</td>\n",
       "      <td>Disagree</td>\n",
       "      <td>No</td>\n",
       "      <td>No</td>\n",
       "      <td>Yes</td>\n",
       "      <td>Yes</td>\n",
       "      <td>Beginner</td>\n",
       "    </tr>\n",
       "    <tr>\n",
       "      <td>4</td>\n",
       "      <td>Agree</td>\n",
       "      <td>Disagree</td>\n",
       "      <td>Disagree</td>\n",
       "      <td>Disagree</td>\n",
       "      <td>Yes</td>\n",
       "      <td>Yes</td>\n",
       "      <td>Yes</td>\n",
       "      <td>Yes</td>\n",
       "      <td>Intermediate</td>\n",
       "    </tr>\n",
       "  </tbody>\n",
       "</table>\n",
       "</div>"
      ],
      "text/plain": [
       "  \"Children are safe among family members such as grandparents, uncles, aunts, cousins\"  \\\n",
       "0                                              Agree                                      \n",
       "1                                              Agree                                      \n",
       "2                                           Disagree                                      \n",
       "3                                              Agree                                      \n",
       "4                                              Agree                                      \n",
       "\n",
       "  \"Children are mainly abused by strangers in our society\"  \\\n",
       "0                                              Agree         \n",
       "1                                              Agree         \n",
       "2                                           Disagree         \n",
       "3                                              Agree         \n",
       "4                                           Disagree         \n",
       "\n",
       "  Male children dont need sexual abuse prevention knowledge  \\\n",
       "0                                           Disagree          \n",
       "1                                           Disagree          \n",
       "2                                           Disagree          \n",
       "3                                           Disagree          \n",
       "4                                           Disagree          \n",
       "\n",
       "  \"Teaching sexual abuse prevention in school is not necessary. It will make children curious about sex\"  \\\n",
       "0                                              Agree                                                       \n",
       "1                                           Disagree                                                       \n",
       "2                                           Disagree                                                       \n",
       "3                                           Disagree                                                       \n",
       "4                                           Disagree                                                       \n",
       "\n",
       "  Do you know what child grooming is?  \\\n",
       "0                                  No   \n",
       "1                                  No   \n",
       "2                                  No   \n",
       "3                                  No   \n",
       "4                                 Yes   \n",
       "\n",
       "  Do you know what signs to look for to identify if your child has been abused?  \\\n",
       "0                                                 No                              \n",
       "1                                                 No                              \n",
       "2                                                 No                              \n",
       "3                                                 No                              \n",
       "4                                                Yes                              \n",
       "\n",
       "  Do you think children need post abuse counseling for recovering?  \\\n",
       "0                                                 No                 \n",
       "1                                                Yes                 \n",
       "2                                                Yes                 \n",
       "3                                                Yes                 \n",
       "4                                                Yes                 \n",
       "\n",
       "  Do you think you should take legal action against the abuser of your child?  \\\n",
       "0                                                Yes                            \n",
       "1                                                Yes                            \n",
       "2                                                Yes                            \n",
       "3                                                Yes                            \n",
       "4                                                Yes                            \n",
       "\n",
       "  Knowledge Level  \n",
       "0        Beginner  \n",
       "1        Beginner  \n",
       "2        Beginner  \n",
       "3        Beginner  \n",
       "4    Intermediate  "
      ]
     },
     "execution_count": 10,
     "metadata": {},
     "output_type": "execute_result"
    }
   ],
   "source": [
    "df.head()"
   ]
  },
  {
   "cell_type": "code",
   "execution_count": 11,
   "metadata": {},
   "outputs": [
    {
     "data": {
      "text/plain": [
       "Beginner        1711\n",
       "Intermediate    1291\n",
       "Name: Knowledge Level, dtype: int64"
      ]
     },
     "execution_count": 11,
     "metadata": {},
     "output_type": "execute_result"
    }
   ],
   "source": [
    "df['Knowledge Level'].value_counts()"
   ]
  },
  {
   "cell_type": "code",
   "execution_count": 24,
   "metadata": {},
   "outputs": [
    {
     "data": {
      "text/plain": [
       "Text(0.5, 1.0, 'Children Saftey among Family Members')"
      ]
     },
     "execution_count": 24,
     "metadata": {},
     "output_type": "execute_result"
    },
    {
     "data": {
      "image/png": "[encoded data removed]",
      "text/plain": [
       "<Figure size 576x432 with 1 Axes>"
      ]
     },
     "metadata": {
      "needs_background": "light"
     },
     "output_type": "display_data"
    }
   ],
   "source": [
    "plt.figure(figsize = (8,6))\n",
    "sb.countplot(df['\"Children are safe among family members such as grandparents, uncles, aunts, cousins\"'])\n",
    "plt.ylabel(None)\n",
    "plt.xlabel(None)\n",
    "plt.title('Children Saftey among Family Members', fontdict = {'size': 14})"
   ]
  },
  {
   "cell_type": "code",
   "execution_count": 26,
   "metadata": {},
   "outputs": [
    {
     "data": {
      "text/plain": [
       "Text(0.5, 1.0, 'Children are mainly abused by strangers in our society')"
      ]
     },
     "execution_count": 26,
     "metadata": {},
     "output_type": "execute_result"
    },
    {
     "data": {
      "image/png": "[encoded data removed]",
      "text/plain": [
       "<Figure size 576x432 with 1 Axes>"
      ]
     },
     "metadata": {
      "needs_background": "light"
     },
     "output_type": "display_data"
    }
   ],
   "source": [
    "plt.figure(figsize = (8,6))\n",
    "sb.countplot(df['\"Children are mainly abused by strangers in our society\"'])\n",
    "plt.ylabel(None)\n",
    "plt.xlabel(None)\n",
    "plt.title('Children are mainly abused by strangers in our society', fontdict = {'size': 14})"
   ]
  },
  {
   "cell_type": "code",
   "execution_count": 28,
   "metadata": {},
   "outputs": [
    {
     "data": {
      "text/plain": [
       "Text(0.5, 1.0, 'Male children dont need sexual abuse \\nprevention knowledge')"
      ]
     },
     "execution_count": 28,
     "metadata": {},
     "output_type": "execute_result"
    },
    {
     "data": {
      "image/png": "[encoded data removed]",
      "text/plain": [
       "<Figure size 576x432 with 1 Axes>"
      ]
     },
     "metadata": {
      "needs_background": "light"
     },
     "output_type": "display_data"
    }
   ],
   "source": [
    "plt.figure(figsize = (8,6))\n",
    "sb.countplot(df['Male children dont need sexual abuse prevention knowledge'])\n",
    "plt.ylabel(None)\n",
    "plt.xlabel(None)\n",
    "plt.title('Male children dont need sexual abuse \\nprevention knowledge', fontdict = {'size': 14})"
   ]
  },
  {
   "cell_type": "code",
   "execution_count": 30,
   "metadata": {},
   "outputs": [
    {
     "data": {
      "text/plain": [
       "Text(0.5, 1.0, 'Necessity of teaching Sexual abuse in schools')"
      ]
     },
     "execution_count": 30,
     "metadata": {},
     "output_type": "execute_result"
    },
    {
     "data": {
      "image/png": "[encoded data removed]",
      "text/plain": [
       "<Figure size 576x432 with 1 Axes>"
      ]
     },
     "metadata": {
      "needs_background": "light"
     },
     "output_type": "display_data"
    }
   ],
   "source": [
    "plt.figure(figsize = (8,6))\n",
    "sb.countplot(df['\"Teaching sexual abuse prevention in school is not necessary. It will make children curious about sex\"'])\n",
    "plt.ylabel(None)\n",
    "plt.xlabel(None)\n",
    "plt.title('Necessity of teaching Sexual abuse in schools', fontdict = {'size': 14})"
   ]
  },
  {
   "cell_type": "code",
   "execution_count": 31,
   "metadata": {},
   "outputs": [
    {
     "data": {
      "text/plain": [
       "Text(0.5, 1.0, 'Do you know what child grooming is?')"
      ]
     },
     "execution_count": 31,
     "metadata": {},
     "output_type": "execute_result"
    },
    {
     "data": {
      "image/png": "[encoded data removed]",
      "text/plain": [
       "<Figure size 576x432 with 1 Axes>"
      ]
     },
     "metadata": {
      "needs_background": "light"
     },
     "output_type": "display_data"
    }
   ],
   "source": [
    "plt.figure(figsize = (8,6))\n",
    "sb.countplot(df['Do you know what child grooming is?'])\n",
    "plt.ylabel(None)\n",
    "plt.xlabel(None)\n",
    "plt.title('Do you know what child grooming is?', fontdict = {'size': 14})"
   ]
  },
  {
   "cell_type": "code",
   "execution_count": 66,
   "metadata": {},
   "outputs": [
    {
     "data": {
      "text/plain": [
       "Text(0.5, 1.0, 'Do you know to identify an Abused Child')"
      ]
     },
     "execution_count": 66,
     "metadata": {},
     "output_type": "execute_result"
    },
    {
     "data": {
      "image/png": "[encoded data removed]",
      "text/plain": [
       "<Figure size 576x432 with 1 Axes>"
      ]
     },
     "metadata": {},
     "output_type": "display_data"
    }
   ],
   "source": [
    "plt.figure(figsize = (8,6))\n",
    "df['Do you know what signs to look for to identify if your child has been abused?'].value_counts().plot(kind='barh')\n",
    "plt.ylabel(None)\n",
    "plt.xlabel(None)\n",
    "plt.title('Do you know to identify an Abused Child', fontdict = {'size': 14})"
   ]
  },
  {
   "cell_type": "code",
   "execution_count": 34,
   "metadata": {},
   "outputs": [
    {
     "data": {
      "text/plain": [
       "Text(0.5, 1.0, 'Do you think children need post abuse \\ncounseling for recovering?')"
      ]
     },
     "execution_count": 34,
     "metadata": {},
     "output_type": "execute_result"
    },
    {
     "data": {
      "image/png": "[encoded data removed]",
      "text/plain": [
       "<Figure size 576x432 with 1 Axes>"
      ]
     },
     "metadata": {
      "needs_background": "light"
     },
     "output_type": "display_data"
    }
   ],
   "source": [
    "plt.figure(figsize = (8,6))\n",
    "sb.countplot(df['Do you think children need post abuse counseling for recovering?'])\n",
    "plt.ylabel(None)\n",
    "plt.xlabel(None)\n",
    "plt.title('Do you think children need post abuse \\ncounseling for recovering?', fontdict = {'size': 14})"
   ]
  },
  {
   "cell_type": "code",
   "execution_count": 58,
   "metadata": {},
   "outputs": [
    {
     "data": {
      "text/plain": [
       "Text(0.5, 1.0, 'Legal action against abusers')"
      ]
     },
     "execution_count": 58,
     "metadata": {},
     "output_type": "execute_result"
    },
    {
     "data": {
      "image/png": "[encoded data removed]",
      "text/plain": [
       "<Figure size 576x432 with 1 Axes>"
      ]
     },
     "metadata": {},
     "output_type": "display_data"
    }
   ],
   "source": [
    "plt.figure(figsize = (8,6))\n",
    "sb.set_style('whitegrid')\n",
    "plt.pie(df['Do you think you should take legal action against the abuser of your child?'].value_counts(), \n",
    "        labels=df['Do you think you should take legal action against the abuser of your child?'].unique(), autopct='%1.1f%%', frame=False, wedgeprops={'linewidth':5}, \n",
    "       shadow = True)\n",
    "plt.ylabel(None)\n",
    "plt.xlabel(None)\n",
    "plt.title('Legal action against abusers', fontdict = {'size': 14})"
   ]
  },
  {
   "cell_type": "code",
   "execution_count": 36,
   "metadata": {},
   "outputs": [
    {
     "data": {
      "text/plain": [
       "Text(0.5, 1.0, 'Knowledge Level')"
      ]
     },
     "execution_count": 36,
     "metadata": {},
     "output_type": "execute_result"
    },
    {
     "data": {
      "image/png": "[encoded data removed]",
      "text/plain": [
       "<Figure size 576x432 with 1 Axes>"
      ]
     },
     "metadata": {
      "needs_background": "light"
     },
     "output_type": "display_data"
    }
   ],
   "source": [
    "plt.figure(figsize = (8,6))\n",
    "sb.countplot(df['Knowledge Level'])\n",
    "plt.ylabel(None)\n",
    "plt.xlabel(None)\n",
    "plt.title('Knowledge Level', fontdict = {'size': 14})"
   ]
  },
  {
   "cell_type": "code",
   "execution_count": 37,
   "metadata": {},
   "outputs": [
    {
     "data": {
      "text/html": [
       "<div>\n",
       "<style scoped>\n",
       "    .dataframe tbody tr th:only-of-type {\n",
       "        vertical-align: middle;\n",
       "    }\n",
       "\n",
       "    .dataframe tbody tr th {\n",
       "        vertical-align: top;\n",
       "    }\n",
       "\n",
       "    .dataframe thead th {\n",
       "        text-align: right;\n",
       "    }\n",
       "</style>\n",
       "<table border=\"1\" class=\"dataframe\">\n",
       "  <thead>\n",
       "    <tr style=\"text-align: right;\">\n",
       "      <th></th>\n",
       "      <th>\"Children are safe among family members such as grandparents, uncles, aunts, cousins\"</th>\n",
       "      <th>\"Children are mainly abused by strangers in our society\"</th>\n",
       "      <th>Male children dont need sexual abuse prevention knowledge</th>\n",
       "      <th>\"Teaching sexual abuse prevention in school is not necessary. It will make children curious about sex\"</th>\n",
       "      <th>Do you know what child grooming is?</th>\n",
       "      <th>Do you know what signs to look for to identify if your child has been abused?</th>\n",
       "      <th>Do you think children need post abuse counseling for recovering?</th>\n",
       "      <th>Do you think you should take legal action against the abuser of your child?</th>\n",
       "      <th>Knowledge Level</th>\n",
       "    </tr>\n",
       "  </thead>\n",
       "  <tbody>\n",
       "    <tr>\n",
       "      <td>0</td>\n",
       "      <td>Agree</td>\n",
       "      <td>Agree</td>\n",
       "      <td>Disagree</td>\n",
       "      <td>Agree</td>\n",
       "      <td>No</td>\n",
       "      <td>No</td>\n",
       "      <td>No</td>\n",
       "      <td>Yes</td>\n",
       "      <td>Beginner</td>\n",
       "    </tr>\n",
       "    <tr>\n",
       "      <td>1</td>\n",
       "      <td>Agree</td>\n",
       "      <td>Agree</td>\n",
       "      <td>Disagree</td>\n",
       "      <td>Disagree</td>\n",
       "      <td>No</td>\n",
       "      <td>No</td>\n",
       "      <td>Yes</td>\n",
       "      <td>Yes</td>\n",
       "      <td>Beginner</td>\n",
       "    </tr>\n",
       "    <tr>\n",
       "      <td>2</td>\n",
       "      <td>Disagree</td>\n",
       "      <td>Disagree</td>\n",
       "      <td>Disagree</td>\n",
       "      <td>Disagree</td>\n",
       "      <td>No</td>\n",
       "      <td>No</td>\n",
       "      <td>Yes</td>\n",
       "      <td>Yes</td>\n",
       "      <td>Beginner</td>\n",
       "    </tr>\n",
       "    <tr>\n",
       "      <td>3</td>\n",
       "      <td>Agree</td>\n",
       "      <td>Agree</td>\n",
       "      <td>Disagree</td>\n",
       "      <td>Disagree</td>\n",
       "      <td>No</td>\n",
       "      <td>No</td>\n",
       "      <td>Yes</td>\n",
       "      <td>Yes</td>\n",
       "      <td>Beginner</td>\n",
       "    </tr>\n",
       "    <tr>\n",
       "      <td>4</td>\n",
       "      <td>Agree</td>\n",
       "      <td>Disagree</td>\n",
       "      <td>Disagree</td>\n",
       "      <td>Disagree</td>\n",
       "      <td>Yes</td>\n",
       "      <td>Yes</td>\n",
       "      <td>Yes</td>\n",
       "      <td>Yes</td>\n",
       "      <td>Intermediate</td>\n",
       "    </tr>\n",
       "  </tbody>\n",
       "</table>\n",
       "</div>"
      ],
      "text/plain": [
       "  \"Children are safe among family members such as grandparents, uncles, aunts, cousins\"  \\\n",
       "0                                              Agree                                      \n",
       "1                                              Agree                                      \n",
       "2                                           Disagree                                      \n",
       "3                                              Agree                                      \n",
       "4                                              Agree                                      \n",
       "\n",
       "  \"Children are mainly abused by strangers in our society\"  \\\n",
       "0                                              Agree         \n",
       "1                                              Agree         \n",
       "2                                           Disagree         \n",
       "3                                              Agree         \n",
       "4                                           Disagree         \n",
       "\n",
       "  Male children dont need sexual abuse prevention knowledge  \\\n",
       "0                                           Disagree          \n",
       "1                                           Disagree          \n",
       "2                                           Disagree          \n",
       "3                                           Disagree          \n",
       "4                                           Disagree          \n",
       "\n",
       "  \"Teaching sexual abuse prevention in school is not necessary. It will make children curious about sex\"  \\\n",
       "0                                              Agree                                                       \n",
       "1                                           Disagree                                                       \n",
       "2                                           Disagree                                                       \n",
       "3                                           Disagree                                                       \n",
       "4                                           Disagree                                                       \n",
       "\n",
       "  Do you know what child grooming is?  \\\n",
       "0                                  No   \n",
       "1                                  No   \n",
       "2                                  No   \n",
       "3                                  No   \n",
       "4                                 Yes   \n",
       "\n",
       "  Do you know what signs to look for to identify if your child has been abused?  \\\n",
       "0                                                 No                              \n",
       "1                                                 No                              \n",
       "2                                                 No                              \n",
       "3                                                 No                              \n",
       "4                                                Yes                              \n",
       "\n",
       "  Do you think children need post abuse counseling for recovering?  \\\n",
       "0                                                 No                 \n",
       "1                                                Yes                 \n",
       "2                                                Yes                 \n",
       "3                                                Yes                 \n",
       "4                                                Yes                 \n",
       "\n",
       "  Do you think you should take legal action against the abuser of your child?  \\\n",
       "0                                                Yes                            \n",
       "1                                                Yes                            \n",
       "2                                                Yes                            \n",
       "3                                                Yes                            \n",
       "4                                                Yes                            \n",
       "\n",
       "  Knowledge Level  \n",
       "0        Beginner  \n",
       "1        Beginner  \n",
       "2        Beginner  \n",
       "3        Beginner  \n",
       "4    Intermediate  "
      ]
     },
     "execution_count": 37,
     "metadata": {},
     "output_type": "execute_result"
    }
   ],
   "source": [
    "df.head()"
   ]
  },
  {
   "cell_type": "code",
   "execution_count": 38,
   "metadata": {},
   "outputs": [
    {
     "data": {
      "text/plain": [
       "Index(['\"Children are safe among family members such as grandparents, uncles, aunts, cousins\"',\n",
       "       '\"Children are mainly abused by strangers in our society\"',\n",
       "       'Male children dont need sexual abuse prevention knowledge',\n",
       "       '\"Teaching sexual abuse prevention in school is not necessary. It will make children curious about sex\"',\n",
       "       'Do you know what child grooming is?',\n",
       "       'Do you know what signs to look for to identify if your child has been abused?',\n",
       "       'Do you think children need post abuse counseling for recovering?',\n",
       "       'Do you think you should take legal action against the abuser of your child?',\n",
       "       'Knowledge Level'],\n",
       "      dtype='object')"
      ]
     },
     "execution_count": 38,
     "metadata": {},
     "output_type": "execute_result"
    }
   ],
   "source": [
    "df.columns"
   ]
  },
  {
   "cell_type": "code",
   "execution_count": 45,
   "metadata": {},
   "outputs": [
    {
     "data": {
      "text/plain": [
       "Yes    1928\n",
       "No     1074\n",
       "Name: Do you think you should take legal action against the abuser of your child?, dtype: int64"
      ]
     },
     "execution_count": 45,
     "metadata": {},
     "output_type": "execute_result"
    }
   ],
   "source": [
    "df['Do you think you should take legal action against the abuser of your child?'].value_counts()"
   ]
  },
  {
   "cell_type": "code",
   "execution_count": null,
   "metadata": {},
   "outputs": [],
   "source": []
  }
 ],
 "metadata": {
  "kernelspec": {
   "display_name": "Python 3 (ipykernel)",
   "language": "python",
   "name": "python3"
  },
  "language_info": {
   "codemirror_mode": {
    "name": "ipython",
    "version": 3
   },
   "file_extension": ".py",
   "mimetype": "text/x-python",
   "name": "python",
   "nbconvert_exporter": "python",
   "pygments_lexer": "ipython3",
   "version": "3.11.3"
  }
 },
 "nbformat": 4,
 "nbformat_minor": 4
}
