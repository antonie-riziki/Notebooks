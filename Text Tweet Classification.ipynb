{
 "cells": [
  {
   "cell_type": "markdown",
   "metadata": {},
   "source": [
    "### Text Tweet Classification"
   ]
  },
  {
   "cell_type": "code",
   "execution_count": 172,
   "metadata": {},
   "outputs": [],
   "source": [
    "import pandas as pd\n",
    "import numpy as np\n",
    "import seaborn as sb\n",
    "import matplotlib.pyplot as plt\n",
    "import autoreload\n",
    "import csv\n",
    "import os\n",
    "import re\n",
    "\n",
    "from collections import defaultdict, Counter\n",
    "from sklearn.preprocessing import LabelEncoder\n",
    "from sklearn.model_selection import train_test_split\n",
    "from sklearn.feature_extraction.text import CountVectorizer\n",
    "from sklearn.naive_bayes import MultinomialNB\n",
    "from sklearn.tree import DecisionTreeClassifier\n",
    "\n",
    "sb.set()\n",
    "sb.set_style(\"darkgrid\")\n",
    "\n",
    "pd.set_option(\"display.max_rows\", 1000)\n",
    "pd.set_option(\"display.max_columns\", 100)"
   ]
  },
  {
   "cell_type": "code",
   "execution_count": 75,
   "metadata": {},
   "outputs": [
    {
     "data": {
      "text/html": [
       "<div>\n",
       "<style scoped>\n",
       "    .dataframe tbody tr th:only-of-type {\n",
       "        vertical-align: middle;\n",
       "    }\n",
       "\n",
       "    .dataframe tbody tr th {\n",
       "        vertical-align: top;\n",
       "    }\n",
       "\n",
       "    .dataframe thead th {\n",
       "        text-align: right;\n",
       "    }\n",
       "</style>\n",
       "<table border=\"1\" class=\"dataframe\">\n",
       "  <thead>\n",
       "    <tr style=\"text-align: right;\">\n",
       "      <th></th>\n",
       "      <th>text</th>\n",
       "      <th>type</th>\n",
       "    </tr>\n",
       "  </thead>\n",
       "  <tbody>\n",
       "    <tr>\n",
       "      <th>0</th>\n",
       "      <td>@ACNI2012 @TheToka920 Never knew having 1 or 2...</td>\n",
       "      <td>sports</td>\n",
       "    </tr>\n",
       "    <tr>\n",
       "      <th>1</th>\n",
       "      <td>MYCA Magical Moments:\\n\\nSeptember, 2011: Sham...</td>\n",
       "      <td>sports</td>\n",
       "    </tr>\n",
       "    <tr>\n",
       "      <th>2</th>\n",
       "      <td>The current state of last year's @BBL finalist...</td>\n",
       "      <td>sports</td>\n",
       "    </tr>\n",
       "    <tr>\n",
       "      <th>3</th>\n",
       "      <td>@HOLLYJISOO Why did you bring a cricket...</td>\n",
       "      <td>sports</td>\n",
       "    </tr>\n",
       "    <tr>\n",
       "      <th>4</th>\n",
       "      <td>Babar Azam only Pakistani included in the ICC ...</td>\n",
       "      <td>sports</td>\n",
       "    </tr>\n",
       "  </tbody>\n",
       "</table>\n",
       "</div>"
      ],
      "text/plain": [
       "                                                text    type\n",
       "0  @ACNI2012 @TheToka920 Never knew having 1 or 2...  sports\n",
       "1  MYCA Magical Moments:\\n\\nSeptember, 2011: Sham...  sports\n",
       "2  The current state of last year's @BBL finalist...  sports\n",
       "3         @HOLLYJISOO Why did you bring a cricket...  sports\n",
       "4  Babar Azam only Pakistani included in the ICC ...  sports"
      ]
     },
     "execution_count": 75,
     "metadata": {},
     "output_type": "execute_result"
    }
   ],
   "source": [
    "df = pd.read_excel(r\"D:\\Open Classroom\\Datasets\\Text (Tweet) Classification\\text_classification_dataset.xlsx\")\n",
    "df.head()"
   ]
  },
  {
   "cell_type": "code",
   "execution_count": 76,
   "metadata": {},
   "outputs": [
    {
     "data": {
      "text/plain": [
       "(1162, 2)"
      ]
     },
     "execution_count": 76,
     "metadata": {},
     "output_type": "execute_result"
    }
   ],
   "source": [
    "df.shape\n",
    "# Contains 1162 - Rows\n",
    "#          2 - Columns"
   ]
  },
  {
   "cell_type": "code",
   "execution_count": 77,
   "metadata": {},
   "outputs": [
    {
     "name": "stdout",
     "output_type": "stream",
     "text": [
      "<class 'pandas.core.frame.DataFrame'>\n",
      "RangeIndex: 1162 entries, 0 to 1161\n",
      "Data columns (total 2 columns):\n",
      " #   Column  Non-Null Count  Dtype \n",
      "---  ------  --------------  ----- \n",
      " 0   text    1162 non-null   object\n",
      " 1   type    1162 non-null   object\n",
      "dtypes: object(2)\n",
      "memory usage: 18.3+ KB\n"
     ]
    }
   ],
   "source": [
    "df.info()"
   ]
  },
  {
   "cell_type": "code",
   "execution_count": 78,
   "metadata": {},
   "outputs": [
    {
     "data": {
      "text/html": [
       "<div>\n",
       "<style scoped>\n",
       "    .dataframe tbody tr th:only-of-type {\n",
       "        vertical-align: middle;\n",
       "    }\n",
       "\n",
       "    .dataframe tbody tr th {\n",
       "        vertical-align: top;\n",
       "    }\n",
       "\n",
       "    .dataframe thead th {\n",
       "        text-align: right;\n",
       "    }\n",
       "</style>\n",
       "<table border=\"1\" class=\"dataframe\">\n",
       "  <thead>\n",
       "    <tr style=\"text-align: right;\">\n",
       "      <th></th>\n",
       "      <th>text</th>\n",
       "      <th>type</th>\n",
       "    </tr>\n",
       "  </thead>\n",
       "  <tbody>\n",
       "    <tr>\n",
       "      <th>count</th>\n",
       "      <td>1162</td>\n",
       "      <td>1162</td>\n",
       "    </tr>\n",
       "    <tr>\n",
       "      <th>unique</th>\n",
       "      <td>1162</td>\n",
       "      <td>4</td>\n",
       "    </tr>\n",
       "    <tr>\n",
       "      <th>top</th>\n",
       "      <td>me to my family members: “I want to go into po...</td>\n",
       "      <td>politics</td>\n",
       "    </tr>\n",
       "    <tr>\n",
       "      <th>freq</th>\n",
       "      <td>1</td>\n",
       "      <td>345</td>\n",
       "    </tr>\n",
       "  </tbody>\n",
       "</table>\n",
       "</div>"
      ],
      "text/plain": [
       "                                                     text      type\n",
       "count                                                1162      1162\n",
       "unique                                               1162         4\n",
       "top     me to my family members: “I want to go into po...  politics\n",
       "freq                                                    1       345"
      ]
     },
     "execution_count": 78,
     "metadata": {},
     "output_type": "execute_result"
    }
   ],
   "source": [
    "df.describe()"
   ]
  },
  {
   "cell_type": "code",
   "execution_count": 79,
   "metadata": {},
   "outputs": [
    {
     "data": {
      "text/plain": [
       "text    0\n",
       "type    0\n",
       "dtype: int64"
      ]
     },
     "execution_count": 79,
     "metadata": {},
     "output_type": "execute_result"
    }
   ],
   "source": [
    "df.isnull().sum()\n",
    "# Doesnt contain any Null values"
   ]
  },
  {
   "cell_type": "code",
   "execution_count": 80,
   "metadata": {},
   "outputs": [
    {
     "data": {
      "text/html": [
       "<div>\n",
       "<style scoped>\n",
       "    .dataframe tbody tr th:only-of-type {\n",
       "        vertical-align: middle;\n",
       "    }\n",
       "\n",
       "    .dataframe tbody tr th {\n",
       "        vertical-align: top;\n",
       "    }\n",
       "\n",
       "    .dataframe thead th {\n",
       "        text-align: right;\n",
       "    }\n",
       "</style>\n",
       "<table border=\"1\" class=\"dataframe\">\n",
       "  <thead>\n",
       "    <tr style=\"text-align: right;\">\n",
       "      <th></th>\n",
       "      <th>text</th>\n",
       "      <th>type</th>\n",
       "    </tr>\n",
       "  </thead>\n",
       "  <tbody>\n",
       "  </tbody>\n",
       "</table>\n",
       "</div>"
      ],
      "text/plain": [
       "Empty DataFrame\n",
       "Columns: [text, type]\n",
       "Index: []"
      ]
     },
     "execution_count": 80,
     "metadata": {},
     "output_type": "execute_result"
    }
   ],
   "source": [
    "df[df.duplicated() == True]\n",
    "# No duplicates in the dataset"
   ]
  },
  {
   "cell_type": "markdown",
   "metadata": {},
   "source": [
    "Replace special string characters using regresion analysis"
   ]
  },
  {
   "cell_type": "code",
   "execution_count": 81,
   "metadata": {},
   "outputs": [],
   "source": [
    "for i in range(len(df['text'])):\n",
    "    df['text'][i]=re.sub('http[s]?://(?:[a-zA-Z]|[0-9]|[$-_@.&+]|[!*\\(\\),]|(?:%[0-9a-fA-F][0-9a-fA-F]))+','', df['text'][i], flags=re.MULTILINE)"
   ]
  },
  {
   "cell_type": "code",
   "execution_count": 82,
   "metadata": {},
   "outputs": [
    {
     "data": {
      "text/html": [
       "<div>\n",
       "<style scoped>\n",
       "    .dataframe tbody tr th:only-of-type {\n",
       "        vertical-align: middle;\n",
       "    }\n",
       "\n",
       "    .dataframe tbody tr th {\n",
       "        vertical-align: top;\n",
       "    }\n",
       "\n",
       "    .dataframe thead th {\n",
       "        text-align: right;\n",
       "    }\n",
       "</style>\n",
       "<table border=\"1\" class=\"dataframe\">\n",
       "  <thead>\n",
       "    <tr style=\"text-align: right;\">\n",
       "      <th></th>\n",
       "      <th>text</th>\n",
       "      <th>type</th>\n",
       "    </tr>\n",
       "  </thead>\n",
       "  <tbody>\n",
       "    <tr>\n",
       "      <th>0</th>\n",
       "      <td>@ACNI2012 @TheToka920 Never knew having 1 or 2...</td>\n",
       "      <td>sports</td>\n",
       "    </tr>\n",
       "    <tr>\n",
       "      <th>1</th>\n",
       "      <td>MYCA Magical Moments:\\n\\nSeptember, 2011: Sham...</td>\n",
       "      <td>sports</td>\n",
       "    </tr>\n",
       "    <tr>\n",
       "      <th>2</th>\n",
       "      <td>The current state of last year's @BBL finalist...</td>\n",
       "      <td>sports</td>\n",
       "    </tr>\n",
       "    <tr>\n",
       "      <th>3</th>\n",
       "      <td>@HOLLYJISOO Why did you bring a cricket...</td>\n",
       "      <td>sports</td>\n",
       "    </tr>\n",
       "    <tr>\n",
       "      <th>4</th>\n",
       "      <td>Babar Azam only Pakistani included in the ICC ...</td>\n",
       "      <td>sports</td>\n",
       "    </tr>\n",
       "  </tbody>\n",
       "</table>\n",
       "</div>"
      ],
      "text/plain": [
       "                                                text    type\n",
       "0  @ACNI2012 @TheToka920 Never knew having 1 or 2...  sports\n",
       "1  MYCA Magical Moments:\\n\\nSeptember, 2011: Sham...  sports\n",
       "2  The current state of last year's @BBL finalist...  sports\n",
       "3         @HOLLYJISOO Why did you bring a cricket...  sports\n",
       "4  Babar Azam only Pakistani included in the ICC ...  sports"
      ]
     },
     "execution_count": 82,
     "metadata": {},
     "output_type": "execute_result"
    }
   ],
   "source": [
    "df.head()"
   ]
  },
  {
   "cell_type": "code",
   "execution_count": 83,
   "metadata": {},
   "outputs": [],
   "source": [
    "for i in range(len(df['text'])):\n",
    "    df['text'][i] = re.sub('@([a-zA-Z])+','', df['text'][i], flags = re.MULTILINE)"
   ]
  },
  {
   "cell_type": "code",
   "execution_count": 84,
   "metadata": {},
   "outputs": [
    {
     "data": {
      "text/html": [
       "<div>\n",
       "<style scoped>\n",
       "    .dataframe tbody tr th:only-of-type {\n",
       "        vertical-align: middle;\n",
       "    }\n",
       "\n",
       "    .dataframe tbody tr th {\n",
       "        vertical-align: top;\n",
       "    }\n",
       "\n",
       "    .dataframe thead th {\n",
       "        text-align: right;\n",
       "    }\n",
       "</style>\n",
       "<table border=\"1\" class=\"dataframe\">\n",
       "  <thead>\n",
       "    <tr style=\"text-align: right;\">\n",
       "      <th></th>\n",
       "      <th>text</th>\n",
       "      <th>type</th>\n",
       "    </tr>\n",
       "  </thead>\n",
       "  <tbody>\n",
       "    <tr>\n",
       "      <th>0</th>\n",
       "      <td>2012 920 Never knew having 1 or 2 followers ha...</td>\n",
       "      <td>sports</td>\n",
       "    </tr>\n",
       "    <tr>\n",
       "      <th>1</th>\n",
       "      <td>MYCA Magical Moments:\\n\\nSeptember, 2011: Sham...</td>\n",
       "      <td>sports</td>\n",
       "    </tr>\n",
       "    <tr>\n",
       "      <th>2</th>\n",
       "      <td>The current state of last year's  finalists - ...</td>\n",
       "      <td>sports</td>\n",
       "    </tr>\n",
       "    <tr>\n",
       "      <th>3</th>\n",
       "      <td>Why did you bring a cricket...</td>\n",
       "      <td>sports</td>\n",
       "    </tr>\n",
       "    <tr>\n",
       "      <th>4</th>\n",
       "      <td>Babar Azam only Pakistani included in the ICC ...</td>\n",
       "      <td>sports</td>\n",
       "    </tr>\n",
       "  </tbody>\n",
       "</table>\n",
       "</div>"
      ],
      "text/plain": [
       "                                                text    type\n",
       "0  2012 920 Never knew having 1 or 2 followers ha...  sports\n",
       "1  MYCA Magical Moments:\\n\\nSeptember, 2011: Sham...  sports\n",
       "2  The current state of last year's  finalists - ...  sports\n",
       "3                     Why did you bring a cricket...  sports\n",
       "4  Babar Azam only Pakistani included in the ICC ...  sports"
      ]
     },
     "execution_count": 84,
     "metadata": {},
     "output_type": "execute_result"
    }
   ],
   "source": [
    "df.head()"
   ]
  },
  {
   "cell_type": "markdown",
   "metadata": {},
   "source": [
    "#### One-Hot Encoding"
   ]
  },
  {
   "cell_type": "code",
   "execution_count": 85,
   "metadata": {},
   "outputs": [],
   "source": [
    "le = LabelEncoder()"
   ]
  },
  {
   "cell_type": "code",
   "execution_count": 142,
   "metadata": {},
   "outputs": [
    {
     "data": {
      "text/html": [
       "<div>\n",
       "<style scoped>\n",
       "    .dataframe tbody tr th:only-of-type {\n",
       "        vertical-align: middle;\n",
       "    }\n",
       "\n",
       "    .dataframe tbody tr th {\n",
       "        vertical-align: top;\n",
       "    }\n",
       "\n",
       "    .dataframe thead th {\n",
       "        text-align: right;\n",
       "    }\n",
       "</style>\n",
       "<table border=\"1\" class=\"dataframe\">\n",
       "  <thead>\n",
       "    <tr style=\"text-align: right;\">\n",
       "      <th></th>\n",
       "      <th>text</th>\n",
       "      <th>type</th>\n",
       "      <th>type_num</th>\n",
       "    </tr>\n",
       "  </thead>\n",
       "  <tbody>\n",
       "    <tr>\n",
       "      <th>0</th>\n",
       "      <td>2012 920 Never knew having 1 or 2 followers ha...</td>\n",
       "      <td>sports</td>\n",
       "      <td>3</td>\n",
       "    </tr>\n",
       "    <tr>\n",
       "      <th>1</th>\n",
       "      <td>MYCA Magical Moments:\\n\\nSeptember, 2011: Sham...</td>\n",
       "      <td>sports</td>\n",
       "      <td>3</td>\n",
       "    </tr>\n",
       "    <tr>\n",
       "      <th>2</th>\n",
       "      <td>The current state of last year's  finalists - ...</td>\n",
       "      <td>sports</td>\n",
       "      <td>3</td>\n",
       "    </tr>\n",
       "    <tr>\n",
       "      <th>3</th>\n",
       "      <td>Why did you bring a cricket...</td>\n",
       "      <td>sports</td>\n",
       "      <td>3</td>\n",
       "    </tr>\n",
       "    <tr>\n",
       "      <th>4</th>\n",
       "      <td>Babar Azam only Pakistani included in the ICC ...</td>\n",
       "      <td>sports</td>\n",
       "      <td>3</td>\n",
       "    </tr>\n",
       "  </tbody>\n",
       "</table>\n",
       "</div>"
      ],
      "text/plain": [
       "                                                text    type  type_num\n",
       "0  2012 920 Never knew having 1 or 2 followers ha...  sports         3\n",
       "1  MYCA Magical Moments:\\n\\nSeptember, 2011: Sham...  sports         3\n",
       "2  The current state of last year's  finalists - ...  sports         3\n",
       "3                     Why did you bring a cricket...  sports         3\n",
       "4  Babar Azam only Pakistani included in the ICC ...  sports         3"
      ]
     },
     "execution_count": 142,
     "metadata": {},
     "output_type": "execute_result"
    }
   ],
   "source": [
    "df[\"type_num\"] = le.fit_transform(df[\"type\"])\n",
    "df.head()"
   ]
  },
  {
   "cell_type": "code",
   "execution_count": 143,
   "metadata": {},
   "outputs": [
    {
     "data": {
      "text/plain": [
       "politics         345\n",
       "medical          299\n",
       "entertainment    260\n",
       "sports           258\n",
       "Name: type, dtype: int64"
      ]
     },
     "execution_count": 143,
     "metadata": {},
     "output_type": "execute_result"
    }
   ],
   "source": [
    "df[\"type\"].value_counts()"
   ]
  },
  {
   "cell_type": "code",
   "execution_count": 141,
   "metadata": {},
   "outputs": [
    {
     "data": {
      "text/html": [
       "<div>\n",
       "<style scoped>\n",
       "    .dataframe tbody tr th:only-of-type {\n",
       "        vertical-align: middle;\n",
       "    }\n",
       "\n",
       "    .dataframe tbody tr th {\n",
       "        vertical-align: top;\n",
       "    }\n",
       "\n",
       "    .dataframe thead th {\n",
       "        text-align: right;\n",
       "    }\n",
       "</style>\n",
       "<table border=\"1\" class=\"dataframe\">\n",
       "  <thead>\n",
       "    <tr style=\"text-align: right;\">\n",
       "      <th></th>\n",
       "      <th>type</th>\n",
       "      <th>type_num</th>\n",
       "    </tr>\n",
       "  </thead>\n",
       "  <tbody>\n",
       "    <tr>\n",
       "      <th>31</th>\n",
       "      <td>sports</td>\n",
       "      <td>3</td>\n",
       "    </tr>\n",
       "    <tr>\n",
       "      <th>1064</th>\n",
       "      <td>sports</td>\n",
       "      <td>3</td>\n",
       "    </tr>\n",
       "    <tr>\n",
       "      <th>826</th>\n",
       "      <td>politics</td>\n",
       "      <td>2</td>\n",
       "    </tr>\n",
       "    <tr>\n",
       "      <th>592</th>\n",
       "      <td>medical</td>\n",
       "      <td>1</td>\n",
       "    </tr>\n",
       "    <tr>\n",
       "      <th>209</th>\n",
       "      <td>entertainment</td>\n",
       "      <td>0</td>\n",
       "    </tr>\n",
       "  </tbody>\n",
       "</table>\n",
       "</div>"
      ],
      "text/plain": [
       "               type  type_num\n",
       "31           sports         3\n",
       "1064         sports         3\n",
       "826        politics         2\n",
       "592         medical         1\n",
       "209   entertainment         0"
      ]
     },
     "execution_count": 141,
     "metadata": {},
     "output_type": "execute_result"
    }
   ],
   "source": [
    "df[[\"type\", \"type_num\"]].sample(frac = 1).head()"
   ]
  },
  {
   "cell_type": "markdown",
   "metadata": {},
   "source": [
    "#### Train and Test Data"
   ]
  },
  {
   "cell_type": "markdown",
   "metadata": {},
   "source": [
    "Train the Dataset to Learn the Vocabulary [Document-term Matrix] and Testing the Dataset"
   ]
  },
  {
   "cell_type": "code",
   "execution_count": 88,
   "metadata": {},
   "outputs": [],
   "source": [
    "x = df[\"text\"]\n",
    "y = df[\"type_num\"]"
   ]
  },
  {
   "cell_type": "code",
   "execution_count": 89,
   "metadata": {},
   "outputs": [
    {
     "name": "stdout",
     "output_type": "stream",
     "text": [
      "1.22 ms ± 106 µs per loop (mean ± std. dev. of 7 runs, 1000 loops each)\n"
     ]
    }
   ],
   "source": [
    "%timeit x_train, x_test, y_train, y_test = train_test_split(x, y, test_size = 0.2, random_state=4)"
   ]
  },
  {
   "cell_type": "code",
   "execution_count": 90,
   "metadata": {},
   "outputs": [
    {
     "name": "stdout",
     "output_type": "stream",
     "text": [
      "x train : (929,)\n",
      "x test : (233,)\n",
      "y train : (929,)\n",
      "y test : (233,)\n"
     ]
    }
   ],
   "source": [
    "print(\"x train :\", x_train.shape)\n",
    "print(\"x test :\", x_test.shape)\n",
    "print(\"y train :\", y_train.shape)\n",
    "print(\"y test :\", y_test.shape)"
   ]
  },
  {
   "cell_type": "markdown",
   "metadata": {},
   "source": [
    "#### Vectorization"
   ]
  },
  {
   "cell_type": "code",
   "execution_count": 98,
   "metadata": {},
   "outputs": [
    {
     "name": "stdout",
     "output_type": "stream",
     "text": [
      "33.3 ms ± 2.34 ms per loop (mean ± std. dev. of 7 runs, 10 loops each)\n"
     ]
    }
   ],
   "source": [
    "vect = CountVectorizer()\n",
    "%timeit vect.fit(x_train)"
   ]
  },
  {
   "cell_type": "code",
   "execution_count": 102,
   "metadata": {},
   "outputs": [
    {
     "data": {
      "text/plain": [
       "<929x4707 sparse matrix of type '<class 'numpy.int64'>'\n",
       "\twith 14873 stored elements in Compressed Sparse Row format>"
      ]
     },
     "execution_count": 102,
     "metadata": {},
     "output_type": "execute_result"
    }
   ],
   "source": [
    "x_train_vect = vect.fit_transform(x_train) # Document-Term Matrix\n",
    "x_train_vect"
   ]
  },
  {
   "cell_type": "markdown",
   "metadata": {},
   "source": [
    "x_train_vect has 929 observations and 4707 tokens"
   ]
  },
  {
   "cell_type": "code",
   "execution_count": 93,
   "metadata": {},
   "outputs": [
    {
     "data": {
      "text/plain": [
       "<233x1786 sparse matrix of type '<class 'numpy.int64'>'\n",
       "\twith 3826 stored elements in Compressed Sparse Row format>"
      ]
     },
     "execution_count": 93,
     "metadata": {},
     "output_type": "execute_result"
    }
   ],
   "source": [
    "x_test_vect = vect.fit_transform(x_test)\n",
    "x_test_vect"
   ]
  },
  {
   "cell_type": "markdown",
   "metadata": {},
   "source": [
    "x_test_vect has 233 observations and 1786 tokens"
   ]
  },
  {
   "cell_type": "markdown",
   "metadata": {},
   "source": [
    "#### Build and Evaluate a Model"
   ]
  },
  {
   "cell_type": "markdown",
   "metadata": {},
   "source": [
    "1. Multinomial Naive Bayes"
   ]
  },
  {
   "cell_type": "code",
   "execution_count": 118,
   "metadata": {},
   "outputs": [
    {
     "data": {
      "text/plain": [
       "MultinomialNB()"
      ]
     },
     "execution_count": 118,
     "metadata": {},
     "output_type": "execute_result"
    }
   ],
   "source": [
    "nb_model = MultinomialNB()\n",
    "nb_model.fit(x_train_vect, y_train)"
   ]
  },
  {
   "cell_type": "code",
   "execution_count": 178,
   "metadata": {},
   "outputs": [
    {
     "data": {
      "text/plain": [
       "array([2, 0, 1, 3, 2, 0, 1, 2, 3, 2, 0, 1, 1, 1, 1, 1, 0, 1, 3, 0, 3, 1,\n",
       "       3, 3, 3, 2, 3, 3, 2, 0, 2, 3, 2, 2, 2, 1, 2, 0, 3, 1, 1, 0, 2, 3,\n",
       "       2, 2, 0, 2, 0, 1, 3, 3, 3, 0, 1, 1, 3, 0, 1, 0, 2, 2, 0, 1, 1, 0,\n",
       "       1, 2, 2, 1, 0, 2, 3, 0, 2, 3, 1, 2, 1, 0, 2, 2, 2, 2, 2, 2, 1, 2,\n",
       "       0, 1, 1, 2, 1, 1, 2, 3, 0, 0, 3, 3, 2, 2, 2, 3, 3, 1, 1, 2, 1, 2,\n",
       "       2, 3, 0, 2, 0, 1, 3, 2, 2, 1, 1, 3, 1, 2, 1, 2, 3, 2, 3, 0, 2, 3,\n",
       "       1, 2, 1, 2, 0, 2, 3, 1, 2, 1, 1, 3, 2, 3, 3, 3, 2, 0, 0, 0, 3, 0,\n",
       "       1, 1, 3, 1, 0, 0, 0, 3, 2, 3, 1, 0, 1, 3, 2, 2, 0, 0, 2, 0, 0, 2,\n",
       "       1, 2, 0, 0, 1, 3, 3, 0, 1, 1, 0, 3, 3, 1, 0, 0, 0, 3, 0, 0, 1, 2,\n",
       "       0, 0, 2, 3, 1, 1, 2, 1, 2, 2, 2, 3, 3, 0, 1, 2, 0, 3, 2, 0, 3, 2,\n",
       "       1, 3, 2, 3, 1, 3, 1, 2, 2, 3, 2, 2, 1, 2, 0, 2, 2, 2, 1, 2, 2, 1,\n",
       "       3, 2, 1, 2, 0, 0, 1, 1, 3, 2, 0, 1, 0, 2, 1, 2, 1, 3, 0, 2, 3, 1,\n",
       "       2, 0, 1, 2, 3, 0, 3, 3, 0, 3, 2, 1, 2, 3, 1, 3, 3, 1, 0, 0, 0, 2,\n",
       "       0, 1, 1, 1, 3, 2, 0, 3, 2, 2, 2, 2, 3, 1, 2, 2, 3, 2, 1, 1, 2, 0,\n",
       "       1, 2, 0, 1, 2, 1, 1, 0, 3, 3, 2, 1, 1, 2, 3, 3, 3, 2, 3, 2, 2, 3,\n",
       "       1, 0, 1, 0, 3, 3, 1, 0, 0, 2, 2, 1, 1, 3, 0, 0, 0, 3, 0, 0, 0, 3,\n",
       "       2, 2, 0, 1, 1, 3, 3, 1, 2, 3, 2, 0, 3, 2, 0, 0, 0, 1, 1, 0, 3, 3,\n",
       "       0, 3, 1, 0, 1, 0, 1, 3, 0, 2, 3, 3, 1, 0, 2, 1, 1, 3, 3, 0, 1, 2,\n",
       "       1, 2, 1, 2, 0, 0, 2, 2, 0, 1, 1, 1, 2, 1, 2, 0, 2, 1, 0, 2, 3, 0,\n",
       "       1, 1, 3, 0, 1, 3, 1, 1, 1, 3, 0, 3, 1, 0, 3, 0, 3, 2, 3, 1, 1, 2,\n",
       "       1, 0, 1, 1, 0, 1, 0, 2, 2, 0, 0, 3, 3, 3, 1, 0, 3, 3, 1, 2, 3, 3,\n",
       "       1, 0, 2, 3, 3, 3, 0, 2, 0, 2, 0, 3, 0, 2, 1, 0, 3, 3, 1, 1, 3, 2,\n",
       "       0, 1, 1, 0, 0, 1, 0, 2, 0, 1, 1, 1, 1, 3, 0, 0, 1, 2, 3, 2, 1, 2,\n",
       "       1, 3, 2, 2, 3, 0, 2, 3, 0, 3, 2, 0, 2, 3, 3, 3, 2, 1, 0, 3, 0, 2,\n",
       "       1, 3, 3, 1, 3, 0, 1, 1, 1, 0, 2, 1, 0, 0, 3, 2, 2, 3, 1, 3, 0, 2,\n",
       "       0, 3, 3, 0, 1, 0, 1, 2, 3, 3, 2, 3, 2, 0, 2, 2, 0, 2, 3, 2, 3, 3,\n",
       "       2, 2, 3, 2, 3, 0, 1, 2, 2, 2, 2, 2, 3, 2, 3, 2, 0, 0, 1, 3, 2, 2,\n",
       "       2, 1, 1, 1, 1, 1, 1, 2, 0, 0, 3, 2, 2, 3, 1, 0, 2, 0, 3, 3, 0, 3,\n",
       "       0, 3, 3, 2, 3, 2, 0, 3, 0, 1, 2, 2, 1, 3, 2, 3, 2, 2, 3, 3, 3, 2,\n",
       "       1, 0, 3, 2, 2, 1, 0, 2, 0, 1, 2, 3, 2, 0, 2, 3, 2, 0, 1, 0, 1, 0,\n",
       "       3, 2, 2, 2, 3, 1, 1, 0, 0, 0, 2, 1, 1, 2, 2, 1, 2, 2, 2, 1, 3, 1,\n",
       "       2, 2, 0, 2, 1, 2, 1, 1, 1, 2, 1, 1, 2, 2, 0, 2, 1, 2, 1, 2, 2, 0,\n",
       "       3, 1, 2, 0, 2, 2, 0, 0, 3, 0, 2, 2, 1, 0, 3, 3, 1, 0, 1, 3, 1, 2,\n",
       "       2, 3, 2, 1, 0, 2, 0, 1, 2, 2, 2, 0, 1, 3, 1, 1, 2, 2, 2, 0, 2, 1,\n",
       "       0, 3, 1, 0, 1, 1, 1, 3, 1, 2, 3, 1, 3, 3, 0, 2, 2, 2, 1, 2, 3, 0,\n",
       "       0, 3, 2, 0, 3, 0, 3, 2, 0, 0, 3, 0, 0, 1, 2, 2, 1, 0, 1, 1, 3, 0,\n",
       "       0, 1, 3, 3, 2, 1, 1, 1, 2, 2, 0, 3, 1, 3, 2, 1, 2, 2, 2, 2, 1, 0,\n",
       "       3, 2, 2, 1, 1, 2, 3, 2, 1, 0, 1, 1, 2, 3, 1, 1, 0, 0, 1, 2, 1, 2,\n",
       "       2, 0, 2, 1, 1, 3, 0, 1, 1, 2, 2, 1, 3, 3, 3, 1, 3, 0, 2, 3, 2, 2,\n",
       "       2, 1, 1, 3, 2, 1, 1, 3, 2, 2, 1, 1, 3, 0, 0, 1, 0, 1, 0, 3, 3, 3,\n",
       "       1, 1, 3, 1, 2, 2, 2, 2, 0, 3, 0, 0, 0, 3, 2, 0, 0, 1, 0, 3, 1, 1,\n",
       "       0, 1, 0, 2, 3, 3, 2, 3, 1, 0, 1, 0, 2, 3, 2, 2, 2, 3, 3, 0, 2, 1,\n",
       "       0, 2, 1, 0, 3])"
      ]
     },
     "execution_count": 178,
     "metadata": {},
     "output_type": "execute_result"
    }
   ],
   "source": [
    "nb_pred = nb_model.predict(x_train_vect)\n",
    "nb_pred"
   ]
  },
  {
   "cell_type": "code",
   "execution_count": 179,
   "metadata": {},
   "outputs": [
    {
     "data": {
      "text/plain": [
       "0.9967707212055974"
      ]
     },
     "execution_count": 179,
     "metadata": {},
     "output_type": "execute_result"
    }
   ],
   "source": [
    "nb_score = nb_model.score(x_train_vect, y_train)\n",
    "nb_score"
   ]
  },
  {
   "cell_type": "code",
   "execution_count": 180,
   "metadata": {},
   "outputs": [
    {
     "name": "stdout",
     "output_type": "stream",
     "text": [
      "             Politics     Medical       Entertainment          Sports\n"
     ]
    },
    {
     "data": {
      "text/plain": [
       "array([[2.17644274e-04, 1.10121623e-03, 9.98562247e-01, 1.18892579e-04],\n",
       "       [9.99688011e-01, 1.04895054e-05, 8.67116470e-07, 3.00632389e-04],\n",
       "       [2.62061237e-06, 9.99996323e-01, 5.83388659e-07, 4.72699042e-07],\n",
       "       ...,\n",
       "       [8.56124635e-08, 9.99970829e-01, 7.31488638e-06, 2.17701768e-05],\n",
       "       [9.86291006e-01, 2.33815818e-05, 2.56623855e-05, 1.36599501e-02],\n",
       "       [1.86862636e-04, 1.14035108e-03, 3.25825235e-05, 9.98640204e-01]])"
      ]
     },
     "execution_count": 180,
     "metadata": {},
     "output_type": "execute_result"
    }
   ],
   "source": [
    "print(\"             Politics     Medical       Entertainment          Sports\")\n",
    "prob_log = nb_model.predict_proba(x_train_vect)\n",
    "prob_log"
   ]
  },
  {
   "cell_type": "code",
   "execution_count": null,
   "metadata": {},
   "outputs": [],
   "source": []
  },
  {
   "cell_type": "markdown",
   "metadata": {},
   "source": [
    "2. Decision Trees"
   ]
  },
  {
   "cell_type": "code",
   "execution_count": 181,
   "metadata": {},
   "outputs": [
    {
     "data": {
      "text/plain": [
       "DecisionTreeClassifier()"
      ]
     },
     "execution_count": 181,
     "metadata": {},
     "output_type": "execute_result"
    }
   ],
   "source": [
    "dt_model = DecisionTreeClassifier()\n",
    "dt_model.fit(x_train_vect, y_train)"
   ]
  },
  {
   "cell_type": "code",
   "execution_count": 182,
   "metadata": {},
   "outputs": [
    {
     "data": {
      "text/plain": [
       "array([2, 0, 1, 3, 2, 0, 1, 2, 3, 2, 0, 1, 1, 1, 1, 1, 0, 1, 3, 0, 3, 1,\n",
       "       3, 3, 3, 2, 3, 3, 2, 0, 2, 3, 2, 2, 2, 1, 2, 0, 3, 1, 1, 0, 2, 3,\n",
       "       2, 2, 0, 2, 0, 1, 3, 3, 3, 0, 1, 1, 3, 0, 1, 0, 2, 2, 0, 1, 1, 0,\n",
       "       1, 2, 2, 1, 0, 2, 3, 0, 2, 3, 1, 1, 1, 0, 2, 2, 2, 2, 2, 2, 1, 2,\n",
       "       0, 1, 1, 2, 1, 1, 2, 3, 0, 0, 3, 3, 2, 2, 2, 3, 3, 1, 1, 2, 1, 2,\n",
       "       2, 3, 0, 2, 0, 1, 3, 2, 2, 1, 1, 3, 1, 2, 1, 2, 3, 2, 3, 0, 2, 3,\n",
       "       1, 2, 1, 2, 0, 2, 3, 1, 2, 1, 1, 3, 2, 3, 3, 3, 2, 0, 0, 0, 3, 0,\n",
       "       1, 1, 3, 1, 0, 0, 0, 3, 2, 3, 1, 0, 1, 3, 2, 2, 0, 0, 2, 0, 0, 2,\n",
       "       1, 2, 0, 0, 1, 3, 3, 0, 1, 1, 0, 3, 3, 1, 0, 0, 0, 3, 0, 0, 1, 2,\n",
       "       0, 0, 2, 3, 1, 1, 2, 1, 2, 2, 2, 3, 3, 0, 1, 2, 0, 3, 2, 0, 3, 2,\n",
       "       1, 3, 2, 3, 1, 3, 1, 2, 2, 3, 2, 2, 1, 2, 0, 2, 2, 2, 1, 2, 2, 1,\n",
       "       3, 2, 1, 2, 0, 0, 1, 1, 3, 2, 0, 1, 0, 2, 1, 2, 1, 3, 0, 2, 3, 1,\n",
       "       2, 0, 1, 2, 3, 0, 3, 3, 0, 3, 2, 1, 2, 3, 1, 3, 3, 1, 0, 0, 0, 2,\n",
       "       0, 2, 1, 1, 3, 2, 0, 3, 2, 2, 2, 2, 3, 1, 2, 2, 3, 2, 1, 1, 2, 0,\n",
       "       1, 2, 0, 1, 2, 1, 1, 0, 3, 3, 2, 1, 1, 2, 3, 3, 3, 2, 3, 2, 2, 3,\n",
       "       1, 0, 1, 0, 3, 3, 1, 0, 0, 2, 2, 1, 1, 3, 0, 0, 0, 3, 0, 0, 0, 3,\n",
       "       2, 2, 0, 1, 1, 3, 3, 1, 2, 3, 2, 0, 3, 2, 0, 0, 0, 1, 1, 0, 3, 3,\n",
       "       0, 3, 1, 0, 1, 0, 1, 3, 0, 2, 3, 3, 1, 0, 2, 1, 1, 3, 3, 0, 1, 2,\n",
       "       1, 2, 1, 2, 0, 0, 2, 2, 0, 1, 1, 1, 2, 1, 2, 0, 2, 1, 0, 2, 3, 0,\n",
       "       1, 1, 3, 0, 1, 3, 1, 1, 1, 3, 0, 3, 1, 0, 3, 0, 3, 2, 3, 1, 1, 2,\n",
       "       1, 0, 1, 1, 0, 1, 0, 2, 2, 0, 0, 3, 3, 3, 1, 0, 3, 3, 1, 2, 3, 3,\n",
       "       1, 0, 2, 3, 3, 3, 0, 2, 0, 2, 0, 3, 0, 2, 1, 0, 3, 3, 1, 1, 3, 2,\n",
       "       0, 1, 1, 0, 0, 1, 0, 2, 0, 1, 1, 1, 1, 3, 0, 0, 1, 2, 3, 2, 1, 2,\n",
       "       1, 3, 2, 2, 3, 0, 2, 3, 0, 3, 2, 0, 2, 3, 3, 3, 2, 1, 0, 3, 0, 2,\n",
       "       1, 3, 3, 1, 3, 0, 1, 1, 1, 0, 2, 1, 0, 0, 3, 2, 2, 3, 1, 3, 0, 2,\n",
       "       0, 3, 3, 0, 1, 0, 1, 2, 3, 3, 2, 3, 2, 0, 2, 2, 0, 2, 3, 2, 3, 3,\n",
       "       2, 2, 3, 2, 3, 0, 1, 2, 2, 2, 2, 2, 3, 2, 3, 2, 0, 0, 1, 3, 2, 2,\n",
       "       2, 1, 1, 1, 1, 1, 1, 2, 0, 0, 3, 2, 2, 3, 1, 0, 2, 0, 3, 3, 0, 3,\n",
       "       0, 3, 3, 2, 3, 2, 0, 3, 0, 1, 2, 3, 1, 3, 2, 3, 2, 2, 3, 3, 3, 2,\n",
       "       1, 0, 3, 2, 2, 1, 0, 2, 0, 1, 2, 3, 2, 0, 2, 3, 2, 0, 1, 0, 1, 0,\n",
       "       3, 2, 2, 2, 3, 1, 1, 0, 0, 0, 2, 1, 1, 2, 2, 1, 2, 2, 2, 1, 3, 1,\n",
       "       2, 2, 0, 2, 1, 2, 1, 1, 1, 2, 1, 1, 2, 2, 0, 2, 1, 2, 1, 2, 2, 0,\n",
       "       3, 1, 2, 0, 2, 2, 0, 0, 3, 0, 2, 2, 1, 0, 3, 3, 1, 0, 1, 3, 1, 2,\n",
       "       2, 3, 2, 1, 0, 2, 0, 1, 2, 2, 2, 0, 1, 3, 1, 1, 2, 2, 2, 0, 2, 1,\n",
       "       0, 3, 1, 0, 1, 1, 1, 3, 1, 2, 3, 1, 3, 3, 0, 2, 2, 2, 1, 2, 3, 0,\n",
       "       0, 3, 2, 0, 3, 0, 3, 2, 0, 0, 3, 0, 0, 1, 2, 2, 1, 0, 1, 1, 3, 0,\n",
       "       0, 1, 3, 3, 2, 1, 1, 1, 2, 2, 0, 3, 1, 3, 2, 1, 2, 2, 2, 2, 1, 0,\n",
       "       3, 2, 2, 1, 1, 2, 3, 2, 1, 0, 1, 1, 2, 3, 1, 1, 0, 0, 1, 2, 1, 2,\n",
       "       2, 0, 2, 1, 1, 3, 0, 1, 1, 2, 2, 1, 3, 3, 3, 1, 3, 0, 2, 3, 2, 2,\n",
       "       2, 1, 1, 3, 2, 1, 1, 3, 2, 2, 1, 1, 3, 0, 0, 1, 0, 1, 0, 3, 3, 3,\n",
       "       1, 1, 3, 1, 2, 2, 2, 2, 0, 3, 0, 0, 0, 3, 2, 0, 0, 1, 0, 3, 1, 1,\n",
       "       0, 1, 0, 2, 3, 3, 2, 3, 1, 0, 1, 0, 2, 3, 2, 2, 2, 3, 3, 0, 2, 1,\n",
       "       0, 2, 1, 0, 3])"
      ]
     },
     "execution_count": 182,
     "metadata": {},
     "output_type": "execute_result"
    }
   ],
   "source": [
    "dt_pred = dt_model.predict(x_train_vect)\n",
    "dt_pred"
   ]
  },
  {
   "cell_type": "code",
   "execution_count": 185,
   "metadata": {},
   "outputs": [
    {
     "data": {
      "text/plain": [
       "1.0"
      ]
     },
     "execution_count": 185,
     "metadata": {},
     "output_type": "execute_result"
    }
   ],
   "source": [
    "dt_score = dt_model.score(x_train_vect, y_train)\n",
    "dt_score"
   ]
  },
  {
   "cell_type": "code",
   "execution_count": 203,
   "metadata": {},
   "outputs": [
    {
     "name": "stdout",
     "output_type": "stream",
     "text": [
      "[[0. 0. 1. 0.]\n",
      " [1. 0. 0. 0.]\n",
      " [0. 1. 0. 0.]\n",
      " ...\n",
      " [0. 1. 0. 0.]\n",
      " [1. 0. 0. 0.]\n",
      " [0. 0. 0. 1.]]\n"
     ]
    }
   ],
   "source": [
    "dt_prob = dt_model.predict_proba(x_train_vect)\n",
    "print(dt_prob)"
   ]
  },
  {
   "cell_type": "code",
   "execution_count": null,
   "metadata": {},
   "outputs": [],
   "source": []
  }
 ],
 "metadata": {
  "kernelspec": {
   "display_name": "Python 3",
   "language": "python",
   "name": "python3"
  },
  "language_info": {
   "codemirror_mode": {
    "name": "ipython",
    "version": 3
   },
   "file_extension": ".py",
   "mimetype": "text/x-python",
   "name": "python",
   "nbconvert_exporter": "python",
   "pygments_lexer": "ipython3",
   "version": "3.7.4"
  }
 },
 "nbformat": 4,
 "nbformat_minor": 4
}
