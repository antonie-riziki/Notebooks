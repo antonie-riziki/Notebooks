{
 "cells": [
  {
   "cell_type": "markdown",
   "metadata": {},
   "source": [
    "# SUPREME COURT JUDGMENT PREDICTION"
   ]
  },
  {
   "cell_type": "markdown",
   "metadata": {},
   "source": [
    "#### EDA to predict verdict based on facts"
   ]
  },
  {
   "cell_type": "code",
   "execution_count": 1,
   "metadata": {},
   "outputs": [],
   "source": [
    "import pandas as pd\n",
    "import numpy as np\n",
    "import matplotlib.pyplot as plt\n",
    "import seaborn as sb\n",
    "import missingno as msno\n",
    "import os\n",
    "import csv\n",
    "import sys\n",
    "import re\n",
    "import warnings\n",
    "\n",
    "from sklearn.model_selection import train_test_split\n",
    "from sklearn.preprocessing import LabelEncoder\n",
    "from sklearn.feature_extraction.text import CountVectorizer\n",
    "from sklearn.tree import DecisionTreeClassifier\n",
    "from sklearn.metrics import accuracy_score\n",
    "\n",
    "%matplotlib inline\n",
    "\n",
    "sb.set()\n",
    "sb.set_style('darkgrid')\n",
    "\n",
    "pd.set_option('display.max_rows', 1000)\n",
    "pd.set_option('display.max_columns', 100)\n",
    "\n"
   ]
  },
  {
   "cell_type": "code",
   "execution_count": 2,
   "metadata": {},
   "outputs": [],
   "source": [
    "df = pd.read_csv(\"D:\\Open Classroom\\Datasets\\Supreme Court Judgment Prediction\\justice.csv\")"
   ]
  },
  {
   "cell_type": "code",
   "execution_count": 3,
   "metadata": {},
   "outputs": [
    {
     "data": {
      "text/html": [
       "<div>\n",
       "<style scoped>\n",
       "    .dataframe tbody tr th:only-of-type {\n",
       "        vertical-align: middle;\n",
       "    }\n",
       "\n",
       "    .dataframe tbody tr th {\n",
       "        vertical-align: top;\n",
       "    }\n",
       "\n",
       "    .dataframe thead th {\n",
       "        text-align: right;\n",
       "    }\n",
       "</style>\n",
       "<table border=\"1\" class=\"dataframe\">\n",
       "  <thead>\n",
       "    <tr style=\"text-align: right;\">\n",
       "      <th></th>\n",
       "      <th>Unnamed: 0</th>\n",
       "      <th>ID</th>\n",
       "      <th>name</th>\n",
       "      <th>href</th>\n",
       "      <th>docket</th>\n",
       "      <th>term</th>\n",
       "      <th>first_party</th>\n",
       "      <th>second_party</th>\n",
       "      <th>facts</th>\n",
       "      <th>facts_len</th>\n",
       "      <th>majority_vote</th>\n",
       "      <th>minority_vote</th>\n",
       "      <th>first_party_winner</th>\n",
       "      <th>decision_type</th>\n",
       "      <th>disposition</th>\n",
       "      <th>issue_area</th>\n",
       "    </tr>\n",
       "  </thead>\n",
       "  <tbody>\n",
       "    <tr>\n",
       "      <th>0</th>\n",
       "      <td>0</td>\n",
       "      <td>50606</td>\n",
       "      <td>Roe v. Wade</td>\n",
       "      <td>https://api.oyez.org/cases/1971/70-18</td>\n",
       "      <td>70-18</td>\n",
       "      <td>1971</td>\n",
       "      <td>Jane Roe</td>\n",
       "      <td>Henry Wade</td>\n",
       "      <td>&lt;p&gt;In 1970, Jane Roe (a fictional name used in...</td>\n",
       "      <td>501</td>\n",
       "      <td>7</td>\n",
       "      <td>2</td>\n",
       "      <td>True</td>\n",
       "      <td>majority opinion</td>\n",
       "      <td>reversed</td>\n",
       "      <td>NaN</td>\n",
       "    </tr>\n",
       "    <tr>\n",
       "      <th>1</th>\n",
       "      <td>1</td>\n",
       "      <td>50613</td>\n",
       "      <td>Stanley v. Illinois</td>\n",
       "      <td>https://api.oyez.org/cases/1971/70-5014</td>\n",
       "      <td>70-5014</td>\n",
       "      <td>1971</td>\n",
       "      <td>Peter Stanley, Sr.</td>\n",
       "      <td>Illinois</td>\n",
       "      <td>&lt;p&gt;Joan Stanley had three children with Peter ...</td>\n",
       "      <td>757</td>\n",
       "      <td>5</td>\n",
       "      <td>2</td>\n",
       "      <td>True</td>\n",
       "      <td>majority opinion</td>\n",
       "      <td>reversed/remanded</td>\n",
       "      <td>Civil Rights</td>\n",
       "    </tr>\n",
       "    <tr>\n",
       "      <th>2</th>\n",
       "      <td>2</td>\n",
       "      <td>50623</td>\n",
       "      <td>Giglio v. United States</td>\n",
       "      <td>https://api.oyez.org/cases/1971/70-29</td>\n",
       "      <td>70-29</td>\n",
       "      <td>1971</td>\n",
       "      <td>John Giglio</td>\n",
       "      <td>United States</td>\n",
       "      <td>&lt;p&gt;John Giglio was convicted of passing forged...</td>\n",
       "      <td>495</td>\n",
       "      <td>7</td>\n",
       "      <td>0</td>\n",
       "      <td>True</td>\n",
       "      <td>majority opinion</td>\n",
       "      <td>reversed/remanded</td>\n",
       "      <td>Due Process</td>\n",
       "    </tr>\n",
       "    <tr>\n",
       "      <th>3</th>\n",
       "      <td>3</td>\n",
       "      <td>50632</td>\n",
       "      <td>Reed v. Reed</td>\n",
       "      <td>https://api.oyez.org/cases/1971/70-4</td>\n",
       "      <td>70-4</td>\n",
       "      <td>1971</td>\n",
       "      <td>Sally Reed</td>\n",
       "      <td>Cecil Reed</td>\n",
       "      <td>&lt;p&gt;The Idaho Probate Code specified that \"male...</td>\n",
       "      <td>378</td>\n",
       "      <td>7</td>\n",
       "      <td>0</td>\n",
       "      <td>True</td>\n",
       "      <td>majority opinion</td>\n",
       "      <td>reversed/remanded</td>\n",
       "      <td>Civil Rights</td>\n",
       "    </tr>\n",
       "    <tr>\n",
       "      <th>4</th>\n",
       "      <td>4</td>\n",
       "      <td>50643</td>\n",
       "      <td>Miller v. California</td>\n",
       "      <td>https://api.oyez.org/cases/1971/70-73</td>\n",
       "      <td>70-73</td>\n",
       "      <td>1971</td>\n",
       "      <td>Marvin Miller</td>\n",
       "      <td>California</td>\n",
       "      <td>&lt;p&gt;Miller, after conducting a mass mailing cam...</td>\n",
       "      <td>305</td>\n",
       "      <td>5</td>\n",
       "      <td>4</td>\n",
       "      <td>True</td>\n",
       "      <td>majority opinion</td>\n",
       "      <td>vacated/remanded</td>\n",
       "      <td>First Amendment</td>\n",
       "    </tr>\n",
       "  </tbody>\n",
       "</table>\n",
       "</div>"
      ],
      "text/plain": [
       "   Unnamed: 0     ID                     name  \\\n",
       "0           0  50606              Roe v. Wade   \n",
       "1           1  50613      Stanley v. Illinois   \n",
       "2           2  50623  Giglio v. United States   \n",
       "3           3  50632             Reed v. Reed   \n",
       "4           4  50643     Miller v. California   \n",
       "\n",
       "                                      href   docket  term  \\\n",
       "0    https://api.oyez.org/cases/1971/70-18    70-18  1971   \n",
       "1  https://api.oyez.org/cases/1971/70-5014  70-5014  1971   \n",
       "2    https://api.oyez.org/cases/1971/70-29    70-29  1971   \n",
       "3     https://api.oyez.org/cases/1971/70-4     70-4  1971   \n",
       "4    https://api.oyez.org/cases/1971/70-73    70-73  1971   \n",
       "\n",
       "           first_party   second_party  \\\n",
       "0             Jane Roe     Henry Wade   \n",
       "1  Peter Stanley, Sr.        Illinois   \n",
       "2         John Giglio   United States   \n",
       "3           Sally Reed     Cecil Reed   \n",
       "4        Marvin Miller     California   \n",
       "\n",
       "                                               facts  facts_len  \\\n",
       "0  <p>In 1970, Jane Roe (a fictional name used in...        501   \n",
       "1  <p>Joan Stanley had three children with Peter ...        757   \n",
       "2  <p>John Giglio was convicted of passing forged...        495   \n",
       "3  <p>The Idaho Probate Code specified that \"male...        378   \n",
       "4  <p>Miller, after conducting a mass mailing cam...        305   \n",
       "\n",
       "   majority_vote  minority_vote first_party_winner     decision_type  \\\n",
       "0              7              2               True  majority opinion   \n",
       "1              5              2               True  majority opinion   \n",
       "2              7              0               True  majority opinion   \n",
       "3              7              0               True  majority opinion   \n",
       "4              5              4               True  majority opinion   \n",
       "\n",
       "         disposition       issue_area  \n",
       "0           reversed              NaN  \n",
       "1  reversed/remanded     Civil Rights  \n",
       "2  reversed/remanded      Due Process  \n",
       "3  reversed/remanded     Civil Rights  \n",
       "4   vacated/remanded  First Amendment  "
      ]
     },
     "execution_count": 3,
     "metadata": {},
     "output_type": "execute_result"
    }
   ],
   "source": [
    "df.head()"
   ]
  },
  {
   "cell_type": "markdown",
   "metadata": {},
   "source": [
    "#### Data Cleaning and Exploration"
   ]
  },
  {
   "cell_type": "code",
   "execution_count": 4,
   "metadata": {},
   "outputs": [],
   "source": [
    "df.drop(columns = [\"Unnamed: 0\", \"href\"], inplace = True)"
   ]
  },
  {
   "cell_type": "code",
   "execution_count": 5,
   "metadata": {},
   "outputs": [
    {
     "data": {
      "text/html": [
       "<div>\n",
       "<style scoped>\n",
       "    .dataframe tbody tr th:only-of-type {\n",
       "        vertical-align: middle;\n",
       "    }\n",
       "\n",
       "    .dataframe tbody tr th {\n",
       "        vertical-align: top;\n",
       "    }\n",
       "\n",
       "    .dataframe thead th {\n",
       "        text-align: right;\n",
       "    }\n",
       "</style>\n",
       "<table border=\"1\" class=\"dataframe\">\n",
       "  <thead>\n",
       "    <tr style=\"text-align: right;\">\n",
       "      <th></th>\n",
       "      <th>ID</th>\n",
       "      <th>name</th>\n",
       "      <th>docket</th>\n",
       "      <th>term</th>\n",
       "      <th>first_party</th>\n",
       "      <th>second_party</th>\n",
       "      <th>facts</th>\n",
       "      <th>facts_len</th>\n",
       "      <th>majority_vote</th>\n",
       "      <th>minority_vote</th>\n",
       "      <th>first_party_winner</th>\n",
       "      <th>decision_type</th>\n",
       "      <th>disposition</th>\n",
       "      <th>issue_area</th>\n",
       "    </tr>\n",
       "  </thead>\n",
       "  <tbody>\n",
       "    <tr>\n",
       "      <th>0</th>\n",
       "      <td>50606</td>\n",
       "      <td>Roe v. Wade</td>\n",
       "      <td>70-18</td>\n",
       "      <td>1971</td>\n",
       "      <td>Jane Roe</td>\n",
       "      <td>Henry Wade</td>\n",
       "      <td>&lt;p&gt;In 1970, Jane Roe (a fictional name used in...</td>\n",
       "      <td>501</td>\n",
       "      <td>7</td>\n",
       "      <td>2</td>\n",
       "      <td>True</td>\n",
       "      <td>majority opinion</td>\n",
       "      <td>reversed</td>\n",
       "      <td>NaN</td>\n",
       "    </tr>\n",
       "    <tr>\n",
       "      <th>1</th>\n",
       "      <td>50613</td>\n",
       "      <td>Stanley v. Illinois</td>\n",
       "      <td>70-5014</td>\n",
       "      <td>1971</td>\n",
       "      <td>Peter Stanley, Sr.</td>\n",
       "      <td>Illinois</td>\n",
       "      <td>&lt;p&gt;Joan Stanley had three children with Peter ...</td>\n",
       "      <td>757</td>\n",
       "      <td>5</td>\n",
       "      <td>2</td>\n",
       "      <td>True</td>\n",
       "      <td>majority opinion</td>\n",
       "      <td>reversed/remanded</td>\n",
       "      <td>Civil Rights</td>\n",
       "    </tr>\n",
       "    <tr>\n",
       "      <th>2</th>\n",
       "      <td>50623</td>\n",
       "      <td>Giglio v. United States</td>\n",
       "      <td>70-29</td>\n",
       "      <td>1971</td>\n",
       "      <td>John Giglio</td>\n",
       "      <td>United States</td>\n",
       "      <td>&lt;p&gt;John Giglio was convicted of passing forged...</td>\n",
       "      <td>495</td>\n",
       "      <td>7</td>\n",
       "      <td>0</td>\n",
       "      <td>True</td>\n",
       "      <td>majority opinion</td>\n",
       "      <td>reversed/remanded</td>\n",
       "      <td>Due Process</td>\n",
       "    </tr>\n",
       "    <tr>\n",
       "      <th>3</th>\n",
       "      <td>50632</td>\n",
       "      <td>Reed v. Reed</td>\n",
       "      <td>70-4</td>\n",
       "      <td>1971</td>\n",
       "      <td>Sally Reed</td>\n",
       "      <td>Cecil Reed</td>\n",
       "      <td>&lt;p&gt;The Idaho Probate Code specified that \"male...</td>\n",
       "      <td>378</td>\n",
       "      <td>7</td>\n",
       "      <td>0</td>\n",
       "      <td>True</td>\n",
       "      <td>majority opinion</td>\n",
       "      <td>reversed/remanded</td>\n",
       "      <td>Civil Rights</td>\n",
       "    </tr>\n",
       "    <tr>\n",
       "      <th>4</th>\n",
       "      <td>50643</td>\n",
       "      <td>Miller v. California</td>\n",
       "      <td>70-73</td>\n",
       "      <td>1971</td>\n",
       "      <td>Marvin Miller</td>\n",
       "      <td>California</td>\n",
       "      <td>&lt;p&gt;Miller, after conducting a mass mailing cam...</td>\n",
       "      <td>305</td>\n",
       "      <td>5</td>\n",
       "      <td>4</td>\n",
       "      <td>True</td>\n",
       "      <td>majority opinion</td>\n",
       "      <td>vacated/remanded</td>\n",
       "      <td>First Amendment</td>\n",
       "    </tr>\n",
       "  </tbody>\n",
       "</table>\n",
       "</div>"
      ],
      "text/plain": [
       "      ID                     name   docket  term          first_party  \\\n",
       "0  50606              Roe v. Wade    70-18  1971             Jane Roe   \n",
       "1  50613      Stanley v. Illinois  70-5014  1971  Peter Stanley, Sr.    \n",
       "2  50623  Giglio v. United States    70-29  1971         John Giglio    \n",
       "3  50632             Reed v. Reed     70-4  1971           Sally Reed   \n",
       "4  50643     Miller v. California    70-73  1971        Marvin Miller   \n",
       "\n",
       "    second_party                                              facts  \\\n",
       "0     Henry Wade  <p>In 1970, Jane Roe (a fictional name used in...   \n",
       "1       Illinois  <p>Joan Stanley had three children with Peter ...   \n",
       "2  United States  <p>John Giglio was convicted of passing forged...   \n",
       "3     Cecil Reed  <p>The Idaho Probate Code specified that \"male...   \n",
       "4     California  <p>Miller, after conducting a mass mailing cam...   \n",
       "\n",
       "   facts_len  majority_vote  minority_vote first_party_winner  \\\n",
       "0        501              7              2               True   \n",
       "1        757              5              2               True   \n",
       "2        495              7              0               True   \n",
       "3        378              7              0               True   \n",
       "4        305              5              4               True   \n",
       "\n",
       "      decision_type        disposition       issue_area  \n",
       "0  majority opinion           reversed              NaN  \n",
       "1  majority opinion  reversed/remanded     Civil Rights  \n",
       "2  majority opinion  reversed/remanded      Due Process  \n",
       "3  majority opinion  reversed/remanded     Civil Rights  \n",
       "4  majority opinion   vacated/remanded  First Amendment  "
      ]
     },
     "execution_count": 5,
     "metadata": {},
     "output_type": "execute_result"
    }
   ],
   "source": [
    "df.head()"
   ]
  },
  {
   "cell_type": "code",
   "execution_count": 6,
   "metadata": {},
   "outputs": [
    {
     "data": {
      "text/plain": [
       "<matplotlib.axes._subplots.AxesSubplot at 0x15a98da8370>"
      ]
     },
     "execution_count": 6,
     "metadata": {},
     "output_type": "execute_result"
    },
    {
     "data": {
      "image/png": "[encoded data removed]",
      "text/plain": [
       "<Figure size 432x288 with 1 Axes>"
      ]
     },
     "metadata": {},
     "output_type": "display_data"
    }
   ],
   "source": [
    "df['majority_vote'].value_counts().plot(kind = 'bar')"
   ]
  },
  {
   "cell_type": "code",
   "execution_count": 7,
   "metadata": {},
   "outputs": [
    {
     "data": {
      "text/plain": [
       "<matplotlib.axes._subplots.AxesSubplot at 0x15a98da8610>"
      ]
     },
     "execution_count": 7,
     "metadata": {},
     "output_type": "execute_result"
    },
    {
     "data": {
      "image/png": "[encoded data removed]",
      "text/plain": [
       "<Figure size 432x288 with 1 Axes>"
      ]
     },
     "metadata": {},
     "output_type": "display_data"
    }
   ],
   "source": [
    "df['minority_vote'].value_counts().plot(kind = 'bar')"
   ]
  },
  {
   "cell_type": "code",
   "execution_count": 8,
   "metadata": {},
   "outputs": [
    {
     "data": {
      "text/plain": [
       "True     2140\n",
       "False    1148\n",
       "Name: first_party_winner, dtype: int64"
      ]
     },
     "execution_count": 8,
     "metadata": {},
     "output_type": "execute_result"
    }
   ],
   "source": [
    "fpw = df['first_party_winner'].value_counts()\n",
    "fpw"
   ]
  },
  {
   "cell_type": "code",
   "execution_count": 9,
   "metadata": {},
   "outputs": [
    {
     "data": {
      "text/plain": [
       "([<matplotlib.patches.Wedge at 0x15a9af162e0>,\n",
       "  <matplotlib.patches.Wedge at 0x15a9af16790>],\n",
       " [Text(-0.5020099413086101, 0.9787676020523596, 'True'),\n",
       "  Text(0.5020100329474443, -0.9787675550507925, 'False')],\n",
       " [Text(-0.27382360435015096, 0.5338732374831051, '65.1%'),\n",
       "  Text(0.2738236543349696, -0.5338732118458868, '34.9%')])"
      ]
     },
     "execution_count": 9,
     "metadata": {},
     "output_type": "execute_result"
    },
    {
     "data": {
      "image/png": "[encoded data removed]",
      "text/plain": [
       "<Figure size 432x288 with 1 Axes>"
      ]
     },
     "metadata": {},
     "output_type": "display_data"
    }
   ],
   "source": [
    "plt.pie(fpw, labels = fpw.index, autopct = '%0.1f%%')"
   ]
  },
  {
   "cell_type": "code",
   "execution_count": 10,
   "metadata": {},
   "outputs": [
    {
     "data": {
      "text/plain": [
       "<matplotlib.axes._subplots.AxesSubplot at 0x15a9af32130>"
      ]
     },
     "execution_count": 10,
     "metadata": {},
     "output_type": "execute_result"
    },
    {
     "data": {
      "image/png": "[encoded data removed]",
      "text/plain": [
       "<Figure size 432x288 with 1 Axes>"
      ]
     },
     "metadata": {},
     "output_type": "display_data"
    }
   ],
   "source": [
    "df['decision_type'].value_counts().plot(kind = 'barh')"
   ]
  },
  {
   "cell_type": "code",
   "execution_count": 11,
   "metadata": {},
   "outputs": [
    {
     "data": {
      "text/plain": [
       "reversed/remanded            1073\n",
       "affirmed                     1007\n",
       "reversed                      585\n",
       "vacated/remanded              430\n",
       "reversed in-part/remanded      61\n",
       "none                           41\n",
       "reversed in-part               22\n",
       "vacated                         7\n",
       "vacated in-part/remanded        5\n",
       "Name: disposition, dtype: int64"
      ]
     },
     "execution_count": 11,
     "metadata": {},
     "output_type": "execute_result"
    }
   ],
   "source": [
    "df['disposition'].value_counts()"
   ]
  },
  {
   "cell_type": "code",
   "execution_count": 12,
   "metadata": {},
   "outputs": [
    {
     "data": {
      "text/plain": [
       "Criminal Procedure      859\n",
       "Civil Rights            568\n",
       "Economic Activity       542\n",
       "First Amendment         353\n",
       "Judicial Power          342\n",
       "Due Process             128\n",
       "Federalism              125\n",
       "Privacy                  70\n",
       "Unions                   60\n",
       "Federal Taxation         51\n",
       "Attorneys                37\n",
       "Miscellaneous            20\n",
       "Private Action            4\n",
       "Interstate Relations      2\n",
       "Name: issue_area, dtype: int64"
      ]
     },
     "execution_count": 12,
     "metadata": {},
     "output_type": "execute_result"
    }
   ],
   "source": [
    "df['issue_area'].value_counts()"
   ]
  },
  {
   "cell_type": "code",
   "execution_count": 13,
   "metadata": {},
   "outputs": [
    {
     "data": {
      "text/plain": [
       "ID                      0\n",
       "name                    0\n",
       "docket                  0\n",
       "term                    0\n",
       "first_party             1\n",
       "second_party            1\n",
       "facts                   0\n",
       "facts_len               0\n",
       "majority_vote           0\n",
       "minority_vote           0\n",
       "first_party_winner     15\n",
       "decision_type           7\n",
       "disposition            72\n",
       "issue_area            142\n",
       "dtype: int64"
      ]
     },
     "execution_count": 13,
     "metadata": {},
     "output_type": "execute_result"
    }
   ],
   "source": [
    "df.isnull().sum()"
   ]
  },
  {
   "cell_type": "code",
   "execution_count": 14,
   "metadata": {},
   "outputs": [
    {
     "data": {
      "text/plain": [
       "['first_party',\n",
       " 'second_party',\n",
       " 'first_party_winner',\n",
       " 'decision_type',\n",
       " 'disposition',\n",
       " 'issue_area']"
      ]
     },
     "execution_count": 14,
     "metadata": {},
     "output_type": "execute_result"
    }
   ],
   "source": [
    "features = [x for x in df.columns if df[x].isnull().sum() > 0]\n",
    "features"
   ]
  },
  {
   "cell_type": "code",
   "execution_count": 15,
   "metadata": {},
   "outputs": [],
   "source": [
    "for i in features:\n",
    "    df[i] = df[i].fillna('None')"
   ]
  },
  {
   "cell_type": "code",
   "execution_count": 16,
   "metadata": {},
   "outputs": [
    {
     "data": {
      "text/plain": [
       "ID                    0\n",
       "name                  0\n",
       "docket                0\n",
       "term                  0\n",
       "first_party           0\n",
       "second_party          0\n",
       "facts                 0\n",
       "facts_len             0\n",
       "majority_vote         0\n",
       "minority_vote         0\n",
       "first_party_winner    0\n",
       "decision_type         0\n",
       "disposition           0\n",
       "issue_area            0\n",
       "dtype: int64"
      ]
     },
     "execution_count": 16,
     "metadata": {},
     "output_type": "execute_result"
    }
   ],
   "source": [
    "df.isnull().sum()"
   ]
  },
  {
   "cell_type": "code",
   "execution_count": 17,
   "metadata": {},
   "outputs": [],
   "source": [
    "df2 = df.copy()"
   ]
  },
  {
   "cell_type": "code",
   "execution_count": 18,
   "metadata": {},
   "outputs": [],
   "source": [
    "df2.drop(columns = ['ID','name','docket','term','first_party','second_party','facts_len','majority_vote','minority_vote',\n",
    "                   'first_party_winner'], inplace = True)"
   ]
  },
  {
   "cell_type": "code",
   "execution_count": 19,
   "metadata": {},
   "outputs": [
    {
     "data": {
      "text/html": [
       "<div>\n",
       "<style scoped>\n",
       "    .dataframe tbody tr th:only-of-type {\n",
       "        vertical-align: middle;\n",
       "    }\n",
       "\n",
       "    .dataframe tbody tr th {\n",
       "        vertical-align: top;\n",
       "    }\n",
       "\n",
       "    .dataframe thead th {\n",
       "        text-align: right;\n",
       "    }\n",
       "</style>\n",
       "<table border=\"1\" class=\"dataframe\">\n",
       "  <thead>\n",
       "    <tr style=\"text-align: right;\">\n",
       "      <th></th>\n",
       "      <th>facts</th>\n",
       "      <th>decision_type</th>\n",
       "      <th>disposition</th>\n",
       "      <th>issue_area</th>\n",
       "    </tr>\n",
       "  </thead>\n",
       "  <tbody>\n",
       "    <tr>\n",
       "      <th>0</th>\n",
       "      <td>&lt;p&gt;In 1970, Jane Roe (a fictional name used in...</td>\n",
       "      <td>majority opinion</td>\n",
       "      <td>reversed</td>\n",
       "      <td>None</td>\n",
       "    </tr>\n",
       "    <tr>\n",
       "      <th>1</th>\n",
       "      <td>&lt;p&gt;Joan Stanley had three children with Peter ...</td>\n",
       "      <td>majority opinion</td>\n",
       "      <td>reversed/remanded</td>\n",
       "      <td>Civil Rights</td>\n",
       "    </tr>\n",
       "    <tr>\n",
       "      <th>2</th>\n",
       "      <td>&lt;p&gt;John Giglio was convicted of passing forged...</td>\n",
       "      <td>majority opinion</td>\n",
       "      <td>reversed/remanded</td>\n",
       "      <td>Due Process</td>\n",
       "    </tr>\n",
       "    <tr>\n",
       "      <th>3</th>\n",
       "      <td>&lt;p&gt;The Idaho Probate Code specified that \"male...</td>\n",
       "      <td>majority opinion</td>\n",
       "      <td>reversed/remanded</td>\n",
       "      <td>Civil Rights</td>\n",
       "    </tr>\n",
       "    <tr>\n",
       "      <th>4</th>\n",
       "      <td>&lt;p&gt;Miller, after conducting a mass mailing cam...</td>\n",
       "      <td>majority opinion</td>\n",
       "      <td>vacated/remanded</td>\n",
       "      <td>First Amendment</td>\n",
       "    </tr>\n",
       "  </tbody>\n",
       "</table>\n",
       "</div>"
      ],
      "text/plain": [
       "                                               facts     decision_type  \\\n",
       "0  <p>In 1970, Jane Roe (a fictional name used in...  majority opinion   \n",
       "1  <p>Joan Stanley had three children with Peter ...  majority opinion   \n",
       "2  <p>John Giglio was convicted of passing forged...  majority opinion   \n",
       "3  <p>The Idaho Probate Code specified that \"male...  majority opinion   \n",
       "4  <p>Miller, after conducting a mass mailing cam...  majority opinion   \n",
       "\n",
       "         disposition       issue_area  \n",
       "0           reversed             None  \n",
       "1  reversed/remanded     Civil Rights  \n",
       "2  reversed/remanded      Due Process  \n",
       "3  reversed/remanded     Civil Rights  \n",
       "4   vacated/remanded  First Amendment  "
      ]
     },
     "execution_count": 19,
     "metadata": {},
     "output_type": "execute_result"
    }
   ],
   "source": [
    "df2.head()"
   ]
  },
  {
   "cell_type": "code",
   "execution_count": 20,
   "metadata": {},
   "outputs": [],
   "source": [
    "df2['facts'] = df['facts'].str.replace('<p>','')"
   ]
  },
  {
   "cell_type": "code",
   "execution_count": 21,
   "metadata": {},
   "outputs": [
    {
     "data": {
      "text/html": [
       "<div>\n",
       "<style scoped>\n",
       "    .dataframe tbody tr th:only-of-type {\n",
       "        vertical-align: middle;\n",
       "    }\n",
       "\n",
       "    .dataframe tbody tr th {\n",
       "        vertical-align: top;\n",
       "    }\n",
       "\n",
       "    .dataframe thead th {\n",
       "        text-align: right;\n",
       "    }\n",
       "</style>\n",
       "<table border=\"1\" class=\"dataframe\">\n",
       "  <thead>\n",
       "    <tr style=\"text-align: right;\">\n",
       "      <th></th>\n",
       "      <th>facts</th>\n",
       "      <th>decision_type</th>\n",
       "      <th>disposition</th>\n",
       "      <th>issue_area</th>\n",
       "    </tr>\n",
       "  </thead>\n",
       "  <tbody>\n",
       "    <tr>\n",
       "      <th>0</th>\n",
       "      <td>In 1970, Jane Roe (a fictional name used in co...</td>\n",
       "      <td>majority opinion</td>\n",
       "      <td>reversed</td>\n",
       "      <td>None</td>\n",
       "    </tr>\n",
       "    <tr>\n",
       "      <th>1</th>\n",
       "      <td>Joan Stanley had three children with Peter Sta...</td>\n",
       "      <td>majority opinion</td>\n",
       "      <td>reversed/remanded</td>\n",
       "      <td>Civil Rights</td>\n",
       "    </tr>\n",
       "    <tr>\n",
       "      <th>2</th>\n",
       "      <td>John Giglio was convicted of passing forged mo...</td>\n",
       "      <td>majority opinion</td>\n",
       "      <td>reversed/remanded</td>\n",
       "      <td>Due Process</td>\n",
       "    </tr>\n",
       "    <tr>\n",
       "      <th>3</th>\n",
       "      <td>The Idaho Probate Code specified that \"males m...</td>\n",
       "      <td>majority opinion</td>\n",
       "      <td>reversed/remanded</td>\n",
       "      <td>Civil Rights</td>\n",
       "    </tr>\n",
       "    <tr>\n",
       "      <th>4</th>\n",
       "      <td>Miller, after conducting a mass mailing campai...</td>\n",
       "      <td>majority opinion</td>\n",
       "      <td>vacated/remanded</td>\n",
       "      <td>First Amendment</td>\n",
       "    </tr>\n",
       "  </tbody>\n",
       "</table>\n",
       "</div>"
      ],
      "text/plain": [
       "                                               facts     decision_type  \\\n",
       "0  In 1970, Jane Roe (a fictional name used in co...  majority opinion   \n",
       "1  Joan Stanley had three children with Peter Sta...  majority opinion   \n",
       "2  John Giglio was convicted of passing forged mo...  majority opinion   \n",
       "3  The Idaho Probate Code specified that \"males m...  majority opinion   \n",
       "4  Miller, after conducting a mass mailing campai...  majority opinion   \n",
       "\n",
       "         disposition       issue_area  \n",
       "0           reversed             None  \n",
       "1  reversed/remanded     Civil Rights  \n",
       "2  reversed/remanded      Due Process  \n",
       "3  reversed/remanded     Civil Rights  \n",
       "4   vacated/remanded  First Amendment  "
      ]
     },
     "execution_count": 21,
     "metadata": {},
     "output_type": "execute_result"
    }
   ],
   "source": [
    "df2.head()"
   ]
  },
  {
   "cell_type": "raw",
   "metadata": {},
   "source": [
    "for i in range(len(df2['facts'])):\n",
    "    df['facts'][i] = re.sub('@([a-zA-Z])+','', df['facts'][i], flags = re.MULTILINE)"
   ]
  },
  {
   "cell_type": "markdown",
   "metadata": {},
   "source": [
    "## Feature Engineering\n",
    "#### Perform One Hot Encoding"
   ]
  },
  {
   "cell_type": "code",
   "execution_count": 22,
   "metadata": {},
   "outputs": [],
   "source": [
    "le = LabelEncoder()"
   ]
  },
  {
   "cell_type": "code",
   "execution_count": 23,
   "metadata": {},
   "outputs": [],
   "source": [
    "df2['decision_num'] = le.fit_transform(df2['decision_type'])\n",
    "df2['disposition_num'] = le.fit_transform(df2['disposition'])\n",
    "df2['issue_num'] = le.fit_transform(df2['issue_area'])"
   ]
  },
  {
   "cell_type": "code",
   "execution_count": 24,
   "metadata": {},
   "outputs": [
    {
     "data": {
      "text/html": [
       "<div>\n",
       "<style scoped>\n",
       "    .dataframe tbody tr th:only-of-type {\n",
       "        vertical-align: middle;\n",
       "    }\n",
       "\n",
       "    .dataframe tbody tr th {\n",
       "        vertical-align: top;\n",
       "    }\n",
       "\n",
       "    .dataframe thead th {\n",
       "        text-align: right;\n",
       "    }\n",
       "</style>\n",
       "<table border=\"1\" class=\"dataframe\">\n",
       "  <thead>\n",
       "    <tr style=\"text-align: right;\">\n",
       "      <th></th>\n",
       "      <th>facts</th>\n",
       "      <th>decision_type</th>\n",
       "      <th>disposition</th>\n",
       "      <th>issue_area</th>\n",
       "      <th>decision_num</th>\n",
       "      <th>disposition_num</th>\n",
       "      <th>issue_num</th>\n",
       "    </tr>\n",
       "  </thead>\n",
       "  <tbody>\n",
       "    <tr>\n",
       "      <th>0</th>\n",
       "      <td>In 1970, Jane Roe (a fictional name used in co...</td>\n",
       "      <td>majority opinion</td>\n",
       "      <td>reversed</td>\n",
       "      <td>None</td>\n",
       "      <td>6</td>\n",
       "      <td>3</td>\n",
       "      <td>11</td>\n",
       "    </tr>\n",
       "    <tr>\n",
       "      <th>1</th>\n",
       "      <td>Joan Stanley had three children with Peter Sta...</td>\n",
       "      <td>majority opinion</td>\n",
       "      <td>reversed/remanded</td>\n",
       "      <td>Civil Rights</td>\n",
       "      <td>6</td>\n",
       "      <td>6</td>\n",
       "      <td>1</td>\n",
       "    </tr>\n",
       "    <tr>\n",
       "      <th>2</th>\n",
       "      <td>John Giglio was convicted of passing forged mo...</td>\n",
       "      <td>majority opinion</td>\n",
       "      <td>reversed/remanded</td>\n",
       "      <td>Due Process</td>\n",
       "      <td>6</td>\n",
       "      <td>6</td>\n",
       "      <td>3</td>\n",
       "    </tr>\n",
       "    <tr>\n",
       "      <th>3</th>\n",
       "      <td>The Idaho Probate Code specified that \"males m...</td>\n",
       "      <td>majority opinion</td>\n",
       "      <td>reversed/remanded</td>\n",
       "      <td>Civil Rights</td>\n",
       "      <td>6</td>\n",
       "      <td>6</td>\n",
       "      <td>1</td>\n",
       "    </tr>\n",
       "    <tr>\n",
       "      <th>4</th>\n",
       "      <td>Miller, after conducting a mass mailing campai...</td>\n",
       "      <td>majority opinion</td>\n",
       "      <td>vacated/remanded</td>\n",
       "      <td>First Amendment</td>\n",
       "      <td>6</td>\n",
       "      <td>9</td>\n",
       "      <td>7</td>\n",
       "    </tr>\n",
       "  </tbody>\n",
       "</table>\n",
       "</div>"
      ],
      "text/plain": [
       "                                               facts     decision_type  \\\n",
       "0  In 1970, Jane Roe (a fictional name used in co...  majority opinion   \n",
       "1  Joan Stanley had three children with Peter Sta...  majority opinion   \n",
       "2  John Giglio was convicted of passing forged mo...  majority opinion   \n",
       "3  The Idaho Probate Code specified that \"males m...  majority opinion   \n",
       "4  Miller, after conducting a mass mailing campai...  majority opinion   \n",
       "\n",
       "         disposition       issue_area  decision_num  disposition_num  \\\n",
       "0           reversed             None             6                3   \n",
       "1  reversed/remanded     Civil Rights             6                6   \n",
       "2  reversed/remanded      Due Process             6                6   \n",
       "3  reversed/remanded     Civil Rights             6                6   \n",
       "4   vacated/remanded  First Amendment             6                9   \n",
       "\n",
       "   issue_num  \n",
       "0         11  \n",
       "1          1  \n",
       "2          3  \n",
       "3          1  \n",
       "4          7  "
      ]
     },
     "execution_count": 24,
     "metadata": {},
     "output_type": "execute_result"
    }
   ],
   "source": [
    "df2.head()"
   ]
  },
  {
   "cell_type": "code",
   "execution_count": 25,
   "metadata": {},
   "outputs": [
    {
     "data": {
      "text/html": [
       "<div>\n",
       "<style scoped>\n",
       "    .dataframe tbody tr th:only-of-type {\n",
       "        vertical-align: middle;\n",
       "    }\n",
       "\n",
       "    .dataframe tbody tr th {\n",
       "        vertical-align: top;\n",
       "    }\n",
       "\n",
       "    .dataframe thead th {\n",
       "        text-align: right;\n",
       "    }\n",
       "</style>\n",
       "<table border=\"1\" class=\"dataframe\">\n",
       "  <thead>\n",
       "    <tr style=\"text-align: right;\">\n",
       "      <th></th>\n",
       "      <th>decision_type</th>\n",
       "      <th>decision_num</th>\n",
       "    </tr>\n",
       "  </thead>\n",
       "  <tbody>\n",
       "    <tr>\n",
       "      <th>2480</th>\n",
       "      <td>majority opinion</td>\n",
       "      <td>6</td>\n",
       "    </tr>\n",
       "    <tr>\n",
       "      <th>600</th>\n",
       "      <td>majority opinion</td>\n",
       "      <td>6</td>\n",
       "    </tr>\n",
       "    <tr>\n",
       "      <th>1650</th>\n",
       "      <td>majority opinion</td>\n",
       "      <td>6</td>\n",
       "    </tr>\n",
       "    <tr>\n",
       "      <th>2143</th>\n",
       "      <td>majority opinion</td>\n",
       "      <td>6</td>\n",
       "    </tr>\n",
       "    <tr>\n",
       "      <th>2190</th>\n",
       "      <td>per curiam</td>\n",
       "      <td>9</td>\n",
       "    </tr>\n",
       "  </tbody>\n",
       "</table>\n",
       "</div>"
      ],
      "text/plain": [
       "         decision_type  decision_num\n",
       "2480  majority opinion             6\n",
       "600   majority opinion             6\n",
       "1650  majority opinion             6\n",
       "2143  majority opinion             6\n",
       "2190        per curiam             9"
      ]
     },
     "execution_count": 25,
     "metadata": {},
     "output_type": "execute_result"
    }
   ],
   "source": [
    "df2[['decision_type', 'decision_num']].sample(frac = 1).head()"
   ]
  },
  {
   "cell_type": "markdown",
   "metadata": {},
   "source": [
    "#### Working with the Decision Type Series"
   ]
  },
  {
   "cell_type": "code",
   "execution_count": 26,
   "metadata": {},
   "outputs": [
    {
     "name": "stdout",
     "output_type": "stream",
     "text": [
      "x_train (2642,)\n",
      "x_test (661,)\n",
      "y_train (2642,)\n",
      "y_test (661,)\n"
     ]
    }
   ],
   "source": [
    "x = df2['facts']\n",
    "y = df2['decision_num']\n",
    "\n",
    "x_train, x_test, y_train, y_test = train_test_split(x, y, test_size=0.2)\n",
    "\n",
    "print('x_train', x_train.shape)\n",
    "print('x_test', x_test.shape)\n",
    "print('y_train', y_train.shape)\n",
    "print('y_test', y_test.shape)\n",
    "\n"
   ]
  },
  {
   "cell_type": "markdown",
   "metadata": {},
   "source": [
    "#### Vectorization"
   ]
  },
  {
   "cell_type": "code",
   "execution_count": 27,
   "metadata": {},
   "outputs": [
    {
     "name": "stdout",
     "output_type": "stream",
     "text": [
      "Wall time: 914 ms\n"
     ]
    },
    {
     "data": {
      "text/plain": [
       "<2642x18107 sparse matrix of type '<class 'numpy.int64'>'\n",
       "\twith 251671 stored elements in Compressed Sparse Row format>"
      ]
     },
     "execution_count": 27,
     "metadata": {},
     "output_type": "execute_result"
    }
   ],
   "source": [
    "vect = CountVectorizer()\n",
    "%time vect.fit_transform(x_train)"
   ]
  },
  {
   "cell_type": "code",
   "execution_count": 28,
   "metadata": {},
   "outputs": [
    {
     "name": "stdout",
     "output_type": "stream",
     "text": [
      "47.7 ns ± 3.52 ns per loop (mean ± std. dev. of 7 runs, 10000000 loops each)\n"
     ]
    }
   ],
   "source": [
    "x_train_vect = vect.fit_transform(x_train)\n",
    "%timeit x_train_vect"
   ]
  },
  {
   "cell_type": "code",
   "execution_count": 29,
   "metadata": {},
   "outputs": [
    {
     "name": "stdout",
     "output_type": "stream",
     "text": [
      "49.1 ns ± 9.79 ns per loop (mean ± std. dev. of 7 runs, 10000000 loops each)\n",
      "Wall time: 0 ns\n"
     ]
    },
    {
     "data": {
      "text/plain": [
       "<661x9091 sparse matrix of type '<class 'numpy.int64'>'\n",
       "\twith 63311 stored elements in Compressed Sparse Row format>"
      ]
     },
     "execution_count": 29,
     "metadata": {},
     "output_type": "execute_result"
    }
   ],
   "source": [
    "x_test_vect = vect.fit_transform(x_test)\n",
    "%timeit x_test_vect\n",
    "%time x_test_vect"
   ]
  },
  {
   "cell_type": "markdown",
   "metadata": {},
   "source": [
    "#### Build and Evaluate Model"
   ]
  },
  {
   "cell_type": "code",
   "execution_count": 30,
   "metadata": {},
   "outputs": [],
   "source": [
    "dtc = DecisionTreeClassifier()"
   ]
  },
  {
   "cell_type": "code",
   "execution_count": 31,
   "metadata": {},
   "outputs": [
    {
     "data": {
      "text/plain": [
       "DecisionTreeClassifier()"
      ]
     },
     "execution_count": 31,
     "metadata": {},
     "output_type": "execute_result"
    }
   ],
   "source": [
    "dtc.fit(x_train_vect, y_train)"
   ]
  },
  {
   "cell_type": "code",
   "execution_count": 32,
   "metadata": {},
   "outputs": [
    {
     "name": "stdout",
     "output_type": "stream",
     "text": [
      "[6, 6, 6, 9, 6, 6, 6, 6, 6, 6, 6, 9, 6, 6, 6, 6, 6, 10, 10, 10, 6, 6, 6, 6, 6, 6, 6, 9, 6, 10, 6, 6, 6, 6, 6, 6, 6, 10, 6, 6, 6, 6, 6, 9, 6, 10, 6, 6, 6, 6, 6, 9, 6, 6, 6, 10, 6, 6, 6, 6, 6, 6, 6, 6, 6, 6, 6, 6, 6, 6, 6, 6, 6, 6, 6, 6, 6, 6, 9, 9, 6, 6, 6, 6, 6, 6, 6, 6, 6, 9, 6, 6, 6, 6, 6, 6, 6, 6, 6, 6, 9, 6, 6, 9, 6, 6, 6, 10, 6, 6, 6, 6, 6, 6, 6, 6, 6, 9, 6, 6, 6, 6, 6, 6, 6, 6, 6, 9, 6, 6, 6, 6, 6, 6, 6, 10, 6, 6, 6, 10, 6, 6, 6, 6, 6, 6, 6, 6, 6, 6, 6, 6, 9, 6, 10, 6, 6, 6, 6, 6, 6, 6, 9, 6, 6, 6, 6, 6, 6, 6, 6, 6, 6, 6, 6, 6, 6, 6, 6, 6, 6, 6, 6, 3, 6, 6, 6, 9, 6, 6, 6, 6, 6, 6, 6, 6, 6, 6, 6, 10, 6, 6, 6, 6, 10, 6, 9, 6, 6, 6, 6, 6, 6, 9, 6, 10, 6, 6, 9, 6, 6, 6, 6, 6, 6, 6, 6, 6, 6, 6, 6, 6, 6, 6, 9, 9, 6, 6, 6, 6, 6, 6, 6, 6, 6, 6, 6, 6, 6, 6, 6, 6, 6, 6, 6, 6, 6, 6, 6, 6, 6, 6, 6, 6, 10, 6, 3, 4, 6, 6, 6, 6, 6, 6, 6, 6, 6, 6, 6, 6, 6, 6, 6, 6, 6, 6, 6, 6, 6, 6, 6, 6, 9, 6, 6, 6, 6, 6, 6, 6, 6, 6, 6, 6, 6, 6, 6, 6, 9, 6, 6, 6, 6, 6, 6, 6, 6, 9, 6, 6, 6, 6, 10, 6, 6, 9, 6, 6, 6, 6, 9, 6, 6, 6, 6, 6, 6, 6, 6, 6, 10, 6, 6, 10, 6, 6, 6, 6, 6, 6, 6, 9, 9, 6, 6, 6, 10, 9, 10, 6, 6, 6, 6, 6, 6, 6, 6, 6, 6, 6, 9, 6, 6, 9, 6, 6, 6, 6, 6, 6, 6, 6, 6, 6, 6, 6, 6, 6, 6, 6, 6, 6, 9, 6, 6, 6, 6, 6, 6, 6, 6, 6, 6, 9, 6, 0, 6, 6, 6, 10, 6, 6, 6, 6, 6, 6, 10, 6, 6, 6, 6, 6, 6, 6, 6, 6, 6, 6, 6, 6, 6, 6, 6, 6, 6, 6, 6, 3, 6, 6, 6, 6, 6, 6, 6, 10, 6, 10, 6, 6, 6, 6, 6, 6, 6, 6, 10, 6, 6, 6, 6, 6, 4, 2, 6, 6, 6, 6, 9, 6, 6, 6, 6, 6, 9, 6, 10, 6, 6, 6, 6, 6, 6, 9, 6, 6, 10, 6, 6, 6, 6, 6, 6, 6, 6, 9, 6, 6, 6, 6, 6, 5, 6, 6, 6, 6, 6, 6, 6, 6, 6, 6, 6, 6, 6, 6, 6, 10, 6, 6, 6, 6, 6, 6, 6, 6, 6, 6, 6, 6, 6, 6, 6, 6, 6, 6, 6, 6, 6, 6, 6, 6, 6, 6, 6, 6, 6, 6, 6, 9, 6, 6, 6, 6, 9, 6, 6, 6, 9, 6, 6, 6, 6, 6, 10, 6, 10, 6, 6, 6, 6, 6, 6, 6, 6, 6, 6, 6, 6, 6, 6, 9, 6, 6, 6, 6, 6, 9, 6, 6, 6, 6, 6, 6, 6, 6, 6, 6, 6, 6, 6, 6, 9, 4, 6, 6, 6, 10, 6, 6, 6, 6, 9, 6, 6, 6, 6, 6, 6, 6, 6, 6, 6, 6, 6, 6, 6, 6, 9, 6, 6, 6, 6, 6, 6, 6, 6, 3, 6, 6, 6, 6, 6, 6, 6, 6, 10, 6, 6, 10, 6, 6, 6, 6, 6, 6, 6, 6, 6, 6, 6, 6, 6, 6, 6, 6, 9, 6, 6, 5, 6, 6, 6, 6, 6, 6, 6, 6, 6, 6, 6, 6, 6, 6, 6, 6, 6, 6, 6, 6, 6, 6, 9, 9, 6, 6, 6, 6, 6, 6, 6, 6, 6, 6, 6, 6, 6, 6, 6, 6, 6, 6, 10, 6, 6, 6, 6, 6, 6, 6, 6, 9, 6, 6, 6, 6, 6, 6, 6, 10, 6, 9, 5, 6, 6, 6, 6, 6, 9, 6, 6, 9, 6, 6, 6, 6, 6, 6, 6, 10, 9, 6, 6, 6, 6, 6, 6, 6, 6, 6, 10, 6, 6, 9, 6, 9, 9, 6, 6, 6, 6, 6, 9, 6, 6, 6, 6, 10, 6, 6, 6, 6, 9, 6, 6, 6, 9, 6, 6, 6, 6, 6, 6, 6, 6, 10, 6, 6, 6, 5, 6, 6, 6, 6, 6, 9, 6, 6, 6, 6, 6, 6, 6, 6, 6, 6, 6, 6, 6, 6, 6, 6, 6, 10, 10, 6, 6, 6, 9, 6, 6, 6, 6, 6, 6, 6, 6, 6, 6, 6, 6, 6, 6, 6, 6, 6, 6, 6, 6, 6, 6, 6, 6, 6, 6, 6, 10, 6, 6, 6, 6, 6, 6, 9, 6, 6, 6, 6, 6, 6, 6, 6, 9, 6, 6, 6, 6, 6, 6, 9, 9, 6, 3, 6, 6, 6, 6, 6, 6, 9, 6, 6, 6, 6, 6, 6, 6, 6, 6, 10, 6, 6, 6, 6, 6, 6, 6, 9, 6, 9, 6, 9, 6, 6, 6, 6, 6, 6, 10, 6, 6, 6, 6, 6, 9, 6, 6, 6, 0, 6, 6, 10, 6, 6, 9, 6, 6, 6, 6, 6, 6, 6, 6, 6, 6, 6, 10, 9, 6, 6, 6, 6, 6, 9, 6, 6, 9, 6, 6, 6, 6, 6, 9, 6, 6, 6, 6, 6, 6, 6, 10, 6, 6, 6, 6, 6, 6, 9, 9, 2, 6, 6, 9, 6, 6, 6, 6, 6, 6, 6, 6, 9, 6, 6, 9, 10, 6, 6, 6, 6, 10, 6, 6, 6, 6, 6, 6, 6, 6, 6, 6, 6, 10, 6, 6, 6, 9, 6, 6, 6, 6, 6, 6, 6, 6, 6, 6, 6, 6, 6, 6, 6, 6, 6, 6, 10, 6, 6, 6, 6, 6, 6, 9, 6, 6, 6, 6, 6, 9, 6, 6, 6, 9, 6, 9, 6, 6, 6, 6, 9, 6, 9, 6, 6, 6, 6, 6, 10, 6, 9, 6, 6, 9, 6, 6, 6, 6, 6, 6, 6, 6, 6, 6, 6, 6, 6, 6, 6, 6, 6, 6, 6, 6, 6, 6, 6, 6, 6, 9, 6, 6, 6, 6, 6, 6, 6, 6, 6, 6, 6, 6, 6, 6, 6, 6, 6, 6, 6, 6, 9, 6, 6, 6, 6, 9, 10, 6, 9, 9, 6, 6, 6, 6, 6, 6, 6, 6, 6, 6, 6, 6, 10, 6, 6, 6, 6, 6, 6, 6, 6, 6, 6, 6, 6, 6, 6, 6, 6, 6, 6, 6, 6, 6, 6, 6, 6, 9, 9, 6, 6, 6, 6, 6, 6, 6, 6, 2, 9, 6, 6, 9, 6, 6, 1, 9, 6, 6, 6, 6, 6, 6, 6, 6, 6, 6, 6, 6, 6, 6, 6, 6, 6, 6, 6, 6, 6, 9, 6, 6, 6, 10, 10, 6, 6, 6, 6, 6, 6, 6, 6, 6, 6, 6, 6, 6, 6, 6, 6, 6, 6, 6, 10, 6, 6, 10, 6, 6, 6, 6, 6, 6, 6, 6, 6, 9, 6, 6, 6, 6, 6, 9, 6, 6, 6, 6, 6, 9, 6, 9, 9, 10, 6, 6, 6, 6, 6, 6, 6, 6, 6, 6, 10, 6, 9, 6, 6, 6, 6, 6, 6, 6, 6, 5, 6, 6, 6, 6, 6, 6, 6, 6, 6, 6, 6, 6, 6, 6, 6, 8, 6, 6, 6, 6, 6, 6, 6, 9, 6, 6, 6, 6, 6, 6, 6, 6, 6, 6, 6, 6, 6, 6, 6, 9, 9, 6, 10, 10, 6, 6, 9, 6, 6, 6, 6, 6, 6, 9, 6, 6, 6, 6, 9, 6, 6, 6, 6, 6, 6, 6, 5, 6, 6, 6, 6, 6, 6, 6, 9, 6, 6, 6, 6, 6, 6, 6, 6, 6, 6, 6, 2, 6, 6, 6, 6, 9, 6, 6, 6, 9, 6, 9, 6, 6, 6, 10, 9, 6, 6, 6, 6, 9, 6, 6, 6, 9, 10, 6, 6, 6, 9, 6, 6, 6, 10, 6, 6, 6, 6, 6, 6, 6, 6, 6, 10, 6, 9, 6, 6, 6, 6, 6, 6, 6, 6, 6, 6, 6, 6, 6, 9, 6, 6, 6, 6, 6, 6, 6, 6, 9, 6, 6, 6, 6, 4, 6, 9, 6, 9, 10, 6, 6, 6, 6, 6, 6, 6, 6, 10, 6, 9, 6, 9, 6, 6, 6, 6, 6, 6, 6, 6, 6, 6, 6, 6, 6, 6, 9, 6, 6, 6, 6, 6, 6, 6, 9, 6, 2, 6, 6, 10, 6, 10, 6, 6, 6, 6, 6, 6, 6, 6, 6, 6, 6, 6, 6, 6, 6, 6, 6, 9, 6, 6, 6, 6, 6, 6, 6, 6, 6, 6, 6, 9, 6, 6, 6, 10, 6, 6, 5, 10, 6, 6, 6, 6, 6, 6, 6, 6, 6, 6, 6, 6, 10, 6, 6, 6, 9, 5, 6, 6, 6, 6, 6, 10, 9, 6, 6, 9, 6, 6, 6, 6, 6, 6, 6, 6, 6, 6, 6, 6, 6, 6, 6, 6, 6, 9, 6, 6, 6, 6, 6, 6, 6, 10, 6, 6, 6, 6, 6, 6, 6, 6, 6, 6, 6, 6, 10, 6, 6, 6, 9, 6, 6, 6, 6, 6, 6, 6, 6, 6, 9, 6, 6, 6, 6, 6, 6, 6, 6, 6, 6, 6, 6, 0, 6, 6, 6, 6, 6, 6, 6, 6, 6, 6, 4, 6, 6, 10, 6, 9, 9, 6, 6, 6, 6, 9, 6, 6, 6, 6, 6, 6, 10, 6, 6, 9, 6, 6, 6, 6, 6, 6, 6, 6, 6, 6, 6, 6, 6, 6, 6, 6, 6, 6, 9, 6, 6, 6, 6, 6, 6, 6, 6, 6, 6, 6, 10, 6, 10, 6, 6, 9, 6, 10, 6, 6, 6, 6, 6, 6, 10, 6, 6, 6, 9, 6, 9, 6, 6, 9, 9, 6, 6, 6, 6, 9, 6, 6, 6, 6, 6, 9, 6, 6, 6, 6, 6, 6, 6, 6, 6, 6, 6, 6, 6, 6, 6, 6, 6, 6, 6, 6, 6, 6, 6, 9, 6, 6, 10, 6, 6, 6, 6, 5, 6, 9, 6, 6, 6, 6, 6, 6, 9, 6, 6, 9, 6, 6, 6, 6, 9, 6, 10, 6, 6, 6, 6, 6, 6, 6, 6, 6, 9, 6, 6, 6, 5, 6, 10, 6, 6, 6, 6, 6, 6, 6, 6, 6, 6, 9, 6, 6, 6, 9, 6, 6, 6, 6, 6, 6, 6, 6, 6, 6, 6, 9, 6, 6, 6, 6, 6, 6, 9, 6, 6, 6, 6, 6, 6, 6, 6, 6, 6, 6, 6, 6, 6, 10, 6, 6, 6, 6, 6, 6, 6, 6, 6, 6, 6, 6, 6, 10, 6, 6, 6, 6, 6, 6, 6, 6, 6, 4, 6, 6, 6, 6, 6, 10, 6, 6, 6, 6, 6, 6, 6, 6, 6, 6, 6, 6, 6, 9, 6, 6, 6, 6, 6, 6, 10, 6, 6, 6, 6, 6, 6, 6, 6, 6, 6, 6, 6, 6, 6, 6, 6, 6, 6, 6, 9, 6, 6, 6, 5, 6, 6, 3, 6, 6, 6, 9, 6, 6, 6, 9, 9, 6, 6, 10, 10, 6, 6, 6, 6, 10, 6, 6, 6, 6, 6, 6, 6, 6, 6, 6, 6, 6, 6, 6, 6, 6, 9, 6, 6, 6, 6, 6, 6, 6, 6, 6, 6, 6, 6, 6, 1, 6, 9, 6, 9, 6, 9, 6, 6, 6, 6, 6, 9, 6, 6, 6, 6, 6, 6, 6, 6, 10, 6, 9, 6, 6, 6, 6, 6, 6, 6, 6, 6, 6, 6, 6, 9, 6, 6, 6, 9, 6, 6, 6, 6, 6, 9, 6, 6, 6, 6, 6, 6, 6, 6, 6, 6, 6, 6, 6, 6, 9, 6, 6, 6, 6, 6, 9, 6, 6, 6, 6, 6, 6, 6, 6, 6, 6, 6, 6, 6, 6, 10, 10, 6, 0, 6, 6, 6, 6, 6, 6, 6, 10, 6, 6, 6, 6, 6, 6, 6, 6, 6, 9, 6, 6, 10, 6, 6, 6, 6, 6, 6, 6, 6, 9, 6, 6, 9, 6, 6, 6, 6, 6, 6, 6, 6, 6, 6, 10, 6, 6, 6, 6, 6, 9, 6, 6, 6, 6, 9, 6, 6, 6, 6, 6, 6, 6, 6, 6, 6, 6, 6, 6, 6, 6, 6, 6, 6, 9, 6, 6, 6, 6, 6, 6, 6, 6, 6, 6, 6, 6, 9, 6, 6, 6, 9, 6, 6, 6, 6, 10, 6, 6, 6, 6, 6, 6, 6, 6, 6, 6, 6, 6, 6, 6, 6, 9, 6, 6, 6, 6, 6, 6, 10, 6, 6, 6, 6, 6, 10, 6, 6, 6, 6, 6, 6, 6, 6, 9, 10, 6, 6, 6, 6, 6, 6, 6, 0, 6, 9, 6, 6, 6, 6, 10, 6, 6, 9, 6, 6, 6, 6, 6, 6, 6, 6, 6, 6, 6, 6, 6, 6, 6, 6, 6, 6, 6, 10, 6, 6, 6, 9, 6, 6, 6, 6, 6, 6, 6, 6, 6, 6, 6, 6, 6, 6, 6, 6, 6, 6, 6, 9, 6, 6, 9, 6, 6, 6, 6, 6, 6, 6, 6, 6, 6, 6, 9, 6, 6, 6, 6, 6, 7, 6, 6, 6, 6, 6, 6, 6, 6, 6, 9, 6, 9, 10, 9, 6, 6, 6, 6, 6, 5, 6, 6, 6, 6, 6, 6, 6, 6, 6, 6, 6, 6, 10, 10, 6, 10, 6, 6, 6, 6, 6, 6, 6, 5, 6, 9, 6, 6, 6, 6, 6, 6, 6, 6, 6, 6, 6, 6, 9, 6, 6, 9, 6, 6, 6, 6, 6, 6, 9, 6, 6, 6, 10, 6, 9, 6, 9, 6, 6, 6, 6, 6, 9, 6, 6, 6, 6, 6, 6, 6, 6, 6, 6, 6, 6, 6, 6, 6, 6, 6, 6, 6, 6, 6, 6, 6, 9, 6, 6, 6, 6, 9, 6, 6, 6, 6, 6, 6, 6, 6, 6, 6, 6, 6, 6, 6, 6, 6, 10, 6, 6, 6, 6, 6, 6, 6, 6, 6, 6, 9, 6, 6, 6, 6, 6, 6, 6, 9, 6, 6, 6, 6, 6, 6, 6, 6, 6, 6, 9, 10, 6, 6, 6, 6, 10, 6, 6, 6, 9, 6, 6, 6, 6, 6, 6, 6, 6, 6, 1, 6, 6, 9, 6, 6, 6, 6, 6, 6, 6, 6, 6, 6, 6, 6, 6, 6, 10, 6, 6, 6, 6, 6, 6, 10, 6, 6, 6, 6, 6, 9, 6, 6, 6, 6, 6, 6, 4, 6, 6, 6, 6, 6, 6, 10, 6, 6, 6, 3, 6, 6, 6, 6, 6, 6, 6, 6, 10, 9, 6, 6, 6, 6, 6, 6, 6, 6, 6, 6, 6, 6, 9, 6, 6, 6, 6, 6, 6, 6, 6, 6, 5, 6, 6, 6, 6, 6, 6, 6, 9, 9, 6, 6, 6, 6, 6, 6, 5, 6, 6, 9, 6, 6, 10, 6, 6, 10, 6, 6, 6, 6, 6, 6, 6, 6, 6, 6, 4, 6, 6, 6, 6, 6, 6, 6, 6, 6, 6, 6, 6, 6, 6, 6, 6, 6, 6, 6, 6, 6, 6, 6, 6, 6, 6, 6, 6, 6, 6, 10, 6, 6, 6, 6, 6, 6, 6, 6, 10, 6, 6, 6, 6, 6, 6, 6, 6, 6, 6, 6, 6, 6, 6, 6, 6, 6, 6, 6, 9, 6, 6, 6, 6, 6, 6, 6, 6, 6, 6, 6, 6, 6, 6, 6, 6, 6]"
     ]
    }
   ],
   "source": [
    "x_train_vect_pred = dtc.predict(x_train_vect)\n",
    "print([i for i in x_train_vect_pred], end='')"
   ]
  },
  {
   "cell_type": "code",
   "execution_count": 33,
   "metadata": {},
   "outputs": [
    {
     "data": {
      "text/plain": [
       "1.0"
      ]
     },
     "execution_count": 33,
     "metadata": {},
     "output_type": "execute_result"
    }
   ],
   "source": [
    "score = accuracy_score(x_train_vect_pred, y_train)\n",
    "score"
   ]
  },
  {
   "cell_type": "code",
   "execution_count": null,
   "metadata": {},
   "outputs": [],
   "source": []
  }
 ],
 "metadata": {
  "kernelspec": {
   "display_name": "Python 3 (ipykernel)",
   "language": "python",
   "name": "python3"
  },
  "language_info": {
   "codemirror_mode": {
    "name": "ipython",
    "version": 3
   },
   "file_extension": ".py",
   "mimetype": "text/x-python",
   "name": "python",
   "nbconvert_exporter": "python",
   "pygments_lexer": "ipython3",
   "version": "3.11.3"
  }
 },
 "nbformat": 4,
 "nbformat_minor": 4
}
