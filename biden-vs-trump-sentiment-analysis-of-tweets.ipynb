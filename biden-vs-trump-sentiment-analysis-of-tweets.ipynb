{
 "cells": [
  {
   "cell_type": "code",
   "execution_count": 1,
   "metadata": {
    "execution": {
     "iopub.execute_input": "2020-11-05T16:19:27.030690Z",
     "iopub.status.busy": "2020-11-05T16:19:27.029837Z",
     "iopub.status.idle": "2020-11-05T16:19:29.013682Z",
     "shell.execute_reply": "2020-11-05T16:19:29.012769Z"
    },
    "papermill": {
     "duration": 2.028108,
     "end_time": "2020-11-05T16:19:29.013840",
     "exception": false,
     "start_time": "2020-11-05T16:19:26.985732",
     "status": "completed"
    },
    "tags": []
   },
   "outputs": [],
   "source": [
    "import pandas as pd \n",
    "import numpy as np\n",
    "from nltk.corpus import stopwords\n",
    "import re #regex\n",
    "from textblob import TextBlob #sentimate analysis\n",
    "from nltk.probability import FreqDist\n",
    "\n",
    "#graphs\n",
    "import matplotlib.pyplot as plt\n",
    "from wordcloud import WordCloud\n",
    "import plotly.graph_objects as go"
   ]
  },
  {
   "cell_type": "code",
   "execution_count": 2,
   "metadata": {
    "execution": {
     "iopub.execute_input": "2020-11-05T16:19:29.099078Z",
     "iopub.status.busy": "2020-11-05T16:19:29.098193Z",
     "iopub.status.idle": "2020-11-05T16:19:29.105590Z",
     "shell.execute_reply": "2020-11-05T16:19:29.104959Z"
    },
    "papermill": {
     "duration": 0.056013,
     "end_time": "2020-11-05T16:19:29.105743",
     "exception": false,
     "start_time": "2020-11-05T16:19:29.049730",
     "status": "completed"
    },
    "tags": []
   },
   "outputs": [
    {
     "name": "stdout",
     "output_type": "stream",
     "text": [
      "/kaggle/input/us-election-2020-tweets/hashtag_donaldtrump.csv\n",
      "/kaggle/input/us-election-2020-tweets/hashtag_joebiden.csv\n"
     ]
    }
   ],
   "source": [
    "import os\n",
    "for dirname, _, filenames in os.walk('/kaggle/input'):\n",
    "    for filename in filenames:\n",
    "        print(os.path.join(dirname, filename))"
   ]
  },
  {
   "cell_type": "code",
   "execution_count": 3,
   "metadata": {
    "execution": {
     "iopub.execute_input": "2020-11-05T16:19:29.187133Z",
     "iopub.status.busy": "2020-11-05T16:19:29.186002Z",
     "iopub.status.idle": "2020-11-05T16:19:43.941149Z",
     "shell.execute_reply": "2020-11-05T16:19:43.940313Z"
    },
    "papermill": {
     "duration": 14.797854,
     "end_time": "2020-11-05T16:19:43.941287",
     "exception": false,
     "start_time": "2020-11-05T16:19:29.143433",
     "status": "completed"
    },
    "tags": []
   },
   "outputs": [],
   "source": [
    "#data importation\n",
    "tdf= pd.read_csv('/kaggle/input/us-election-2020-tweets/hashtag_donaldtrump.csv', lineterminator='\\n')#trump df\n",
    "bdf=pd.read_csv('/kaggle/input/us-election-2020-tweets/hashtag_joebiden.csv', lineterminator='\\n')#biden df"
   ]
  },
  {
   "cell_type": "raw",
   "metadata": {
    "papermill": {
     "duration": 0.035913,
     "end_time": "2020-11-05T16:19:44.013362",
     "exception": false,
     "start_time": "2020-11-05T16:19:43.977449",
     "status": "completed"
    },
    "tags": []
   },
   "source": [
    "created_at: Date and time of tweet creation\n",
    "tweet_id: Unique ID of the tweet\n",
    "tweet: Full tweet text\n",
    "likes: Number of likes\n",
    "retweet_count: Number of retweets\n",
    "source: Utility used to post tweet\n",
    "user_id: User ID of tweet creator\n",
    "user_name: Username of tweet creator\n",
    "user_screen_name: Screen name of tweet creator\n",
    "user_description: Description of self by tweet creator\n",
    "user_join_date: Join date of tweet creator\n",
    "user_followers_count: Followers count on tweet creator\n",
    "user_location: Location given on tweet creator's profile\n",
    "lat: Latitude parsed from user_location\n",
    "long: Longitude parsed from user_location\n",
    "city: City parsed from user_location\n",
    "country: Country parsed from user_location\n",
    "state: State parsed from user_location\n",
    "state_code: State code parsed from user_location\n",
    "collected_at: Date and time tweet data was mined from twitter*"
   ]
  },
  {
   "cell_type": "code",
   "execution_count": 4,
   "metadata": {
    "execution": {
     "iopub.execute_input": "2020-11-05T16:19:44.127217Z",
     "iopub.status.busy": "2020-11-05T16:19:44.126144Z",
     "iopub.status.idle": "2020-11-05T16:19:44.147110Z",
     "shell.execute_reply": "2020-11-05T16:19:44.147737Z"
    },
    "papermill": {
     "duration": 0.097607,
     "end_time": "2020-11-05T16:19:44.147893",
     "exception": false,
     "start_time": "2020-11-05T16:19:44.050286",
     "status": "completed"
    },
    "tags": []
   },
   "outputs": [
    {
     "data": {
      "text/html": [
       "<div>\n",
       "<style scoped>\n",
       "    .dataframe tbody tr th:only-of-type {\n",
       "        vertical-align: middle;\n",
       "    }\n",
       "\n",
       "    .dataframe tbody tr th {\n",
       "        vertical-align: top;\n",
       "    }\n",
       "\n",
       "    .dataframe thead th {\n",
       "        text-align: right;\n",
       "    }\n",
       "</style>\n",
       "<table border=\"1\" class=\"dataframe\">\n",
       "  <thead>\n",
       "    <tr style=\"text-align: right;\">\n",
       "      <th></th>\n",
       "      <th>created_at</th>\n",
       "      <th>tweet_id</th>\n",
       "      <th>tweet</th>\n",
       "      <th>likes</th>\n",
       "      <th>retweet_count</th>\n",
       "      <th>source</th>\n",
       "      <th>user_id</th>\n",
       "      <th>user_name</th>\n",
       "      <th>user_screen_name</th>\n",
       "      <th>user_description</th>\n",
       "      <th>...</th>\n",
       "      <th>user_followers_count</th>\n",
       "      <th>user_location</th>\n",
       "      <th>lat</th>\n",
       "      <th>long</th>\n",
       "      <th>city</th>\n",
       "      <th>country</th>\n",
       "      <th>continent</th>\n",
       "      <th>state</th>\n",
       "      <th>state_code</th>\n",
       "      <th>collected_at</th>\n",
       "    </tr>\n",
       "  </thead>\n",
       "  <tbody>\n",
       "    <tr>\n",
       "      <th>697095</th>\n",
       "      <td>2020-11-05 00:00:54</td>\n",
       "      <td>1.324140e+18</td>\n",
       "      <td>No to be political or anything but half of Ame...</td>\n",
       "      <td>1.0</td>\n",
       "      <td>1.0</td>\n",
       "      <td>Twitter for iPhone</td>\n",
       "      <td>9.483651e+17</td>\n",
       "      <td>Polly Tishon</td>\n",
       "      <td>PollyThe4k</td>\n",
       "      <td>Definitely not political</td>\n",
       "      <td>...</td>\n",
       "      <td>1.0</td>\n",
       "      <td>NaN</td>\n",
       "      <td>NaN</td>\n",
       "      <td>NaN</td>\n",
       "      <td>NaN</td>\n",
       "      <td>NaN</td>\n",
       "      <td>NaN</td>\n",
       "      <td>NaN</td>\n",
       "      <td>NaN</td>\n",
       "      <td>2020-11-05 11:59:05.551202</td>\n",
       "    </tr>\n",
       "    <tr>\n",
       "      <th>697096</th>\n",
       "      <td>2020-11-05 00:00:55</td>\n",
       "      <td>1.324140e+18</td>\n",
       "      <td>@KBarnsey @KamalaHarris Hope you don’t mind if...</td>\n",
       "      <td>0.0</td>\n",
       "      <td>0.0</td>\n",
       "      <td>Twitter for iPad</td>\n",
       "      <td>2.782117e+09</td>\n",
       "      <td>Renee Turner</td>\n",
       "      <td>ReneeLoudProud</td>\n",
       "      <td>VOTE VOTE! I’m dang tired of being held hostag...</td>\n",
       "      <td>...</td>\n",
       "      <td>8.0</td>\n",
       "      <td>American &amp; STILL HERE</td>\n",
       "      <td>NaN</td>\n",
       "      <td>NaN</td>\n",
       "      <td>NaN</td>\n",
       "      <td>NaN</td>\n",
       "      <td>NaN</td>\n",
       "      <td>NaN</td>\n",
       "      <td>NaN</td>\n",
       "      <td>2020-11-05 11:59:05.546858</td>\n",
       "    </tr>\n",
       "    <tr>\n",
       "      <th>697097</th>\n",
       "      <td>2020-11-05 00:00:56</td>\n",
       "      <td>1.324140e+18</td>\n",
       "      <td>I see so many Christians &amp;amp; Atheists puttin...</td>\n",
       "      <td>3.0</td>\n",
       "      <td>0.0</td>\n",
       "      <td>Twitter for iPhone</td>\n",
       "      <td>7.638295e+17</td>\n",
       "      <td>Sam Mason</td>\n",
       "      <td>Samuel_J_Mason</td>\n",
       "      <td>Passionate aviator (A330), Delta MEC C48 Chair...</td>\n",
       "      <td>...</td>\n",
       "      <td>172.0</td>\n",
       "      <td>Atlanta, GA</td>\n",
       "      <td>33.749099</td>\n",
       "      <td>-84.390185</td>\n",
       "      <td>Atlanta</td>\n",
       "      <td>United States of America</td>\n",
       "      <td>North America</td>\n",
       "      <td>Georgia</td>\n",
       "      <td>GA</td>\n",
       "      <td>2020-11-05 11:59:05.815374</td>\n",
       "    </tr>\n",
       "    <tr>\n",
       "      <th>697098</th>\n",
       "      <td>2020-11-05 00:00:58</td>\n",
       "      <td>1.324140e+18</td>\n",
       "      <td>Na na na na na na na na, hey hey hey goodbye #...</td>\n",
       "      <td>3.0</td>\n",
       "      <td>0.0</td>\n",
       "      <td>Twitter for Android</td>\n",
       "      <td>3.891866e+08</td>\n",
       "      <td>Daniel K ™</td>\n",
       "      <td>GoLeafsGoDaniel</td>\n",
       "      <td>#OutKast  #LeafsForever #WeTheNorth #LondonKni...</td>\n",
       "      <td>...</td>\n",
       "      <td>730.0</td>\n",
       "      <td>Stankonia</td>\n",
       "      <td>NaN</td>\n",
       "      <td>NaN</td>\n",
       "      <td>NaN</td>\n",
       "      <td>NaN</td>\n",
       "      <td>NaN</td>\n",
       "      <td>NaN</td>\n",
       "      <td>NaN</td>\n",
       "      <td>2020-11-05 11:59:05.528641</td>\n",
       "    </tr>\n",
       "    <tr>\n",
       "      <th>697099</th>\n",
       "      <td>2020-11-05 00:00:59</td>\n",
       "      <td>1.324140e+18</td>\n",
       "      <td>@jesusmarana @LuisArroyoM Lo que más me llama ...</td>\n",
       "      <td>0.0</td>\n",
       "      <td>0.0</td>\n",
       "      <td>Twitter for Android</td>\n",
       "      <td>2.972143e+09</td>\n",
       "      <td>Caballa/Andaluz</td>\n",
       "      <td>jalaisan14</td>\n",
       "      <td>Spain &amp; Aúpa #AtléticodeMadrid</td>\n",
       "      <td>...</td>\n",
       "      <td>113.0</td>\n",
       "      <td>Planeta Tierra 🌍</td>\n",
       "      <td>NaN</td>\n",
       "      <td>NaN</td>\n",
       "      <td>NaN</td>\n",
       "      <td>NaN</td>\n",
       "      <td>NaN</td>\n",
       "      <td>NaN</td>\n",
       "      <td>NaN</td>\n",
       "      <td>2020-11-05 11:59:05.802378</td>\n",
       "    </tr>\n",
       "  </tbody>\n",
       "</table>\n",
       "<p>5 rows × 21 columns</p>\n",
       "</div>"
      ],
      "text/plain": [
       "                 created_at      tweet_id  \\\n",
       "697095  2020-11-05 00:00:54  1.324140e+18   \n",
       "697096  2020-11-05 00:00:55  1.324140e+18   \n",
       "697097  2020-11-05 00:00:56  1.324140e+18   \n",
       "697098  2020-11-05 00:00:58  1.324140e+18   \n",
       "697099  2020-11-05 00:00:59  1.324140e+18   \n",
       "\n",
       "                                                    tweet  likes  \\\n",
       "697095  No to be political or anything but half of Ame...    1.0   \n",
       "697096  @KBarnsey @KamalaHarris Hope you don’t mind if...    0.0   \n",
       "697097  I see so many Christians &amp; Atheists puttin...    3.0   \n",
       "697098  Na na na na na na na na, hey hey hey goodbye #...    3.0   \n",
       "697099  @jesusmarana @LuisArroyoM Lo que más me llama ...    0.0   \n",
       "\n",
       "        retweet_count               source       user_id        user_name  \\\n",
       "697095            1.0   Twitter for iPhone  9.483651e+17     Polly Tishon   \n",
       "697096            0.0     Twitter for iPad  2.782117e+09     Renee Turner   \n",
       "697097            0.0   Twitter for iPhone  7.638295e+17        Sam Mason   \n",
       "697098            0.0  Twitter for Android  3.891866e+08       Daniel K ™   \n",
       "697099            0.0  Twitter for Android  2.972143e+09  Caballa/Andaluz   \n",
       "\n",
       "       user_screen_name                                   user_description  \\\n",
       "697095       PollyThe4k                           Definitely not political   \n",
       "697096   ReneeLoudProud  VOTE VOTE! I’m dang tired of being held hostag...   \n",
       "697097   Samuel_J_Mason  Passionate aviator (A330), Delta MEC C48 Chair...   \n",
       "697098  GoLeafsGoDaniel  #OutKast  #LeafsForever #WeTheNorth #LondonKni...   \n",
       "697099       jalaisan14                     Spain & Aúpa #AtléticodeMadrid   \n",
       "\n",
       "        ... user_followers_count          user_location        lat       long  \\\n",
       "697095  ...                  1.0                    NaN        NaN        NaN   \n",
       "697096  ...                  8.0  American & STILL HERE        NaN        NaN   \n",
       "697097  ...                172.0            Atlanta, GA  33.749099 -84.390185   \n",
       "697098  ...                730.0             Stankonia         NaN        NaN   \n",
       "697099  ...                113.0       Planeta Tierra 🌍        NaN        NaN   \n",
       "\n",
       "           city                   country      continent    state state_code  \\\n",
       "697095      NaN                       NaN            NaN      NaN        NaN   \n",
       "697096      NaN                       NaN            NaN      NaN        NaN   \n",
       "697097  Atlanta  United States of America  North America  Georgia         GA   \n",
       "697098      NaN                       NaN            NaN      NaN        NaN   \n",
       "697099      NaN                       NaN            NaN      NaN        NaN   \n",
       "\n",
       "                      collected_at  \n",
       "697095  2020-11-05 11:59:05.551202  \n",
       "697096  2020-11-05 11:59:05.546858  \n",
       "697097  2020-11-05 11:59:05.815374  \n",
       "697098  2020-11-05 11:59:05.528641  \n",
       "697099  2020-11-05 11:59:05.802378  \n",
       "\n",
       "[5 rows x 21 columns]"
      ]
     },
     "execution_count": 4,
     "metadata": {},
     "output_type": "execute_result"
    }
   ],
   "source": [
    "tdf.tail()"
   ]
  },
  {
   "cell_type": "markdown",
   "metadata": {
    "papermill": {
     "duration": 0.036868,
     "end_time": "2020-11-05T16:19:44.223014",
     "exception": false,
     "start_time": "2020-11-05T16:19:44.186146",
     "status": "completed"
    },
    "tags": []
   },
   "source": [
    "<h1>data analysis</h1>"
   ]
  },
  {
   "cell_type": "code",
   "execution_count": 5,
   "metadata": {
    "execution": {
     "iopub.execute_input": "2020-11-05T16:19:44.316237Z",
     "iopub.status.busy": "2020-11-05T16:19:44.315366Z",
     "iopub.status.idle": "2020-11-05T16:19:44.473425Z",
     "shell.execute_reply": "2020-11-05T16:19:44.472679Z"
    },
    "papermill": {
     "duration": 0.213124,
     "end_time": "2020-11-05T16:19:44.473553",
     "exception": false,
     "start_time": "2020-11-05T16:19:44.260429",
     "status": "completed"
    },
    "scrolled": true,
    "tags": []
   },
   "outputs": [
    {
     "data": {
      "text/html": [
       "<div>\n",
       "<style scoped>\n",
       "    .dataframe tbody tr th:only-of-type {\n",
       "        vertical-align: middle;\n",
       "    }\n",
       "\n",
       "    .dataframe tbody tr th {\n",
       "        vertical-align: top;\n",
       "    }\n",
       "\n",
       "    .dataframe thead th {\n",
       "        text-align: right;\n",
       "    }\n",
       "</style>\n",
       "<table border=\"1\" class=\"dataframe\">\n",
       "  <thead>\n",
       "    <tr style=\"text-align: right;\">\n",
       "      <th></th>\n",
       "      <th>tweet_id</th>\n",
       "      <th>likes</th>\n",
       "      <th>retweet_count</th>\n",
       "      <th>user_id</th>\n",
       "      <th>user_followers_count</th>\n",
       "      <th>lat</th>\n",
       "      <th>long</th>\n",
       "    </tr>\n",
       "  </thead>\n",
       "  <tbody>\n",
       "    <tr>\n",
       "      <th>count</th>\n",
       "      <td>4.536730e+05</td>\n",
       "      <td>453673.000000</td>\n",
       "      <td>453673.000000</td>\n",
       "      <td>4.536730e+05</td>\n",
       "      <td>4.536730e+05</td>\n",
       "      <td>214691.000000</td>\n",
       "      <td>214691.000000</td>\n",
       "    </tr>\n",
       "    <tr>\n",
       "      <th>mean</th>\n",
       "      <td>1.321309e+18</td>\n",
       "      <td>9.251172</td>\n",
       "      <td>2.347592</td>\n",
       "      <td>4.569237e+17</td>\n",
       "      <td>2.530033e+04</td>\n",
       "      <td>35.815888</td>\n",
       "      <td>-53.376451</td>\n",
       "    </tr>\n",
       "    <tr>\n",
       "      <th>std</th>\n",
       "      <td>2.387205e+15</td>\n",
       "      <td>464.878912</td>\n",
       "      <td>116.548058</td>\n",
       "      <td>5.587920e+17</td>\n",
       "      <td>3.929132e+05</td>\n",
       "      <td>16.614538</td>\n",
       "      <td>63.954155</td>\n",
       "    </tr>\n",
       "    <tr>\n",
       "      <th>min</th>\n",
       "      <td>1.316529e+18</td>\n",
       "      <td>0.000000</td>\n",
       "      <td>0.000000</td>\n",
       "      <td>2.654000e+03</td>\n",
       "      <td>0.000000e+00</td>\n",
       "      <td>-79.406307</td>\n",
       "      <td>-161.755833</td>\n",
       "    </tr>\n",
       "    <tr>\n",
       "      <th>25%</th>\n",
       "      <td>1.319452e+18</td>\n",
       "      <td>0.000000</td>\n",
       "      <td>0.000000</td>\n",
       "      <td>2.191219e+08</td>\n",
       "      <td>8.000000e+01</td>\n",
       "      <td>33.258882</td>\n",
       "      <td>-100.445882</td>\n",
       "    </tr>\n",
       "    <tr>\n",
       "      <th>50%</th>\n",
       "      <td>1.321654e+18</td>\n",
       "      <td>0.000000</td>\n",
       "      <td>0.000000</td>\n",
       "      <td>2.500845e+09</td>\n",
       "      <td>4.720000e+02</td>\n",
       "      <td>39.783730</td>\n",
       "      <td>-78.494108</td>\n",
       "    </tr>\n",
       "    <tr>\n",
       "      <th>75%</th>\n",
       "      <td>1.323697e+18</td>\n",
       "      <td>1.000000</td>\n",
       "      <td>0.000000</td>\n",
       "      <td>1.096819e+18</td>\n",
       "      <td>2.287000e+03</td>\n",
       "      <td>42.790219</td>\n",
       "      <td>-0.127647</td>\n",
       "    </tr>\n",
       "    <tr>\n",
       "      <th>max</th>\n",
       "      <td>1.324140e+18</td>\n",
       "      <td>165702.000000</td>\n",
       "      <td>63473.000000</td>\n",
       "      <td>1.324132e+18</td>\n",
       "      <td>8.241710e+07</td>\n",
       "      <td>90.000000</td>\n",
       "      <td>179.048837</td>\n",
       "    </tr>\n",
       "  </tbody>\n",
       "</table>\n",
       "</div>"
      ],
      "text/plain": [
       "           tweet_id          likes  retweet_count       user_id  \\\n",
       "count  4.536730e+05  453673.000000  453673.000000  4.536730e+05   \n",
       "mean   1.321309e+18       9.251172       2.347592  4.569237e+17   \n",
       "std    2.387205e+15     464.878912     116.548058  5.587920e+17   \n",
       "min    1.316529e+18       0.000000       0.000000  2.654000e+03   \n",
       "25%    1.319452e+18       0.000000       0.000000  2.191219e+08   \n",
       "50%    1.321654e+18       0.000000       0.000000  2.500845e+09   \n",
       "75%    1.323697e+18       1.000000       0.000000  1.096819e+18   \n",
       "max    1.324140e+18  165702.000000   63473.000000  1.324132e+18   \n",
       "\n",
       "       user_followers_count            lat           long  \n",
       "count          4.536730e+05  214691.000000  214691.000000  \n",
       "mean           2.530033e+04      35.815888     -53.376451  \n",
       "std            3.929132e+05      16.614538      63.954155  \n",
       "min            0.000000e+00     -79.406307    -161.755833  \n",
       "25%            8.000000e+01      33.258882    -100.445882  \n",
       "50%            4.720000e+02      39.783730     -78.494108  \n",
       "75%            2.287000e+03      42.790219      -0.127647  \n",
       "max            8.241710e+07      90.000000     179.048837  "
      ]
     },
     "execution_count": 5,
     "metadata": {},
     "output_type": "execute_result"
    }
   ],
   "source": [
    "bdf.describe()"
   ]
  },
  {
   "cell_type": "code",
   "execution_count": 6,
   "metadata": {
    "execution": {
     "iopub.execute_input": "2020-11-05T16:19:44.556394Z",
     "iopub.status.busy": "2020-11-05T16:19:44.555492Z",
     "iopub.status.idle": "2020-11-05T16:19:45.561360Z",
     "shell.execute_reply": "2020-11-05T16:19:45.560564Z"
    },
    "papermill": {
     "duration": 1.049306,
     "end_time": "2020-11-05T16:19:45.561490",
     "exception": false,
     "start_time": "2020-11-05T16:19:44.512184",
     "status": "completed"
    },
    "tags": []
   },
   "outputs": [
    {
     "data": {
      "text/plain": [
       "created_at                   0\n",
       "tweet_id                     0\n",
       "tweet                        0\n",
       "likes                        0\n",
       "retweet_count                0\n",
       "source                     730\n",
       "user_id                      0\n",
       "user_name                   15\n",
       "user_screen_name             0\n",
       "user_description         71518\n",
       "user_join_date               0\n",
       "user_followers_count         0\n",
       "user_location           213048\n",
       "lat                     367202\n",
       "long                    367202\n",
       "city                    531997\n",
       "country                 369184\n",
       "continent               369172\n",
       "state                   456974\n",
       "state_code              470824\n",
       "collected_at                 0\n",
       "dtype: int64"
      ]
     },
     "execution_count": 6,
     "metadata": {},
     "output_type": "execute_result"
    }
   ],
   "source": [
    "tdf.isnull().sum()"
   ]
  },
  {
   "cell_type": "code",
   "execution_count": 7,
   "metadata": {
    "execution": {
     "iopub.execute_input": "2020-11-05T16:19:45.646487Z",
     "iopub.status.busy": "2020-11-05T16:19:45.645156Z",
     "iopub.status.idle": "2020-11-05T16:19:46.294136Z",
     "shell.execute_reply": "2020-11-05T16:19:46.293351Z"
    },
    "papermill": {
     "duration": 0.693177,
     "end_time": "2020-11-05T16:19:46.294270",
     "exception": false,
     "start_time": "2020-11-05T16:19:45.601093",
     "status": "completed"
    },
    "tags": []
   },
   "outputs": [
    {
     "data": {
      "text/plain": [
       "created_at                   0\n",
       "tweet_id                     0\n",
       "tweet                        0\n",
       "likes                        0\n",
       "retweet_count                0\n",
       "source                     570\n",
       "user_id                      0\n",
       "user_name                   16\n",
       "user_screen_name             0\n",
       "user_description         50223\n",
       "user_join_date               0\n",
       "user_followers_count         0\n",
       "user_location           141939\n",
       "lat                     238982\n",
       "long                    238982\n",
       "city                    345713\n",
       "country                 239818\n",
       "continent               239810\n",
       "state                   292979\n",
       "state_code              301065\n",
       "collected_at                 0\n",
       "dtype: int64"
      ]
     },
     "execution_count": 7,
     "metadata": {},
     "output_type": "execute_result"
    }
   ],
   "source": [
    "bdf.isnull().sum()"
   ]
  },
  {
   "cell_type": "markdown",
   "metadata": {
    "papermill": {
     "duration": 0.038959,
     "end_time": "2020-11-05T16:19:46.372406",
     "exception": false,
     "start_time": "2020-11-05T16:19:46.333447",
     "status": "completed"
    },
    "tags": []
   },
   "source": [
    "<h1>data cleaning</h1>"
   ]
  },
  {
   "cell_type": "code",
   "execution_count": 8,
   "metadata": {
    "execution": {
     "iopub.execute_input": "2020-11-05T16:19:46.458650Z",
     "iopub.status.busy": "2020-11-05T16:19:46.457728Z",
     "iopub.status.idle": "2020-11-05T16:19:46.709682Z",
     "shell.execute_reply": "2020-11-05T16:19:46.708887Z"
    },
    "papermill": {
     "duration": 0.298518,
     "end_time": "2020-11-05T16:19:46.709810",
     "exception": false,
     "start_time": "2020-11-05T16:19:46.411292",
     "status": "completed"
    },
    "tags": []
   },
   "outputs": [],
   "source": [
    "#drop useles columns\n",
    "bdf=bdf.drop(columns=['tweet_id','collected_at','user_description','collected_at'])\n",
    "tdf=tdf.drop(columns=['tweet_id','collected_at','user_description','collected_at'])"
   ]
  },
  {
   "cell_type": "code",
   "execution_count": 9,
   "metadata": {
    "execution": {
     "iopub.execute_input": "2020-11-05T16:19:46.795048Z",
     "iopub.status.busy": "2020-11-05T16:19:46.794215Z",
     "iopub.status.idle": "2020-11-05T16:19:46.884544Z",
     "shell.execute_reply": "2020-11-05T16:19:46.883840Z"
    },
    "papermill": {
     "duration": 0.135881,
     "end_time": "2020-11-05T16:19:46.884695",
     "exception": false,
     "start_time": "2020-11-05T16:19:46.748814",
     "status": "completed"
    },
    "tags": []
   },
   "outputs": [],
   "source": [
    "#adding a collumn\n",
    "bdf.loc[:,'condidat'] = 'Biden'\n",
    "tdf.loc[:,'condidat'] = 'trump'"
   ]
  },
  {
   "cell_type": "code",
   "execution_count": 10,
   "metadata": {
    "execution": {
     "iopub.execute_input": "2020-11-05T16:19:46.995654Z",
     "iopub.status.busy": "2020-11-05T16:19:46.994657Z",
     "iopub.status.idle": "2020-11-05T16:19:46.999611Z",
     "shell.execute_reply": "2020-11-05T16:19:46.998976Z"
    },
    "papermill": {
     "duration": 0.074658,
     "end_time": "2020-11-05T16:19:46.999764",
     "exception": false,
     "start_time": "2020-11-05T16:19:46.925106",
     "status": "completed"
    },
    "tags": []
   },
   "outputs": [
    {
     "data": {
      "text/html": [
       "<div>\n",
       "<style scoped>\n",
       "    .dataframe tbody tr th:only-of-type {\n",
       "        vertical-align: middle;\n",
       "    }\n",
       "\n",
       "    .dataframe tbody tr th {\n",
       "        vertical-align: top;\n",
       "    }\n",
       "\n",
       "    .dataframe thead th {\n",
       "        text-align: right;\n",
       "    }\n",
       "</style>\n",
       "<table border=\"1\" class=\"dataframe\">\n",
       "  <thead>\n",
       "    <tr style=\"text-align: right;\">\n",
       "      <th></th>\n",
       "      <th>created_at</th>\n",
       "      <th>tweet</th>\n",
       "      <th>likes</th>\n",
       "      <th>retweet_count</th>\n",
       "      <th>source</th>\n",
       "      <th>user_id</th>\n",
       "      <th>user_name</th>\n",
       "      <th>user_screen_name</th>\n",
       "      <th>user_join_date</th>\n",
       "      <th>user_followers_count</th>\n",
       "      <th>user_location</th>\n",
       "      <th>lat</th>\n",
       "      <th>long</th>\n",
       "      <th>city</th>\n",
       "      <th>country</th>\n",
       "      <th>continent</th>\n",
       "      <th>state</th>\n",
       "      <th>state_code</th>\n",
       "      <th>condidat</th>\n",
       "    </tr>\n",
       "  </thead>\n",
       "  <tbody>\n",
       "    <tr>\n",
       "      <th>0</th>\n",
       "      <td>2020-10-15 00:00:01</td>\n",
       "      <td>#Elecciones2020 | En #Florida: #JoeBiden dice ...</td>\n",
       "      <td>0.0</td>\n",
       "      <td>0.0</td>\n",
       "      <td>TweetDeck</td>\n",
       "      <td>3.606665e+08</td>\n",
       "      <td>El Sol Latino News</td>\n",
       "      <td>elsollatinonews</td>\n",
       "      <td>2011-08-23 15:33:45</td>\n",
       "      <td>1860.0</td>\n",
       "      <td>Philadelphia, PA / Miami, FL</td>\n",
       "      <td>25.774270</td>\n",
       "      <td>-80.193660</td>\n",
       "      <td>NaN</td>\n",
       "      <td>United States of America</td>\n",
       "      <td>North America</td>\n",
       "      <td>Florida</td>\n",
       "      <td>FL</td>\n",
       "      <td>trump</td>\n",
       "    </tr>\n",
       "    <tr>\n",
       "      <th>1</th>\n",
       "      <td>2020-10-15 00:00:01</td>\n",
       "      <td>Usa 2020, Trump contro Facebook e Twitter: cop...</td>\n",
       "      <td>26.0</td>\n",
       "      <td>9.0</td>\n",
       "      <td>Social Mediaset</td>\n",
       "      <td>3.316176e+08</td>\n",
       "      <td>Tgcom24</td>\n",
       "      <td>MediasetTgcom24</td>\n",
       "      <td>2011-07-08 13:12:20</td>\n",
       "      <td>1067661.0</td>\n",
       "      <td>NaN</td>\n",
       "      <td>NaN</td>\n",
       "      <td>NaN</td>\n",
       "      <td>NaN</td>\n",
       "      <td>NaN</td>\n",
       "      <td>NaN</td>\n",
       "      <td>NaN</td>\n",
       "      <td>NaN</td>\n",
       "      <td>trump</td>\n",
       "    </tr>\n",
       "    <tr>\n",
       "      <th>2</th>\n",
       "      <td>2020-10-15 00:00:02</td>\n",
       "      <td>#Trump: As a student I used to hear for years,...</td>\n",
       "      <td>2.0</td>\n",
       "      <td>1.0</td>\n",
       "      <td>Twitter Web App</td>\n",
       "      <td>8.436472e+06</td>\n",
       "      <td>snarke</td>\n",
       "      <td>snarke</td>\n",
       "      <td>2007-08-26 05:56:11</td>\n",
       "      <td>1185.0</td>\n",
       "      <td>Portland</td>\n",
       "      <td>45.520247</td>\n",
       "      <td>-122.674195</td>\n",
       "      <td>Portland</td>\n",
       "      <td>United States of America</td>\n",
       "      <td>North America</td>\n",
       "      <td>Oregon</td>\n",
       "      <td>OR</td>\n",
       "      <td>trump</td>\n",
       "    </tr>\n",
       "    <tr>\n",
       "      <th>3</th>\n",
       "      <td>2020-10-15 00:00:02</td>\n",
       "      <td>2 hours since last tweet from #Trump! Maybe he...</td>\n",
       "      <td>0.0</td>\n",
       "      <td>0.0</td>\n",
       "      <td>Trumpytweeter</td>\n",
       "      <td>8.283556e+17</td>\n",
       "      <td>Trumpytweeter</td>\n",
       "      <td>trumpytweeter</td>\n",
       "      <td>2017-02-05 21:32:17</td>\n",
       "      <td>32.0</td>\n",
       "      <td>NaN</td>\n",
       "      <td>NaN</td>\n",
       "      <td>NaN</td>\n",
       "      <td>NaN</td>\n",
       "      <td>NaN</td>\n",
       "      <td>NaN</td>\n",
       "      <td>NaN</td>\n",
       "      <td>NaN</td>\n",
       "      <td>trump</td>\n",
       "    </tr>\n",
       "    <tr>\n",
       "      <th>4</th>\n",
       "      <td>2020-10-15 00:00:08</td>\n",
       "      <td>You get a tie! And you get a tie! #Trump ‘s ra...</td>\n",
       "      <td>4.0</td>\n",
       "      <td>3.0</td>\n",
       "      <td>Twitter for iPhone</td>\n",
       "      <td>4.741380e+07</td>\n",
       "      <td>Rana Abtar - رنا أبتر</td>\n",
       "      <td>Ranaabtar</td>\n",
       "      <td>2009-06-15 19:05:35</td>\n",
       "      <td>5393.0</td>\n",
       "      <td>Washington DC</td>\n",
       "      <td>38.894992</td>\n",
       "      <td>-77.036558</td>\n",
       "      <td>Washington</td>\n",
       "      <td>United States of America</td>\n",
       "      <td>North America</td>\n",
       "      <td>District of Columbia</td>\n",
       "      <td>DC</td>\n",
       "      <td>trump</td>\n",
       "    </tr>\n",
       "  </tbody>\n",
       "</table>\n",
       "</div>"
      ],
      "text/plain": [
       "            created_at                                              tweet  \\\n",
       "0  2020-10-15 00:00:01  #Elecciones2020 | En #Florida: #JoeBiden dice ...   \n",
       "1  2020-10-15 00:00:01  Usa 2020, Trump contro Facebook e Twitter: cop...   \n",
       "2  2020-10-15 00:00:02  #Trump: As a student I used to hear for years,...   \n",
       "3  2020-10-15 00:00:02  2 hours since last tweet from #Trump! Maybe he...   \n",
       "4  2020-10-15 00:00:08  You get a tie! And you get a tie! #Trump ‘s ra...   \n",
       "\n",
       "   likes  retweet_count              source       user_id  \\\n",
       "0    0.0            0.0           TweetDeck  3.606665e+08   \n",
       "1   26.0            9.0    Social Mediaset   3.316176e+08   \n",
       "2    2.0            1.0     Twitter Web App  8.436472e+06   \n",
       "3    0.0            0.0       Trumpytweeter  8.283556e+17   \n",
       "4    4.0            3.0  Twitter for iPhone  4.741380e+07   \n",
       "\n",
       "               user_name user_screen_name       user_join_date  \\\n",
       "0     El Sol Latino News  elsollatinonews  2011-08-23 15:33:45   \n",
       "1                Tgcom24  MediasetTgcom24  2011-07-08 13:12:20   \n",
       "2                 snarke           snarke  2007-08-26 05:56:11   \n",
       "3          Trumpytweeter    trumpytweeter  2017-02-05 21:32:17   \n",
       "4  Rana Abtar - رنا أبتر        Ranaabtar  2009-06-15 19:05:35   \n",
       "\n",
       "   user_followers_count                 user_location        lat        long  \\\n",
       "0                1860.0  Philadelphia, PA / Miami, FL  25.774270  -80.193660   \n",
       "1             1067661.0                           NaN        NaN         NaN   \n",
       "2                1185.0                      Portland  45.520247 -122.674195   \n",
       "3                  32.0                           NaN        NaN         NaN   \n",
       "4                5393.0                 Washington DC  38.894992  -77.036558   \n",
       "\n",
       "         city                   country      continent                 state  \\\n",
       "0         NaN  United States of America  North America               Florida   \n",
       "1         NaN                       NaN            NaN                   NaN   \n",
       "2    Portland  United States of America  North America                Oregon   \n",
       "3         NaN                       NaN            NaN                   NaN   \n",
       "4  Washington  United States of America  North America  District of Columbia   \n",
       "\n",
       "  state_code condidat  \n",
       "0         FL    trump  \n",
       "1        NaN    trump  \n",
       "2         OR    trump  \n",
       "3        NaN    trump  \n",
       "4         DC    trump  "
      ]
     },
     "execution_count": 10,
     "metadata": {},
     "output_type": "execute_result"
    }
   ],
   "source": [
    "tdf.head()"
   ]
  },
  {
   "cell_type": "code",
   "execution_count": 11,
   "metadata": {
    "execution": {
     "iopub.execute_input": "2020-11-05T16:19:47.335314Z",
     "iopub.status.busy": "2020-11-05T16:19:47.306316Z",
     "iopub.status.idle": "2020-11-05T16:19:48.428138Z",
     "shell.execute_reply": "2020-11-05T16:19:48.428765Z"
    },
    "papermill": {
     "duration": 1.384747,
     "end_time": "2020-11-05T16:19:48.428938",
     "exception": false,
     "start_time": "2020-11-05T16:19:47.044191",
     "status": "completed"
    },
    "tags": []
   },
   "outputs": [],
   "source": [
    "#concat both datasets\n",
    "data = pd.concat([bdf,tdf])"
   ]
  },
  {
   "cell_type": "code",
   "execution_count": 12,
   "metadata": {
    "execution": {
     "iopub.execute_input": "2020-11-05T16:19:48.640383Z",
     "iopub.status.busy": "2020-11-05T16:19:48.639508Z",
     "iopub.status.idle": "2020-11-05T16:19:53.953010Z",
     "shell.execute_reply": "2020-11-05T16:19:53.951849Z"
    },
    "papermill": {
     "duration": 5.483222,
     "end_time": "2020-11-05T16:19:53.953200",
     "exception": false,
     "start_time": "2020-11-05T16:19:48.469978",
     "status": "completed"
    },
    "tags": []
   },
   "outputs": [
    {
     "name": "stdout",
     "output_type": "stream",
     "text": [
      "<class 'pandas.core.frame.DataFrame'>\n",
      "Int64Index: 1150773 entries, 0 to 697099\n",
      "Data columns (total 19 columns):\n",
      " #   Column                Non-Null Count    Dtype  \n",
      "---  ------                --------------    -----  \n",
      " 0   created_at            1150773 non-null  object \n",
      " 1   tweet                 1150773 non-null  object \n",
      " 2   likes                 1150773 non-null  float64\n",
      " 3   retweet_count         1150773 non-null  float64\n",
      " 4   source                1149473 non-null  object \n",
      " 5   user_id               1150773 non-null  float64\n",
      " 6   user_name             1150742 non-null  object \n",
      " 7   user_screen_name      1150773 non-null  object \n",
      " 8   user_join_date        1150773 non-null  object \n",
      " 9   user_followers_count  1150773 non-null  float64\n",
      " 10  user_location         795786 non-null   object \n",
      " 11  lat                   544589 non-null   float64\n",
      " 12  long                  544589 non-null   float64\n",
      " 13  city                  273063 non-null   object \n",
      " 14  country               541771 non-null   object \n",
      " 15  continent             541791 non-null   object \n",
      " 16  state                 400820 non-null   object \n",
      " 17  state_code            378884 non-null   object \n",
      " 18  condidat              1150773 non-null  object \n",
      "dtypes: float64(6), object(13)\n",
      "memory usage: 175.6+ MB\n"
     ]
    }
   ],
   "source": [
    "data.sort_values(by='created_at').info()"
   ]
  },
  {
   "cell_type": "code",
   "execution_count": 13,
   "metadata": {
    "execution": {
     "iopub.execute_input": "2020-11-05T16:19:54.084838Z",
     "iopub.status.busy": "2020-11-05T16:19:54.067490Z",
     "iopub.status.idle": "2020-11-05T16:19:54.090552Z",
     "shell.execute_reply": "2020-11-05T16:19:54.089896Z"
    },
    "papermill": {
     "duration": 0.095731,
     "end_time": "2020-11-05T16:19:54.090698",
     "exception": false,
     "start_time": "2020-11-05T16:19:53.994967",
     "status": "completed"
    },
    "tags": []
   },
   "outputs": [
    {
     "data": {
      "text/html": [
       "<div>\n",
       "<style scoped>\n",
       "    .dataframe tbody tr th:only-of-type {\n",
       "        vertical-align: middle;\n",
       "    }\n",
       "\n",
       "    .dataframe tbody tr th {\n",
       "        vertical-align: top;\n",
       "    }\n",
       "\n",
       "    .dataframe thead th {\n",
       "        text-align: right;\n",
       "    }\n",
       "</style>\n",
       "<table border=\"1\" class=\"dataframe\">\n",
       "  <thead>\n",
       "    <tr style=\"text-align: right;\">\n",
       "      <th></th>\n",
       "      <th>created_at</th>\n",
       "      <th>tweet</th>\n",
       "      <th>likes</th>\n",
       "      <th>retweet_count</th>\n",
       "      <th>source</th>\n",
       "      <th>user_id</th>\n",
       "      <th>user_name</th>\n",
       "      <th>user_screen_name</th>\n",
       "      <th>user_join_date</th>\n",
       "      <th>user_followers_count</th>\n",
       "      <th>user_location</th>\n",
       "      <th>lat</th>\n",
       "      <th>long</th>\n",
       "      <th>city</th>\n",
       "      <th>country</th>\n",
       "      <th>continent</th>\n",
       "      <th>state</th>\n",
       "      <th>state_code</th>\n",
       "      <th>condidat</th>\n",
       "    </tr>\n",
       "  </thead>\n",
       "  <tbody>\n",
       "    <tr>\n",
       "      <th>0</th>\n",
       "      <td>2020-10-15 00:00:01</td>\n",
       "      <td>#Elecciones2020 | En #Florida: #JoeBiden dice ...</td>\n",
       "      <td>0.0</td>\n",
       "      <td>0.0</td>\n",
       "      <td>TweetDeck</td>\n",
       "      <td>3.606665e+08</td>\n",
       "      <td>El Sol Latino News</td>\n",
       "      <td>elsollatinonews</td>\n",
       "      <td>2011-08-23 15:33:45</td>\n",
       "      <td>1860.0</td>\n",
       "      <td>Philadelphia, PA / Miami, FL</td>\n",
       "      <td>25.774270</td>\n",
       "      <td>-80.193660</td>\n",
       "      <td>NaN</td>\n",
       "      <td>United States of America</td>\n",
       "      <td>North America</td>\n",
       "      <td>Florida</td>\n",
       "      <td>FL</td>\n",
       "      <td>Biden</td>\n",
       "    </tr>\n",
       "    <tr>\n",
       "      <th>1</th>\n",
       "      <td>2020-10-15 00:00:18</td>\n",
       "      <td>#HunterBiden #HunterBidenEmails #JoeBiden #Joe...</td>\n",
       "      <td>0.0</td>\n",
       "      <td>0.0</td>\n",
       "      <td>Twitter for iPad</td>\n",
       "      <td>8.099044e+08</td>\n",
       "      <td>Cheri A. 🇺🇸</td>\n",
       "      <td>Biloximeemaw</td>\n",
       "      <td>2012-09-08 01:03:57</td>\n",
       "      <td>6628.0</td>\n",
       "      <td>NaN</td>\n",
       "      <td>NaN</td>\n",
       "      <td>NaN</td>\n",
       "      <td>NaN</td>\n",
       "      <td>NaN</td>\n",
       "      <td>NaN</td>\n",
       "      <td>NaN</td>\n",
       "      <td>NaN</td>\n",
       "      <td>Biden</td>\n",
       "    </tr>\n",
       "    <tr>\n",
       "      <th>2</th>\n",
       "      <td>2020-10-15 00:00:20</td>\n",
       "      <td>@IslandGirlPRV @BradBeauregardJ @MeidasTouch T...</td>\n",
       "      <td>0.0</td>\n",
       "      <td>0.0</td>\n",
       "      <td>Twitter Web App</td>\n",
       "      <td>3.494182e+09</td>\n",
       "      <td>Flag Waver</td>\n",
       "      <td>Flag_Wavers</td>\n",
       "      <td>2015-08-30 19:38:21</td>\n",
       "      <td>1536.0</td>\n",
       "      <td>Golden Valley Arizona</td>\n",
       "      <td>46.304036</td>\n",
       "      <td>-109.171431</td>\n",
       "      <td>NaN</td>\n",
       "      <td>United States of America</td>\n",
       "      <td>North America</td>\n",
       "      <td>Montana</td>\n",
       "      <td>MT</td>\n",
       "      <td>Biden</td>\n",
       "    </tr>\n",
       "    <tr>\n",
       "      <th>3</th>\n",
       "      <td>2020-10-15 00:00:21</td>\n",
       "      <td>@chrislongview Watching and setting dvr. Let’s...</td>\n",
       "      <td>0.0</td>\n",
       "      <td>0.0</td>\n",
       "      <td>Twitter for iPhone</td>\n",
       "      <td>8.242596e+17</td>\n",
       "      <td>Michelle Ferg</td>\n",
       "      <td>MichelleFerg4</td>\n",
       "      <td>2017-01-25 14:16:17</td>\n",
       "      <td>27.0</td>\n",
       "      <td>NaN</td>\n",
       "      <td>NaN</td>\n",
       "      <td>NaN</td>\n",
       "      <td>NaN</td>\n",
       "      <td>NaN</td>\n",
       "      <td>NaN</td>\n",
       "      <td>NaN</td>\n",
       "      <td>NaN</td>\n",
       "      <td>Biden</td>\n",
       "    </tr>\n",
       "    <tr>\n",
       "      <th>4</th>\n",
       "      <td>2020-10-15 00:00:22</td>\n",
       "      <td>#censorship #HunterBiden #Biden #BidenEmails #...</td>\n",
       "      <td>1.0</td>\n",
       "      <td>0.0</td>\n",
       "      <td>Twitter Web App</td>\n",
       "      <td>1.032807e+18</td>\n",
       "      <td>the Gold State</td>\n",
       "      <td>theegoldstate</td>\n",
       "      <td>2018-08-24 01:49:01</td>\n",
       "      <td>390.0</td>\n",
       "      <td>California, USA</td>\n",
       "      <td>36.701463</td>\n",
       "      <td>-118.755997</td>\n",
       "      <td>NaN</td>\n",
       "      <td>United States of America</td>\n",
       "      <td>North America</td>\n",
       "      <td>California</td>\n",
       "      <td>CA</td>\n",
       "      <td>Biden</td>\n",
       "    </tr>\n",
       "    <tr>\n",
       "      <th>...</th>\n",
       "      <td>...</td>\n",
       "      <td>...</td>\n",
       "      <td>...</td>\n",
       "      <td>...</td>\n",
       "      <td>...</td>\n",
       "      <td>...</td>\n",
       "      <td>...</td>\n",
       "      <td>...</td>\n",
       "      <td>...</td>\n",
       "      <td>...</td>\n",
       "      <td>...</td>\n",
       "      <td>...</td>\n",
       "      <td>...</td>\n",
       "      <td>...</td>\n",
       "      <td>...</td>\n",
       "      <td>...</td>\n",
       "      <td>...</td>\n",
       "      <td>...</td>\n",
       "      <td>...</td>\n",
       "    </tr>\n",
       "    <tr>\n",
       "      <th>697095</th>\n",
       "      <td>2020-11-05 00:00:54</td>\n",
       "      <td>No to be political or anything but half of Ame...</td>\n",
       "      <td>1.0</td>\n",
       "      <td>1.0</td>\n",
       "      <td>Twitter for iPhone</td>\n",
       "      <td>9.483651e+17</td>\n",
       "      <td>Polly Tishon</td>\n",
       "      <td>PollyThe4k</td>\n",
       "      <td>2018-01-03 01:27:15</td>\n",
       "      <td>1.0</td>\n",
       "      <td>NaN</td>\n",
       "      <td>NaN</td>\n",
       "      <td>NaN</td>\n",
       "      <td>NaN</td>\n",
       "      <td>NaN</td>\n",
       "      <td>NaN</td>\n",
       "      <td>NaN</td>\n",
       "      <td>NaN</td>\n",
       "      <td>trump</td>\n",
       "    </tr>\n",
       "    <tr>\n",
       "      <th>697096</th>\n",
       "      <td>2020-11-05 00:00:55</td>\n",
       "      <td>@KBarnsey @KamalaHarris Hope you don’t mind if...</td>\n",
       "      <td>0.0</td>\n",
       "      <td>0.0</td>\n",
       "      <td>Twitter for iPad</td>\n",
       "      <td>2.782117e+09</td>\n",
       "      <td>Renee Turner</td>\n",
       "      <td>ReneeLoudProud</td>\n",
       "      <td>2014-09-24 04:37:44</td>\n",
       "      <td>8.0</td>\n",
       "      <td>American &amp; STILL HERE</td>\n",
       "      <td>NaN</td>\n",
       "      <td>NaN</td>\n",
       "      <td>NaN</td>\n",
       "      <td>NaN</td>\n",
       "      <td>NaN</td>\n",
       "      <td>NaN</td>\n",
       "      <td>NaN</td>\n",
       "      <td>trump</td>\n",
       "    </tr>\n",
       "    <tr>\n",
       "      <th>697097</th>\n",
       "      <td>2020-11-05 00:00:56</td>\n",
       "      <td>I see so many Christians &amp;amp; Atheists puttin...</td>\n",
       "      <td>3.0</td>\n",
       "      <td>0.0</td>\n",
       "      <td>Twitter for iPhone</td>\n",
       "      <td>7.638295e+17</td>\n",
       "      <td>Sam Mason</td>\n",
       "      <td>Samuel_J_Mason</td>\n",
       "      <td>2016-08-11 20:08:27</td>\n",
       "      <td>172.0</td>\n",
       "      <td>Atlanta, GA</td>\n",
       "      <td>33.749099</td>\n",
       "      <td>-84.390185</td>\n",
       "      <td>Atlanta</td>\n",
       "      <td>United States of America</td>\n",
       "      <td>North America</td>\n",
       "      <td>Georgia</td>\n",
       "      <td>GA</td>\n",
       "      <td>trump</td>\n",
       "    </tr>\n",
       "    <tr>\n",
       "      <th>697098</th>\n",
       "      <td>2020-11-05 00:00:58</td>\n",
       "      <td>Na na na na na na na na, hey hey hey goodbye #...</td>\n",
       "      <td>3.0</td>\n",
       "      <td>0.0</td>\n",
       "      <td>Twitter for Android</td>\n",
       "      <td>3.891866e+08</td>\n",
       "      <td>Daniel K ™</td>\n",
       "      <td>GoLeafsGoDaniel</td>\n",
       "      <td>2011-10-12 00:38:59</td>\n",
       "      <td>730.0</td>\n",
       "      <td>Stankonia</td>\n",
       "      <td>NaN</td>\n",
       "      <td>NaN</td>\n",
       "      <td>NaN</td>\n",
       "      <td>NaN</td>\n",
       "      <td>NaN</td>\n",
       "      <td>NaN</td>\n",
       "      <td>NaN</td>\n",
       "      <td>trump</td>\n",
       "    </tr>\n",
       "    <tr>\n",
       "      <th>697099</th>\n",
       "      <td>2020-11-05 00:00:59</td>\n",
       "      <td>@jesusmarana @LuisArroyoM Lo que más me llama ...</td>\n",
       "      <td>0.0</td>\n",
       "      <td>0.0</td>\n",
       "      <td>Twitter for Android</td>\n",
       "      <td>2.972143e+09</td>\n",
       "      <td>Caballa/Andaluz</td>\n",
       "      <td>jalaisan14</td>\n",
       "      <td>2015-01-10 22:12:50</td>\n",
       "      <td>113.0</td>\n",
       "      <td>Planeta Tierra 🌍</td>\n",
       "      <td>NaN</td>\n",
       "      <td>NaN</td>\n",
       "      <td>NaN</td>\n",
       "      <td>NaN</td>\n",
       "      <td>NaN</td>\n",
       "      <td>NaN</td>\n",
       "      <td>NaN</td>\n",
       "      <td>trump</td>\n",
       "    </tr>\n",
       "  </tbody>\n",
       "</table>\n",
       "<p>1150773 rows × 19 columns</p>\n",
       "</div>"
      ],
      "text/plain": [
       "                 created_at  \\\n",
       "0       2020-10-15 00:00:01   \n",
       "1       2020-10-15 00:00:18   \n",
       "2       2020-10-15 00:00:20   \n",
       "3       2020-10-15 00:00:21   \n",
       "4       2020-10-15 00:00:22   \n",
       "...                     ...   \n",
       "697095  2020-11-05 00:00:54   \n",
       "697096  2020-11-05 00:00:55   \n",
       "697097  2020-11-05 00:00:56   \n",
       "697098  2020-11-05 00:00:58   \n",
       "697099  2020-11-05 00:00:59   \n",
       "\n",
       "                                                    tweet  likes  \\\n",
       "0       #Elecciones2020 | En #Florida: #JoeBiden dice ...    0.0   \n",
       "1       #HunterBiden #HunterBidenEmails #JoeBiden #Joe...    0.0   \n",
       "2       @IslandGirlPRV @BradBeauregardJ @MeidasTouch T...    0.0   \n",
       "3       @chrislongview Watching and setting dvr. Let’s...    0.0   \n",
       "4       #censorship #HunterBiden #Biden #BidenEmails #...    1.0   \n",
       "...                                                   ...    ...   \n",
       "697095  No to be political or anything but half of Ame...    1.0   \n",
       "697096  @KBarnsey @KamalaHarris Hope you don’t mind if...    0.0   \n",
       "697097  I see so many Christians &amp; Atheists puttin...    3.0   \n",
       "697098  Na na na na na na na na, hey hey hey goodbye #...    3.0   \n",
       "697099  @jesusmarana @LuisArroyoM Lo que más me llama ...    0.0   \n",
       "\n",
       "        retweet_count               source       user_id           user_name  \\\n",
       "0                 0.0            TweetDeck  3.606665e+08  El Sol Latino News   \n",
       "1                 0.0     Twitter for iPad  8.099044e+08         Cheri A. 🇺🇸   \n",
       "2                 0.0      Twitter Web App  3.494182e+09          Flag Waver   \n",
       "3                 0.0   Twitter for iPhone  8.242596e+17       Michelle Ferg   \n",
       "4                 0.0      Twitter Web App  1.032807e+18      the Gold State   \n",
       "...               ...                  ...           ...                 ...   \n",
       "697095            1.0   Twitter for iPhone  9.483651e+17        Polly Tishon   \n",
       "697096            0.0     Twitter for iPad  2.782117e+09        Renee Turner   \n",
       "697097            0.0   Twitter for iPhone  7.638295e+17           Sam Mason   \n",
       "697098            0.0  Twitter for Android  3.891866e+08          Daniel K ™   \n",
       "697099            0.0  Twitter for Android  2.972143e+09     Caballa/Andaluz   \n",
       "\n",
       "       user_screen_name       user_join_date  user_followers_count  \\\n",
       "0       elsollatinonews  2011-08-23 15:33:45                1860.0   \n",
       "1          Biloximeemaw  2012-09-08 01:03:57                6628.0   \n",
       "2           Flag_Wavers  2015-08-30 19:38:21                1536.0   \n",
       "3         MichelleFerg4  2017-01-25 14:16:17                  27.0   \n",
       "4         theegoldstate  2018-08-24 01:49:01                 390.0   \n",
       "...                 ...                  ...                   ...   \n",
       "697095       PollyThe4k  2018-01-03 01:27:15                   1.0   \n",
       "697096   ReneeLoudProud  2014-09-24 04:37:44                   8.0   \n",
       "697097   Samuel_J_Mason  2016-08-11 20:08:27                 172.0   \n",
       "697098  GoLeafsGoDaniel  2011-10-12 00:38:59                 730.0   \n",
       "697099       jalaisan14  2015-01-10 22:12:50                 113.0   \n",
       "\n",
       "                       user_location        lat        long     city  \\\n",
       "0       Philadelphia, PA / Miami, FL  25.774270  -80.193660      NaN   \n",
       "1                                NaN        NaN         NaN      NaN   \n",
       "2              Golden Valley Arizona  46.304036 -109.171431      NaN   \n",
       "3                                NaN        NaN         NaN      NaN   \n",
       "4                    California, USA  36.701463 -118.755997      NaN   \n",
       "...                              ...        ...         ...      ...   \n",
       "697095                           NaN        NaN         NaN      NaN   \n",
       "697096         American & STILL HERE        NaN         NaN      NaN   \n",
       "697097                   Atlanta, GA  33.749099  -84.390185  Atlanta   \n",
       "697098                    Stankonia         NaN         NaN      NaN   \n",
       "697099              Planeta Tierra 🌍        NaN         NaN      NaN   \n",
       "\n",
       "                         country      continent       state state_code  \\\n",
       "0       United States of America  North America     Florida         FL   \n",
       "1                            NaN            NaN         NaN        NaN   \n",
       "2       United States of America  North America     Montana         MT   \n",
       "3                            NaN            NaN         NaN        NaN   \n",
       "4       United States of America  North America  California         CA   \n",
       "...                          ...            ...         ...        ...   \n",
       "697095                       NaN            NaN         NaN        NaN   \n",
       "697096                       NaN            NaN         NaN        NaN   \n",
       "697097  United States of America  North America     Georgia         GA   \n",
       "697098                       NaN            NaN         NaN        NaN   \n",
       "697099                       NaN            NaN         NaN        NaN   \n",
       "\n",
       "       condidat  \n",
       "0         Biden  \n",
       "1         Biden  \n",
       "2         Biden  \n",
       "3         Biden  \n",
       "4         Biden  \n",
       "...         ...  \n",
       "697095    trump  \n",
       "697096    trump  \n",
       "697097    trump  \n",
       "697098    trump  \n",
       "697099    trump  \n",
       "\n",
       "[1150773 rows x 19 columns]"
      ]
     },
     "execution_count": 13,
     "metadata": {},
     "output_type": "execute_result"
    }
   ],
   "source": [
    "data"
   ]
  },
  {
   "cell_type": "markdown",
   "metadata": {
    "papermill": {
     "duration": 0.043141,
     "end_time": "2020-11-05T16:19:54.177173",
     "exception": false,
     "start_time": "2020-11-05T16:19:54.134032",
     "status": "completed"
    },
    "tags": []
   },
   "source": [
    "<h1>tweet count for each country</h1>"
   ]
  },
  {
   "cell_type": "code",
   "execution_count": 14,
   "metadata": {
    "execution": {
     "iopub.execute_input": "2020-11-05T16:19:54.276620Z",
     "iopub.status.busy": "2020-11-05T16:19:54.275784Z",
     "iopub.status.idle": "2020-11-05T16:19:57.921430Z",
     "shell.execute_reply": "2020-11-05T16:19:57.920674Z"
    },
    "papermill": {
     "duration": 3.702038,
     "end_time": "2020-11-05T16:19:57.921559",
     "exception": false,
     "start_time": "2020-11-05T16:19:54.219521",
     "status": "completed"
    },
    "tags": []
   },
   "outputs": [
    {
     "data": {
      "text/html": [
       "        <script type=\"text/javascript\">\n",
       "        window.PlotlyConfig = {MathJaxConfig: 'local'};\n",
       "        if (window.MathJax) {MathJax.Hub.Config({SVG: {font: \"STIX-Web\"}});}\n",
       "        if (typeof require !== 'undefined') {\n",
       "        require.undef(\"plotly\");\n",
       "        requirejs.config({\n",
       "            paths: {\n",
       "                'plotly': ['https://cdn.plot.ly/plotly-latest.min']\n",
       "            }\n",
       "        });\n",
       "        require(['plotly'], function(Plotly) {\n",
       "            window._Plotly = Plotly;\n",
       "        });\n",
       "        }\n",
       "        </script>\n",
       "        "
      ]
     },
     "metadata": {},
     "output_type": "display_data"
    },
    {
     "data": {
      "text/html": [
       "<div>                            <div id=\"42c1ba32-9ac6-49ea-91ae-f6e1a29b24dc\" class=\"plotly-graph-div\" style=\"height:525px; width:100%;\"></div>            <script type=\"text/javascript\">                require([\"plotly\"], function(Plotly) {                    window.PLOTLYENV=window.PLOTLYENV || {};                                    if (document.getElementById(\"42c1ba32-9ac6-49ea-91ae-f6e1a29b24dc\")) {                    Plotly.newPlot(                        \"42c1ba32-9ac6-49ea-91ae-f6e1a29b24dc\",                        [{\"name\": \"joe Biden\", \"type\": \"bar\", \"x\": [\"United States of America\", \"United States\", \"United Kingdom\", \"India\", \"France\", \"Canada\", \"Germany\", \"Italy\", \"Australia\", \"The Netherlands\", \"Mexico\", \"Turkey\", \"Brazil\", \"Spain\", \"Pakistan\", \"Ireland\", \"Argentina\", \"Colombia\", \"Venezuela\", \"Netherlands\", \"Georgia\", \"Belgium\", \"Chile\", \"China\", \"Sweden\", \"Greece\", \"Bangladesh\", \"Switzerland\", \"Nigeria\", \"South Africa\", \"Egypt\", \"Norway\", \"United Arab Emirates\", \"Finland\", \"Singapore\", \"Austria\", \"Indonesia\", \"Kenya\", \"Peru\", \"Lebanon\", \"Ecuador\", \"Israel\", \"New Zealand\", \"Japan\", \"Dominican Republic\", \"Portugal\", \"Iran\", \"Russia\", \"Saudi Arabia\", \"Cuba\", \"Azerbaijan\", \"Philippines\", \"Honduras\", \"Tunisia\", \"Costa Rica\", \"Poland\", \"Guatemala\", \"El Salvador\", \"Denmark\", \"Malaysia\", \"Jersey\", \"Bahrain\", \"Bosnia and Herzegovina\", \"Iraq\", \"Thailand\", \"Sri Lanka\", \"Ghana\", \"Taiwan\", \"Vietnam\", \"Bulgaria\", \"Czech Republic\", \"Cyprus\", \"Mongolia\", \"South Korea\", \"Uruguay\", \"Ethiopia\", \"Uganda\", \"Jamaika\", \"Hungary\", \"Haiti\", \"Panama\", \"Cambodia\", \"Qatar\", \"Bolivia\", \"Luxembourg\", \"Libya\", \"Ukraine\", \"Paraguay\", \"Malta\", \"Serbia\", \"Nepal\", \"Morocco\", \"Nicaragua\", \"Liberia\", \"Afghanistan\", \"Kuwait\", \"Lithuania\", \"Cameroon\", \"Senegal\", \"Romania\", \"Slovakia\", \"Estonia\", \"Iceland\", \"Zimbabwe\", \"Rwanda\", \"Armenia\", \"Oman\", \"Slovenia\", \"Maldives\", \"Sudan\", \"Somalia\", \"Kosovo\", \"Albania\", \"Hong Kong\", \"Tanzania\", \"Palestinian Territory\", \"Latvia\", \"Monaco\", \"Trinidad and Tobago\", \"Jordan\", \"The Bahamas\", \"Angola\", \"Kazakhstan\", \"Falkland Islands\", \"Croatia\", \"Yemen\", \"Sierra Leone\", \"Myanmar\", \"Greenland\", \"C\\u00f4te d'Ivoire\", \"Papua New Guinea\", \"Suriname\", \"Syria\", \"Fiji\", \"North Korea\", \"Algeria\", \"Grenada\", \"Namibia\", \"Bahamas\", \"Zambia\", \"Barbados\", \"Moldova\", \"Faroe Islands\", \"Guyana\", \"Guinea\", \"Burkina Faso\", \"Democratic Republic of the Congo\", \"Uzbekistan\", \"Congo-Brazzaville\", \"Saint Kitts and Nevis\", \"Vatican City\", \"Gabon\", \"Djibouti\", \"Gibraltar\", \"Madagascar\", \"Congo\", \"The Gambia\", \"Tajikistan\", \"Laos\", \"North Macedonia\", \"Isle of Man\", \"Belize\", \"Dominica\", \"Montenegro\", \"Mauritius\", \"Belarus\", \"British Virgin Islands\", \"Cayman Islands\", \"Seychelles\", \"Saint Lucia\", \"Vanuatu\", \"Niger\", \"Federated States of Micronesia\", \"Antigua and Barbuda\", \"Anguilla\", \"Liechtenstein\", \"Republic of the Congo\"], \"y\": [108604, 21023, 10945, 7209, 7199, 6920, 6411, 3735, 3221, 2629, 2503, 2384, 1819, 1635, 1585, 1358, 1118, 1036, 995, 930, 889, 853, 753, 746, 718, 677, 637, 630, 612, 596, 586, 524, 523, 440, 412, 400, 399, 381, 365, 365, 362, 358, 357, 349, 331, 292, 290, 290, 272, 271, 266, 262, 248, 238, 206, 191, 171, 169, 162, 136, 136, 131, 129, 121, 120, 115, 113, 110, 109, 108, 105, 97, 96, 96, 92, 90, 76, 75, 73, 68, 66, 64, 62, 62, 58, 58, 58, 57, 56, 53, 53, 51, 50, 50, 47, 46, 46, 44, 41, 37, 31, 30, 28, 28, 27, 27, 24, 22, 22, 22, 21, 21, 21, 19, 19, 19, 18, 18, 17, 17, 16, 14, 14, 13, 13, 12, 12, 11, 10, 10, 10, 9, 9, 9, 8, 8, 8, 7, 6, 6, 5, 5, 4, 4, 4, 4, 4, 4, 4, 4, 3, 3, 3, 3, 3, 3, 3, 3, 3, 3, 2, 2, 2, 2, 2, 1, 1, 1, 1, 1, 1, 1, 1, 1, 1, 1, 1]}, {\"name\": \"donald Trump\", \"type\": \"bar\", \"x\": [\"United States of America\", \"United States\", \"United Kingdom\", \"Germany\", \"France\", \"Canada\", \"India\", \"Italy\", \"Australia\", \"The Netherlands\", \"Turkey\", \"Mexico\", \"Brazil\", \"Spain\", \"Pakistan\", \"Venezuela\", \"Ireland\", \"Netherlands\", \"Colombia\", \"Bangladesh\", \"Argentina\", \"Nigeria\", \"Georgia\", \"Belgium\", \"Chile\", \"Sweden\", \"South Africa\", \"Switzerland\", \"China\", \"Egypt\", \"Finland\", \"Austria\", \"Malaysia\", \"Greece\", \"United Arab Emirates\", \"Cuba\", \"Norway\", \"Lebanon\", \"Peru\", \"New Zealand\", \"Israel\", \"Costa Rica\", \"Indonesia\", \"Saudi Arabia\", \"Iran\", \"Denmark\", \"Kenya\", \"Ecuador\", \"Singapore\", \"Philippines\", \"Japan\", \"Dominican Republic\", \"Portugal\", \"Russia\", \"Azerbaijan\", \"Honduras\", \"Guatemala\", \"Thailand\", \"El Salvador\", \"Ethiopia\", \"Poland\", \"Iraq\", \"Czech Republic\", \"Sri Lanka\", \"Ghana\", \"Mongolia\", \"South Korea\", \"Serbia\", \"Jamaika\", \"Bahrain\", \"Tunisia\", \"Taiwan\", \"Bosnia and Herzegovina\", \"Cyprus\", \"Nicaragua\", \"Bolivia\", \"Jersey\", \"Uruguay\", \"Vietnam\", \"Armenia\", \"Uganda\", \"Bulgaria\", \"Luxembourg\", \"Qatar\", \"Hungary\", \"Morocco\", \"Nepal\", \"Iceland\", \"Panama\", \"Ukraine\", \"Malta\", \"Liberia\", \"Paraguay\", \"Haiti\", \"Afghanistan\", \"Lithuania\", \"Cameroon\", \"Yemen\", \"Kuwait\", \"Rwanda\", \"Libya\", \"Trinidad and Tobago\", \"Monaco\", \"Estonia\", \"Slovakia\", \"Senegal\", \"Cambodia\", \"Albania\", \"Romania\", \"Syria\", \"Palestinian Territory\", \"Sierra Leone\", \"Somalia\", \"Sudan\", \"Oman\", \"Zimbabwe\", \"Greenland\", \"Papua New Guinea\", \"Kosovo\", \"Myanmar\", \"Latvia\", \"Slovenia\", \"Zambia\", \"The Bahamas\", \"Barbados\", \"Angola\", \"Tanzania\", \"Algeria\", \"Jordan\", \"Fiji\", \"Grenada\", \"Croatia\", \"C\\u00f4te d'Ivoire\", \"Kazakhstan\", \"Guyana\", \"Burkina Faso\", \"The Gambia\", \"North Korea\", \"North Macedonia\", \"Hong Kong\", \"Laos\", \"Bahamas\", \"Niger\", \"Congo-Brazzaville\", \"Suriname\", \"Uzbekistan\", \"Guinea\", \"Democratic Republic of the Congo\", \"Maldives\", \"Moldova\", \"Vatican City\", \"British Virgin Islands\", \"Djibouti\", \"Gibraltar\", \"Belarus\", \"Belize\", \"Falkland Islands\", \"Liechtenstein\", \"Puerto Rico\", \"Seychelles\", \"Mauritius\", \"Saint Kitts and Nevis\", \"Montenegro\", \"Namibia\", \"Anguilla\", \"Tonga\", \"Madagascar\", \"Benin\", \"Tajikistan\", \"Cape Verde\", \"Cayman Islands\", \"Isle of Man\", \"South Sudan\", \"Kiribati\", \"Republic of the Congo\", \"Faroe Islands\", \"Federated States of Micronesia\", \"Turks and Caicos Islands\", \"Congo\", \"Vanuatu\", \"Gabon\", \"Northern Mariana Islands\", \"Dominica\"], \"y\": [146334, 28984, 21528, 14805, 13205, 13109, 11142, 6633, 6354, 4066, 3911, 3899, 2986, 2970, 2709, 1831, 1787, 1780, 1729, 1638, 1582, 1566, 1537, 1456, 1304, 1237, 1231, 1167, 1152, 1130, 1012, 889, 855, 805, 773, 714, 698, 669, 641, 635, 634, 623, 619, 607, 571, 571, 564, 529, 514, 459, 436, 429, 416, 356, 332, 301, 277, 276, 275, 261, 250, 246, 212, 188, 181, 179, 173, 169, 165, 162, 157, 152, 149, 148, 133, 129, 128, 124, 118, 117, 113, 110, 107, 106, 102, 101, 96, 89, 81, 80, 79, 77, 76, 75, 75, 75, 73, 67, 66, 64, 60, 57, 56, 53, 52, 51, 50, 49, 48, 47, 42, 41, 41, 39, 37, 35, 33, 29, 27, 26, 25, 25, 25, 23, 23, 22, 22, 20, 18, 18, 17, 16, 14, 14, 14, 13, 13, 13, 12, 12, 11, 11, 10, 10, 10, 10, 8, 8, 8, 7, 6, 6, 6, 5, 5, 5, 4, 4, 4, 4, 4, 4, 4, 3, 2, 2, 2, 2, 2, 2, 2, 2, 2, 2, 2, 2, 2, 1, 1, 1, 1, 1, 1]}],                        {\"template\": {\"data\": {\"bar\": [{\"error_x\": {\"color\": \"#2a3f5f\"}, \"error_y\": {\"color\": \"#2a3f5f\"}, \"marker\": {\"line\": {\"color\": \"#E5ECF6\", \"width\": 0.5}}, \"type\": \"bar\"}], \"barpolar\": [{\"marker\": {\"line\": {\"color\": \"#E5ECF6\", \"width\": 0.5}}, \"type\": \"barpolar\"}], \"carpet\": [{\"aaxis\": {\"endlinecolor\": \"#2a3f5f\", \"gridcolor\": \"white\", \"linecolor\": \"white\", \"minorgridcolor\": \"white\", \"startlinecolor\": \"#2a3f5f\"}, \"baxis\": {\"endlinecolor\": \"#2a3f5f\", \"gridcolor\": \"white\", \"linecolor\": \"white\", \"minorgridcolor\": \"white\", \"startlinecolor\": \"#2a3f5f\"}, \"type\": \"carpet\"}], \"choropleth\": [{\"colorbar\": {\"outlinewidth\": 0, \"ticks\": \"\"}, \"type\": \"choropleth\"}], \"contour\": [{\"colorbar\": {\"outlinewidth\": 0, \"ticks\": \"\"}, \"colorscale\": [[0.0, \"#0d0887\"], [0.1111111111111111, \"#46039f\"], [0.2222222222222222, \"#7201a8\"], [0.3333333333333333, \"#9c179e\"], [0.4444444444444444, \"#bd3786\"], [0.5555555555555556, \"#d8576b\"], [0.6666666666666666, \"#ed7953\"], [0.7777777777777778, \"#fb9f3a\"], [0.8888888888888888, \"#fdca26\"], [1.0, \"#f0f921\"]], \"type\": \"contour\"}], \"contourcarpet\": [{\"colorbar\": {\"outlinewidth\": 0, \"ticks\": \"\"}, \"type\": \"contourcarpet\"}], \"heatmap\": [{\"colorbar\": {\"outlinewidth\": 0, \"ticks\": \"\"}, \"colorscale\": [[0.0, \"#0d0887\"], [0.1111111111111111, \"#46039f\"], [0.2222222222222222, \"#7201a8\"], [0.3333333333333333, \"#9c179e\"], [0.4444444444444444, \"#bd3786\"], [0.5555555555555556, \"#d8576b\"], [0.6666666666666666, \"#ed7953\"], [0.7777777777777778, \"#fb9f3a\"], [0.8888888888888888, \"#fdca26\"], [1.0, \"#f0f921\"]], \"type\": \"heatmap\"}], \"heatmapgl\": [{\"colorbar\": {\"outlinewidth\": 0, \"ticks\": \"\"}, \"colorscale\": [[0.0, \"#0d0887\"], [0.1111111111111111, \"#46039f\"], [0.2222222222222222, \"#7201a8\"], [0.3333333333333333, \"#9c179e\"], [0.4444444444444444, \"#bd3786\"], [0.5555555555555556, \"#d8576b\"], [0.6666666666666666, \"#ed7953\"], [0.7777777777777778, \"#fb9f3a\"], [0.8888888888888888, \"#fdca26\"], [1.0, \"#f0f921\"]], \"type\": \"heatmapgl\"}], \"histogram\": [{\"marker\": {\"colorbar\": {\"outlinewidth\": 0, \"ticks\": \"\"}}, \"type\": \"histogram\"}], \"histogram2d\": [{\"colorbar\": {\"outlinewidth\": 0, \"ticks\": \"\"}, \"colorscale\": [[0.0, \"#0d0887\"], [0.1111111111111111, \"#46039f\"], [0.2222222222222222, \"#7201a8\"], [0.3333333333333333, \"#9c179e\"], [0.4444444444444444, \"#bd3786\"], [0.5555555555555556, \"#d8576b\"], [0.6666666666666666, \"#ed7953\"], [0.7777777777777778, \"#fb9f3a\"], [0.8888888888888888, \"#fdca26\"], [1.0, \"#f0f921\"]], \"type\": \"histogram2d\"}], \"histogram2dcontour\": [{\"colorbar\": {\"outlinewidth\": 0, \"ticks\": \"\"}, \"colorscale\": [[0.0, \"#0d0887\"], [0.1111111111111111, \"#46039f\"], [0.2222222222222222, \"#7201a8\"], [0.3333333333333333, \"#9c179e\"], [0.4444444444444444, \"#bd3786\"], [0.5555555555555556, \"#d8576b\"], [0.6666666666666666, \"#ed7953\"], [0.7777777777777778, \"#fb9f3a\"], [0.8888888888888888, \"#fdca26\"], [1.0, \"#f0f921\"]], \"type\": \"histogram2dcontour\"}], \"mesh3d\": [{\"colorbar\": {\"outlinewidth\": 0, \"ticks\": \"\"}, \"type\": \"mesh3d\"}], \"parcoords\": [{\"line\": {\"colorbar\": {\"outlinewidth\": 0, \"ticks\": \"\"}}, \"type\": \"parcoords\"}], \"pie\": [{\"automargin\": true, \"type\": \"pie\"}], \"scatter\": [{\"marker\": {\"colorbar\": {\"outlinewidth\": 0, \"ticks\": \"\"}}, \"type\": \"scatter\"}], \"scatter3d\": [{\"line\": {\"colorbar\": {\"outlinewidth\": 0, \"ticks\": \"\"}}, \"marker\": {\"colorbar\": {\"outlinewidth\": 0, \"ticks\": \"\"}}, \"type\": \"scatter3d\"}], \"scattercarpet\": [{\"marker\": {\"colorbar\": {\"outlinewidth\": 0, \"ticks\": \"\"}}, \"type\": \"scattercarpet\"}], \"scattergeo\": [{\"marker\": {\"colorbar\": {\"outlinewidth\": 0, \"ticks\": \"\"}}, \"type\": \"scattergeo\"}], \"scattergl\": [{\"marker\": {\"colorbar\": {\"outlinewidth\": 0, \"ticks\": \"\"}}, \"type\": \"scattergl\"}], \"scattermapbox\": [{\"marker\": {\"colorbar\": {\"outlinewidth\": 0, \"ticks\": \"\"}}, \"type\": \"scattermapbox\"}], \"scatterpolar\": [{\"marker\": {\"colorbar\": {\"outlinewidth\": 0, \"ticks\": \"\"}}, \"type\": \"scatterpolar\"}], \"scatterpolargl\": [{\"marker\": {\"colorbar\": {\"outlinewidth\": 0, \"ticks\": \"\"}}, \"type\": \"scatterpolargl\"}], \"scatterternary\": [{\"marker\": {\"colorbar\": {\"outlinewidth\": 0, \"ticks\": \"\"}}, \"type\": \"scatterternary\"}], \"surface\": [{\"colorbar\": {\"outlinewidth\": 0, \"ticks\": \"\"}, \"colorscale\": [[0.0, \"#0d0887\"], [0.1111111111111111, \"#46039f\"], [0.2222222222222222, \"#7201a8\"], [0.3333333333333333, \"#9c179e\"], [0.4444444444444444, \"#bd3786\"], [0.5555555555555556, \"#d8576b\"], [0.6666666666666666, \"#ed7953\"], [0.7777777777777778, \"#fb9f3a\"], [0.8888888888888888, \"#fdca26\"], [1.0, \"#f0f921\"]], \"type\": \"surface\"}], \"table\": [{\"cells\": {\"fill\": {\"color\": \"#EBF0F8\"}, \"line\": {\"color\": \"white\"}}, \"header\": {\"fill\": {\"color\": \"#C8D4E3\"}, \"line\": {\"color\": \"white\"}}, \"type\": \"table\"}]}, \"layout\": {\"annotationdefaults\": {\"arrowcolor\": \"#2a3f5f\", \"arrowhead\": 0, \"arrowwidth\": 1}, \"coloraxis\": {\"colorbar\": {\"outlinewidth\": 0, \"ticks\": \"\"}}, \"colorscale\": {\"diverging\": [[0, \"#8e0152\"], [0.1, \"#c51b7d\"], [0.2, \"#de77ae\"], [0.3, \"#f1b6da\"], [0.4, \"#fde0ef\"], [0.5, \"#f7f7f7\"], [0.6, \"#e6f5d0\"], [0.7, \"#b8e186\"], [0.8, \"#7fbc41\"], [0.9, \"#4d9221\"], [1, \"#276419\"]], \"sequential\": [[0.0, \"#0d0887\"], [0.1111111111111111, \"#46039f\"], [0.2222222222222222, \"#7201a8\"], [0.3333333333333333, \"#9c179e\"], [0.4444444444444444, \"#bd3786\"], [0.5555555555555556, \"#d8576b\"], [0.6666666666666666, \"#ed7953\"], [0.7777777777777778, \"#fb9f3a\"], [0.8888888888888888, \"#fdca26\"], [1.0, \"#f0f921\"]], \"sequentialminus\": [[0.0, \"#0d0887\"], [0.1111111111111111, \"#46039f\"], [0.2222222222222222, \"#7201a8\"], [0.3333333333333333, \"#9c179e\"], [0.4444444444444444, \"#bd3786\"], [0.5555555555555556, \"#d8576b\"], [0.6666666666666666, \"#ed7953\"], [0.7777777777777778, \"#fb9f3a\"], [0.8888888888888888, \"#fdca26\"], [1.0, \"#f0f921\"]]}, \"colorway\": [\"#636efa\", \"#EF553B\", \"#00cc96\", \"#ab63fa\", \"#FFA15A\", \"#19d3f3\", \"#FF6692\", \"#B6E880\", \"#FF97FF\", \"#FECB52\"], \"font\": {\"color\": \"#2a3f5f\"}, \"geo\": {\"bgcolor\": \"white\", \"lakecolor\": \"white\", \"landcolor\": \"#E5ECF6\", \"showlakes\": true, \"showland\": true, \"subunitcolor\": \"white\"}, \"hoverlabel\": {\"align\": \"left\"}, \"hovermode\": \"closest\", \"mapbox\": {\"style\": \"light\"}, \"paper_bgcolor\": \"white\", \"plot_bgcolor\": \"#E5ECF6\", \"polar\": {\"angularaxis\": {\"gridcolor\": \"white\", \"linecolor\": \"white\", \"ticks\": \"\"}, \"bgcolor\": \"#E5ECF6\", \"radialaxis\": {\"gridcolor\": \"white\", \"linecolor\": \"white\", \"ticks\": \"\"}}, \"scene\": {\"xaxis\": {\"backgroundcolor\": \"#E5ECF6\", \"gridcolor\": \"white\", \"gridwidth\": 2, \"linecolor\": \"white\", \"showbackground\": true, \"ticks\": \"\", \"zerolinecolor\": \"white\"}, \"yaxis\": {\"backgroundcolor\": \"#E5ECF6\", \"gridcolor\": \"white\", \"gridwidth\": 2, \"linecolor\": \"white\", \"showbackground\": true, \"ticks\": \"\", \"zerolinecolor\": \"white\"}, \"zaxis\": {\"backgroundcolor\": \"#E5ECF6\", \"gridcolor\": \"white\", \"gridwidth\": 2, \"linecolor\": \"white\", \"showbackground\": true, \"ticks\": \"\", \"zerolinecolor\": \"white\"}}, \"shapedefaults\": {\"line\": {\"color\": \"#2a3f5f\"}}, \"ternary\": {\"aaxis\": {\"gridcolor\": \"white\", \"linecolor\": \"white\", \"ticks\": \"\"}, \"baxis\": {\"gridcolor\": \"white\", \"linecolor\": \"white\", \"ticks\": \"\"}, \"bgcolor\": \"#E5ECF6\", \"caxis\": {\"gridcolor\": \"white\", \"linecolor\": \"white\", \"ticks\": \"\"}}, \"title\": {\"x\": 0.05}, \"xaxis\": {\"automargin\": true, \"gridcolor\": \"white\", \"linecolor\": \"white\", \"ticks\": \"\", \"title\": {\"standoff\": 15}, \"zerolinecolor\": \"white\", \"zerolinewidth\": 2}, \"yaxis\": {\"automargin\": true, \"gridcolor\": \"white\", \"linecolor\": \"white\", \"ticks\": \"\", \"title\": {\"standoff\": 15}, \"zerolinecolor\": \"white\", \"zerolinewidth\": 2}}}, \"title\": {\"text\": \"tweets count for each countries\"}, \"xaxis\": {\"title\": {\"text\": \"countries\"}}, \"yaxis\": {\"title\": {\"text\": \"tweet count\"}}},                        {\"responsive\": true}                    ).then(function(){\n",
       "                            \n",
       "var gd = document.getElementById('42c1ba32-9ac6-49ea-91ae-f6e1a29b24dc');\n",
       "var x = new MutationObserver(function (mutations, observer) {{\n",
       "        var display = window.getComputedStyle(gd).display;\n",
       "        if (!display || display === 'none') {{\n",
       "            console.log([gd, 'removed!']);\n",
       "            Plotly.purge(gd);\n",
       "            observer.disconnect();\n",
       "        }}\n",
       "}});\n",
       "\n",
       "// Listen for the removal of the full notebook cells\n",
       "var notebookContainer = gd.closest('#notebook-container');\n",
       "if (notebookContainer) {{\n",
       "    x.observe(notebookContainer, {childList: true});\n",
       "}}\n",
       "\n",
       "// Listen for the clearing of the current output cell\n",
       "var outputEl = gd.closest('.output');\n",
       "if (outputEl) {{\n",
       "    x.observe(outputEl, {childList: true});\n",
       "}}\n",
       "\n",
       "                        })                };                });            </script>        </div>"
      ]
     },
     "metadata": {},
     "output_type": "display_data"
    }
   ],
   "source": [
    "# wee look for the rows of specific condidat then we remove the rows that has nan in country \n",
    "#then we group by avec country then we get the count then we sort  from big to low\n",
    "\n",
    "#for biden\n",
    "y = data.query('(condidat == \"Biden\") ').dropna(subset=['country']).groupby(by='country').count().tweet.sort_values(ascending=False)\n",
    "x = data.query('(condidat == \"Biden\") ').dropna(subset=['country']).groupby(by='country').count().tweet.sort_values(ascending=False).index\n",
    "#for trump\n",
    "y2 = data.query('(condidat == \"trump\") ').dropna(subset=['country']).groupby(by='country').count().tweet.sort_values(ascending=False)\n",
    "x2 = data.query('(condidat == \"trump\")').dropna(subset=['country']).groupby(by='country').count().tweet.sort_values(ascending=False).index\n",
    "\n",
    "fig = go.Figure([go.Bar(x=x, y=y, name='joe Biden'),\n",
    "                 go.Bar(x=x2, y=y2, name='donald Trump')])\n",
    "\n",
    "\n",
    "fig.update_layout(title_text='tweets count for each countries')\n",
    "fig.update_xaxes(title='countries')\n",
    "fig.update_yaxes(title='tweet count')\n",
    "fig.show()\n"
   ]
  },
  {
   "cell_type": "markdown",
   "metadata": {
    "papermill": {
     "duration": 0.045115,
     "end_time": "2020-11-05T16:19:58.011495",
     "exception": false,
     "start_time": "2020-11-05T16:19:57.966380",
     "status": "completed"
    },
    "tags": []
   },
   "source": [
    "<h1>tweet count for each country usa not included</h1>"
   ]
  },
  {
   "cell_type": "code",
   "execution_count": 15,
   "metadata": {
    "execution": {
     "iopub.execute_input": "2020-11-05T16:19:58.115550Z",
     "iopub.status.busy": "2020-11-05T16:19:58.114657Z",
     "iopub.status.idle": "2020-11-05T16:20:00.631448Z",
     "shell.execute_reply": "2020-11-05T16:20:00.630623Z"
    },
    "papermill": {
     "duration": 2.574924,
     "end_time": "2020-11-05T16:20:00.631584",
     "exception": false,
     "start_time": "2020-11-05T16:19:58.056660",
     "status": "completed"
    },
    "tags": []
   },
   "outputs": [
    {
     "data": {
      "text/html": [
       "<div>                            <div id=\"2dacbe30-32f1-4ec0-bd05-9da93fb0c89c\" class=\"plotly-graph-div\" style=\"height:525px; width:100%;\"></div>            <script type=\"text/javascript\">                require([\"plotly\"], function(Plotly) {                    window.PLOTLYENV=window.PLOTLYENV || {};                                    if (document.getElementById(\"2dacbe30-32f1-4ec0-bd05-9da93fb0c89c\")) {                    Plotly.newPlot(                        \"2dacbe30-32f1-4ec0-bd05-9da93fb0c89c\",                        [{\"name\": \"joe Biden\", \"type\": \"bar\", \"x\": [\"United Kingdom\", \"India\", \"France\", \"Canada\", \"Germany\", \"Italy\", \"Australia\", \"The Netherlands\", \"Mexico\", \"Turkey\", \"Brazil\", \"Spain\", \"Pakistan\", \"Ireland\", \"Argentina\", \"Colombia\", \"Venezuela\", \"Netherlands\", \"Georgia\", \"Belgium\", \"Chile\", \"China\", \"Sweden\", \"Greece\", \"Bangladesh\", \"Switzerland\", \"Nigeria\", \"South Africa\", \"Egypt\", \"Norway\", \"United Arab Emirates\", \"Finland\", \"Singapore\", \"Austria\", \"Indonesia\", \"Kenya\", \"Peru\", \"Lebanon\", \"Ecuador\", \"Israel\", \"New Zealand\", \"Japan\", \"Dominican Republic\", \"Portugal\", \"Russia\", \"Iran\", \"Saudi Arabia\", \"Cuba\", \"Azerbaijan\", \"Philippines\", \"Honduras\", \"Tunisia\", \"Costa Rica\", \"Poland\", \"Guatemala\", \"El Salvador\", \"Denmark\", \"Malaysia\", \"Jersey\", \"Bahrain\", \"Bosnia and Herzegovina\", \"Iraq\", \"Thailand\", \"Sri Lanka\", \"Ghana\", \"Taiwan\", \"Vietnam\", \"Bulgaria\", \"Czech Republic\", \"Cyprus\", \"Mongolia\", \"South Korea\", \"Uruguay\", \"Ethiopia\", \"Uganda\", \"Jamaika\", \"Hungary\", \"Haiti\", \"Panama\", \"Cambodia\", \"Qatar\", \"Bolivia\", \"Luxembourg\", \"Libya\", \"Ukraine\", \"Paraguay\", \"Malta\", \"Serbia\", \"Nepal\", \"Morocco\", \"Nicaragua\", \"Liberia\", \"Afghanistan\", \"Kuwait\", \"Lithuania\", \"Cameroon\", \"Senegal\", \"Romania\", \"Slovakia\", \"Estonia\", \"Iceland\", \"Zimbabwe\", \"Rwanda\", \"Armenia\", \"Oman\", \"Slovenia\", \"Maldives\", \"Sudan\", \"Somalia\", \"Kosovo\", \"Albania\", \"Tanzania\", \"Palestinian Territory\", \"Hong Kong\", \"Monaco\", \"Latvia\", \"Jordan\", \"Trinidad and Tobago\", \"The Bahamas\", \"Angola\", \"Kazakhstan\", \"Falkland Islands\", \"Croatia\", \"Sierra Leone\", \"Yemen\", \"Myanmar\", \"C\\u00f4te d'Ivoire\", \"Greenland\", \"Papua New Guinea\", \"Fiji\", \"Syria\", \"Suriname\", \"Algeria\", \"North Korea\", \"Grenada\", \"Namibia\", \"Bahamas\", \"Zambia\", \"Moldova\", \"Barbados\", \"Guyana\", \"Uzbekistan\", \"Guinea\", \"Faroe Islands\", \"Burkina Faso\", \"Congo-Brazzaville\", \"Saint Kitts and Nevis\", \"Democratic Republic of the Congo\", \"The Gambia\", \"Tajikistan\", \"Laos\", \"Congo\", \"Djibouti\", \"Vatican City\", \"Gabon\", \"Gibraltar\", \"Madagascar\", \"North Macedonia\", \"Isle of Man\", \"Belize\", \"Dominica\", \"Montenegro\", \"Mauritius\", \"Belarus\", \"British Virgin Islands\", \"Cayman Islands\", \"Seychelles\", \"Saint Lucia\", \"Vanuatu\", \"Niger\", \"Federated States of Micronesia\", \"Antigua and Barbuda\", \"Anguilla\", \"Liechtenstein\", \"Republic of the Congo\"], \"y\": [10945, 7209, 7199, 6920, 6411, 3735, 3221, 2629, 2503, 2384, 1819, 1635, 1585, 1358, 1118, 1036, 995, 930, 889, 853, 753, 746, 718, 677, 637, 630, 612, 596, 586, 524, 523, 440, 412, 400, 399, 381, 365, 365, 362, 358, 357, 349, 331, 292, 290, 290, 272, 271, 266, 262, 248, 238, 206, 191, 171, 169, 162, 136, 136, 131, 129, 121, 120, 115, 113, 110, 109, 108, 105, 97, 96, 96, 92, 90, 76, 75, 73, 68, 66, 64, 62, 62, 58, 58, 58, 57, 56, 53, 53, 51, 50, 50, 47, 46, 46, 44, 41, 37, 31, 30, 28, 28, 27, 27, 24, 22, 22, 22, 21, 21, 21, 19, 19, 19, 18, 18, 17, 17, 16, 14, 14, 13, 13, 12, 12, 11, 10, 10, 10, 9, 9, 9, 8, 8, 8, 7, 6, 6, 5, 5, 4, 4, 4, 4, 4, 4, 4, 4, 3, 3, 3, 3, 3, 3, 3, 3, 3, 3, 2, 2, 2, 2, 2, 1, 1, 1, 1, 1, 1, 1, 1, 1, 1, 1, 1]}, {\"name\": \"donald Trump\", \"type\": \"bar\", \"x\": [\"United Kingdom\", \"Germany\", \"France\", \"Canada\", \"India\", \"Italy\", \"Australia\", \"The Netherlands\", \"Turkey\", \"Mexico\", \"Brazil\", \"Spain\", \"Pakistan\", \"Venezuela\", \"Ireland\", \"Netherlands\", \"Colombia\", \"Bangladesh\", \"Argentina\", \"Nigeria\", \"Georgia\", \"Belgium\", \"Chile\", \"Sweden\", \"South Africa\", \"Switzerland\", \"China\", \"Egypt\", \"Finland\", \"Austria\", \"Malaysia\", \"Greece\", \"United Arab Emirates\", \"Cuba\", \"Norway\", \"Lebanon\", \"Peru\", \"New Zealand\", \"Israel\", \"Costa Rica\", \"Indonesia\", \"Saudi Arabia\", \"Denmark\", \"Iran\", \"Kenya\", \"Ecuador\", \"Singapore\", \"Philippines\", \"Japan\", \"Dominican Republic\", \"Portugal\", \"Russia\", \"Azerbaijan\", \"Honduras\", \"Guatemala\", \"Thailand\", \"El Salvador\", \"Ethiopia\", \"Poland\", \"Iraq\", \"Czech Republic\", \"Sri Lanka\", \"Ghana\", \"Mongolia\", \"South Korea\", \"Serbia\", \"Jamaika\", \"Bahrain\", \"Tunisia\", \"Taiwan\", \"Bosnia and Herzegovina\", \"Cyprus\", \"Nicaragua\", \"Bolivia\", \"Jersey\", \"Uruguay\", \"Vietnam\", \"Armenia\", \"Uganda\", \"Bulgaria\", \"Luxembourg\", \"Qatar\", \"Hungary\", \"Morocco\", \"Nepal\", \"Iceland\", \"Panama\", \"Ukraine\", \"Malta\", \"Liberia\", \"Paraguay\", \"Haiti\", \"Afghanistan\", \"Lithuania\", \"Cameroon\", \"Yemen\", \"Kuwait\", \"Rwanda\", \"Libya\", \"Trinidad and Tobago\", \"Monaco\", \"Estonia\", \"Slovakia\", \"Senegal\", \"Cambodia\", \"Albania\", \"Romania\", \"Syria\", \"Palestinian Territory\", \"Somalia\", \"Sierra Leone\", \"Sudan\", \"Oman\", \"Zimbabwe\", \"Greenland\", \"Papua New Guinea\", \"Kosovo\", \"Myanmar\", \"Latvia\", \"Slovenia\", \"Zambia\", \"Barbados\", \"The Bahamas\", \"Tanzania\", \"Angola\", \"Algeria\", \"Jordan\", \"Fiji\", \"Grenada\", \"Croatia\", \"C\\u00f4te d'Ivoire\", \"Guyana\", \"Kazakhstan\", \"The Gambia\", \"North Korea\", \"Burkina Faso\", \"North Macedonia\", \"Hong Kong\", \"Laos\", \"Bahamas\", \"Niger\", \"Congo-Brazzaville\", \"Uzbekistan\", \"Suriname\", \"Democratic Republic of the Congo\", \"Guinea\", \"Maldives\", \"Moldova\", \"Djibouti\", \"Vatican City\", \"British Virgin Islands\", \"Gibraltar\", \"Belize\", \"Belarus\", \"Seychelles\", \"Liechtenstein\", \"Saint Kitts and Nevis\", \"Puerto Rico\", \"Mauritius\", \"Montenegro\", \"Falkland Islands\", \"Namibia\", \"Republic of the Congo\", \"Isle of Man\", \"Anguilla\", \"Tonga\", \"Faroe Islands\", \"Madagascar\", \"Kiribati\", \"Tajikistan\", \"Benin\", \"Cayman Islands\", \"South Sudan\", \"Cape Verde\", \"Federated States of Micronesia\", \"Congo\", \"Northern Mariana Islands\", \"Turks and Caicos Islands\", \"Vanuatu\", \"Gabon\", \"Dominica\"], \"y\": [21528, 14805, 13205, 13109, 11142, 6633, 6354, 4066, 3911, 3899, 2986, 2970, 2709, 1831, 1787, 1780, 1729, 1638, 1582, 1566, 1537, 1456, 1304, 1237, 1231, 1167, 1152, 1130, 1012, 889, 855, 805, 773, 714, 698, 669, 641, 635, 634, 623, 619, 607, 571, 571, 564, 529, 514, 459, 436, 429, 416, 356, 332, 301, 277, 276, 275, 261, 250, 246, 212, 188, 181, 179, 173, 169, 165, 162, 157, 152, 149, 148, 133, 129, 128, 124, 118, 117, 113, 110, 107, 106, 102, 101, 96, 89, 81, 80, 79, 77, 76, 75, 75, 75, 73, 67, 66, 64, 60, 57, 56, 53, 52, 51, 50, 49, 48, 47, 42, 41, 41, 39, 37, 35, 33, 29, 27, 26, 25, 25, 25, 23, 23, 22, 22, 20, 18, 18, 17, 16, 14, 14, 14, 13, 13, 13, 12, 12, 11, 11, 10, 10, 10, 10, 8, 8, 8, 7, 6, 6, 6, 5, 5, 5, 4, 4, 4, 4, 4, 4, 4, 3, 2, 2, 2, 2, 2, 2, 2, 2, 2, 2, 2, 2, 2, 1, 1, 1, 1, 1, 1]}],                        {\"template\": {\"data\": {\"bar\": [{\"error_x\": {\"color\": \"#2a3f5f\"}, \"error_y\": {\"color\": \"#2a3f5f\"}, \"marker\": {\"line\": {\"color\": \"#E5ECF6\", \"width\": 0.5}}, \"type\": \"bar\"}], \"barpolar\": [{\"marker\": {\"line\": {\"color\": \"#E5ECF6\", \"width\": 0.5}}, \"type\": \"barpolar\"}], \"carpet\": [{\"aaxis\": {\"endlinecolor\": \"#2a3f5f\", \"gridcolor\": \"white\", \"linecolor\": \"white\", \"minorgridcolor\": \"white\", \"startlinecolor\": \"#2a3f5f\"}, \"baxis\": {\"endlinecolor\": \"#2a3f5f\", \"gridcolor\": \"white\", \"linecolor\": \"white\", \"minorgridcolor\": \"white\", \"startlinecolor\": \"#2a3f5f\"}, \"type\": \"carpet\"}], \"choropleth\": [{\"colorbar\": {\"outlinewidth\": 0, \"ticks\": \"\"}, \"type\": \"choropleth\"}], \"contour\": [{\"colorbar\": {\"outlinewidth\": 0, \"ticks\": \"\"}, \"colorscale\": [[0.0, \"#0d0887\"], [0.1111111111111111, \"#46039f\"], [0.2222222222222222, \"#7201a8\"], [0.3333333333333333, \"#9c179e\"], [0.4444444444444444, \"#bd3786\"], [0.5555555555555556, \"#d8576b\"], [0.6666666666666666, \"#ed7953\"], [0.7777777777777778, \"#fb9f3a\"], [0.8888888888888888, \"#fdca26\"], [1.0, \"#f0f921\"]], \"type\": \"contour\"}], \"contourcarpet\": [{\"colorbar\": {\"outlinewidth\": 0, \"ticks\": \"\"}, \"type\": \"contourcarpet\"}], \"heatmap\": [{\"colorbar\": {\"outlinewidth\": 0, \"ticks\": \"\"}, \"colorscale\": [[0.0, \"#0d0887\"], [0.1111111111111111, \"#46039f\"], [0.2222222222222222, \"#7201a8\"], [0.3333333333333333, \"#9c179e\"], [0.4444444444444444, \"#bd3786\"], [0.5555555555555556, \"#d8576b\"], [0.6666666666666666, \"#ed7953\"], [0.7777777777777778, \"#fb9f3a\"], [0.8888888888888888, \"#fdca26\"], [1.0, \"#f0f921\"]], \"type\": \"heatmap\"}], \"heatmapgl\": [{\"colorbar\": {\"outlinewidth\": 0, \"ticks\": \"\"}, \"colorscale\": [[0.0, \"#0d0887\"], [0.1111111111111111, \"#46039f\"], [0.2222222222222222, \"#7201a8\"], [0.3333333333333333, \"#9c179e\"], [0.4444444444444444, \"#bd3786\"], [0.5555555555555556, \"#d8576b\"], [0.6666666666666666, \"#ed7953\"], [0.7777777777777778, \"#fb9f3a\"], [0.8888888888888888, \"#fdca26\"], [1.0, \"#f0f921\"]], \"type\": \"heatmapgl\"}], \"histogram\": [{\"marker\": {\"colorbar\": {\"outlinewidth\": 0, \"ticks\": \"\"}}, \"type\": \"histogram\"}], \"histogram2d\": [{\"colorbar\": {\"outlinewidth\": 0, \"ticks\": \"\"}, \"colorscale\": [[0.0, \"#0d0887\"], [0.1111111111111111, \"#46039f\"], [0.2222222222222222, \"#7201a8\"], [0.3333333333333333, \"#9c179e\"], [0.4444444444444444, \"#bd3786\"], [0.5555555555555556, \"#d8576b\"], [0.6666666666666666, \"#ed7953\"], [0.7777777777777778, \"#fb9f3a\"], [0.8888888888888888, \"#fdca26\"], [1.0, \"#f0f921\"]], \"type\": \"histogram2d\"}], \"histogram2dcontour\": [{\"colorbar\": {\"outlinewidth\": 0, \"ticks\": \"\"}, \"colorscale\": [[0.0, \"#0d0887\"], [0.1111111111111111, \"#46039f\"], [0.2222222222222222, \"#7201a8\"], [0.3333333333333333, \"#9c179e\"], [0.4444444444444444, \"#bd3786\"], [0.5555555555555556, \"#d8576b\"], [0.6666666666666666, \"#ed7953\"], [0.7777777777777778, \"#fb9f3a\"], [0.8888888888888888, \"#fdca26\"], [1.0, \"#f0f921\"]], \"type\": \"histogram2dcontour\"}], \"mesh3d\": [{\"colorbar\": {\"outlinewidth\": 0, \"ticks\": \"\"}, \"type\": \"mesh3d\"}], \"parcoords\": [{\"line\": {\"colorbar\": {\"outlinewidth\": 0, \"ticks\": \"\"}}, \"type\": \"parcoords\"}], \"pie\": [{\"automargin\": true, \"type\": \"pie\"}], \"scatter\": [{\"marker\": {\"colorbar\": {\"outlinewidth\": 0, \"ticks\": \"\"}}, \"type\": \"scatter\"}], \"scatter3d\": [{\"line\": {\"colorbar\": {\"outlinewidth\": 0, \"ticks\": \"\"}}, \"marker\": {\"colorbar\": {\"outlinewidth\": 0, \"ticks\": \"\"}}, \"type\": \"scatter3d\"}], \"scattercarpet\": [{\"marker\": {\"colorbar\": {\"outlinewidth\": 0, \"ticks\": \"\"}}, \"type\": \"scattercarpet\"}], \"scattergeo\": [{\"marker\": {\"colorbar\": {\"outlinewidth\": 0, \"ticks\": \"\"}}, \"type\": \"scattergeo\"}], \"scattergl\": [{\"marker\": {\"colorbar\": {\"outlinewidth\": 0, \"ticks\": \"\"}}, \"type\": \"scattergl\"}], \"scattermapbox\": [{\"marker\": {\"colorbar\": {\"outlinewidth\": 0, \"ticks\": \"\"}}, \"type\": \"scattermapbox\"}], \"scatterpolar\": [{\"marker\": {\"colorbar\": {\"outlinewidth\": 0, \"ticks\": \"\"}}, \"type\": \"scatterpolar\"}], \"scatterpolargl\": [{\"marker\": {\"colorbar\": {\"outlinewidth\": 0, \"ticks\": \"\"}}, \"type\": \"scatterpolargl\"}], \"scatterternary\": [{\"marker\": {\"colorbar\": {\"outlinewidth\": 0, \"ticks\": \"\"}}, \"type\": \"scatterternary\"}], \"surface\": [{\"colorbar\": {\"outlinewidth\": 0, \"ticks\": \"\"}, \"colorscale\": [[0.0, \"#0d0887\"], [0.1111111111111111, \"#46039f\"], [0.2222222222222222, \"#7201a8\"], [0.3333333333333333, \"#9c179e\"], [0.4444444444444444, \"#bd3786\"], [0.5555555555555556, \"#d8576b\"], [0.6666666666666666, \"#ed7953\"], [0.7777777777777778, \"#fb9f3a\"], [0.8888888888888888, \"#fdca26\"], [1.0, \"#f0f921\"]], \"type\": \"surface\"}], \"table\": [{\"cells\": {\"fill\": {\"color\": \"#EBF0F8\"}, \"line\": {\"color\": \"white\"}}, \"header\": {\"fill\": {\"color\": \"#C8D4E3\"}, \"line\": {\"color\": \"white\"}}, \"type\": \"table\"}]}, \"layout\": {\"annotationdefaults\": {\"arrowcolor\": \"#2a3f5f\", \"arrowhead\": 0, \"arrowwidth\": 1}, \"coloraxis\": {\"colorbar\": {\"outlinewidth\": 0, \"ticks\": \"\"}}, \"colorscale\": {\"diverging\": [[0, \"#8e0152\"], [0.1, \"#c51b7d\"], [0.2, \"#de77ae\"], [0.3, \"#f1b6da\"], [0.4, \"#fde0ef\"], [0.5, \"#f7f7f7\"], [0.6, \"#e6f5d0\"], [0.7, \"#b8e186\"], [0.8, \"#7fbc41\"], [0.9, \"#4d9221\"], [1, \"#276419\"]], \"sequential\": [[0.0, \"#0d0887\"], [0.1111111111111111, \"#46039f\"], [0.2222222222222222, \"#7201a8\"], [0.3333333333333333, \"#9c179e\"], [0.4444444444444444, \"#bd3786\"], [0.5555555555555556, \"#d8576b\"], [0.6666666666666666, \"#ed7953\"], [0.7777777777777778, \"#fb9f3a\"], [0.8888888888888888, \"#fdca26\"], [1.0, \"#f0f921\"]], \"sequentialminus\": [[0.0, \"#0d0887\"], [0.1111111111111111, \"#46039f\"], [0.2222222222222222, \"#7201a8\"], [0.3333333333333333, \"#9c179e\"], [0.4444444444444444, \"#bd3786\"], [0.5555555555555556, \"#d8576b\"], [0.6666666666666666, \"#ed7953\"], [0.7777777777777778, \"#fb9f3a\"], [0.8888888888888888, \"#fdca26\"], [1.0, \"#f0f921\"]]}, \"colorway\": [\"#636efa\", \"#EF553B\", \"#00cc96\", \"#ab63fa\", \"#FFA15A\", \"#19d3f3\", \"#FF6692\", \"#B6E880\", \"#FF97FF\", \"#FECB52\"], \"font\": {\"color\": \"#2a3f5f\"}, \"geo\": {\"bgcolor\": \"white\", \"lakecolor\": \"white\", \"landcolor\": \"#E5ECF6\", \"showlakes\": true, \"showland\": true, \"subunitcolor\": \"white\"}, \"hoverlabel\": {\"align\": \"left\"}, \"hovermode\": \"closest\", \"mapbox\": {\"style\": \"light\"}, \"paper_bgcolor\": \"white\", \"plot_bgcolor\": \"#E5ECF6\", \"polar\": {\"angularaxis\": {\"gridcolor\": \"white\", \"linecolor\": \"white\", \"ticks\": \"\"}, \"bgcolor\": \"#E5ECF6\", \"radialaxis\": {\"gridcolor\": \"white\", \"linecolor\": \"white\", \"ticks\": \"\"}}, \"scene\": {\"xaxis\": {\"backgroundcolor\": \"#E5ECF6\", \"gridcolor\": \"white\", \"gridwidth\": 2, \"linecolor\": \"white\", \"showbackground\": true, \"ticks\": \"\", \"zerolinecolor\": \"white\"}, \"yaxis\": {\"backgroundcolor\": \"#E5ECF6\", \"gridcolor\": \"white\", \"gridwidth\": 2, \"linecolor\": \"white\", \"showbackground\": true, \"ticks\": \"\", \"zerolinecolor\": \"white\"}, \"zaxis\": {\"backgroundcolor\": \"#E5ECF6\", \"gridcolor\": \"white\", \"gridwidth\": 2, \"linecolor\": \"white\", \"showbackground\": true, \"ticks\": \"\", \"zerolinecolor\": \"white\"}}, \"shapedefaults\": {\"line\": {\"color\": \"#2a3f5f\"}}, \"ternary\": {\"aaxis\": {\"gridcolor\": \"white\", \"linecolor\": \"white\", \"ticks\": \"\"}, \"baxis\": {\"gridcolor\": \"white\", \"linecolor\": \"white\", \"ticks\": \"\"}, \"bgcolor\": \"#E5ECF6\", \"caxis\": {\"gridcolor\": \"white\", \"linecolor\": \"white\", \"ticks\": \"\"}}, \"title\": {\"x\": 0.05}, \"xaxis\": {\"automargin\": true, \"gridcolor\": \"white\", \"linecolor\": \"white\", \"ticks\": \"\", \"title\": {\"standoff\": 15}, \"zerolinecolor\": \"white\", \"zerolinewidth\": 2}, \"yaxis\": {\"automargin\": true, \"gridcolor\": \"white\", \"linecolor\": \"white\", \"ticks\": \"\", \"title\": {\"standoff\": 15}, \"zerolinecolor\": \"white\", \"zerolinewidth\": 2}}}, \"title\": {\"text\": \"tweets count for each country usa not included\"}, \"xaxis\": {\"title\": {\"text\": \"countries\"}}, \"yaxis\": {\"title\": {\"text\": \"tweet count\"}}},                        {\"responsive\": true}                    ).then(function(){\n",
       "                            \n",
       "var gd = document.getElementById('2dacbe30-32f1-4ec0-bd05-9da93fb0c89c');\n",
       "var x = new MutationObserver(function (mutations, observer) {{\n",
       "        var display = window.getComputedStyle(gd).display;\n",
       "        if (!display || display === 'none') {{\n",
       "            console.log([gd, 'removed!']);\n",
       "            Plotly.purge(gd);\n",
       "            observer.disconnect();\n",
       "        }}\n",
       "}});\n",
       "\n",
       "// Listen for the removal of the full notebook cells\n",
       "var notebookContainer = gd.closest('#notebook-container');\n",
       "if (notebookContainer) {{\n",
       "    x.observe(notebookContainer, {childList: true});\n",
       "}}\n",
       "\n",
       "// Listen for the clearing of the current output cell\n",
       "var outputEl = gd.closest('.output');\n",
       "if (outputEl) {{\n",
       "    x.observe(outputEl, {childList: true});\n",
       "}}\n",
       "\n",
       "                        })                };                });            </script>        </div>"
      ]
     },
     "metadata": {},
     "output_type": "display_data"
    }
   ],
   "source": [
    "# wee look for the rows of specific condidat then we remove the rows that has nan in country \n",
    "#then we group by avec country then we get the count then we sort  from big to low\n",
    "\n",
    "#for biden\n",
    "y = data.query('(condidat == \"Biden\")& (country != \"United States\")& (country != \"United States of America\") ').dropna(subset=['country']).groupby(by='country').count().tweet.sort_values(ascending=False)\n",
    "x = data.query('(condidat == \"Biden\")& (country != \"United States\")& (country != \"United States of America\") ').dropna(subset=['country']).groupby(by='country').count().tweet.sort_values(ascending=False).index\n",
    "#for trump\n",
    "y2 = data.query('(condidat == \"trump\")& (country != \"United States\")& (country != \"United States of America\") ').dropna(subset=['country']).groupby(by='country').count().tweet.sort_values(ascending=False)\n",
    "x2 = data.query('(condidat == \"trump\")& (country != \"United States\")& (country != \"United States of America\")').dropna(subset=['country']).groupby(by='country').count().tweet.sort_values(ascending=False).index\n",
    "\n",
    "fig = go.Figure([go.Bar(x=x, y=y, name='joe Biden'),\n",
    "                 go.Bar(x=x2, y=y2, name='donald Trump')])\n",
    "\n",
    "\n",
    "fig.update_layout(title_text='tweets count for each country usa not included')\n",
    "fig.update_xaxes(title='countries')\n",
    "fig.update_yaxes(title='tweet count')\n",
    "fig.show()"
   ]
  },
  {
   "cell_type": "markdown",
   "metadata": {
    "papermill": {
     "duration": 0.046771,
     "end_time": "2020-11-05T16:20:00.724572",
     "exception": false,
     "start_time": "2020-11-05T16:20:00.677801",
     "status": "completed"
    },
    "tags": []
   },
   "source": [
    "<h1>tweet count for each state</h1>"
   ]
  },
  {
   "cell_type": "code",
   "execution_count": 16,
   "metadata": {
    "execution": {
     "iopub.execute_input": "2020-11-05T16:20:00.832915Z",
     "iopub.status.busy": "2020-11-05T16:20:00.827743Z",
     "iopub.status.idle": "2020-11-05T16:20:02.787974Z",
     "shell.execute_reply": "2020-11-05T16:20:02.787103Z"
    },
    "papermill": {
     "duration": 2.017729,
     "end_time": "2020-11-05T16:20:02.788123",
     "exception": false,
     "start_time": "2020-11-05T16:20:00.770394",
     "status": "completed"
    },
    "tags": []
   },
   "outputs": [
    {
     "data": {
      "text/html": [
       "<div>                            <div id=\"5042d520-c7ea-4d3d-8614-d57c16f6c26c\" class=\"plotly-graph-div\" style=\"height:525px; width:100%;\"></div>            <script type=\"text/javascript\">                require([\"plotly\"], function(Plotly) {                    window.PLOTLYENV=window.PLOTLYENV || {};                                    if (document.getElementById(\"5042d520-c7ea-4d3d-8614-d57c16f6c26c\")) {                    Plotly.newPlot(                        \"5042d520-c7ea-4d3d-8614-d57c16f6c26c\",                        [{\"name\": \"joe Biden\", \"type\": \"bar\", \"x\": [\"California\", \"New York\", \"Texas\", \"Florida\", \"District of Columbia\", \"Pennsylvania\", \"Illinois\", \"Ohio\", \"New Jersey\", \"Massachusetts\", \"Arizona\", \"Michigan\", \"North Carolina\", \"Georgia\", \"Colorado\", \"Oregon\", \"Nevada\", \"Tennessee\", \"Virginia\", \"Washington\", \"Maryland\", \"Wisconsin\", \"Missouri\", \"Minnesota\", \"Indiana\", \"South Carolina\", \"Kentucky\", \"Louisiana\", \"Alabama\", \"Utah\", \"Connecticut\", \"Kansas\", \"Oklahoma\", \"Hawaii\", \"Iowa\", \"Puerto Rico\", \"Alaska\", \"Arkansas\", \"New Mexico\", \"West Virginia\", \"Idaho\", \"New Hampshire\", \"Nebraska\", \"Maine\", \"Montana\", \"Delaware\", \"Wyoming\", \"North Dakota\", \"Mississippi\", \"Rhode Island\", \"Vermont\", \"South Dakota\", \"Guam\", \"Northern Mariana Islands\"], \"y\": [17551, 14371, 10149, 9879, 4614, 3885, 3756, 3616, 2907, 2587, 2423, 2249, 2174, 2102, 1878, 1705, 1621, 1492, 1489, 1424, 1367, 1254, 1234, 1209, 962, 891, 795, 740, 680, 661, 642, 639, 563, 462, 419, 353, 349, 337, 302, 284, 284, 281, 265, 251, 249, 230, 207, 201, 200, 172, 170, 61, 3, 1]}, {\"name\": \"donald Trump\", \"type\": \"bar\", \"x\": [\"California\", \"New York\", \"Florida\", \"Texas\", \"District of Columbia\", \"Pennsylvania\", \"Illinois\", \"New Jersey\", \"Massachusetts\", \"Ohio\", \"Colorado\", \"North Carolina\", \"Oregon\", \"Michigan\", \"Arizona\", \"Washington\", \"Georgia\", \"Missouri\", \"Tennessee\", \"Virginia\", \"Nevada\", \"Maryland\", \"Minnesota\", \"Wisconsin\", \"Kentucky\", \"Indiana\", \"Connecticut\", \"Louisiana\", \"South Carolina\", \"Vermont\", \"Utah\", \"Kansas\", \"Iowa\", \"Oklahoma\", \"Alabama\", \"Hawaii\", \"Arkansas\", \"Idaho\", \"Puerto Rico\", \"North Dakota\", \"New Mexico\", \"Maine\", \"Nebraska\", \"Alaska\", \"West Virginia\", \"Wyoming\", \"New Hampshire\", \"Rhode Island\", \"Mississippi\", \"Delaware\", \"Montana\", \"South Dakota\", \"Guam\"], \"y\": [25539, 18500, 13987, 13247, 7897, 5818, 5519, 4147, 3978, 3135, 3078, 2833, 2690, 2502, 2329, 2241, 2183, 1960, 1914, 1911, 1873, 1798, 1537, 1184, 1105, 1049, 980, 918, 892, 797, 773, 751, 724, 658, 612, 588, 544, 489, 445, 389, 381, 360, 340, 257, 247, 228, 225, 216, 190, 169, 146, 45, 4]}],                        {\"template\": {\"data\": {\"bar\": [{\"error_x\": {\"color\": \"#2a3f5f\"}, \"error_y\": {\"color\": \"#2a3f5f\"}, \"marker\": {\"line\": {\"color\": \"#E5ECF6\", \"width\": 0.5}}, \"type\": \"bar\"}], \"barpolar\": [{\"marker\": {\"line\": {\"color\": \"#E5ECF6\", \"width\": 0.5}}, \"type\": \"barpolar\"}], \"carpet\": [{\"aaxis\": {\"endlinecolor\": \"#2a3f5f\", \"gridcolor\": \"white\", \"linecolor\": \"white\", \"minorgridcolor\": \"white\", \"startlinecolor\": \"#2a3f5f\"}, \"baxis\": {\"endlinecolor\": \"#2a3f5f\", \"gridcolor\": \"white\", \"linecolor\": \"white\", \"minorgridcolor\": \"white\", \"startlinecolor\": \"#2a3f5f\"}, \"type\": \"carpet\"}], \"choropleth\": [{\"colorbar\": {\"outlinewidth\": 0, \"ticks\": \"\"}, \"type\": \"choropleth\"}], \"contour\": [{\"colorbar\": {\"outlinewidth\": 0, \"ticks\": \"\"}, \"colorscale\": [[0.0, \"#0d0887\"], [0.1111111111111111, \"#46039f\"], [0.2222222222222222, \"#7201a8\"], [0.3333333333333333, \"#9c179e\"], [0.4444444444444444, \"#bd3786\"], [0.5555555555555556, \"#d8576b\"], [0.6666666666666666, \"#ed7953\"], [0.7777777777777778, \"#fb9f3a\"], [0.8888888888888888, \"#fdca26\"], [1.0, \"#f0f921\"]], \"type\": \"contour\"}], \"contourcarpet\": [{\"colorbar\": {\"outlinewidth\": 0, \"ticks\": \"\"}, \"type\": \"contourcarpet\"}], \"heatmap\": [{\"colorbar\": {\"outlinewidth\": 0, \"ticks\": \"\"}, \"colorscale\": [[0.0, \"#0d0887\"], [0.1111111111111111, \"#46039f\"], [0.2222222222222222, \"#7201a8\"], [0.3333333333333333, \"#9c179e\"], [0.4444444444444444, \"#bd3786\"], [0.5555555555555556, \"#d8576b\"], [0.6666666666666666, \"#ed7953\"], [0.7777777777777778, \"#fb9f3a\"], [0.8888888888888888, \"#fdca26\"], [1.0, \"#f0f921\"]], \"type\": \"heatmap\"}], \"heatmapgl\": [{\"colorbar\": {\"outlinewidth\": 0, \"ticks\": \"\"}, \"colorscale\": [[0.0, \"#0d0887\"], [0.1111111111111111, \"#46039f\"], [0.2222222222222222, \"#7201a8\"], [0.3333333333333333, \"#9c179e\"], [0.4444444444444444, \"#bd3786\"], [0.5555555555555556, \"#d8576b\"], [0.6666666666666666, \"#ed7953\"], [0.7777777777777778, \"#fb9f3a\"], [0.8888888888888888, \"#fdca26\"], [1.0, \"#f0f921\"]], \"type\": \"heatmapgl\"}], \"histogram\": [{\"marker\": {\"colorbar\": {\"outlinewidth\": 0, \"ticks\": \"\"}}, \"type\": \"histogram\"}], \"histogram2d\": [{\"colorbar\": {\"outlinewidth\": 0, \"ticks\": \"\"}, \"colorscale\": [[0.0, \"#0d0887\"], [0.1111111111111111, \"#46039f\"], [0.2222222222222222, \"#7201a8\"], [0.3333333333333333, \"#9c179e\"], [0.4444444444444444, \"#bd3786\"], [0.5555555555555556, \"#d8576b\"], [0.6666666666666666, \"#ed7953\"], [0.7777777777777778, \"#fb9f3a\"], [0.8888888888888888, \"#fdca26\"], [1.0, \"#f0f921\"]], \"type\": \"histogram2d\"}], \"histogram2dcontour\": [{\"colorbar\": {\"outlinewidth\": 0, \"ticks\": \"\"}, \"colorscale\": [[0.0, \"#0d0887\"], [0.1111111111111111, \"#46039f\"], [0.2222222222222222, \"#7201a8\"], [0.3333333333333333, \"#9c179e\"], [0.4444444444444444, \"#bd3786\"], [0.5555555555555556, \"#d8576b\"], [0.6666666666666666, \"#ed7953\"], [0.7777777777777778, \"#fb9f3a\"], [0.8888888888888888, \"#fdca26\"], [1.0, \"#f0f921\"]], \"type\": \"histogram2dcontour\"}], \"mesh3d\": [{\"colorbar\": {\"outlinewidth\": 0, \"ticks\": \"\"}, \"type\": \"mesh3d\"}], \"parcoords\": [{\"line\": {\"colorbar\": {\"outlinewidth\": 0, \"ticks\": \"\"}}, \"type\": \"parcoords\"}], \"pie\": [{\"automargin\": true, \"type\": \"pie\"}], \"scatter\": [{\"marker\": {\"colorbar\": {\"outlinewidth\": 0, \"ticks\": \"\"}}, \"type\": \"scatter\"}], \"scatter3d\": [{\"line\": {\"colorbar\": {\"outlinewidth\": 0, \"ticks\": \"\"}}, \"marker\": {\"colorbar\": {\"outlinewidth\": 0, \"ticks\": \"\"}}, \"type\": \"scatter3d\"}], \"scattercarpet\": [{\"marker\": {\"colorbar\": {\"outlinewidth\": 0, \"ticks\": \"\"}}, \"type\": \"scattercarpet\"}], \"scattergeo\": [{\"marker\": {\"colorbar\": {\"outlinewidth\": 0, \"ticks\": \"\"}}, \"type\": \"scattergeo\"}], \"scattergl\": [{\"marker\": {\"colorbar\": {\"outlinewidth\": 0, \"ticks\": \"\"}}, \"type\": \"scattergl\"}], \"scattermapbox\": [{\"marker\": {\"colorbar\": {\"outlinewidth\": 0, \"ticks\": \"\"}}, \"type\": \"scattermapbox\"}], \"scatterpolar\": [{\"marker\": {\"colorbar\": {\"outlinewidth\": 0, \"ticks\": \"\"}}, \"type\": \"scatterpolar\"}], \"scatterpolargl\": [{\"marker\": {\"colorbar\": {\"outlinewidth\": 0, \"ticks\": \"\"}}, \"type\": \"scatterpolargl\"}], \"scatterternary\": [{\"marker\": {\"colorbar\": {\"outlinewidth\": 0, \"ticks\": \"\"}}, \"type\": \"scatterternary\"}], \"surface\": [{\"colorbar\": {\"outlinewidth\": 0, \"ticks\": \"\"}, \"colorscale\": [[0.0, \"#0d0887\"], [0.1111111111111111, \"#46039f\"], [0.2222222222222222, \"#7201a8\"], [0.3333333333333333, \"#9c179e\"], [0.4444444444444444, \"#bd3786\"], [0.5555555555555556, \"#d8576b\"], [0.6666666666666666, \"#ed7953\"], [0.7777777777777778, \"#fb9f3a\"], [0.8888888888888888, \"#fdca26\"], [1.0, \"#f0f921\"]], \"type\": \"surface\"}], \"table\": [{\"cells\": {\"fill\": {\"color\": \"#EBF0F8\"}, \"line\": {\"color\": \"white\"}}, \"header\": {\"fill\": {\"color\": \"#C8D4E3\"}, \"line\": {\"color\": \"white\"}}, \"type\": \"table\"}]}, \"layout\": {\"annotationdefaults\": {\"arrowcolor\": \"#2a3f5f\", \"arrowhead\": 0, \"arrowwidth\": 1}, \"coloraxis\": {\"colorbar\": {\"outlinewidth\": 0, \"ticks\": \"\"}}, \"colorscale\": {\"diverging\": [[0, \"#8e0152\"], [0.1, \"#c51b7d\"], [0.2, \"#de77ae\"], [0.3, \"#f1b6da\"], [0.4, \"#fde0ef\"], [0.5, \"#f7f7f7\"], [0.6, \"#e6f5d0\"], [0.7, \"#b8e186\"], [0.8, \"#7fbc41\"], [0.9, \"#4d9221\"], [1, \"#276419\"]], \"sequential\": [[0.0, \"#0d0887\"], [0.1111111111111111, \"#46039f\"], [0.2222222222222222, \"#7201a8\"], [0.3333333333333333, \"#9c179e\"], [0.4444444444444444, \"#bd3786\"], [0.5555555555555556, \"#d8576b\"], [0.6666666666666666, \"#ed7953\"], [0.7777777777777778, \"#fb9f3a\"], [0.8888888888888888, \"#fdca26\"], [1.0, \"#f0f921\"]], \"sequentialminus\": [[0.0, \"#0d0887\"], [0.1111111111111111, \"#46039f\"], [0.2222222222222222, \"#7201a8\"], [0.3333333333333333, \"#9c179e\"], [0.4444444444444444, \"#bd3786\"], [0.5555555555555556, \"#d8576b\"], [0.6666666666666666, \"#ed7953\"], [0.7777777777777778, \"#fb9f3a\"], [0.8888888888888888, \"#fdca26\"], [1.0, \"#f0f921\"]]}, \"colorway\": [\"#636efa\", \"#EF553B\", \"#00cc96\", \"#ab63fa\", \"#FFA15A\", \"#19d3f3\", \"#FF6692\", \"#B6E880\", \"#FF97FF\", \"#FECB52\"], \"font\": {\"color\": \"#2a3f5f\"}, \"geo\": {\"bgcolor\": \"white\", \"lakecolor\": \"white\", \"landcolor\": \"#E5ECF6\", \"showlakes\": true, \"showland\": true, \"subunitcolor\": \"white\"}, \"hoverlabel\": {\"align\": \"left\"}, \"hovermode\": \"closest\", \"mapbox\": {\"style\": \"light\"}, \"paper_bgcolor\": \"white\", \"plot_bgcolor\": \"#E5ECF6\", \"polar\": {\"angularaxis\": {\"gridcolor\": \"white\", \"linecolor\": \"white\", \"ticks\": \"\"}, \"bgcolor\": \"#E5ECF6\", \"radialaxis\": {\"gridcolor\": \"white\", \"linecolor\": \"white\", \"ticks\": \"\"}}, \"scene\": {\"xaxis\": {\"backgroundcolor\": \"#E5ECF6\", \"gridcolor\": \"white\", \"gridwidth\": 2, \"linecolor\": \"white\", \"showbackground\": true, \"ticks\": \"\", \"zerolinecolor\": \"white\"}, \"yaxis\": {\"backgroundcolor\": \"#E5ECF6\", \"gridcolor\": \"white\", \"gridwidth\": 2, \"linecolor\": \"white\", \"showbackground\": true, \"ticks\": \"\", \"zerolinecolor\": \"white\"}, \"zaxis\": {\"backgroundcolor\": \"#E5ECF6\", \"gridcolor\": \"white\", \"gridwidth\": 2, \"linecolor\": \"white\", \"showbackground\": true, \"ticks\": \"\", \"zerolinecolor\": \"white\"}}, \"shapedefaults\": {\"line\": {\"color\": \"#2a3f5f\"}}, \"ternary\": {\"aaxis\": {\"gridcolor\": \"white\", \"linecolor\": \"white\", \"ticks\": \"\"}, \"baxis\": {\"gridcolor\": \"white\", \"linecolor\": \"white\", \"ticks\": \"\"}, \"bgcolor\": \"#E5ECF6\", \"caxis\": {\"gridcolor\": \"white\", \"linecolor\": \"white\", \"ticks\": \"\"}}, \"title\": {\"x\": 0.05}, \"xaxis\": {\"automargin\": true, \"gridcolor\": \"white\", \"linecolor\": \"white\", \"ticks\": \"\", \"title\": {\"standoff\": 15}, \"zerolinecolor\": \"white\", \"zerolinewidth\": 2}, \"yaxis\": {\"automargin\": true, \"gridcolor\": \"white\", \"linecolor\": \"white\", \"ticks\": \"\", \"title\": {\"standoff\": 15}, \"zerolinecolor\": \"white\", \"zerolinewidth\": 2}}}, \"title\": {\"text\": \"tweets count for each state\"}, \"xaxis\": {\"title\": {\"text\": \"states\"}}, \"yaxis\": {\"title\": {\"text\": \"tweet count\"}}},                        {\"responsive\": true}                    ).then(function(){\n",
       "                            \n",
       "var gd = document.getElementById('5042d520-c7ea-4d3d-8614-d57c16f6c26c');\n",
       "var x = new MutationObserver(function (mutations, observer) {{\n",
       "        var display = window.getComputedStyle(gd).display;\n",
       "        if (!display || display === 'none') {{\n",
       "            console.log([gd, 'removed!']);\n",
       "            Plotly.purge(gd);\n",
       "            observer.disconnect();\n",
       "        }}\n",
       "}});\n",
       "\n",
       "// Listen for the removal of the full notebook cells\n",
       "var notebookContainer = gd.closest('#notebook-container');\n",
       "if (notebookContainer) {{\n",
       "    x.observe(notebookContainer, {childList: true});\n",
       "}}\n",
       "\n",
       "// Listen for the clearing of the current output cell\n",
       "var outputEl = gd.closest('.output');\n",
       "if (outputEl) {{\n",
       "    x.observe(outputEl, {childList: true});\n",
       "}}\n",
       "\n",
       "                        })                };                });            </script>        </div>"
      ]
     },
     "metadata": {},
     "output_type": "display_data"
    }
   ],
   "source": [
    "# wee look for the rows of specific condidat then we remove the rows that has nan in country \n",
    "#then we group by avec country then #AmineAbouothmane we get the count then we sort  from big to low\n",
    "\n",
    "#for biden\n",
    "y = data.query('(condidat == \"Biden\")& (country == \"United States of America\") ').dropna(subset=['state']).groupby(by='state').count().tweet.sort_values(ascending=False)\n",
    "x = data.query('(condidat == \"Biden\")& (country == \"United States of America\") ').dropna(subset=['state']).groupby(by='state').count().tweet.sort_values(ascending=False).index\n",
    "#for trump\n",
    "y2 = data.query('(condidat == \"trump\")& (country == \"United States of America\") ').dropna(subset=['state']).groupby(by='state').count().tweet.sort_values(ascending=False)\n",
    "x2 = data.query('(condidat == \"trump\")& (country == \"United States of America\")').dropna(subset=['state']).groupby(by='state').count().tweet.sort_values(ascending=False).index\n",
    "\n",
    "fig = go.Figure([go.Bar(x=x, y=y, name='joe Biden'),\n",
    "                 go.Bar(x=x2, y=y2, name='donald Trump')])\n",
    "\n",
    "\n",
    "fig.update_layout(title_text='tweets count for each state')\n",
    "fig.update_xaxes(title='states')\n",
    "fig.update_yaxes(title='tweet count')\n",
    "fig.show()\n"
   ]
  },
  {
   "cell_type": "markdown",
   "metadata": {
    "papermill": {
     "duration": 0.052763,
     "end_time": "2020-11-05T16:20:02.888707",
     "exception": false,
     "start_time": "2020-11-05T16:20:02.835944",
     "status": "completed"
    },
    "tags": []
   },
   "source": [
    "<h1>tweet likes </h1>"
   ]
  },
  {
   "cell_type": "code",
   "execution_count": 17,
   "metadata": {
    "execution": {
     "iopub.execute_input": "2020-11-05T16:20:03.010503Z",
     "iopub.status.busy": "2020-11-05T16:20:03.009375Z",
     "iopub.status.idle": "2020-11-05T16:20:03.361028Z",
     "shell.execute_reply": "2020-11-05T16:20:03.360046Z"
    },
    "papermill": {
     "duration": 0.425913,
     "end_time": "2020-11-05T16:20:03.361233",
     "exception": false,
     "start_time": "2020-11-05T16:20:02.935320",
     "status": "completed"
    },
    "tags": []
   },
   "outputs": [
    {
     "data": {
      "text/plain": [
       "<matplotlib.axes._subplots.AxesSubplot at 0x7f0d8d1a9c90>"
      ]
     },
     "execution_count": 17,
     "metadata": {},
     "output_type": "execute_result"
    },
    {
     "data": {
      "image/png": "[encoded data removed]",
      "text/plain": [
       "<Figure size 432x288 with 1 Axes>"
      ]
     },
     "metadata": {
      "needs_background": "light"
     },
     "output_type": "display_data"
    }
   ],
   "source": [
    "y = data.groupby('condidat').likes.count()\n",
    "y.plot(x='condidate',y=\"likes\",kind='bar',title='tweet likes')\n",
    "\n"
   ]
  },
  {
   "cell_type": "markdown",
   "metadata": {
    "papermill": {
     "duration": 0.051726,
     "end_time": "2020-11-05T16:20:03.477225",
     "exception": false,
     "start_time": "2020-11-05T16:20:03.425499",
     "status": "completed"
    },
    "tags": []
   },
   "source": [
    "<h1>top 5 sources</h1>"
   ]
  },
  {
   "cell_type": "code",
   "execution_count": 18,
   "metadata": {
    "execution": {
     "iopub.execute_input": "2020-11-05T16:20:03.587808Z",
     "iopub.status.busy": "2020-11-05T16:20:03.586969Z",
     "iopub.status.idle": "2020-11-05T16:20:08.394629Z",
     "shell.execute_reply": "2020-11-05T16:20:08.393902Z"
    },
    "papermill": {
     "duration": 4.869705,
     "end_time": "2020-11-05T16:20:08.394773",
     "exception": false,
     "start_time": "2020-11-05T16:20:03.525068",
     "status": "completed"
    },
    "tags": []
   },
   "outputs": [
    {
     "data": {
      "text/html": [
       "<div>                            <div id=\"d2e1467a-bd42-4a63-972a-969ae7f46fa0\" class=\"plotly-graph-div\" style=\"height:525px; width:100%;\"></div>            <script type=\"text/javascript\">                require([\"plotly\"], function(Plotly) {                    window.PLOTLYENV=window.PLOTLYENV || {};                                    if (document.getElementById(\"d2e1467a-bd42-4a63-972a-969ae7f46fa0\")) {                    Plotly.newPlot(                        \"d2e1467a-bd42-4a63-972a-969ae7f46fa0\",                        [{\"name\": \"Biden\", \"type\": \"bar\", \"x\": [\"Twitter Web App\", \"Twitter for iPhone\", \"Twitter for Android\", \"Twitter for iPad\", \"TweetDeck\"], \"y\": [155825, 141178, 110766, 18339, 7475]}, {\"name\": \"trump\", \"type\": \"bar\", \"x\": [\"Twitter Web App\", \"Twitter for iPhone\", \"Twitter for Android\", \"Twitter for iPad\", \"TweetDeck\"], \"y\": [240988, 193906, 180361, 27130, 13077]}],                        {\"template\": {\"data\": {\"bar\": [{\"error_x\": {\"color\": \"#2a3f5f\"}, \"error_y\": {\"color\": \"#2a3f5f\"}, \"marker\": {\"line\": {\"color\": \"#E5ECF6\", \"width\": 0.5}}, \"type\": \"bar\"}], \"barpolar\": [{\"marker\": {\"line\": {\"color\": \"#E5ECF6\", \"width\": 0.5}}, \"type\": \"barpolar\"}], \"carpet\": [{\"aaxis\": {\"endlinecolor\": \"#2a3f5f\", \"gridcolor\": \"white\", \"linecolor\": \"white\", \"minorgridcolor\": \"white\", \"startlinecolor\": \"#2a3f5f\"}, \"baxis\": {\"endlinecolor\": \"#2a3f5f\", \"gridcolor\": \"white\", \"linecolor\": \"white\", \"minorgridcolor\": \"white\", \"startlinecolor\": \"#2a3f5f\"}, \"type\": \"carpet\"}], \"choropleth\": [{\"colorbar\": {\"outlinewidth\": 0, \"ticks\": \"\"}, \"type\": \"choropleth\"}], \"contour\": [{\"colorbar\": {\"outlinewidth\": 0, \"ticks\": \"\"}, \"colorscale\": [[0.0, \"#0d0887\"], [0.1111111111111111, \"#46039f\"], [0.2222222222222222, \"#7201a8\"], [0.3333333333333333, \"#9c179e\"], [0.4444444444444444, \"#bd3786\"], [0.5555555555555556, \"#d8576b\"], [0.6666666666666666, \"#ed7953\"], [0.7777777777777778, \"#fb9f3a\"], [0.8888888888888888, \"#fdca26\"], [1.0, \"#f0f921\"]], \"type\": \"contour\"}], \"contourcarpet\": [{\"colorbar\": {\"outlinewidth\": 0, \"ticks\": \"\"}, \"type\": \"contourcarpet\"}], \"heatmap\": [{\"colorbar\": {\"outlinewidth\": 0, \"ticks\": \"\"}, \"colorscale\": [[0.0, \"#0d0887\"], [0.1111111111111111, \"#46039f\"], [0.2222222222222222, \"#7201a8\"], [0.3333333333333333, \"#9c179e\"], [0.4444444444444444, \"#bd3786\"], [0.5555555555555556, \"#d8576b\"], [0.6666666666666666, \"#ed7953\"], [0.7777777777777778, \"#fb9f3a\"], [0.8888888888888888, \"#fdca26\"], [1.0, \"#f0f921\"]], \"type\": \"heatmap\"}], \"heatmapgl\": [{\"colorbar\": {\"outlinewidth\": 0, \"ticks\": \"\"}, \"colorscale\": [[0.0, \"#0d0887\"], [0.1111111111111111, \"#46039f\"], [0.2222222222222222, \"#7201a8\"], [0.3333333333333333, \"#9c179e\"], [0.4444444444444444, \"#bd3786\"], [0.5555555555555556, \"#d8576b\"], [0.6666666666666666, \"#ed7953\"], [0.7777777777777778, \"#fb9f3a\"], [0.8888888888888888, \"#fdca26\"], [1.0, \"#f0f921\"]], \"type\": \"heatmapgl\"}], \"histogram\": [{\"marker\": {\"colorbar\": {\"outlinewidth\": 0, \"ticks\": \"\"}}, \"type\": \"histogram\"}], \"histogram2d\": [{\"colorbar\": {\"outlinewidth\": 0, \"ticks\": \"\"}, \"colorscale\": [[0.0, \"#0d0887\"], [0.1111111111111111, \"#46039f\"], [0.2222222222222222, \"#7201a8\"], [0.3333333333333333, \"#9c179e\"], [0.4444444444444444, \"#bd3786\"], [0.5555555555555556, \"#d8576b\"], [0.6666666666666666, \"#ed7953\"], [0.7777777777777778, \"#fb9f3a\"], [0.8888888888888888, \"#fdca26\"], [1.0, \"#f0f921\"]], \"type\": \"histogram2d\"}], \"histogram2dcontour\": [{\"colorbar\": {\"outlinewidth\": 0, \"ticks\": \"\"}, \"colorscale\": [[0.0, \"#0d0887\"], [0.1111111111111111, \"#46039f\"], [0.2222222222222222, \"#7201a8\"], [0.3333333333333333, \"#9c179e\"], [0.4444444444444444, \"#bd3786\"], [0.5555555555555556, \"#d8576b\"], [0.6666666666666666, \"#ed7953\"], [0.7777777777777778, \"#fb9f3a\"], [0.8888888888888888, \"#fdca26\"], [1.0, \"#f0f921\"]], \"type\": \"histogram2dcontour\"}], \"mesh3d\": [{\"colorbar\": {\"outlinewidth\": 0, \"ticks\": \"\"}, \"type\": \"mesh3d\"}], \"parcoords\": [{\"line\": {\"colorbar\": {\"outlinewidth\": 0, \"ticks\": \"\"}}, \"type\": \"parcoords\"}], \"pie\": [{\"automargin\": true, \"type\": \"pie\"}], \"scatter\": [{\"marker\": {\"colorbar\": {\"outlinewidth\": 0, \"ticks\": \"\"}}, \"type\": \"scatter\"}], \"scatter3d\": [{\"line\": {\"colorbar\": {\"outlinewidth\": 0, \"ticks\": \"\"}}, \"marker\": {\"colorbar\": {\"outlinewidth\": 0, \"ticks\": \"\"}}, \"type\": \"scatter3d\"}], \"scattercarpet\": [{\"marker\": {\"colorbar\": {\"outlinewidth\": 0, \"ticks\": \"\"}}, \"type\": \"scattercarpet\"}], \"scattergeo\": [{\"marker\": {\"colorbar\": {\"outlinewidth\": 0, \"ticks\": \"\"}}, \"type\": \"scattergeo\"}], \"scattergl\": [{\"marker\": {\"colorbar\": {\"outlinewidth\": 0, \"ticks\": \"\"}}, \"type\": \"scattergl\"}], \"scattermapbox\": [{\"marker\": {\"colorbar\": {\"outlinewidth\": 0, \"ticks\": \"\"}}, \"type\": \"scattermapbox\"}], \"scatterpolar\": [{\"marker\": {\"colorbar\": {\"outlinewidth\": 0, \"ticks\": \"\"}}, \"type\": \"scatterpolar\"}], \"scatterpolargl\": [{\"marker\": {\"colorbar\": {\"outlinewidth\": 0, \"ticks\": \"\"}}, \"type\": \"scatterpolargl\"}], \"scatterternary\": [{\"marker\": {\"colorbar\": {\"outlinewidth\": 0, \"ticks\": \"\"}}, \"type\": \"scatterternary\"}], \"surface\": [{\"colorbar\": {\"outlinewidth\": 0, \"ticks\": \"\"}, \"colorscale\": [[0.0, \"#0d0887\"], [0.1111111111111111, \"#46039f\"], [0.2222222222222222, \"#7201a8\"], [0.3333333333333333, \"#9c179e\"], [0.4444444444444444, \"#bd3786\"], [0.5555555555555556, \"#d8576b\"], [0.6666666666666666, \"#ed7953\"], [0.7777777777777778, \"#fb9f3a\"], [0.8888888888888888, \"#fdca26\"], [1.0, \"#f0f921\"]], \"type\": \"surface\"}], \"table\": [{\"cells\": {\"fill\": {\"color\": \"#EBF0F8\"}, \"line\": {\"color\": \"white\"}}, \"header\": {\"fill\": {\"color\": \"#C8D4E3\"}, \"line\": {\"color\": \"white\"}}, \"type\": \"table\"}]}, \"layout\": {\"annotationdefaults\": {\"arrowcolor\": \"#2a3f5f\", \"arrowhead\": 0, \"arrowwidth\": 1}, \"coloraxis\": {\"colorbar\": {\"outlinewidth\": 0, \"ticks\": \"\"}}, \"colorscale\": {\"diverging\": [[0, \"#8e0152\"], [0.1, \"#c51b7d\"], [0.2, \"#de77ae\"], [0.3, \"#f1b6da\"], [0.4, \"#fde0ef\"], [0.5, \"#f7f7f7\"], [0.6, \"#e6f5d0\"], [0.7, \"#b8e186\"], [0.8, \"#7fbc41\"], [0.9, \"#4d9221\"], [1, \"#276419\"]], \"sequential\": [[0.0, \"#0d0887\"], [0.1111111111111111, \"#46039f\"], [0.2222222222222222, \"#7201a8\"], [0.3333333333333333, \"#9c179e\"], [0.4444444444444444, \"#bd3786\"], [0.5555555555555556, \"#d8576b\"], [0.6666666666666666, \"#ed7953\"], [0.7777777777777778, \"#fb9f3a\"], [0.8888888888888888, \"#fdca26\"], [1.0, \"#f0f921\"]], \"sequentialminus\": [[0.0, \"#0d0887\"], [0.1111111111111111, \"#46039f\"], [0.2222222222222222, \"#7201a8\"], [0.3333333333333333, \"#9c179e\"], [0.4444444444444444, \"#bd3786\"], [0.5555555555555556, \"#d8576b\"], [0.6666666666666666, \"#ed7953\"], [0.7777777777777778, \"#fb9f3a\"], [0.8888888888888888, \"#fdca26\"], [1.0, \"#f0f921\"]]}, \"colorway\": [\"#636efa\", \"#EF553B\", \"#00cc96\", \"#ab63fa\", \"#FFA15A\", \"#19d3f3\", \"#FF6692\", \"#B6E880\", \"#FF97FF\", \"#FECB52\"], \"font\": {\"color\": \"#2a3f5f\"}, \"geo\": {\"bgcolor\": \"white\", \"lakecolor\": \"white\", \"landcolor\": \"#E5ECF6\", \"showlakes\": true, \"showland\": true, \"subunitcolor\": \"white\"}, \"hoverlabel\": {\"align\": \"left\"}, \"hovermode\": \"closest\", \"mapbox\": {\"style\": \"light\"}, \"paper_bgcolor\": \"white\", \"plot_bgcolor\": \"#E5ECF6\", \"polar\": {\"angularaxis\": {\"gridcolor\": \"white\", \"linecolor\": \"white\", \"ticks\": \"\"}, \"bgcolor\": \"#E5ECF6\", \"radialaxis\": {\"gridcolor\": \"white\", \"linecolor\": \"white\", \"ticks\": \"\"}}, \"scene\": {\"xaxis\": {\"backgroundcolor\": \"#E5ECF6\", \"gridcolor\": \"white\", \"gridwidth\": 2, \"linecolor\": \"white\", \"showbackground\": true, \"ticks\": \"\", \"zerolinecolor\": \"white\"}, \"yaxis\": {\"backgroundcolor\": \"#E5ECF6\", \"gridcolor\": \"white\", \"gridwidth\": 2, \"linecolor\": \"white\", \"showbackground\": true, \"ticks\": \"\", \"zerolinecolor\": \"white\"}, \"zaxis\": {\"backgroundcolor\": \"#E5ECF6\", \"gridcolor\": \"white\", \"gridwidth\": 2, \"linecolor\": \"white\", \"showbackground\": true, \"ticks\": \"\", \"zerolinecolor\": \"white\"}}, \"shapedefaults\": {\"line\": {\"color\": \"#2a3f5f\"}}, \"ternary\": {\"aaxis\": {\"gridcolor\": \"white\", \"linecolor\": \"white\", \"ticks\": \"\"}, \"baxis\": {\"gridcolor\": \"white\", \"linecolor\": \"white\", \"ticks\": \"\"}, \"bgcolor\": \"#E5ECF6\", \"caxis\": {\"gridcolor\": \"white\", \"linecolor\": \"white\", \"ticks\": \"\"}}, \"title\": {\"x\": 0.05}, \"xaxis\": {\"automargin\": true, \"gridcolor\": \"white\", \"linecolor\": \"white\", \"ticks\": \"\", \"title\": {\"standoff\": 15}, \"zerolinecolor\": \"white\", \"zerolinewidth\": 2}, \"yaxis\": {\"automargin\": true, \"gridcolor\": \"white\", \"linecolor\": \"white\", \"ticks\": \"\", \"title\": {\"standoff\": 15}, \"zerolinecolor\": \"white\", \"zerolinewidth\": 2}}}, \"title\": {\"text\": \"top 5 sources\"}, \"xaxis\": {\"title\": {\"text\": \"sources\"}}, \"yaxis\": {\"title\": {\"text\": \"tweets count\"}}},                        {\"responsive\": true}                    ).then(function(){\n",
       "                            \n",
       "var gd = document.getElementById('d2e1467a-bd42-4a63-972a-969ae7f46fa0');\n",
       "var x = new MutationObserver(function (mutations, observer) {{\n",
       "        var display = window.getComputedStyle(gd).display;\n",
       "        if (!display || display === 'none') {{\n",
       "            console.log([gd, 'removed!']);\n",
       "            Plotly.purge(gd);\n",
       "            observer.disconnect();\n",
       "        }}\n",
       "}});\n",
       "\n",
       "// Listen for the removal of the full notebook cells\n",
       "var notebookContainer = gd.closest('#notebook-container');\n",
       "if (notebookContainer) {{\n",
       "    x.observe(notebookContainer, {childList: true});\n",
       "}}\n",
       "\n",
       "// Listen for the clearing of the current output cell\n",
       "var outputEl = gd.closest('.output');\n",
       "if (outputEl) {{\n",
       "    x.observe(outputEl, {childList: true});\n",
       "}}\n",
       "\n",
       "                        })                };                });            </script>        </div>"
      ]
     },
     "metadata": {},
     "output_type": "display_data"
    }
   ],
   "source": [
    "y = data.query('(condidat == \"Biden\") ').groupby(by='source').count().tweet.sort_values(ascending=False)[:5]\n",
    "x = data.query('(condidat == \"Biden\") ').groupby(by='source').count().tweet.sort_values(ascending=False)[:5].index\n",
    "y2 = data.query('(condidat == \"trump\") ').groupby(by='source').count().tweet.sort_values(ascending=False)[:5]\n",
    "x2 = data.query('(condidat == \"trump\") ').groupby(by='source').count().tweet.sort_values(ascending=False)[:5].index\n",
    "fig = go.Figure([go.Bar(x=x, y=y, name='Biden'),go.Bar(x=x2, y=y2, name='trump')])\n",
    "\n",
    "# Customize aspect\n",
    "fig.update_layout(title_text='top 5 sources')\n",
    "fig.update_xaxes(title='sources')\n",
    "fig.update_yaxes(title='tweets count')\n",
    "fig.show()"
   ]
  },
  {
   "cell_type": "markdown",
   "metadata": {
    "papermill": {
     "duration": 0.050044,
     "end_time": "2020-11-05T16:20:08.496472",
     "exception": false,
     "start_time": "2020-11-05T16:20:08.446428",
     "status": "completed"
    },
    "tags": []
   },
   "source": [
    "<h1>tweet count in country \"morocco\" </h1>"
   ]
  },
  {
   "cell_type": "code",
   "execution_count": 19,
   "metadata": {
    "execution": {
     "iopub.execute_input": "2020-11-05T16:20:08.728475Z",
     "iopub.status.busy": "2020-11-05T16:20:08.727340Z",
     "iopub.status.idle": "2020-11-05T16:20:08.888562Z",
     "shell.execute_reply": "2020-11-05T16:20:08.887971Z"
    },
    "papermill": {
     "duration": 0.342186,
     "end_time": "2020-11-05T16:20:08.888707",
     "exception": false,
     "start_time": "2020-11-05T16:20:08.546521",
     "status": "completed"
    },
    "tags": []
   },
   "outputs": [
    {
     "data": {
      "text/plain": [
       "<matplotlib.axes._subplots.AxesSubplot at 0x7f0d835d7d90>"
      ]
     },
     "execution_count": 19,
     "metadata": {},
     "output_type": "execute_result"
    },
    {
     "data": {
      "image/png": "[encoded data removed]",
      "text/plain": [
       "<Figure size 432x288 with 1 Axes>"
      ]
     },
     "metadata": {
      "needs_background": "light"
     },
     "output_type": "display_data"
    }
   ],
   "source": [
    "country=\"Morocco\"\n",
    "a=data[data.country==country].groupby('condidat').tweet.count()\n",
    "a.plot(x='condidate',y=\"tweet\",kind='bar',title=\"tweet count in country 'morocco'\")\n",
    "\n"
   ]
  },
  {
   "cell_type": "code",
   "execution_count": 20,
   "metadata": {
    "execution": {
     "iopub.execute_input": "2020-11-05T16:20:09.010831Z",
     "iopub.status.busy": "2020-11-05T16:20:09.008948Z",
     "iopub.status.idle": "2020-11-05T16:20:09.073833Z",
     "shell.execute_reply": "2020-11-05T16:20:09.072929Z"
    },
    "papermill": {
     "duration": 0.133849,
     "end_time": "2020-11-05T16:20:09.073975",
     "exception": false,
     "start_time": "2020-11-05T16:20:08.940126",
     "status": "completed"
    },
    "tags": []
   },
   "outputs": [
    {
     "data": {
      "text/plain": [
       "<matplotlib.axes._subplots.AxesSubplot at 0x7f0db2118950>"
      ]
     },
     "execution_count": 20,
     "metadata": {},
     "output_type": "execute_result"
    },
    {
     "data": {
      "image/png": "[encoded data removed]",
      "text/plain": [
       "<Figure size 432x288 with 1 Axes>"
      ]
     },
     "metadata": {},
     "output_type": "display_data"
    }
   ],
   "source": [
    "a.plot(x='condidate',y=\"tweet\",kind='pie',title=\"tweet count in country 'morocco'\")"
   ]
  },
  {
   "cell_type": "markdown",
   "metadata": {
    "papermill": {
     "duration": 0.052175,
     "end_time": "2020-11-05T16:20:09.178929",
     "exception": false,
     "start_time": "2020-11-05T16:20:09.126754",
     "status": "completed"
    },
    "tags": []
   },
   "source": [
    "<h2>example of word tokenz</h2>"
   ]
  },
  {
   "cell_type": "code",
   "execution_count": 21,
   "metadata": {
    "execution": {
     "iopub.execute_input": "2020-11-05T16:20:09.306517Z",
     "iopub.status.busy": "2020-11-05T16:20:09.305665Z",
     "iopub.status.idle": "2020-11-05T16:20:49.425366Z",
     "shell.execute_reply": "2020-11-05T16:20:49.424500Z"
    },
    "papermill": {
     "duration": 40.193633,
     "end_time": "2020-11-05T16:20:49.425578",
     "exception": false,
     "start_time": "2020-11-05T16:20:09.231945",
     "status": "completed"
    },
    "tags": []
   },
   "outputs": [
    {
     "name": "stdout",
     "output_type": "stream",
     "text": [
      "[nltk_data] Error loading stopwords: <urlopen error [Errno -3]\n",
      "[nltk_data]     Temporary failure in name resolution>\n",
      "[nltk_data] Error loading punkt: <urlopen error [Errno -3] Temporary\n",
      "[nltk_data]     failure in name resolution>\n"
     ]
    },
    {
     "data": {
      "text/plain": [
       "False"
      ]
     },
     "execution_count": 21,
     "metadata": {},
     "output_type": "execute_result"
    }
   ],
   "source": [
    "from nltk.tokenize import word_tokenize\n",
    "import nltk\n",
    "from nltk.corpus import stopwords\n",
    "nltk.download('stopwords')\n",
    "nltk.download('punkt')"
   ]
  },
  {
   "cell_type": "code",
   "execution_count": 22,
   "metadata": {
    "execution": {
     "iopub.execute_input": "2020-11-05T16:20:49.541655Z",
     "iopub.status.busy": "2020-11-05T16:20:49.540677Z",
     "iopub.status.idle": "2020-11-05T16:20:49.566008Z",
     "shell.execute_reply": "2020-11-05T16:20:49.565298Z"
    },
    "papermill": {
     "duration": 0.086579,
     "end_time": "2020-11-05T16:20:49.566151",
     "exception": false,
     "start_time": "2020-11-05T16:20:49.479572",
     "status": "completed"
    },
    "tags": []
   },
   "outputs": [
    {
     "name": "stdout",
     "output_type": "stream",
     "text": [
      "['This', 'is', 'a', 'sample', 'words', 'sentence', ',', 'showing', 'off', 'the', 'stop', 'words', 'filtration', 'sentence', '.']\n",
      "['This', 'sample', 'words', 'sentence', ',', 'showing', 'stop', 'words', 'filtration', 'sentence', '.']\n"
     ]
    }
   ],
   "source": [
    "\n",
    "\n",
    "example_sent = \"This is a sample words sentence, showing off the stop words filtration sentence.\"\n",
    "\n",
    "\n",
    "stop_words = set(stopwords.words('english'))\n",
    "\n",
    "word_tokens = word_tokenize(example_sent)\n",
    "\n",
    "filtered_sentence = [w for w in word_tokens if not w in stop_words]\n",
    "\n",
    "filtered_sentence = []\n",
    "\n",
    "for w in word_tokens:\n",
    "    if w not in stop_words:\n",
    "        filtered_sentence.append(w)\n",
    "#AmineAbouothmane\n",
    "print(word_tokens)\n",
    "print(filtered_sentence)"
   ]
  },
  {
   "cell_type": "code",
   "execution_count": 23,
   "metadata": {
    "execution": {
     "iopub.execute_input": "2020-11-05T16:20:49.683396Z",
     "iopub.status.busy": "2020-11-05T16:20:49.682459Z",
     "iopub.status.idle": "2020-11-05T16:20:49.687114Z",
     "shell.execute_reply": "2020-11-05T16:20:49.686474Z"
    },
    "papermill": {
     "duration": 0.065573,
     "end_time": "2020-11-05T16:20:49.687251",
     "exception": false,
     "start_time": "2020-11-05T16:20:49.621678",
     "status": "completed"
    },
    "tags": []
   },
   "outputs": [
    {
     "data": {
      "text/plain": [
       "FreqDist({'words': 2, 'sentence': 2, 'this': 1, 'sample': 1, ',': 1, 'showing': 1, 'stop': 1, 'filtration': 1, '.': 1})"
      ]
     },
     "execution_count": 23,
     "metadata": {},
     "output_type": "execute_result"
    }
   ],
   "source": [
    "from nltk.probability import FreqDist\n",
    "fdist=FreqDist()\n",
    "for word in filtered_sentence:\n",
    "    fdist[word.lower()]+=1\n",
    "fdist"
   ]
  },
  {
   "cell_type": "code",
   "execution_count": 24,
   "metadata": {
    "execution": {
     "iopub.execute_input": "2020-11-05T16:20:49.807249Z",
     "iopub.status.busy": "2020-11-05T16:20:49.806257Z",
     "iopub.status.idle": "2020-11-05T16:20:49.809770Z",
     "shell.execute_reply": "2020-11-05T16:20:49.809043Z"
    },
    "papermill": {
     "duration": 0.067544,
     "end_time": "2020-11-05T16:20:49.809906",
     "exception": false,
     "start_time": "2020-11-05T16:20:49.742362",
     "status": "completed"
    },
    "tags": []
   },
   "outputs": [],
   "source": [
    "def Tokenization(text):\n",
    "    stop_words = set(stopwords.words('english'))\n",
    "\n",
    "    word_tokens = word_tokenize(text)\n",
    "\n",
    "    filtered_sentence = [w for w in word_tokens if not w in stop_words]\n",
    "\n",
    "    filtered_sentence = []\n",
    "\n",
    "    for w in word_tokens:\n",
    "        if w not in stop_words:\n",
    "            filtered_sentence.append(w)\n",
    "    fdist=FreqDist()\n",
    "    for word in filtered_sentence:\n",
    "        fdist[word.lower()]+=1\n",
    "    return fdist"
   ]
  },
  {
   "cell_type": "code",
   "execution_count": 25,
   "metadata": {
    "execution": {
     "iopub.execute_input": "2020-11-05T16:20:49.929112Z",
     "iopub.status.busy": "2020-11-05T16:20:49.928191Z",
     "iopub.status.idle": "2020-11-05T16:20:49.933098Z",
     "shell.execute_reply": "2020-11-05T16:20:49.933674Z"
    },
    "papermill": {
     "duration": 0.069007,
     "end_time": "2020-11-05T16:20:49.933850",
     "exception": false,
     "start_time": "2020-11-05T16:20:49.864843",
     "status": "completed"
    },
    "tags": []
   },
   "outputs": [
    {
     "name": "stdout",
     "output_type": "stream",
     "text": [
      " hello     ohmygod     \n"
     ]
    }
   ],
   "source": [
    "#regular expression\n",
    "import re\n",
    "\n",
    "t='@fazf hello !! https://pythonprogramming.net/ ohmygod ??, '\n",
    "def cleanText(text):\n",
    "    try:\n",
    "        # remove @name and links and retweet and hashtags and symbols in the tweet\n",
    "        text=re.sub(r'@[A-Za-z0-9]+','',text)\n",
    "        text=re.sub(r'#','',text)\n",
    "        text=re.sub(r'RT[\\s]+','',text)\n",
    "        text=re.sub(r'https?:\\/\\/\\S+','',text)\n",
    "        text=re.sub(r'[^\\w]', ' ', text)\n",
    "    except:\n",
    "        pass\n",
    "    return text\n",
    "print(cleanText(t))"
   ]
  },
  {
   "cell_type": "markdown",
   "metadata": {
    "papermill": {
     "duration": 0.054793,
     "end_time": "2020-11-05T16:20:50.044107",
     "exception": false,
     "start_time": "2020-11-05T16:20:49.989314",
     "status": "completed"
    },
    "tags": []
   },
   "source": [
    "<h1> Sentiment Analysis</h1>"
   ]
  },
  {
   "cell_type": "code",
   "execution_count": 26,
   "metadata": {
    "execution": {
     "iopub.execute_input": "2020-11-05T16:20:50.165535Z",
     "iopub.status.busy": "2020-11-05T16:20:50.164683Z",
     "iopub.status.idle": "2020-11-05T16:20:52.043789Z",
     "shell.execute_reply": "2020-11-05T16:20:52.043180Z"
    },
    "papermill": {
     "duration": 1.94383,
     "end_time": "2020-11-05T16:20:52.043924",
     "exception": false,
     "start_time": "2020-11-05T16:20:50.100094",
     "status": "completed"
    },
    "tags": []
   },
   "outputs": [
    {
     "data": {
      "text/html": [
       "<div>\n",
       "<style scoped>\n",
       "    .dataframe tbody tr th:only-of-type {\n",
       "        vertical-align: middle;\n",
       "    }\n",
       "\n",
       "    .dataframe tbody tr th {\n",
       "        vertical-align: top;\n",
       "    }\n",
       "\n",
       "    .dataframe thead th {\n",
       "        text-align: right;\n",
       "    }\n",
       "</style>\n",
       "<table border=\"1\" class=\"dataframe\">\n",
       "  <thead>\n",
       "    <tr style=\"text-align: right;\">\n",
       "      <th></th>\n",
       "      <th>tweet</th>\n",
       "      <th>country</th>\n",
       "      <th>ClearTweet</th>\n",
       "    </tr>\n",
       "  </thead>\n",
       "  <tbody>\n",
       "    <tr>\n",
       "      <th>0</th>\n",
       "      <td>President Donald #Trump’s youngest daughter, T...</td>\n",
       "      <td>United States of America</td>\n",
       "      <td>President Donald Trump s youngest daughter  Ti...</td>\n",
       "    </tr>\n",
       "    <tr>\n",
       "      <th>1</th>\n",
       "      <td>Woah. Have you read this article?\\n\\nAll the p...</td>\n",
       "      <td>United States of America</td>\n",
       "      <td>Woah  Have you read this article   All the pre...</td>\n",
       "    </tr>\n",
       "    <tr>\n",
       "      <th>2</th>\n",
       "      <td>#LadyGaga fired back at #DonaldTrump's team ht...</td>\n",
       "      <td>United States of America</td>\n",
       "      <td>LadyGaga fired back at DonaldTrump s team</td>\n",
       "    </tr>\n",
       "    <tr>\n",
       "      <th>3</th>\n",
       "      <td>Minuto a minuto: #Trump gana los estados decis...</td>\n",
       "      <td>United States of America</td>\n",
       "      <td>Minuto a minuto  Trump gana los estados decisi...</td>\n",
       "    </tr>\n",
       "    <tr>\n",
       "      <th>4</th>\n",
       "      <td>#Trump Habla en segundos. Todavía nada está de...</td>\n",
       "      <td>United States of America</td>\n",
       "      <td>Trump Habla en segundos  Todavía nada está def...</td>\n",
       "    </tr>\n",
       "    <tr>\n",
       "      <th>...</th>\n",
       "      <td>...</td>\n",
       "      <td>...</td>\n",
       "      <td>...</td>\n",
       "    </tr>\n",
       "    <tr>\n",
       "      <th>995</th>\n",
       "      <td>#Trump has nothing, absolutely nothing to run ...</td>\n",
       "      <td>United States of America</td>\n",
       "      <td>Trump has nothing  absolutely nothing to run o...</td>\n",
       "    </tr>\n",
       "    <tr>\n",
       "      <th>996</th>\n",
       "      <td>Seek God + His way thru for you this month com...</td>\n",
       "      <td>United States of America</td>\n",
       "      <td>Seek God   His way thru for you this month com...</td>\n",
       "    </tr>\n",
       "    <tr>\n",
       "      <th>997</th>\n",
       "      <td>This is why we vote Trump / Pence 2020! Save A...</td>\n",
       "      <td>United States of America</td>\n",
       "      <td>This is why we vote Trump   Pence 2020  Save A...</td>\n",
       "    </tr>\n",
       "    <tr>\n",
       "      <th>998</th>\n",
       "      <td>@nominm @haliun_87 Юугаа ч мэдэхгүй цээжилсэн ...</td>\n",
       "      <td>United States of America</td>\n",
       "      <td>_87 Юугаа ч мэдэхгүй цээжилсэн ганц нэрээ дав...</td>\n",
       "    </tr>\n",
       "    <tr>\n",
       "      <th>999</th>\n",
       "      <td>#Trump</td>\n",
       "      <td>United States of America</td>\n",
       "      <td>Trump</td>\n",
       "    </tr>\n",
       "  </tbody>\n",
       "</table>\n",
       "<p>1000 rows × 3 columns</p>\n",
       "</div>"
      ],
      "text/plain": [
       "                                                 tweet  \\\n",
       "0    President Donald #Trump’s youngest daughter, T...   \n",
       "1    Woah. Have you read this article?\\n\\nAll the p...   \n",
       "2    #LadyGaga fired back at #DonaldTrump's team ht...   \n",
       "3    Minuto a minuto: #Trump gana los estados decis...   \n",
       "4    #Trump Habla en segundos. Todavía nada está de...   \n",
       "..                                                 ...   \n",
       "995  #Trump has nothing, absolutely nothing to run ...   \n",
       "996  Seek God + His way thru for you this month com...   \n",
       "997  This is why we vote Trump / Pence 2020! Save A...   \n",
       "998  @nominm @haliun_87 Юугаа ч мэдэхгүй цээжилсэн ...   \n",
       "999                                             #Trump   \n",
       "\n",
       "                      country  \\\n",
       "0    United States of America   \n",
       "1    United States of America   \n",
       "2    United States of America   \n",
       "3    United States of America   \n",
       "4    United States of America   \n",
       "..                        ...   \n",
       "995  United States of America   \n",
       "996  United States of America   \n",
       "997  United States of America   \n",
       "998  United States of America   \n",
       "999  United States of America   \n",
       "\n",
       "                                            ClearTweet  \n",
       "0    President Donald Trump s youngest daughter  Ti...  \n",
       "1    Woah  Have you read this article   All the pre...  \n",
       "2          LadyGaga fired back at DonaldTrump s team    \n",
       "3    Minuto a minuto  Trump gana los estados decisi...  \n",
       "4    Trump Habla en segundos  Todavía nada está def...  \n",
       "..                                                 ...  \n",
       "995  Trump has nothing  absolutely nothing to run o...  \n",
       "996  Seek God   His way thru for you this month com...  \n",
       "997  This is why we vote Trump   Pence 2020  Save A...  \n",
       "998   _87 Юугаа ч мэдэхгүй цээжилсэн ганц нэрээ дав...  \n",
       "999                                              Trump  \n",
       "\n",
       "[1000 rows x 3 columns]"
      ]
     },
     "execution_count": 26,
     "metadata": {},
     "output_type": "execute_result"
    }
   ],
   "source": [
    "#get the tweets from depends on condidat and number of tweets \n",
    "#we choose the United States of America to make sure that the langauge is english for the sentiment analysis to work\n",
    "\n",
    "def getTweet(condidat,nb):#condidat[trump,Biden]  nb nomver of tweets we want\n",
    "    tweets = data.query('condidat == \"'+condidat+'\"').sort_values('user_followers_count',ascending=False).drop_duplicates(['user_name'])[['tweet','country']]\n",
    "    #return nb tweets and removing nan \n",
    "    tweets = tweets.dropna().loc[tweets.country=='United States of America'][:nb]\n",
    "    return tweets\n",
    "\n",
    "#get the tweets \n",
    "nb=1000\n",
    "dd=getTweet('trump',nb)\n",
    "\n",
    "#reset the index\n",
    "dd.reset_index(inplace=True, drop=True)\n",
    "#apply the function on tweets and stor results to a new column\n",
    "dd['ClearTweet']=dd['tweet'].apply(cleanText)\n",
    "#AmineAbouothmane\n",
    "dd"
   ]
  },
  {
   "cell_type": "markdown",
   "metadata": {
    "papermill": {
     "duration": 0.057409,
     "end_time": "2020-11-05T16:20:52.158027",
     "exception": false,
     "start_time": "2020-11-05T16:20:52.100618",
     "status": "completed"
    },
    "tags": []
   },
   "source": [
    "<h3>The sentiment function of textblob returns two properties, polarity, and subjectivity. ... Subjective sentences generally refer to personal opinion, emotion or judgment</h3><br>\n",
    "<h3>The key aspect of sentiment analysis is to analyze a body of text for understanding the opinion expressed by it. Typically, we quantify this sentiment with a positive or negative value, called polarity</h3>"
   ]
  },
  {
   "cell_type": "code",
   "execution_count": 27,
   "metadata": {
    "execution": {
     "iopub.execute_input": "2020-11-05T16:20:52.279695Z",
     "iopub.status.busy": "2020-11-05T16:20:52.278472Z",
     "iopub.status.idle": "2020-11-05T16:20:52.282059Z",
     "shell.execute_reply": "2020-11-05T16:20:52.281386Z"
    },
    "papermill": {
     "duration": 0.068289,
     "end_time": "2020-11-05T16:20:52.282217",
     "exception": false,
     "start_time": "2020-11-05T16:20:52.213928",
     "status": "completed"
    },
    "tags": []
   },
   "outputs": [],
   "source": [
    "#create fuction to get the subjectivity and polarity\n",
    "def getSubjectivity(text):\n",
    "    return TextBlob(text).sentiment.subjectivity\n",
    "def getPolarity(text):\n",
    "    return TextBlob(text).sentiment.polarity\n",
    "def getAnalysis(score):\n",
    "    if score<0:\n",
    "        return 'negative'\n",
    "    elif score==0:\n",
    "        return 'neutral'\n",
    "    else:\n",
    "        return 'positive'"
   ]
  },
  {
   "cell_type": "code",
   "execution_count": 28,
   "metadata": {
    "execution": {
     "iopub.execute_input": "2020-11-05T16:20:52.405173Z",
     "iopub.status.busy": "2020-11-05T16:20:52.404234Z",
     "iopub.status.idle": "2020-11-05T16:20:53.179448Z",
     "shell.execute_reply": "2020-11-05T16:20:53.178621Z"
    },
    "papermill": {
     "duration": 0.841104,
     "end_time": "2020-11-05T16:20:53.179595",
     "exception": false,
     "start_time": "2020-11-05T16:20:52.338491",
     "status": "completed"
    },
    "tags": []
   },
   "outputs": [
    {
     "data": {
      "text/html": [
       "<div>\n",
       "<style scoped>\n",
       "    .dataframe tbody tr th:only-of-type {\n",
       "        vertical-align: middle;\n",
       "    }\n",
       "\n",
       "    .dataframe tbody tr th {\n",
       "        vertical-align: top;\n",
       "    }\n",
       "\n",
       "    .dataframe thead th {\n",
       "        text-align: right;\n",
       "    }\n",
       "</style>\n",
       "<table border=\"1\" class=\"dataframe\">\n",
       "  <thead>\n",
       "    <tr style=\"text-align: right;\">\n",
       "      <th></th>\n",
       "      <th>tweet</th>\n",
       "      <th>country</th>\n",
       "      <th>ClearTweet</th>\n",
       "      <th>subjectivity</th>\n",
       "      <th>polarity</th>\n",
       "      <th>analysis</th>\n",
       "    </tr>\n",
       "  </thead>\n",
       "  <tbody>\n",
       "    <tr>\n",
       "      <th>0</th>\n",
       "      <td>President Donald #Trump’s youngest daughter, T...</td>\n",
       "      <td>United States of America</td>\n",
       "      <td>President Donald Trump s youngest daughter  Ti...</td>\n",
       "      <td>0.0</td>\n",
       "      <td>0.0</td>\n",
       "      <td>neutral</td>\n",
       "    </tr>\n",
       "    <tr>\n",
       "      <th>1</th>\n",
       "      <td>Woah. Have you read this article?\\n\\nAll the p...</td>\n",
       "      <td>United States of America</td>\n",
       "      <td>Woah  Have you read this article   All the pre...</td>\n",
       "      <td>0.0</td>\n",
       "      <td>0.0</td>\n",
       "      <td>neutral</td>\n",
       "    </tr>\n",
       "    <tr>\n",
       "      <th>2</th>\n",
       "      <td>#LadyGaga fired back at #DonaldTrump's team ht...</td>\n",
       "      <td>United States of America</td>\n",
       "      <td>LadyGaga fired back at DonaldTrump s team</td>\n",
       "      <td>0.0</td>\n",
       "      <td>0.0</td>\n",
       "      <td>neutral</td>\n",
       "    </tr>\n",
       "    <tr>\n",
       "      <th>3</th>\n",
       "      <td>Minuto a minuto: #Trump gana los estados decis...</td>\n",
       "      <td>United States of America</td>\n",
       "      <td>Minuto a minuto  Trump gana los estados decisi...</td>\n",
       "      <td>0.0</td>\n",
       "      <td>0.0</td>\n",
       "      <td>neutral</td>\n",
       "    </tr>\n",
       "    <tr>\n",
       "      <th>4</th>\n",
       "      <td>#Trump Habla en segundos. Todavía nada está de...</td>\n",
       "      <td>United States of America</td>\n",
       "      <td>Trump Habla en segundos  Todavía nada está def...</td>\n",
       "      <td>0.0</td>\n",
       "      <td>0.0</td>\n",
       "      <td>neutral</td>\n",
       "    </tr>\n",
       "  </tbody>\n",
       "</table>\n",
       "</div>"
      ],
      "text/plain": [
       "                                               tweet  \\\n",
       "0  President Donald #Trump’s youngest daughter, T...   \n",
       "1  Woah. Have you read this article?\\n\\nAll the p...   \n",
       "2  #LadyGaga fired back at #DonaldTrump's team ht...   \n",
       "3  Minuto a minuto: #Trump gana los estados decis...   \n",
       "4  #Trump Habla en segundos. Todavía nada está de...   \n",
       "\n",
       "                    country  \\\n",
       "0  United States of America   \n",
       "1  United States of America   \n",
       "2  United States of America   \n",
       "3  United States of America   \n",
       "4  United States of America   \n",
       "\n",
       "                                          ClearTweet  subjectivity  polarity  \\\n",
       "0  President Donald Trump s youngest daughter  Ti...           0.0       0.0   \n",
       "1  Woah  Have you read this article   All the pre...           0.0       0.0   \n",
       "2        LadyGaga fired back at DonaldTrump s team             0.0       0.0   \n",
       "3  Minuto a minuto  Trump gana los estados decisi...           0.0       0.0   \n",
       "4  Trump Habla en segundos  Todavía nada está def...           0.0       0.0   \n",
       "\n",
       "  analysis  \n",
       "0  neutral  \n",
       "1  neutral  \n",
       "2  neutral  \n",
       "3  neutral  \n",
       "4  neutral  "
      ]
     },
     "execution_count": 28,
     "metadata": {},
     "output_type": "execute_result"
    }
   ],
   "source": [
    "#adding columns and applying the functionss \n",
    "dd['subjectivity']=dd['ClearTweet'].apply(getSubjectivity)\n",
    "dd['polarity']=dd['ClearTweet'].apply(getPolarity)\n",
    "dd['analysis']=dd['polarity'].apply(getAnalysis)\n",
    "dd.head()"
   ]
  },
  {
   "cell_type": "markdown",
   "metadata": {
    "papermill": {
     "duration": 0.063143,
     "end_time": "2020-11-05T16:20:53.301827",
     "exception": false,
     "start_time": "2020-11-05T16:20:53.238684",
     "status": "completed"
    },
    "tags": []
   },
   "source": [
    "<h1>word cloud</h1>"
   ]
  },
  {
   "cell_type": "code",
   "execution_count": 29,
   "metadata": {
    "execution": {
     "iopub.execute_input": "2020-11-05T16:20:53.452388Z",
     "iopub.status.busy": "2020-11-05T16:20:53.442257Z",
     "iopub.status.idle": "2020-11-05T16:20:54.197191Z",
     "shell.execute_reply": "2020-11-05T16:20:54.197808Z"
    },
    "papermill": {
     "duration": 0.839088,
     "end_time": "2020-11-05T16:20:54.197968",
     "exception": false,
     "start_time": "2020-11-05T16:20:53.358880",
     "status": "completed"
    },
    "tags": []
   },
   "outputs": [
    {
     "data": {
      "image/png": "[encoded data removed]",
      "text/plain": [
       "<Figure size 432x288 with 1 Axes>"
      ]
     },
     "metadata": {
      "needs_background": "light"
     },
     "output_type": "display_data"
    }
   ],
   "source": [
    "#plot the word cloud\n",
    "allwords=' '.join( [twts for twts in dd['ClearTweet']] )\n",
    "wordcloud=WordCloud(width=500,height=300,random_state=21,max_font_size=119).generate(allwords)\n",
    "\n",
    "plt.imshow(wordcloud,interpolation='bilinear')\n",
    "plt.axis('off')\n",
    "plt.show()"
   ]
  },
  {
   "cell_type": "markdown",
   "metadata": {
    "papermill": {
     "duration": 0.060935,
     "end_time": "2020-11-05T16:20:54.321298",
     "exception": false,
     "start_time": "2020-11-05T16:20:54.260363",
     "status": "completed"
    },
    "tags": []
   },
   "source": [
    "<h1>visualisation</h1>"
   ]
  },
  {
   "cell_type": "code",
   "execution_count": 30,
   "metadata": {
    "execution": {
     "iopub.execute_input": "2020-11-05T16:20:54.455853Z",
     "iopub.status.busy": "2020-11-05T16:20:54.453145Z",
     "iopub.status.idle": "2020-11-05T16:21:02.116012Z",
     "shell.execute_reply": "2020-11-05T16:21:02.115173Z"
    },
    "papermill": {
     "duration": 7.733693,
     "end_time": "2020-11-05T16:21:02.116164",
     "exception": false,
     "start_time": "2020-11-05T16:20:54.382471",
     "status": "completed"
    },
    "tags": []
   },
   "outputs": [
    {
     "data": {
      "image/png": "[encoded data removed]",
      "text/plain": [
       "<Figure size 576x432 with 1 Axes>"
      ]
     },
     "metadata": {
      "needs_background": "light"
     },
     "output_type": "display_data"
    }
   ],
   "source": [
    "#plot the polarity and subjectivity\n",
    "\n",
    "plt.figure(figsize=(8,6))\n",
    "for i in range(0,nb):\n",
    "    p=dd['polarity'][i]\n",
    "    if p<0:\n",
    "        plt.scatter(dd['polarity'][i],dd['subjectivity'][i],color='red', marker = '*')\n",
    "    elif p==0:\n",
    "        plt.scatter(dd['polarity'][i],dd['subjectivity'][i],color='green', marker = 'o')\n",
    "    else:\n",
    "        plt.scatter(dd['polarity'][i],dd['subjectivity'][i],color='blue', marker = '+')\n",
    "plt.xlabel('polarity')\n",
    "plt.ylabel('subjectivity')\n",
    "plt.title('sentimat analysis')\n",
    "plt.show()"
   ]
  },
  {
   "cell_type": "code",
   "execution_count": 31,
   "metadata": {
    "execution": {
     "iopub.execute_input": "2020-11-05T16:21:02.259916Z",
     "iopub.status.busy": "2020-11-05T16:21:02.254285Z",
     "iopub.status.idle": "2020-11-05T16:21:02.436694Z",
     "shell.execute_reply": "2020-11-05T16:21:02.435825Z"
    },
    "papermill": {
     "duration": 0.257384,
     "end_time": "2020-11-05T16:21:02.436835",
     "exception": false,
     "start_time": "2020-11-05T16:21:02.179451",
     "status": "completed"
    },
    "tags": []
   },
   "outputs": [
    {
     "data": {
      "text/html": [
       "<div>                            <div id=\"854cf767-3022-4cd3-a8d1-e4c9a5bd684c\" class=\"plotly-graph-div\" style=\"height:525px; width:100%;\"></div>            <script type=\"text/javascript\">                require([\"plotly\"], function(Plotly) {                    window.PLOTLYENV=window.PLOTLYENV || {};                                    if (document.getElementById(\"854cf767-3022-4cd3-a8d1-e4c9a5bd684c\")) {                    Plotly.newPlot(                        \"854cf767-3022-4cd3-a8d1-e4c9a5bd684c\",                        [{\"labels\": [\"positivity\", \"negativity\", \"neutrality\"], \"type\": \"pie\", \"values\": [395, 172, 433]}],                        {\"template\": {\"data\": {\"bar\": [{\"error_x\": {\"color\": \"#2a3f5f\"}, \"error_y\": {\"color\": \"#2a3f5f\"}, \"marker\": {\"line\": {\"color\": \"#E5ECF6\", \"width\": 0.5}}, \"type\": \"bar\"}], \"barpolar\": [{\"marker\": {\"line\": {\"color\": \"#E5ECF6\", \"width\": 0.5}}, \"type\": \"barpolar\"}], \"carpet\": [{\"aaxis\": {\"endlinecolor\": \"#2a3f5f\", \"gridcolor\": \"white\", \"linecolor\": \"white\", \"minorgridcolor\": \"white\", \"startlinecolor\": \"#2a3f5f\"}, \"baxis\": {\"endlinecolor\": \"#2a3f5f\", \"gridcolor\": \"white\", \"linecolor\": \"white\", \"minorgridcolor\": \"white\", \"startlinecolor\": \"#2a3f5f\"}, \"type\": \"carpet\"}], \"choropleth\": [{\"colorbar\": {\"outlinewidth\": 0, \"ticks\": \"\"}, \"type\": \"choropleth\"}], \"contour\": [{\"colorbar\": {\"outlinewidth\": 0, \"ticks\": \"\"}, \"colorscale\": [[0.0, \"#0d0887\"], [0.1111111111111111, \"#46039f\"], [0.2222222222222222, \"#7201a8\"], [0.3333333333333333, \"#9c179e\"], [0.4444444444444444, \"#bd3786\"], [0.5555555555555556, \"#d8576b\"], [0.6666666666666666, \"#ed7953\"], [0.7777777777777778, \"#fb9f3a\"], [0.8888888888888888, \"#fdca26\"], [1.0, \"#f0f921\"]], \"type\": \"contour\"}], \"contourcarpet\": [{\"colorbar\": {\"outlinewidth\": 0, \"ticks\": \"\"}, \"type\": \"contourcarpet\"}], \"heatmap\": [{\"colorbar\": {\"outlinewidth\": 0, \"ticks\": \"\"}, \"colorscale\": [[0.0, \"#0d0887\"], [0.1111111111111111, \"#46039f\"], [0.2222222222222222, \"#7201a8\"], [0.3333333333333333, \"#9c179e\"], [0.4444444444444444, \"#bd3786\"], [0.5555555555555556, \"#d8576b\"], [0.6666666666666666, \"#ed7953\"], [0.7777777777777778, \"#fb9f3a\"], [0.8888888888888888, \"#fdca26\"], [1.0, \"#f0f921\"]], \"type\": \"heatmap\"}], \"heatmapgl\": [{\"colorbar\": {\"outlinewidth\": 0, \"ticks\": \"\"}, \"colorscale\": [[0.0, \"#0d0887\"], [0.1111111111111111, \"#46039f\"], [0.2222222222222222, \"#7201a8\"], [0.3333333333333333, \"#9c179e\"], [0.4444444444444444, \"#bd3786\"], [0.5555555555555556, \"#d8576b\"], [0.6666666666666666, \"#ed7953\"], [0.7777777777777778, \"#fb9f3a\"], [0.8888888888888888, \"#fdca26\"], [1.0, \"#f0f921\"]], \"type\": \"heatmapgl\"}], \"histogram\": [{\"marker\": {\"colorbar\": {\"outlinewidth\": 0, \"ticks\": \"\"}}, \"type\": \"histogram\"}], \"histogram2d\": [{\"colorbar\": {\"outlinewidth\": 0, \"ticks\": \"\"}, \"colorscale\": [[0.0, \"#0d0887\"], [0.1111111111111111, \"#46039f\"], [0.2222222222222222, \"#7201a8\"], [0.3333333333333333, \"#9c179e\"], [0.4444444444444444, \"#bd3786\"], [0.5555555555555556, \"#d8576b\"], [0.6666666666666666, \"#ed7953\"], [0.7777777777777778, \"#fb9f3a\"], [0.8888888888888888, \"#fdca26\"], [1.0, \"#f0f921\"]], \"type\": \"histogram2d\"}], \"histogram2dcontour\": [{\"colorbar\": {\"outlinewidth\": 0, \"ticks\": \"\"}, \"colorscale\": [[0.0, \"#0d0887\"], [0.1111111111111111, \"#46039f\"], [0.2222222222222222, \"#7201a8\"], [0.3333333333333333, \"#9c179e\"], [0.4444444444444444, \"#bd3786\"], [0.5555555555555556, \"#d8576b\"], [0.6666666666666666, \"#ed7953\"], [0.7777777777777778, \"#fb9f3a\"], [0.8888888888888888, \"#fdca26\"], [1.0, \"#f0f921\"]], \"type\": \"histogram2dcontour\"}], \"mesh3d\": [{\"colorbar\": {\"outlinewidth\": 0, \"ticks\": \"\"}, \"type\": \"mesh3d\"}], \"parcoords\": [{\"line\": {\"colorbar\": {\"outlinewidth\": 0, \"ticks\": \"\"}}, \"type\": \"parcoords\"}], \"pie\": [{\"automargin\": true, \"type\": \"pie\"}], \"scatter\": [{\"marker\": {\"colorbar\": {\"outlinewidth\": 0, \"ticks\": \"\"}}, \"type\": \"scatter\"}], \"scatter3d\": [{\"line\": {\"colorbar\": {\"outlinewidth\": 0, \"ticks\": \"\"}}, \"marker\": {\"colorbar\": {\"outlinewidth\": 0, \"ticks\": \"\"}}, \"type\": \"scatter3d\"}], \"scattercarpet\": [{\"marker\": {\"colorbar\": {\"outlinewidth\": 0, \"ticks\": \"\"}}, \"type\": \"scattercarpet\"}], \"scattergeo\": [{\"marker\": {\"colorbar\": {\"outlinewidth\": 0, \"ticks\": \"\"}}, \"type\": \"scattergeo\"}], \"scattergl\": [{\"marker\": {\"colorbar\": {\"outlinewidth\": 0, \"ticks\": \"\"}}, \"type\": \"scattergl\"}], \"scattermapbox\": [{\"marker\": {\"colorbar\": {\"outlinewidth\": 0, \"ticks\": \"\"}}, \"type\": \"scattermapbox\"}], \"scatterpolar\": [{\"marker\": {\"colorbar\": {\"outlinewidth\": 0, \"ticks\": \"\"}}, \"type\": \"scatterpolar\"}], \"scatterpolargl\": [{\"marker\": {\"colorbar\": {\"outlinewidth\": 0, \"ticks\": \"\"}}, \"type\": \"scatterpolargl\"}], \"scatterternary\": [{\"marker\": {\"colorbar\": {\"outlinewidth\": 0, \"ticks\": \"\"}}, \"type\": \"scatterternary\"}], \"surface\": [{\"colorbar\": {\"outlinewidth\": 0, \"ticks\": \"\"}, \"colorscale\": [[0.0, \"#0d0887\"], [0.1111111111111111, \"#46039f\"], [0.2222222222222222, \"#7201a8\"], [0.3333333333333333, \"#9c179e\"], [0.4444444444444444, \"#bd3786\"], [0.5555555555555556, \"#d8576b\"], [0.6666666666666666, \"#ed7953\"], [0.7777777777777778, \"#fb9f3a\"], [0.8888888888888888, \"#fdca26\"], [1.0, \"#f0f921\"]], \"type\": \"surface\"}], \"table\": [{\"cells\": {\"fill\": {\"color\": \"#EBF0F8\"}, \"line\": {\"color\": \"white\"}}, \"header\": {\"fill\": {\"color\": \"#C8D4E3\"}, \"line\": {\"color\": \"white\"}}, \"type\": \"table\"}]}, \"layout\": {\"annotationdefaults\": {\"arrowcolor\": \"#2a3f5f\", \"arrowhead\": 0, \"arrowwidth\": 1}, \"coloraxis\": {\"colorbar\": {\"outlinewidth\": 0, \"ticks\": \"\"}}, \"colorscale\": {\"diverging\": [[0, \"#8e0152\"], [0.1, \"#c51b7d\"], [0.2, \"#de77ae\"], [0.3, \"#f1b6da\"], [0.4, \"#fde0ef\"], [0.5, \"#f7f7f7\"], [0.6, \"#e6f5d0\"], [0.7, \"#b8e186\"], [0.8, \"#7fbc41\"], [0.9, \"#4d9221\"], [1, \"#276419\"]], \"sequential\": [[0.0, \"#0d0887\"], [0.1111111111111111, \"#46039f\"], [0.2222222222222222, \"#7201a8\"], [0.3333333333333333, \"#9c179e\"], [0.4444444444444444, \"#bd3786\"], [0.5555555555555556, \"#d8576b\"], [0.6666666666666666, \"#ed7953\"], [0.7777777777777778, \"#fb9f3a\"], [0.8888888888888888, \"#fdca26\"], [1.0, \"#f0f921\"]], \"sequentialminus\": [[0.0, \"#0d0887\"], [0.1111111111111111, \"#46039f\"], [0.2222222222222222, \"#7201a8\"], [0.3333333333333333, \"#9c179e\"], [0.4444444444444444, \"#bd3786\"], [0.5555555555555556, \"#d8576b\"], [0.6666666666666666, \"#ed7953\"], [0.7777777777777778, \"#fb9f3a\"], [0.8888888888888888, \"#fdca26\"], [1.0, \"#f0f921\"]]}, \"colorway\": [\"#636efa\", \"#EF553B\", \"#00cc96\", \"#ab63fa\", \"#FFA15A\", \"#19d3f3\", \"#FF6692\", \"#B6E880\", \"#FF97FF\", \"#FECB52\"], \"font\": {\"color\": \"#2a3f5f\"}, \"geo\": {\"bgcolor\": \"white\", \"lakecolor\": \"white\", \"landcolor\": \"#E5ECF6\", \"showlakes\": true, \"showland\": true, \"subunitcolor\": \"white\"}, \"hoverlabel\": {\"align\": \"left\"}, \"hovermode\": \"closest\", \"mapbox\": {\"style\": \"light\"}, \"paper_bgcolor\": \"white\", \"plot_bgcolor\": \"#E5ECF6\", \"polar\": {\"angularaxis\": {\"gridcolor\": \"white\", \"linecolor\": \"white\", \"ticks\": \"\"}, \"bgcolor\": \"#E5ECF6\", \"radialaxis\": {\"gridcolor\": \"white\", \"linecolor\": \"white\", \"ticks\": \"\"}}, \"scene\": {\"xaxis\": {\"backgroundcolor\": \"#E5ECF6\", \"gridcolor\": \"white\", \"gridwidth\": 2, \"linecolor\": \"white\", \"showbackground\": true, \"ticks\": \"\", \"zerolinecolor\": \"white\"}, \"yaxis\": {\"backgroundcolor\": \"#E5ECF6\", \"gridcolor\": \"white\", \"gridwidth\": 2, \"linecolor\": \"white\", \"showbackground\": true, \"ticks\": \"\", \"zerolinecolor\": \"white\"}, \"zaxis\": {\"backgroundcolor\": \"#E5ECF6\", \"gridcolor\": \"white\", \"gridwidth\": 2, \"linecolor\": \"white\", \"showbackground\": true, \"ticks\": \"\", \"zerolinecolor\": \"white\"}}, \"shapedefaults\": {\"line\": {\"color\": \"#2a3f5f\"}}, \"ternary\": {\"aaxis\": {\"gridcolor\": \"white\", \"linecolor\": \"white\", \"ticks\": \"\"}, \"baxis\": {\"gridcolor\": \"white\", \"linecolor\": \"white\", \"ticks\": \"\"}, \"bgcolor\": \"#E5ECF6\", \"caxis\": {\"gridcolor\": \"white\", \"linecolor\": \"white\", \"ticks\": \"\"}}, \"title\": {\"x\": 0.05}, \"xaxis\": {\"automargin\": true, \"gridcolor\": \"white\", \"linecolor\": \"white\", \"ticks\": \"\", \"title\": {\"standoff\": 15}, \"zerolinecolor\": \"white\", \"zerolinewidth\": 2}, \"yaxis\": {\"automargin\": true, \"gridcolor\": \"white\", \"linecolor\": \"white\", \"ticks\": \"\", \"title\": {\"standoff\": 15}, \"zerolinecolor\": \"white\", \"zerolinewidth\": 2}}}, \"title\": {\"text\": \"sentimat analysis of tweets (#trump)\"}},                        {\"responsive\": true}                    ).then(function(){\n",
       "                            \n",
       "var gd = document.getElementById('854cf767-3022-4cd3-a8d1-e4c9a5bd684c');\n",
       "var x = new MutationObserver(function (mutations, observer) {{\n",
       "        var display = window.getComputedStyle(gd).display;\n",
       "        if (!display || display === 'none') {{\n",
       "            console.log([gd, 'removed!']);\n",
       "            Plotly.purge(gd);\n",
       "            observer.disconnect();\n",
       "        }}\n",
       "}});\n",
       "\n",
       "// Listen for the removal of the full notebook cells\n",
       "var notebookContainer = gd.closest('#notebook-container');\n",
       "if (notebookContainer) {{\n",
       "    x.observe(notebookContainer, {childList: true});\n",
       "}}\n",
       "\n",
       "// Listen for the clearing of the current output cell\n",
       "var outputEl = gd.closest('.output');\n",
       "if (outputEl) {{\n",
       "    x.observe(outputEl, {childList: true});\n",
       "}}\n",
       "\n",
       "                        })                };                });            </script>        </div>"
      ]
     },
     "metadata": {},
     "output_type": "display_data"
    },
    {
     "data": {
      "text/plain": [
       "<matplotlib.axes._subplots.AxesSubplot at 0x7f0d8e42c5d0>"
      ]
     },
     "execution_count": 31,
     "metadata": {},
     "output_type": "execute_result"
    },
    {
     "data": {
      "image/png": "[encoded data removed]",
      "text/plain": [
       "<Figure size 432x288 with 1 Axes>"
      ]
     },
     "metadata": {
      "needs_background": "light"
     },
     "output_type": "display_data"
    }
   ],
   "source": [
    "o=dd.groupby('analysis').analysis.count()\n",
    "neu=dd[dd['analysis']=='neutral'].ClearTweet.count()\n",
    "po=dd[dd['analysis']=='positive'].ClearTweet.count()\n",
    "neg=dd[dd['analysis']=='negative'].ClearTweet.count()\n",
    "\n",
    "fig = go.Figure(data=[go.Pie(labels=[\"positivity\",\"negativity\",\"neutrality\"], values=[po,neg,neu])])\n",
    "fig.update_layout(title_text='sentimat analysis of tweets (#trump)')\n",
    "fig.show()\n",
    "o.plot(x='analysis',kind='bar',ylabel=\"counts\",title=\"sentimat analysis of tweets (#trump)\")\n"
   ]
  },
  {
   "cell_type": "markdown",
   "metadata": {
    "papermill": {
     "duration": 0.06875,
     "end_time": "2020-11-05T16:21:02.579293",
     "exception": false,
     "start_time": "2020-11-05T16:21:02.510543",
     "status": "completed"
    },
    "tags": []
   },
   "source": [
    "<h1>sentimal analysis #Biden tweets</h1>"
   ]
  },
  {
   "cell_type": "code",
   "execution_count": 32,
   "metadata": {
    "execution": {
     "iopub.execute_input": "2020-11-05T16:21:02.719031Z",
     "iopub.status.busy": "2020-11-05T16:21:02.718186Z",
     "iopub.status.idle": "2020-11-05T16:21:04.809807Z",
     "shell.execute_reply": "2020-11-05T16:21:04.810435Z"
    },
    "papermill": {
     "duration": 2.166292,
     "end_time": "2020-11-05T16:21:04.810598",
     "exception": false,
     "start_time": "2020-11-05T16:21:02.644306",
     "status": "completed"
    },
    "tags": []
   },
   "outputs": [
    {
     "data": {
      "text/html": [
       "<div>\n",
       "<style scoped>\n",
       "    .dataframe tbody tr th:only-of-type {\n",
       "        vertical-align: middle;\n",
       "    }\n",
       "\n",
       "    .dataframe tbody tr th {\n",
       "        vertical-align: top;\n",
       "    }\n",
       "\n",
       "    .dataframe thead th {\n",
       "        text-align: right;\n",
       "    }\n",
       "</style>\n",
       "<table border=\"1\" class=\"dataframe\">\n",
       "  <thead>\n",
       "    <tr style=\"text-align: right;\">\n",
       "      <th></th>\n",
       "      <th>tweet</th>\n",
       "      <th>country</th>\n",
       "      <th>ClearTweet</th>\n",
       "      <th>subjectivity</th>\n",
       "      <th>polarity</th>\n",
       "      <th>analysis</th>\n",
       "    </tr>\n",
       "  </thead>\n",
       "  <tbody>\n",
       "    <tr>\n",
       "      <th>995</th>\n",
       "      <td>Duh. The GOP ruins everything. Imagine how far...</td>\n",
       "      <td>United States of America</td>\n",
       "      <td>Duh  The GOP ruins everything  Imagine how far...</td>\n",
       "      <td>0.550000</td>\n",
       "      <td>-0.008333</td>\n",
       "      <td>negative</td>\n",
       "    </tr>\n",
       "    <tr>\n",
       "      <th>996</th>\n",
       "      <td>One more rust belt state to win and #biden is ...</td>\n",
       "      <td>United States of America</td>\n",
       "      <td>One more rust belt state to win and biden is i...</td>\n",
       "      <td>0.450000</td>\n",
       "      <td>0.650000</td>\n",
       "      <td>positive</td>\n",
       "    </tr>\n",
       "    <tr>\n",
       "      <th>997</th>\n",
       "      <td>“The people of Scranton don’t live off the sto...</td>\n",
       "      <td>United States of America</td>\n",
       "      <td>The people of Scranton don t live off the sto...</td>\n",
       "      <td>0.500000</td>\n",
       "      <td>-0.056818</td>\n",
       "      <td>negative</td>\n",
       "    </tr>\n",
       "    <tr>\n",
       "      <th>998</th>\n",
       "      <td>We Need Biden’s Summit of Democracies https://...</td>\n",
       "      <td>United States of America</td>\n",
       "      <td>We Need Biden s Summit of Democracies  Democra...</td>\n",
       "      <td>0.000000</td>\n",
       "      <td>0.000000</td>\n",
       "      <td>neutral</td>\n",
       "    </tr>\n",
       "    <tr>\n",
       "      <th>999</th>\n",
       "      <td>Please dear God, please help #JoeBiden, #Kamal...</td>\n",
       "      <td>United States of America</td>\n",
       "      <td>Please dear God  please help JoeBiden  KamalaH...</td>\n",
       "      <td>0.288889</td>\n",
       "      <td>-0.155556</td>\n",
       "      <td>negative</td>\n",
       "    </tr>\n",
       "  </tbody>\n",
       "</table>\n",
       "</div>"
      ],
      "text/plain": [
       "                                                 tweet  \\\n",
       "995  Duh. The GOP ruins everything. Imagine how far...   \n",
       "996  One more rust belt state to win and #biden is ...   \n",
       "997  “The people of Scranton don’t live off the sto...   \n",
       "998  We Need Biden’s Summit of Democracies https://...   \n",
       "999  Please dear God, please help #JoeBiden, #Kamal...   \n",
       "\n",
       "                      country  \\\n",
       "995  United States of America   \n",
       "996  United States of America   \n",
       "997  United States of America   \n",
       "998  United States of America   \n",
       "999  United States of America   \n",
       "\n",
       "                                            ClearTweet  subjectivity  \\\n",
       "995  Duh  The GOP ruins everything  Imagine how far...      0.550000   \n",
       "996  One more rust belt state to win and biden is i...      0.450000   \n",
       "997   The people of Scranton don t live off the sto...      0.500000   \n",
       "998  We Need Biden s Summit of Democracies  Democra...      0.000000   \n",
       "999  Please dear God  please help JoeBiden  KamalaH...      0.288889   \n",
       "\n",
       "     polarity  analysis  \n",
       "995 -0.008333  negative  \n",
       "996  0.650000  positive  \n",
       "997 -0.056818  negative  \n",
       "998  0.000000   neutral  \n",
       "999 -0.155556  negative  "
      ]
     },
     "execution_count": 32,
     "metadata": {},
     "output_type": "execute_result"
    }
   ],
   "source": [
    "ddb=getTweet('Biden',1000)\n",
    "#reset the index\n",
    "ddb.reset_index(inplace=True, drop=True)\n",
    "#apply the function on tweets and stor results to a new column\n",
    "ddb['ClearTweet']=ddb['tweet'].apply(cleanText)\n",
    "#adding columns and applying the functionss \n",
    "ddb['subjectivity']=ddb['ClearTweet'].apply(getSubjectivity)\n",
    "ddb['polarity']=ddb['ClearTweet'].apply(getPolarity)\n",
    "ddb['analysis']=ddb['polarity'].apply(getAnalysis)\n",
    "ddb.tail()"
   ]
  },
  {
   "cell_type": "code",
   "execution_count": 33,
   "metadata": {
    "execution": {
     "iopub.execute_input": "2020-11-05T16:21:04.990369Z",
     "iopub.status.busy": "2020-11-05T16:21:04.969284Z",
     "iopub.status.idle": "2020-11-05T16:21:05.757017Z",
     "shell.execute_reply": "2020-11-05T16:21:05.757596Z"
    },
    "papermill": {
     "duration": 0.880435,
     "end_time": "2020-11-05T16:21:05.757770",
     "exception": false,
     "start_time": "2020-11-05T16:21:04.877335",
     "status": "completed"
    },
    "tags": []
   },
   "outputs": [
    {
     "data": {
      "image/png": "[encoded data removed]",
      "text/plain": [
       "<Figure size 432x288 with 1 Axes>"
      ]
     },
     "metadata": {
      "needs_background": "light"
     },
     "output_type": "display_data"
    }
   ],
   "source": [
    "#plot the word cloud\n",
    "allwords=' '.join( [twts for twts in ddb['ClearTweet']] )\n",
    "wordcloud=WordCloud(width=500,height=300,random_state=21,max_font_size=119).generate(allwords)\n",
    "\n",
    "plt.imshow(wordcloud,interpolation='bilinear')\n",
    "plt.axis('off')\n",
    "plt.show()"
   ]
  },
  {
   "cell_type": "code",
   "execution_count": 34,
   "metadata": {
    "execution": {
     "iopub.execute_input": "2020-11-05T16:21:05.913489Z",
     "iopub.status.busy": "2020-11-05T16:21:05.909316Z",
     "iopub.status.idle": "2020-11-05T16:21:06.086346Z",
     "shell.execute_reply": "2020-11-05T16:21:06.087043Z"
    },
    "papermill": {
     "duration": 0.257484,
     "end_time": "2020-11-05T16:21:06.087201",
     "exception": false,
     "start_time": "2020-11-05T16:21:05.829717",
     "status": "completed"
    },
    "tags": []
   },
   "outputs": [
    {
     "data": {
      "text/html": [
       "<div>                            <div id=\"4a7893f0-24db-4082-90c5-bcaa25d81d17\" class=\"plotly-graph-div\" style=\"height:525px; width:100%;\"></div>            <script type=\"text/javascript\">                require([\"plotly\"], function(Plotly) {                    window.PLOTLYENV=window.PLOTLYENV || {};                                    if (document.getElementById(\"4a7893f0-24db-4082-90c5-bcaa25d81d17\")) {                    Plotly.newPlot(                        \"4a7893f0-24db-4082-90c5-bcaa25d81d17\",                        [{\"labels\": [\"positivity\", \"negativity\", \"neutrality\"], \"type\": \"pie\", \"values\": [431, 164, 405]}],                        {\"template\": {\"data\": {\"bar\": [{\"error_x\": {\"color\": \"#2a3f5f\"}, \"error_y\": {\"color\": \"#2a3f5f\"}, \"marker\": {\"line\": {\"color\": \"#E5ECF6\", \"width\": 0.5}}, \"type\": \"bar\"}], \"barpolar\": [{\"marker\": {\"line\": {\"color\": \"#E5ECF6\", \"width\": 0.5}}, \"type\": \"barpolar\"}], \"carpet\": [{\"aaxis\": {\"endlinecolor\": \"#2a3f5f\", \"gridcolor\": \"white\", \"linecolor\": \"white\", \"minorgridcolor\": \"white\", \"startlinecolor\": \"#2a3f5f\"}, \"baxis\": {\"endlinecolor\": \"#2a3f5f\", \"gridcolor\": \"white\", \"linecolor\": \"white\", \"minorgridcolor\": \"white\", \"startlinecolor\": \"#2a3f5f\"}, \"type\": \"carpet\"}], \"choropleth\": [{\"colorbar\": {\"outlinewidth\": 0, \"ticks\": \"\"}, \"type\": \"choropleth\"}], \"contour\": [{\"colorbar\": {\"outlinewidth\": 0, \"ticks\": \"\"}, \"colorscale\": [[0.0, \"#0d0887\"], [0.1111111111111111, \"#46039f\"], [0.2222222222222222, \"#7201a8\"], [0.3333333333333333, \"#9c179e\"], [0.4444444444444444, \"#bd3786\"], [0.5555555555555556, \"#d8576b\"], [0.6666666666666666, \"#ed7953\"], [0.7777777777777778, \"#fb9f3a\"], [0.8888888888888888, \"#fdca26\"], [1.0, \"#f0f921\"]], \"type\": \"contour\"}], \"contourcarpet\": [{\"colorbar\": {\"outlinewidth\": 0, \"ticks\": \"\"}, \"type\": \"contourcarpet\"}], \"heatmap\": [{\"colorbar\": {\"outlinewidth\": 0, \"ticks\": \"\"}, \"colorscale\": [[0.0, \"#0d0887\"], [0.1111111111111111, \"#46039f\"], [0.2222222222222222, \"#7201a8\"], [0.3333333333333333, \"#9c179e\"], [0.4444444444444444, \"#bd3786\"], [0.5555555555555556, \"#d8576b\"], [0.6666666666666666, \"#ed7953\"], [0.7777777777777778, \"#fb9f3a\"], [0.8888888888888888, \"#fdca26\"], [1.0, \"#f0f921\"]], \"type\": \"heatmap\"}], \"heatmapgl\": [{\"colorbar\": {\"outlinewidth\": 0, \"ticks\": \"\"}, \"colorscale\": [[0.0, \"#0d0887\"], [0.1111111111111111, \"#46039f\"], [0.2222222222222222, \"#7201a8\"], [0.3333333333333333, \"#9c179e\"], [0.4444444444444444, \"#bd3786\"], [0.5555555555555556, \"#d8576b\"], [0.6666666666666666, \"#ed7953\"], [0.7777777777777778, \"#fb9f3a\"], [0.8888888888888888, \"#fdca26\"], [1.0, \"#f0f921\"]], \"type\": \"heatmapgl\"}], \"histogram\": [{\"marker\": {\"colorbar\": {\"outlinewidth\": 0, \"ticks\": \"\"}}, \"type\": \"histogram\"}], \"histogram2d\": [{\"colorbar\": {\"outlinewidth\": 0, \"ticks\": \"\"}, \"colorscale\": [[0.0, \"#0d0887\"], [0.1111111111111111, \"#46039f\"], [0.2222222222222222, \"#7201a8\"], [0.3333333333333333, \"#9c179e\"], [0.4444444444444444, \"#bd3786\"], [0.5555555555555556, \"#d8576b\"], [0.6666666666666666, \"#ed7953\"], [0.7777777777777778, \"#fb9f3a\"], [0.8888888888888888, \"#fdca26\"], [1.0, \"#f0f921\"]], \"type\": \"histogram2d\"}], \"histogram2dcontour\": [{\"colorbar\": {\"outlinewidth\": 0, \"ticks\": \"\"}, \"colorscale\": [[0.0, \"#0d0887\"], [0.1111111111111111, \"#46039f\"], [0.2222222222222222, \"#7201a8\"], [0.3333333333333333, \"#9c179e\"], [0.4444444444444444, \"#bd3786\"], [0.5555555555555556, \"#d8576b\"], [0.6666666666666666, \"#ed7953\"], [0.7777777777777778, \"#fb9f3a\"], [0.8888888888888888, \"#fdca26\"], [1.0, \"#f0f921\"]], \"type\": \"histogram2dcontour\"}], \"mesh3d\": [{\"colorbar\": {\"outlinewidth\": 0, \"ticks\": \"\"}, \"type\": \"mesh3d\"}], \"parcoords\": [{\"line\": {\"colorbar\": {\"outlinewidth\": 0, \"ticks\": \"\"}}, \"type\": \"parcoords\"}], \"pie\": [{\"automargin\": true, \"type\": \"pie\"}], \"scatter\": [{\"marker\": {\"colorbar\": {\"outlinewidth\": 0, \"ticks\": \"\"}}, \"type\": \"scatter\"}], \"scatter3d\": [{\"line\": {\"colorbar\": {\"outlinewidth\": 0, \"ticks\": \"\"}}, \"marker\": {\"colorbar\": {\"outlinewidth\": 0, \"ticks\": \"\"}}, \"type\": \"scatter3d\"}], \"scattercarpet\": [{\"marker\": {\"colorbar\": {\"outlinewidth\": 0, \"ticks\": \"\"}}, \"type\": \"scattercarpet\"}], \"scattergeo\": [{\"marker\": {\"colorbar\": {\"outlinewidth\": 0, \"ticks\": \"\"}}, \"type\": \"scattergeo\"}], \"scattergl\": [{\"marker\": {\"colorbar\": {\"outlinewidth\": 0, \"ticks\": \"\"}}, \"type\": \"scattergl\"}], \"scattermapbox\": [{\"marker\": {\"colorbar\": {\"outlinewidth\": 0, \"ticks\": \"\"}}, \"type\": \"scattermapbox\"}], \"scatterpolar\": [{\"marker\": {\"colorbar\": {\"outlinewidth\": 0, \"ticks\": \"\"}}, \"type\": \"scatterpolar\"}], \"scatterpolargl\": [{\"marker\": {\"colorbar\": {\"outlinewidth\": 0, \"ticks\": \"\"}}, \"type\": \"scatterpolargl\"}], \"scatterternary\": [{\"marker\": {\"colorbar\": {\"outlinewidth\": 0, \"ticks\": \"\"}}, \"type\": \"scatterternary\"}], \"surface\": [{\"colorbar\": {\"outlinewidth\": 0, \"ticks\": \"\"}, \"colorscale\": [[0.0, \"#0d0887\"], [0.1111111111111111, \"#46039f\"], [0.2222222222222222, \"#7201a8\"], [0.3333333333333333, \"#9c179e\"], [0.4444444444444444, \"#bd3786\"], [0.5555555555555556, \"#d8576b\"], [0.6666666666666666, \"#ed7953\"], [0.7777777777777778, \"#fb9f3a\"], [0.8888888888888888, \"#fdca26\"], [1.0, \"#f0f921\"]], \"type\": \"surface\"}], \"table\": [{\"cells\": {\"fill\": {\"color\": \"#EBF0F8\"}, \"line\": {\"color\": \"white\"}}, \"header\": {\"fill\": {\"color\": \"#C8D4E3\"}, \"line\": {\"color\": \"white\"}}, \"type\": \"table\"}]}, \"layout\": {\"annotationdefaults\": {\"arrowcolor\": \"#2a3f5f\", \"arrowhead\": 0, \"arrowwidth\": 1}, \"coloraxis\": {\"colorbar\": {\"outlinewidth\": 0, \"ticks\": \"\"}}, \"colorscale\": {\"diverging\": [[0, \"#8e0152\"], [0.1, \"#c51b7d\"], [0.2, \"#de77ae\"], [0.3, \"#f1b6da\"], [0.4, \"#fde0ef\"], [0.5, \"#f7f7f7\"], [0.6, \"#e6f5d0\"], [0.7, \"#b8e186\"], [0.8, \"#7fbc41\"], [0.9, \"#4d9221\"], [1, \"#276419\"]], \"sequential\": [[0.0, \"#0d0887\"], [0.1111111111111111, \"#46039f\"], [0.2222222222222222, \"#7201a8\"], [0.3333333333333333, \"#9c179e\"], [0.4444444444444444, \"#bd3786\"], [0.5555555555555556, \"#d8576b\"], [0.6666666666666666, \"#ed7953\"], [0.7777777777777778, \"#fb9f3a\"], [0.8888888888888888, \"#fdca26\"], [1.0, \"#f0f921\"]], \"sequentialminus\": [[0.0, \"#0d0887\"], [0.1111111111111111, \"#46039f\"], [0.2222222222222222, \"#7201a8\"], [0.3333333333333333, \"#9c179e\"], [0.4444444444444444, \"#bd3786\"], [0.5555555555555556, \"#d8576b\"], [0.6666666666666666, \"#ed7953\"], [0.7777777777777778, \"#fb9f3a\"], [0.8888888888888888, \"#fdca26\"], [1.0, \"#f0f921\"]]}, \"colorway\": [\"#636efa\", \"#EF553B\", \"#00cc96\", \"#ab63fa\", \"#FFA15A\", \"#19d3f3\", \"#FF6692\", \"#B6E880\", \"#FF97FF\", \"#FECB52\"], \"font\": {\"color\": \"#2a3f5f\"}, \"geo\": {\"bgcolor\": \"white\", \"lakecolor\": \"white\", \"landcolor\": \"#E5ECF6\", \"showlakes\": true, \"showland\": true, \"subunitcolor\": \"white\"}, \"hoverlabel\": {\"align\": \"left\"}, \"hovermode\": \"closest\", \"mapbox\": {\"style\": \"light\"}, \"paper_bgcolor\": \"white\", \"plot_bgcolor\": \"#E5ECF6\", \"polar\": {\"angularaxis\": {\"gridcolor\": \"white\", \"linecolor\": \"white\", \"ticks\": \"\"}, \"bgcolor\": \"#E5ECF6\", \"radialaxis\": {\"gridcolor\": \"white\", \"linecolor\": \"white\", \"ticks\": \"\"}}, \"scene\": {\"xaxis\": {\"backgroundcolor\": \"#E5ECF6\", \"gridcolor\": \"white\", \"gridwidth\": 2, \"linecolor\": \"white\", \"showbackground\": true, \"ticks\": \"\", \"zerolinecolor\": \"white\"}, \"yaxis\": {\"backgroundcolor\": \"#E5ECF6\", \"gridcolor\": \"white\", \"gridwidth\": 2, \"linecolor\": \"white\", \"showbackground\": true, \"ticks\": \"\", \"zerolinecolor\": \"white\"}, \"zaxis\": {\"backgroundcolor\": \"#E5ECF6\", \"gridcolor\": \"white\", \"gridwidth\": 2, \"linecolor\": \"white\", \"showbackground\": true, \"ticks\": \"\", \"zerolinecolor\": \"white\"}}, \"shapedefaults\": {\"line\": {\"color\": \"#2a3f5f\"}}, \"ternary\": {\"aaxis\": {\"gridcolor\": \"white\", \"linecolor\": \"white\", \"ticks\": \"\"}, \"baxis\": {\"gridcolor\": \"white\", \"linecolor\": \"white\", \"ticks\": \"\"}, \"bgcolor\": \"#E5ECF6\", \"caxis\": {\"gridcolor\": \"white\", \"linecolor\": \"white\", \"ticks\": \"\"}}, \"title\": {\"x\": 0.05}, \"xaxis\": {\"automargin\": true, \"gridcolor\": \"white\", \"linecolor\": \"white\", \"ticks\": \"\", \"title\": {\"standoff\": 15}, \"zerolinecolor\": \"white\", \"zerolinewidth\": 2}, \"yaxis\": {\"automargin\": true, \"gridcolor\": \"white\", \"linecolor\": \"white\", \"ticks\": \"\", \"title\": {\"standoff\": 15}, \"zerolinecolor\": \"white\", \"zerolinewidth\": 2}}}, \"title\": {\"text\": \"sentimat analysis of tweets (#Biden)\"}},                        {\"responsive\": true}                    ).then(function(){\n",
       "                            \n",
       "var gd = document.getElementById('4a7893f0-24db-4082-90c5-bcaa25d81d17');\n",
       "var x = new MutationObserver(function (mutations, observer) {{\n",
       "        var display = window.getComputedStyle(gd).display;\n",
       "        if (!display || display === 'none') {{\n",
       "            console.log([gd, 'removed!']);\n",
       "            Plotly.purge(gd);\n",
       "            observer.disconnect();\n",
       "        }}\n",
       "}});\n",
       "\n",
       "// Listen for the removal of the full notebook cells\n",
       "var notebookContainer = gd.closest('#notebook-container');\n",
       "if (notebookContainer) {{\n",
       "    x.observe(notebookContainer, {childList: true});\n",
       "}}\n",
       "\n",
       "// Listen for the clearing of the current output cell\n",
       "var outputEl = gd.closest('.output');\n",
       "if (outputEl) {{\n",
       "    x.observe(outputEl, {childList: true});\n",
       "}}\n",
       "\n",
       "                        })                };                });            </script>        </div>"
      ]
     },
     "metadata": {},
     "output_type": "display_data"
    },
    {
     "data": {
      "text/plain": [
       "<matplotlib.axes._subplots.AxesSubplot at 0x7f0d8aadbf10>"
      ]
     },
     "execution_count": 34,
     "metadata": {},
     "output_type": "execute_result"
    },
    {
     "data": {
      "image/png": "[encoded data removed]",
      "text/plain": [
       "<Figure size 432x288 with 1 Axes>"
      ]
     },
     "metadata": {
      "needs_background": "light"
     },
     "output_type": "display_data"
    }
   ],
   "source": [
    "o=ddb.groupby('analysis').analysis.count()\n",
    "neu=ddb[ddb['analysis']=='neutral'].ClearTweet.count()\n",
    "po=ddb[ddb['analysis']=='positive'].ClearTweet.count()\n",
    "neg=ddb[ddb['analysis']=='negative'].ClearTweet.count()\n",
    "\n",
    "fig = go.Figure(data=[go.Pie(labels=[\"positivity\",\"negativity\",\"neutrality\"], values=[po,neg,neu])])\n",
    "fig.update_layout(title_text='sentimat analysis of tweets (#Biden)')\n",
    "fig.show()\n",
    "o.plot(x='analysis',kind='bar',ylabel=\"counts\",title=\"sentimat analysis of tweets (#Biden)\")"
   ]
  },
  {
   "cell_type": "code",
   "execution_count": null,
   "metadata": {
    "papermill": {
     "duration": 0.071974,
     "end_time": "2020-11-05T16:21:06.232075",
     "exception": false,
     "start_time": "2020-11-05T16:21:06.160101",
     "status": "completed"
    },
    "tags": []
   },
   "outputs": [],
   "source": []
  }
 ],
 "metadata": {
  "kernelspec": {
   "display_name": "Python 3 (ipykernel)",
   "language": "python",
   "name": "python3"
  },
  "language_info": {
   "codemirror_mode": {
    "name": "ipython",
    "version": 3
   },
   "file_extension": ".py",
   "mimetype": "text/x-python",
   "name": "python",
   "nbconvert_exporter": "python",
   "pygments_lexer": "ipython3",
   "version": "3.11.3"
  },
  "papermill": {
   "duration": 104.716836,
   "end_time": "2020-11-05T16:21:06.415729",
   "environment_variables": {},
   "exception": null,
   "input_path": "__notebook__.ipynb",
   "output_path": "__notebook__.ipynb",
   "parameters": {},
   "start_time": "2020-11-05T16:19:21.698893",
   "version": "2.1.0"
  }
 },
 "nbformat": 4,
 "nbformat_minor": 4
}
