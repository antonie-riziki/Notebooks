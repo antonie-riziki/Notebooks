{
 "cells": [
  {
   "cell_type": "code",
   "execution_count": 1,
   "id": "b4ec959c-6b92-4bac-97ea-9bbe729cedf2",
   "metadata": {},
   "outputs": [],
   "source": [
    "import pandas as pd\n",
    "import re\n",
    "import string\n",
    "import unicodedata2\n",
    "import ftfy\n",
    "import json\n",
    "import random"
   ]
  },
  {
   "cell_type": "code",
   "execution_count": 2,
   "id": "8f81c07e-2c17-42c1-b809-ebbb6f1a1c35",
   "metadata": {},
   "outputs": [
    {
     "name": "stdout",
     "output_type": "stream",
     "text": [
      "THIS IS THE RESPONSE FROM YOUR TEXT\n",
      "Question: where can i go to find a support group \n",
      "Answer: many people find peer support a helpful tool that can aid in their recovery there are a variety of organizations that offer support groups for consumers their family members and friends some support groups are peerled while others may be led by a mental health professional\n",
      "\n",
      "THIS IS THE RESPONSE FROM YOUR TEXT\n",
      "Question: where can i go to find a support group \n",
      "Answer: many people find peer support a helpful tool that can aid in their recovery there are a variety of organizations that offer support groups for consumers their family members and friends some support groups are peerled while others may be led by a mental health professional\n",
      "\n"
     ]
    }
   ],
   "source": [
    "\n",
    "\n",
    "# Load the JSON data\n",
    "with open(\"D:\\MENS MENTAL WELLNESS\\Mental Health Conversational Data\\intents.json\", 'r', encoding='utf-8') as file:\n",
    "    data = json.load(file)\n",
    "\n",
    "\n",
    "def clean_text(text):\n",
    "    # text = unicodedata2.normalize('NFKD', text).encode('ascii', 'ignore').decode('utf-8')\n",
    "    text = ftfy.fix_text(text)\n",
    "    text = text.lower()\n",
    "    text = re.sub(r'\\[.*?\\]', '', text)\n",
    "    text = re.sub(r'https?://\\S+|www\\.\\S+', '', text)\n",
    "    text = re.sub(r'<.*?>+', '', text)\n",
    "    text = re.sub(r'[%s]' % re.escape(string.punctuation), '', text)\n",
    "    text = re.sub(r'\\n', '', text)\n",
    "    # text = re.sub(r'\\w*\\d\\w*', '', text)\n",
    "    text = re.sub(r'\\s+', ' ', text)\n",
    "    text = re.sub(r'[^\\w\\s]', '', text)\n",
    "    return text.strip()\n",
    "\n",
    "if isinstance(data, dict):\n",
    "    intents = data.get('intents', [])\n",
    "else:\n",
    "    intents = data\n",
    "\n",
    "rows = []\n",
    "for item in intents:\n",
    "    if isinstance(item, dict):\n",
    "        tag = item.get('tag')\n",
    "        patterns = item.get('patterns', [])\n",
    "        responses = item.get('responses', [])\n",
    "        for pattern in patterns:\n",
    "            for response in responses:\n",
    "                rows.append({'tag': tag, 'pattern': pattern, 'response': response})\n",
    "\n",
    "# Convert to DataFrame\n",
    "df = pd.DataFrame(rows)\n",
    "\n",
    "text = \"Where can I go to find a support group\"\n",
    "cleaned_input = clean_text(text)\n",
    "for i, intent in enumerate(data['intents']):\n",
    "    # cleaned_intent = clean_text(intent)\n",
    "    intent = intent.get(lambda x: clean_text(str(x)))\n",
    "    for j, pattern in enumerate(data['intents'][i]['patterns']):\n",
    "        cleaned_pattern = clean_text(pattern)\n",
    "        if cleaned_input.lower() in cleaned_pattern.lower():\n",
    "            print('THIS IS THE RESPONSE FROM YOUR TEXT')\n",
    "            print(f\"Question: {cleaned_input} \\nAnswer: {clean_text(random.choice(data['intents'][i]['responses']))}\")\n",
    "            print(\"\")"
   ]
  },
  {
   "cell_type": "code",
   "execution_count": 3,
   "id": "5a973537-442b-43df-a418-02245d9da01f",
   "metadata": {},
   "outputs": [],
   "source": [
    "from sklearn.model_selection import train_test_split\n",
    "from sklearn.feature_extraction.text import TfidfVectorizer\n",
    "from sklearn.svm import SVC"
   ]
  },
  {
   "cell_type": "code",
   "execution_count": 4,
   "id": "995d6591-b16a-45a0-b3e8-be8486827294",
   "metadata": {},
   "outputs": [
    {
     "data": {
      "text/html": [
       "<div>\n",
       "<style scoped>\n",
       "    .dataframe tbody tr th:only-of-type {\n",
       "        vertical-align: middle;\n",
       "    }\n",
       "\n",
       "    .dataframe tbody tr th {\n",
       "        vertical-align: top;\n",
       "    }\n",
       "\n",
       "    .dataframe thead th {\n",
       "        text-align: right;\n",
       "    }\n",
       "</style>\n",
       "<table border=\"1\" class=\"dataframe\">\n",
       "  <thead>\n",
       "    <tr style=\"text-align: right;\">\n",
       "      <th></th>\n",
       "      <th>tag</th>\n",
       "      <th>pattern</th>\n",
       "      <th>response</th>\n",
       "    </tr>\n",
       "  </thead>\n",
       "  <tbody>\n",
       "    <tr>\n",
       "      <th>0</th>\n",
       "      <td>greeting</td>\n",
       "      <td>Hi</td>\n",
       "      <td>Hello there. Tell me how are you feeling today?</td>\n",
       "    </tr>\n",
       "    <tr>\n",
       "      <th>1</th>\n",
       "      <td>greeting</td>\n",
       "      <td>Hi</td>\n",
       "      <td>Hi there. What brings you here today?</td>\n",
       "    </tr>\n",
       "    <tr>\n",
       "      <th>2</th>\n",
       "      <td>greeting</td>\n",
       "      <td>Hi</td>\n",
       "      <td>Hi there. How are you feeling today?</td>\n",
       "    </tr>\n",
       "    <tr>\n",
       "      <th>3</th>\n",
       "      <td>greeting</td>\n",
       "      <td>Hi</td>\n",
       "      <td>Great to see you. How do you feel currently?</td>\n",
       "    </tr>\n",
       "    <tr>\n",
       "      <th>4</th>\n",
       "      <td>greeting</td>\n",
       "      <td>Hi</td>\n",
       "      <td>Hello there. Glad to see you're back. What's g...</td>\n",
       "    </tr>\n",
       "  </tbody>\n",
       "</table>\n",
       "</div>"
      ],
      "text/plain": [
       "        tag pattern                                           response\n",
       "0  greeting      Hi    Hello there. Tell me how are you feeling today?\n",
       "1  greeting      Hi              Hi there. What brings you here today?\n",
       "2  greeting      Hi               Hi there. How are you feeling today?\n",
       "3  greeting      Hi       Great to see you. How do you feel currently?\n",
       "4  greeting      Hi  Hello there. Glad to see you're back. What's g..."
      ]
     },
     "execution_count": 4,
     "metadata": {},
     "output_type": "execute_result"
    }
   ],
   "source": [
    "df.head()"
   ]
  },
  {
   "cell_type": "code",
   "execution_count": 5,
   "id": "43c53948-1312-4bbc-92c6-c43c46368241",
   "metadata": {},
   "outputs": [],
   "source": [
    "x = df['pattern'] # input variables\n",
    "y = df['tag'] # target variable\n",
    "\n",
    "x_train, x_test, y_train, y_test = train_test_split(x, y, test_size=0.2, random_state=42)\n",
    "\n",
    "# vectorize the data using Tf IDF\n",
    "vectorizer = TfidfVectorizer()\n",
    "x_train_vect = vectorizer.fit_transform(x_train)\n",
    "x_test_vect = vectorizer.transform(x_test)\n",
    "\n",
    "# Train the model\n",
    "svc = SVC()\n",
    "svc.fit(x_train_vect, y_train)\n",
    "\n",
    "# predict the target variables\n",
    "y_pred = svc.predict(x_test_vect)"
   ]
  },
  {
   "cell_type": "code",
   "execution_count": 6,
   "id": "a8f9c493-c925-4741-98ba-265f754d50cb",
   "metadata": {},
   "outputs": [
    {
     "data": {
      "text/plain": [
       "array(['suicide', 'default', 'worthless', ..., 'default', 'suicide',\n",
       "       'hate-you'], dtype=object)"
      ]
     },
     "execution_count": 6,
     "metadata": {},
     "output_type": "execute_result"
    }
   ],
   "source": [
    "y_pred"
   ]
  },
  {
   "cell_type": "code",
   "execution_count": 7,
   "id": "f81cda12-bba2-45b2-b25b-7046c173cc60",
   "metadata": {},
   "outputs": [],
   "source": [
    "from sklearn.metrics import classification_report"
   ]
  },
  {
   "cell_type": "code",
   "execution_count": 8,
   "id": "2ca686fa-1e3c-4c3b-ba2c-a5ee51ee888c",
   "metadata": {},
   "outputs": [
    {
     "name": "stderr",
     "output_type": "stream",
     "text": [
      "C:\\Users\\antonie\\AppData\\Local\\Programs\\Python\\Python311\\Lib\\site-packages\\sklearn\\metrics\\_classification.py:1509: UndefinedMetricWarning: Recall is ill-defined and being set to 0.0 in labels with no true samples. Use `zero_division` parameter to control this behavior.\n",
      "  _warn_prf(average, modifier, f\"{metric.capitalize()} is\", len(result))\n",
      "C:\\Users\\antonie\\AppData\\Local\\Programs\\Python\\Python311\\Lib\\site-packages\\sklearn\\metrics\\_classification.py:1509: UndefinedMetricWarning: Recall is ill-defined and being set to 0.0 in labels with no true samples. Use `zero_division` parameter to control this behavior.\n",
      "  _warn_prf(average, modifier, f\"{metric.capitalize()} is\", len(result))\n"
     ]
    },
    {
     "name": "stdout",
     "output_type": "stream",
     "text": [
      "Classification Report: \n",
      "                     precision    recall  f1-score   support\n",
      "\n",
      "              about       0.85      0.93      0.89        84\n",
      "       affects_whom       1.00      1.00      1.00        13\n",
      "          afternoon       1.00      1.00      1.00        29\n",
      "            anxious       1.00      1.00      1.00      7286\n",
      "                ask       1.00      1.00      1.00      1106\n",
      "             casual       0.98      0.99      0.98       914\n",
      "           creation       1.00      0.97      0.99       240\n",
      "              death       1.00      1.00      1.00       999\n",
      "            default       1.00      1.00      1.00      5931\n",
      "         definition       1.00      0.83      0.91         6\n",
      "          depressed       1.00      1.00      1.00      2334\n",
      "               done       1.00      1.00      1.00     36021\n",
      "            evening       0.83      0.71      0.76        34\n",
      "             fact-1       1.00      1.00      1.00         1\n",
      "            fact-10       0.00      0.00      0.00         0\n",
      "            fact-18       0.00      0.00      0.00         0\n",
      "            fact-25       0.00      0.00      0.00         0\n",
      "            fact-26       1.00      1.00      1.00         1\n",
      "             fact-3       0.00      0.00      0.00         0\n",
      "            fact-32       1.00      1.00      1.00         1\n",
      "             fact-5       0.00      0.00      0.00         0\n",
      "             fact-6       1.00      1.00      1.00         2\n",
      "             fact-7       1.00      1.00      1.00         5\n",
      "             fact-8       0.00      0.00      0.00         0\n",
      "          find_help       1.00      1.00      1.00        13\n",
      "            friends       1.00      1.00      1.00       827\n",
      "            goodbye       1.00      0.96      0.98       121\n",
      "           greeting       0.94      1.00      0.97        76\n",
      "              happy       1.00      1.00      1.00      6421\n",
      "            hate-me       1.00      1.00      1.00       639\n",
      "           hate-you       1.00      1.00      1.00     21611\n",
      "               help       0.97      1.00      0.98       167\n",
      "              jokes       1.00      1.00      1.00      6784\n",
      "learn-mental-health       1.00      0.97      0.98       336\n",
      "         learn-more       0.98      1.00      0.99       415\n",
      "           location       1.00      1.00      1.00      1256\n",
      "         meditation       1.00      1.00      1.00       525\n",
      " mental-health-fact       0.96      1.00      0.98       251\n",
      "            morning       1.00      1.00      1.00        14\n",
      "               name       1.00      1.00      1.00        38\n",
      "   neutral-response       1.00      1.00      1.00        57\n",
      "              night       0.57      0.72      0.63        18\n",
      "        no-approach       0.97      1.00      0.99       670\n",
      "        no-response       0.00      0.00      0.00         0\n",
      "        not-talking       1.00      1.00      1.00      7286\n",
      "     pandora-useful       1.00      1.00      1.00       274\n",
      "            problem       1.00      1.00      1.00      8061\n",
      " professional_types       1.00      1.00      1.00        14\n",
      "            recover       1.00      1.00      1.00        14\n",
      "             repeat       1.00      1.00      1.00       798\n",
      " right_professional       1.00      0.85      0.92        13\n",
      "                sad       0.88      1.00      0.93       237\n",
      "             scared       1.00      1.00      1.00         4\n",
      "              skill       0.95      0.93      0.94       123\n",
      "              sleep       1.00      1.00      1.00     25540\n",
      "     something-else       0.99      1.00      1.00      3630\n",
      "              steps       1.00      1.00      1.00         9\n",
      "           stressed       1.00      0.97      0.98       624\n",
      "             stupid       1.00      1.00      1.00      2243\n",
      "            suicide       1.00      1.00      1.00      4851\n",
      "             thanks       1.00      1.00      1.00        61\n",
      "  treatment_options       1.00      1.00      1.00        13\n",
      "     treatment_tips       1.00      1.00      1.00        11\n",
      "         understand       0.97      0.99      0.98      1023\n",
      "        user-advice       1.00      0.98      0.99       352\n",
      "         user-agree       1.00      1.00      1.00       368\n",
      "    user-meditation       1.00      1.00      1.00      2143\n",
      "        what_causes       1.00      0.86      0.92         7\n",
      "          worthless       1.00      1.00      1.00     17913\n",
      "              wrong       1.00      1.00      1.00      2268\n",
      "\n",
      "           accuracy                           1.00    173126\n",
      "          macro avg       0.88      0.88      0.88    173126\n",
      "       weighted avg       1.00      1.00      1.00    173126\n",
      "\n"
     ]
    },
    {
     "name": "stderr",
     "output_type": "stream",
     "text": [
      "C:\\Users\\antonie\\AppData\\Local\\Programs\\Python\\Python311\\Lib\\site-packages\\sklearn\\metrics\\_classification.py:1509: UndefinedMetricWarning: Recall is ill-defined and being set to 0.0 in labels with no true samples. Use `zero_division` parameter to control this behavior.\n",
      "  _warn_prf(average, modifier, f\"{metric.capitalize()} is\", len(result))\n"
     ]
    }
   ],
   "source": [
    "print(f'Classification Report: \\n{classification_report(y_pred, y_test)}')"
   ]
  },
  {
   "cell_type": "code",
   "execution_count": null,
   "id": "bfe454ba-f207-4ae0-8882-488261b38653",
   "metadata": {},
   "outputs": [],
   "source": []
  },
  {
   "cell_type": "code",
   "execution_count": null,
   "id": "17848248-4d23-4df8-99ae-5c363c8470e4",
   "metadata": {},
   "outputs": [],
   "source": []
  },
  {
   "cell_type": "code",
   "execution_count": null,
   "id": "aa19dbd2-a6df-4a6b-9e58-50757a381382",
   "metadata": {},
   "outputs": [],
   "source": [
    "x = df['pattern'] # input variables\n",
    "y = df['response'] # target variable\n",
    "\n",
    "x_train, x_test, y_train, y_test = train_test_split(x, y, test_size=0.2, random_state=42)\n",
    "\n",
    "# vectorize the data using Tf IDF\n",
    "vectorizer = TfidfVectorizer()\n",
    "x_train_vect = vectorizer.fit_transform(x_train)\n",
    "x_test_vect = vectorizer.transform(x_test)\n",
    "\n",
    "# Train the model\n",
    "svc = SVC()\n",
    "svc.fit(x_train_vect, y_train)\n",
    "\n",
    "# predict the target variables\n",
    "y_pred = svc.predict(x_test_vect)"
   ]
  },
  {
   "cell_type": "code",
   "execution_count": 1,
   "id": "da34a563-92f4-4fd0-879d-9e7f1dfde357",
   "metadata": {},
   "outputs": [],
   "source": [
    "from datetime import datetime"
   ]
  },
  {
   "cell_type": "code",
   "execution_count": 3,
   "id": "027d1742-1be5-4e73-a688-67254a9e5e1c",
   "metadata": {},
   "outputs": [
    {
     "data": {
      "text/plain": [
       "datetime.date(2024, 8, 19)"
      ]
     },
     "execution_count": 3,
     "metadata": {},
     "output_type": "execute_result"
    }
   ],
   "source": [
    "datetime.today().date()"
   ]
  },
  {
   "cell_type": "code",
   "execution_count": 4,
   "id": "6d250639-1e55-49db-8663-5c52cee51e9e",
   "metadata": {},
   "outputs": [],
   "source": [
    "import random"
   ]
  },
  {
   "cell_type": "code",
   "execution_count": 7,
   "id": "dd670bbb-090f-4de9-98bb-ebdc45d4beab",
   "metadata": {},
   "outputs": [],
   "source": [
    "mental_query = ['Mental Health', 'Wellness', 'Mindfulness', 'Mental Well-being', 'Mental Health Awareness', 'Mental Illness',\n",
    "                    'Depression', 'Anxiety', 'Therapy', 'Psychotherapy', 'Counseling', 'Mental Health Treatment', 'Mental Health Support']\n"
   ]
  },
  {
   "cell_type": "code",
   "execution_count": 25,
   "id": "09f96ec4-0cf9-4d9f-a30d-8a3410e828ca",
   "metadata": {},
   "outputs": [
    {
     "data": {
      "text/plain": [
       "['Depression', 'Psychotherapy', 'Wellness']"
      ]
     },
     "execution_count": 25,
     "metadata": {},
     "output_type": "execute_result"
    }
   ],
   "source": [
    "random.choices([i for i in mental_query], k=3)\n"
   ]
  },
  {
   "cell_type": "code",
   "execution_count": null,
   "id": "43a54bd8-8637-475f-b53e-b7f493efa809",
   "metadata": {},
   "outputs": [],
   "source": []
  },
  {
   "cell_type": "code",
   "execution_count": null,
   "id": "55e1af0e-b40c-4a36-b95d-3ea761b40a9a",
   "metadata": {},
   "outputs": [],
   "source": []
  }
 ],
 "metadata": {
  "kernelspec": {
   "display_name": "Python 3 (ipykernel)",
   "language": "python",
   "name": "python3"
  },
  "language_info": {
   "codemirror_mode": {
    "name": "ipython",
    "version": 3
   },
   "file_extension": ".py",
   "mimetype": "text/x-python",
   "name": "python",
   "nbconvert_exporter": "python",
   "pygments_lexer": "ipython3",
   "version": "3.11.3"
  }
 },
 "nbformat": 4,
 "nbformat_minor": 5
}
