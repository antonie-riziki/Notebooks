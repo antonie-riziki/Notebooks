{
 "cells": [
  {
   "cell_type": "code",
   "execution_count": 1,
   "metadata": {},
   "outputs": [],
   "source": [
    "import pandas as pd"
   ]
  },
  {
   "cell_type": "code",
   "execution_count": 2,
   "metadata": {},
   "outputs": [],
   "source": [
    "df = pd.read_html(\"https://www.canada.ca/en/immigration-refugees-citizenship/corporate/mandate/policies-operational-instructions-agreements/ministerial-instructions/express-entry-rounds.html\")\n",
    "df\n",
    "cols = [\"ind\", \"date\", \"immigration_prog\", \"invitations_issued\", \"CRS score of lowest-ranked candidate invited Date (hidden)\"]\n",
    "for i in df:\n",
    "    new_df = pd.DataFrame(i)\n",
    "    \n",
    "new_df.head()\n",
    "new_df.to_csv(\"D:\\Open Classroom\\Data Files\\Canadian Immigration\\Canadian_Immigration.csv\")"
   ]
  },
  {
   "cell_type": "code",
   "execution_count": 6,
   "metadata": {},
   "outputs": [
    {
     "data": {
      "text/html": [
       "<div>\n",
       "<style scoped>\n",
       "    .dataframe tbody tr th:only-of-type {\n",
       "        vertical-align: middle;\n",
       "    }\n",
       "\n",
       "    .dataframe tbody tr th {\n",
       "        vertical-align: top;\n",
       "    }\n",
       "\n",
       "    .dataframe thead th {\n",
       "        text-align: right;\n",
       "    }\n",
       "</style>\n",
       "<table border=\"1\" class=\"dataframe\">\n",
       "  <thead>\n",
       "    <tr style=\"text-align: right;\">\n",
       "      <th></th>\n",
       "      <th>#</th>\n",
       "      <th>Date</th>\n",
       "      <th>Immigration program</th>\n",
       "      <th>Invitations issued</th>\n",
       "      <th>CRS score of lowest-ranked candidate invited</th>\n",
       "      <th>Date (hidden)</th>\n",
       "      <th>Programs covered</th>\n",
       "    </tr>\n",
       "  </thead>\n",
       "  <tbody>\n",
       "    <tr>\n",
       "      <th>0</th>\n",
       "      <td>179</td>\n",
       "      <td>March 18, 2021</td>\n",
       "      <td>Canadian Experience Class</td>\n",
       "      <td>5000</td>\n",
       "      <td>449</td>\n",
       "      <td>18-03-2021</td>\n",
       "      <td>Canadian Experience Class</td>\n",
       "    </tr>\n",
       "    <tr>\n",
       "      <th>1</th>\n",
       "      <td>178</td>\n",
       "      <td>March 17, 2021</td>\n",
       "      <td>Provincial Nominee Program</td>\n",
       "      <td>183</td>\n",
       "      <td>682</td>\n",
       "      <td>17-03-2021</td>\n",
       "      <td>Provincial Nominee Program</td>\n",
       "    </tr>\n",
       "    <tr>\n",
       "      <th>2</th>\n",
       "      <td>177</td>\n",
       "      <td>March 08, 2021</td>\n",
       "      <td>Provincial Nominee Program</td>\n",
       "      <td>671</td>\n",
       "      <td>739</td>\n",
       "      <td>08-03-2021</td>\n",
       "      <td>Provincial Nominee Program</td>\n",
       "    </tr>\n",
       "    <tr>\n",
       "      <th>3</th>\n",
       "      <td>176</td>\n",
       "      <td>February 13, 2021</td>\n",
       "      <td>Canadian Experience Class</td>\n",
       "      <td>27332</td>\n",
       "      <td>75</td>\n",
       "      <td>13-02-2021</td>\n",
       "      <td>Canadian Experience Class</td>\n",
       "    </tr>\n",
       "    <tr>\n",
       "      <th>4</th>\n",
       "      <td>175</td>\n",
       "      <td>February 10, 2021</td>\n",
       "      <td>Provincial Nominee Program</td>\n",
       "      <td>654</td>\n",
       "      <td>720</td>\n",
       "      <td>10-02-2021</td>\n",
       "      <td>Provincial Nominee Program</td>\n",
       "    </tr>\n",
       "  </tbody>\n",
       "</table>\n",
       "</div>"
      ],
      "text/plain": [
       "     #               Date         Immigration program  Invitations issued  \\\n",
       "0  179     March 18, 2021   Canadian Experience Class                5000   \n",
       "1  178     March 17, 2021  Provincial Nominee Program                 183   \n",
       "2  177     March 08, 2021  Provincial Nominee Program                 671   \n",
       "3  176  February 13, 2021   Canadian Experience Class               27332   \n",
       "4  175  February 10, 2021  Provincial Nominee Program                 654   \n",
       "\n",
       "   CRS score of lowest-ranked candidate invited Date (hidden)  \\\n",
       "0                                           449    18-03-2021   \n",
       "1                                           682    17-03-2021   \n",
       "2                                           739    08-03-2021   \n",
       "3                                            75    13-02-2021   \n",
       "4                                           720    10-02-2021   \n",
       "\n",
       "             Programs covered  \n",
       "0   Canadian Experience Class  \n",
       "1  Provincial Nominee Program  \n",
       "2  Provincial Nominee Program  \n",
       "3   Canadian Experience Class  \n",
       "4  Provincial Nominee Program  "
      ]
     },
     "execution_count": 6,
     "metadata": {},
     "output_type": "execute_result"
    }
   ],
   "source": [
    "new_df.head()"
   ]
  },
  {
   "cell_type": "code",
   "execution_count": null,
   "metadata": {},
   "outputs": [],
   "source": []
  }
 ],
 "metadata": {
  "kernelspec": {
   "display_name": "Python 3",
   "language": "python",
   "name": "python3"
  },
  "language_info": {
   "codemirror_mode": {
    "name": "ipython",
    "version": 3
   },
   "file_extension": ".py",
   "mimetype": "text/x-python",
   "name": "python",
   "nbconvert_exporter": "python",
   "pygments_lexer": "ipython3",
   "version": "3.8.1"
  }
 },
 "nbformat": 4,
 "nbformat_minor": 4
}
